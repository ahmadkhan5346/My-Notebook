{
 "cells": [
  {
   "cell_type": "markdown",
   "id": "ae0ba408",
   "metadata": {},
   "source": [
    "### 1. File Handling in Python Assignment|Find Number of characters,words and lines in File"
   ]
  },
  {
   "cell_type": "code",
   "execution_count": 4,
   "id": "ec6acf83",
   "metadata": {},
   "outputs": [
    {
     "name": "stdout",
     "output_type": "stream",
     "text": [
      "number of words: 6\n",
      "number of characters: 35\n",
      "number of lines: 3\n"
     ]
    }
   ],
   "source": [
    "f = open('data.txt', 'r')\n",
    "number_of_words = 0\n",
    "number_of_chars = 0\n",
    "number_of_lines = 0\n",
    "for line in f:\n",
    "    number_of_lines += 1\n",
    "    number_of_chars += len(line.strip('\\n'))\n",
    "    number_of_words += len(line.split())\n",
    "f.close()\n",
    "print(f\"number of words: {number_of_words}\")\n",
    "print(f\"number of characters: {number_of_chars}\")\n",
    "print(f\"number of lines: {number_of_lines}\")"
   ]
  },
  {
   "cell_type": "code",
   "execution_count": 2,
   "id": "a40c575b",
   "metadata": {},
   "outputs": [
    {
     "name": "stdout",
     "output_type": "stream",
     "text": [
      "number of words: 6\n",
      "number of characters: 35\n",
      "number of lines: 3\n"
     ]
    }
   ],
   "source": [
    "f = open('data.txt', 'r')\n",
    "number_of_words = 0\n",
    "number_of_chars = 0\n",
    "number_of_lines = 0\n",
    "for line in f:\n",
    "    number_of_lines += 1\n",
    "    line = line.strip(\"\\n\")\n",
    "    number_of_chars += len(line)\n",
    "    list1 = line.split()\n",
    "    number_of_words += len(list1)\n",
    "f.close()\n",
    "print(f\"number of words: {number_of_words}\")\n",
    "print(f\"number of characters: {number_of_chars}\")\n",
    "print(f\"number of lines: {number_of_lines}\")"
   ]
  },
  {
   "cell_type": "markdown",
   "id": "3817a02a",
   "metadata": {},
   "source": [
    "### 2. Python Program For Checking Twin Prime Numbers"
   ]
  },
  {
   "cell_type": "code",
   "execution_count": 14,
   "id": "8223e042",
   "metadata": {},
   "outputs": [
    {
     "name": "stdout",
     "output_type": "stream",
     "text": [
      "Enter First Number:1\n",
      "Enter Second Number:1\n",
      "1 and 1 are not prime number\n"
     ]
    }
   ],
   "source": [
    "num1 = int(input(\"Enter First Number:\"))\n",
    "num2 = int(input(\"Enter Second Number:\"))\n",
    "def IsPrime(num):\n",
    "    if num <= 1:\n",
    "        return False\n",
    "    for i in range(2, num):\n",
    "        if num % i==0:\n",
    "            return False\n",
    "    return True\n",
    "        \n",
    "if IsPrime(num1) and IsPrime(num2):\n",
    "    if abs(num1-num2) == 2:\n",
    "        print(f\"{num1} and {num2} are twin prime numbers\")\n",
    "    else:\n",
    "        print(f\"{num1} and {num2} are not twin prime numbers\")\n",
    "else:\n",
    "    print(f\"{num1} and {num2} are not prime number\")"
   ]
  },
  {
   "cell_type": "markdown",
   "id": "b81cac04",
   "metadata": {},
   "source": [
    "### 3. how to get element in nested dictionary"
   ]
  },
  {
   "cell_type": "code",
   "execution_count": 19,
   "id": "144ef4df",
   "metadata": {},
   "outputs": [
    {
     "name": "stdout",
     "output_type": "stream",
     "text": [
      " Sarfraz has got 74.2 %\n",
      " Junaid has got 82.4 %\n",
      " Arfan has got 84.8 %\n",
      " Ashraf has got 86.2 %\n"
     ]
    }
   ],
   "source": [
    "student_data = {\n",
    "    \"Sarfraz\":{\"details\":{\"roll\":101, \"marks\":[80, 65, 80, 75, 71]}},\n",
    "    \"Junaid\":{\"details\":{\"roll\":102, \"marks\":[95, 85, 81, 79, 72]}},\n",
    "    \"Arfan\":{\"details\":{\"roll\":103, \"marks\":[80, 83, 89, 85, 87]}},\n",
    "    \"Ashraf\":{\"details\":{\"roll\":104, \"marks\":[92, 85, 81, 94, 79]}}\n",
    "}\n",
    "\n",
    "for student in student_data:\n",
    "    len1 = len(student_data[student][\"details\"][\"marks\"])\n",
    "    percentage = sum(student_data[student][\"details\"][\"marks\"])/len1\n",
    "    print(f\" {student} has got {percentage} %\")\n",
    "    "
   ]
  },
  {
   "cell_type": "markdown",
   "id": "a0fc3b31",
   "metadata": {},
   "source": [
    "### 4. Converting String in Lowercase Without Using String Method\n",
    "- ord() function is used to get acci value of any caracters\n",
    "- chr() function is used to get a characters of any acci value"
   ]
  },
  {
   "cell_type": "code",
   "execution_count": 9,
   "id": "f6df275b",
   "metadata": {},
   "outputs": [
    {
     "name": "stdout",
     "output_type": "stream",
     "text": [
      "65 90\n",
      "97 122\n"
     ]
    }
   ],
   "source": [
    "print(ord('A'),ord('Z'))\n",
    "print(ord('a'),ord('z'))"
   ]
  },
  {
   "cell_type": "code",
   "execution_count": 10,
   "id": "1b2fa063",
   "metadata": {},
   "outputs": [
    {
     "name": "stdout",
     "output_type": "stream",
     "text": [
      "Enter the String:-SARFRAz\n",
      "convert upper to lower case in string: sarfraz\n"
     ]
    }
   ],
   "source": [
    "def convert_string(str1):\n",
    "    upper_str = \"\"\n",
    "    for char in str1:\n",
    "        asci = ord(char)\n",
    "        if asci > 64 and asci < 91:\n",
    "            upper_str += chr(asci+32)\n",
    "        else:\n",
    "            upper_str += chr(asci)\n",
    "    return upper_str\n",
    "str1 = input(\"Enter the String:-\")\n",
    "a=convert_string(str1)\n",
    "print(\"convert upper to lower case in string:\",a)\n"
   ]
  },
  {
   "cell_type": "markdown",
   "id": "aa74620e",
   "metadata": {},
   "source": [
    "### 5. advertise shifting"
   ]
  },
  {
   "cell_type": "code",
   "execution_count": 84,
   "id": "37c2a790",
   "metadata": {},
   "outputs": [
    {
     "name": "stdout",
     "output_type": "stream",
     "text": [
      "bin1 110010\n",
      "bin2 001101\n",
      "output 13\n"
     ]
    }
   ],
   "source": [
    "def changeads(num):\n",
    "    b = bin(num)\n",
    "    binary1 = b[2:len(b)]\n",
    "    binary2 = \"\"\n",
    "    for bit in binary1:\n",
    "        if bit == \"1\":\n",
    "            binary2 += \"0\"\n",
    "        else:\n",
    "            binary2 += \"1\"\n",
    "    print('bin1',binary1)\n",
    "    print('bin2', binary2)\n",
    "    sum1 = 0\n",
    "    for i in range(len(binary2)):\n",
    "        sum1 = sum1+(int(binary2[i])*(2**(len(binary2)-(i+1))))\n",
    "    return sum1\n",
    "print('output', changeads(50))"
   ]
  },
  {
   "cell_type": "code",
   "execution_count": 1,
   "id": "25ce602d",
   "metadata": {},
   "outputs": [
    {
     "name": "stdout",
     "output_type": "stream",
     "text": [
      "10\n"
     ]
    }
   ],
   "source": [
    "def binary(binary):\n",
    "    sum1 = 0\n",
    "    for i in range(len(binary)):\n",
    "        sum1 = sum1+(int(binary[i])*(2**(len(binary)-(i+1))))\n",
    "    return sum1\n",
    "    \n",
    "print(binary('1010'))"
   ]
  },
  {
   "cell_type": "markdown",
   "id": "23a98a5b",
   "metadata": {},
   "source": [
    "### 6. Write a program for finding pair of highest product."
   ]
  },
  {
   "cell_type": "code",
   "execution_count": 26,
   "id": "c635f0dd",
   "metadata": {},
   "outputs": [
    {
     "name": "stdout",
     "output_type": "stream",
     "text": [
      "Enter array:1,3,5,7,9,8\n",
      "maximum product pair is (9, 8)\n"
     ]
    }
   ],
   "source": [
    "def max_product(arr):\n",
    "    a_len=len(arr)\n",
    "    if a_len<2:\n",
    "        print(\"No such pair exit\")\n",
    "        return\n",
    "    a=arr[0]\n",
    "    b=arr[1]\n",
    "    for i in range(len(arr)):\n",
    "        for j in range(i+1, len(arr)):\n",
    "            if arr[i]*arr[j]>a*b:\n",
    "                a=arr[i]\n",
    "                b=arr[j]\n",
    "    return a,b\n",
    "\n",
    "arr=eval(input(\"Enter array:\"))\n",
    "print(\"maximum product pair is\",max_product(arr))"
   ]
  },
  {
   "cell_type": "code",
   "execution_count": null,
   "id": "0ba63a98",
   "metadata": {},
   "outputs": [],
   "source": []
  }
 ],
 "metadata": {
  "kernelspec": {
   "display_name": "Python 3 (ipykernel)",
   "language": "python",
   "name": "python3"
  },
  "language_info": {
   "codemirror_mode": {
    "name": "ipython",
    "version": 3
   },
   "file_extension": ".py",
   "mimetype": "text/x-python",
   "name": "python",
   "nbconvert_exporter": "python",
   "pygments_lexer": "ipython3",
   "version": "3.10.4"
  }
 },
 "nbformat": 4,
 "nbformat_minor": 5
}
