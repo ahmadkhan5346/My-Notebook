{
 "cells": [
  {
   "cell_type": "markdown",
   "id": "ae0ba408",
   "metadata": {},
   "source": [
    "### File Handling in Python Assignment|Find Number of characters,words and lines in File"
   ]
  },
  {
   "cell_type": "code",
   "execution_count": 4,
   "id": "ec6acf83",
   "metadata": {},
   "outputs": [
    {
     "name": "stdout",
     "output_type": "stream",
     "text": [
      "number of words: 6\n",
      "number of characters: 35\n",
      "number of lines: 3\n"
     ]
    }
   ],
   "source": [
    "f = open('data.txt', 'r')\n",
    "number_of_words = 0\n",
    "number_of_chars = 0\n",
    "number_of_lines = 0\n",
    "for line in f:\n",
    "    number_of_lines += 1\n",
    "    number_of_chars += len(line.strip('\\n'))\n",
    "    number_of_words += len(line.split())\n",
    "f.close()\n",
    "print(f\"number of words: {number_of_words}\")\n",
    "print(f\"number of characters: {number_of_chars}\")\n",
    "print(f\"number of lines: {number_of_lines}\")"
   ]
  },
  {
   "cell_type": "code",
   "execution_count": 2,
   "id": "a40c575b",
   "metadata": {},
   "outputs": [
    {
     "name": "stdout",
     "output_type": "stream",
     "text": [
      "number of words: 6\n",
      "number of characters: 35\n",
      "number of lines: 3\n"
     ]
    }
   ],
   "source": [
    "f = open('data.txt', 'r')\n",
    "number_of_words = 0\n",
    "number_of_chars = 0\n",
    "number_of_lines = 0\n",
    "for line in f:\n",
    "    number_of_lines += 1\n",
    "    line = line.strip(\"\\n\")\n",
    "    number_of_chars += len(line)\n",
    "    list1 = line.split()\n",
    "    number_of_words += len(list1)\n",
    "f.close()\n",
    "print(f\"number of words: {number_of_words}\")\n",
    "print(f\"number of characters: {number_of_chars}\")\n",
    "print(f\"number of lines: {number_of_lines}\")"
   ]
  },
  {
   "cell_type": "code",
   "execution_count": null,
   "id": "2aaa5bab",
   "metadata": {},
   "outputs": [],
   "source": []
  }
 ],
 "metadata": {
  "kernelspec": {
   "display_name": "Python 3 (ipykernel)",
   "language": "python",
   "name": "python3"
  },
  "language_info": {
   "codemirror_mode": {
    "name": "ipython",
    "version": 3
   },
   "file_extension": ".py",
   "mimetype": "text/x-python",
   "name": "python",
   "nbconvert_exporter": "python",
   "pygments_lexer": "ipython3",
   "version": "3.10.4"
  }
 },
 "nbformat": 4,
 "nbformat_minor": 5
}
