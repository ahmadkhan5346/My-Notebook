{
 "cells": [
  {
   "cell_type": "markdown",
   "id": "ae0ba408",
   "metadata": {},
   "source": [
    "### 1. File Handling in Python Assignment|Find Number of characters,words and lines in File"
   ]
  },
  {
   "cell_type": "code",
   "execution_count": 4,
   "id": "ec6acf83",
   "metadata": {},
   "outputs": [
    {
     "name": "stdout",
     "output_type": "stream",
     "text": [
      "number of words: 6\n",
      "number of characters: 35\n",
      "number of lines: 3\n"
     ]
    }
   ],
   "source": [
    "f = open('data.txt', 'r')\n",
    "number_of_words = 0\n",
    "number_of_chars = 0\n",
    "number_of_lines = 0\n",
    "for line in f:\n",
    "    number_of_lines += 1\n",
    "    number_of_chars += len(line.strip('\\n'))\n",
    "    number_of_words += len(line.split())\n",
    "f.close()\n",
    "print(f\"number of words: {number_of_words}\")\n",
    "print(f\"number of characters: {number_of_chars}\")\n",
    "print(f\"number of lines: {number_of_lines}\")"
   ]
  },
  {
   "cell_type": "code",
   "execution_count": 2,
   "id": "a40c575b",
   "metadata": {},
   "outputs": [
    {
     "name": "stdout",
     "output_type": "stream",
     "text": [
      "number of words: 6\n",
      "number of characters: 35\n",
      "number of lines: 3\n"
     ]
    }
   ],
   "source": [
    "f = open('data.txt', 'r')\n",
    "number_of_words = 0\n",
    "number_of_chars = 0\n",
    "number_of_lines = 0\n",
    "for line in f:\n",
    "    number_of_lines += 1\n",
    "    line = line.strip(\"\\n\")\n",
    "    number_of_chars += len(line)\n",
    "    list1 = line.split()\n",
    "    number_of_words += len(list1)\n",
    "f.close()\n",
    "print(f\"number of words: {number_of_words}\")\n",
    "print(f\"number of characters: {number_of_chars}\")\n",
    "print(f\"number of lines: {number_of_lines}\")"
   ]
  },
  {
   "cell_type": "markdown",
   "id": "3817a02a",
   "metadata": {},
   "source": [
    "### 2. Python Program For Checking Twin Prime Numbers"
   ]
  },
  {
   "cell_type": "code",
   "execution_count": 14,
   "id": "8223e042",
   "metadata": {},
   "outputs": [
    {
     "name": "stdout",
     "output_type": "stream",
     "text": [
      "Enter First Number:1\n",
      "Enter Second Number:1\n",
      "1 and 1 are not prime number\n"
     ]
    }
   ],
   "source": [
    "num1 = int(input(\"Enter First Number:\"))\n",
    "num2 = int(input(\"Enter Second Number:\"))\n",
    "def IsPrime(num):\n",
    "    if num <= 1:\n",
    "        return False\n",
    "    for i in range(2, num):\n",
    "        if num % i==0:\n",
    "            return False\n",
    "    return True\n",
    "        \n",
    "if IsPrime(num1) and IsPrime(num2):\n",
    "    if abs(num1-num2) == 2:\n",
    "        print(f\"{num1} and {num2} are twin prime numbers\")\n",
    "    else:\n",
    "        print(f\"{num1} and {num2} are not twin prime numbers\")\n",
    "else:\n",
    "    print(f\"{num1} and {num2} are not prime number\")"
   ]
  },
  {
   "cell_type": "markdown",
   "id": "b81cac04",
   "metadata": {},
   "source": [
    "### 3. how to get element in nested dictionary"
   ]
  },
  {
   "cell_type": "code",
   "execution_count": 19,
   "id": "144ef4df",
   "metadata": {},
   "outputs": [
    {
     "name": "stdout",
     "output_type": "stream",
     "text": [
      " Sarfraz has got 74.2 %\n",
      " Junaid has got 82.4 %\n",
      " Arfan has got 84.8 %\n",
      " Ashraf has got 86.2 %\n"
     ]
    }
   ],
   "source": [
    "student_data = {\n",
    "    \"Sarfraz\":{\"details\":{\"roll\":101, \"marks\":[80, 65, 80, 75, 71]}},\n",
    "    \"Junaid\":{\"details\":{\"roll\":102, \"marks\":[95, 85, 81, 79, 72]}},\n",
    "    \"Arfan\":{\"details\":{\"roll\":103, \"marks\":[80, 83, 89, 85, 87]}},\n",
    "    \"Ashraf\":{\"details\":{\"roll\":104, \"marks\":[92, 85, 81, 94, 79]}}\n",
    "}\n",
    "\n",
    "for student in student_data:\n",
    "    len1 = len(student_data[student][\"details\"][\"marks\"])\n",
    "    percentage = sum(student_data[student][\"details\"][\"marks\"])/len1\n",
    "    print(f\" {student} has got {percentage} %\")\n",
    "    "
   ]
  },
  {
   "cell_type": "code",
   "execution_count": 3,
   "id": "4612584d",
   "metadata": {},
   "outputs": [
    {
     "name": "stdout",
     "output_type": "stream",
     "text": [
      "a,b,c\n"
     ]
    }
   ],
   "source": [
    "list1 = [\"a\",\"b\",\"c\"]\n",
    "print(\",\".join(list1))"
   ]
  },
  {
   "cell_type": "code",
   "execution_count": 12,
   "id": "4bcccfa7",
   "metadata": {},
   "outputs": [
    {
     "name": "stdout",
     "output_type": "stream",
     "text": [
      "['a', 'b', 'c']\n"
     ]
    }
   ],
   "source": [
    "str1=\"abc\"\n",
    "str2 =''.join(str1)\n",
    "print(list(str2))"
   ]
  },
  {
   "cell_type": "code",
   "execution_count": 8,
   "id": "f9c9e18a",
   "metadata": {},
   "outputs": [
    {
     "name": "stdout",
     "output_type": "stream",
     "text": [
      "['a', 'b', 'c']\n"
     ]
    }
   ],
   "source": [
    "list1='abc'\n",
    "print(list(list1))"
   ]
  },
  {
   "cell_type": "code",
   "execution_count": null,
   "id": "826d6a8d",
   "metadata": {},
   "outputs": [],
   "source": []
  }
 ],
 "metadata": {
  "kernelspec": {
   "display_name": "Python 3 (ipykernel)",
   "language": "python",
   "name": "python3"
  },
  "language_info": {
   "codemirror_mode": {
    "name": "ipython",
    "version": 3
   },
   "file_extension": ".py",
   "mimetype": "text/x-python",
   "name": "python",
   "nbconvert_exporter": "python",
   "pygments_lexer": "ipython3",
   "version": "3.10.4"
  }
 },
 "nbformat": 4,
 "nbformat_minor": 5
}
