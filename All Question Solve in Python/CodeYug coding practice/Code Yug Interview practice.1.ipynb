{
 "cells": [
  {
   "cell_type": "markdown",
   "id": "11117ac9",
   "metadata": {},
   "source": [
    "### write a python program to reverse internal content of each word.\n",
    "input :- \"python is easy\" ------------ output :- \"nohtyp si ysae\""
   ]
  },
  {
   "cell_type": "code",
   "execution_count": 1,
   "id": "419fd24b",
   "metadata": {
    "scrolled": true
   },
   "outputs": [
    {
     "name": "stdout",
     "output_type": "stream",
     "text": [
      "Enter string:-python is easy\n",
      "['python', 'is', 'easy']\n",
      "['nohtyp', 'si', 'ysae']\n",
      "nohtyp si ysae\n"
     ]
    }
   ],
   "source": [
    "str1 = input(\"Enter string:-\")\n",
    "# str1 = (\"python is easy\")\n",
    "lst1 = str1.split()\n",
    "print(lst1)\n",
    "\n",
    "lst2 = []\n",
    "for word in lst1:\n",
    "    lst2.append(word[::-1])\n",
    "print(lst2)\n",
    "\n",
    "output = ' '.join(lst2)\n",
    "print(output)"
   ]
  },
  {
   "cell_type": "markdown",
   "id": "3fa9026d",
   "metadata": {},
   "source": [
    "### write a python program to print duplicates present in list."
   ]
  },
  {
   "cell_type": "code",
   "execution_count": 2,
   "id": "4e5a21dc",
   "metadata": {},
   "outputs": [
    {
     "name": "stdout",
     "output_type": "stream",
     "text": [
      "[20, 40]\n"
     ]
    }
   ],
   "source": [
    "l = ['hello', 10, 20, 40, 20, 60, 40, 30]\n",
    "d = []\n",
    "for item in l:\n",
    "    if l.count(item)>1 and item not in d:\n",
    "        d.append(item)\n",
    "print(d)"
   ]
  },
  {
   "cell_type": "code",
   "execution_count": 3,
   "id": "07316c74",
   "metadata": {},
   "outputs": [
    {
     "name": "stdout",
     "output_type": "stream",
     "text": [
      "[]\n",
      "[]\n",
      "[]\n",
      "[]\n",
      "[]\n",
      "[]\n",
      "[]\n",
      "[]\n",
      "[]\n",
      "[]\n",
      "[]\n",
      "[]\n",
      "[]\n",
      "[]\n",
      "[20]\n",
      "[20]\n",
      "[20]\n",
      "[20]\n",
      "[20]\n",
      "[20]\n",
      "[20, 40]\n",
      "[20, 40]\n",
      "[20, 40]\n",
      "[20, 40]\n",
      "[20, 40]\n",
      "[20, 40]\n",
      "[20, 40]\n",
      "[20, 40]\n"
     ]
    }
   ],
   "source": [
    "l = ['hello', 10, 20, 40, 20, 60, 40, 30]\n",
    "d = []\n",
    "for i in range(len(l)):\n",
    "    for j in range(i+1, len(l)):\n",
    "        if l[i]==l[j] and l[j] not in d:\n",
    "            d.append(l[j])\n",
    "        print(d)"
   ]
  },
  {
   "cell_type": "markdown",
   "id": "e3866802",
   "metadata": {},
   "source": [
    "### write a python program to find number of vowel in string"
   ]
  },
  {
   "cell_type": "code",
   "execution_count": 17,
   "id": "9600050c",
   "metadata": {},
   "outputs": [
    {
     "name": "stdout",
     "output_type": "stream",
     "text": [
      "vowel: 2 consonent: 5\n"
     ]
    }
   ],
   "source": [
    "# name = input('Enter any string')\n",
    "name = 'sarfraz'\n",
    "consonent = 0\n",
    "vowel = 0\n",
    "list_of_vowels = ['a', 'e', 'i', 'o', 'u']\n",
    "for char in name:\n",
    "    if char in list_of_vowels:\n",
    "#         vowel = char\n",
    "        vowel+=1\n",
    "    else:\n",
    "        consonent +=1\n",
    "        \n",
    "        \n",
    "print('vowel:',vowel, 'consonent:',consonent)\n",
    "        "
   ]
  },
  {
   "cell_type": "code",
   "execution_count": 23,
   "id": "afd2ce05",
   "metadata": {},
   "outputs": [
    {
     "name": "stdout",
     "output_type": "stream",
     "text": [
      "vowel: ['a', 'a'] consonent: ['s', 'r', 'f', 'r', 'z']\n"
     ]
    }
   ],
   "source": [
    "# name = input('Enter any string')\n",
    "name = 'sarfraz'\n",
    "consonent = []\n",
    "vowel = []\n",
    "list_of_vowels = ['a', 'e', 'i', 'o', 'u']\n",
    "for char in name:\n",
    "    if char in list_of_vowels:\n",
    "        vowel.append(char)\n",
    "        \n",
    "#         vowel = char\n",
    "#         vowel+=1\n",
    "    else:\n",
    "        consonent.append(char)\n",
    "        \n",
    "        \n",
    "print('vowel:',vowel, 'consonent:',consonent)\n",
    "        "
   ]
  },
  {
   "cell_type": "markdown",
   "id": "1d05d784",
   "metadata": {},
   "source": [
    "### Three ways of reversing string while loop, for loop, slicing"
   ]
  },
  {
   "cell_type": "code",
   "execution_count": 3,
   "id": "94f84767",
   "metadata": {},
   "outputs": [
    {
     "name": "stdout",
     "output_type": "stream",
     "text": [
      "z\n",
      "zarfras\n"
     ]
    }
   ],
   "source": [
    "name = 'sarfraz'\n",
    "r_name = ''\n",
    "count = len(name)\n",
    "print(name[count-1])\n",
    "while count>0:\n",
    "    r_name += name[count-1]\n",
    "    count -= 1\n",
    "print(r_name)\n",
    "    "
   ]
  },
  {
   "cell_type": "code",
   "execution_count": 36,
   "id": "f3be59d3",
   "metadata": {},
   "outputs": [
    {
     "name": "stdout",
     "output_type": "stream",
     "text": [
      "reverse using for loop: zarfras\n",
      "reverse using slicing: zarfras\n"
     ]
    }
   ],
   "source": [
    "name = 'sarfraz'\n",
    "r_name = ''\n",
    "for char in name:\n",
    "    r_name = char+r_name\n",
    "print('reverse using for loop:', r_name)\n",
    "\n",
    "print('reverse using slicing:', name[::-1])"
   ]
  },
  {
   "cell_type": "markdown",
   "id": "bb7e7c13",
   "metadata": {},
   "source": [
    "### Find third largest number given a list"
   ]
  },
  {
   "cell_type": "code",
   "execution_count": 3,
   "id": "d22da794",
   "metadata": {},
   "outputs": [
    {
     "name": "stdout",
     "output_type": "stream",
     "text": [
      "0\n",
      "0\n",
      "0\n",
      "0\n",
      "0\n",
      "1\n",
      "1\n",
      "1\n",
      "1\n",
      "2\n",
      "2\n",
      "2\n",
      "3\n",
      "3\n",
      "4\n"
     ]
    }
   ],
   "source": [
    "lst = [4, 6,3, 8,2, 9,]\n",
    "for i in range(len(lst)):\n",
    "    for j in range(i+1, len(lst)):\n",
    "        print(i)"
   ]
  },
  {
   "cell_type": "code",
   "execution_count": 14,
   "id": "5e3a2f5c",
   "metadata": {},
   "outputs": [
    {
     "name": "stdout",
     "output_type": "stream",
     "text": [
      "6\n"
     ]
    }
   ],
   "source": [
    "lst = [4, 6,3, 8,2, 9,]\n",
    "lst.sort()\n",
    "print(lst[-3])"
   ]
  },
  {
   "cell_type": "markdown",
   "id": "c3170189",
   "metadata": {},
   "source": [
    "### Write a program to display the words thats are repeated more than or equal to n times in the text."
   ]
  },
  {
   "cell_type": "code",
   "execution_count": 11,
   "id": "d5ff726d",
   "metadata": {},
   "outputs": [
    {
     "name": "stdout",
     "output_type": "stream",
     "text": [
      "{'junaid': 1, 'ahmad': 2, 'khan': 3, 'sarfraz': 1}\n"
     ]
    }
   ],
   "source": [
    "str1 = \"junaid ahmad khan ahmad khan sarfraz khan\"#input('Enter a String')\n",
    "# n = 2 #int(input('Enter a Count'))\n",
    "str1 = str1.split()\n",
    "counts = dict()\n",
    "for word in str1:\n",
    "    if word in counts:\n",
    "        counts[word]+=1\n",
    "    else:\n",
    "        counts[word]=1\n",
    "print(counts)"
   ]
  },
  {
   "cell_type": "code",
   "execution_count": 15,
   "id": "0c69ae9a",
   "metadata": {},
   "outputs": [
    {
     "name": "stdout",
     "output_type": "stream",
     "text": [
      "Enter a String:-khan\n",
      "Enter a Count:-2\n",
      "No count\n"
     ]
    }
   ],
   "source": [
    "str1 = input('Enter a String:-')\n",
    "n = int(input('Enter a Count:-'))\n",
    "str1 = str1.split()\n",
    "counts = dict()\n",
    "for word in str1:\n",
    "    if word in counts:\n",
    "        counts[word]+=1\n",
    "    else:\n",
    "        counts[word]=1\n",
    "word_list = []\n",
    "for key in counts:\n",
    "    if counts[key]>=n:\n",
    "        word_list.append(key)\n",
    "if len(word_list)>0:\n",
    "    print(word_list)\n",
    "else:\n",
    "    print(\"No count\")"
   ]
  },
  {
   "cell_type": "markdown",
   "id": "70575c9c",
   "metadata": {},
   "source": [
    "### Write a python program to sort characters and numbers so that first alphabets and then numbers are printed."
   ]
  },
  {
   "cell_type": "code",
   "execution_count": 1,
   "id": "fc4b4b08",
   "metadata": {},
   "outputs": [
    {
     "name": "stdout",
     "output_type": "stream",
     "text": [
      "Enter a string in tha format[Abc123]:-a1j3h5\n",
      "ahj135\n"
     ]
    }
   ],
   "source": [
    "str1 = input(\"Enter a string in tha format[Abc123]:-\")\n",
    "alphabets = []\n",
    "numbers = []\n",
    "for ch in str1:\n",
    "  if ch.isalpha():\n",
    "    alphabets.append(ch)\n",
    "  else:\n",
    "    numbers.append(ch)\n",
    "alphabets.sort()\n",
    "numbers.sort()\n",
    "final_list = alphabets+numbers\n",
    "output = ''.join(final_list)\n",
    "print(output)"
   ]
  },
  {
   "cell_type": "markdown",
   "id": "8f836a21",
   "metadata": {},
   "source": [
    "### Menu Driven Program in Python"
   ]
  },
  {
   "cell_type": "code",
   "execution_count": 1,
   "id": "e0cc5b14",
   "metadata": {},
   "outputs": [
    {
     "name": "stdout",
     "output_type": "stream",
     "text": [
      "Enter First Number:-7\n",
      "Enter Second Number:-8\n",
      "\n",
      "    1.Addition\n",
      "    2.Substraction\n",
      "    3.multiplication\n",
      "    4.Division\n",
      "    5.Reminder\n",
      "    6.Percentage\n",
      "    \n",
      "choose from above:-6\n",
      "Division is: 87.5\n",
      "Do you want to continue?(y/n):n\n"
     ]
    }
   ],
   "source": [
    "while True:\n",
    "    num1 = int(input(\"Enter First Number:-\"))\n",
    "    num2 = int(input(\"Enter Second Number:-\"))\n",
    "    print('''\n",
    "    1.Addition\n",
    "    2.Substraction\n",
    "    3.multiplication\n",
    "    4.Division\n",
    "    5.Reminder\n",
    "    6.Percentage\n",
    "    ''')\n",
    "    choice = int(input(\"choose from above:-\"))\n",
    "    if choice == 1:\n",
    "        print(\"Addition is:\", num1+num2)\n",
    "    elif choice == 2:\n",
    "        print(\"Substraction is:\", num1-num2)\n",
    "    elif choice == 3:\n",
    "        print(\"Multiplication is:\", num1*num2)\n",
    "    elif choice == 4:\n",
    "        print(\"Division is:\", num1/num2)\n",
    "    elif choice == 5:\n",
    "        print(\"Division is:\", num1%num2)\n",
    "    elif choice == 6:\n",
    "        print(\"Division is:\", num1/num2*100)\n",
    "\n",
    "    else:\n",
    "        print(\"Invalid choice\")\n",
    "\n",
    "    ans = input('Do you want to continue?(y/n):')\n",
    "    ans.lower()\n",
    "    if ans !='y':\n",
    "        break"
   ]
  },
  {
   "cell_type": "markdown",
   "id": "99ca41d6",
   "metadata": {},
   "source": [
    "### Python Program for armstrong numbers | Python Programming Practice For Interview"
   ]
  },
  {
   "cell_type": "code",
   "execution_count": 23,
   "id": "ab9fb68b",
   "metadata": {},
   "outputs": [
    {
     "name": "stdout",
     "output_type": "stream",
     "text": [
      "1\n",
      "2\n",
      "3\n",
      "4\n",
      "5\n",
      "6\n",
      "7\n",
      "8\n",
      "9\n",
      "153\n",
      "370\n",
      "371\n",
      "407\n"
     ]
    }
   ],
   "source": [
    "for i in range(1,1000):\n",
    "    num=i\n",
    "    sum1=0\n",
    "    \n",
    "    n=len(str(i))\n",
    "    j=str(i)\n",
    "    for digit in j:\n",
    "        sum1 += int(digit)**n\n",
    "    if sum1 == num:\n",
    "        print(sum1)"
   ]
  },
  {
   "cell_type": "code",
   "execution_count": 18,
   "id": "3379def5",
   "metadata": {
    "scrolled": false
   },
   "outputs": [
    {
     "name": "stdout",
     "output_type": "stream",
     "text": [
      "1\n",
      "2\n",
      "3\n",
      "4\n",
      "5\n",
      "6\n",
      "7\n",
      "8\n",
      "9\n",
      "153\n"
     ]
    }
   ],
   "source": [
    "for i in range(1, 154):\n",
    "    num = i\n",
    "    sum1 = 0\n",
    "#     print(sum1)\n",
    "    n = len(str(i))\n",
    "    while i != 0:\n",
    "        digit = i % 10\n",
    "        sum1 = sum1 + digit ** n\n",
    "        i = i // 10\n",
    "    if sum1 == num:\n",
    "        print(num)\n",
    "#     print(num)"
   ]
  },
  {
   "cell_type": "code",
   "execution_count": 8,
   "id": "4c369fcb",
   "metadata": {},
   "outputs": [
    {
     "data": {
      "text/plain": [
       "0"
      ]
     },
     "execution_count": 8,
     "metadata": {},
     "output_type": "execute_result"
    }
   ],
   "source": [
    "2//10"
   ]
  },
  {
   "cell_type": "markdown",
   "id": "036d50b5",
   "metadata": {},
   "source": [
    "### Perfect Numbers | Program to Check Entered Number is Perfect or Not"
   ]
  },
  {
   "cell_type": "code",
   "execution_count": 2,
   "id": "01846016",
   "metadata": {},
   "outputs": [
    {
     "name": "stdout",
     "output_type": "stream",
     "text": [
      "Enter the Number:28\n",
      "This is Perfect Number: 28\n"
     ]
    }
   ],
   "source": [
    "num = int(input(\"Enter the Number:\"))\n",
    "result = 0\n",
    "for i in range(1, num):\n",
    "    if num % i == 0:\n",
    "        result += i\n",
    "if result == num:\n",
    "    print('This is Perfect Number:',num)\n",
    "else:\n",
    "    print('This is not Perfect Number:',num)"
   ]
  },
  {
   "cell_type": "markdown",
   "id": "9781a1ba",
   "metadata": {},
   "source": [
    "### Fibonacci Series in Python Using Recursion"
   ]
  },
  {
   "cell_type": "code",
   "execution_count": 8,
   "id": "0ffbfcb2",
   "metadata": {},
   "outputs": [
    {
     "name": "stdout",
     "output_type": "stream",
     "text": [
      "Enter number of terms:4\n",
      "0 1 1 2 "
     ]
    }
   ],
   "source": [
    "n = int(input('Enter number of terms:'))\n",
    "first = 0\n",
    "second = 1\n",
    "if n <= 0:\n",
    "    print('Please enter positive integer')\n",
    "elif n == 1:\n",
    "    print('Fibonacci series is:')\n",
    "    print(first)\n",
    "else:\n",
    "    for i in range(n):\n",
    "        print(first, end=' ')\n",
    "        temp = first\n",
    "        first = second\n",
    "        second = temp + first"
   ]
  },
  {
   "cell_type": "code",
   "execution_count": 3,
   "id": "f49d5e32",
   "metadata": {},
   "outputs": [
    {
     "name": "stdout",
     "output_type": "stream",
     "text": [
      "Enter number of terms:9\n",
      "0 1 1 2 3 5 8 13 21 34 "
     ]
    }
   ],
   "source": [
    "n = int(input('Enter number of terms:'))\n",
    "first = 0\n",
    "second = 1\n",
    "count = 0\n",
    "if n <= 0:\n",
    "    print('Please enter positive integer')\n",
    "elif n == 1:\n",
    "    print('Fibonacci series is:')\n",
    "    print(first)\n",
    "else:\n",
    "    while count <= n:\n",
    "        print(first, end=' ')\n",
    "        temp = first\n",
    "        first = second\n",
    "        second = temp + first\n",
    "        count += 1"
   ]
  },
  {
   "cell_type": "markdown",
   "id": "27856ae7",
   "metadata": {},
   "source": [
    "### print your name 10 times without using loop and manually"
   ]
  },
  {
   "cell_type": "code",
   "execution_count": 3,
   "id": "4402641f",
   "metadata": {},
   "outputs": [
    {
     "name": "stdout",
     "output_type": "stream",
     "text": [
      "1 . sarfraz\n",
      "2 . sarfraz\n",
      "3 . sarfraz\n",
      "4 . sarfraz\n",
      "5 . sarfraz\n",
      "6 . sarfraz\n",
      "7 . sarfraz\n",
      "8 . sarfraz\n",
      "9 . sarfraz\n",
      "10 . sarfraz\n"
     ]
    }
   ],
   "source": [
    "count = 1\n",
    "num = 1\n",
    "def printer(name):\n",
    "    global count, num\n",
    "    \n",
    "    if count <= 10:\n",
    "        print(num,'.', name)\n",
    "        count += 1\n",
    "        num +=1\n",
    "        printer(name)\n",
    "printer('sarfraz')"
   ]
  },
  {
   "cell_type": "code",
   "execution_count": 6,
   "id": "8db9c46c",
   "metadata": {},
   "outputs": [
    {
     "name": "stdout",
     "output_type": "stream",
     "text": [
      "sarfraz\n",
      "sarfraz\n",
      "sarfraz\n",
      "sarfraz\n",
      "sarfraz\n",
      "sarfraz\n",
      "sarfraz\n"
     ]
    }
   ],
   "source": [
    "count = 0\n",
    "def printer(name):\n",
    "    global count\n",
    "    for i in name:\n",
    "        if count <= 10:\n",
    "            print(name)\n",
    "            count += 1\n",
    "printer('sarfraz')"
   ]
  },
  {
   "cell_type": "markdown",
   "id": "5eccea03",
   "metadata": {},
   "source": [
    "### Iterate through a given list from start to end without using loop"
   ]
  },
  {
   "cell_type": "code",
   "execution_count": 14,
   "id": "825d1ed4",
   "metadata": {},
   "outputs": [
    {
     "name": "stdout",
     "output_type": "stream",
     "text": [
      "Enter a list:[10,20,30,40]\n",
      "Enter a start index:1\n",
      "Enter a end index:3\n",
      "20\n",
      "30\n"
     ]
    }
   ],
   "source": [
    "list1 = eval(input('Enter a list:'))\n",
    "start = eval(input('Enter a start index:'))\n",
    "end = eval(input('Enter a end index:'))\n",
    "\n",
    "def iterate(lst, start, end):\n",
    "    if start <0 or start >= end or end >= len(lst):\n",
    "        return\n",
    "    print(lst[start])\n",
    "    iterate(lst, start+1, end)\n",
    "\n",
    "iterate(list1, start, end)"
   ]
  },
  {
   "cell_type": "markdown",
   "id": "44d4b546",
   "metadata": {},
   "source": [
    "# Logical coding question"
   ]
  },
  {
   "cell_type": "code",
   "execution_count": 11,
   "id": "3fd39869",
   "metadata": {},
   "outputs": [
    {
     "name": "stdout",
     "output_type": "stream",
     "text": [
      "blue is Sky\n"
     ]
    }
   ],
   "source": [
    "# input:Sky is blue\n",
    "# output:blue is sky\n",
    "str1 = \"Sky is blue\"\n",
    "mylist1 = str1.split()\n",
    "mylist1=mylist1[::-1]\n",
    "# print(mylist1)\n",
    "str2 = ' '.join(mylist1)\n",
    "print(str2)\n"
   ]
  },
  {
   "cell_type": "code",
   "execution_count": 8,
   "id": "05a9739f",
   "metadata": {},
   "outputs": [
    {
     "name": "stdout",
     "output_type": "stream",
     "text": [
      "blue is Sky\n"
     ]
    }
   ],
   "source": [
    "str1 = \"Sky is blue\"\n",
    "str2 = ' '.join(str1.split()[::-1])\n",
    "print(str2)"
   ]
  },
  {
   "cell_type": "code",
   "execution_count": 14,
   "id": "bf215820",
   "metadata": {},
   "outputs": [
    {
     "name": "stdout",
     "output_type": "stream",
     "text": [
      "[1, 4]\n"
     ]
    }
   ],
   "source": [
    "# input:- [1,2,2,3,3,4,5,5,5,,6,6]\n",
    "# output:- [1,4]\n",
    "list1 = [1,2,2,3,3,4,5,5,5,6,6]\n",
    "list2 = []\n",
    "for i in list1:\n",
    "    if list1.count(i)==1:\n",
    "        list2.append(i)\n",
    "print(list2)"
   ]
  },
  {
   "cell_type": "code",
   "execution_count": 20,
   "id": "6f6c6e08",
   "metadata": {},
   "outputs": [
    {
     "name": "stdout",
     "output_type": "stream",
     "text": [
      "[1, 4]\n"
     ]
    }
   ],
   "source": [
    "list1 = [1,2,2,3,3,4,5,5,5,6,6]\n",
    "unique = [x for x in list1 if list1.count(x)==1]\n",
    "print(unique)"
   ]
  },
  {
   "cell_type": "code",
   "execution_count": 18,
   "id": "249cb619",
   "metadata": {},
   "outputs": [
    {
     "name": "stdout",
     "output_type": "stream",
     "text": [
      "{'a': 3, ',': 8, 'b': 2, 'c': 3, 'd': 1}\n"
     ]
    }
   ],
   "source": [
    "# input:-'a,a,a,b,b,c,c,c'\n",
    "# output:-a:3, b:2, c:3\n",
    "str1 = 'a,a,a,b,b,c,c,c,d'\n",
    "counts = {}\n",
    "for word in str1:\n",
    "    if word in counts:\n",
    "        counts[word]+=1\n",
    "    else:\n",
    "        counts[word]=1\n",
    "print(counts)"
   ]
  },
  {
   "cell_type": "code",
   "execution_count": 34,
   "id": "c85b5de7",
   "metadata": {},
   "outputs": [
    {
     "name": "stdout",
     "output_type": "stream",
     "text": [
      "a:3,b:2,c:3,visited: ['a', 'b', 'c']\n"
     ]
    }
   ],
   "source": [
    "str1 = 'a,a,a,b,b,c,c,c'\n",
    "list1 = str1.split(',')\n",
    "visited = []\n",
    "for ch in list1:\n",
    "    if ch not in visited:\n",
    "        print(f\"{ch}:{list1.count(ch)}\", end=',')\n",
    "        visited.append(ch)\n",
    "print('visited:', visited)"
   ]
  },
  {
   "cell_type": "code",
   "execution_count": 42,
   "id": "15df18fd",
   "metadata": {},
   "outputs": [
    {
     "name": "stdout",
     "output_type": "stream",
     "text": [
      "['a:3', 'b:2', 'c:3']\n",
      "a:3,b:2,c:3\n"
     ]
    }
   ],
   "source": [
    "str1 = 'a,a,a,b,b,c,c,c'\n",
    "list1 = str1.split(',')\n",
    "visited = []\n",
    "final_list = []\n",
    "for ch in list1:\n",
    "    if ch not in visited:\n",
    "        final_list.append(f\"{ch}:{list1.count(ch)}\")\n",
    "        visited.append(ch)\n",
    "print(final_list)\n",
    "print(\",\".join(final_list))"
   ]
  },
  {
   "cell_type": "code",
   "execution_count": 2,
   "id": "d68a6aa1",
   "metadata": {},
   "outputs": [
    {
     "name": "stdout",
     "output_type": "stream",
     "text": [
      "a:3,b:2,c:3\n"
     ]
    }
   ],
   "source": [
    "str1 = 'a,a,a,b,b,c,c,c'\n",
    "list1 = str1.split(',')\n",
    "# print(list1)\n",
    "visited = []\n",
    "final_list = []\n",
    "for ch in list1:\n",
    "#     print(ch)\n",
    "    if ch not in visited:\n",
    "        final_list.append(f\"{ch}:{list1.count(ch)}\")\n",
    "        visited.append(ch)\n",
    "print(\",\".join(final_list))\n",
    "# print(visited)"
   ]
  },
  {
   "cell_type": "markdown",
   "id": "ad21c748",
   "metadata": {},
   "source": [
    "### Factorial using Recursion\n",
    "- n*callfunction(n-1)"
   ]
  },
  {
   "cell_type": "code",
   "execution_count": 24,
   "id": "e0dc2c2c",
   "metadata": {},
   "outputs": [
    {
     "name": "stdout",
     "output_type": "stream",
     "text": [
      "Enter Number:- 5\n",
      "factorial of 5 is:- 120\n"
     ]
    }
   ],
   "source": [
    "n = int(input(\"Enter Number:- \"))\n",
    "def fact(n):\n",
    "    if n == 0:\n",
    "        return 1\n",
    "    else:\n",
    "        return n * fact(n-1)\n",
    "    \n",
    "if n < 0:\n",
    "    print(\"factorial of negative number cannot be calculated\")\n",
    "elif n == 0:\n",
    "    print(\"factorial of 0 is:- 1\")\n",
    "    \n",
    "else:\n",
    "    result = fact(n)\n",
    "    print(f\"factorial of {n} is:- {result}\")"
   ]
  },
  {
   "cell_type": "code",
   "execution_count": null,
   "id": "3a53d70e",
   "metadata": {},
   "outputs": [],
   "source": []
  }
 ],
 "metadata": {
  "kernelspec": {
   "display_name": "Python 3 (ipykernel)",
   "language": "python",
   "name": "python3"
  },
  "language_info": {
   "codemirror_mode": {
    "name": "ipython",
    "version": 3
   },
   "file_extension": ".py",
   "mimetype": "text/x-python",
   "name": "python",
   "nbconvert_exporter": "python",
   "pygments_lexer": "ipython3",
   "version": "3.10.4"
  }
 },
 "nbformat": 4,
 "nbformat_minor": 5
}
