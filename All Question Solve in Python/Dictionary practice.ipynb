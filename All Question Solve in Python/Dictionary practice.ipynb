{
 "cells": [
  {
   "cell_type": "markdown",
   "id": "54823b0c",
   "metadata": {},
   "source": [
    "# Question on Dictionary"
   ]
  },
  {
   "cell_type": "markdown",
   "id": "fe92614b",
   "metadata": {},
   "source": [
    "### 1. Write a Python program to combine two dictionary adding values for common keys."
   ]
  },
  {
   "cell_type": "code",
   "execution_count": 1,
   "id": "493ee743",
   "metadata": {},
   "outputs": [
    {
     "name": "stdout",
     "output_type": "stream",
     "text": [
      "{'a': 300, 'b': 500, 'd': 300, 'c': 300}\n"
     ]
    }
   ],
   "source": [
    "# d1 = {'a': 100, 'b': 200, 'c':300}\n",
    "# d2 = {'a': 300, 'b': 200, 'd':400}\n",
    "# Sample output: Counter({'a': 400, 'b': 400, 'd': 400, 'c': 300})\n",
    "\n",
    "\n",
    "dic1 = {'a':100, 'b':200, 'c':300}\n",
    "dic2 = {'a':200, 'b':300, 'd':300}\n",
    "for key in dic1:\n",
    "    if key in dic2:\n",
    "        dic2[key] = dic1[key] + dic2[key]\n",
    "    else:\n",
    "        dic2[key] = dic1[key]\n",
    "print(dic2)\n"
   ]
  },
  {
   "cell_type": "code",
   "execution_count": 16,
   "id": "dc5f3631",
   "metadata": {},
   "outputs": [
    {
     "name": "stdout",
     "output_type": "stream",
     "text": [
      "{'a': 200, 'b': 300, 'c': 300, 'd': 300}\n"
     ]
    }
   ],
   "source": [
    "dic1 = {'a':100, 'b':200, 'c':300}\n",
    "dic2 = {'a':200, 'b':300, 'd':300}\n",
    "newdic = {**dic1 , **dic2}\n",
    "print(newdic)"
   ]
  },
  {
   "cell_type": "markdown",
   "id": "2a800bf6",
   "metadata": {},
   "source": [
    "### 2. Write a Python program to print all unique values in a dictionary."
   ]
  },
  {
   "cell_type": "code",
   "execution_count": 2,
   "id": "478dfc30",
   "metadata": {},
   "outputs": [
    {
     "name": "stdout",
     "output_type": "stream",
     "text": [
      "unique value: {'S007', 'S001', 'S002', 'S009', 'S005'}\n"
     ]
    }
   ],
   "source": [
    "# Sample Data : [{\"V\":\"S001\"}, {\"V\": \"S002\"}, {\"VI\": \"S001\"}, {\"VI\": \"S005\"}, {\"VII\":\"S005\"}, {\"V\":\"S009\"},{\"VIII\":\"S007\"}]\n",
    "# Expected Output : Unique Values: {'S005', 'S002', 'S007', 'S001', 'S009'}\n",
    "\n",
    "dict_1 = [{'V':'S001'}, {'V':'S002'},{'VI':'S001'}, {'VI':'S005'}, {'VII':'S005'}, {'V':'S009'}, {'VII':'S007'}]\n",
    "unique_value = set(x for i in dict_1 for x in i.values())\n",
    "print('unique value:', unique_value)\n"
   ]
  },
  {
   "cell_type": "code",
   "execution_count": 3,
   "id": "48f0ce28",
   "metadata": {},
   "outputs": [
    {
     "name": "stdout",
     "output_type": "stream",
     "text": [
      "{'S001', 'S002', 'S005'}\n"
     ]
    }
   ],
   "source": [
    "dic = [{'V':'S001'}, {'V':'S002'},{'VI':'S001'}, {'VI':'S005'}]\n",
    "a = set()\n",
    "for i in dic:\n",
    "    for j in i.values():\n",
    "        a.add(j)\n",
    "print(a)"
   ]
  },
  {
   "cell_type": "markdown",
   "id": "c03521f7",
   "metadata": {},
   "source": [
    "### 3. Write a Python program to create and display all combinations of letters,\n",
    "selecting each letter from a different key in a dictionary. \n",
    "Sample data : {'1':['a','b'], '2':['c','d']}\n",
    "Expected Output:\n",
    "ac\n",
    "ad\n",
    "bc\n",
    "bd"
   ]
  },
  {
   "cell_type": "code",
   "execution_count": 5,
   "id": "8a2a0267",
   "metadata": {},
   "outputs": [
    {
     "name": "stdout",
     "output_type": "stream",
     "text": [
      "ac\n",
      "ad\n",
      "bc\n",
      "bd\n"
     ]
    }
   ],
   "source": [
    "d = {'1':['a', 'b'], '2':['c', 'd']}\n",
    "for x in d['1']:\n",
    "    for y in d['2']:\n",
    "        print(x + y)"
   ]
  },
  {
   "cell_type": "code",
   "execution_count": 6,
   "id": "a58ef339",
   "metadata": {},
   "outputs": [
    {
     "name": "stdout",
     "output_type": "stream",
     "text": [
      "ac\n",
      "ad\n",
      "bc\n",
      "bd\n"
     ]
    }
   ],
   "source": [
    "my_dict= {'1':['a', 'b'], '2':['c', 'd']}\n",
    "my_list= list(my_dict.values())\n",
    "for i in my_list[0]:\n",
    "    for j in my_list[1]:\n",
    "        print(i+j)"
   ]
  },
  {
   "cell_type": "code",
   "execution_count": 7,
   "id": "b7695423",
   "metadata": {},
   "outputs": [
    {
     "name": "stdout",
     "output_type": "stream",
     "text": [
      "ac\n",
      "ad\n",
      "bc\n",
      "bd\n"
     ]
    }
   ],
   "source": [
    "from itertools import product\n",
    "\n",
    "d ={'1':['a','b'], '2':['c','d']}\n",
    "for x, y in product(*d.values()):\n",
    "    print(x + y)"
   ]
  },
  {
   "cell_type": "code",
   "execution_count": 8,
   "id": "f98d04de",
   "metadata": {},
   "outputs": [
    {
     "name": "stdout",
     "output_type": "stream",
     "text": [
      "a b\n",
      "c d\n"
     ]
    }
   ],
   "source": [
    "dic = {'1':['a','b'], '2':['c','d']}   \n",
    "for x, y in dic.values():\n",
    "    print(x, y)"
   ]
  },
  {
   "cell_type": "markdown",
   "id": "333f90fd",
   "metadata": {},
   "source": [
    "### 4. Write a Python program to find the highest 3 values of corresponding keys in a dictionary. "
   ]
  },
  {
   "cell_type": "code",
   "execution_count": 9,
   "id": "f3b26e1f",
   "metadata": {},
   "outputs": [
    {
     "name": "stdout",
     "output_type": "stream",
     "text": [
      "ali\n",
      "sarfraz\n",
      "khalid\n"
     ]
    }
   ],
   "source": [
    "dic = {'sarfraz':31, 'junaid':22, 'ali':40, 'ashraf':21, 'khalid':26}\n",
    "highvalues = sorted(dic, key=dic.get, reverse=True)\n",
    "for index in range(3):\n",
    "    print(highvalues[index])"
   ]
  },
  {
   "cell_type": "code",
   "execution_count": 10,
   "id": "a44f7733",
   "metadata": {},
   "outputs": [
    {
     "name": "stdout",
     "output_type": "stream",
     "text": [
      "['ali', 'sarfraz', 'khalid']\n"
     ]
    }
   ],
   "source": [
    "from heapq import nlargest \n",
    "dic = {'sarfraz':31, 'junaid':22, 'ali':40, 'ashraf':21, 'khalid':26}\n",
    "highvalues = nlargest(3, dic, key=dic.get)\n",
    "print(highvalues)"
   ]
  },
  {
   "cell_type": "code",
   "execution_count": 11,
   "id": "446c7a89",
   "metadata": {},
   "outputs": [
    {
     "name": "stdout",
     "output_type": "stream",
     "text": [
      "['ali', 'sarfraz', 'khalid', 'junaid', 'ashraf']\n"
     ]
    }
   ],
   "source": [
    "dic = {'sarfraz':31, 'junaid':22, 'ali':40, 'ashraf':21, 'khalid':26}\n",
    "key_high_value = sorted(dic, key=dic.get, reverse=True)\n",
    "print(key_high_value)"
   ]
  },
  {
   "cell_type": "markdown",
   "id": "8c97995c",
   "metadata": {},
   "source": [
    "### 5. Write a Python program to combine values in python list of dictionaries.\n",
    "Sample data: [{'item': 'item1', 'amount': 400}, {'item': 'item2', 'amount': 300}, {'item': 'item1', 'amount': 750}]\n",
    "Expected Output: Counter({'item1': 1150, 'item2': 300})\n"
   ]
  },
  {
   "cell_type": "code",
   "execution_count": 18,
   "id": "c9e93fe2",
   "metadata": {},
   "outputs": [
    {
     "name": "stdout",
     "output_type": "stream",
     "text": [
      "{'item': 'item1', 'amount': 400}\n",
      "{'item': 'item2', 'amount': 300}\n",
      "{'item': 'item1', 'amount': 750}\n"
     ]
    }
   ],
   "source": [
    "lst=[{'item': 'item1', 'amount': 400}, {'item': 'item2', 'amount': 300}, {'item': 'item1', 'amount': 750}]\n",
    "# Expected Output: Counter({'item1': 1150, 'item2': 300})\n",
    "for i in lst:\n",
    "    print(i)\n",
    "\n"
   ]
  },
  {
   "cell_type": "markdown",
   "id": "52df69db",
   "metadata": {},
   "source": [
    "### 6. Write a Python program to create a dictionary from a string.\n",
    "- Note: Track the count of the letters from the string.\n",
    "- Sample string : 'w3resource'\n",
    "- Expected output: {'w': 1, '3': 1, 'r': 2, 'e': 2, 's': 1, 'o': 1, 'u': 1, 'c': 1}"
   ]
  },
  {
   "cell_type": "code",
   "execution_count": 1,
   "id": "c79b0bf9",
   "metadata": {},
   "outputs": [
    {
     "name": "stdout",
     "output_type": "stream",
     "text": [
      "{'w': 1, '3': 1, 'r': 2, 'e': 2, 's': 1, 'o': 1, 'u': 1, 'c': 1}\n"
     ]
    }
   ],
   "source": [
    "from collections import defaultdict, Counter\n",
    "\n",
    "str1='w3resource'\n",
    "my_dict={}\n",
    "for letter in str1:\n",
    "    my_dict[letter] = my_dict.get(letter, 0)+1\n",
    "print(my_dict)"
   ]
  },
  {
   "cell_type": "code",
   "execution_count": 7,
   "id": "f953db2c",
   "metadata": {},
   "outputs": [
    {
     "name": "stdout",
     "output_type": "stream",
     "text": [
      "{'w': 1, '3': 1, 'r': 2, 'e': 2, 's': 1, 'o': 1, 'u': 1, 'c': 1}\n"
     ]
    }
   ],
   "source": [
    "str1='w3resource'\n",
    "my_dict={}\n",
    "for letter in str1:\n",
    "    my_dict[letter] = my_dict.get(letter,0)+1\n",
    "print(my_dict)"
   ]
  },
  {
   "cell_type": "code",
   "execution_count": 8,
   "id": "bf9551ae",
   "metadata": {},
   "outputs": [
    {
     "name": "stdout",
     "output_type": "stream",
     "text": [
      "Enter String:sarfraz\n",
      "{'s': 1, 'a': 2, 'r': 2, 'f': 1, 'z': 1}\n"
     ]
    }
   ],
   "source": [
    "def string_count(n):\n",
    "    dict1 = {}\n",
    "    for ch in n:\n",
    "        if ch in dict1:\n",
    "            dict1[ch] += 1\n",
    "        else:\n",
    "            dict1[ch] = 1\n",
    "    print(dict1)\n",
    "string=input('Enter String:')\n",
    "string_count(string)"
   ]
  },
  {
   "cell_type": "code",
   "execution_count": 4,
   "id": "f9950a4a",
   "metadata": {},
   "outputs": [
    {
     "name": "stdout",
     "output_type": "stream",
     "text": [
      "Enter a string: sarfraz\n",
      "s : 1\n",
      "a : 2\n",
      "r : 2\n",
      "f : 1\n",
      "z : 1\n"
     ]
    }
   ],
   "source": [
    "st = input(\"Enter a string: \")\n",
    "dic = {} #creates an empty dictionary\n",
    "for ch in st:\n",
    "    if ch in dic: #if next character is already in the dictionary\n",
    "        dic[ch] += 1\n",
    "    else:\n",
    "        dic[ch] = 1 #if ch appears for the first time\n",
    "for key in dic:\n",
    "    print(key,':',dic[key])"
   ]
  },
  {
   "cell_type": "code",
   "execution_count": 9,
   "id": "b2ea262e",
   "metadata": {},
   "outputs": [
    {
     "name": "stdout",
     "output_type": "stream",
     "text": [
      "{'s': 1, 'a': 2, 'r': 2, 'f': 1, 'z': 1}\n"
     ]
    }
   ],
   "source": [
    "a='sarfraz'\n",
    "dict1={}\n",
    "for i in a:\n",
    "    str1=a.count(i)\n",
    "    dict1[i]=str1\n",
    "print(dict1)"
   ]
  },
  {
   "cell_type": "markdown",
   "id": "46e71b00",
   "metadata": {},
   "source": [
    "### 7. Write a Python program to print a dictionary in table format.   Click me to see the sample solution"
   ]
  },
  {
   "cell_type": "code",
   "execution_count": 1,
   "id": "d6da708f",
   "metadata": {},
   "outputs": [
    {
     "name": "stdout",
     "output_type": "stream",
     "text": [
      "C1 C2 C3\n",
      "1 5 9\n",
      "2 6 10\n",
      "3 7 11\n"
     ]
    }
   ],
   "source": [
    "my_dict = {'C1':[1,2,3],'C2':[5,6,7],'C3':[9,10,11]}\n",
    "for row in zip(*([key] + (value) for key, value in sorted(my_dict.items()))):\n",
    "    print(*row)"
   ]
  },
  {
   "cell_type": "code",
   "execution_count": 2,
   "id": "d08350a5",
   "metadata": {},
   "outputs": [
    {
     "name": "stdout",
     "output_type": "stream",
     "text": [
      "NAME       AGE        COURSE    \n",
      "Samuel     21         Data Structures\n",
      "Richie     20         Machine Learning\n",
      "Lauren     21         OOPS with java\n"
     ]
    }
   ],
   "source": [
    "dict1 = {1: [\"Samuel\", 21, 'Data Structures'],\n",
    "         2: [\"Richie\", 20, 'Machine Learning'],\n",
    "         3: [\"Lauren\", 21, 'OOPS with java'],\n",
    "         }\n",
    "print(\"{:<10} {:<10} {:<10}\".format('NAME', 'AGE', 'COURSE'))\n",
    "for key, value in dict1.items():\n",
    "    n, a, c = value\n",
    "    print(\"{:<10} {:<10} {:<10}\".format(n, a, c))"
   ]
  },
  {
   "cell_type": "markdown",
   "id": "a1d03165",
   "metadata": {},
   "source": [
    "### 8. Write a Python program to count the values associated with key in a dictionary.\n",
    "- Expected Output:\n",
    "- 6\n",
    "- 2"
   ]
  },
  {
   "cell_type": "code",
   "execution_count": 3,
   "id": "2630394d",
   "metadata": {},
   "outputs": [
    {
     "name": "stdout",
     "output_type": "stream",
     "text": [
      "6\n",
      "2\n"
     ]
    }
   ],
   "source": [
    "student = [{'id': 1, 'success': True, 'name': 'Lary'},\n",
    " {'id': 2, 'success': False, 'name': 'Rabi'},\n",
    " {'id': 3, 'success': True, 'name': 'Alex'}]\n",
    "print(sum(d['id'] for d in student))\n",
    "print(sum(d['success'] for d in student))"
   ]
  },
  {
   "cell_type": "markdown",
   "id": "1d4de4da",
   "metadata": {},
   "source": [
    "### 9. Write a Python program to convert a list into a nested dictionary of keys."
   ]
  },
  {
   "cell_type": "code",
   "execution_count": 15,
   "id": "a708130c",
   "metadata": {},
   "outputs": [
    {
     "name": "stdout",
     "output_type": "stream",
     "text": [
      "{1: {2: {3: {4: {}}}}}\n"
     ]
    }
   ],
   "source": [
    "list_1 = [1,2,3,4]\n",
    "newdct = current = {}\n",
    "for i in list_1:\n",
    "    current[i] = {}\n",
    "    current = current[i]\n",
    "print(newdct)"
   ]
  },
  {
   "cell_type": "markdown",
   "id": "24cddddd",
   "metadata": {},
   "source": [
    "### 10. Write a Python program to sort a list alphabetically in a dictionary."
   ]
  },
  {
   "cell_type": "code",
   "execution_count": 17,
   "id": "533282da",
   "metadata": {},
   "outputs": [
    {
     "name": "stdout",
     "output_type": "stream",
     "text": [
      "{'x': [2, 3, 4]}\n"
     ]
    }
   ],
   "source": [
    "dct = {'n1':[2,3,1], 'n2':[5,1,2], 'n':[3,2,4]}\n",
    "sorted_dict = {'x': sorted(y) for x, y in dct.items()}\n",
    "print(sorted_dict)"
   ]
  },
  {
   "cell_type": "markdown",
   "id": "14e15c9b",
   "metadata": {},
   "source": [
    "### 11. Write a Python program to create a dictionary from two lists without losing duplicate values.\n",
    "Sample lists: ['Class-V', 'Class-VI', 'Class-VII', 'Class-VIII'], [1, 2, 2, 3]\n",
    "Expected Output: defaultdict(<class 'set'>, {'Class-V': {1}, 'Class-VI': {2}, 'Class-VII': {2}, 'Class-VIII': {3}})\n"
   ]
  },
  {
   "cell_type": "code",
   "execution_count": 2,
   "id": "d7d2301c",
   "metadata": {},
   "outputs": [
    {
     "name": "stdout",
     "output_type": "stream",
     "text": [
      "{'Class-V': 1, 'Class-VI': 2, 'Class-VII': 2, 'Class-VIII': 3}\n"
     ]
    }
   ],
   "source": [
    "lst=['Class-V', 'Class-VI', 'Class-VII', 'Class-VIII']\n",
    "lst2 =[1, 2, 2, 3]\n",
    "dic = dict(zip(lst,lst2))\n",
    "print(dic)"
   ]
  },
  {
   "cell_type": "markdown",
   "id": "c9bf976f",
   "metadata": {},
   "source": [
    "### 12. insertion sort a dictionary according to 3rd key value"
   ]
  },
  {
   "cell_type": "code",
   "execution_count": 1,
   "id": "367e0311",
   "metadata": {},
   "outputs": [
    {
     "name": "stdout",
     "output_type": "stream",
     "text": [
      "[{'a': 5, 'b': 100, 'c': 3}, {'a': 2, 'b': 1, 'c': 101}, {'a': 1, 'b': 0, 'c': 200}]\n"
     ]
    }
   ],
   "source": [
    "dict1 = [{'a':2, 'b':1, 'c':101}, {'a':1, 'b':0, 'c':200}, {'a':5, 'b':100, 'c':3}]\n",
    "for i in range(len(dict1)):\n",
    "    for j in range(len(dict1)):\n",
    "        if dict1[i]['c'] < dict1[j]['c']:\n",
    "            dict1[i],dict1[j] = dict1[j],dict1[i]\n",
    "print(dict1)"
   ]
  },
  {
   "cell_type": "code",
   "execution_count": 2,
   "id": "b33d8433",
   "metadata": {},
   "outputs": [
    {
     "name": "stdout",
     "output_type": "stream",
     "text": [
      "OrderedDict([('rajnish', '9'), ('ravi', '10'), ('sanjeev', '15'), ('suraj', '32'), ('yash', '2')])\n"
     ]
    }
   ],
   "source": [
    "from collections import OrderedDict\n",
    " \n",
    "dict1 = {'ravi': '10', 'rajnish': '9',\n",
    "        'sanjeev': '15', 'yash': '2', 'suraj': '32'}\n",
    "dict1 = OrderedDict(sorted(dict1.items()))\n",
    "print(dict1)"
   ]
  },
  {
   "cell_type": "code",
   "execution_count": 12,
   "id": "0aa80b08",
   "metadata": {},
   "outputs": [
    {
     "name": "stdout",
     "output_type": "stream",
     "text": [
      "[{'a': 5, 'b': 100, 'c': 3}, {'a': 2, 'b': 1, 'c': 101}, {'a': 1, 'b': 0, 'c': 200}]\n"
     ]
    }
   ],
   "source": [
    "dict1 = [{'a':2, 'b':1, 'c':101}, {'a':1, 'b':0, 'c':200}, {'a':5, 'b':100, 'c':3}]\n",
    "print(sorted(dict1,key=lambda i:i['c']))"
   ]
  },
  {
   "cell_type": "code",
   "execution_count": 18,
   "id": "16fc4d71",
   "metadata": {},
   "outputs": [
    {
     "name": "stdout",
     "output_type": "stream",
     "text": [
      "[{'car': 'Mitsubishi', 'year': 2000}, {'car': 'Ford', 'year': 2005}, {'car': 'VW', 'year': 2011}, {'car': 'BMW', 'year': 2019}]\n"
     ]
    }
   ],
   "source": [
    "cars = [{'car': 'Ford', 'year': 2005}, {'car': 'Mitsubishi', 'year': 2000},{'car': 'BMW', 'year': 2019},\n",
    "        {'car': 'VW', 'year': 2011}]\n",
    "for i in range(len(cars)):\n",
    "    for j in range(len(cars)):\n",
    "        if cars[i]['year'] < cars[j]['year']:\n",
    "            cars[i], cars[j] = cars[j], cars[i]\n",
    "print(cars)"
   ]
  },
  {
   "cell_type": "markdown",
   "id": "80356f03",
   "metadata": {},
   "source": [
    "### 13. capital letter convert into small letter and add in value of lowercase"
   ]
  },
  {
   "cell_type": "code",
   "execution_count": 3,
   "id": "286fedd5",
   "metadata": {},
   "outputs": [
    {
     "name": "stdout",
     "output_type": "stream",
     "text": [
      "{'a': 60, 'b': 65, 'c': 20, 'd': 60}\n"
     ]
    }
   ],
   "source": [
    "d = {'a':45, 'b':65, 'A':15, 'c':10, 'C':10, 'D':60}\n",
    "dic = {i.lower(): d.get (i.lower(),0) + d.get (i.upper(),0) for i in d.keys()}\n",
    "print(dic)"
   ]
  },
  {
   "cell_type": "markdown",
   "id": "300f2fd2",
   "metadata": {},
   "source": [
    "### print maximum value with key"
   ]
  },
  {
   "cell_type": "code",
   "execution_count": 4,
   "id": "0ccf133c",
   "metadata": {},
   "outputs": [
    {
     "name": "stdout",
     "output_type": "stream",
     "text": [
      "{'akbar': 95}\n"
     ]
    }
   ],
   "source": [
    "student = {'ali':{'score':91}, 'akbar':{'score':95}, 'ahmad':{'score':81}}\n",
    "def maximum():\n",
    "    maxim = 0\n",
    "    std = ''\n",
    "    for i in student:\n",
    "        score = student.get(i)['score']\n",
    "        if score > maxim:\n",
    "            maxim = score\n",
    "            std = i\n",
    "    return {std:maxim}\n",
    "a = maximum()\n",
    "print(a)"
   ]
  },
  {
   "cell_type": "markdown",
   "id": "b6f11242",
   "metadata": {},
   "source": [
    "### 12. Write a Python program to replace dictionary values with their average."
   ]
  },
  {
   "cell_type": "code",
   "execution_count": 18,
   "id": "aa9d378a",
   "metadata": {},
   "outputs": [
    {
     "name": "stdout",
     "output_type": "stream",
     "text": [
      "30\n",
      "22\n"
     ]
    }
   ],
   "source": [
    "dct = {'sarfraz':30, 'saud':22}\n",
    "for i in dct:\n",
    "    print(dct[i])"
   ]
  },
  {
   "cell_type": "markdown",
   "id": "ff70b402",
   "metadata": {},
   "source": [
    "### 13 write a dictionary and sum the value of all keys"
   ]
  },
  {
   "cell_type": "code",
   "execution_count": 5,
   "id": "ea343184",
   "metadata": {},
   "outputs": [
    {
     "name": "stdout",
     "output_type": "stream",
     "text": [
      "9408.23\n",
      "2354\n"
     ]
    }
   ],
   "source": [
    "dic = [{\"name\":\"raja\",\"totalPremium\":2354},{\"name\":\"Vini\",\"totalPremium\":\"2345\"},\n",
    " {\"name\":\"raja\",\"totalPremium\":2354.90},{\"name\":\"raja\",\"totalPremium\":\"2354.33\"}]\n",
    "\n",
    "data=[float(i[\"totalPremium\"]) for i in dic]\n",
    "print(sum(data))\n",
    "\n",
    "\n",
    "dic1={\"name\":\"raja\",\"totalPremium\":2354}\n",
    "a = (dic1[\"totalPremium\"])\n",
    "print(a)"
   ]
  },
  {
   "cell_type": "code",
   "execution_count": 6,
   "id": "b03a55f5",
   "metadata": {},
   "outputs": [
    {
     "name": "stdout",
     "output_type": "stream",
     "text": [
      "{'name': 'raja', 'amount': 9408.23}\n"
     ]
    }
   ],
   "source": [
    "dic = [{\"name\":\"raja\",\"amount\":2354},{\"name\":\"Vini\",\"amount\":\"2345\"},\n",
    " {\"name\":\"raja\",\"amount\":2354.90},{\"name\":\"raja\",\"amount\":\"2354.33\"}]\n",
    "b = []\n",
    "e = {}\n",
    "for i in dic:\n",
    "#     print(i)\n",
    "    b.append(float(i[\"amount\"])) \n",
    "# print(sum(b))\n",
    "c = (dic[0])\n",
    "c[\"amount\"]=sum(b)\n",
    "print(c)        "
   ]
  },
  {
   "cell_type": "markdown",
   "id": "71cf3a25",
   "metadata": {},
   "source": [
    "### 14 . "
   ]
  },
  {
   "cell_type": "code",
   "execution_count": 4,
   "id": "0954f813",
   "metadata": {},
   "outputs": [
    {
     "name": "stdout",
     "output_type": "stream",
     "text": [
      "{'w': 1, '3': 1, 'r': 2, 'e': 2, 's': 1, 'o': 1, 'u': 1, 'c': 1}\n"
     ]
    }
   ],
   "source": [
    "str1='w3resource'\n",
    "my_dict={}\n",
    "for letter in str1:\n",
    "    my_dict[letter] = my_dict.get(letter, 0)+1\n",
    "print(my_dict)"
   ]
  },
  {
   "cell_type": "code",
   "execution_count": 2,
   "id": "bcd6fb63",
   "metadata": {},
   "outputs": [
    {
     "name": "stdout",
     "output_type": "stream",
     "text": [
      "{'w': None, '3': None, 'r': None, 'e': None, 's': None, 'o': None, 'u': None, 'c': None}\n"
     ]
    }
   ],
   "source": [
    "str1='w3resource'\n",
    "dict1={}\n",
    "for i in str1:\n",
    "    dict1[i]=dict1.get(i)\n",
    "print(dict1)"
   ]
  },
  {
   "cell_type": "code",
   "execution_count": 19,
   "id": "6f25c573",
   "metadata": {},
   "outputs": [
    {
     "name": "stdout",
     "output_type": "stream",
     "text": [
      "1.what is python\n",
      "ans:programming advance language\n",
      "2.what is java\n",
      "ans:Nalla language\n",
      "3.what is ruby\n",
      "ans:programming advance language\n",
      "4.what is javascript\n",
      "ans:programming advance language\n",
      "5.what is c++\n",
      "ans:Nalla language\n",
      "6.what is python\n",
      "ans:programming advance language\n",
      "7.what is java\n",
      "ans:Nalla language\n",
      "8.what is ruby\n",
      "ans:programming advance language\n",
      "9.what is javascript\n",
      "ans:programming advance language\n",
      "10.what is c++\n",
      "ans:Nalla language\n",
      "1.python python plython\n",
      "2.python python plython\n",
      "3.python python plython\n",
      "4.python python plython\n",
      "5.python python plython\n",
      "6.python python plython\n"
     ]
    }
   ],
   "source": [
    "questions = [{'question':'what is python', 'ans':'programming advance language', 'explanation':'python python plython'},\n",
    "             {'question':'what is java', 'ans':'Nalla language','explanation':''},\n",
    "             {'question':'what is ruby', 'ans':'programming advance language', 'explanation':'python python plython'},\n",
    "             {'question':'what is javascript', 'ans':'programming advance language', 'explanation':'python python plython'},\n",
    "             {'question':'what is c++', 'ans':'Nalla language','explanation':''},\n",
    "             {'question':'what is python', 'ans':'programming advance language', 'explanation':'python python plython'},\n",
    "             {'question':'what is java', 'ans':'Nalla language', 'explanation':''},\n",
    "             {'question':'what is ruby', 'ans':'programming advance language', 'explanation':'python python plython'},\n",
    "             {'question':'what is javascript', 'ans':'programming advance language', 'explanation':'python python plython'},\n",
    "             {'question':'what is c++', 'ans':'Nalla language', 'explanation':''},\n",
    "             ]\n",
    "num = 1\n",
    "if num<len(questions):\n",
    "     for i in questions:\n",
    "        if 'question' in i:\n",
    "            print(f\"{num}.{i['question']}\")\n",
    "        if 'ans' in i:\n",
    "            print(f\"ans:{i['ans']}\")\n",
    "        \n",
    "        num = num + 1\n",
    "        \n",
    "count = 1\n",
    "if count < len(questions):\n",
    "    for i in questions:\n",
    "        if 'explanation':\n",
    "            if i['explanation']=='':\n",
    "                continue\n",
    "            else:\n",
    "                print(f\"{count}.{i['explanation']}\")\n",
    "                \n",
    "        count = count + 1\n"
   ]
  },
  {
   "cell_type": "code",
   "execution_count": 20,
   "id": "2256a62b",
   "metadata": {},
   "outputs": [
    {
     "name": "stdout",
     "output_type": "stream",
     "text": [
      "1 what is python\n",
      "ans: programming advance language\n",
      "2 what is java\n",
      "ans: Nalla language\n",
      "3 what is ruby\n",
      "ans: programming advance language\n",
      "4 what is javascript\n",
      "ans: programming advance language\n",
      "5 what is c++\n",
      "ans: Nalla language\n",
      "6 what is python\n",
      "ans: programming advance language\n",
      "7 what is java\n",
      "ans: Nalla language\n",
      "8 what is ruby\n",
      "ans: programming advance language\n",
      "9 what is javascript\n",
      "ans: programming advance language\n",
      "10 what is c++\n",
      "ans: Nalla language\n"
     ]
    }
   ],
   "source": [
    "questions = [{'question':'what is python', 'ans':'programming advance language', 'explanation':'python python plython'},\n",
    "             {'question':'what is java', 'ans':'Nalla language','explanation':''},\n",
    "             {'question':'what is ruby', 'ans':'programming advance language', 'explanation':'python python plython'},\n",
    "             {'question':'what is javascript', 'ans':'programming advance language', 'explanation':'python python plython'},\n",
    "             {'question':'what is c++', 'ans':'Nalla language','explanation':''},\n",
    "             {'question':'what is python', 'ans':'programming advance language', 'explanation':'python python plython'},\n",
    "             {'question':'what is java', 'ans':'Nalla language', 'explanation':''},\n",
    "             {'question':'what is ruby', 'ans':'programming advance language', 'explanation':'python python plython'},\n",
    "             {'question':'what is javascript', 'ans':'programming advance language', 'explanation':'python python plython'},\n",
    "             {'question':'what is c++', 'ans':'Nalla language', 'explanation':''},\n",
    "             ]\n",
    "num = 1\n",
    "if num<len(questions):\n",
    "     for i in questions:\n",
    "        if 'question' in i:\n",
    "            print(num,i['question'])\n",
    "        if 'ans' in i:\n",
    "            print(\"ans:\",i['ans'])\n",
    "        \n",
    "        num = num + 1"
   ]
  },
  {
   "cell_type": "code",
   "execution_count": 22,
   "id": "d20b79d8",
   "metadata": {},
   "outputs": [
    {
     "name": "stdout",
     "output_type": "stream",
     "text": [
      "3\n"
     ]
    }
   ],
   "source": [
    "b=[{'a':1} , {'a':'2'}]\n",
    "\n",
    "total=0\n",
    "for i in b:\n",
    "    for j in i.values():\n",
    "        a = int(j)\n",
    "    total=total+a\n",
    "print(total)"
   ]
  },
  {
   "cell_type": "code",
   "execution_count": 11,
   "id": "40af9d5d",
   "metadata": {},
   "outputs": [
    {
     "ename": "AttributeError",
     "evalue": "'dict' object attribute 'values' is read-only",
     "output_type": "error",
     "traceback": [
      "\u001b[1;31m---------------------------------------------------------------------------\u001b[0m",
      "\u001b[1;31mAttributeError\u001b[0m                            Traceback (most recent call last)",
      "Input \u001b[1;32mIn [11]\u001b[0m, in \u001b[0;36m<cell line: 4>\u001b[1;34m()\u001b[0m\n\u001b[0;32m      1\u001b[0m b\u001b[38;5;241m=\u001b[39m[{\u001b[38;5;124m'\u001b[39m\u001b[38;5;124ma\u001b[39m\u001b[38;5;124m'\u001b[39m:\u001b[38;5;241m1\u001b[39m} , {\u001b[38;5;124m'\u001b[39m\u001b[38;5;124ma\u001b[39m\u001b[38;5;124m'\u001b[39m:\u001b[38;5;124m'\u001b[39m\u001b[38;5;124m2\u001b[39m\u001b[38;5;124m'\u001b[39m}]\n\u001b[0;32m      3\u001b[0m total\u001b[38;5;241m=\u001b[39m\u001b[38;5;241m0\u001b[39m\n\u001b[1;32m----> 4\u001b[0m \u001b[38;5;28;01mfor\u001b[39;00m \u001b[43mi\u001b[49m\u001b[38;5;241;43m.\u001b[39;49m\u001b[43mvalues\u001b[49m \u001b[38;5;129;01min\u001b[39;00m b:\n\u001b[0;32m      5\u001b[0m     \u001b[38;5;28mprint\u001b[39m(i)\n",
      "\u001b[1;31mAttributeError\u001b[0m: 'dict' object attribute 'values' is read-only"
     ]
    }
   ],
   "source": [
    "b=[{'a':1} , {'a':'2'}]\n",
    "\n",
    "total=0\n",
    "for i.values in b:\n",
    "    print(i)"
   ]
  },
  {
   "cell_type": "code",
   "execution_count": 6,
   "id": "655a6764",
   "metadata": {},
   "outputs": [
    {
     "name": "stdout",
     "output_type": "stream",
     "text": [
      "b : 2\n",
      "c : 1\n",
      "a : 2\n"
     ]
    }
   ],
   "source": [
    "lst = ['a', 'a', 'b', 'c', 'b']\n",
    "set1 = set(lst)\n",
    "for i in set1:\n",
    "    a = lst.count(i)\n",
    "    print(i, ':', a)"
   ]
  }
 ],
 "metadata": {
  "kernelspec": {
   "display_name": "Python 3 (ipykernel)",
   "language": "python",
   "name": "python3"
  },
  "language_info": {
   "codemirror_mode": {
    "name": "ipython",
    "version": 3
   },
   "file_extension": ".py",
   "mimetype": "text/x-python",
   "name": "python",
   "nbconvert_exporter": "python",
   "pygments_lexer": "ipython3",
   "version": "3.10.4"
  },
  "vscode": {
   "interpreter": {
    "hash": "49335d64aae0e614fc472b3f2b7d16e8038532c55ba6e230023d24a1fbad0e69"
   }
  }
 },
 "nbformat": 4,
 "nbformat_minor": 5
}
