{
 "cells": [
  {
   "cell_type": "markdown",
   "id": "54823b0c",
   "metadata": {},
   "source": [
    "# Question on Dictionary"
   ]
  },
  {
   "cell_type": "markdown",
   "id": "fe92614b",
   "metadata": {},
   "source": [
    "### 1. Write a Python program to combine two dictionary adding values for common keys."
   ]
  },
  {
   "cell_type": "code",
   "execution_count": 1,
   "id": "493ee743",
   "metadata": {},
   "outputs": [
    {
     "name": "stdout",
     "output_type": "stream",
     "text": [
      "{'a': 300, 'b': 500, 'd': 300, 'c': 300}\n"
     ]
    }
   ],
   "source": [
    "# d1 = {'a': 100, 'b': 200, 'c':300}\n",
    "# d2 = {'a': 300, 'b': 200, 'd':400}\n",
    "# Sample output: Counter({'a': 400, 'b': 400, 'd': 400, 'c': 300})\n",
    "\n",
    "\n",
    "dic1 = {'a':100, 'b':200, 'c':300}\n",
    "dic2 = {'a':200, 'b':300, 'd':300}\n",
    "for key in dic1:\n",
    "    if key in dic2:\n",
    "        dic2[key] = dic1[key] + dic2[key]\n",
    "    else:\n",
    "        dic2[key] = dic1[key]\n",
    "print(dic2)\n"
   ]
  },
  {
   "cell_type": "code",
   "execution_count": 16,
   "id": "dc5f3631",
   "metadata": {},
   "outputs": [
    {
     "name": "stdout",
     "output_type": "stream",
     "text": [
      "{'a': 200, 'b': 300, 'c': 300, 'd': 300}\n"
     ]
    }
   ],
   "source": [
    "dic1 = {'a':100, 'b':200, 'c':300}\n",
    "dic2 = {'a':200, 'b':300, 'd':300}\n",
    "newdic = {**dic1 , **dic2}\n",
    "print(newdic)"
   ]
  },
  {
   "cell_type": "markdown",
   "id": "2a800bf6",
   "metadata": {},
   "source": [
    "### 2. Write a Python program to print all unique values in a dictionary."
   ]
  },
  {
   "cell_type": "code",
   "execution_count": 1,
   "id": "478dfc30",
   "metadata": {},
   "outputs": [
    {
     "name": "stdout",
     "output_type": "stream",
     "text": [
      "unique value: {'S005', 'S009', 'S002', 'S001', 'S007'}\n"
     ]
    }
   ],
   "source": [
    "# Sample Data : [{\"V\":\"S001\"}, {\"V\": \"S002\"}, {\"VI\": \"S001\"}, {\"VI\": \"S005\"}, {\"VII\":\"S005\"}, {\"V\":\"S009\"},{\"VIII\":\"S007\"}]\n",
    "# Expected Output : Unique Values: {'S005', 'S002', 'S007', 'S001', 'S009'}\n",
    "\n",
    "dict_1 = [{'V':'S001'}, {'V':'S002'},{'VI':'S001'}, {'VI':'S005'}, {'VII':'S005'}, {'V':'S009'}, {'VII':'S007'}]\n",
    "unique_value = set(x for i in dict_1 for x in i.values())\n",
    "print('unique value:', unique_value)\n"
   ]
  },
  {
   "cell_type": "code",
   "execution_count": 3,
   "id": "48f0ce28",
   "metadata": {},
   "outputs": [
    {
     "name": "stdout",
     "output_type": "stream",
     "text": [
      "{'S002', 'S005', 'S001'}\n"
     ]
    }
   ],
   "source": [
    "dic = [{'V':'S001'}, {'V':'S002'},{'VI':'S001'}, {'VI':'S005'}]\n",
    "a = set()\n",
    "for i in dic:\n",
    "    for j in i.values():\n",
    "        a.add(j)\n",
    "print(a)"
   ]
  },
  {
   "cell_type": "code",
   "execution_count": 6,
   "id": "40c486dd",
   "metadata": {},
   "outputs": [
    {
     "name": "stdout",
     "output_type": "stream",
     "text": [
      "{'S002', 'python', 'S005'}\n"
     ]
    }
   ],
   "source": [
    "dic = {'Vi':'S001', 'Vii':'S002', 'VI':'S001', 'x':'python', 'V':'S005'}\n",
    "a = set()\n",
    "for i in dic.values():\n",
    "    if i not in a:\n",
    "        a.add(i)\n",
    "    else:\n",
    "        a.discard(i)\n",
    "print(a)"
   ]
  },
  {
   "cell_type": "markdown",
   "id": "c03521f7",
   "metadata": {},
   "source": [
    "### 3. Write a Python program to create and display all combinations of letters,\n",
    "selecting each letter from a different key in a dictionary. \n",
    "Sample data : {'1':['a','b'], '2':['c','d']}\n",
    "Expected Output:\n",
    "ac\n",
    "ad\n",
    "bc\n",
    "bd"
   ]
  },
  {
   "cell_type": "code",
   "execution_count": 5,
   "id": "8a2a0267",
   "metadata": {},
   "outputs": [
    {
     "name": "stdout",
     "output_type": "stream",
     "text": [
      "ac\n",
      "ad\n",
      "bc\n",
      "bd\n"
     ]
    }
   ],
   "source": [
    "d = {'1':['a', 'b'], '2':['c', 'd']}\n",
    "for x in d['1']:\n",
    "    for y in d['2']:\n",
    "        print(x + y)"
   ]
  },
  {
   "cell_type": "code",
   "execution_count": 2,
   "id": "e46a58da",
   "metadata": {},
   "outputs": [
    {
     "name": "stdout",
     "output_type": "stream",
     "text": [
      "ac\n",
      "ad\n",
      "bc\n",
      "bd\n"
     ]
    }
   ],
   "source": [
    "dic2 = {'1':['a', 'b'], '2':['c', 'd']}\n",
    "a=[i+j for i in dic2['1'] for j in dic2['2']]\n",
    "for i in a:\n",
    "    print(i)"
   ]
  },
  {
   "cell_type": "code",
   "execution_count": 6,
   "id": "a58ef339",
   "metadata": {},
   "outputs": [
    {
     "name": "stdout",
     "output_type": "stream",
     "text": [
      "ac\n",
      "ad\n",
      "bc\n",
      "bd\n"
     ]
    }
   ],
   "source": [
    "my_dict= {'1':['a', 'b'], '2':['c', 'd']}\n",
    "my_list= list(my_dict.values())\n",
    "for i in my_list[0]:\n",
    "    for j in my_list[1]:\n",
    "        print(i+j)"
   ]
  },
  {
   "cell_type": "code",
   "execution_count": 7,
   "id": "b7695423",
   "metadata": {},
   "outputs": [
    {
     "name": "stdout",
     "output_type": "stream",
     "text": [
      "ac\n",
      "ad\n",
      "bc\n",
      "bd\n"
     ]
    }
   ],
   "source": [
    "from itertools import product\n",
    "\n",
    "d ={'1':['a','b'], '2':['c','d']}\n",
    "for x, y in product(*d.values()):\n",
    "    print(x + y)"
   ]
  },
  {
   "cell_type": "code",
   "execution_count": 1,
   "id": "f98d04de",
   "metadata": {},
   "outputs": [
    {
     "name": "stdout",
     "output_type": "stream",
     "text": [
      "ab\n",
      "cd\n"
     ]
    }
   ],
   "source": [
    "dic = {'1':['a','b'], '2':['c','d']}   \n",
    "for x, y in dic.values():\n",
    "    print(x+y)"
   ]
  },
  {
   "cell_type": "markdown",
   "id": "333f90fd",
   "metadata": {},
   "source": [
    "### 4. Write a Python program to find the highest 3 values of corresponding keys in a dictionary. "
   ]
  },
  {
   "cell_type": "code",
   "execution_count": 9,
   "id": "f3b26e1f",
   "metadata": {},
   "outputs": [
    {
     "name": "stdout",
     "output_type": "stream",
     "text": [
      "ali\n",
      "sarfraz\n",
      "khalid\n"
     ]
    }
   ],
   "source": [
    "dic = {'sarfraz':31, 'junaid':22, 'ali':40, 'ashraf':21, 'khalid':26}\n",
    "highvalues = sorted(dic, key=dic.get, reverse=True)\n",
    "for index in range(3):\n",
    "    print(highvalues[index])"
   ]
  },
  {
   "cell_type": "code",
   "execution_count": 10,
   "id": "a44f7733",
   "metadata": {},
   "outputs": [
    {
     "name": "stdout",
     "output_type": "stream",
     "text": [
      "['ali', 'sarfraz', 'khalid']\n"
     ]
    }
   ],
   "source": [
    "from heapq import nlargest \n",
    "dic = {'sarfraz':31, 'junaid':22, 'ali':40, 'ashraf':21, 'khalid':26}\n",
    "highvalues = nlargest(3, dic, key=dic.get)\n",
    "print(highvalues)"
   ]
  },
  {
   "cell_type": "code",
   "execution_count": 11,
   "id": "446c7a89",
   "metadata": {},
   "outputs": [
    {
     "name": "stdout",
     "output_type": "stream",
     "text": [
      "['ali', 'sarfraz', 'khalid', 'junaid', 'ashraf']\n"
     ]
    }
   ],
   "source": [
    "dic = {'sarfraz':31, 'junaid':22, 'ali':40, 'ashraf':21, 'khalid':26}\n",
    "key_high_value = sorted(dic, key=dic.get, reverse=True)\n",
    "print(key_high_value)"
   ]
  },
  {
   "cell_type": "code",
   "execution_count": 6,
   "id": "c601bbb0",
   "metadata": {},
   "outputs": [
    {
     "name": "stdout",
     "output_type": "stream",
     "text": [
      "[40, 31]\n",
      "{'ali': 40, 'sarfraz': 31}\n"
     ]
    }
   ],
   "source": [
    "dic1 = {'sarfraz':31, 'junaid':22, 'ali':40, 'ashraf':21, 'khalid':26}\n",
    "\n",
    "list1=list(dic1.values())\n",
    "list1.sort(reverse=True)\n",
    "list2=list1[:2]\n",
    "print(list2)\n",
    "\n",
    "dic2={}\n",
    "for i in list2:\n",
    "    for j in dic1.keys():\n",
    "        if dic1[j]==i:\n",
    "            dic2.update({j:dic1[j]})\n",
    "print(dic2)"
   ]
  },
  {
   "cell_type": "code",
   "execution_count": 14,
   "id": "6d10c562",
   "metadata": {},
   "outputs": [
    {
     "name": "stdout",
     "output_type": "stream",
     "text": [
      "[40, 31, 26, 22, 21]\n",
      "[31]\n",
      "{'sarfraz': 31}\n"
     ]
    }
   ],
   "source": [
    "dic1 = {'sarfraz':31, 'junaid':22, 'ali':40, 'ashraf':21, 'khalid':26}\n",
    "\n",
    "list1=list(dic1.values())\n",
    "list1.sort(reverse=True)\n",
    "print(list1)\n",
    "list2=[list1[1]]\n",
    "print(list2)\n",
    "\n",
    "dic2={}\n",
    "for i in list2:\n",
    "    for j in dic1.keys():\n",
    "        if dic1[j]==i:\n",
    "            dic2.update({j:dic1[j]})\n",
    "print(dic2)"
   ]
  },
  {
   "cell_type": "markdown",
   "id": "8c97995c",
   "metadata": {},
   "source": [
    "### 5. Write a Python program to combine values in python list of dictionaries.\n",
    "Sample data: [{'item': 'item1', 'amount': 400}, {'item': 'item2', 'amount': 300}, {'item': 'item1', 'amount': 750}]\n",
    "Expected Output: Counter({'item1': 1150, 'item2': 300})\n"
   ]
  },
  {
   "cell_type": "code",
   "execution_count": 11,
   "id": "c9e93fe2",
   "metadata": {},
   "outputs": [
    {
     "name": "stdout",
     "output_type": "stream",
     "text": [
      "{'item1': 1150, 'item2': 300}\n"
     ]
    }
   ],
   "source": [
    "my_dict=[{'item': 'item1', 'amount': 400}, {'item': 'item2', 'amount': 300}, {'item': 'item1', 'amount': 750}]\n",
    "# Expected Output: Counter({'item1': 1150, 'item2': 300})\n",
    "\n",
    "d={}\n",
    "for x in my_dict :\n",
    "    if x['item'] not in d :\n",
    "        d.update({x['item'] : x['amount']})\n",
    "        \n",
    "    else :\n",
    "        d[x['item']] = d[x['item']] + x['amount']\n",
    "print(d)"
   ]
  },
  {
   "cell_type": "code",
   "execution_count": 4,
   "id": "f1c0e6c3",
   "metadata": {},
   "outputs": [
    {
     "name": "stdout",
     "output_type": "stream",
     "text": [
      "Counter({'item1': 1150, 'item2': 300})\n"
     ]
    }
   ],
   "source": [
    "from collections import Counter\n",
    "item_list = [{'item': 'item1', 'amount': 400}, {'item': 'item2', 'amount': 300}, {'item': 'item1', 'amount': 750}]\n",
    "result = Counter()\n",
    "for d in item_list:\n",
    "    result[d['item']] += d['amount']\n",
    "print(result) "
   ]
  },
  {
   "cell_type": "markdown",
   "id": "52df69db",
   "metadata": {},
   "source": [
    "### 6. Write a Python program to create a dictionary from a string.\n",
    "- Note: Track the count of the letters from the string.\n",
    "- Sample string : 'w3resource'\n",
    "- Expected output: {'w': 1, '3': 1, 'r': 2, 'e': 2, 's': 1, 'o': 1, 'u': 1, 'c': 1}"
   ]
  },
  {
   "cell_type": "code",
   "execution_count": 1,
   "id": "c79b0bf9",
   "metadata": {},
   "outputs": [
    {
     "name": "stdout",
     "output_type": "stream",
     "text": [
      "{'w': 1, '3': 1, 'r': 2, 'e': 2, 's': 1, 'o': 1, 'u': 1, 'c': 1}\n"
     ]
    }
   ],
   "source": [
    "from collections import defaultdict, Counter\n",
    "\n",
    "str1='w3resource'\n",
    "my_dict={}\n",
    "for letter in str1:\n",
    "    my_dict[letter] = my_dict.get(letter, 0)+1\n",
    "print(my_dict)"
   ]
  },
  {
   "cell_type": "code",
   "execution_count": 7,
   "id": "f953db2c",
   "metadata": {},
   "outputs": [
    {
     "name": "stdout",
     "output_type": "stream",
     "text": [
      "{'w': 1, '3': 1, 'r': 2, 'e': 2, 's': 1, 'o': 1, 'u': 1, 'c': 1}\n"
     ]
    }
   ],
   "source": [
    "str1='w3resource'\n",
    "my_dict={}\n",
    "for letter in str1:\n",
    "    my_dict[letter] = my_dict.get(letter,0)+1\n",
    "print(my_dict)"
   ]
  },
  {
   "cell_type": "code",
   "execution_count": 8,
   "id": "bf9551ae",
   "metadata": {},
   "outputs": [
    {
     "name": "stdout",
     "output_type": "stream",
     "text": [
      "Enter String:sarfraz\n",
      "{'s': 1, 'a': 2, 'r': 2, 'f': 1, 'z': 1}\n"
     ]
    }
   ],
   "source": [
    "def string_count(n):\n",
    "    dict1 = {}\n",
    "    for ch in n:\n",
    "        if ch in dict1:\n",
    "            dict1[ch] += 1\n",
    "        else:\n",
    "            dict1[ch] = 1\n",
    "    print(dict1)\n",
    "string=input('Enter String:')\n",
    "string_count(string)"
   ]
  },
  {
   "cell_type": "code",
   "execution_count": 4,
   "id": "f9950a4a",
   "metadata": {},
   "outputs": [
    {
     "name": "stdout",
     "output_type": "stream",
     "text": [
      "Enter a string: sarfraz\n",
      "s : 1\n",
      "a : 2\n",
      "r : 2\n",
      "f : 1\n",
      "z : 1\n"
     ]
    }
   ],
   "source": [
    "st = input(\"Enter a string: \")\n",
    "dic = {} #creates an empty dictionary\n",
    "for ch in st:\n",
    "    if ch in dic: #if next character is already in the dictionary\n",
    "        dic[ch] += 1\n",
    "    else:\n",
    "        dic[ch] = 1 #if ch appears for the first time\n",
    "for key in dic:\n",
    "    print(key,':',dic[key])"
   ]
  },
  {
   "cell_type": "code",
   "execution_count": 9,
   "id": "b2ea262e",
   "metadata": {},
   "outputs": [
    {
     "name": "stdout",
     "output_type": "stream",
     "text": [
      "{'s': 1, 'a': 2, 'r': 2, 'f': 1, 'z': 1}\n"
     ]
    }
   ],
   "source": [
    "a='sarfraz'\n",
    "dict1={}\n",
    "for i in a:\n",
    "    str1=a.count(i)\n",
    "    dict1[i]=str1\n",
    "print(dict1)"
   ]
  },
  {
   "cell_type": "markdown",
   "id": "46e71b00",
   "metadata": {},
   "source": [
    "### 7. Write a Python program to print a dictionary in table format.   Click me to see the sample solution"
   ]
  },
  {
   "cell_type": "code",
   "execution_count": 11,
   "id": "d6da708f",
   "metadata": {},
   "outputs": [
    {
     "name": "stdout",
     "output_type": "stream",
     "text": [
      "('C1', 'C2', 'C3')\n",
      "(1, 5, 9)\n",
      "(2, 6, 10)\n",
      "(3, 7, 11)\n"
     ]
    }
   ],
   "source": [
    "my_dict = {'C1':[1,2,3],'C2':[5,6,7],'C3':[9,10,11]}\n",
    "for row in zip(*([key] + (value) for key, value in sorted(my_dict.items()))):\n",
    "    print(row)\n",
    "#     print(*row)"
   ]
  },
  {
   "cell_type": "code",
   "execution_count": 6,
   "id": "d08350a5",
   "metadata": {},
   "outputs": [
    {
     "name": "stdout",
     "output_type": "stream",
     "text": [
      "NAME       AGE        COURSE    \n",
      "Samuel     21         Data Structures\n",
      "Richie     20         Machine Learning\n",
      "Lauren     21         OOPS with java\n"
     ]
    }
   ],
   "source": [
    "dict1 = {1: [\"Samuel\", 21, 'Data Structures'],\n",
    "         2: [\"Richie\", 20, 'Machine Learning'],\n",
    "         3: [\"Lauren\", 21, 'OOPS with java'],\n",
    "         }\n",
    "print(\"{:<10} {:<10} {:<10}\".format('NAME', 'AGE', 'COURSE'))\n",
    "for key, value in dict1.items():\n",
    "    n, a, c = value\n",
    "    print(\"{:<10} {:<10} {:<10}\".format(n, a, c))"
   ]
  },
  {
   "cell_type": "markdown",
   "id": "a1d03165",
   "metadata": {},
   "source": [
    "### 8. Write a Python program to count the values associated with key in a dictionary.\n",
    "- Expected Output:\n",
    "- 6\n",
    "- 2"
   ]
  },
  {
   "cell_type": "code",
   "execution_count": 7,
   "id": "2630394d",
   "metadata": {},
   "outputs": [
    {
     "name": "stdout",
     "output_type": "stream",
     "text": [
      "6\n",
      "2\n"
     ]
    }
   ],
   "source": [
    "student = [{'id': 1, 'success': True, 'name': 'Lary'},\n",
    " {'id': 2, 'success': False, 'name': 'Rabi'},\n",
    " {'id': 3, 'success': True, 'name': 'Alex'}]\n",
    "\n",
    "print(sum(d['id'] for d in student))\n",
    "print(sum(d['success'] for d in student))"
   ]
  },
  {
   "cell_type": "markdown",
   "id": "1d4de4da",
   "metadata": {},
   "source": [
    "### 9. Write a Python program to convert a list into a nested dictionary of keys."
   ]
  },
  {
   "cell_type": "code",
   "execution_count": 8,
   "id": "a708130c",
   "metadata": {},
   "outputs": [
    {
     "name": "stdout",
     "output_type": "stream",
     "text": [
      "{1: {2: {3: {4: {}}}}}\n"
     ]
    }
   ],
   "source": [
    "list1 = [1,2,3,4]\n",
    "newdic = current = {}\n",
    "for i in list1:\n",
    "    current[i] = {}\n",
    "    current = current[i]\n",
    "print(newdic)"
   ]
  },
  {
   "cell_type": "code",
   "execution_count": 1,
   "id": "7a064ad5",
   "metadata": {},
   "outputs": [
    {
     "name": "stdout",
     "output_type": "stream",
     "text": [
      "{1: {'a': 10}}\n",
      "{1: {'a': 10, 2: {'b': 20}}}\n"
     ]
    }
   ],
   "source": [
    "newdic = {1:{}}\n",
    "newdic = current={}\n",
    "current[1] = {'a':10}\n",
    "print(newdic)\n",
    "current = current[1]\n",
    "current[2] = {'b':20}\n",
    "current = {}\n",
    "print(newdic)"
   ]
  },
  {
   "cell_type": "code",
   "execution_count": 1,
   "id": "6e3b55a6",
   "metadata": {},
   "outputs": [
    {
     "name": "stdout",
     "output_type": "stream",
     "text": [
      "{10: {1: 'A', 20: {2: 'B', 30: {3: 'C'}}}}\n"
     ]
    }
   ],
   "source": [
    "n=1\n",
    "m=65\n",
    "list1 = [10, 20, 30]\n",
    "newdic = current = {}\n",
    "for i in list1:\n",
    "    current[i] = {n:chr(m)}\n",
    "    n += 1\n",
    "    m += 1\n",
    "    current = current[i]\n",
    "print(newdic)"
   ]
  },
  {
   "cell_type": "markdown",
   "id": "24cddddd",
   "metadata": {},
   "source": [
    "### 10. Write a Python program to sort a list alphabetically in a dictionary."
   ]
  },
  {
   "cell_type": "code",
   "execution_count": 9,
   "id": "533282da",
   "metadata": {},
   "outputs": [
    {
     "name": "stdout",
     "output_type": "stream",
     "text": [
      "{'n1': [1, 2, 3], 'n2': [1, 2, 5], 'n': [2, 3, 4]}\n"
     ]
    }
   ],
   "source": [
    "dct = {'n1':[2,3,1], 'n2':[5,1,2], 'n':[3,2,4]}\n",
    "sorted_dict = {x: sorted(y) for x, y in dct.items()}\n",
    "print(sorted_dict)"
   ]
  },
  {
   "cell_type": "markdown",
   "id": "14e15c9b",
   "metadata": {},
   "source": [
    "### 11. Write a Python program to create a dictionary from two lists without losing duplicate values.\n",
    "Sample lists: ['Class-V', 'Class-VI', 'Class-VII', 'Class-VIII'], [1, 2, 2, 3]\n",
    "Expected Output: defaultdict(<class 'set'>, {'Class-V': {1}, 'Class-VI': {2}, 'Class-VII': {2}, 'Class-VIII': {3}})\n"
   ]
  },
  {
   "cell_type": "code",
   "execution_count": 12,
   "id": "d7d2301c",
   "metadata": {},
   "outputs": [
    {
     "name": "stdout",
     "output_type": "stream",
     "text": [
      "{'Class-V': 1, 'Class-VI': 2, 'Class-VII': 2, 'Class-VIII': 3}\n"
     ]
    }
   ],
   "source": [
    "lst1=['Class-V', 'Class-VI', 'Class-VII', 'Class-VIII']\n",
    "lst2 =[1, 2, 2, 3]\n",
    "dic = dict(zip(lst1,lst2))\n",
    "print(dic)"
   ]
  },
  {
   "cell_type": "markdown",
   "id": "c9bf976f",
   "metadata": {},
   "source": [
    "### 12. insertion sort a dictionary according to 3rd key value"
   ]
  },
  {
   "cell_type": "code",
   "execution_count": 1,
   "id": "367e0311",
   "metadata": {},
   "outputs": [
    {
     "name": "stdout",
     "output_type": "stream",
     "text": [
      "[{'a': 5, 'b': 100, 'c': 3}, {'a': 2, 'b': 1, 'c': 101}, {'a': 1, 'b': 0, 'c': 200}]\n"
     ]
    }
   ],
   "source": [
    "dict1 = [{'a':2, 'b':1, 'c':101}, {'a':1, 'b':0, 'c':200}, {'a':5, 'b':100, 'c':3}]\n",
    "for i in range(len(dict1)):\n",
    "    for j in range(len(dict1)):\n",
    "        if dict1[i]['c'] < dict1[j]['c']:\n",
    "            dict1[i],dict1[j] = dict1[j],dict1[i]\n",
    "print(dict1)"
   ]
  },
  {
   "cell_type": "code",
   "execution_count": 10,
   "id": "b33d8433",
   "metadata": {},
   "outputs": [
    {
     "name": "stdout",
     "output_type": "stream",
     "text": [
      "OrderedDict([('rajnish', '9'), ('ravi', '10'), ('sanjeev', '15'), ('suraj', '32'), ('yash', '2')])\n"
     ]
    }
   ],
   "source": [
    "from collections import OrderedDict\n",
    " \n",
    "dict1 = {'ravi': '10', 'rajnish': '9',\n",
    "        'sanjeev': '15', 'yash': '2', 'suraj': '32'}\n",
    "dict1 = OrderedDict(sorted(dict1.items()))\n",
    "print(dict1)"
   ]
  },
  {
   "cell_type": "code",
   "execution_count": 11,
   "id": "0aa80b08",
   "metadata": {},
   "outputs": [
    {
     "name": "stdout",
     "output_type": "stream",
     "text": [
      "[{'a': 2, 'b': 1, 'c': 101}, {'a': 5, 'b': 100, 'c': 150}, {'a': 1, 'b': 0, 'c': 200}]\n"
     ]
    }
   ],
   "source": [
    "dict1 = [{'a':2, 'b':1, 'c':101}, {'a':1, 'b':0, 'c':200}, {'a':5, 'b':100, 'c':150}]\n",
    "print(sorted(dict1,key=lambda i:i['c']))"
   ]
  },
  {
   "cell_type": "code",
   "execution_count": 18,
   "id": "16fc4d71",
   "metadata": {},
   "outputs": [
    {
     "name": "stdout",
     "output_type": "stream",
     "text": [
      "[{'car': 'Mitsubishi', 'year': 2000}, {'car': 'Ford', 'year': 2005}, {'car': 'VW', 'year': 2011}, {'car': 'BMW', 'year': 2019}]\n"
     ]
    }
   ],
   "source": [
    "cars = [{'car': 'Ford', 'year': 2005}, {'car': 'Mitsubishi', 'year': 2000},{'car': 'BMW', 'year': 2019},\n",
    "        {'car': 'VW', 'year': 2011}]\n",
    "for i in range(len(cars)):\n",
    "    for j in range(len(cars)):\n",
    "        if cars[i]['year'] < cars[j]['year']:\n",
    "            cars[i], cars[j] = cars[j], cars[i]\n",
    "print(cars)"
   ]
  },
  {
   "cell_type": "markdown",
   "id": "80356f03",
   "metadata": {},
   "source": [
    "### 13. capital letter convert into small letter and add in value of lowercase"
   ]
  },
  {
   "cell_type": "code",
   "execution_count": 3,
   "id": "286fedd5",
   "metadata": {},
   "outputs": [
    {
     "name": "stdout",
     "output_type": "stream",
     "text": [
      "{'a': 60, 'b': 65, 'c': 20, 'd': 60}\n"
     ]
    }
   ],
   "source": [
    "d = {'a':45, 'b':65, 'A':15, 'c':10, 'C':10, 'D':60}\n",
    "dic = {i.lower(): d.get (i.lower(),0) + d.get (i.upper(),0) for i in d.keys()}\n",
    "print(dic)"
   ]
  },
  {
   "cell_type": "code",
   "execution_count": 1,
   "id": "4cb31a23",
   "metadata": {},
   "outputs": [
    {
     "name": "stdout",
     "output_type": "stream",
     "text": [
      "{'a': 60, 'b': 65, 'c': 20, 'd': 60}\n"
     ]
    }
   ],
   "source": [
    "d = {'a':45, 'b':65, 'A':15, 'c':10, 'C':10, 'D':60}\n",
    "dic = {}\n",
    "for i in d.keys():\n",
    "    dic.update({i.lower():d.get(i.lower(),0) + d.get(i.upper(),0)})\n",
    "print(dic)"
   ]
  },
  {
   "cell_type": "markdown",
   "id": "300f2fd2",
   "metadata": {},
   "source": [
    "### print maximum value with key"
   ]
  },
  {
   "cell_type": "code",
   "execution_count": 9,
   "id": "0ccf133c",
   "metadata": {},
   "outputs": [
    {
     "name": "stdout",
     "output_type": "stream",
     "text": [
      "{'akbar': 95}\n"
     ]
    }
   ],
   "source": [
    "student = {'ali':{'score':91}, 'akbar':{'score':95}, 'ahmad':{'score':81}}\n",
    "def maximum():\n",
    "    maxim = 0\n",
    "    std = ''\n",
    "    for i in student:\n",
    "        score = student.get(i)['score']\n",
    "        if score > maxim:\n",
    "            maxim = score\n",
    "            std = i\n",
    "    return {std:maxim}\n",
    "a = maximum()\n",
    "print(a)"
   ]
  },
  {
   "cell_type": "markdown",
   "id": "b6f11242",
   "metadata": {},
   "source": [
    "### 12. Write a Python program to replace dictionary values with their average."
   ]
  },
  {
   "cell_type": "code",
   "execution_count": 18,
   "id": "aa9d378a",
   "metadata": {},
   "outputs": [
    {
     "name": "stdout",
     "output_type": "stream",
     "text": [
      "30\n",
      "22\n"
     ]
    }
   ],
   "source": [
    "dct = {'sarfraz':30, 'saud':22}\n",
    "for i in dct:\n",
    "    print(dct[i])"
   ]
  },
  {
   "cell_type": "markdown",
   "id": "ff70b402",
   "metadata": {},
   "source": [
    "### 13 write a dictionary and sum the value of all keys"
   ]
  },
  {
   "cell_type": "code",
   "execution_count": 5,
   "id": "ea343184",
   "metadata": {},
   "outputs": [
    {
     "name": "stdout",
     "output_type": "stream",
     "text": [
      "9408.23\n",
      "2354\n"
     ]
    }
   ],
   "source": [
    "dic = [{\"name\":\"raja\",\"totalPremium\":2354},{\"name\":\"Vini\",\"totalPremium\":\"2345\"},\n",
    " {\"name\":\"raja\",\"totalPremium\":2354.90},{\"name\":\"raja\",\"totalPremium\":\"2354.33\"}]\n",
    "\n",
    "data=[float(i[\"totalPremium\"]) for i in dic]\n",
    "print(sum(data))\n",
    "\n",
    "\n",
    "dic1={\"name\":\"raja\",\"totalPremium\":2354}\n",
    "a = (dic1[\"totalPremium\"])\n",
    "print(a)"
   ]
  },
  {
   "cell_type": "code",
   "execution_count": 6,
   "id": "b03a55f5",
   "metadata": {},
   "outputs": [
    {
     "name": "stdout",
     "output_type": "stream",
     "text": [
      "{'name': 'raja', 'amount': 9408.23}\n"
     ]
    }
   ],
   "source": [
    "dic = [{\"name\":\"raja\",\"amount\":2354},{\"name\":\"Vini\",\"amount\":\"2345\"},\n",
    " {\"name\":\"raja\",\"amount\":2354.90},{\"name\":\"raja\",\"amount\":\"2354.33\"}]\n",
    "b = []\n",
    "e = {}\n",
    "for i in dic:\n",
    "#     print(i)\n",
    "    b.append(float(i[\"amount\"])) \n",
    "# print(sum(b))\n",
    "c = (dic[0])\n",
    "c[\"amount\"]=sum(b)\n",
    "print(c)        "
   ]
  },
  {
   "cell_type": "markdown",
   "id": "71cf3a25",
   "metadata": {},
   "source": [
    "### 14 . "
   ]
  },
  {
   "cell_type": "code",
   "execution_count": 3,
   "id": "0954f813",
   "metadata": {},
   "outputs": [
    {
     "name": "stdout",
     "output_type": "stream",
     "text": [
      "{'w': 1, '3': 1, 'r': 2, 'e': 2, 's': 1, 'o': 1, 'u': 1, 'c': 1}\n"
     ]
    }
   ],
   "source": [
    "str1='w3resource'\n",
    "my_dict={}\n",
    "for letter in str1:\n",
    "    my_dict[letter] = my_dict.get(letter, 0)+1\n",
    "print(my_dict)"
   ]
  },
  {
   "cell_type": "code",
   "execution_count": 2,
   "id": "bcd6fb63",
   "metadata": {},
   "outputs": [
    {
     "name": "stdout",
     "output_type": "stream",
     "text": [
      "{'w': None, '3': None, 'r': None, 'e': None, 's': None, 'o': None, 'u': None, 'c': None}\n"
     ]
    }
   ],
   "source": [
    "str1='w3resource'\n",
    "dict1={}\n",
    "for i in str1:\n",
    "    dict1[i]=dict1.get(i)\n",
    "print(dict1)"
   ]
  },
  {
   "cell_type": "code",
   "execution_count": 11,
   "id": "6f25c573",
   "metadata": {},
   "outputs": [
    {
     "name": "stdout",
     "output_type": "stream",
     "text": [
      "1 what is python\n",
      "answer: python is a programming language\n",
      "2 what is python\n",
      "answer: python is a programming language\n",
      "3 what is python\n",
      "answer: python is a programming language\n",
      "4 what is python\n",
      "answer: python is a programming language\n",
      "5 what is python\n",
      "answer: python is a programming language\n",
      "6 what is python\n",
      "answer: python is a programming language\n",
      "7 what is django\n",
      "answer: django is a python based framework\n",
      "8 what is python\n",
      "answer: python is a programming language\n",
      "9 what is python\n",
      "answer: python is a programming language\n",
      "10 what is python\n",
      "answer: python is a programming language\n",
      "1.python is a high level language  \n",
      "2.python is a high level language  \n",
      "3.  \n",
      "4.python is a high level language  \n",
      "5.  \n",
      "6.python is a high level language  \n",
      "7.django is a rapid production  \n",
      "8.  \n",
      "9.python is a high level language  \n",
      "10.python is a high level language  \n"
     ]
    }
   ],
   "source": [
    "dic1 = [\n",
    "    {'question':'what is python', 'answer':'python is a programming language', 'explanation':'python is a high level language'},\n",
    "    {'question':'what is python', 'answer':'python is a programming language', 'explanation':'python is a high level language'},\n",
    "    {'question':'what is python', 'answer':'python is a programming language', 'explanation':''},\n",
    "    {'question':'what is python', 'answer':'python is a programming language', 'explanation':'python is a high level language'},\n",
    "    {'question':'what is python', 'answer':'python is a programming language', 'explanation':''},\n",
    "    {'question':'what is python', 'answer':'python is a programming language', 'explanation':'python is a high level language'},\n",
    "    {'question':'what is django', 'answer':'django is a python based framework', 'explanation':'django is a rapid production'},\n",
    "    {'question':'what is python', 'answer':'python is a programming language', 'explanation':''},\n",
    "    {'question':'what is python', 'answer':'python is a programming language', 'explanation':'python is a high level language'},\n",
    "    {'question':'what is python', 'answer':'python is a programming language', 'explanation':'python is a high level language'},\n",
    "]\n",
    "\n",
    "num = 1\n",
    "if num < len(dic1):\n",
    "    for i in dic1:\n",
    "        if 'question' in i:\n",
    "            print(f\"{num} {i['question']}\")\n",
    "        if 'answer' in i:\n",
    "            print(f\"answer: {i['answer']}\")\n",
    "            num += 1\n",
    "        \n",
    "        \n",
    "count = 1\n",
    "if count < len(dic1):\n",
    "    for i in dic1:\n",
    "        print(f\"{count}.{i['explanation']}  \")\n",
    "        count += 1\n"
   ]
  },
  {
   "cell_type": "code",
   "execution_count": 17,
   "id": "d20b79d8",
   "metadata": {},
   "outputs": [
    {
     "name": "stdout",
     "output_type": "stream",
     "text": [
      "8.5\n"
     ]
    }
   ],
   "source": [
    "dic1 = [{'a':'1'}, {'b':'3.5'}, {'c':4}]\n",
    "total = 0\n",
    "for i in dic1:\n",
    "    for j in i.values():\n",
    "        total += float(j)\n",
    "print(total)"
   ]
  },
  {
   "cell_type": "code",
   "execution_count": 6,
   "id": "655a6764",
   "metadata": {},
   "outputs": [
    {
     "name": "stdout",
     "output_type": "stream",
     "text": [
      "b : 2\n",
      "c : 1\n",
      "a : 2\n"
     ]
    }
   ],
   "source": [
    "lst = ['a', 'a', 'b', 'c', 'b']\n",
    "set1 = set(lst)\n",
    "for i in set1:\n",
    "    a = lst.count(i)\n",
    "    print(i, ':', a)"
   ]
  },
  {
   "cell_type": "code",
   "execution_count": 7,
   "id": "cea0f8bd",
   "metadata": {},
   "outputs": [
    {
     "name": "stdout",
     "output_type": "stream",
     "text": [
      "{'a': 2, 'b': 3, 'c': 1}\n"
     ]
    }
   ],
   "source": [
    "lst = ['a', 'a', 'b', 'c', 'b','b']\n",
    "dic={}\n",
    "for i in lst:\n",
    "    if i not in dic:\n",
    "        dic[i]= dic.get(i,lst.count(i))\n",
    "print(dic)"
   ]
  },
  {
   "cell_type": "markdown",
   "id": "6b611a00",
   "metadata": {},
   "source": [
    "## 15.create fake database using dictionary"
   ]
  },
  {
   "cell_type": "code",
   "execution_count": 11,
   "id": "bdd8010b",
   "metadata": {},
   "outputs": [
    {
     "data": {
      "text/plain": [
       "{1: {'name': 'Clean car'},\n",
       " 2: {'name': 'Write blog'},\n",
       " 3: {'name': 'Start stream'},\n",
       " 4: {'name': 'Suhail'},\n",
       " 5: {'name': 'Sadik'}}"
      ]
     },
     "execution_count": 11,
     "metadata": {},
     "output_type": "execute_result"
    }
   ],
   "source": [
    "fakeDatabase = {\n",
    "    1:{'name':'Clean car'},\n",
    "    2:{'name':'Write blog'},\n",
    "    3:{'name':'Start stream'},\n",
    "}\n",
    "\n",
    "def post(data):\n",
    "        itemId = len(fakeDatabase.keys()) + 1\n",
    "        fakeDatabase[itemId] = {'name':data['name']}\n",
    "        return fakeDatabase\n",
    "    \n",
    "post({'name':'Suhail'})\n",
    "post({'name':'Sadik'})\n",
    "\n",
    "\n",
    "# print(fakeDatabase)"
   ]
  },
  {
   "cell_type": "markdown",
   "id": "47bbd12a",
   "metadata": {},
   "source": [
    "### 16. sort given dictionary"
   ]
  },
  {
   "cell_type": "code",
   "execution_count": 2,
   "id": "87fa0ce3",
   "metadata": {},
   "outputs": [
    {
     "name": "stdout",
     "output_type": "stream",
     "text": [
      "{'d': 1, 'c': 2, 'a': 3, 'f': 4, 'e': 4, 'b': 5}\n"
     ]
    }
   ],
   "source": [
    "d = {'c': 2, 'd': 1, 'a': 3, 'b': 5, 'f': 4, 'e':4}\n",
    "sorted_value = sorted(d.values())\n",
    "\n",
    "sorted_dict = {}\n",
    "\n",
    "for i in sorted_value:\n",
    "    for j in d:\n",
    "        if d[j] == i:\n",
    "            sorted_dict.update({j:d[j]})\n",
    "print(sorted_dict)"
   ]
  },
  {
   "cell_type": "code",
   "execution_count": 16,
   "id": "c5bca0e2",
   "metadata": {},
   "outputs": [
    {
     "name": "stdout",
     "output_type": "stream",
     "text": [
      "{'a': 3, 'b': 5, 'c': 2, 'd': 1, 'f': 4}\n"
     ]
    }
   ],
   "source": [
    "d = {'c': 2, 'd': 1, 'a': 3, 'b': 5, 'f': 4}\n",
    "sorted_list = sorted(d.items())\n",
    "sorted_keys = {}\n",
    "for i in sorted_list:\n",
    "    sorted_keys.update({i[0]:i[1]})\n",
    "print(sorted_keys)"
   ]
  },
  {
   "cell_type": "markdown",
   "id": "f7591c62",
   "metadata": {},
   "source": [
    "### 17 . differentiate duplicate value in new list of dictionary"
   ]
  },
  {
   "cell_type": "code",
   "execution_count": 2,
   "id": "0848a38b",
   "metadata": {},
   "outputs": [],
   "source": [
    "data = [\n",
    "    {\"customer_list\":2, \"list_name\":\"c1\", \"name\":\"Anam\"},\n",
    "    {\"customer_list\":3, \"list_name\":\"c5\", \"name\":\"Nawaz\"},\n",
    "    {\"customer_list\":2, \"list_name\":\"c2\", \"name\":\"Junaid\"},\n",
    "    {\"customer_list\":3, \"list_name\":\"c6\", \"name\":\"Sufiyan\"},\n",
    "    {\"customer_list\":4, \"list_name\":\"c7\", \"name\":\"Bilal\"},\n",
    "    {\"customer_list\":5, \"list_name\":\"c8\", \"name\":\"Sarfraz\"}\n",
    "]"
   ]
  },
  {
   "cell_type": "code",
   "execution_count": 6,
   "id": "be2615de",
   "metadata": {},
   "outputs": [
    {
     "name": "stdout",
     "output_type": "stream",
     "text": [
      "unique: [{'customer_list': 4, 'list_name': 'c7', 'name': 'Bilal'}, {'customer_list': 5, 'list_name': 'c8', 'name': 'Sarfraz'}]\n",
      "common: [{'customer_list': 2, 'list_name': 'c1', 'name': 'Anam'}, {'customer_list': 3, 'list_name': 'c5', 'name': 'Nawaz'}, {'customer_list': 2, 'list_name': 'c2', 'name': 'Junaid'}, {'customer_list': 3, 'list_name': 'c6', 'name': 'Sufiyan'}]\n"
     ]
    }
   ],
   "source": [
    "unique=[]\n",
    "common=[]\n",
    "for i in range(len(data)):\n",
    "    for j in range(0,len(data)):\n",
    "        if data[i][\"customer_list\"]==data[j][\"customer_list\"] and i!=j:\n",
    "            common.append(data[i])\n",
    "    if data[i] not in common:\n",
    "        unique.append(data[i])\n",
    "        \n",
    "print('unique:', unique)\n",
    "print('common:', common)"
   ]
  },
  {
   "cell_type": "markdown",
   "id": "13cafff7",
   "metadata": {},
   "source": [
    "### 18."
   ]
  },
  {
   "cell_type": "code",
   "execution_count": 1,
   "id": "9ba47d9b",
   "metadata": {},
   "outputs": [
    {
     "name": "stdout",
     "output_type": "stream",
     "text": [
      "[{'Monday': '--', 'Tuesday': 'EM L AW', 'Wednesday': '--', 'Thursday': '--', 'Friday': 'EM L AW'}, {'Monday': 'BDLT L VB', 'Tuesday': '--', 'Wednesday': '--', 'Thursday': '--', 'Friday': 'BDLT L VB'}, {'Monday': 'CCS L ZM', 'Tuesday': 'BDA L AS', 'Wednesday': 'BDA L AS', 'Thursday': 'BC g VB / CC g ZM', 'Friday': 'CCS L ZM'}, {'Monday': '--', 'Tuesday': '--', 'Wednesday': '--', 'Thursday': 'EM L AW', 'Friday': 'BC g VB / CC g ZM'}, {'Monday': '--', 'Tuesday': '--', 'Wednesday': 'CCS L ZM', 'Thursday': 'BDA L AS', 'Friday': '--'}, {'Monday': 'EM L AW', 'Tuesday': 'CCS L ZM', 'Wednesday': 'BC g VB / CC g ZM', 'Thursday': 'BDLT L VB', 'Friday': '--'}]\n"
     ]
    }
   ],
   "source": [
    "list1 = [\n",
    "    ['--', 'EM L AW', '--', '--', 'EM L AW'],\n",
    "    ['BDLT L VB', '--', '--', '--', 'BDLT L VB'],\n",
    "    ['CCS L ZM', 'BDA L AS', 'BDA L AS', 'BC g VB / CC g ZM', 'CCS L ZM'],\n",
    "    ['--', '--', '--', 'EM L AW', 'BC g VB / CC g ZM'],\n",
    "    ['--', '--', 'CCS L ZM', 'BDA L AS', '--'],\n",
    "    ['EM L AW', 'CCS L ZM', 'BC g VB / CC g ZM', 'BDLT L VB', '--']\n",
    "]\n",
    "\n",
    "dic1=[{'Monday':i[0], 'Tuesday':i[1], 'Wednesday':i[2], 'Thursday':i[3], 'Friday':i[4]} for i in list1]\n",
    "print(dic1)"
   ]
  },
  {
   "cell_type": "code",
   "execution_count": 2,
   "id": "e28f85ae",
   "metadata": {},
   "outputs": [
    {
     "name": "stdout",
     "output_type": "stream",
     "text": [
      "[{'Monday': '--', 'Tuesday': 'EM L AW', 'Wednesday': '--', 'Thursday': '--', 'Friday': 'EM L AW'}, {'Monday': 'BDLT L VB', 'Tuesday': '--', 'Wednesday': '--', 'Thursday': '--', 'Friday': 'BDLT L VB'}, {'Monday': 'CCS L ZM', 'Tuesday': 'BDA L AS', 'Wednesday': 'BDA L AS', 'Thursday': 'BC g VB / CC g ZM', 'Friday': 'CCS L ZM'}, {'Monday': '--', 'Tuesday': '--', 'Wednesday': '--', 'Thursday': 'EM L AW', 'Friday': 'BC g VB / CC g ZM'}, {'Monday': '--', 'Tuesday': '--', 'Wednesday': 'CCS L ZM', 'Thursday': 'BDA L AS', 'Friday': '--'}, {'Monday': 'EM L AW', 'Tuesday': 'CCS L ZM', 'Wednesday': 'BC g VB / CC g ZM', 'Thursday': 'BDLT L VB', 'Friday': '--'}]\n"
     ]
    }
   ],
   "source": [
    "list2 = []\n",
    "\n",
    "for i in range(len(list1)):\n",
    "    list3 = ['Monday', 'Tuesday', 'Wednesday', 'Thursday', 'Friday']\n",
    "    list2.append({})\n",
    "    for j in range(len(list1[i])):\n",
    "        list2[i][list3[j]] = list1[i][j]\n",
    "    \n",
    "print(list2)"
   ]
  },
  {
   "cell_type": "markdown",
   "id": "e96b5713",
   "metadata": {},
   "source": [
    "### 19. "
   ]
  }
 ],
 "metadata": {
  "kernelspec": {
   "display_name": "Python 3 (ipykernel)",
   "language": "python",
   "name": "python3"
  },
  "language_info": {
   "codemirror_mode": {
    "name": "ipython",
    "version": 3
   },
   "file_extension": ".py",
   "mimetype": "text/x-python",
   "name": "python",
   "nbconvert_exporter": "python",
   "pygments_lexer": "ipython3",
   "version": "3.10.4"
  },
  "vscode": {
   "interpreter": {
    "hash": "49335d64aae0e614fc472b3f2b7d16e8038532c55ba6e230023d24a1fbad0e69"
   }
  }
 },
 "nbformat": 4,
 "nbformat_minor": 5
}
