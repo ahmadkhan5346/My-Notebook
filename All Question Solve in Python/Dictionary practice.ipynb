{
 "cells": [
  {
   "cell_type": "markdown",
   "id": "54823b0c",
   "metadata": {},
   "source": [
    "# Question on Dictionary"
   ]
  },
  {
   "cell_type": "markdown",
   "id": "fe92614b",
   "metadata": {},
   "source": [
    "### 1. Write a Python program to combine two dictionary adding values for common keys."
   ]
  },
  {
   "cell_type": "code",
   "execution_count": 2,
   "id": "493ee743",
   "metadata": {},
   "outputs": [
    {
     "name": "stdout",
     "output_type": "stream",
     "text": [
      "{'a': 300, 'b': 500, 'd': 300, 'c': 300}\n"
     ]
    }
   ],
   "source": [
    "# d1 = {'a': 100, 'b': 200, 'c':300}\n",
    "# d2 = {'a': 300, 'b': 200, 'd':400}\n",
    "# Sample output: Counter({'a': 400, 'b': 400, 'd': 400, 'c': 300})\n",
    "\n",
    "\n",
    "dic1 = {'a':100, 'b':200, 'c':300}\n",
    "dic2 = {'a':200, 'b':300, 'd':300}\n",
    "for key in dic1:\n",
    "    if key in dic2:\n",
    "        dic2[key] = dic1[key] + dic2[key]\n",
    "    else:\n",
    "        dic2[key] = dic1[key]\n",
    "print(dic2)"
   ]
  },
  {
   "cell_type": "markdown",
   "id": "2a800bf6",
   "metadata": {},
   "source": [
    "### 2. Write a Python program to print all unique values in a dictionary."
   ]
  },
  {
   "cell_type": "code",
   "execution_count": 11,
   "id": "478dfc30",
   "metadata": {},
   "outputs": [
    {
     "name": "stdout",
     "output_type": "stream",
     "text": [
      "unique value: {'S007', 'S001', 'S002', 'S005', 'S009'}\n"
     ]
    }
   ],
   "source": [
    "# Sample Data : [{\"V\":\"S001\"}, {\"V\": \"S002\"}, {\"VI\": \"S001\"}, {\"VI\": \"S005\"}, {\"VII\":\"S005\"}, {\"V\":\"S009\"},{\"VIII\":\"S007\"}]\n",
    "# Expected Output : Unique Values: {'S005', 'S002', 'S007', 'S001', 'S009'}\n",
    "\n",
    "dict_1 = [{'V':'S001'}, {'V':'S002'},{'VI':'S001'}, {'VI':'S005'}, {'VII':'S005'}, {'V':'S009'}, {'VII':'S007'}]\n",
    "unique_value = set(x for i in dict_1 for x in i.values())\n",
    "print('unique value:', unique_value)\n"
   ]
  },
  {
   "cell_type": "code",
   "execution_count": 34,
   "id": "48f0ce28",
   "metadata": {},
   "outputs": [
    {
     "name": "stdout",
     "output_type": "stream",
     "text": [
      "{'S001', 'S002', 'S005'}\n"
     ]
    }
   ],
   "source": [
    "dic = [{'V':'S001'}, {'V':'S002'},{'VI':'S001'}, {'VI':'S005'}]\n",
    "a = set()\n",
    "for i in dic:\n",
    "    for j in i.values():\n",
    "        a.add(j)\n",
    "print(a)"
   ]
  },
  {
   "cell_type": "markdown",
   "id": "c03521f7",
   "metadata": {},
   "source": [
    "### 3. Write a Python program to create and display all combinations of letters,"
   ]
  },
  {
   "cell_type": "code",
   "execution_count": 13,
   "id": "cd7c9374",
   "metadata": {},
   "outputs": [],
   "source": [
    "# selecting each letter from a different key in a dictionary. \n",
    "# Sample data : {'1':['a','b'], '2':['c','d']}\n",
    "# Expected Output:\n",
    "# ac\n",
    "# ad\n",
    "# bc\n",
    "# bd"
   ]
  },
  {
   "cell_type": "code",
   "execution_count": 47,
   "id": "8a2a0267",
   "metadata": {},
   "outputs": [
    {
     "name": "stdout",
     "output_type": "stream",
     "text": [
      "ac\n",
      "ad\n",
      "bc\n",
      "bd\n"
     ]
    }
   ],
   "source": [
    "d = {'1':['a', 'b'], '2':['c', 'd']}\n",
    "for x in d['1']:\n",
    "    for y in d['2']:\n",
    "        print(x + y)"
   ]
  },
  {
   "cell_type": "code",
   "execution_count": 55,
   "id": "a58ef339",
   "metadata": {},
   "outputs": [
    {
     "name": "stdout",
     "output_type": "stream",
     "text": [
      "ac\n",
      "ad\n",
      "bc\n",
      "bd\n"
     ]
    }
   ],
   "source": [
    "my_dict= {'1':['a', 'b'], '2':['c', 'd']}\n",
    "my_list= list(my_dict.values())\n",
    "for i in my_list[0]:\n",
    "    for j in my_list[1]:\n",
    "        print(i+j)"
   ]
  },
  {
   "cell_type": "code",
   "execution_count": 45,
   "id": "b7695423",
   "metadata": {},
   "outputs": [
    {
     "name": "stdout",
     "output_type": "stream",
     "text": [
      "ac\n",
      "ad\n",
      "bc\n",
      "bd\n"
     ]
    }
   ],
   "source": [
    "from itertools import product\n",
    "\n",
    "d ={'1':['a','b'], '2':['c','d']}\n",
    "for x, y in product(*d.values()):\n",
    "    print(x + y)"
   ]
  },
  {
   "cell_type": "code",
   "execution_count": 44,
   "id": "f98d04de",
   "metadata": {},
   "outputs": [
    {
     "name": "stdout",
     "output_type": "stream",
     "text": [
      "a b\n",
      "c d\n"
     ]
    }
   ],
   "source": [
    "dic = {'1':['a','b'], '2':['c','d']}   \n",
    "for x, y in dic.values():\n",
    "    print(x, y)"
   ]
  },
  {
   "cell_type": "markdown",
   "id": "333f90fd",
   "metadata": {},
   "source": [
    "### 4. Write a Python program to find the highest 3 values of corresponding keys in a dictionary. "
   ]
  },
  {
   "cell_type": "code",
   "execution_count": null,
   "id": "f3b26e1f",
   "metadata": {},
   "outputs": [],
   "source": []
  },
  {
   "cell_type": "markdown",
   "id": "8c97995c",
   "metadata": {},
   "source": [
    "### 5. Write a Python program to combine values in python list of dictionaries."
   ]
  },
  {
   "cell_type": "code",
   "execution_count": 10,
   "id": "c9e93fe2",
   "metadata": {},
   "outputs": [],
   "source": [
    "# Sample data: [{'item': 'item1', 'amount': 400}, {'item': 'item2', 'amount': 300}, {'item': 'item1', 'amount': 750}]\n",
    "# Expected Output: Counter({'item1': 1150, 'item2': 300})\n",
    "\n"
   ]
  },
  {
   "cell_type": "markdown",
   "id": "52df69db",
   "metadata": {},
   "source": [
    "### 6. Write a Python program to create a dictionary from a string."
   ]
  },
  {
   "cell_type": "code",
   "execution_count": null,
   "id": "c79b0bf9",
   "metadata": {},
   "outputs": [],
   "source": [
    "# Note: Track the count of the letters from the string.\n",
    "# Sample string : 'w3resource'\n",
    "# Expected output: {'w': 1, '3': 1, 'r': 2, 'e': 2, 's': 1, 'o': 1, 'u': 1, 'c': 1}\n",
    "\n"
   ]
  },
  {
   "cell_type": "markdown",
   "id": "46e71b00",
   "metadata": {},
   "source": [
    "### 7. Write a Python program to print a dictionary in table format.   Click me to see the sample solution"
   ]
  },
  {
   "cell_type": "code",
   "execution_count": null,
   "id": "d6da708f",
   "metadata": {},
   "outputs": [],
   "source": []
  },
  {
   "cell_type": "markdown",
   "id": "a1d03165",
   "metadata": {},
   "source": [
    "### 8. Write a Python program to count the values associated with key in a dictionary. "
   ]
  },
  {
   "cell_type": "code",
   "execution_count": 11,
   "id": "2630394d",
   "metadata": {},
   "outputs": [],
   "source": [
    "# Expected Output:\n",
    "# 6\n",
    "# 2"
   ]
  },
  {
   "cell_type": "markdown",
   "id": "1d4de4da",
   "metadata": {},
   "source": [
    "### 9. Write a Python program to convert a list into a nested dictionary of keys."
   ]
  },
  {
   "cell_type": "code",
   "execution_count": 12,
   "id": "a708130c",
   "metadata": {},
   "outputs": [
    {
     "name": "stdout",
     "output_type": "stream",
     "text": [
      "{1: {2: {3: {4: {}}}}}\n"
     ]
    }
   ],
   "source": [
    "list_1 = [1,2,3,4]\n",
    "newdct = current = {}\n",
    "for i in list_1:\n",
    "    current[i] = {}\n",
    "    current = current[i]\n",
    "print(newdct)"
   ]
  },
  {
   "cell_type": "markdown",
   "id": "24cddddd",
   "metadata": {},
   "source": [
    "### 10. Write a Python program to sort a list alphabetically in a dictionary."
   ]
  },
  {
   "cell_type": "code",
   "execution_count": 70,
   "id": "533282da",
   "metadata": {},
   "outputs": [
    {
     "ename": "AttributeError",
     "evalue": "'str' object has no attribute 'items'",
     "output_type": "error",
     "traceback": [
      "\u001b[1;31m---------------------------------------------------------------------------\u001b[0m",
      "\u001b[1;31mAttributeError\u001b[0m                            Traceback (most recent call last)",
      "Input \u001b[1;32mIn [70]\u001b[0m, in \u001b[0;36m<cell line: 3>\u001b[1;34m()\u001b[0m\n\u001b[0;32m      1\u001b[0m \u001b[38;5;66;03m# 10. Write a Python program to sort a list alphabetically in a dictionary.\u001b[39;00m\n\u001b[0;32m      2\u001b[0m dct \u001b[38;5;241m=\u001b[39m {\u001b[38;5;124m'\u001b[39m\u001b[38;5;124mn1\u001b[39m\u001b[38;5;124m'\u001b[39m:[\u001b[38;5;241m2\u001b[39m,\u001b[38;5;241m3\u001b[39m,\u001b[38;5;241m1\u001b[39m], \u001b[38;5;124m'\u001b[39m\u001b[38;5;124mn2\u001b[39m\u001b[38;5;124m'\u001b[39m:[\u001b[38;5;241m5\u001b[39m,\u001b[38;5;241m1\u001b[39m,\u001b[38;5;241m2\u001b[39m], \u001b[38;5;124m'\u001b[39m\u001b[38;5;124mn\u001b[39m\u001b[38;5;124m'\u001b[39m:[\u001b[38;5;241m3\u001b[39m,\u001b[38;5;241m2\u001b[39m,\u001b[38;5;241m4\u001b[39m]}\n\u001b[1;32m----> 3\u001b[0m sorted_dict \u001b[38;5;241m=\u001b[39m {\u001b[38;5;124m'\u001b[39m\u001b[38;5;124mx\u001b[39m\u001b[38;5;124m'\u001b[39m: \u001b[38;5;28msorted\u001b[39m(y) \u001b[38;5;28;01mfor\u001b[39;00m x, y \u001b[38;5;129;01min\u001b[39;00m \u001b[43mnum\u001b[49m\u001b[38;5;241;43m.\u001b[39;49m\u001b[43mitems\u001b[49m()}\n\u001b[0;32m      4\u001b[0m \u001b[38;5;28mprint\u001b[39m(sorted_dict)\n",
      "\u001b[1;31mAttributeError\u001b[0m: 'str' object has no attribute 'items'"
     ]
    }
   ],
   "source": [
    "\n",
    "dct = {'n1':[2,3,1], 'n2':[5,1,2], 'n':[3,2,4]}\n",
    "sorted_dict = {'x': sorted(y) for x, y in num.items()}\n",
    "print(sorted_dict)"
   ]
  },
  {
   "cell_type": "markdown",
   "id": "14e15c9b",
   "metadata": {},
   "source": [
    "### 11. Write a Python program to create a dictionary from two lists without losing duplicate values."
   ]
  },
  {
   "cell_type": "code",
   "execution_count": null,
   "id": "d7d2301c",
   "metadata": {},
   "outputs": [],
   "source": [
    "# Sample lists: ['Class-V', 'Class-VI', 'Class-VII', 'Class-VIII'], [1, 2, 2, 3]\n",
    "# Expected Output: defaultdict(<class 'set'>, {'Class-V': {1}, 'Class-VI': {2}, 'Class-VII': {2}, 'Class-VIII': {3}})\n"
   ]
  },
  {
   "cell_type": "markdown",
   "id": "b6f11242",
   "metadata": {},
   "source": [
    "### 12. Write a Python program to replace dictionary values with their average."
   ]
  },
  {
   "cell_type": "code",
   "execution_count": 17,
   "id": "aa9d378a",
   "metadata": {},
   "outputs": [
    {
     "name": "stdout",
     "output_type": "stream",
     "text": [
      "30\n",
      "22\n"
     ]
    }
   ],
   "source": [
    "dct = {'sarfraz':30, 'saud':22}\n",
    "for i in dct:\n",
    "    print(dct[i])"
   ]
  },
  {
   "cell_type": "code",
   "execution_count": 1,
   "id": "6f25c573",
   "metadata": {},
   "outputs": [
    {
     "name": "stdout",
     "output_type": "stream",
     "text": [
      "1.what is python\n",
      "ans:programming advance language\n",
      "2.what is java\n",
      "ans:Nalla language\n",
      "3.what is ruby\n",
      "ans:programming advance language\n",
      "4.what is javascript\n",
      "ans:programming advance language\n",
      "5.what is c++\n",
      "ans:Nalla language\n",
      "6.what is python\n",
      "ans:programming advance language\n",
      "7.what is java\n",
      "ans:Nalla language\n",
      "8.what is ruby\n",
      "ans:programming advance language\n",
      "9.what is javascript\n",
      "ans:programming advance language\n",
      "10.what is c++\n",
      "ans:Nalla language\n",
      "1.python python plython\n",
      "2.python python plython\n",
      "3.python python plython\n",
      "4.python python plython\n",
      "5.python python plython\n",
      "6.python python plython\n"
     ]
    }
   ],
   "source": [
    "questions = [{'question':'what is python', 'ans':'programming advance language', 'explanation':'python python plython'},\n",
    "             {'question':'what is java', 'ans':'Nalla language','explanation':''},\n",
    "             {'question':'what is ruby', 'ans':'programming advance language', 'explanation':'python python plython'},\n",
    "             {'question':'what is javascript', 'ans':'programming advance language', 'explanation':'python python plython'},\n",
    "             {'question':'what is c++', 'ans':'Nalla language','explanation':''},\n",
    "             {'question':'what is python', 'ans':'programming advance language', 'explanation':'python python plython'},\n",
    "             {'question':'what is java', 'ans':'Nalla language', 'explanation':''},\n",
    "             {'question':'what is ruby', 'ans':'programming advance language', 'explanation':'python python plython'},\n",
    "             {'question':'what is javascript', 'ans':'programming advance language', 'explanation':'python python plython'},\n",
    "             {'question':'what is c++', 'ans':'Nalla language', 'explanation':''},\n",
    "             ]\n",
    "num = 1\n",
    "if num<len(questions):\n",
    "     for i in questions:\n",
    "        if 'question' in i:\n",
    "            print(f\"{num}.{i['question']}\")\n",
    "        if 'ans' in i:\n",
    "            print(f\"ans:{i['ans']}\")\n",
    "        \n",
    "        num = num + 1\n",
    "        \n",
    "count = 1\n",
    "if count < len(questions):\n",
    "    for i in questions:\n",
    "        if 'explanation':\n",
    "            if i['explanation']=='':\n",
    "                continue\n",
    "            else:\n",
    "                print(f\"{count}.{i['explanation']}\")\n",
    "                \n",
    "        count = count + 1\n"
   ]
  },
  {
   "cell_type": "code",
   "execution_count": 10,
   "id": "2256a62b",
   "metadata": {},
   "outputs": [
    {
     "name": "stdout",
     "output_type": "stream",
     "text": [
      "1 what is python\n",
      "2 what is java\n",
      "3 what is ruby\n",
      "4 what is javascript\n",
      "5 what is c++\n",
      "6 what is python\n",
      "7 what is java\n",
      "8 what is ruby\n",
      "9 what is javascript\n",
      "10 what is c++\n"
     ]
    }
   ],
   "source": [
    "questions = [{'question':'what is python', 'ans':'programming advance language', 'explanation':'python python plython'},\n",
    "             {'question':'what is java', 'ans':'Nalla language','explanation':''},\n",
    "             {'question':'what is ruby', 'ans':'programming advance language', 'explanation':'python python plython'},\n",
    "             {'question':'what is javascript', 'ans':'programming advance language', 'explanation':'python python plython'},\n",
    "             {'question':'what is c++', 'ans':'Nalla language','explanation':''},\n",
    "             {'question':'what is python', 'ans':'programming advance language', 'explanation':'python python plython'},\n",
    "             {'question':'what is java', 'ans':'Nalla language', 'explanation':''},\n",
    "             {'question':'what is ruby', 'ans':'programming advance language', 'explanation':'python python plython'},\n",
    "             {'question':'what is javascript', 'ans':'programming advance language', 'explanation':'python python plython'},\n",
    "             {'question':'what is c++', 'ans':'Nalla language', 'explanation':''},\n",
    "             ]\n",
    "num = 1\n",
    "if num<len(questions):\n",
    "     for i in questions:\n",
    "        if 'question' in i:\n",
    "            print(num,i['question'])\n",
    "        if 'ans' in i:\n",
    "            print(\"ans:\",i['ans'])\n",
    "        \n",
    "        num = num + 1"
   ]
  },
  {
   "cell_type": "code",
   "execution_count": 3,
   "id": "a320f1ae",
   "metadata": {},
   "outputs": [
    {
     "name": "stdout",
     "output_type": "stream",
     "text": [
      "{'a': 60, 'b': 65, 'c': 20, 'd': 60}\n"
     ]
    }
   ],
   "source": [
    "d = {'a':45, 'b':65, 'A':15, 'c':10, 'C':10, 'D':60}\n",
    "dic = {i.lower(): d.get (i.lower(),0) + d.get (i.upper(),0) for i in d.keys()}\n",
    "print(dic)"
   ]
  },
  {
   "cell_type": "code",
   "execution_count": 4,
   "id": "b3f0d411",
   "metadata": {},
   "outputs": [
    {
     "name": "stdout",
     "output_type": "stream",
     "text": [
      "{'akbar': 95}\n"
     ]
    }
   ],
   "source": [
    "student = {'ali':{'score':91}, 'akbar':{'score':95}, 'ahmad':{'score':81}}\n",
    "def maximum():\n",
    "    maxim = 0\n",
    "    std = ''\n",
    "    for i in student:\n",
    "        score = student.get(i)['score']\n",
    "        if score > maxim:\n",
    "            maxim = score\n",
    "            std = i\n",
    "    return {std:maxim}\n",
    "a = maximum()\n",
    "print(a)"
   ]
  },
  {
   "cell_type": "code",
   "execution_count": null,
   "id": "655a6764",
   "metadata": {},
   "outputs": [],
   "source": []
  }
 ],
 "metadata": {
  "kernelspec": {
   "display_name": "Python 3 (ipykernel)",
   "language": "python",
   "name": "python3"
  },
  "language_info": {
   "codemirror_mode": {
    "name": "ipython",
    "version": 3
   },
   "file_extension": ".py",
   "mimetype": "text/x-python",
   "name": "python",
   "nbconvert_exporter": "python",
   "pygments_lexer": "ipython3",
   "version": "3.10.4"
  },
  "vscode": {
   "interpreter": {
    "hash": "49335d64aae0e614fc472b3f2b7d16e8038532c55ba6e230023d24a1fbad0e69"
   }
  }
 },
 "nbformat": 4,
 "nbformat_minor": 5
}
