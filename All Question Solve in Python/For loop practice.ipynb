{
 "cells": [
  {
   "cell_type": "markdown",
   "id": "3d18ee59",
   "metadata": {},
   "source": [
    "# Star Pattern"
   ]
  },
  {
   "cell_type": "code",
   "execution_count": 18,
   "id": "9f318906",
   "metadata": {},
   "outputs": [
    {
     "name": "stdout",
     "output_type": "stream",
     "text": [
      "* \n",
      "* * \n",
      "* * * \n",
      "* * * * \n",
      "* * * * * \n"
     ]
    }
   ],
   "source": [
    "1\n",
    "for i in range (5):\n",
    "    for  j in range (i + 1):\n",
    "        print('*', end=\" \")\n",
    "    print()"
   ]
  },
  {
   "cell_type": "code",
   "execution_count": 95,
   "id": "0c89d193",
   "metadata": {},
   "outputs": [
    {
     "name": "stdout",
     "output_type": "stream",
     "text": [
      "        * \n",
      "      * * \n",
      "    * * * \n",
      "  * * * * \n",
      "* * * * * \n"
     ]
    }
   ],
   "source": [
    "for i in range(1,6):\n",
    "    for k in range(1,6-i):\n",
    "        print(' ', end=' ')\n",
    "    for j in range(1, i + 1):\n",
    "        print('*', end=' ')\n",
    "    print()"
   ]
  },
  {
   "cell_type": "code",
   "execution_count": 11,
   "id": "e311122f",
   "metadata": {},
   "outputs": [
    {
     "name": "stdout",
     "output_type": "stream",
     "text": [
      "Enter Your Number\n",
      "5\n",
      "* * * * * \n",
      "* * * * \n",
      "* * * \n",
      "* * \n",
      "* \n"
     ]
    }
   ],
   "source": [
    "n = int(input('Enter Your Number\\n'))\n",
    "for row in range(n,0,-1):\n",
    "    for column in range(1,row+1):\n",
    "        print('*', end=' ')\n",
    "    print()"
   ]
  },
  {
   "cell_type": "code",
   "execution_count": 12,
   "id": "a3af9029",
   "metadata": {},
   "outputs": [
    {
     "name": "stdout",
     "output_type": "stream",
     "text": [
      "    * \n",
      "   * * \n",
      "  * * * \n",
      " * * * * \n",
      "* * * * * \n"
     ]
    }
   ],
   "source": [
    "num = 5\n",
    "for row in range(0, num):\n",
    "    for j in range(0, num-row-1):\n",
    "        print(end=' ')\n",
    "        \n",
    "    for j in range(0, row+1):\n",
    "        print('*', end=' ')\n",
    "    print('')"
   ]
  },
  {
   "cell_type": "code",
   "execution_count": 9,
   "id": "db61460e",
   "metadata": {},
   "outputs": [
    {
     "name": "stdout",
     "output_type": "stream",
     "text": [
      "* * * * * \n",
      " * * * * \n",
      "  * * * \n",
      "   * * \n",
      "    * \n"
     ]
    }
   ],
   "source": [
    "num = 5\n",
    "for row in range(5, 0, -1):\n",
    "    for column in range(0, num-row):\n",
    "        print(end=' ')\n",
    "    for column in range(0, row):\n",
    "        print('*', end=' ')\n",
    "    print()"
   ]
  },
  {
   "cell_type": "code",
   "execution_count": 38,
   "id": "9e78e72c",
   "metadata": {},
   "outputs": [
    {
     "name": "stdout",
     "output_type": "stream",
     "text": [
      "enter the number of rows:5\n",
      "* \n",
      "* * * \n",
      "* * * * * \n",
      "* * * * * * * \n",
      "* * * * * * * * * \n"
     ]
    }
   ],
   "source": [
    "2\n",
    "num = int(input('enter the number of rows:'))\n",
    "k =1\n",
    "for i in range (1, num+1):\n",
    "    for  j in range (1, k+1):\n",
    "        print('*', end=\" \")\n",
    "        \n",
    "    k = k+2\n",
    "    print()   "
   ]
  },
  {
   "cell_type": "code",
   "execution_count": 32,
   "id": "a13c6085",
   "metadata": {},
   "outputs": [
    {
     "name": "stdout",
     "output_type": "stream",
     "text": [
      "        * \n",
      "      * * * \n",
      "    * * * * * \n",
      "  * * * * * * * \n",
      "* * * * * * * * * \n"
     ]
    }
   ],
   "source": [
    "3\n",
    "for i in range(1,6):\n",
    "    for k in range(1,6-i):\n",
    "        print(' ', end=' ')\n",
    "    for j in range(1,(2*i-1)+1):\n",
    "        print('*', end=' ')\n",
    "    print()"
   ]
  },
  {
   "cell_type": "code",
   "execution_count": 2,
   "id": "136212a8",
   "metadata": {},
   "outputs": [
    {
     "name": "stdout",
     "output_type": "stream",
     "text": [
      "* * * * * * * * * \n",
      "  * * * * * * * \n",
      "    * * * * * \n",
      "      * * * \n",
      "        * \n"
     ]
    }
   ],
   "source": [
    "4\n",
    "for i in range(5,0,-1):\n",
    "    for k in range(1,6-i):\n",
    "        print(' ', end=' ')\n",
    "    for j in range(1,(2*i-1)+1):\n",
    "        print('*', end=' ')\n",
    "    print()"
   ]
  },
  {
   "cell_type": "code",
   "execution_count": 1,
   "id": "71d239ba",
   "metadata": {},
   "outputs": [
    {
     "name": "stdout",
     "output_type": "stream",
     "text": [
      "--------* \n",
      "------* * * \n",
      "----* * * * * \n",
      "--* * * * * * * \n",
      "* * * * * * * * * \n"
     ]
    }
   ],
   "source": [
    "n = 6\n",
    "for row in range(1,n):\n",
    "    for column in range(1, n-row):\n",
    "        print('-', end='-')\n",
    "    for column in range(1, 2*row):\n",
    "        print('*', end=' ')\n",
    "    print('')"
   ]
  },
  {
   "cell_type": "code",
   "execution_count": 128,
   "id": "10efcc13",
   "metadata": {},
   "outputs": [
    {
     "name": "stdout",
     "output_type": "stream",
     "text": [
      "----*-\n",
      "---*-*-\n",
      "--*-*-*-\n",
      "-*-*-*-*-\n",
      "*-*-*-*-*-\n",
      " * * * * \n",
      "  * * * \n",
      "   * * \n",
      "    * \n"
     ]
    }
   ],
   "source": [
    "5\n",
    "def pyramid(num):\n",
    "    for row in range(num):\n",
    "        print('-' *(num - row - 1) + '*-' *(row+1))\n",
    "        \n",
    "    for j in range(num-1, 0 , -1):\n",
    "        print(' ' *(num-j) + '* ' *(j))\n",
    "        \n",
    "pyramid(5)"
   ]
  },
  {
   "cell_type": "code",
   "execution_count": 9,
   "id": "dc8dab4d",
   "metadata": {},
   "outputs": [
    {
     "name": "stdout",
     "output_type": "stream",
     "text": [
      "* * * * * \n",
      "* * * * \n",
      "* * * \n",
      "* * \n",
      "* \n"
     ]
    }
   ],
   "source": [
    "6\n",
    "def star():\n",
    "    for i in range (1,6):\n",
    "        for j in range(i,6):\n",
    "            print('*',end=\" \")\n",
    "        print()\n",
    "star()"
   ]
  },
  {
   "cell_type": "code",
   "execution_count": 3,
   "id": "090afacc",
   "metadata": {},
   "outputs": [
    {
     "name": "stdout",
     "output_type": "stream",
     "text": [
      "*\n",
      "**\n",
      "***\n",
      "****\n",
      "*****\n",
      "******\n",
      "*****\n",
      "****\n",
      "***\n",
      "**\n",
      "*\n"
     ]
    }
   ],
   "source": [
    "n = 6\n",
    "for row in range(1,n+1):\n",
    "    for column in range(1,row+1):\n",
    "        print('*', end='')\n",
    "    print()\n",
    "for row in range(n-1,0,-1):\n",
    "    for column in range(1,row+1):\n",
    "        print('*', end='')\n",
    "    print()"
   ]
  },
  {
   "cell_type": "markdown",
   "id": "29eb1ef3",
   "metadata": {},
   "source": [
    "# Arrow Pattern"
   ]
  },
  {
   "cell_type": "code",
   "execution_count": 8,
   "id": "4a328563",
   "metadata": {},
   "outputs": [
    {
     "name": "stdout",
     "output_type": "stream",
     "text": [
      "          *\n",
      "          **\n",
      "          ***\n",
      "          ****\n",
      "***************\n",
      "          ****\n",
      "          ***\n",
      "          **\n",
      "          *\n"
     ]
    }
   ],
   "source": [
    "def arrow(n):\n",
    "    for i in range(n):\n",
    "        if i == n-1:\n",
    "            print((2*n) * '*', end='')\n",
    "            print((i+1) * '*')\n",
    "        else:\n",
    "            print((2*n) * ' ', end='')\n",
    "            print((i+1) * '*')\n",
    "    for j in range(n-1, 0, -1):\n",
    "        print((2*n) * ' ', end='')\n",
    "        print(j * '*')\n",
    "            \n",
    "arrow(5)"
   ]
  },
  {
   "cell_type": "code",
   "execution_count": 13,
   "id": "4ecd0838",
   "metadata": {},
   "outputs": [
    {
     "name": "stdout",
     "output_type": "stream",
     "text": [
      "*******A-\n",
      "******B-C-\n",
      "*****D-E-F-\n",
      "****G-H-I-J-\n",
      "***K-L-M-N-O-\n",
      "**P-Q-R-S-T-U-\n",
      "*V-W-X-Y-Z-[-\\-\n",
      "]-^-_-`-a-b-c-d-\n"
     ]
    }
   ],
   "source": [
    "n = 8\n",
    "asci = 65\n",
    "for i in range(0,n):\n",
    "    print((n-i-1)*'*', end=\"\")\n",
    "    for j in range(0, i + 1):\n",
    "        print(chr(asci), end=\"-\")\n",
    "        asci += 1\n",
    "    print()"
   ]
  },
  {
   "cell_type": "code",
   "execution_count": 29,
   "id": "0c9dc833",
   "metadata": {},
   "outputs": [
    {
     "name": "stdout",
     "output_type": "stream",
     "text": [
      "S \n",
      "S A \n",
      "S A R \n",
      "S A R F \n",
      "S A R F R \n",
      "S A R F R A \n",
      "S A R F R A Z \n"
     ]
    }
   ],
   "source": [
    "a = 'SARFRAZ'\n",
    "b = 2\n",
    "for i in range(len(a)):\n",
    "    for j in range(0, i+1):\n",
    "        print(a[j], end=' ')\n",
    "    print('')\n",
    "        \n",
    "        \n",
    "        \n",
    "      \n",
    "        \n",
    "    "
   ]
  },
  {
   "cell_type": "code",
   "execution_count": 80,
   "id": "129f1aa6",
   "metadata": {},
   "outputs": [
    {
     "name": "stdout",
     "output_type": "stream",
     "text": [
      " - - - - - -0-\n",
      " - - - - -0-1-\n",
      " - - - -0-1-2-\n",
      " - - -0-1-2-3-\n",
      " - -0-1-2-3-4-\n",
      " -0-1-2-3-4-5-\n",
      "0-1-2-3-4-5-6-\n"
     ]
    }
   ],
   "source": [
    "a = 'SARFRAZ'\n",
    "for i in range(len(a)):\n",
    "    for k in range(1,len(a)-i):\n",
    "        print(' ', end='-')\n",
    "    for j in range(0, i + 1):\n",
    "        print(j, end='-')\n",
    "    print()"
   ]
  },
  {
   "cell_type": "code",
   "execution_count": 119,
   "id": "c6aa30b7",
   "metadata": {},
   "outputs": [
    {
     "name": "stdout",
     "output_type": "stream",
     "text": [
      "        A \n",
      "      B C \n",
      "    D E F \n",
      "  G H I J \n",
      "K L M N O \n"
     ]
    }
   ],
   "source": [
    "num = 65\n",
    "for row in range(1,6):\n",
    "    for col in range(1, 6-row ):\n",
    "        print(' ', end=' ')\n",
    "    for j in range(1, row+1):\n",
    "        print(chr(num), end=' ')\n",
    "        num += 1\n",
    "    print('')"
   ]
  },
  {
   "cell_type": "code",
   "execution_count": 130,
   "id": "08feb281",
   "metadata": {},
   "outputs": [
    {
     "name": "stdout",
     "output_type": "stream",
     "text": [
      "A \n",
      "B C \n",
      "D E F \n",
      "G H I J \n",
      "K L M N O \n"
     ]
    }
   ],
   "source": [
    "num = 65\n",
    "for row in range(1,6):\n",
    "    for col in range(1, row+1 ):\n",
    "        print(chr(num), end=' ')\n",
    "        num += 1\n",
    "    print('')"
   ]
  },
  {
   "cell_type": "code",
   "execution_count": 9,
   "id": "b2fb5d30",
   "metadata": {},
   "outputs": [
    {
     "name": "stdout",
     "output_type": "stream",
     "text": [
      "-5\n",
      "-9\n",
      "-12\n",
      "-14\n",
      "-15\n",
      "-15\n",
      "-14\n",
      "-12\n",
      "-9\n",
      "-5\n"
     ]
    }
   ],
   "source": [
    "s = 0\n",
    "for i in range(-5, 5):\n",
    "    s = s+i\n",
    "    print(s)"
   ]
  },
  {
   "cell_type": "code",
   "execution_count": 6,
   "id": "9ad80fbf",
   "metadata": {},
   "outputs": [
    {
     "name": "stdout",
     "output_type": "stream",
     "text": [
      "C\n"
     ]
    }
   ],
   "source": [
    "print(chr(67))"
   ]
  },
  {
   "cell_type": "code",
   "execution_count": 9,
   "id": "24dea6ea",
   "metadata": {},
   "outputs": [
    {
     "name": "stdout",
     "output_type": "stream",
     "text": [
      "1\n",
      "1\n",
      "1\n",
      "1\n",
      "[[0, 0, 0], [0, 1, 1], [1, 0, 1], [1, 1, 0], [1, 1, 1]]\n"
     ]
    }
   ],
   "source": [
    "x= int(input())\n",
    "y = int(input())\n",
    "z = int(input())\n",
    "n = int(input())\n",
    "\n",
    "print(list([i,j,k] for i in range(x+1) for j in range(y+1) for k in range(z+1)  if i+j+k !=n))"
   ]
  },
  {
   "cell_type": "code",
   "execution_count": 21,
   "id": "f0ed9760",
   "metadata": {},
   "outputs": [
    {
     "name": "stdout",
     "output_type": "stream",
     "text": [
      "1\n",
      "[0, 0, 0], [0, 1, 1], [1, 0, 1], [1, 1, 0], [1, 1, 1], "
     ]
    }
   ],
   "source": [
    "a= int(input())\n",
    "for i in range(a+1):\n",
    "    for j in range(a+1):\n",
    "        for k in range(a+1):\n",
    "            if i+j+k !=a:\n",
    "                print([i,j,k,], end=', ')\n"
   ]
  },
  {
   "cell_type": "code",
   "execution_count": 19,
   "id": "ee131590",
   "metadata": {},
   "outputs": [
    {
     "name": "stdout",
     "output_type": "stream",
     "text": [
      "0 0 0, 0 1 1, 1 0 1, 1 1 0, 1 1 1, "
     ]
    }
   ],
   "source": [
    "x= 1\n",
    "y = 1\n",
    "z = 1\n",
    "n = 1\n",
    "for i in range(x+1):\n",
    "    for j in range(y+1):\n",
    "        for k in range(z+1):\n",
    "            if i+j+k !=n:\n",
    "                print(i,j,k, end=', ')"
   ]
  },
  {
   "cell_type": "markdown",
   "id": "52adf1ee",
   "metadata": {},
   "source": [
    "### print A pattern"
   ]
  },
  {
   "cell_type": "code",
   "execution_count": 154,
   "id": "250111ea",
   "metadata": {},
   "outputs": [
    {
     "name": "stdout",
     "output_type": "stream",
     "text": [
      " *** \n",
      "*   *\n",
      "*   *\n",
      "*****\n",
      "*   *\n",
      "*   *\n",
      "*   *\n"
     ]
    }
   ],
   "source": [
    "for row in range(7):\n",
    "    for col in range(5):\n",
    "        if ((col==0 or col==4) and row!=0) or ((row==0 or row==3) and (col>0 and col<4)):\n",
    "            print('*', end='')\n",
    "        else:\n",
    "            print(end=' ')\n",
    "    print('')"
   ]
  },
  {
   "cell_type": "code",
   "execution_count": null,
   "id": "d546e41b",
   "metadata": {},
   "outputs": [],
   "source": []
  }
 ],
 "metadata": {
  "kernelspec": {
   "display_name": "Python 3 (ipykernel)",
   "language": "python",
   "name": "python3"
  },
  "language_info": {
   "codemirror_mode": {
    "name": "ipython",
    "version": 3
   },
   "file_extension": ".py",
   "mimetype": "text/x-python",
   "name": "python",
   "nbconvert_exporter": "python",
   "pygments_lexer": "ipython3",
   "version": "3.10.4"
  },
  "vscode": {
   "interpreter": {
    "hash": "49335d64aae0e614fc472b3f2b7d16e8038532c55ba6e230023d24a1fbad0e69"
   }
  }
 },
 "nbformat": 4,
 "nbformat_minor": 5
}
