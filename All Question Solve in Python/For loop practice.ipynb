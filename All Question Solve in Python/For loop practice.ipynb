{
 "cells": [
  {
   "cell_type": "markdown",
   "id": "3d18ee59",
   "metadata": {},
   "source": [
    "# Star Pattern"
   ]
  },
  {
   "cell_type": "code",
   "execution_count": 1,
   "id": "dc8dab4d",
   "metadata": {},
   "outputs": [
    {
     "name": "stdout",
     "output_type": "stream",
     "text": [
      "* * * * * \n",
      "* * * * \n",
      "* * * \n",
      "* * \n",
      "* \n"
     ]
    }
   ],
   "source": [
    "def star():\n",
    "    for i in range (1,6):\n",
    "        for j in range(i,6):\n",
    "            print('*',end=\" \")\n",
    "        print()\n",
    "star()"
   ]
  },
  {
   "cell_type": "code",
   "execution_count": 2,
   "id": "9f318906",
   "metadata": {},
   "outputs": [
    {
     "name": "stdout",
     "output_type": "stream",
     "text": [
      "* \n",
      "* * \n",
      "* * * \n",
      "* * * * \n"
     ]
    }
   ],
   "source": [
    "for i in range (1,5):\n",
    "    for  j in range (1,i + 1):\n",
    "        print('*', end=\" \")\n",
    "    print()"
   ]
  },
  {
   "cell_type": "code",
   "execution_count": 8,
   "id": "7de7f88d",
   "metadata": {},
   "outputs": [
    {
     "name": "stdout",
     "output_type": "stream",
     "text": [
      "        * \n",
      "      * * \n",
      "    * * * \n",
      "  * * * * \n",
      "* * * * * \n"
     ]
    }
   ],
   "source": [
    "for i in range(1,6):\n",
    "    for k in range(1,6-i):\n",
    "        print(' ', end=' ')\n",
    "    for j in range(1, i + 1):\n",
    "        print('*', end=' ')\n",
    "    print()"
   ]
  },
  {
   "cell_type": "code",
   "execution_count": 13,
   "id": "1476f079",
   "metadata": {},
   "outputs": [
    {
     "name": "stdout",
     "output_type": "stream",
     "text": [
      "        * \n",
      "      * * * \n",
      "    * * * * * \n",
      "  * * * * * * * \n",
      "* * * * * * * * * \n"
     ]
    }
   ],
   "source": [
    "for i in range(1,6):\n",
    "    for k in range(1,6-i):\n",
    "        print(' ', end=' ')\n",
    "    for j in range(1,(2*i-1)+1):\n",
    "        print('*', end=' ')\n",
    "    print()"
   ]
  },
  {
   "cell_type": "code",
   "execution_count": 1,
   "id": "188899b5",
   "metadata": {},
   "outputs": [
    {
     "name": "stdout",
     "output_type": "stream",
     "text": [
      "* * * * * * * * * \n",
      "  * * * * * * * \n",
      "    * * * * * \n",
      "      * * * \n",
      "        * \n"
     ]
    }
   ],
   "source": [
    "for i in range(5,0,-1):\n",
    "    for k in range(1,6-i):\n",
    "        print(' ', end=' ')\n",
    "    for j in range(1,(2*i-1)+1):\n",
    "        print('*', end=' ')\n",
    "    print()"
   ]
  },
  {
   "cell_type": "code",
   "execution_count": null,
   "id": "749f8955",
   "metadata": {},
   "outputs": [],
   "source": [
    "# for i in range(1,50):\n",
    "    n = int(input('Enter Your Number\\n'))\n",
    "    for row in range(n,0,-1):\n",
    "        for column in range(1,row+1):\n",
    "            print('*', end=' ')\n",
    "        print()"
   ]
  },
  {
   "cell_type": "code",
   "execution_count": null,
   "id": "090afacc",
   "metadata": {},
   "outputs": [],
   "source": [
    "# for i in range(1,50):\n",
    "n = int(input('Enter Your Number\\n'))\n",
    "for row in range(1,n+1):\n",
    "    for column in range(1,row+1):\n",
    "        print('*', end='')\n",
    "    print()\n",
    "for row in range(n-1,0,-1):\n",
    "    for column in range(1,row+1):\n",
    "        print('*', end='')\n",
    "    print()"
   ]
  },
  {
   "cell_type": "code",
   "execution_count": 15,
   "id": "e10d3634",
   "metadata": {},
   "outputs": [
    {
     "name": "stdout",
     "output_type": "stream",
     "text": [
      "Enter Your Number\n",
      "6\n",
      "* * * * * \n",
      "* * * * \n",
      "* * * \n",
      "* * \n",
      "* \n"
     ]
    }
   ],
   "source": [
    "n = int(input('Enter Your Number\\n'))\n",
    "for row in range(1,n):\n",
    "    for column in range(row,6):\n",
    "        print('*', end=' ')\n",
    "    print()"
   ]
  },
  {
   "cell_type": "markdown",
   "id": "29eb1ef3",
   "metadata": {},
   "source": [
    "# Arrow Pattern"
   ]
  },
  {
   "cell_type": "code",
   "execution_count": 16,
   "id": "4a328563",
   "metadata": {},
   "outputs": [
    {
     "name": "stdout",
     "output_type": "stream",
     "text": [
      "          *\n",
      "          **\n",
      "          ***\n",
      "          ****\n",
      "***************\n",
      "          ****\n",
      "          ***\n",
      "          **\n",
      "          *\n"
     ]
    }
   ],
   "source": [
    "def arrow(n):\n",
    "    for i in range(n):\n",
    "        if i == n-1:\n",
    "            print((2*n) * '*', end='')\n",
    "            print((i+1) * '*')\n",
    "        else:\n",
    "            print((2*n) * ' ', end='')\n",
    "            print((i+1) * '*')\n",
    "    for j in range(n-1, 0, -1):\n",
    "        print((2*n) * ' ', end='')\n",
    "        print(j * '*')\n",
    "            \n",
    "arrow(5)"
   ]
  },
  {
   "cell_type": "code",
   "execution_count": 24,
   "id": "b635f22a",
   "metadata": {},
   "outputs": [
    {
     "name": "stdout",
     "output_type": "stream",
     "text": [
      "4\n"
     ]
    }
   ],
   "source": [
    "def arrow(n):\n",
    "    for i in range(n):\n",
    "        if i == n-1:\n",
    "            print(i)\n",
    "            \n",
    "arrow(5)"
   ]
  },
  {
   "cell_type": "code",
   "execution_count": 30,
   "id": "a2eb4b64",
   "metadata": {},
   "outputs": [
    {
     "name": "stdout",
     "output_type": "stream",
     "text": [
      "4\n"
     ]
    }
   ],
   "source": [
    "for i in range(5):\n",
    "    if i == 5-1:\n",
    "        print(i)"
   ]
  },
  {
   "cell_type": "code",
   "execution_count": null,
   "id": "2b9700ad",
   "metadata": {},
   "outputs": [],
   "source": []
  }
 ],
 "metadata": {
  "kernelspec": {
   "display_name": "Python 3 (ipykernel)",
   "language": "python",
   "name": "python3"
  },
  "language_info": {
   "codemirror_mode": {
    "name": "ipython",
    "version": 3
   },
   "file_extension": ".py",
   "mimetype": "text/x-python",
   "name": "python",
   "nbconvert_exporter": "python",
   "pygments_lexer": "ipython3",
   "version": "3.10.4"
  }
 },
 "nbformat": 4,
 "nbformat_minor": 5
}
