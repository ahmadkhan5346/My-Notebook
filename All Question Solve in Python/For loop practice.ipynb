{
 "cells": [
  {
   "cell_type": "markdown",
   "id": "3d18ee59",
   "metadata": {},
   "source": [
    "# Star Pattern"
   ]
  },
  {
   "cell_type": "code",
   "execution_count": 18,
   "id": "9f318906",
   "metadata": {},
   "outputs": [
    {
     "name": "stdout",
     "output_type": "stream",
     "text": [
      "* \n",
      "* * \n",
      "* * * \n",
      "* * * * \n",
      "* * * * * \n"
     ]
    }
   ],
   "source": [
    "1\n",
    "for i in range (5):\n",
    "    for  j in range (i + 1):\n",
    "        print('*', end=\" \")\n",
    "    print()"
   ]
  },
  {
   "cell_type": "code",
   "execution_count": 5,
   "id": "0c89d193",
   "metadata": {},
   "outputs": [
    {
     "name": "stdout",
     "output_type": "stream",
     "text": [
      "        * \n",
      "      * * \n",
      "    * * * \n",
      "  * * * * \n",
      "* * * * * \n"
     ]
    }
   ],
   "source": [
    "for i in range(1,6):\n",
    "    for k in range(1,6-i):\n",
    "        print(' ', end=' ')\n",
    "    for j in range(1, i + 1):\n",
    "        print('*', end=' ')\n",
    "    print()"
   ]
  },
  {
   "cell_type": "code",
   "execution_count": 11,
   "id": "e311122f",
   "metadata": {},
   "outputs": [
    {
     "name": "stdout",
     "output_type": "stream",
     "text": [
      "Enter Your Number\n",
      "5\n",
      "* * * * * \n",
      "* * * * \n",
      "* * * \n",
      "* * \n",
      "* \n"
     ]
    }
   ],
   "source": [
    "n = int(input('Enter Your Number\\n'))\n",
    "for row in range(n,0,-1):\n",
    "    for column in range(1,row+1):\n",
    "        print('*', end=' ')\n",
    "    print()"
   ]
  },
  {
   "cell_type": "code",
   "execution_count": 38,
   "id": "9e78e72c",
   "metadata": {},
   "outputs": [
    {
     "name": "stdout",
     "output_type": "stream",
     "text": [
      "enter the number of rows:5\n",
      "* \n",
      "* * * \n",
      "* * * * * \n",
      "* * * * * * * \n",
      "* * * * * * * * * \n"
     ]
    }
   ],
   "source": [
    "2\n",
    "num = int(input('enter the number of rows:'))\n",
    "k =1\n",
    "for i in range (1, num+1):\n",
    "    for  j in range (1, k+1):\n",
    "        print('*', end=\" \")\n",
    "        \n",
    "    k = k+2\n",
    "    print()   "
   ]
  },
  {
   "cell_type": "code",
   "execution_count": 32,
   "id": "a13c6085",
   "metadata": {},
   "outputs": [
    {
     "name": "stdout",
     "output_type": "stream",
     "text": [
      "        * \n",
      "      * * * \n",
      "    * * * * * \n",
      "  * * * * * * * \n",
      "* * * * * * * * * \n"
     ]
    }
   ],
   "source": [
    "3\n",
    "for i in range(1,6):\n",
    "    for k in range(1,6-i):\n",
    "        print(' ', end=' ')\n",
    "    for j in range(1,(2*i-1)+1):\n",
    "        print('*', end=' ')\n",
    "    print()"
   ]
  },
  {
   "cell_type": "code",
   "execution_count": 2,
   "id": "136212a8",
   "metadata": {},
   "outputs": [
    {
     "name": "stdout",
     "output_type": "stream",
     "text": [
      "* * * * * * * * * \n",
      "  * * * * * * * \n",
      "    * * * * * \n",
      "      * * * \n",
      "        * \n"
     ]
    }
   ],
   "source": [
    "4\n",
    "for i in range(5,0,-1):\n",
    "    for k in range(1,6-i):\n",
    "        print(' ', end=' ')\n",
    "    for j in range(1,(2*i-1)+1):\n",
    "        print('*', end=' ')\n",
    "    print()"
   ]
  },
  {
   "cell_type": "code",
   "execution_count": 6,
   "id": "10efcc13",
   "metadata": {},
   "outputs": [
    {
     "name": "stdout",
     "output_type": "stream",
     "text": [
      "    * \n",
      "   * * \n",
      "  * * * \n",
      " * * * * \n",
      "* * * * * \n",
      " * * * * \n",
      "  * * * \n",
      "   * * \n",
      "    * \n"
     ]
    }
   ],
   "source": [
    "5\n",
    "def pyramid(rows):\n",
    "    for i in range(rows):\n",
    "        print(' ' *(rows -i -1) + '* ' *(i+1))\n",
    "        \n",
    "    for j in range(rows-1, 0 , -1):\n",
    "        print(' ' *(rows-j) + '* ' *(j))\n",
    "        \n",
    "pyramid(5)"
   ]
  },
  {
   "cell_type": "code",
   "execution_count": 9,
   "id": "dc8dab4d",
   "metadata": {},
   "outputs": [
    {
     "name": "stdout",
     "output_type": "stream",
     "text": [
      "* * * * * \n",
      "* * * * \n",
      "* * * \n",
      "* * \n",
      "* \n"
     ]
    }
   ],
   "source": [
    "6\n",
    "def star():\n",
    "    for i in range (1,6):\n",
    "        for j in range(i,6):\n",
    "            print('*',end=\" \")\n",
    "        print()\n",
    "star()"
   ]
  },
  {
   "cell_type": "code",
   "execution_count": null,
   "id": "bcfa4f9a",
   "metadata": {},
   "outputs": [],
   "source": []
  },
  {
   "cell_type": "code",
   "execution_count": null,
   "id": "f1b6da65",
   "metadata": {},
   "outputs": [],
   "source": []
  },
  {
   "cell_type": "code",
   "execution_count": null,
   "id": "57add119",
   "metadata": {},
   "outputs": [],
   "source": []
  },
  {
   "cell_type": "code",
   "execution_count": null,
   "id": "ae9d069e",
   "metadata": {},
   "outputs": [],
   "source": []
  },
  {
   "cell_type": "code",
   "execution_count": null,
   "id": "7de7f88d",
   "metadata": {},
   "outputs": [],
   "source": []
  },
  {
   "cell_type": "code",
   "execution_count": null,
   "id": "1476f079",
   "metadata": {},
   "outputs": [],
   "source": []
  },
  {
   "cell_type": "code",
   "execution_count": null,
   "id": "188899b5",
   "metadata": {},
   "outputs": [],
   "source": []
  },
  {
   "cell_type": "code",
   "execution_count": null,
   "id": "749f8955",
   "metadata": {},
   "outputs": [],
   "source": []
  },
  {
   "cell_type": "code",
   "execution_count": null,
   "id": "e10d3634",
   "metadata": {},
   "outputs": [],
   "source": []
  },
  {
   "cell_type": "code",
   "execution_count": 3,
   "id": "090afacc",
   "metadata": {},
   "outputs": [
    {
     "name": "stdout",
     "output_type": "stream",
     "text": [
      "*\n",
      "**\n",
      "***\n",
      "****\n",
      "*****\n",
      "******\n",
      "*****\n",
      "****\n",
      "***\n",
      "**\n",
      "*\n"
     ]
    }
   ],
   "source": [
    "n = 6\n",
    "for row in range(1,n+1):\n",
    "    for column in range(1,row+1):\n",
    "        print('*', end='')\n",
    "    print()\n",
    "for row in range(n-1,0,-1):\n",
    "    for column in range(1,row+1):\n",
    "        print('*', end='')\n",
    "    print()"
   ]
  },
  {
   "cell_type": "markdown",
   "id": "29eb1ef3",
   "metadata": {},
   "source": [
    "# Arrow Pattern"
   ]
  },
  {
   "cell_type": "code",
   "execution_count": 8,
   "id": "4a328563",
   "metadata": {},
   "outputs": [
    {
     "name": "stdout",
     "output_type": "stream",
     "text": [
      "          *\n",
      "          **\n",
      "          ***\n",
      "          ****\n",
      "***************\n",
      "          ****\n",
      "          ***\n",
      "          **\n",
      "          *\n"
     ]
    }
   ],
   "source": [
    "def arrow(n):\n",
    "    for i in range(n):\n",
    "        if i == n-1:\n",
    "            print((2*n) * '*', end='')\n",
    "            print((i+1) * '*')\n",
    "        else:\n",
    "            print((2*n) * ' ', end='')\n",
    "            print((i+1) * '*')\n",
    "    for j in range(n-1, 0, -1):\n",
    "        print((2*n) * ' ', end='')\n",
    "        print(j * '*')\n",
    "            \n",
    "arrow(5)"
   ]
  },
  {
   "cell_type": "code",
   "execution_count": 13,
   "id": "4ecd0838",
   "metadata": {},
   "outputs": [
    {
     "name": "stdout",
     "output_type": "stream",
     "text": [
      "*******A-\n",
      "******B-C-\n",
      "*****D-E-F-\n",
      "****G-H-I-J-\n",
      "***K-L-M-N-O-\n",
      "**P-Q-R-S-T-U-\n",
      "*V-W-X-Y-Z-[-\\-\n",
      "]-^-_-`-a-b-c-d-\n"
     ]
    }
   ],
   "source": [
    "n = 8\n",
    "asci = 65\n",
    "for i in range(0,n):\n",
    "    print((n-i-1)*'*', end=\"\")\n",
    "    for j in range(0, i + 1):\n",
    "        print(chr(asci), end=\"-\")\n",
    "        asci += 1\n",
    "    print()"
   ]
  },
  {
   "cell_type": "code",
   "execution_count": 9,
   "id": "b2fb5d30",
   "metadata": {},
   "outputs": [
    {
     "name": "stdout",
     "output_type": "stream",
     "text": [
      "-5\n",
      "-9\n",
      "-12\n",
      "-14\n",
      "-15\n",
      "-15\n",
      "-14\n",
      "-12\n",
      "-9\n",
      "-5\n"
     ]
    }
   ],
   "source": [
    "s = 0\n",
    "for i in range(-5, 5):\n",
    "    s = s+i\n",
    "    print(s)"
   ]
  },
  {
   "cell_type": "code",
   "execution_count": 6,
   "id": "9ad80fbf",
   "metadata": {},
   "outputs": [
    {
     "name": "stdout",
     "output_type": "stream",
     "text": [
      "C\n"
     ]
    }
   ],
   "source": [
    "print(chr(67))"
   ]
  },
  {
   "cell_type": "code",
   "execution_count": 9,
   "id": "24dea6ea",
   "metadata": {},
   "outputs": [
    {
     "name": "stdout",
     "output_type": "stream",
     "text": [
      "1\n",
      "1\n",
      "1\n",
      "1\n",
      "[[0, 0, 0], [0, 1, 1], [1, 0, 1], [1, 1, 0], [1, 1, 1]]\n"
     ]
    }
   ],
   "source": [
    "x= int(input())\n",
    "y = int(input())\n",
    "z = int(input())\n",
    "n = int(input())\n",
    "\n",
    "print(list([i,j,k] for i in range(x+1) for j in range(y+1) for k in range(z+1)  if i+j+k !=n))"
   ]
  },
  {
   "cell_type": "code",
   "execution_count": 21,
   "id": "f0ed9760",
   "metadata": {},
   "outputs": [
    {
     "name": "stdout",
     "output_type": "stream",
     "text": [
      "1\n",
      "[0, 0, 0], [0, 1, 1], [1, 0, 1], [1, 1, 0], [1, 1, 1], "
     ]
    }
   ],
   "source": [
    "a= int(input())\n",
    "for i in range(a+1):\n",
    "    for j in range(a+1):\n",
    "        for k in range(a+1):\n",
    "            if i+j+k !=a:\n",
    "                print([i,j,k,], end=', ')\n"
   ]
  },
  {
   "cell_type": "code",
   "execution_count": 19,
   "id": "ee131590",
   "metadata": {},
   "outputs": [
    {
     "name": "stdout",
     "output_type": "stream",
     "text": [
      "0 0 0, 0 1 1, 1 0 1, 1 1 0, 1 1 1, "
     ]
    }
   ],
   "source": [
    "x= 1\n",
    "y = 1\n",
    "z = 1\n",
    "n = 1\n",
    "for i in range(x+1):\n",
    "    for j in range(y+1):\n",
    "        for k in range(z+1):\n",
    "            if i+j+k !=n:\n",
    "                print(i,j,k, end=', ')"
   ]
  },
  {
   "cell_type": "code",
   "execution_count": null,
   "id": "81618fe1",
   "metadata": {},
   "outputs": [],
   "source": []
  }
 ],
 "metadata": {
  "kernelspec": {
   "display_name": "Python 3 (ipykernel)",
   "language": "python",
   "name": "python3"
  },
  "language_info": {
   "codemirror_mode": {
    "name": "ipython",
    "version": 3
   },
   "file_extension": ".py",
   "mimetype": "text/x-python",
   "name": "python",
   "nbconvert_exporter": "python",
   "pygments_lexer": "ipython3",
   "version": "3.10.4"
  },
  "vscode": {
   "interpreter": {
    "hash": "49335d64aae0e614fc472b3f2b7d16e8038532c55ba6e230023d24a1fbad0e69"
   }
  }
 },
 "nbformat": 4,
 "nbformat_minor": 5
}
