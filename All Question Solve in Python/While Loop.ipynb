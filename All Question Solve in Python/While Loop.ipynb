{
 "cells": [
  {
   "cell_type": "code",
   "execution_count": 51,
   "id": "e4a681ca",
   "metadata": {},
   "outputs": [
    {
     "name": "stdout",
     "output_type": "stream",
     "text": [
      "Completed\n"
     ]
    }
   ],
   "source": [
    "i = 0\n",
    "while i < 10:\n",
    "    if i % 2 == 0:\n",
    "        i += 2\n",
    "        continue\n",
    "    else:\n",
    "        break\n",
    "    print(i)\n",
    "    i += 1\n",
    "print('Completed')"
   ]
  },
  {
   "cell_type": "code",
   "execution_count": 1,
   "id": "1a97c257",
   "metadata": {},
   "outputs": [
    {
     "name": "stdout",
     "output_type": "stream",
     "text": [
      "Enter the Number\n",
      "8\n",
      "Even Number 8\n",
      "Odd Number 7\n",
      "Even Number 6\n",
      "Odd Number 5\n",
      "Even Number 4\n",
      "Odd Number 3\n",
      "Even Number 2\n",
      "Odd Number 1\n"
     ]
    }
   ],
   "source": [
    "num = int(input('Enter the Number\\n'))\n",
    "while num > 0:\n",
    "    if num % 2 == 0:\n",
    "        print('Even Number', num)\n",
    "    else:\n",
    "        print('Odd Number', num)\n",
    "    num = num-1"
   ]
  },
  {
   "cell_type": "code",
   "execution_count": 54,
   "id": "dfdcd738",
   "metadata": {},
   "outputs": [
    {
     "name": "stdout",
     "output_type": "stream",
     "text": [
      "0  \n",
      "0  1  \n",
      "0  1  2  \n",
      "0  1  2  3  \n",
      "0  1  2  3  4  \n"
     ]
    }
   ],
   "source": [
    "for i in range(1,6):\n",
    "    for j in range(i):\n",
    "        print(j,end = '  ')\n",
    "    print()"
   ]
  },
  {
   "cell_type": "code",
   "execution_count": 1,
   "id": "c3d32c6b",
   "metadata": {},
   "outputs": [
    {
     "name": "stdout",
     "output_type": "stream",
     "text": [
      "0 1 2 "
     ]
    }
   ],
   "source": [
    "i = 0\n",
    "while i<5:\n",
    "    print(i, end=' ')\n",
    "    i += 1\n",
    "    if i == 3:\n",
    "        break\n",
    "else:\n",
    "    print(0)"
   ]
  },
  {
   "cell_type": "code",
   "execution_count": null,
   "id": "4a4c1b7c",
   "metadata": {},
   "outputs": [],
   "source": []
  }
 ],
 "metadata": {
  "kernelspec": {
   "display_name": "Python 3 (ipykernel)",
   "language": "python",
   "name": "python3"
  },
  "language_info": {
   "codemirror_mode": {
    "name": "ipython",
    "version": 3
   },
   "file_extension": ".py",
   "mimetype": "text/x-python",
   "name": "python",
   "nbconvert_exporter": "python",
   "pygments_lexer": "ipython3",
   "version": "3.10.4"
  }
 },
 "nbformat": 4,
 "nbformat_minor": 5
}
