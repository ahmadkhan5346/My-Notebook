{
 "cells": [
  {
   "cell_type": "code",
   "execution_count": 1,
   "id": "fe1995bb",
   "metadata": {},
   "outputs": [
    {
     "name": "stdout",
     "output_type": "stream",
     "text": [
      "1990\n",
      "False\n"
     ]
    }
   ],
   "source": [
    "def is_leap(year):\n",
    "    if 1900<=year <=10**5:\n",
    "        if (year % 4==0) and (year % 100!=0 or year % 400==0):\n",
    "            return True\n",
    "        else:\n",
    "            return False\n",
    "    else:\n",
    "        return False\n",
    "            \n",
    "\n",
    "year = int(input())\n",
    "print(is_leap(year))"
   ]
  },
  {
   "cell_type": "code",
   "execution_count": 2,
   "id": "bf4913f9",
   "metadata": {},
   "outputs": [
    {
     "name": "stdout",
     "output_type": "stream",
     "text": [
      "2 3 6 6 5\n",
      "5\n"
     ]
    }
   ],
   "source": [
    "# find the runner-up score\n",
    "arr = list(map(int, input().split()))\n",
    "mx = max(arr)\n",
    "c = arr.count(mx)\n",
    "for i in range(c):\n",
    "    arr.remove(mx)\n",
    "    \n",
    "print(max(arr))"
   ]
  },
  {
   "cell_type": "code",
   "execution_count": 12,
   "id": "80583d91",
   "metadata": {},
   "outputs": [
    {
     "name": "stdout",
     "output_type": "stream",
     "text": [
      "mx 6\n",
      "c 4\n",
      "range c 0\n",
      "range c 1\n",
      "range c 2\n",
      "range c 3\n",
      "output 5\n"
     ]
    }
   ],
   "source": [
    "arr = [2,3,6,6,6,6,5]\n",
    "mx = max(arr)\n",
    "print('mx',mx)\n",
    "c = arr.count(mx)\n",
    "print('c',c)\n",
    "for i in range(c):\n",
    "    print('range c', i)\n",
    "    arr.remove(mx)\n",
    "    \n",
    "print('output',max(arr))"
   ]
  },
  {
   "cell_type": "code",
   "execution_count": 15,
   "id": "e507ff86",
   "metadata": {},
   "outputs": [
    {
     "name": "stdout",
     "output_type": "stream",
     "text": [
      "output 6\n"
     ]
    }
   ],
   "source": [
    "arr = [2,3,6,6,6,6,5]\n",
    "mx = max(arr)\n",
    "# c = arr.count(mx)\n",
    "# for i in range(c):\n",
    "arr.remove(mx)\n",
    "print('output',max(arr))"
   ]
  },
  {
   "cell_type": "code",
   "execution_count": null,
   "id": "9d7aaec3",
   "metadata": {},
   "outputs": [],
   "source": []
  }
 ],
 "metadata": {
  "kernelspec": {
   "display_name": "Python 3 (ipykernel)",
   "language": "python",
   "name": "python3"
  },
  "language_info": {
   "codemirror_mode": {
    "name": "ipython",
    "version": 3
   },
   "file_extension": ".py",
   "mimetype": "text/x-python",
   "name": "python",
   "nbconvert_exporter": "python",
   "pygments_lexer": "ipython3",
   "version": "3.10.4"
  }
 },
 "nbformat": 4,
 "nbformat_minor": 5
}
