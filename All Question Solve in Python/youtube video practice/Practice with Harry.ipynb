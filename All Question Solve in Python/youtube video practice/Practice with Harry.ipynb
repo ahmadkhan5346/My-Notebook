{
 "cells": [
  {
   "cell_type": "markdown",
   "id": "7137b538",
   "metadata": {},
   "source": [
    "### 1. How to Create An Indian Kirana Store Calculator & Receipt Generator"
   ]
  },
  {
   "cell_type": "code",
   "execution_count": 1,
   "id": "b0e7bf58",
   "metadata": {},
   "outputs": [
    {
     "name": "stdout",
     "output_type": "stream",
     "text": [
      "Enter the item price or press q to quit: \n",
      "5\n",
      "Order total so far: 5\n",
      "Enter the item price or press q to quit: \n",
      "3\n",
      "Order total so far: 8\n",
      "Enter the item price or press q to quit: \n",
      "6\n",
      "Order total so far: 14\n",
      "Enter the item price or press q to quit: \n",
      "q\n",
      "Your Bill total is 14. Thanks for shopping with us\n"
     ]
    }
   ],
   "source": [
    "sum1 = 0\n",
    "while True:\n",
    "    userInput = input(\"Enter the item price or press q to quit: \\n\")\n",
    "    if userInput != \"q\":\n",
    "        sum1 += int(userInput)\n",
    "        print(f\"Order total so far: {sum1}\")\n",
    "    else:\n",
    "        print(f\"Your Bill total is {sum1}. Thanks for shopping with us\")\n",
    "        break"
   ]
  },
  {
   "cell_type": "markdown",
   "id": "dee21d23",
   "metadata": {},
   "source": [
    "### 2. How To Find Factorial & No Of Trailing Zeros In A Factorial Of A Number In Python?"
   ]
  },
  {
   "cell_type": "code",
   "execution_count": 16,
   "id": "4b74a8b3",
   "metadata": {},
   "outputs": [
    {
     "name": "stdout",
     "output_type": "stream",
     "text": [
      "35779464182863193446023936590126501250708882394147338254286613910039652390804588748564243039049292563772898742555569021663858871347448419208794788785069890505960509870304745484158208895769504084658282911667045794019878293893080053697689930267837124911057480489073051004943198559575800853855757336478383911387330479481027965215316885151132774024212533761102767874392278247855946883616631150154012011934883242947341681043634008663394208282708119567780568343326970011666041253905022896897851875575074169332470676916425004146618462711774963099316284550421337005134264649952606217985455796329414144236838459110031287376571610925652382227843014362153330137900660193740273883122302516439012905766961819621806316703518201200953548375010477839541247913894817095204853789557053715163649009056359030745120647665438488825352405405335783275264872732147480721348502260164671688756230921384319327028049419367739573653210830316562067724357667727334885825021179678992768141019261624737051611932388641118887392738224926336045987917600784464154392324384930798484515583736780062728104759083029776359983862071566084070597965637042652836020524684926273306540822181329301373047537664000000000000000000000000000000000000000000000000000000000000000000000000000000000000000000000000000000000000000000000000000000000000000000\n"
     ]
    },
    {
     "ename": "OverflowError",
     "evalue": "integer division result too large for a float",
     "output_type": "error",
     "traceback": [
      "\u001b[1;31m---------------------------------------------------------------------------\u001b[0m",
      "\u001b[1;31mOverflowError\u001b[0m                             Traceback (most recent call last)",
      "Input \u001b[1;32mIn [16]\u001b[0m, in \u001b[0;36m<cell line: 16>\u001b[1;34m()\u001b[0m\n\u001b[0;32m     14\u001b[0m     \u001b[38;5;28;01mreturn\u001b[39;00m count\n\u001b[0;32m     16\u001b[0m \u001b[38;5;28;01mif\u001b[39;00m \u001b[38;5;18m__name__\u001b[39m \u001b[38;5;241m==\u001b[39m \u001b[38;5;124m'\u001b[39m\u001b[38;5;124m__main__\u001b[39m\u001b[38;5;124m'\u001b[39m:\n\u001b[0;32m     17\u001b[0m \u001b[38;5;66;03m#     number = int(input('Enter a number'))\u001b[39;00m\n\u001b[0;32m     18\u001b[0m \u001b[38;5;66;03m#     fac = factorial(number)\u001b[39;00m\n\u001b[0;32m     19\u001b[0m \u001b[38;5;66;03m#     print(f\"The factorial is {fac}\")\u001b[39;00m\n\u001b[1;32m---> 20\u001b[0m     \u001b[38;5;28mprint\u001b[39m(\u001b[43mfactorialTrailingZero\u001b[49m\u001b[43m(\u001b[49m\u001b[38;5;241;43m560\u001b[39;49m\u001b[43m)\u001b[49m)\n",
      "Input \u001b[1;32mIn [16]\u001b[0m, in \u001b[0;36mfactorialTrailingZero\u001b[1;34m(number)\u001b[0m\n\u001b[0;32m     11\u001b[0m \u001b[38;5;28;01mwhile\u001b[39;00m fac \u001b[38;5;241m%\u001b[39m \u001b[38;5;241m10\u001b[39m \u001b[38;5;241m==\u001b[39m \u001b[38;5;241m0\u001b[39m:\n\u001b[0;32m     12\u001b[0m     count \u001b[38;5;241m=\u001b[39m count\u001b[38;5;241m+\u001b[39m\u001b[38;5;241m1\u001b[39m\n\u001b[1;32m---> 13\u001b[0m     fac \u001b[38;5;241m=\u001b[39m \u001b[43mfac\u001b[49m\u001b[43m \u001b[49m\u001b[38;5;241;43m/\u001b[39;49m\u001b[43m \u001b[49m\u001b[38;5;241;43m10\u001b[39;49m\n\u001b[0;32m     14\u001b[0m \u001b[38;5;28;01mreturn\u001b[39;00m count\n",
      "\u001b[1;31mOverflowError\u001b[0m: integer division result too large for a float"
     ]
    }
   ],
   "source": [
    "def factorial(number):\n",
    "    if number == 0 or number == 1:\n",
    "        return 1\n",
    "    else:\n",
    "        return number * factorial(number-1)\n",
    "    \n",
    "def factorialTrailingZero(number):\n",
    "    fac = factorial(number)\n",
    "    print(fac)\n",
    "    count = 0\n",
    "    while fac % 10 == 0:\n",
    "        count = count+1\n",
    "        fac = fac / 10\n",
    "    return count\n",
    "\n",
    "if __name__ == '__main__':\n",
    "#     number = int(input('Enter a number'))\n",
    "#     fac = factorial(number)\n",
    "#     print(f\"The factorial is {fac}\")\n",
    "    print(factorialTrailingZero(560))"
   ]
  },
  {
   "cell_type": "code",
   "execution_count": 21,
   "id": "e4caf341",
   "metadata": {},
   "outputs": [
    {
     "name": "stdout",
     "output_type": "stream",
     "text": [
      "Enter a number:10\n",
      "2\n"
     ]
    }
   ],
   "source": [
    "def factorialTrailingZero(number):\n",
    "    count = 0\n",
    "    i = 5\n",
    "    while number // i != 0:\n",
    "        count += int(number/i)\n",
    "        i = i *5\n",
    "    return count\n",
    "\n",
    "\n",
    "number = int(input('Enter a number:'))\n",
    "fac = factorial(number)\n",
    "print(factorialTrailingZero(number))"
   ]
  },
  {
   "cell_type": "code",
   "execution_count": null,
   "id": "ed5dd3f2",
   "metadata": {},
   "outputs": [],
   "source": []
  },
  {
   "cell_type": "code",
   "execution_count": null,
   "id": "22c4bbd3",
   "metadata": {},
   "outputs": [],
   "source": []
  }
 ],
 "metadata": {
  "kernelspec": {
   "display_name": "Python 3 (ipykernel)",
   "language": "python",
   "name": "python3"
  },
  "language_info": {
   "codemirror_mode": {
    "name": "ipython",
    "version": 3
   },
   "file_extension": ".py",
   "mimetype": "text/x-python",
   "name": "python",
   "nbconvert_exporter": "python",
   "pygments_lexer": "ipython3",
   "version": "3.10.4"
  }
 },
 "nbformat": 4,
 "nbformat_minor": 5
}
