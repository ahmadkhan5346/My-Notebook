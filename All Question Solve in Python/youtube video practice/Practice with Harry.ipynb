{
 "cells": [
  {
   "cell_type": "markdown",
   "id": "7137b538",
   "metadata": {},
   "source": [
    "### 1. How to Create An Indian Kirana Store Calculator & Receipt Generator"
   ]
  },
  {
   "cell_type": "code",
   "execution_count": 6,
   "id": "b0e7bf58",
   "metadata": {},
   "outputs": [
    {
     "name": "stdout",
     "output_type": "stream",
     "text": [
      "Enter the price: \n",
      "5\n",
      "Order total so far: 5\n",
      "Enter the price: \n",
      "5\n",
      "Order total so far: 10\n",
      "Enter the price: \n",
      "5\n",
      "Order total so far: 15\n",
      "Enter the price: \n",
      "3\n",
      "Order total so far: 18\n",
      "Enter the price: \n",
      "q\n",
      "Your Bill total is 18. Thanks for shopping with us\n"
     ]
    }
   ],
   "source": [
    "sum1 = 0\n",
    "while True:\n",
    "    userInput = input(\"Enter the item price or press q to quit: \\n\")\n",
    "    if userInput != \"q\":\n",
    "        sum1 += int(userInput)\n",
    "        print(f\"Order total so far: {sum1}\")\n",
    "    else:\n",
    "        print(f\"Your Bill total is {sum1}. Thanks for shopping with us\")\n",
    "        break"
   ]
  },
  {
   "cell_type": "markdown",
   "id": "dee21d23",
   "metadata": {},
   "source": [
    "strt=\"hello\"\n",
    "strt[1:]"
   ]
  },
  {
   "cell_type": "code",
   "execution_count": null,
   "id": "4b74a8b3",
   "metadata": {},
   "outputs": [],
   "source": []
  }
 ],
 "metadata": {
  "kernelspec": {
   "display_name": "Python 3 (ipykernel)",
   "language": "python",
   "name": "python3"
  },
  "language_info": {
   "codemirror_mode": {
    "name": "ipython",
    "version": 3
   },
   "file_extension": ".py",
   "mimetype": "text/x-python",
   "name": "python",
   "nbconvert_exporter": "python",
   "pygments_lexer": "ipython3",
   "version": "3.10.4"
  }
 },
 "nbformat": 4,
 "nbformat_minor": 5
}
