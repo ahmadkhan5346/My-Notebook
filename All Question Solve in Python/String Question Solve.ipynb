{
 "cells": [
  {
   "cell_type": "markdown",
   "id": "84b4ba99",
   "metadata": {},
   "source": [
    "### 1.To find the duplicate characters in a given string."
   ]
  },
  {
   "cell_type": "code",
   "execution_count": 4,
   "id": "2e8ddf2e",
   "metadata": {},
   "outputs": [
    {
     "name": "stdout",
     "output_type": "stream",
     "text": [
      "Enter String:\n",
      "python programminggg\n",
      "Duplicate charachters in a given string\n",
      "['p', 'o', 'n', 'r', 'g', 'm']\n"
     ]
    }
   ],
   "source": [
    "str1 = input(\"Enter String:\\n\")\n",
    "print(\"Duplicate charachters in a given string\")\n",
    "duplicates = []\n",
    "for i in str1:\n",
    "    if str1.count(i)>1:\n",
    "        if i not in duplicates:\n",
    "            duplicates.append(i)\n",
    "print(duplicates)"
   ]
  },
  {
   "cell_type": "markdown",
   "id": "af3b1a0d",
   "metadata": {},
   "source": [
    "### 2.To check whether a given string is a palindrome."
   ]
  },
  {
   "cell_type": "code",
   "execution_count": 5,
   "id": "057dfa0f",
   "metadata": {},
   "outputs": [
    {
     "name": "stdout",
     "output_type": "stream",
     "text": [
      "Enter String:\n",
      "madam\n",
      "Palindrome string\n"
     ]
    }
   ],
   "source": [
    "a = input(\"Enter String:\\n\")\n",
    "b = a[::-1]\n",
    "if a==b:\n",
    "    print(\"Palindrome string\")\n",
    "else:\n",
    "    print(\"Not palindrome string\")\n"
   ]
  },
  {
   "cell_type": "markdown",
   "id": "47b74684",
   "metadata": {},
   "source": [
    "### 3.To capitalize the first character in a given sentence."
   ]
  },
  {
   "cell_type": "code",
   "execution_count": 1,
   "id": "5653bad4",
   "metadata": {},
   "outputs": [
    {
     "name": "stdout",
     "output_type": "stream",
     "text": [
      "Enter String:\n",
      "hello how are you\n",
      "Hello How Are You\n"
     ]
    }
   ],
   "source": [
    "x = input(\"Enter String:\\n\")\n",
    "x = x.title()\n",
    "print(x)"
   ]
  },
  {
   "cell_type": "markdown",
   "id": "404e6753",
   "metadata": {},
   "source": [
    "### 4.Program to convert String to a List."
   ]
  },
  {
   "cell_type": "code",
   "execution_count": 3,
   "id": "8f3f6c0d",
   "metadata": {},
   "outputs": [
    {
     "name": "stdout",
     "output_type": "stream",
     "text": [
      "Enter String to Covert in List :\n",
      "hello world\n",
      "['hello', 'world']\n"
     ]
    }
   ],
   "source": [
    "n = input(\"Enter String to Covert in List :\\n\")\n",
    "l = n.split()\n",
    "print(l)"
   ]
  },
  {
   "cell_type": "markdown",
   "id": "61762b77",
   "metadata": {},
   "source": [
    "### 5.To sort alphabetically the words in a given sentence."
   ]
  },
  {
   "cell_type": "code",
   "execution_count": 8,
   "id": "8612c544",
   "metadata": {},
   "outputs": [
    {
     "name": "stdout",
     "output_type": "stream",
     "text": [
      "Enter String to Sort alphabetically :\n",
      "sarfraz ahmad khan akram\n",
      "['ahmad', 'akram', 'khan', 'sarfraz']\n"
     ]
    }
   ],
   "source": [
    "x = input(\"Enter String to Sort alphabetically :\\n\")\n",
    "y = x.split()\n",
    "y.sort()\n",
    "print(y)"
   ]
  },
  {
   "cell_type": "markdown",
   "id": "2d102289",
   "metadata": {},
   "source": [
    "### 6. To demonstrate any 10 function(method) of string class.\n",
    "1.len()  2.capitalize()  3.find()  4.isalnum()  5.isdigit()  6.isspace()  7.isalpha()  8.upper()  9.title()  10.lower()"
   ]
  },
  {
   "cell_type": "code",
   "execution_count": 5,
   "id": "d9c8d0c7",
   "metadata": {},
   "outputs": [
    {
     "name": "stdout",
     "output_type": "stream",
     "text": [
      "Enter string:\n",
      "sarfraz\n",
      "7\n"
     ]
    }
   ],
   "source": [
    "a = input(\"Enter string:\\n\")\n",
    "print(len(a))"
   ]
  },
  {
   "cell_type": "code",
   "execution_count": 12,
   "id": "44aedaeb",
   "metadata": {},
   "outputs": [
    {
     "name": "stdout",
     "output_type": "stream",
     "text": [
      "Mumbai coding club\n"
     ]
    }
   ],
   "source": [
    "b = \"mumbai coding club\"\n",
    "print(b.capitalize())"
   ]
  },
  {
   "cell_type": "code",
   "execution_count": 18,
   "id": "b136d517",
   "metadata": {},
   "outputs": [
    {
     "data": {
      "text/plain": [
       "15"
      ]
     },
     "execution_count": 18,
     "metadata": {},
     "output_type": "execute_result"
    }
   ],
   "source": [
    "c = \"ahmad is going to marcket\"\n",
    "d = \"to\"\n",
    "c.find(d,0,len(a)-1)"
   ]
  },
  {
   "cell_type": "code",
   "execution_count": 29,
   "id": "43b84a17",
   "metadata": {},
   "outputs": [
    {
     "name": "stdout",
     "output_type": "stream",
     "text": [
      "True\n"
     ]
    }
   ],
   "source": [
    "e = \"ahmad1991\"\n",
    "f = e.isalnum()\n",
    "print(f)"
   ]
  },
  {
   "cell_type": "code",
   "execution_count": 23,
   "id": "ca407f76",
   "metadata": {},
   "outputs": [
    {
     "data": {
      "text/plain": [
       "False"
      ]
     },
     "execution_count": 23,
     "metadata": {},
     "output_type": "execute_result"
    }
   ],
   "source": [
    "g = \"khan1991\"\n",
    "g.isdigit()"
   ]
  },
  {
   "cell_type": "code",
   "execution_count": 7,
   "id": "ae31ac2e",
   "metadata": {},
   "outputs": [
    {
     "name": "stdout",
     "output_type": "stream",
     "text": [
      "False\n"
     ]
    }
   ],
   "source": [
    "i = \"khan sarfraz ahmad\"\n",
    "f=i.isspace()\n",
    "print(f)"
   ]
  },
  {
   "cell_type": "code",
   "execution_count": 32,
   "id": "1dfc6fa1",
   "metadata": {},
   "outputs": [
    {
     "data": {
      "text/plain": [
       "True"
      ]
     },
     "execution_count": 32,
     "metadata": {},
     "output_type": "execute_result"
    }
   ],
   "source": [
    "j = \"sarfraz\"\n",
    "j.isalpha()"
   ]
  },
  {
   "cell_type": "code",
   "execution_count": 33,
   "id": "6eed7d30",
   "metadata": {},
   "outputs": [
    {
     "data": {
      "text/plain": [
       "'AHMAD'"
      ]
     },
     "execution_count": 33,
     "metadata": {},
     "output_type": "execute_result"
    }
   ],
   "source": [
    "k = \"ahmad\"\n",
    "k.upper()"
   ]
  },
  {
   "cell_type": "code",
   "execution_count": 34,
   "id": "6e2e7e76",
   "metadata": {},
   "outputs": [
    {
     "data": {
      "text/plain": [
       "'Sarfraz Mumbai Coding Club'"
      ]
     },
     "execution_count": 34,
     "metadata": {},
     "output_type": "execute_result"
    }
   ],
   "source": [
    "l = \"sarfraz mumbai coding club\"\n",
    "l.title()"
   ]
  },
  {
   "cell_type": "code",
   "execution_count": 36,
   "id": "1521d0b6",
   "metadata": {},
   "outputs": [
    {
     "data": {
      "text/plain": [
       "'mumbai coding club'"
      ]
     },
     "execution_count": 36,
     "metadata": {},
     "output_type": "execute_result"
    }
   ],
   "source": [
    "m = \"MUMBAI CODING CLUB\"\n",
    "m.lower()"
   ]
  },
  {
   "cell_type": "markdown",
   "id": "1540b4f6",
   "metadata": {},
   "source": [
    "# 7. To count no. of vowels in a given program."
   ]
  },
  {
   "cell_type": "code",
   "execution_count": 57,
   "id": "b38891b5",
   "metadata": {},
   "outputs": [
    {
     "name": "stdout",
     "output_type": "stream",
     "text": [
      "Enater Your Name :\n",
      "sarfraz khan\n",
      "Total Vowels = 3\n",
      "Total consonenta = 8\n"
     ]
    }
   ],
   "source": [
    "n = input(\"Enater Your Name :\\n\")\n",
    "vowel = 0\n",
    "cons = 0\n",
    "for i in range(0,len(n)):\n",
    "    if (n[i]!=' '):\n",
    "        if (n[i]=='a' or n[i]=='e' or n[i]=='i' or n[i]=='o' or [i]=='u'\n",
    "            or n[i]=='A' or n[i]=='E' or n[i]=='I' or n[i]=='O' or [i]=='U'):\n",
    "            vowel = vowel + 1\n",
    "        else:\n",
    "            cons = cons + 1\n",
    "print(\"Total Vowels =\",vowel)\n",
    "print(\"Total consonents =\",cons)\n",
    "        "
   ]
  },
  {
   "cell_type": "code",
   "execution_count": 2,
   "id": "9c294c9b",
   "metadata": {},
   "outputs": [
    {
     "name": "stdout",
     "output_type": "stream",
     "text": [
      "4\n"
     ]
    }
   ],
   "source": [
    "my_str = \"python programming\"\n",
    "vowels = ['a','e','i','o','u']\n",
    "count = [i for i in my_str if i in vowels]\n",
    "print(len(count))"
   ]
  },
  {
   "cell_type": "markdown",
   "id": "dfd4b5dc",
   "metadata": {},
   "source": [
    "# 8. To implement a Caesar cipher in python"
   ]
  },
  {
   "cell_type": "code",
   "execution_count": 7,
   "id": "d3d1887e",
   "metadata": {},
   "outputs": [
    {
     "name": "stdout",
     "output_type": "stream",
     "text": [
      "Enter your message: mumbai coding club\n",
      "Enter your key:2\n",
      "owodckbeqfkpibenwd\n",
      "mumbai0coding0club\n"
     ]
    }
   ],
   "source": [
    "message=input(\"Enter your message: \")\n",
    "key=int(input(\"Enter your key:\"))\n",
    "\n",
    "var=\"abcdefghijklmnopqrstuvwxyz!@#$%^&*()}{][|\\;:.<>,1234567890\"\n",
    "\n",
    "encrypt=\"\"\n",
    "decrypt=\"\"\n",
    "for i in message:\n",
    "    position=var.find(i)\n",
    "    newposition=(position+key)%58\n",
    "    encrypt+=var[newposition]\n",
    "print(encrypt)    \n",
    "\n",
    "for i in encrypt:\n",
    "    pos=var.find(i)\n",
    "    newposition=(pos-key)%58\n",
    "    decrypt+=var[newposition]\n",
    "print(decrypt)"
   ]
  },
  {
   "cell_type": "markdown",
   "id": "f3733cd0",
   "metadata": {},
   "source": [
    "# 9. To demonstrate string slice"
   ]
  },
  {
   "cell_type": "code",
   "execution_count": 63,
   "id": "32a465c1",
   "metadata": {},
   "outputs": [
    {
     "name": "stdout",
     "output_type": "stream",
     "text": [
      "Enter Stringhello world\n",
      "dlrow olleh\n"
     ]
    }
   ],
   "source": [
    "o = input(\"Enter String\")\n",
    "print(o[::-1])"
   ]
  },
  {
   "cell_type": "code",
   "execution_count": 64,
   "id": "f4948e6a",
   "metadata": {},
   "outputs": [
    {
     "data": {
      "text/plain": [
       "'ello wo'"
      ]
     },
     "execution_count": 64,
     "metadata": {},
     "output_type": "execute_result"
    }
   ],
   "source": [
    "p = \"hello world\"\n",
    "p[1:-3]"
   ]
  },
  {
   "cell_type": "code",
   "execution_count": 65,
   "id": "b697c67d",
   "metadata": {},
   "outputs": [
    {
     "data": {
      "text/plain": [
       "'lowrdid'"
      ]
     },
     "execution_count": 65,
     "metadata": {},
     "output_type": "execute_result"
    }
   ],
   "source": [
    "q = \"hello world india\"\n",
    "q[2:-2:2]"
   ]
  },
  {
   "cell_type": "markdown",
   "id": "9a3cf8c9",
   "metadata": {},
   "source": [
    "### 10. To check substring is Present in a Given String"
   ]
  },
  {
   "cell_type": "code",
   "execution_count": 2,
   "id": "fc104dcb",
   "metadata": {},
   "outputs": [
    {
     "name": "stdout",
     "output_type": "stream",
     "text": [
      "Found\n"
     ]
    }
   ],
   "source": [
    "str1 = (\"Welcome to python programming\")\n",
    "substr = \"python\"\n",
    "# print(str.find(substr))\n",
    "if str1.find(substr) == -1:\n",
    "    print(\"Not found\")\n",
    "else:\n",
    "    print(\"Found\")\n",
    "    "
   ]
  },
  {
   "cell_type": "markdown",
   "id": "6df251b8",
   "metadata": {},
   "source": [
    "### 11 character count of given string\n",
    "- input--a3b2c4\n",
    "- output--aaabbcccc"
   ]
  },
  {
   "cell_type": "code",
   "execution_count": 9,
   "id": "1b3d7482",
   "metadata": {},
   "outputs": [
    {
     "name": "stdout",
     "output_type": "stream",
     "text": [
      "aaa\n",
      "aaabb\n",
      "aaabbcccc\n"
     ]
    }
   ],
   "source": [
    "\n",
    "str1 = 'a3b2c4'\n",
    "output = \"\"\n",
    "for char in str1:\n",
    "    if char.isalpha():\n",
    "        var = char\n",
    "    else:\n",
    "        num = int(char)\n",
    "        output = output+(var*num)\n",
    "        print(output)"
   ]
  },
  {
   "cell_type": "code",
   "execution_count": 12,
   "id": "45af86e5",
   "metadata": {},
   "outputs": [
    {
     "name": "stdout",
     "output_type": "stream",
     "text": [
      "cccc\n"
     ]
    }
   ],
   "source": [
    "str1 = 'a3b2c4'\n",
    "for char in str1:\n",
    "    if char.isalpha():\n",
    "        var = char\n",
    "#         print('var:',var)\n",
    "    else:\n",
    "        num = int(char)\n",
    "        output = var*num\n",
    "print(output)"
   ]
  },
  {
   "cell_type": "code",
   "execution_count": 3,
   "id": "4fb3144e",
   "metadata": {},
   "outputs": [
    {
     "name": "stdout",
     "output_type": "stream",
     "text": [
      "d1a3b2c4\n"
     ]
    }
   ],
   "source": [
    "str1 = 'daaabbcccc'\n",
    "char_count = ''\n",
    "counts=0\n",
    "for char in str1:\n",
    "    counts = str(str1.count(char))\n",
    "    if char not in char_count:\n",
    "        char_count += char + counts\n",
    "print(char_count)"
   ]
  },
  {
   "cell_type": "markdown",
   "id": "52b7e15d",
   "metadata": {},
   "source": [
    "### 12. element of list convert in string"
   ]
  },
  {
   "cell_type": "code",
   "execution_count": 1,
   "id": "f12356e5",
   "metadata": {},
   "outputs": [
    {
     "name": "stdout",
     "output_type": "stream",
     "text": [
      " sarfraz ahmad khan\n"
     ]
    }
   ],
   "source": [
    "list1 = ['sarfraz','ahmad','khan']\n",
    "string = ''\n",
    "for i in list1:\n",
    "    string +=\" \"+ i\n",
    "print(string)"
   ]
  },
  {
   "cell_type": "code",
   "execution_count": 4,
   "id": "c4090367",
   "metadata": {},
   "outputs": [
    {
     "name": "stdout",
     "output_type": "stream",
     "text": [
      "['abc', 'a', 'aabc', 'aaa', 'aaaabc']\n"
     ]
    }
   ],
   "source": [
    "list1 = ['aabc','abc','aaaabc','aaa','a']\n",
    "for i in range(len(list1)):\n",
    "    for j in range(len(list1)):\n",
    "        if list1[i].count('a') < list1[j].count('a'):\n",
    "            list1[i], list1[j] = list1[j], list1[i]\n",
    "print(list1)"
   ]
  },
  {
   "cell_type": "markdown",
   "id": "c9c941f2",
   "metadata": {},
   "source": [
    "### 13. how to do reverse string"
   ]
  },
  {
   "cell_type": "code",
   "execution_count": 1,
   "id": "99e05f14",
   "metadata": {},
   "outputs": [
    {
     "name": "stdout",
     "output_type": "stream",
     "text": [
      "The original string is : Geeksforgeeks\n",
      "The reversed string(using loops) is : skeegrofskeeG\n"
     ]
    }
   ],
   "source": [
    "def reverse(s):\n",
    "    str = \"\"\n",
    "    for i in s:\n",
    "        str = i + str\n",
    "    return str\n",
    "  \n",
    "s = \"Geeksforgeeks\"\n",
    "  \n",
    "print(\"The original string is : \", end=\"\")\n",
    "print(s)\n",
    "  \n",
    "print(\"The reversed string(using loops) is : \", end=\"\")\n",
    "print(reverse(s))"
   ]
  },
  {
   "cell_type": "code",
   "execution_count": 10,
   "id": "a1edb34b",
   "metadata": {},
   "outputs": [
    {
     "name": "stdout",
     "output_type": "stream",
     "text": [
      "zarfras\n"
     ]
    }
   ],
   "source": [
    "def reverse(a):\n",
    "    str1 = \"\"\n",
    "    for i in a:\n",
    "        str1 = i + str1\n",
    "    return str1\n",
    "a=reverse(\"sarfraz\")\n",
    "print(a)"
   ]
  },
  {
   "cell_type": "markdown",
   "id": "4af1d172",
   "metadata": {},
   "source": [
    "### count same characters in given string return true else return false"
   ]
  },
  {
   "cell_type": "code",
   "execution_count": 1,
   "id": "7439d2b3",
   "metadata": {},
   "outputs": [
    {
     "name": "stdout",
     "output_type": "stream",
     "text": [
      "{'a': True, 'b': False, 'c': True, 'd': False, 'e': True, 'f': False}\n"
     ]
    }
   ],
   "source": [
    "def anagram(a, b):\n",
    "    final={}\n",
    "    for i in a:\n",
    "        if str1.count(i) == str2.count(i):\n",
    "            final[i]=True\n",
    "        else:\n",
    "            final[i]= False\n",
    "    return final\n",
    "    \n",
    "str1 = 'abcaadefc'\n",
    "str2 = 'aceagharc'\n",
    "print(anagram(str1,str2))  "
   ]
  },
  {
   "cell_type": "code",
   "execution_count": null,
   "id": "a294ace8",
   "metadata": {},
   "outputs": [],
   "source": []
  }
 ],
 "metadata": {
  "kernelspec": {
   "display_name": "Python 3 (ipykernel)",
   "language": "python",
   "name": "python3"
  },
  "language_info": {
   "codemirror_mode": {
    "name": "ipython",
    "version": 3
   },
   "file_extension": ".py",
   "mimetype": "text/x-python",
   "name": "python",
   "nbconvert_exporter": "python",
   "pygments_lexer": "ipython3",
   "version": "3.10.4"
  }
 },
 "nbformat": 4,
 "nbformat_minor": 5
}
