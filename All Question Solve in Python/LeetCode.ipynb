{
 "cells": [
  {
   "cell_type": "markdown",
   "id": "191d40c0",
   "metadata": {},
   "source": [
    "### 1 Build Array from Permutation"
   ]
  },
  {
   "cell_type": "code",
   "execution_count": 5,
   "id": "96ebd652",
   "metadata": {},
   "outputs": [
    {
     "name": "stdout",
     "output_type": "stream",
     "text": [
      "[5, 0, 2, 3, 4, 1]\n"
     ]
    }
   ],
   "source": [
    "a=[1,5,3,2,4,0]\n",
    "b=[]\n",
    "for i in a:\n",
    "    b.append(a[i])\n",
    "print(b)"
   ]
  },
  {
   "cell_type": "markdown",
   "id": "40f0d37e",
   "metadata": {},
   "source": [
    "### 2 Concatenation of Array"
   ]
  },
  {
   "cell_type": "code",
   "execution_count": 9,
   "id": "6085354f",
   "metadata": {},
   "outputs": [
    {
     "name": "stdout",
     "output_type": "stream",
     "text": [
      "[1, 2, 1, 1, 2, 1]\n"
     ]
    }
   ],
   "source": [
    "lst1 = [1,2,1]\n",
    "lst2 = lst1\n",
    "print(lst1+lst2)"
   ]
  },
  {
   "cell_type": "markdown",
   "id": "6e57c434",
   "metadata": {},
   "source": [
    "### 3 Running Sum of 1d Array"
   ]
  },
  {
   "cell_type": "code",
   "execution_count": 10,
   "id": "ef370988",
   "metadata": {},
   "outputs": [
    {
     "name": "stdout",
     "output_type": "stream",
     "text": [
      "[1, 3, 6, 10]\n"
     ]
    }
   ],
   "source": [
    "a=[1,2,3,4]\n",
    "for i in range(1, len(a)):\n",
    "    a[i] += a[i-1]\n",
    "print(a)"
   ]
  },
  {
   "cell_type": "markdown",
   "id": "43969273",
   "metadata": {},
   "source": [
    "### 4 Richest Customer Wealth"
   ]
  },
  {
   "cell_type": "code",
   "execution_count": 11,
   "id": "350ce323",
   "metadata": {},
   "outputs": [
    {
     "name": "stdout",
     "output_type": "stream",
     "text": [
      "14\n"
     ]
    }
   ],
   "source": [
    "lst = [[1,5,2,3],[2,3],[1],[6,8,]]\n",
    "max1=[]\n",
    "for i in lst:\n",
    "    max1.append(sum(i))\n",
    "max1.sort()\n",
    "print(max1[-1])    "
   ]
  },
  {
   "cell_type": "markdown",
   "id": "efb6f7a7",
   "metadata": {},
   "source": [
    "### 5 Shuffle the Array"
   ]
  },
  {
   "cell_type": "code",
   "execution_count": 3,
   "id": "613812c2",
   "metadata": {},
   "outputs": [
    {
     "name": "stdout",
     "output_type": "stream",
     "text": [
      "[1, 4, 2, 3, 3, 2, 4, 1]\n"
     ]
    }
   ],
   "source": [
    "nums = [1,2,3,4,4,3,2,1]\n",
    "n = int(len(nums)/2)\n",
    "list1 = nums[0:n]\n",
    "list2 = nums[n:2*n]\n",
    "list3=[]\n",
    "for i in range(n):\n",
    "#     print(i)\n",
    "    list3.append(list1[i])\n",
    "    list3.append(list2[i])\n",
    "print(list3)"
   ]
  },
  {
   "cell_type": "code",
   "execution_count": 12,
   "id": "dd93252a",
   "metadata": {},
   "outputs": [],
   "source": [
    "### 6 Kids With the Greatest Number of Candies"
   ]
  },
  {
   "cell_type": "code",
   "execution_count": 10,
   "id": "d7790771",
   "metadata": {},
   "outputs": [
    {
     "name": "stdout",
     "output_type": "stream",
     "text": [
      "False\n",
      "True\n",
      "True\n",
      "False\n",
      "True\n",
      "False\n",
      "False\n",
      "True\n",
      "False\n",
      "False\n",
      "False\n",
      "False\n",
      "False\n",
      "False\n",
      "False\n",
      "True\n",
      "True\n",
      "True\n",
      "False\n",
      "True\n",
      "False\n",
      "False\n",
      "True\n",
      "False\n",
      "False\n"
     ]
    }
   ],
   "source": [
    "# candies = [2,3,5,1,3], extraCandies = 3\n",
    "lst = [2,3,5,1,3]\n",
    "n=3\n",
    "lst1 = []\n",
    "for i in lst:\n",
    "#     a= str(i+n)\n",
    "    lst1.append((i+n))\n",
    "for x in range(len(lst1)):\n",
    "    for j in range(len(lst1)):\n",
    "        if lst1[x]<lst1[j]:\n",
    "            print('True')\n",
    "        else:\n",
    "            print('False')\n"
   ]
  },
  {
   "cell_type": "code",
   "execution_count": null,
   "id": "8fcd102b",
   "metadata": {},
   "outputs": [],
   "source": []
  }
 ],
 "metadata": {
  "kernelspec": {
   "display_name": "Python 3 (ipykernel)",
   "language": "python",
   "name": "python3"
  },
  "language_info": {
   "codemirror_mode": {
    "name": "ipython",
    "version": 3
   },
   "file_extension": ".py",
   "mimetype": "text/x-python",
   "name": "python",
   "nbconvert_exporter": "python",
   "pygments_lexer": "ipython3",
   "version": "3.10.4"
  }
 },
 "nbformat": 4,
 "nbformat_minor": 5
}
