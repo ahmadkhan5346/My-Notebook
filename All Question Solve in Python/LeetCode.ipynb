{
 "cells": [
  {
   "cell_type": "markdown",
   "id": "191d40c0",
   "metadata": {},
   "source": [
    "### 1 Build Array from Permutation"
   ]
  },
  {
   "cell_type": "code",
   "execution_count": 5,
   "id": "96ebd652",
   "metadata": {},
   "outputs": [
    {
     "name": "stdout",
     "output_type": "stream",
     "text": [
      "[5, 0, 2, 3, 4, 1]\n"
     ]
    }
   ],
   "source": [
    "a=[1,5,3,2,4,0]\n",
    "b=[]\n",
    "for i in a:\n",
    "    b.append(a[i])\n",
    "print(b)"
   ]
  },
  {
   "cell_type": "markdown",
   "id": "40f0d37e",
   "metadata": {},
   "source": [
    "### 2 Concatenation of Array"
   ]
  },
  {
   "cell_type": "code",
   "execution_count": 9,
   "id": "6085354f",
   "metadata": {},
   "outputs": [
    {
     "name": "stdout",
     "output_type": "stream",
     "text": [
      "[1, 2, 1, 1, 2, 1]\n"
     ]
    }
   ],
   "source": [
    "lst1 = [1,2,1]\n",
    "lst2 = lst1\n",
    "print(lst1+lst2)"
   ]
  },
  {
   "cell_type": "markdown",
   "id": "6e57c434",
   "metadata": {},
   "source": [
    "### 3 Running Sum of 1d Array"
   ]
  },
  {
   "cell_type": "code",
   "execution_count": 10,
   "id": "ef370988",
   "metadata": {},
   "outputs": [
    {
     "name": "stdout",
     "output_type": "stream",
     "text": [
      "[1, 3, 6, 10]\n"
     ]
    }
   ],
   "source": [
    "a=[1,2,3,4]\n",
    "for i in range(1, len(a)):\n",
    "    a[i] += a[i-1]\n",
    "print(a)"
   ]
  },
  {
   "cell_type": "markdown",
   "id": "43969273",
   "metadata": {},
   "source": [
    "### 4 Richest Customer Wealth"
   ]
  },
  {
   "cell_type": "code",
   "execution_count": 11,
   "id": "350ce323",
   "metadata": {},
   "outputs": [
    {
     "name": "stdout",
     "output_type": "stream",
     "text": [
      "14\n"
     ]
    }
   ],
   "source": [
    "lst = [[1,5,2,3],[2,3],[1],[6,8,]]\n",
    "max1=[]\n",
    "for i in lst:\n",
    "    max1.append(sum(i))\n",
    "max1.sort()\n",
    "print(max1[-1])    "
   ]
  },
  {
   "cell_type": "markdown",
   "id": "efb6f7a7",
   "metadata": {},
   "source": [
    "### 5 Shuffle the Array"
   ]
  },
  {
   "cell_type": "code",
   "execution_count": 1,
   "id": "613812c2",
   "metadata": {},
   "outputs": [
    {
     "name": "stdout",
     "output_type": "stream",
     "text": [
      "[1, 4, 2, 3, 3, 2, 4, 1]\n"
     ]
    }
   ],
   "source": [
    "nums = [1,2,3,4,4,3,2,1]\n",
    "n = int(len(nums)/2)\n",
    "list1 = nums[0:n]\n",
    "list2 = nums[n:n*2]\n",
    "list3=[]\n",
    "for i in range(n):\n",
    "#     print(i)\n",
    "    list3.append(list1[i])\n",
    "    list3.append(list2[i])\n",
    "print(list3)"
   ]
  },
  {
   "cell_type": "markdown",
   "id": "81d5ccd4",
   "metadata": {},
   "source": [
    "### 6 Kids With the Greatest Number of Candies"
   ]
  },
  {
   "cell_type": "code",
   "execution_count": 6,
   "id": "d7790771",
   "metadata": {},
   "outputs": [
    {
     "name": "stdout",
     "output_type": "stream",
     "text": [
      "[True, False, False, False, False]\n"
     ]
    }
   ],
   "source": [
    "lst1 = [4,2,1,1,2]\n",
    "lst2=[]\n",
    "n=1\n",
    "for i in lst1:\n",
    "    for j in lst1:\n",
    "        if i+n >= j:\n",
    "            var=True\n",
    "        else:\n",
    "            var=False\n",
    "            break\n",
    "            \n",
    "    lst2.append(var)\n",
    "print(lst2)"
   ]
  },
  {
   "cell_type": "markdown",
   "id": "f6b89547",
   "metadata": {},
   "source": [
    "### 7 Number of Good Pairs"
   ]
  },
  {
   "cell_type": "code",
   "execution_count": 6,
   "id": "e3d5d64d",
   "metadata": {},
   "outputs": [
    {
     "name": "stdout",
     "output_type": "stream",
     "text": [
      "4\n"
     ]
    }
   ],
   "source": [
    "def pairs(list1):\n",
    "    op = []\n",
    "    for i in range (len(list1)):\n",
    "        for j in range(i+1,len(list1)):\n",
    "            if list1[i] == list1[j]:\n",
    "                op.append((i,j))\n",
    "    return len(op)\n",
    "            \n",
    "lst=[1,2,3,1,1,3]\n",
    "a=pairs(lst)\n",
    "print(a)"
   ]
  },
  {
   "cell_type": "markdown",
   "id": "b7081dff",
   "metadata": {},
   "source": [
    "### 8 How Many Numbers Are Smaller Than the Current Number"
   ]
  },
  {
   "cell_type": "code",
   "execution_count": 5,
   "id": "8fcd102b",
   "metadata": {},
   "outputs": [
    {
     "name": "stdout",
     "output_type": "stream",
     "text": [
      "[4, 0, 1, 1, 3]\n"
     ]
    }
   ],
   "source": [
    "def smaller(list1):\n",
    "    list2 =[]\n",
    "    for i in range(len(list1)):\n",
    "        count = 0\n",
    "        for j in range(len(list1)):\n",
    "            if list1[j] < list1[i]:\n",
    "                count += 1\n",
    "        list2.append(count)\n",
    "    return list2\n",
    "\n",
    "lst = [8,1,2,2,3]\n",
    "a=smaller(lst)\n",
    "print(a)"
   ]
  },
  {
   "cell_type": "markdown",
   "id": "a189d9ad",
   "metadata": {},
   "source": [
    "### 9 Create Target Array in the Given Order\n",
    "- Output: [0,4,1,3,2]"
   ]
  },
  {
   "cell_type": "code",
   "execution_count": 14,
   "id": "285bab8d",
   "metadata": {},
   "outputs": [
    {
     "name": "stdout",
     "output_type": "stream",
     "text": [
      "[0, 4, 1, 3, 2]\n"
     ]
    }
   ],
   "source": [
    "list1 = [0,1,2,3,4]; index = [0,1,2,2,1]\n",
    "def create_target_array(nums):\n",
    "    target = []\n",
    "    for i in range(len(nums)):\n",
    "        target.insert(index[i], nums[i])\n",
    "    return target\n",
    "    \n",
    "print(create_target_array(list1))"
   ]
  },
  {
   "cell_type": "code",
   "execution_count": null,
   "id": "03a98cf1",
   "metadata": {},
   "outputs": [],
   "source": []
  },
  {
   "cell_type": "markdown",
   "id": "2a7f5f77",
   "metadata": {},
   "source": [
    "### Product of Array Except Self"
   ]
  },
  {
   "cell_type": "code",
   "execution_count": 1,
   "id": "8c049f27",
   "metadata": {},
   "outputs": [
    {
     "name": "stdout",
     "output_type": "stream",
     "text": [
      "[24, 12, 8, 6]\n"
     ]
    }
   ],
   "source": [
    "lst = [1,2,3,4]    #output=[24, 12, 8, 6]\n",
    "list1=[]\n",
    "mul=1\n",
    "for idx1 in range(len(lst)):\n",
    "    for idx2 in range(len(lst)):\n",
    "        if idx1!=idx2:\n",
    "            mul*=lst[idx2]\n",
    "    list1.append(mul)\n",
    "    mul=1\n",
    "print(list1)"
   ]
  },
  {
   "cell_type": "code",
   "execution_count": null,
   "id": "5739de4f",
   "metadata": {},
   "outputs": [],
   "source": []
  }
 ],
 "metadata": {
  "kernelspec": {
   "display_name": "Python 3 (ipykernel)",
   "language": "python",
   "name": "python3"
  },
  "language_info": {
   "codemirror_mode": {
    "name": "ipython",
    "version": 3
   },
   "file_extension": ".py",
   "mimetype": "text/x-python",
   "name": "python",
   "nbconvert_exporter": "python",
   "pygments_lexer": "ipython3",
   "version": "3.10.4"
  }
 },
 "nbformat": 4,
 "nbformat_minor": 5
}
