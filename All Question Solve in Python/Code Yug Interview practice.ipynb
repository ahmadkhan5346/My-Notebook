{
 "cells": [
  {
   "cell_type": "markdown",
   "id": "11117ac9",
   "metadata": {},
   "source": [
    "### write a python program to reverse internal content of each word.\n",
    "input :- \"python is easy\" ------------ output :- \"nohtyp si ysae\""
   ]
  },
  {
   "cell_type": "code",
   "execution_count": 1,
   "id": "419fd24b",
   "metadata": {
    "scrolled": true
   },
   "outputs": [
    {
     "name": "stdout",
     "output_type": "stream",
     "text": [
      "Enter string:-python is easy\n",
      "['python', 'is', 'easy']\n",
      "['nohtyp', 'si', 'ysae']\n",
      "nohtyp si ysae\n"
     ]
    }
   ],
   "source": [
    "str1 = input(\"Enter string:-\")\n",
    "# str1 = (\"python is easy\")\n",
    "lst1 = str1.split()\n",
    "print(lst1)\n",
    "\n",
    "lst2 = []\n",
    "for word in lst1:\n",
    "    lst2.append(word[::-1])\n",
    "print(lst2)\n",
    "\n",
    "output = ' '.join(lst2)\n",
    "print(output)"
   ]
  },
  {
   "cell_type": "markdown",
   "id": "3fa9026d",
   "metadata": {},
   "source": [
    "### write a python program to print duplicates present in list."
   ]
  },
  {
   "cell_type": "code",
   "execution_count": 2,
   "id": "4e5a21dc",
   "metadata": {},
   "outputs": [
    {
     "name": "stdout",
     "output_type": "stream",
     "text": [
      "[20, 40]\n"
     ]
    }
   ],
   "source": [
    "l = ['hello', 10, 20, 40, 20, 60, 40, 30]\n",
    "d = []\n",
    "for item in l:\n",
    "    if l.count(item)>1 and item not in d:\n",
    "        d.append(item)\n",
    "print(d)"
   ]
  },
  {
   "cell_type": "code",
   "execution_count": 3,
   "id": "07316c74",
   "metadata": {},
   "outputs": [
    {
     "name": "stdout",
     "output_type": "stream",
     "text": [
      "[]\n",
      "[]\n",
      "[]\n",
      "[]\n",
      "[]\n",
      "[]\n",
      "[]\n",
      "[]\n",
      "[]\n",
      "[]\n",
      "[]\n",
      "[]\n",
      "[]\n",
      "[]\n",
      "[20]\n",
      "[20]\n",
      "[20]\n",
      "[20]\n",
      "[20]\n",
      "[20]\n",
      "[20, 40]\n",
      "[20, 40]\n",
      "[20, 40]\n",
      "[20, 40]\n",
      "[20, 40]\n",
      "[20, 40]\n",
      "[20, 40]\n",
      "[20, 40]\n"
     ]
    }
   ],
   "source": [
    "l = ['hello', 10, 20, 40, 20, 60, 40, 30]\n",
    "d = []\n",
    "for i in range(len(l)):\n",
    "    for j in range(i+1, len(l)):\n",
    "        if l[i]==l[j] and l[j] not in d:\n",
    "            d.append(l[j])\n",
    "        print(d)"
   ]
  },
  {
   "cell_type": "markdown",
   "id": "e3866802",
   "metadata": {},
   "source": [
    "### write a python program to find number of vowel in string"
   ]
  },
  {
   "cell_type": "code",
   "execution_count": 17,
   "id": "9600050c",
   "metadata": {},
   "outputs": [
    {
     "name": "stdout",
     "output_type": "stream",
     "text": [
      "vowel: 2 consonent: 5\n"
     ]
    }
   ],
   "source": [
    "# name = input('Enter any string')\n",
    "name = 'sarfraz'\n",
    "consonent = 0\n",
    "vowel = 0\n",
    "list_of_vowels = ['a', 'e', 'i', 'o', 'u']\n",
    "for char in name:\n",
    "    if char in list_of_vowels:\n",
    "#         vowel = char\n",
    "        vowel+=1\n",
    "    else:\n",
    "        consonent +=1\n",
    "        \n",
    "        \n",
    "print('vowel:',vowel, 'consonent:',consonent)\n",
    "        "
   ]
  },
  {
   "cell_type": "code",
   "execution_count": 23,
   "id": "afd2ce05",
   "metadata": {},
   "outputs": [
    {
     "name": "stdout",
     "output_type": "stream",
     "text": [
      "vowel: ['a', 'a'] consonent: ['s', 'r', 'f', 'r', 'z']\n"
     ]
    }
   ],
   "source": [
    "# name = input('Enter any string')\n",
    "name = 'sarfraz'\n",
    "consonent = []\n",
    "vowel = []\n",
    "list_of_vowels = ['a', 'e', 'i', 'o', 'u']\n",
    "for char in name:\n",
    "    if char in list_of_vowels:\n",
    "        vowel.append(char)\n",
    "        \n",
    "#         vowel = char\n",
    "#         vowel+=1\n",
    "    else:\n",
    "        consonent.append(char)\n",
    "        \n",
    "        \n",
    "print('vowel:',vowel, 'consonent:',consonent)\n",
    "        "
   ]
  },
  {
   "cell_type": "markdown",
   "id": "1d05d784",
   "metadata": {},
   "source": [
    "### Three ways of reversing string while loop, for loop, slicing"
   ]
  },
  {
   "cell_type": "code",
   "execution_count": 27,
   "id": "94f84767",
   "metadata": {},
   "outputs": [
    {
     "name": "stdout",
     "output_type": "stream",
     "text": [
      "z\n",
      "zarfras\n"
     ]
    }
   ],
   "source": [
    "name = 'sarfraz'\n",
    "r_name = ''\n",
    "count = len(name)\n",
    "print(name[count-1])\n",
    "while count>0:\n",
    "    r_name += name[count-1]\n",
    "    count -= 1\n",
    "print(r_name)\n",
    "    "
   ]
  },
  {
   "cell_type": "code",
   "execution_count": 36,
   "id": "f3be59d3",
   "metadata": {},
   "outputs": [
    {
     "name": "stdout",
     "output_type": "stream",
     "text": [
      "reverse using for loop: zarfras\n",
      "reverse using slicing: zarfras\n"
     ]
    }
   ],
   "source": [
    "name = 'sarfraz'\n",
    "r_name = ''\n",
    "for char in name:\n",
    "    r_name = char+r_name\n",
    "print('reverse using for loop:', r_name)\n",
    "\n",
    "print('reverse using slicing:', name[::-1])"
   ]
  },
  {
   "cell_type": "markdown",
   "id": "bb7e7c13",
   "metadata": {},
   "source": [
    "### Find third largest number given a list"
   ]
  },
  {
   "cell_type": "code",
   "execution_count": 3,
   "id": "d22da794",
   "metadata": {},
   "outputs": [
    {
     "name": "stdout",
     "output_type": "stream",
     "text": [
      "0\n",
      "0\n",
      "0\n",
      "0\n",
      "0\n",
      "1\n",
      "1\n",
      "1\n",
      "1\n",
      "2\n",
      "2\n",
      "2\n",
      "3\n",
      "3\n",
      "4\n"
     ]
    }
   ],
   "source": [
    "lst = [4, 6,3, 8,2, 9,]\n",
    "for i in range(len(lst)):\n",
    "    for j in range(i+1, len(lst)):\n",
    "        print(i)"
   ]
  },
  {
   "cell_type": "code",
   "execution_count": 14,
   "id": "5e3a2f5c",
   "metadata": {},
   "outputs": [
    {
     "name": "stdout",
     "output_type": "stream",
     "text": [
      "6\n"
     ]
    }
   ],
   "source": [
    "lst = [4, 6,3, 8,2, 9,]\n",
    "lst.sort()\n",
    "print(lst[-3])"
   ]
  },
  {
   "cell_type": "markdown",
   "id": "c3170189",
   "metadata": {},
   "source": [
    "### Write a program to display the words thats are repeated more than or equal to n times in the text."
   ]
  },
  {
   "cell_type": "code",
   "execution_count": 11,
   "id": "d5ff726d",
   "metadata": {},
   "outputs": [
    {
     "name": "stdout",
     "output_type": "stream",
     "text": [
      "{'junaid': 1, 'ahmad': 2, 'khan': 3, 'sarfraz': 1}\n"
     ]
    }
   ],
   "source": [
    "str1 = \"junaid ahmad khan ahmad khan sarfraz khan\"#input('Enter a String')\n",
    "# n = 2 #int(input('Enter a Count'))\n",
    "str1 = str1.split()\n",
    "counts = dict()\n",
    "for word in str1:\n",
    "    if word in counts:\n",
    "        counts[word]+=1\n",
    "    else:\n",
    "        counts[word]=1\n",
    "print(counts)"
   ]
  },
  {
   "cell_type": "code",
   "execution_count": 15,
   "id": "0c69ae9a",
   "metadata": {},
   "outputs": [
    {
     "name": "stdout",
     "output_type": "stream",
     "text": [
      "Enter a String:-khan\n",
      "Enter a Count:-2\n",
      "No count\n"
     ]
    }
   ],
   "source": [
    "str1 = input('Enter a String:-')\n",
    "n = int(input('Enter a Count:-'))\n",
    "str1 = str1.split()\n",
    "counts = dict()\n",
    "for word in str1:\n",
    "    if word in counts:\n",
    "        counts[word]+=1\n",
    "    else:\n",
    "        counts[word]=1\n",
    "word_list = []\n",
    "for key in counts:\n",
    "    if counts[key]>=n:\n",
    "        word_list.append(key)\n",
    "if len(word_list)>0:\n",
    "    print(word_list)\n",
    "else:\n",
    "    print(\"No count\")"
   ]
  },
  {
   "cell_type": "markdown",
   "id": "70575c9c",
   "metadata": {},
   "source": [
    "### Write a python program to sort characters and numbers so that first alphabets and then numbers are printed."
   ]
  },
  {
   "cell_type": "code",
   "execution_count": 1,
   "id": "fc4b4b08",
   "metadata": {},
   "outputs": [
    {
     "name": "stdout",
     "output_type": "stream",
     "text": [
      "Enter a string in tha format[Abc123]:-a1j3h5\n",
      "ahj135\n"
     ]
    }
   ],
   "source": [
    "str1 = input(\"Enter a string in tha format[Abc123]:-\")\n",
    "alphabets = []\n",
    "numbers = []\n",
    "for ch in str1:\n",
    "  if ch.isalpha():\n",
    "    alphabets.append(ch)\n",
    "  else:\n",
    "    numbers.append(ch)\n",
    "alphabets.sort()\n",
    "numbers.sort()\n",
    "final_list = alphabets+numbers\n",
    "output = ''.join(final_list)\n",
    "print(output)"
   ]
  },
  {
   "cell_type": "markdown",
   "id": "8f836a21",
   "metadata": {},
   "source": [
    "### Menu Driven Program in Python"
   ]
  },
  {
   "cell_type": "code",
   "execution_count": 2,
   "id": "e0cc5b14",
   "metadata": {},
   "outputs": [
    {
     "name": "stdout",
     "output_type": "stream",
     "text": [
      "Enter First Number:-3\n",
      "Enter Second Number:-4\n",
      "1.Addition\n",
      " 2.Substraction\n",
      " 3.multiplication\n",
      " 4.Division\n",
      "choose from above1\n",
      "Addition is: 7\n",
      "Do you want to continue?(y/n):n\n"
     ]
    }
   ],
   "source": [
    "while True:\n",
    "  num1 = int(input(\"Enter First Number:-\"))\n",
    "  num2 = int(input(\"Enter Second Number:-\"))\n",
    "  print(\"1.Addition\\n 2.Substraction\\n 3.multiplication\\n 4.Division\")\n",
    "  choice = int(input(\"choose from above\"))\n",
    "  if choice == 1:\n",
    "    print(\"Addition is:\", num1+num2)\n",
    "  elif choice == 2:\n",
    "    print(\"Substraction is:\", num1-num2)\n",
    "  elif choice == 3:\n",
    "    print(\"Multiplication is:\", num1*num2)\n",
    "  elif choice == 4:\n",
    "    print(\"Division is:\", num1/num2)\n",
    "  else:\n",
    "    print(\"Invalid choice\")\n",
    "\n",
    "  ans = input('Do you want to continue?(y/n):')\n",
    "  ans.lower()\n",
    "  if ans !='y':\n",
    "    break"
   ]
  },
  {
   "cell_type": "code",
   "execution_count": 13,
   "id": "34ac2c05",
   "metadata": {},
   "outputs": [
    {
     "name": "stdout",
     "output_type": "stream",
     "text": [
      "{'Talha': 78}\n"
     ]
    }
   ],
   "source": [
    "student = {\"Umar\":{\"score\": 67}, \"Talha\":{\"score\": 78}, \"Shadab\":{\"score\": 17}}\n",
    "def maximum():\n",
    "    maxim = 0\n",
    "    std = ''\n",
    "    for i in student:\n",
    "        score = student.get(i)['score']\n",
    "        if score > maxim:\n",
    "            maxim = score\n",
    "            std = i\n",
    "    return {std:maxim}\n",
    "            \n",
    "        \n",
    "a=maximum()\n",
    "print(a)"
   ]
  },
  {
   "cell_type": "code",
   "execution_count": null,
   "id": "0aff2d44",
   "metadata": {},
   "outputs": [],
   "source": []
  }
 ],
 "metadata": {
  "kernelspec": {
   "display_name": "Python 3 (ipykernel)",
   "language": "python",
   "name": "python3"
  },
  "language_info": {
   "codemirror_mode": {
    "name": "ipython",
    "version": 3
   },
   "file_extension": ".py",
   "mimetype": "text/x-python",
   "name": "python",
   "nbconvert_exporter": "python",
   "pygments_lexer": "ipython3",
   "version": "3.10.4"
  }
 },
 "nbformat": 4,
 "nbformat_minor": 5
}
