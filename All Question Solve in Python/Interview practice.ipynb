{
 "cells": [
  {
   "cell_type": "markdown",
   "id": "11117ac9",
   "metadata": {},
   "source": [
    "### write a python program to reverse internal content of each word.\n",
    "input :- \"python is easy\" ------------ output :- \"nohtyp si ysae\""
   ]
  },
  {
   "cell_type": "code",
   "execution_count": 1,
   "id": "419fd24b",
   "metadata": {
    "scrolled": true
   },
   "outputs": [
    {
     "name": "stdout",
     "output_type": "stream",
     "text": [
      "Enter string:-python is easy\n",
      "['python', 'is', 'easy']\n",
      "['nohtyp', 'si', 'ysae']\n",
      "nohtyp si ysae\n"
     ]
    }
   ],
   "source": [
    "str1 = input(\"Enter string:-\")\n",
    "# str1 = (\"python is easy\")\n",
    "lst1 = str1.split()\n",
    "print(lst1)\n",
    "\n",
    "lst2 = []\n",
    "for word in lst1:\n",
    "    lst2.append(word[::-1])\n",
    "print(lst2)\n",
    "\n",
    "output = ' '.join(lst2)\n",
    "print(output)"
   ]
  },
  {
   "cell_type": "markdown",
   "id": "3fa9026d",
   "metadata": {},
   "source": [
    "### write a python program to print duplicates present in list."
   ]
  },
  {
   "cell_type": "code",
   "execution_count": 2,
   "id": "4e5a21dc",
   "metadata": {},
   "outputs": [
    {
     "name": "stdout",
     "output_type": "stream",
     "text": [
      "[20, 40]\n"
     ]
    }
   ],
   "source": [
    "l = ['hello', 10, 20, 40, 20, 60, 40, 30]\n",
    "d = []\n",
    "for item in l:\n",
    "    if l.count(item)>1 and item not in d:\n",
    "        d.append(item)\n",
    "print(d)"
   ]
  },
  {
   "cell_type": "code",
   "execution_count": 3,
   "id": "07316c74",
   "metadata": {},
   "outputs": [
    {
     "name": "stdout",
     "output_type": "stream",
     "text": [
      "[]\n",
      "[]\n",
      "[]\n",
      "[]\n",
      "[]\n",
      "[]\n",
      "[]\n",
      "[]\n",
      "[]\n",
      "[]\n",
      "[]\n",
      "[]\n",
      "[]\n",
      "[]\n",
      "[20]\n",
      "[20]\n",
      "[20]\n",
      "[20]\n",
      "[20]\n",
      "[20]\n",
      "[20, 40]\n",
      "[20, 40]\n",
      "[20, 40]\n",
      "[20, 40]\n",
      "[20, 40]\n",
      "[20, 40]\n",
      "[20, 40]\n",
      "[20, 40]\n"
     ]
    }
   ],
   "source": [
    "l = ['hello', 10, 20, 40, 20, 60, 40, 30]\n",
    "d = []\n",
    "for i in range(len(l)):\n",
    "    for j in range(i+1, len(l)):\n",
    "        if l[i]==l[j] and l[j] not in d:\n",
    "            d.append(l[j])\n",
    "        print(d)"
   ]
  },
  {
   "cell_type": "markdown",
   "id": "e3866802",
   "metadata": {},
   "source": [
    "### write a python program to find number of vowel in string"
   ]
  },
  {
   "cell_type": "code",
   "execution_count": 17,
   "id": "9600050c",
   "metadata": {},
   "outputs": [
    {
     "name": "stdout",
     "output_type": "stream",
     "text": [
      "vowel: 2 consonent: 5\n"
     ]
    }
   ],
   "source": [
    "# name = input('Enter any string')\n",
    "name = 'sarfraz'\n",
    "consonent = 0\n",
    "vowel = 0\n",
    "list_of_vowels = ['a', 'e', 'i', 'o', 'u']\n",
    "for char in name:\n",
    "    if char in list_of_vowels:\n",
    "#         vowel = char\n",
    "        vowel+=1\n",
    "    else:\n",
    "        consonent +=1\n",
    "        \n",
    "        \n",
    "print('vowel:',vowel, 'consonent:',consonent)\n",
    "        "
   ]
  },
  {
   "cell_type": "code",
   "execution_count": 23,
   "id": "afd2ce05",
   "metadata": {},
   "outputs": [
    {
     "name": "stdout",
     "output_type": "stream",
     "text": [
      "vowel: ['a', 'a'] consonent: ['s', 'r', 'f', 'r', 'z']\n"
     ]
    }
   ],
   "source": [
    "# name = input('Enter any string')\n",
    "name = 'sarfraz'\n",
    "consonent = []\n",
    "vowel = []\n",
    "list_of_vowels = ['a', 'e', 'i', 'o', 'u']\n",
    "for char in name:\n",
    "    if char in list_of_vowels:\n",
    "        vowel.append(char)\n",
    "        \n",
    "#         vowel = char\n",
    "#         vowel+=1\n",
    "    else:\n",
    "        consonent.append(char)\n",
    "        \n",
    "        \n",
    "print('vowel:',vowel, 'consonent:',consonent)\n",
    "        "
   ]
  },
  {
   "cell_type": "markdown",
   "id": "1d05d784",
   "metadata": {},
   "source": [
    "### Three ways of reversing string while loop, for loop, slicing"
   ]
  },
  {
   "cell_type": "code",
   "execution_count": 27,
   "id": "94f84767",
   "metadata": {},
   "outputs": [
    {
     "name": "stdout",
     "output_type": "stream",
     "text": [
      "z\n",
      "zarfras\n"
     ]
    }
   ],
   "source": [
    "name = 'sarfraz'\n",
    "r_name = ''\n",
    "count = len(name)\n",
    "print(name[count-1])\n",
    "while count>0:\n",
    "    r_name += name[count-1]\n",
    "    count -= 1\n",
    "print(r_name)\n",
    "    "
   ]
  },
  {
   "cell_type": "code",
   "execution_count": 36,
   "id": "f3be59d3",
   "metadata": {},
   "outputs": [
    {
     "name": "stdout",
     "output_type": "stream",
     "text": [
      "reverse using for loop: zarfras\n",
      "reverse using slicing: zarfras\n"
     ]
    }
   ],
   "source": [
    "name = 'sarfraz'\n",
    "r_name = ''\n",
    "for char in name:\n",
    "    r_name = char+r_name\n",
    "print('reverse using for loop:', r_name)\n",
    "\n",
    "print('reverse using slicing:', name[::-1])"
   ]
  },
  {
   "cell_type": "code",
   "execution_count": null,
   "id": "5138858f",
   "metadata": {},
   "outputs": [],
   "source": []
  }
 ],
 "metadata": {
  "kernelspec": {
   "display_name": "Python 3 (ipykernel)",
   "language": "python",
   "name": "python3"
  },
  "language_info": {
   "codemirror_mode": {
    "name": "ipython",
    "version": 3
   },
   "file_extension": ".py",
   "mimetype": "text/x-python",
   "name": "python",
   "nbconvert_exporter": "python",
   "pygments_lexer": "ipython3",
   "version": "3.10.4"
  }
 },
 "nbformat": 4,
 "nbformat_minor": 5
}
