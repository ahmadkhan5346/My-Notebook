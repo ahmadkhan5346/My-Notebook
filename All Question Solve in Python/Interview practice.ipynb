{
 "cells": [
  {
   "cell_type": "markdown",
   "id": "11117ac9",
   "metadata": {},
   "source": [
    "### write a python program to reverse internal content of each word.\n",
    "input :- \"python is easy\" ------------ output :- \"nohtyp si ysae\""
   ]
  },
  {
   "cell_type": "code",
   "execution_count": 10,
   "id": "419fd24b",
   "metadata": {
    "scrolled": true
   },
   "outputs": [
    {
     "name": "stdout",
     "output_type": "stream",
     "text": [
      "Enter string:-python is easy\n",
      "['python', 'is', 'easy']\n",
      "['nohtyp', 'si', 'ysae']\n",
      "nohtyp si ysae\n"
     ]
    }
   ],
   "source": [
    "str1 = input(\"Enter string:-\")\n",
    "# str1 = (\"python is easy\")\n",
    "lst1 = str1.split()\n",
    "print(lst1)\n",
    "\n",
    "lst2 = []\n",
    "for word in lst1:\n",
    "    lst2.append(word[::-1])\n",
    "print(lst2)\n",
    "\n",
    "output = ' '.join(lst2)\n",
    "print(output)"
   ]
  },
  {
   "cell_type": "code",
   "execution_count": null,
   "id": "227a7f65",
   "metadata": {},
   "outputs": [],
   "source": []
  }
 ],
 "metadata": {
  "kernelspec": {
   "display_name": "Python 3 (ipykernel)",
   "language": "python",
   "name": "python3"
  },
  "language_info": {
   "codemirror_mode": {
    "name": "ipython",
    "version": 3
   },
   "file_extension": ".py",
   "mimetype": "text/x-python",
   "name": "python",
   "nbconvert_exporter": "python",
   "pygments_lexer": "ipython3",
   "version": "3.10.4"
  }
 },
 "nbformat": 4,
 "nbformat_minor": 5
}
