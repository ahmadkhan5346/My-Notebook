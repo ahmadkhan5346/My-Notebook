{
 "cells": [
  {
   "cell_type": "markdown",
   "id": "11117ac9",
   "metadata": {},
   "source": [
    "### write a python program to reverse internal content of each word.\n",
    "input :- \"python is easy\" ------------ output :- \"nohtyp si ysae\""
   ]
  },
  {
   "cell_type": "code",
   "execution_count": 1,
   "id": "419fd24b",
   "metadata": {
    "scrolled": true
   },
   "outputs": [
    {
     "name": "stdout",
     "output_type": "stream",
     "text": [
      "Enter string:-python is easy\n",
      "['python', 'is', 'easy']\n",
      "['nohtyp', 'si', 'ysae']\n",
      "nohtyp si ysae\n"
     ]
    }
   ],
   "source": [
    "str1 = input(\"Enter string:-\")\n",
    "# str1 = (\"python is easy\")\n",
    "lst1 = str1.split()\n",
    "print(lst1)\n",
    "\n",
    "lst2 = []\n",
    "for word in lst1:\n",
    "    lst2.append(word[::-1])\n",
    "print(lst2)\n",
    "\n",
    "output = ' '.join(lst2)\n",
    "print(output)"
   ]
  },
  {
   "cell_type": "markdown",
   "id": "3fa9026d",
   "metadata": {},
   "source": [
    "### write a python program to print duplicates present in list."
   ]
  },
  {
   "cell_type": "code",
   "execution_count": 2,
   "id": "4e5a21dc",
   "metadata": {},
   "outputs": [
    {
     "name": "stdout",
     "output_type": "stream",
     "text": [
      "[20, 40]\n"
     ]
    }
   ],
   "source": [
    "l = ['hello', 10, 20, 40, 20, 60, 40, 30]\n",
    "d = []\n",
    "for item in l:\n",
    "    if l.count(item)>1 and item not in d:\n",
    "        d.append(item)\n",
    "print(d)"
   ]
  },
  {
   "cell_type": "code",
   "execution_count": 3,
   "id": "07316c74",
   "metadata": {},
   "outputs": [
    {
     "name": "stdout",
     "output_type": "stream",
     "text": [
      "[]\n",
      "[]\n",
      "[]\n",
      "[]\n",
      "[]\n",
      "[]\n",
      "[]\n",
      "[]\n",
      "[]\n",
      "[]\n",
      "[]\n",
      "[]\n",
      "[]\n",
      "[]\n",
      "[20]\n",
      "[20]\n",
      "[20]\n",
      "[20]\n",
      "[20]\n",
      "[20]\n",
      "[20, 40]\n",
      "[20, 40]\n",
      "[20, 40]\n",
      "[20, 40]\n",
      "[20, 40]\n",
      "[20, 40]\n",
      "[20, 40]\n",
      "[20, 40]\n"
     ]
    }
   ],
   "source": [
    "l = ['hello', 10, 20, 40, 20, 60, 40, 30]\n",
    "d = []\n",
    "for i in range(len(l)):\n",
    "    for j in range(i+1, len(l)):\n",
    "        if l[i]==l[j] and l[j] not in d:\n",
    "            d.append(l[j])\n",
    "        print(d)"
   ]
  },
  {
   "cell_type": "markdown",
   "id": "e3866802",
   "metadata": {},
   "source": [
    "### write a python program to find number of vowel in string"
   ]
  },
  {
   "cell_type": "code",
   "execution_count": 17,
   "id": "9600050c",
   "metadata": {},
   "outputs": [
    {
     "name": "stdout",
     "output_type": "stream",
     "text": [
      "vowel: 2 consonent: 5\n"
     ]
    }
   ],
   "source": [
    "# name = input('Enter any string')\n",
    "name = 'sarfraz'\n",
    "consonent = 0\n",
    "vowel = 0\n",
    "list_of_vowels = ['a', 'e', 'i', 'o', 'u']\n",
    "for char in name:\n",
    "    if char in list_of_vowels:\n",
    "#         vowel = char\n",
    "        vowel+=1\n",
    "    else:\n",
    "        consonent +=1\n",
    "        \n",
    "        \n",
    "print('vowel:',vowel, 'consonent:',consonent)\n",
    "        "
   ]
  },
  {
   "cell_type": "code",
   "execution_count": 23,
   "id": "afd2ce05",
   "metadata": {},
   "outputs": [
    {
     "name": "stdout",
     "output_type": "stream",
     "text": [
      "vowel: ['a', 'a'] consonent: ['s', 'r', 'f', 'r', 'z']\n"
     ]
    }
   ],
   "source": [
    "# name = input('Enter any string')\n",
    "name = 'sarfraz'\n",
    "consonent = []\n",
    "vowel = []\n",
    "list_of_vowels = ['a', 'e', 'i', 'o', 'u']\n",
    "for char in name:\n",
    "    if char in list_of_vowels:\n",
    "        vowel.append(char)\n",
    "        \n",
    "#         vowel = char\n",
    "#         vowel+=1\n",
    "    else:\n",
    "        consonent.append(char)\n",
    "        \n",
    "        \n",
    "print('vowel:',vowel, 'consonent:',consonent)\n",
    "        "
   ]
  },
  {
   "cell_type": "markdown",
   "id": "1d05d784",
   "metadata": {},
   "source": [
    "### Three ways of reversing string while loop, for loop, slicing"
   ]
  },
  {
   "cell_type": "code",
   "execution_count": 27,
   "id": "94f84767",
   "metadata": {},
   "outputs": [
    {
     "name": "stdout",
     "output_type": "stream",
     "text": [
      "z\n",
      "zarfras\n"
     ]
    }
   ],
   "source": [
    "name = 'sarfraz'\n",
    "r_name = ''\n",
    "count = len(name)\n",
    "print(name[count-1])\n",
    "while count>0:\n",
    "    r_name += name[count-1]\n",
    "    count -= 1\n",
    "print(r_name)\n",
    "    "
   ]
  },
  {
   "cell_type": "code",
   "execution_count": 36,
   "id": "f3be59d3",
   "metadata": {},
   "outputs": [
    {
     "name": "stdout",
     "output_type": "stream",
     "text": [
      "reverse using for loop: zarfras\n",
      "reverse using slicing: zarfras\n"
     ]
    }
   ],
   "source": [
    "name = 'sarfraz'\n",
    "r_name = ''\n",
    "for char in name:\n",
    "    r_name = char+r_name\n",
    "print('reverse using for loop:', r_name)\n",
    "\n",
    "print('reverse using slicing:', name[::-1])"
   ]
  },
  {
   "cell_type": "markdown",
   "id": "bb7e7c13",
   "metadata": {},
   "source": [
    "### Find third largest number given a list"
   ]
  },
  {
   "cell_type": "code",
   "execution_count": 3,
   "id": "d22da794",
   "metadata": {},
   "outputs": [
    {
     "name": "stdout",
     "output_type": "stream",
     "text": [
      "0\n",
      "0\n",
      "0\n",
      "0\n",
      "0\n",
      "1\n",
      "1\n",
      "1\n",
      "1\n",
      "2\n",
      "2\n",
      "2\n",
      "3\n",
      "3\n",
      "4\n"
     ]
    }
   ],
   "source": [
    "lst = [4, 6,3, 8,2, 9,]\n",
    "for i in range(len(lst)):\n",
    "    for j in range(i+1, len(lst)):\n",
    "        print(i)"
   ]
  },
  {
   "cell_type": "code",
   "execution_count": 14,
   "id": "5e3a2f5c",
   "metadata": {},
   "outputs": [
    {
     "name": "stdout",
     "output_type": "stream",
     "text": [
      "6\n"
     ]
    }
   ],
   "source": [
    "lst = [4, 6,3, 8,2, 9,]\n",
    "lst.sort()\n",
    "print(lst[-3])"
   ]
  },
  {
   "cell_type": "markdown",
   "id": "c3170189",
   "metadata": {},
   "source": [
    "### Write a program to display the words thats are repeated more than or equal to n times in the text."
   ]
  },
  {
   "cell_type": "code",
   "execution_count": 11,
   "id": "d5ff726d",
   "metadata": {},
   "outputs": [
    {
     "name": "stdout",
     "output_type": "stream",
     "text": [
      "{'junaid': 1, 'ahmad': 2, 'khan': 3, 'sarfraz': 1}\n"
     ]
    }
   ],
   "source": [
    "str1 = \"junaid ahmad khan ahmad khan sarfraz khan\"#input('Enter a String')\n",
    "# n = 2 #int(input('Enter a Count'))\n",
    "str1 = str1.split()\n",
    "counts = dict()\n",
    "for word in str1:\n",
    "    if word in counts:\n",
    "        counts[word]+=1\n",
    "    else:\n",
    "        counts[word]=1\n",
    "print(counts)"
   ]
  },
  {
   "cell_type": "code",
   "execution_count": 15,
   "id": "0c69ae9a",
   "metadata": {},
   "outputs": [
    {
     "name": "stdout",
     "output_type": "stream",
     "text": [
      "Enter a String:-khan\n",
      "Enter a Count:-2\n",
      "No count\n"
     ]
    }
   ],
   "source": [
    "str1 = input('Enter a String:-')\n",
    "n = int(input('Enter a Count:-'))\n",
    "str1 = str1.split()\n",
    "counts = dict()\n",
    "for word in str1:\n",
    "    if word in counts:\n",
    "        counts[word]+=1\n",
    "    else:\n",
    "        counts[word]=1\n",
    "word_list = []\n",
    "for key in counts:\n",
    "    if counts[key]>=n:\n",
    "        word_list.append(key)\n",
    "if len(word_list)>0:\n",
    "    print(word_list)\n",
    "else:\n",
    "    print(\"No count\")"
   ]
  },
  {
   "cell_type": "code",
   "execution_count": null,
   "id": "00473867",
   "metadata": {},
   "outputs": [],
   "source": []
  }
 ],
 "metadata": {
  "kernelspec": {
   "display_name": "Python 3 (ipykernel)",
   "language": "python",
   "name": "python3"
  },
  "language_info": {
   "codemirror_mode": {
    "name": "ipython",
    "version": 3
   },
   "file_extension": ".py",
   "mimetype": "text/x-python",
   "name": "python",
   "nbconvert_exporter": "python",
   "pygments_lexer": "ipython3",
   "version": "3.10.4"
  }
 },
 "nbformat": 4,
 "nbformat_minor": 5
}
