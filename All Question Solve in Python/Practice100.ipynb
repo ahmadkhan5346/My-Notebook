{
 "cells": [
  {
   "cell_type": "markdown",
   "id": "332d57e1",
   "metadata": {},
   "source": [
    "# List"
   ]
  },
  {
   "cell_type": "code",
   "execution_count": 43,
   "id": "5d07479a",
   "metadata": {},
   "outputs": [
    {
     "name": "stdout",
     "output_type": "stream",
     "text": [
      "[1, 3, 5, 15, 9, 11]\n"
     ]
    }
   ],
   "source": [
    "list1 = [1,2,3,4,5,6,7,8,9,10,11,12]\n",
    "blank = []\n",
    "for i in list1:\n",
    "    if i % 2==1:\n",
    "        blank.append(i)\n",
    "print(blank)\n",
    "        "
   ]
  },
  {
   "cell_type": "code",
   "execution_count": 1,
   "id": "28c19007",
   "metadata": {},
   "outputs": [
    {
     "data": {
      "text/plain": [
       "[2, 3]"
      ]
     },
     "execution_count": 1,
     "metadata": {},
     "output_type": "execute_result"
    }
   ],
   "source": [
    "def twoSum(nums, target):\n",
    "    for i, num in enumerate(nums):\n",
    "        for j in range(i + 1, len(nums)):\n",
    "            if num + nums[j] == target:\n",
    "                return [i, j]\n",
    "\n",
    "lst = [3,5,7,9] \n",
    "\n",
    "twoSum(lst,16)"
   ]
  },
  {
   "cell_type": "code",
   "execution_count": 7,
   "id": "f79fc1e6",
   "metadata": {},
   "outputs": [
    {
     "name": "stdout",
     "output_type": "stream",
     "text": [
      "0\n",
      "1\n",
      "[1, 4]\n",
      "2\n",
      "[2, 3]\n",
      "3\n",
      "4\n"
     ]
    }
   ],
   "source": [
    "lst=[12,3,4,5,6]\n",
    "target=9\n",
    "for i in range(len(lst)):\n",
    "    print(i)\n",
    "    for j in range(i+1,len(lst)):\n",
    "        if lst[i]+lst[j]==target:\n",
    "            print([i,j])"
   ]
  },
  {
   "cell_type": "markdown",
   "id": "0c8ce603",
   "metadata": {},
   "source": [
    "## How many idex to find"
   ]
  },
  {
   "cell_type": "code",
   "execution_count": 8,
   "id": "3c0eca2f",
   "metadata": {},
   "outputs": [
    {
     "name": "stdout",
     "output_type": "stream",
     "text": [
      "0\n",
      "1\n",
      "2\n",
      "3\n",
      "4\n",
      "5\n"
     ]
    }
   ],
   "source": [
    "lst=[12,3,4,5,6,8]\n",
    "target=9\n",
    "for i in range (len(lst)):\n",
    "    print(i)"
   ]
  },
  {
   "cell_type": "code",
   "execution_count": 12,
   "id": "1c0375b7",
   "metadata": {},
   "outputs": [
    {
     "name": "stdout",
     "output_type": "stream",
     "text": [
      "9\n",
      "10\n",
      "11\n",
      "12\n"
     ]
    }
   ],
   "source": [
    "lst1 = [1,2,3,4]\n",
    "lst2 = [5,6,7,8]\n",
    "for i in lst1:\n",
    "    for j in lst2:\n",
    "        n= i+j\n",
    "    print(n)"
   ]
  },
  {
   "cell_type": "code",
   "execution_count": null,
   "id": "37fe16d9",
   "metadata": {},
   "outputs": [],
   "source": []
  },
  {
   "cell_type": "markdown",
   "id": "846a0b91",
   "metadata": {},
   "source": [
    "# List Comprehension"
   ]
  },
  {
   "cell_type": "code",
   "execution_count": 8,
   "id": "15a22501",
   "metadata": {},
   "outputs": [
    {
     "name": "stdout",
     "output_type": "stream",
     "text": [
      "[2, 4, 6, 8, 10, 12]\n"
     ]
    }
   ],
   "source": [
    "list1 = [1,2,3,4,5,6,7,8,9,10,11,12]\n",
    "print([number for number in list1 if number % 2==0])"
   ]
  },
  {
   "cell_type": "code",
   "execution_count": 13,
   "id": "c1372733",
   "metadata": {},
   "outputs": [
    {
     "name": "stdout",
     "output_type": "stream",
     "text": [
      "5 X 1 = 5\n",
      "5 X 2 = 10\n",
      "5 X 3 = 15\n",
      "5 X 4 = 20\n",
      "5 X 5 = 25\n",
      "5 X 6 = 30\n",
      "5 X 7 = 35\n",
      "5 X 8 = 40\n",
      "5 X 9 = 45\n",
      "5 X 10 = 50\n"
     ]
    }
   ],
   "source": [
    "for i in range (1,11):\n",
    "    print(f\"5 X {i} = {5*i}\")"
   ]
  },
  {
   "cell_type": "code",
   "execution_count": 61,
   "id": "7dc4e699",
   "metadata": {},
   "outputs": [
    {
     "name": "stdout",
     "output_type": "stream",
     "text": [
      "4  x  1   =  4\n",
      "4  x  2   =  8\n",
      "4  x  3   =  12\n",
      "4  x  4   =  16\n",
      "4  x  5   =  20\n",
      "4  x  6   =  24\n",
      "4  x  7   =  28\n",
      "4  x  8   =  32\n",
      "4  x  9   =  36\n",
      "4  x  10  =  40\n"
     ]
    }
   ],
   "source": [
    "def table(n):\n",
    "    for i in range(1,11):\n",
    "        if i==10:\n",
    "             print(n,\" x \", i ,\" = \", n*i)\n",
    "            \n",
    "        else:\n",
    "            print(n,\" x \", i ,\"  = \", n*i)\n",
    "table(4)"
   ]
  },
  {
   "cell_type": "code",
   "execution_count": 50,
   "id": "730f976e",
   "metadata": {},
   "outputs": [
    {
     "name": "stdout",
     "output_type": "stream",
     "text": [
      "(2, ' x ', 1, '  = ', 2)\n"
     ]
    }
   ],
   "source": [
    "def table(n):\n",
    "    for i in range(1,11):\n",
    "        return(n,\" x \", i ,\"  = \", n*i)\n",
    "print(table(2))\n"
   ]
  },
  {
   "cell_type": "markdown",
   "id": "f8f17137",
   "metadata": {},
   "source": [
    "# Generator yield"
   ]
  },
  {
   "cell_type": "code",
   "execution_count": 5,
   "id": "6ba9991d",
   "metadata": {},
   "outputs": [
    {
     "name": "stdout",
     "output_type": "stream",
     "text": [
      "1\n",
      "4\n",
      "9\n",
      "16\n",
      "25\n",
      "36\n",
      "49\n",
      "64\n",
      "81\n",
      "100\n"
     ]
    }
   ],
   "source": [
    "def square(i):\n",
    "    i = 1\n",
    "    while True:\n",
    "        yield i*i\n",
    "        i+=1\n",
    "        \n",
    "#print(type(var))\n",
    "for j in square(1):\n",
    "    if j>100:\n",
    "        break\n",
    "    print(j)\n"
   ]
  },
  {
   "cell_type": "markdown",
   "id": "d2a862c9",
   "metadata": {},
   "source": [
    "# Dictionary paractice"
   ]
  },
  {
   "cell_type": "code",
   "execution_count": 52,
   "id": "a63982b6",
   "metadata": {},
   "outputs": [
    {
     "name": "stdout",
     "output_type": "stream",
     "text": [
      "('anam', 20)\n",
      "('raza', 21)\n",
      "('saurabh', 22)\n"
     ]
    }
   ],
   "source": [
    "var = {\"anam\":20, \"raza\":21, \"saurabh\":22}\n",
    "for i in var.items():\n",
    "    print(i)"
   ]
  },
  {
   "cell_type": "code",
   "execution_count": 60,
   "id": "9e19c091",
   "metadata": {
    "scrolled": true
   },
   "outputs": [
    {
     "name": "stdout",
     "output_type": "stream",
     "text": [
      "anam 20\n",
      "raza 21\n",
      "saurabh 22\n"
     ]
    }
   ],
   "source": [
    "var = {\"anam\":20, \"raza\":21, \"saurabh\":22}\n",
    "for x, y in var.items():\n",
    "    print(x,y)"
   ]
  },
  {
   "cell_type": "code",
   "execution_count": 2,
   "id": "9bc09799",
   "metadata": {},
   "outputs": [
    {
     "name": "stdout",
     "output_type": "stream",
     "text": [
      "{'anam': 20, 'raza': 21, 'saurabh': 22, 'Nabeel': 12}\n"
     ]
    }
   ],
   "source": [
    "var = {\"anam\":20, \"raza\":21, \"saurabh\":22}\n",
    "var.update({\"Nabeel\":12})\n",
    "print(var)"
   ]
  },
  {
   "cell_type": "code",
   "execution_count": 20,
   "id": "db429a05",
   "metadata": {},
   "outputs": [],
   "source": [
    "for i in range(1,5):\n",
    "    for j in range(i,5):\n",
    "        print('*',end=' ')\n",
    "    print()"
   ]
  },
  {
   "cell_type": "code",
   "execution_count": 30,
   "id": "12b798b3",
   "metadata": {},
   "outputs": [
    {
     "name": "stdout",
     "output_type": "stream",
     "text": [
      "0 banana\n",
      "1 buttere\n",
      "2 cheese\n"
     ]
    }
   ],
   "source": [
    "list1 = ['banana', 'buttere', 'cheese']\n",
    "for j, i in enumerate (list1):\n",
    "    print(j, i)"
   ]
  },
  {
   "cell_type": "code",
   "execution_count": 41,
   "id": "ecd54dd9",
   "metadata": {},
   "outputs": [
    {
     "name": "stdout",
     "output_type": "stream",
     "text": [
      "[1, 15, 3, 4]\n"
     ]
    }
   ],
   "source": [
    "list1 = [1,12,3,4,]\n",
    "list1[1]=15\n",
    "print(list1)"
   ]
  },
  {
   "cell_type": "code",
   "execution_count": 62,
   "id": "92d3de6f",
   "metadata": {},
   "outputs": [
    {
     "name": "stdout",
     "output_type": "stream",
     "text": [
      "6\n",
      "ode\n",
      "even:\n",
      "ode\n",
      "even:\n",
      "ode\n",
      "[2, 4]\n"
     ]
    }
   ],
   "source": [
    "lst = int(input())\n",
    "lstt = []\n",
    "for i in range (1,lst):\n",
    "    \n",
    "    if i % 2==0:\n",
    "        lstt.append(i)\n",
    "        print(\"even:\")\n",
    "    else:\n",
    "        print('ode')\n",
    "        \n",
    "print(lstt)"
   ]
  },
  {
   "cell_type": "code",
   "execution_count": 2,
   "id": "19f7be6a",
   "metadata": {},
   "outputs": [
    {
     "name": "stdout",
     "output_type": "stream",
     "text": [
      "1\n",
      "4\n",
      "9\n",
      "16\n",
      "25\n",
      "36\n",
      "49\n",
      "64\n",
      "81\n",
      "100\n"
     ]
    }
   ],
   "source": [
    "for i in range(1,11):\n",
    "    print(i*i)"
   ]
  },
  {
   "cell_type": "code",
   "execution_count": null,
   "id": "a60a36ed",
   "metadata": {},
   "outputs": [],
   "source": [
    "n= int(input(\"Enter your number:\\n\"))\n",
    "\n",
    "while n <= n:\n",
    "    print(n)\n",
    "    n = n+1"
   ]
  },
  {
   "cell_type": "code",
   "execution_count": 1,
   "id": "d09a6814",
   "metadata": {},
   "outputs": [
    {
     "name": "stdout",
     "output_type": "stream",
     "text": [
      "['k', 'h', 'a', 'n']\n"
     ]
    }
   ],
   "source": [
    "a = 'khan'\n",
    "b = list(a)\n",
    "print(b)"
   ]
  },
  {
   "cell_type": "code",
   "execution_count": 5,
   "id": "f95b3fa6",
   "metadata": {},
   "outputs": [
    {
     "name": "stdout",
     "output_type": "stream",
     "text": [
      "susbtring is present\n"
     ]
    }
   ],
   "source": [
    "def check(string,substring):\n",
    "    if string.find(substring)==-1:\n",
    "        print(\"no this is no substring\")\n",
    "    else:\n",
    "        print(\"susbtring is present\")\n",
    "string1 = \"one two three\"\n",
    "sub1 = 'one'\n",
    "check(string1,sub1)\n"
   ]
  },
  {
   "cell_type": "code",
   "execution_count": 6,
   "id": "f1966178",
   "metadata": {},
   "outputs": [
    {
     "ename": "NameError",
     "evalue": "name 'racecar' is not defined",
     "output_type": "error",
     "traceback": [
      "\u001b[1;31m---------------------------------------------------------------------------\u001b[0m",
      "\u001b[1;31mNameError\u001b[0m                                 Traceback (most recent call last)",
      "Input \u001b[1;32mIn [6]\u001b[0m, in \u001b[0;36m<cell line: 1>\u001b[1;34m()\u001b[0m\n\u001b[1;32m----> 1\u001b[0m a \u001b[38;5;241m=\u001b[39m \u001b[43mracecar\u001b[49m\n\u001b[0;32m      2\u001b[0m b \u001b[38;5;241m=\u001b[39m revers\u001b[38;5;241m.\u001b[39ma\n\u001b[0;32m      3\u001b[0m \u001b[38;5;28mprint\u001b[39m(b)\n",
      "\u001b[1;31mNameError\u001b[0m: name 'racecar' is not defined"
     ]
    }
   ],
   "source": [
    "a = \"racecar\"\n",
    "b = \n",
    "print(b)"
   ]
  },
  {
   "cell_type": "code",
   "execution_count": 10,
   "id": "5083c569",
   "metadata": {},
   "outputs": [
    {
     "name": "stdout",
     "output_type": "stream",
     "text": [
      "valid\n"
     ]
    }
   ],
   "source": [
    "def check(s1,s2):\n",
    "    if (s2.count(s1)>0):\n",
    "        print(\"valid\")\n",
    "    else:\n",
    "        pass\n",
    "\n",
    "s2 = \"string available\"\n",
    "s1 = \"string\"\n",
    "check(s1,s2)"
   ]
  },
  {
   "cell_type": "code",
   "execution_count": 11,
   "id": "e75c3881",
   "metadata": {},
   "outputs": [
    {
     "name": "stdout",
     "output_type": "stream",
     "text": [
      "\n"
     ]
    }
   ],
   "source": [
    "s1 = \"Hello\"\n",
    "s2 = \"Hell\"\n",
    "if s2 in s1:\n",
    "    print()"
   ]
  },
  {
   "cell_type": "code",
   "execution_count": 12,
   "id": "6650da7a",
   "metadata": {},
   "outputs": [
    {
     "name": "stdout",
     "output_type": "stream",
     "text": [
      "ahmad = 30\n",
      "sarfraz = ahmad\n",
      "akram = 30\n"
     ]
    }
   ],
   "source": [
    "### accessing dictionary using forloop\n",
    "dic = {\"ahmad\":30, \"sarfraz\":\"ahmad\", \"akram\":30}\n",
    "for z in dic:\n",
    "    print(z,'=', dic[z])"
   ]
  },
  {
   "cell_type": "code",
   "execution_count": 5,
   "id": "a8033c02",
   "metadata": {},
   "outputs": [
    {
     "name": "stdout",
     "output_type": "stream",
     "text": [
      "{'ahmad': 30, 'sarfraz': '31', 'akram': 35}\n",
      "30\n"
     ]
    }
   ],
   "source": [
    "dic = {\"ahmad\":30, \"sarfraz\":\"31\", \"akram\":35}\n",
    "print(dic)\n",
    "a = dic['ahmad']\n",
    "print(a)"
   ]
  },
  {
   "cell_type": "code",
   "execution_count": 2,
   "id": "9cab3f09",
   "metadata": {},
   "outputs": [
    {
     "name": "stdout",
     "output_type": "stream",
     "text": [
      "38\n"
     ]
    }
   ],
   "source": [
    "dict1 = {'kamil':32, 'ali':38, 'majid':33}\n",
    "l = dict1.get('ali')\n",
    "print(l)"
   ]
  },
  {
   "cell_type": "code",
   "execution_count": 13,
   "id": "36a11a5c",
   "metadata": {},
   "outputs": [
    {
     "name": "stdout",
     "output_type": "stream",
     "text": [
      "rais\n",
      "irfan\n",
      "hakim\n"
     ]
    }
   ],
   "source": [
    "#forloop use only access value\n",
    "dict1 ={'rais':35, 'irfan':30, 'hakim':33}\n",
    "for x in dict1:\n",
    "    print(x)"
   ]
  },
  {
   "cell_type": "code",
   "execution_count": 15,
   "id": "134a39f9",
   "metadata": {},
   "outputs": [
    {
     "name": "stdout",
     "output_type": "stream",
     "text": [
      "35\n",
      "30\n",
      "33\n"
     ]
    }
   ],
   "source": [
    " # forloop and value() method use to access only key\n",
    "dict1 ={'rais':35, 'irfan':30, 'hakim':33}\n",
    "for z in dict1.values():\n",
    "    print(z)"
   ]
  },
  {
   "cell_type": "code",
   "execution_count": 30,
   "id": "8e9ac182",
   "metadata": {},
   "outputs": [
    {
     "name": "stdout",
     "output_type": "stream",
     "text": [
      "ramzan 40\n",
      "naeem 36\n",
      "saudi 2014\n"
     ]
    }
   ],
   "source": [
    "# use forloop to access key and value\n",
    "dict1 = {'ramzan':40, 'naeem':36, 'saudi':2013}\n",
    "dict1['saudi']=2014\n",
    "for x, y in dict1.items():\n",
    "   \n",
    "    print(x,y)\n",
    "   "
   ]
  },
  {
   "cell_type": "code",
   "execution_count": 32,
   "id": "4e2c892a",
   "metadata": {},
   "outputs": [
    {
     "name": "stdout",
     "output_type": "stream",
     "text": [
      "3\n"
     ]
    }
   ],
   "source": [
    "# len()method use in dictionary\n",
    "dict1 = {'ramzan':40, 'naeem':36, 'saudi':2013}\n",
    "o = len(dict1)\n",
    "print(\"length of dictionary\" o)\n"
   ]
  },
  {
   "cell_type": "code",
   "execution_count": 34,
   "id": "86e06fc9",
   "metadata": {},
   "outputs": [
    {
     "name": "stdout",
     "output_type": "stream",
     "text": [
      "b'\\x01\\x02\\x03\\x04'\n"
     ]
    }
   ],
   "source": [
    "b = bytes([1,2,3,4])\n",
    "print(b)"
   ]
  },
  {
   "cell_type": "code",
   "execution_count": 15,
   "id": "9ec2d9ca",
   "metadata": {},
   "outputs": [
    {
     "name": "stdout",
     "output_type": "stream",
     "text": [
      "10\n",
      "20\n",
      "30\n",
      "40\n",
      "50\n",
      "60\n",
      "70\n",
      "80\n",
      "90\n",
      "100\n"
     ]
    }
   ],
   "source": [
    "# loop question solve\n",
    "x = 0\n",
    "for i in range(10):\n",
    "    for j in range(10):\n",
    "        x+= 1\n",
    "    print(x)"
   ]
  },
  {
   "cell_type": "code",
   "execution_count": 14,
   "id": "a6a18c54",
   "metadata": {},
   "outputs": [
    {
     "name": "stdout",
     "output_type": "stream",
     "text": [
      "55\n"
     ]
    }
   ],
   "source": [
    "num = 10\n",
    "sum = 0\n",
    "i = 0\n",
    "while i <= num:\n",
    "    sum = sum + i\n",
    "    i = i + 1\n",
    "print(sum)"
   ]
  },
  {
   "cell_type": "markdown",
   "id": "254c57a4",
   "metadata": {},
   "source": [
    "# sort this list of dictionary by year"
   ]
  },
  {
   "cell_type": "code",
   "execution_count": 8,
   "id": "3792cec1",
   "metadata": {},
   "outputs": [
    {
     "name": "stdout",
     "output_type": "stream",
     "text": [
      "[{'car': 'Mitsubishi', 'year': 2000}, {'car': 'Ford', 'year': 2005}, {'car': 'VW', 'year': 2011}, {'car': 'BMW', 'year': 2019}]\n"
     ]
    }
   ],
   "source": [
    "cars = [{'car': 'Ford', 'year': 2005},\n",
    "  {'car': 'Mitsubishi', 'year': 2000},\n",
    "  {'car': 'BMW', 'year': 2019},\n",
    "  {'car': 'VW', 'year': 2011}]\n",
    "\n",
    "print(sorted(cars,key=lambda i:i['year']))\n",
    "\n"
   ]
  },
  {
   "cell_type": "code",
   "execution_count": 13,
   "id": "0859b6bb",
   "metadata": {},
   "outputs": [
    {
     "name": "stdout",
     "output_type": "stream",
     "text": [
      "[{'car': 'Mitsubishi', 'year': 2000}, {'car': 'Ford', 'year': 2005}, {'car': 'BMW', 'year': 2019}, {'car': 'VW', 'year': 2019}]\n"
     ]
    }
   ],
   "source": [
    "cars = [{'car': 'Ford', 'year': 2005},\n",
    "  {'car': 'Mitsubishi', 'year': 2000},\n",
    "  {'car': 'BMW', 'year': 2019},\n",
    "  {'car': 'VW', 'year': 2019}]\n",
    "\n",
    "print(sorted(cars,key=lambda i:(i['year'],i['car'])))\n"
   ]
  },
  {
   "cell_type": "code",
   "execution_count": 9,
   "id": "45343c5a",
   "metadata": {},
   "outputs": [
    {
     "name": "stdout",
     "output_type": "stream",
     "text": [
      "[{'car': 'BMW', 'year': 2019}, {'car': 'Ford', 'year': 2005}, {'car': 'Mitsubishi', 'year': 2000}, {'car': 'VW', 'year': 2011}]\n"
     ]
    }
   ],
   "source": [
    "cars = [{'car': 'Ford', 'year': 2005},\n",
    "  {'car': 'Mitsubishi', 'year': 2000},\n",
    "  {'car': 'BMW', 'year': 2019},\n",
    "  {'car': 'VW', 'year': 2011}]\n",
    "print(sorted(cars,key=lambda i:(i['car'],i['year'])))\n"
   ]
  },
  {
   "cell_type": "code",
   "execution_count": null,
   "id": "e684642a",
   "metadata": {},
   "outputs": [],
   "source": [
    "cars = [{'car': 'Ford', 'year': 2005},\n",
    "  {'car': 'Mitsubishi', 'year': 2000},\n",
    "  {'car': 'BMW', 'year': 2019},\n",
    "  {'car': 'VW', 'year': 2011}]\n",
    "cars.sort(lambda)\n"
   ]
  },
  {
   "cell_type": "markdown",
   "id": "be744656",
   "metadata": {},
   "source": [
    "# Sort this list by length of string. min to max"
   ]
  },
  {
   "cell_type": "code",
   "execution_count": 17,
   "id": "f0596f46",
   "metadata": {},
   "outputs": [
    {
     "ename": "NameError",
     "evalue": "name 'key' is not defined",
     "output_type": "error",
     "traceback": [
      "\u001b[1;31m---------------------------------------------------------------------------\u001b[0m",
      "\u001b[1;31mNameError\u001b[0m                                 Traceback (most recent call last)",
      "Input \u001b[1;32mIn [17]\u001b[0m, in \u001b[0;36m<cell line: 5>\u001b[1;34m()\u001b[0m\n\u001b[0;32m      2\u001b[0m     \u001b[38;5;28;01mreturn\u001b[39;00m \u001b[38;5;28mlen\u001b[39m(e)\n\u001b[0;32m      4\u001b[0m cars \u001b[38;5;241m=\u001b[39m [\u001b[38;5;124m'\u001b[39m\u001b[38;5;124mFord\u001b[39m\u001b[38;5;124m'\u001b[39m, \u001b[38;5;124m'\u001b[39m\u001b[38;5;124mMitsubishi\u001b[39m\u001b[38;5;124m'\u001b[39m, \u001b[38;5;124m'\u001b[39m\u001b[38;5;124mBMW\u001b[39m\u001b[38;5;124m'\u001b[39m, \u001b[38;5;124m'\u001b[39m\u001b[38;5;124mVW\u001b[39m\u001b[38;5;124m'\u001b[39m]\n\u001b[1;32m----> 5\u001b[0m cars\u001b[38;5;241m.\u001b[39msort(\u001b[43mkey\u001b[49m\u001b[38;5;241m.\u001b[39mmyfunc)\n",
      "\u001b[1;31mNameError\u001b[0m: name 'key' is not defined"
     ]
    }
   ],
   "source": [
    "def myfunc(e):\n",
    "    return len(e)\n",
    "\n",
    "cars = ['Ford', 'Mitsubishi', 'BMW', 'VW']\n",
    "cars.sort(key.myfunc)"
   ]
  },
  {
   "cell_type": "code",
   "execution_count": 32,
   "id": "2d0b0139",
   "metadata": {},
   "outputs": [
    {
     "name": "stdout",
     "output_type": "stream",
     "text": [
      "4\n"
     ]
    }
   ],
   "source": [
    "a = 14\n",
    "b = 4\n",
    "print(a and b)"
   ]
  },
  {
   "cell_type": "code",
   "execution_count": 33,
   "id": "0d41b3bb",
   "metadata": {},
   "outputs": [
    {
     "name": "stdout",
     "output_type": "stream",
     "text": [
      "4\n"
     ]
    }
   ],
   "source": [
    "a = 14\n",
    "b = 4\n",
    "print(a & b)"
   ]
  },
  {
   "cell_type": "code",
   "execution_count": 35,
   "id": "38991b51",
   "metadata": {},
   "outputs": [
    {
     "name": "stdout",
     "output_type": "stream",
     "text": [
      "8\n"
     ]
    }
   ],
   "source": [
    "a = 8\n",
    "b = 5\n",
    "print(a or b)"
   ]
  },
  {
   "cell_type": "code",
   "execution_count": 36,
   "id": "00ee330f",
   "metadata": {},
   "outputs": [
    {
     "name": "stdout",
     "output_type": "stream",
     "text": [
      "13\n"
     ]
    }
   ],
   "source": [
    "a = 8\n",
    "b = 5\n",
    "print(a | b)"
   ]
  },
  {
   "cell_type": "code",
   "execution_count": 11,
   "id": "822cfcde",
   "metadata": {},
   "outputs": [
    {
     "name": "stdout",
     "output_type": "stream",
     "text": [
      "8 False\n"
     ]
    }
   ],
   "source": [
    "a = 8\n",
    "b = 5\n",
    "print(a,not b)"
   ]
  },
  {
   "cell_type": "code",
   "execution_count": 10,
   "id": "6de27c69",
   "metadata": {},
   "outputs": [
    {
     "name": "stdout",
     "output_type": "stream",
     "text": [
      "-101\n"
     ]
    }
   ],
   "source": [
    "a = 100\n",
    "print(~a)"
   ]
  },
  {
   "cell_type": "code",
   "execution_count": 8,
   "id": "b7236634",
   "metadata": {},
   "outputs": [
    {
     "name": "stdout",
     "output_type": "stream",
     "text": [
      "15\n"
     ]
    }
   ],
   "source": [
    "a = 5\n",
    "b = 10\n",
    "print(a ^ b)"
   ]
  },
  {
   "cell_type": "code",
   "execution_count": 1,
   "id": "19b477a9",
   "metadata": {},
   "outputs": [
    {
     "name": "stdout",
     "output_type": "stream",
     "text": [
      "first\n",
      "second\n",
      "third\n"
     ]
    }
   ],
   "source": [
    "# code execution flow in python\n",
    "# step1 loading phase (stack memory)\n",
    "# step2 start from __main__ method\n",
    "# step3 Execution phase .firstfunc\n",
    "\n",
    "def firstfunc():\n",
    "    print('first')\n",
    "    secondfunc()\n",
    "    \n",
    "def secondfunc():\n",
    "    print('second')\n",
    "    thirdfunc()\n",
    "    \n",
    "def thirdfunc():\n",
    "    print('third')\n",
    "    \n",
    "firstfunc()"
   ]
  },
  {
   "cell_type": "code",
   "execution_count": 92,
   "id": "8417825a",
   "metadata": {},
   "outputs": [
    {
     "name": "stdout",
     "output_type": "stream",
     "text": [
      "none\n"
     ]
    }
   ],
   "source": [
    "a = 0\n",
    "if a :\n",
    "    print('hi')\n",
    "else:\n",
    "    print('none')"
   ]
  },
  {
   "cell_type": "code",
   "execution_count": 59,
   "id": "86bc5f60",
   "metadata": {},
   "outputs": [
    {
     "name": "stdout",
     "output_type": "stream",
     "text": [
      "120\n"
     ]
    }
   ],
   "source": [
    "a = [1,120,13,99,14,80,90]\n",
    "a.sort()\n",
    "for i in a:\n",
    "    pass\n",
    "print(i)"
   ]
  },
  {
   "cell_type": "code",
   "execution_count": null,
   "id": "ea76c4eb",
   "metadata": {},
   "outputs": [],
   "source": []
  }
 ],
 "metadata": {
  "kernelspec": {
   "display_name": "Python 3 (ipykernel)",
   "language": "python",
   "name": "python3"
  },
  "language_info": {
   "codemirror_mode": {
    "name": "ipython",
    "version": 3
   },
   "file_extension": ".py",
   "mimetype": "text/x-python",
   "name": "python",
   "nbconvert_exporter": "python",
   "pygments_lexer": "ipython3",
   "version": "3.10.4"
  }
 },
 "nbformat": 4,
 "nbformat_minor": 5
}
