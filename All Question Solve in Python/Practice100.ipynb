{
 "cells": [
  {
   "cell_type": "markdown",
   "id": "332d57e1",
   "metadata": {},
   "source": [
    "# List"
   ]
  },
  {
   "cell_type": "code",
   "execution_count": 43,
   "id": "5d07479a",
   "metadata": {},
   "outputs": [
    {
     "name": "stdout",
     "output_type": "stream",
     "text": [
      "[1, 3, 5, 15, 9, 11]\n"
     ]
    }
   ],
   "source": [
    "list1 = [1,2,3,4,5,6,7,8,9,10,11,12]\n",
    "blank = []\n",
    "for i in list1:\n",
    "    if i % 2==1:\n",
    "        blank.append(i)\n",
    "print(blank)\n",
    "        "
   ]
  },
  {
   "cell_type": "code",
   "execution_count": 7,
   "id": "28c19007",
   "metadata": {},
   "outputs": [
    {
     "data": {
      "text/plain": [
       "[2, 3]"
      ]
     },
     "execution_count": 7,
     "metadata": {},
     "output_type": "execute_result"
    }
   ],
   "source": [
    "def twoSum(nums, target):\n",
    "#     print(len(nums))\n",
    "    for i, num in enumerate(nums):\n",
    "#         print(i,num)\n",
    "        for j in range(i + 1, len(nums)):\n",
    "            if num + nums[j] == target:\n",
    "                return [i, j]\n",
    "\n",
    "lst = [3,5,7,9] \n",
    "twoSum(lst,16)"
   ]
  },
  {
   "cell_type": "code",
   "execution_count": 8,
   "id": "f79fc1e6",
   "metadata": {},
   "outputs": [
    {
     "name": "stdout",
     "output_type": "stream",
     "text": [
      "[1, 4]\n",
      "[2, 3]\n"
     ]
    }
   ],
   "source": [
    "lst=[12,3,4,5,6]\n",
    "target=9\n",
    "for i in range(len(lst)):\n",
    "#     print('i',i)\n",
    "    for j in range(i+1,len(lst)):\n",
    "#         print('j',j)\n",
    "        if lst[i]+lst[j]==target:\n",
    "            print([i,j])"
   ]
  },
  {
   "cell_type": "markdown",
   "id": "0c8ce603",
   "metadata": {},
   "source": [
    "## How many index to find"
   ]
  },
  {
   "cell_type": "code",
   "execution_count": 8,
   "id": "3c0eca2f",
   "metadata": {},
   "outputs": [
    {
     "name": "stdout",
     "output_type": "stream",
     "text": [
      "0\n",
      "1\n",
      "2\n",
      "3\n",
      "4\n",
      "5\n"
     ]
    }
   ],
   "source": [
    "lst=[12,3,4,5,6,8]\n",
    "target=9\n",
    "for i in range (len(lst)):\n",
    "    print(i)"
   ]
  },
  {
   "cell_type": "code",
   "execution_count": 4,
   "id": "19b40df6",
   "metadata": {},
   "outputs": [
    {
     "name": "stdout",
     "output_type": "stream",
     "text": [
      "0 12\n",
      "1 3\n",
      "2 4\n",
      "3 5\n",
      "4 6\n",
      "5 8\n"
     ]
    }
   ],
   "source": [
    "lst=[12,3,4,5,6,8]\n",
    "for i, j in enumerate(lst):\n",
    "    print(i,j)"
   ]
  },
  {
   "cell_type": "code",
   "execution_count": 12,
   "id": "1c0375b7",
   "metadata": {},
   "outputs": [
    {
     "name": "stdout",
     "output_type": "stream",
     "text": [
      "9\n",
      "10\n",
      "11\n",
      "12\n"
     ]
    }
   ],
   "source": [
    "lst1 = [1,2,3,4]\n",
    "lst2 = [5,6,7,8]\n",
    "for i in lst1:\n",
    "    for j in lst2:\n",
    "        n= i+j\n",
    "    print(n)"
   ]
  },
  {
   "cell_type": "markdown",
   "id": "846a0b91",
   "metadata": {},
   "source": [
    "# List Comprehension"
   ]
  },
  {
   "cell_type": "code",
   "execution_count": 8,
   "id": "15a22501",
   "metadata": {},
   "outputs": [
    {
     "name": "stdout",
     "output_type": "stream",
     "text": [
      "[2, 4, 6, 8, 10, 12]\n"
     ]
    }
   ],
   "source": [
    "list1 = [1,2,3,4,5,6,7,8,9,10,11,12]\n",
    "print([number for number in list1 if number % 2==0])"
   ]
  },
  {
   "cell_type": "code",
   "execution_count": 13,
   "id": "c1372733",
   "metadata": {},
   "outputs": [
    {
     "name": "stdout",
     "output_type": "stream",
     "text": [
      "5 X 1 = 5\n",
      "5 X 2 = 10\n",
      "5 X 3 = 15\n",
      "5 X 4 = 20\n",
      "5 X 5 = 25\n",
      "5 X 6 = 30\n",
      "5 X 7 = 35\n",
      "5 X 8 = 40\n",
      "5 X 9 = 45\n",
      "5 X 10 = 50\n"
     ]
    }
   ],
   "source": [
    "for i in range (1,11):\n",
    "    print(f\"5 X {i} = {5*i}\")"
   ]
  },
  {
   "cell_type": "code",
   "execution_count": 61,
   "id": "7dc4e699",
   "metadata": {},
   "outputs": [
    {
     "name": "stdout",
     "output_type": "stream",
     "text": [
      "4  x  1   =  4\n",
      "4  x  2   =  8\n",
      "4  x  3   =  12\n",
      "4  x  4   =  16\n",
      "4  x  5   =  20\n",
      "4  x  6   =  24\n",
      "4  x  7   =  28\n",
      "4  x  8   =  32\n",
      "4  x  9   =  36\n",
      "4  x  10  =  40\n"
     ]
    }
   ],
   "source": [
    "def table(n):\n",
    "    for i in range(1,11):\n",
    "        if i==10:\n",
    "             print(n,\" x \", i ,\" = \", n*i)\n",
    "            \n",
    "        else:\n",
    "            print(n,\" x \", i ,\"  = \", n*i)\n",
    "table(4)"
   ]
  },
  {
   "cell_type": "code",
   "execution_count": 50,
   "id": "730f976e",
   "metadata": {},
   "outputs": [
    {
     "name": "stdout",
     "output_type": "stream",
     "text": [
      "(2, ' x ', 1, '  = ', 2)\n"
     ]
    }
   ],
   "source": [
    "def table(n):\n",
    "    for i in range(1,11):\n",
    "        return(n,\" x \", i ,\"  = \", n*i)\n",
    "print(table(2))\n"
   ]
  },
  {
   "cell_type": "markdown",
   "id": "f8f17137",
   "metadata": {},
   "source": [
    "# Generator yield"
   ]
  },
  {
   "cell_type": "code",
   "execution_count": 5,
   "id": "6ba9991d",
   "metadata": {},
   "outputs": [
    {
     "name": "stdout",
     "output_type": "stream",
     "text": [
      "1\n",
      "4\n",
      "9\n",
      "16\n",
      "25\n",
      "36\n",
      "49\n",
      "64\n",
      "81\n",
      "100\n"
     ]
    }
   ],
   "source": [
    "def square(i):\n",
    "    i = 1\n",
    "    while True:\n",
    "        yield i*i\n",
    "        i+=1\n",
    "        \n",
    "#print(type(var))\n",
    "for j in square(1):\n",
    "    if j>100:\n",
    "        break\n",
    "    print(j)\n"
   ]
  },
  {
   "cell_type": "markdown",
   "id": "d2a862c9",
   "metadata": {},
   "source": [
    "# Dictionary paractice"
   ]
  },
  {
   "cell_type": "code",
   "execution_count": 14,
   "id": "a6a18c54",
   "metadata": {},
   "outputs": [
    {
     "name": "stdout",
     "output_type": "stream",
     "text": [
      "55\n"
     ]
    }
   ],
   "source": [
    "num = 10\n",
    "sum = 0\n",
    "i = 0\n",
    "while i <= num:\n",
    "    sum = sum + i\n",
    "    i = i + 1\n",
    "print(sum)"
   ]
  },
  {
   "cell_type": "markdown",
   "id": "254c57a4",
   "metadata": {},
   "source": [
    "# sort this list of dictionary by year"
   ]
  },
  {
   "cell_type": "code",
   "execution_count": 8,
   "id": "3792cec1",
   "metadata": {},
   "outputs": [
    {
     "name": "stdout",
     "output_type": "stream",
     "text": [
      "[{'car': 'Mitsubishi', 'year': 2000}, {'car': 'Ford', 'year': 2005}, {'car': 'VW', 'year': 2011}, {'car': 'BMW', 'year': 2019}]\n"
     ]
    }
   ],
   "source": [
    "cars = [{'car': 'Ford', 'year': 2005},\n",
    "  {'car': 'Mitsubishi', 'year': 2000},\n",
    "  {'car': 'BMW', 'year': 2019},\n",
    "  {'car': 'VW', 'year': 2011}]\n",
    "\n",
    "print(sorted(cars,key=lambda i:i['year']))\n",
    "\n"
   ]
  },
  {
   "cell_type": "code",
   "execution_count": 13,
   "id": "0859b6bb",
   "metadata": {},
   "outputs": [
    {
     "name": "stdout",
     "output_type": "stream",
     "text": [
      "[{'car': 'Mitsubishi', 'year': 2000}, {'car': 'Ford', 'year': 2005}, {'car': 'BMW', 'year': 2019}, {'car': 'VW', 'year': 2019}]\n"
     ]
    }
   ],
   "source": [
    "cars = [{'car': 'Ford', 'year': 2005},\n",
    "  {'car': 'Mitsubishi', 'year': 2000},\n",
    "  {'car': 'BMW', 'year': 2019},\n",
    "  {'car': 'VW', 'year': 2019}]\n",
    "\n",
    "print(sorted(cars,key=lambda i:(i['year'],i['car'])))\n"
   ]
  },
  {
   "cell_type": "code",
   "execution_count": 9,
   "id": "45343c5a",
   "metadata": {},
   "outputs": [
    {
     "name": "stdout",
     "output_type": "stream",
     "text": [
      "[{'car': 'BMW', 'year': 2019}, {'car': 'Ford', 'year': 2005}, {'car': 'Mitsubishi', 'year': 2000}, {'car': 'VW', 'year': 2011}]\n"
     ]
    }
   ],
   "source": [
    "cars = [{'car': 'Ford', 'year': 2005},\n",
    "  {'car': 'Mitsubishi', 'year': 2000},\n",
    "  {'car': 'BMW', 'year': 2019},\n",
    "  {'car': 'VW', 'year': 2011}]\n",
    "print(sorted(cars,key=lambda i:(i['car'],i['year'])))\n"
   ]
  },
  {
   "cell_type": "markdown",
   "id": "be744656",
   "metadata": {},
   "source": [
    "# Sort this list by length of string. min to max"
   ]
  },
  {
   "cell_type": "code",
   "execution_count": 17,
   "id": "f0596f46",
   "metadata": {},
   "outputs": [
    {
     "ename": "NameError",
     "evalue": "name 'key' is not defined",
     "output_type": "error",
     "traceback": [
      "\u001b[1;31m---------------------------------------------------------------------------\u001b[0m",
      "\u001b[1;31mNameError\u001b[0m                                 Traceback (most recent call last)",
      "Input \u001b[1;32mIn [17]\u001b[0m, in \u001b[0;36m<cell line: 5>\u001b[1;34m()\u001b[0m\n\u001b[0;32m      2\u001b[0m     \u001b[38;5;28;01mreturn\u001b[39;00m \u001b[38;5;28mlen\u001b[39m(e)\n\u001b[0;32m      4\u001b[0m cars \u001b[38;5;241m=\u001b[39m [\u001b[38;5;124m'\u001b[39m\u001b[38;5;124mFord\u001b[39m\u001b[38;5;124m'\u001b[39m, \u001b[38;5;124m'\u001b[39m\u001b[38;5;124mMitsubishi\u001b[39m\u001b[38;5;124m'\u001b[39m, \u001b[38;5;124m'\u001b[39m\u001b[38;5;124mBMW\u001b[39m\u001b[38;5;124m'\u001b[39m, \u001b[38;5;124m'\u001b[39m\u001b[38;5;124mVW\u001b[39m\u001b[38;5;124m'\u001b[39m]\n\u001b[1;32m----> 5\u001b[0m cars\u001b[38;5;241m.\u001b[39msort(\u001b[43mkey\u001b[49m\u001b[38;5;241m.\u001b[39mmyfunc)\n",
      "\u001b[1;31mNameError\u001b[0m: name 'key' is not defined"
     ]
    }
   ],
   "source": [
    "def myfunc(e):\n",
    "    return len(e)\n",
    "\n",
    "cars = ['Ford', 'Mitsubishi', 'BMW', 'VW']\n",
    "cars.sort(key.myfunc)"
   ]
  }
 ],
 "metadata": {
  "kernelspec": {
   "display_name": "Python 3 (ipykernel)",
   "language": "python",
   "name": "python3"
  },
  "language_info": {
   "codemirror_mode": {
    "name": "ipython",
    "version": 3
   },
   "file_extension": ".py",
   "mimetype": "text/x-python",
   "name": "python",
   "nbconvert_exporter": "python",
   "pygments_lexer": "ipython3",
   "version": "3.10.4"
  }
 },
 "nbformat": 4,
 "nbformat_minor": 5
}
