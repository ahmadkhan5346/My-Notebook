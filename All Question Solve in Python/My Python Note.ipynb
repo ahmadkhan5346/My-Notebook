{
 "cells": [
  {
   "cell_type": "code",
   "execution_count": 1,
   "id": "3ed9fc26",
   "metadata": {
    "scrolled": true
   },
   "outputs": [
    {
     "name": "stdout",
     "output_type": "stream",
     "text": [
      "210\n"
     ]
    }
   ],
   "source": [
    "#Explicit continution\n",
    "add = 10+20+\\\n",
    "      30+40+\\\n",
    "      50+60\n",
    "print(add)"
   ]
  },
  {
   "cell_type": "code",
   "execution_count": 3,
   "id": "1b81ffa3",
   "metadata": {},
   "outputs": [
    {
     "name": "stdout",
     "output_type": "stream",
     "text": [
      "57\n"
     ]
    }
   ],
   "source": [
    "#Semicolon to seperate multiple statement\n",
    "a = 6; b =8; c = 9\n",
    "print(a*b+c)"
   ]
  },
  {
   "cell_type": "code",
   "execution_count": 6,
   "id": "197811b0",
   "metadata": {},
   "outputs": [
    {
     "name": "stdout",
     "output_type": "stream",
     "text": [
      "<class 'int'>\n"
     ]
    }
   ],
   "source": [
    "#Implicit continution\n",
    "add = (10+20+\n",
    "      30+40+\n",
    "      50+60)\n",
    "print(type(add))"
   ]
  },
  {
   "cell_type": "markdown",
   "id": "714b38b4",
   "metadata": {},
   "source": [
    "# Global Variables & Local Variables\n",
    "A local variables that is accesseble inside a block of code only where is it declared it is not accessible from outside of the method.\n",
    "A Global variables that is defined outside of the method that is accessible anywhere in the code file."
   ]
  },
  {
   "cell_type": "code",
   "execution_count": 13,
   "id": "ab2214e1",
   "metadata": {},
   "outputs": [
    {
     "name": "stdout",
     "output_type": "stream",
     "text": [
      "value of price in test2 function: 700\n"
     ]
    }
   ],
   "source": [
    "# local variables\n",
    "def test1():\n",
    "    price = 800\n",
    "    print(\"value of price in test1 function :\", price)\n",
    "    \n",
    "def test2():\n",
    "    # variable is not defined\n",
    "    print(\"value of price in test2 function:\", price)\n",
    "    \n",
    "test2()"
   ]
  },
  {
   "cell_type": "code",
   "execution_count": 16,
   "id": "b7f33b3b",
   "metadata": {},
   "outputs": [
    {
     "name": "stdout",
     "output_type": "stream",
     "text": [
      "price in 1st function: 700\n",
      "price in 2nd function: 700\n"
     ]
    }
   ],
   "source": [
    "#global variables\n",
    "price = 700\n",
    "def test1():\n",
    "    print(\"price in 1st function:\",price)\n",
    "def test2():\n",
    "    print(\"price in 2nd function:\",price)\n",
    "    \n",
    "test1()\n",
    "test2()"
   ]
  },
  {
   "cell_type": "markdown",
   "id": "b38715b4",
   "metadata": {},
   "source": [
    "# Python Operator"
   ]
  },
  {
   "cell_type": "code",
   "execution_count": 24,
   "id": "e8430563",
   "metadata": {},
   "outputs": [
    {
     "name": "stdout",
     "output_type": "stream",
     "text": [
      "sarfraz khan\n"
     ]
    }
   ],
   "source": [
    "# Addition +\n",
    "a = 'sarfraz'\n",
    "b = 'khan'\n",
    "print(a,b)"
   ]
  },
  {
   "cell_type": "code",
   "execution_count": 32,
   "id": "86de58b0",
   "metadata": {},
   "outputs": [
    {
     "name": "stdout",
     "output_type": "stream",
     "text": [
      "khankhankhan  "
     ]
    }
   ],
   "source": [
    "# multiplication*\n",
    "a = \"khan\"\n",
    "print(a*3)"
   ]
  },
  {
   "cell_type": "code",
   "execution_count": 35,
   "id": "de3754ca",
   "metadata": {},
   "outputs": [
    {
     "name": "stdout",
     "output_type": "stream",
     "text": [
      "16\n"
     ]
    }
   ],
   "source": [
    "a = 4\n",
    "a **= 2\n",
    "print(a)\n"
   ]
  },
  {
   "cell_type": "markdown",
   "id": "839f0654",
   "metadata": {},
   "source": [
    "# Logical not\n",
    "The logical not operator returns boolean True if the expression is false"
   ]
  },
  {
   "cell_type": "code",
   "execution_count": 4,
   "id": "5ea9be14",
   "metadata": {},
   "outputs": [
    {
     "name": "stdout",
     "output_type": "stream",
     "text": [
      "Do nothing\n"
     ]
    }
   ],
   "source": [
    "a = 'True'\n",
    "if not a:\n",
    "    print(a)\n",
    "else:\n",
    "    print('Do nothing')"
   ]
  },
  {
   "cell_type": "code",
   "execution_count": 11,
   "id": "0ade2d94",
   "metadata": {},
   "outputs": [
    {
     "name": "stdout",
     "output_type": "stream",
     "text": [
      "False\n",
      "False\n",
      "True\n"
     ]
    }
   ],
   "source": [
    "print(not 1)\n",
    "print(not 5)\n",
    "print(not 0)"
   ]
  },
  {
   "cell_type": "markdown",
   "id": "ace905f0",
   "metadata": {},
   "source": [
    "# Membership operator in & not in"
   ]
  },
  {
   "cell_type": "code",
   "execution_count": 12,
   "id": "09285b52",
   "metadata": {},
   "outputs": [
    {
     "name": "stdout",
     "output_type": "stream",
     "text": [
      "Number is Present\n"
     ]
    }
   ],
   "source": [
    "my_list = [5, 15, 25, 30, 35]\n",
    "number = 15\n",
    "if number in my_list:\n",
    "    print(\"Number is Present\")\n",
    "else:\n",
    "    print(\"Number is not Present\")"
   ]
  },
  {
   "cell_type": "code",
   "execution_count": 13,
   "id": "e669de32",
   "metadata": {},
   "outputs": [
    {
     "name": "stdout",
     "output_type": "stream",
     "text": [
      "Number is not present\n"
     ]
    }
   ],
   "source": [
    "my_tuple = (10,20,30,40,50)\n",
    "number = 60\n",
    "if number not in my_tuple:\n",
    "    print(\"Number is not present\")\n",
    "else:\n",
    "    print(\"Number is present\")"
   ]
  },
  {
   "cell_type": "markdown",
   "id": "fc2d16f3",
   "metadata": {},
   "source": [
    "# Identity Operator, Reffrence Quality Operator, is . is not"
   ]
  },
  {
   "cell_type": "markdown",
   "id": "e0c6f5d7",
   "metadata": {},
   "source": [
    "# BITWISE OPERATOR"
   ]
  },
  {
   "cell_type": "code",
   "execution_count": 15,
   "id": "e58b0e44",
   "metadata": {},
   "outputs": [
    {
     "name": "stdout",
     "output_type": "stream",
     "text": [
      "4\n"
     ]
    }
   ],
   "source": [
    "a = 7\n",
    "b = 4\n",
    "c = 9\n",
    "print(a & b)"
   ]
  },
  {
   "cell_type": "code",
   "execution_count": 18,
   "id": "a44446a9",
   "metadata": {},
   "outputs": [
    {
     "name": "stdout",
     "output_type": "stream",
     "text": [
      "-8\n"
     ]
    }
   ],
   "source": [
    "a = 7\n",
    "print(~a)"
   ]
  },
  {
   "cell_type": "code",
   "execution_count": 19,
   "id": "e0ca6dae",
   "metadata": {},
   "outputs": [
    {
     "name": "stdout",
     "output_type": "stream",
     "text": [
      "16\n"
     ]
    }
   ],
   "source": [
    "#BITWISE LEFT SHIFT\n",
    "print(4<<2)"
   ]
  },
  {
   "cell_type": "code",
   "execution_count": 23,
   "id": "a8f634de",
   "metadata": {},
   "outputs": [
    {
     "name": "stdout",
     "output_type": "stream",
     "text": [
      "1\n"
     ]
    }
   ],
   "source": [
    "#BITWISE RIGHT SHIFT\n",
    "print(4 >> 2 )"
   ]
  },
  {
   "cell_type": "code",
   "execution_count": 9,
   "id": "92d9adb5",
   "metadata": {},
   "outputs": [
    {
     "name": "stdout",
     "output_type": "stream",
     "text": [
      "84\n"
     ]
    }
   ],
   "source": [
    "print(6*(2+12))"
   ]
  },
  {
   "cell_type": "code",
   "execution_count": null,
   "id": "db46bb63",
   "metadata": {},
   "outputs": [],
   "source": []
  }
 ],
 "metadata": {
  "kernelspec": {
   "display_name": "Python 3 (ipykernel)",
   "language": "python",
   "name": "python3"
  },
  "language_info": {
   "codemirror_mode": {
    "name": "ipython",
    "version": 3
   },
   "file_extension": ".py",
   "mimetype": "text/x-python",
   "name": "python",
   "nbconvert_exporter": "python",
   "pygments_lexer": "ipython3",
   "version": "3.10.4"
  }
 },
 "nbformat": 4,
 "nbformat_minor": 5
}
