{
 "cells": [
  {
   "cell_type": "markdown",
   "id": "f4306926",
   "metadata": {},
   "source": [
    "### 1.To create 5 different list using list comprehension method."
   ]
  },
  {
   "cell_type": "code",
   "execution_count": 1,
   "id": "f6fc9d21",
   "metadata": {},
   "outputs": [
    {
     "name": "stdout",
     "output_type": "stream",
     "text": [
      "[2, 4, 6, 8, 10, 12]\n"
     ]
    }
   ],
   "source": [
    "list1 = [1,2,3,4,5,6,7,8,9,10,11,12]\n",
    "a = [number for number in list1 if number % 2==0]\n",
    "print(a)"
   ]
  },
  {
   "cell_type": "markdown",
   "id": "eb9c2ddb",
   "metadata": {},
   "source": [
    "### 2.Create list , add random 25 numbers in list and print largest number of list."
   ]
  },
  {
   "cell_type": "code",
   "execution_count": 2,
   "id": "9b2e11d2",
   "metadata": {},
   "outputs": [
    {
     "name": "stdout",
     "output_type": "stream",
     "text": [
      "800\n"
     ]
    }
   ],
   "source": [
    "lst = [11,43,56,78,56,98,34,789,800,781,782]\n",
    "max = 0\n",
    "for i in lst:\n",
    "    if i > max:\n",
    "        max = i\n",
    "print(max)"
   ]
  },
  {
   "cell_type": "markdown",
   "id": "69d45bee",
   "metadata": {},
   "source": [
    "### 3.To check whether a given number is present in list or not?"
   ]
  },
  {
   "cell_type": "code",
   "execution_count": 3,
   "id": "cc6fb819",
   "metadata": {},
   "outputs": [
    {
     "name": "stdout",
     "output_type": "stream",
     "text": [
      "Enter your number:\n",
      "10\n",
      "Number is not present\n"
     ]
    }
   ],
   "source": [
    "list_1 = [1,2,3,4,5,6,7,8,9]\n",
    "number = int(input(\"Enter your number:\\n\"))\n",
    "if number in list_1:\n",
    "    print(\"Number is present:\")\n",
    "else:\n",
    "    print(\"Number is not present\")"
   ]
  },
  {
   "cell_type": "markdown",
   "id": "6c577c73",
   "metadata": {},
   "source": [
    "### 4.To demonstrate any 10 methods of List"
   ]
  },
  {
   "cell_type": "code",
   "execution_count": 4,
   "id": "60dc1ed7",
   "metadata": {},
   "outputs": [
    {
     "name": "stdout",
     "output_type": "stream",
     "text": [
      "8\n"
     ]
    }
   ],
   "source": [
    "### len()\n",
    "lst_1 = [12,13,14,15,16,17,18,19]\n",
    "e = len(lst_1)\n",
    "print(e)"
   ]
  },
  {
   "cell_type": "code",
   "execution_count": 5,
   "id": "2add9ff5",
   "metadata": {},
   "outputs": [
    {
     "name": "stdout",
     "output_type": "stream",
     "text": [
      "[]\n"
     ]
    }
   ],
   "source": [
    "###list()\n",
    "list_9 = {}\n",
    "# list_8 = (1,2,3,4)\n",
    "x = list(list_9)\n",
    "print(x)"
   ]
  },
  {
   "cell_type": "markdown",
   "id": "173f28e8",
   "metadata": {},
   "source": [
    "### 5.To add two list [ adding elements of list ]"
   ]
  },
  {
   "cell_type": "code",
   "execution_count": 6,
   "id": "db934271",
   "metadata": {},
   "outputs": [
    {
     "name": "stdout",
     "output_type": "stream",
     "text": [
      "['sarfraz', 'ahmad', 'khan', 'saud', 'saurabh', 'akram']\n"
     ]
    }
   ],
   "source": [
    "a = ['sarfraz', 'ahmad', 'khan']\n",
    "b = ['saud', 'saurabh', 'akram']\n",
    "c = a+b\n",
    "print(c)"
   ]
  },
  {
   "cell_type": "markdown",
   "id": "b0e07956",
   "metadata": {},
   "source": [
    "### 6.To implement a stack using a list"
   ]
  },
  {
   "cell_type": "code",
   "execution_count": 7,
   "id": "2ed816a2",
   "metadata": {},
   "outputs": [
    {
     "name": "stdout",
     "output_type": "stream",
     "text": [
      "True\n",
      "True\n"
     ]
    }
   ],
   "source": [
    "stack = []\n",
    "a=len(stack)==0\n",
    "print(a)\n",
    "b=not stack\n",
    "print(b)\n"
   ]
  },
  {
   "cell_type": "code",
   "execution_count": 8,
   "id": "aa6be0ff",
   "metadata": {},
   "outputs": [
    {
     "name": "stdout",
     "output_type": "stream",
     "text": [
      "select the operation 1.push 2.pop 3.quit\n",
      "3\n"
     ]
    }
   ],
   "source": [
    "stack = []\n",
    "def push():\n",
    "    element = input('Enter the Element:')\n",
    "    stack.append(element)\n",
    "    print(stack)\n",
    "    \n",
    "def pop():\n",
    "    if not stack:\n",
    "        print('stack is Empty!')\n",
    "    else:\n",
    "        e = stack.pop()\n",
    "        print('removed element:', e)\n",
    "        print(stack)\n",
    "        \n",
    "while True:\n",
    "    print('select the operation 1.push 2.pop 3.quit')\n",
    "    choice=int(input())\n",
    "    if choice==1:\n",
    "        push()\n",
    "    elif choice==2:\n",
    "        pop()\n",
    "    elif choice==3:\n",
    "        break\n",
    "    else:\n",
    "        print('Enter the correct operation!')"
   ]
  },
  {
   "cell_type": "code",
   "execution_count": 9,
   "id": "012c9514",
   "metadata": {},
   "outputs": [
    {
     "name": "stdout",
     "output_type": "stream",
     "text": [
      "limit of stack:1\n",
      "select the operation 1.push 2.pop 3.quit\n",
      "3\n"
     ]
    }
   ],
   "source": [
    "stack = []\n",
    "def push():\n",
    "    if len(stack)==n:\n",
    "        print('list is full')\n",
    "    else:\n",
    "        element = input('Enter the Element:')\n",
    "        stack.append(element)\n",
    "        print(stack)\n",
    "    \n",
    "def pop():\n",
    "    if not stack:\n",
    "        print('stack is Empty!')\n",
    "    else:\n",
    "        e = stack.pop()\n",
    "        print('removed element:', e)\n",
    "        print(stack)\n",
    "\n",
    "n = int(input('limit of stack:'))\n",
    "while True:\n",
    "    print('select the operation 1.push 2.pop 3.quit')\n",
    "    choice=int(input())\n",
    "    if choice==1:\n",
    "        push()\n",
    "    elif choice==2:\n",
    "        pop()\n",
    "    elif choice==3:\n",
    "        break\n",
    "    else:\n",
    "        print('Enter the correct operation!')"
   ]
  },
  {
   "cell_type": "markdown",
   "id": "23ba8ac7",
   "metadata": {},
   "source": [
    "### 7.To implement a game [Rock , Paper , Scissor ] using list"
   ]
  },
  {
   "cell_type": "code",
   "execution_count": 2,
   "id": "766e7a09",
   "metadata": {},
   "outputs": [
    {
     "name": "stdout",
     "output_type": "stream",
     "text": [
      "\n",
      "    Game Start....\n",
      "    1 Yes\n",
      "    2 No | Exit\n",
      "    1\n",
      "\n",
      "1 Rock\n",
      "2 Scissor\n",
      "3 Paper\n",
      "            1\n",
      "Computer Value scissor\n",
      "User Value rock\n",
      "You Win\n",
      "\n",
      "1 Rock\n",
      "2 Scissor\n",
      "3 Paper\n",
      "            2\n",
      "Computer Value rock\n",
      "User Value scissor\n",
      "Computer Win\n",
      "\n",
      "1 Rock\n",
      "2 Scissor\n",
      "3 Paper\n",
      "            3\n",
      "Computer Value scissor\n",
      "User Value paper\n",
      "Computer Win\n",
      "\n",
      "1 Rock\n",
      "2 Scissor\n",
      "3 Paper\n",
      "            1\n",
      "Computer Value rock\n",
      "User Value rock\n",
      "Game Draw\n",
      "\n",
      "1 Rock\n",
      "2 Scissor\n",
      "3 Paper\n",
      "            2\n",
      "Computer Value rock\n",
      "User Value scissor\n",
      "Computer Win\n",
      "Final Computer Win the Game\n",
      "User Score 2\n",
      "Computer Score 4\n",
      "\n",
      "    Game Start....\n",
      "    1 Yes\n",
      "    2 No | Exit\n",
      "    2\n"
     ]
    }
   ],
   "source": [
    "import random\n",
    "l = ['rock', 'scissor', 'paper']\n",
    "'''\n",
    "Rock vs Paper --> Paper Wins\n",
    "Rock vs Scissor --> Rock Wins\n",
    "Paper vs Scissor --> Paper Wins\n",
    "'''\n",
    "while True:\n",
    "    ccount=0\n",
    "    ucount=0\n",
    "    uc = int(input('''\n",
    "    Game Start....\n",
    "    1 Yes\n",
    "    2 No | Exit\n",
    "    '''))\n",
    "    if uc==1:\n",
    "        for a in range(1,6):\n",
    "            userInput=int(input('''\n",
    "1 Rock\n",
    "2 Scissor\n",
    "3 Paper\n",
    "            '''))\n",
    "            if userInput==1:\n",
    "                uchoice='rock'\n",
    "                \n",
    "            elif userInput==2:\n",
    "                uchoice='scissor'\n",
    "                \n",
    "            elif userInput==3:\n",
    "                uchoice='paper'\n",
    "                \n",
    "            Cchoice=random.choice(l)\n",
    "            if Cchoice==uchoice:\n",
    "                print('Computer Value', Cchoice)\n",
    "                print('User Value', uchoice)\n",
    "                print('Game Draw')\n",
    "                ccount+=1\n",
    "                ucount+=1\n",
    "            elif uchoice=='rock' and Cchoice=='scissor' or uchoice=='paper' and Cchoice=='rock' or uchoice=='scissor' and Cchoice=='paper':\n",
    "                print('Computer Value', Cchoice)\n",
    "                print('User Value', uchoice)\n",
    "                print('You Win')\n",
    "                ucount+=1\n",
    "            else:\n",
    "                print('Computer Value', Cchoice)\n",
    "                print('User Value', uchoice)\n",
    "                print('Computer Win')\n",
    "                ccount+=1\n",
    "        if ucount==ccount:\n",
    "            print('Final Game Draw')\n",
    "            print('User Score', ucount)\n",
    "            print('Computer Score', ccount)\n",
    "            \n",
    "        elif ucount>ccount:\n",
    "            print('Final You Win the Game')\n",
    "            print('User Score', ucount)\n",
    "            print('Computer Score', ccount)\n",
    "        else:\n",
    "            print('Final Computer Win the Game')\n",
    "            print('User Score', ucount)\n",
    "            print('Computer Score', ccount)\n",
    "        \n",
    "                \n",
    "    else:\n",
    "        break\n",
    "        "
   ]
  },
  {
   "cell_type": "markdown",
   "id": "b9fa7ce0",
   "metadata": {},
   "source": [
    "### 8.To sort a given number list in ascending order using functions."
   ]
  },
  {
   "cell_type": "code",
   "execution_count": 5,
   "id": "821c1d9c",
   "metadata": {},
   "outputs": [
    {
     "name": "stdout",
     "output_type": "stream",
     "text": [
      "90 70 100 30 20 50 10\n",
      "[10, 20, 30, 50, 70, 90, 100]\n"
     ]
    }
   ],
   "source": [
    "lst= list(map(int,input().split()))\n",
    "\n",
    "def sort():\n",
    "    newlist = []\n",
    "    while lst:\n",
    "        minn = lst[0]\n",
    "        for x in lst:\n",
    "            if x < minn:\n",
    "                minn = x\n",
    "        newlist.append(minn)\n",
    "        lst.remove(minn)\n",
    "    print(newlist)\n",
    "sort()"
   ]
  },
  {
   "cell_type": "markdown",
   "id": "7ae67bcb",
   "metadata": {},
   "source": [
    "### 9. Insertion Sort list"
   ]
  },
  {
   "cell_type": "code",
   "execution_count": 11,
   "id": "75b7bb56",
   "metadata": {},
   "outputs": [
    {
     "name": "stdout",
     "output_type": "stream",
     "text": [
      "[5, 6, 4, 3, 2, 1]\n",
      "[4, 5, 6, 3, 2, 1]\n",
      "[3, 4, 5, 6, 2, 1]\n",
      "[2, 3, 4, 5, 6, 1]\n",
      "[1, 2, 3, 4, 5, 6]\n"
     ]
    }
   ],
   "source": [
    "list1 = [6, 5, 4, 3, 2, 1]\n",
    "for j in range (1, len(list1)):\n",
    "    while list1[j-1] > list1[j] and j > 0:\n",
    "        list1[j-1], list1[j] = list1[j], list1[j-1]\n",
    "        j -= 1\n",
    "    print(list1)"
   ]
  },
  {
   "cell_type": "code",
   "execution_count": 12,
   "id": "04350ba4",
   "metadata": {},
   "outputs": [
    {
     "name": "stdout",
     "output_type": "stream",
     "text": [
      "[1]\n",
      "[1, 2]\n",
      "[1, 2, 3]\n",
      "[1, 2, 3, 4]\n",
      "[1, 2, 3, 4, 5]\n",
      "[1, 2, 3, 4, 5, 6]\n"
     ]
    }
   ],
   "source": [
    "lst = [6, 5, 4, 3, 2, 1]\n",
    "newlist = []\n",
    "while lst:\n",
    "    minn = lst[0]\n",
    "    for x in lst:\n",
    "        if x < minn:\n",
    "            minn = x\n",
    "    newlist.append(minn)\n",
    "    lst.remove(minn)\n",
    "    print(newlist)"
   ]
  },
  {
   "cell_type": "markdown",
   "id": "2db19a17",
   "metadata": {},
   "source": [
    "### 10 Finding maximum ans minimum number without using max() method."
   ]
  },
  {
   "cell_type": "code",
   "execution_count": 15,
   "id": "4dba039b",
   "metadata": {},
   "outputs": [
    {
     "name": "stdout",
     "output_type": "stream",
     "text": [
      "Maximum value is: 100\n"
     ]
    }
   ],
   "source": [
    "nums = [55, 45 ,63, 98, 22, 83, 100]\n",
    "max1 = nums[0]\n",
    "for num in nums:\n",
    "    if num > max1:\n",
    "        max1 = num\n",
    "print('Maximum value is:',max1)"
   ]
  },
  {
   "cell_type": "code",
   "execution_count": 16,
   "id": "c3a269e4",
   "metadata": {},
   "outputs": [
    {
     "name": "stdout",
     "output_type": "stream",
     "text": [
      "Minimum value is: 22\n"
     ]
    }
   ],
   "source": [
    "nums = [55, 45 ,63, 98, 22, 83, 100]\n",
    "min1 = nums[0]\n",
    "for num in nums:\n",
    "    if num < min1:\n",
    "        min1 = num\n",
    "print('Minimum value is:',min1)"
   ]
  },
  {
   "cell_type": "markdown",
   "id": "f07eba4f",
   "metadata": {},
   "source": [
    "### 11 find even odd output in list use different method"
   ]
  },
  {
   "cell_type": "code",
   "execution_count": 1,
   "id": "dc3d1aed",
   "metadata": {},
   "outputs": [
    {
     "name": "stdout",
     "output_type": "stream",
     "text": [
      "['even', 'odd', 'odd', 'even', 'odd', 'even']\n"
     ]
    }
   ],
   "source": [
    "lst = [2, 7, 5, 8, 1, 6]\n",
    "a=[]\n",
    "for i in lst:\n",
    "    if i % 2==0:\n",
    "        a.append('even')\n",
    "    else:\n",
    "        a.append('odd')\n",
    "print(a)"
   ]
  },
  {
   "cell_type": "code",
   "execution_count": 2,
   "id": "ba44f8ee",
   "metadata": {},
   "outputs": [
    {
     "name": "stdout",
     "output_type": "stream",
     "text": [
      "['even', 'odd', 'odd', 'even', 'odd', 'even']\n"
     ]
    }
   ],
   "source": [
    "lst = [2, 7, 5, 8, 1, 6]\n",
    "a= ['even' if x%2==0 else 'odd' for x in lst ]\n",
    "print(a)"
   ]
  },
  {
   "cell_type": "code",
   "execution_count": 3,
   "id": "653e73a2",
   "metadata": {},
   "outputs": [
    {
     "name": "stdout",
     "output_type": "stream",
     "text": [
      "['even', 'odd', 'odd', 'even', 'odd', 'even']\n"
     ]
    }
   ],
   "source": [
    "lst = [2, 7, 5, 8, 1, 6]\n",
    "even = list(map(lambda n : 'even' if n%2==0 else 'odd', lst))\n",
    "print(even)"
   ]
  },
  {
   "cell_type": "code",
   "execution_count": 4,
   "id": "a5d43e29",
   "metadata": {},
   "outputs": [
    {
     "name": "stdout",
     "output_type": "stream",
     "text": [
      "odd even odd even odd even odd even odd even odd even "
     ]
    }
   ],
   "source": [
    "lst1 = [1,2,3,4]\n",
    "lst2 = [5,6,7,8]\n",
    "lst3 = [9,10,11,12]\n",
    "\n",
    "def evenodd(x):\n",
    "    for i in x:\n",
    "        if i %2== 0:\n",
    "            print('even', end=' ')\n",
    "        else:\n",
    "            print('odd', end=' ')\n",
    "evenodd(lst1+lst2+lst3)"
   ]
  },
  {
   "cell_type": "code",
   "execution_count": 18,
   "id": "14ef0c36",
   "metadata": {},
   "outputs": [
    {
     "name": "stdout",
     "output_type": "stream",
     "text": [
      "0\n",
      "1\n",
      "2\n",
      "2\n"
     ]
    }
   ],
   "source": [
    "a = [0,1,2,3]\n",
    "for a[-1] in a:\n",
    "    print(a[-1])"
   ]
  },
  {
   "cell_type": "code",
   "execution_count": 19,
   "id": "97a24712",
   "metadata": {},
   "outputs": [
    {
     "name": "stdout",
     "output_type": "stream",
     "text": [
      "[0, 1, 2, 0]\n",
      "[0, 1, 2, 1]\n",
      "[0, 1, 2, 2]\n",
      "[0, 1, 2, 2]\n"
     ]
    }
   ],
   "source": [
    "a = [0,1,2,3]\n",
    "for a[-1] in a:\n",
    "    print(a)"
   ]
  },
  {
   "cell_type": "markdown",
   "id": "13f826a8",
   "metadata": {},
   "source": [
    "### 12 set the terget number"
   ]
  },
  {
   "cell_type": "code",
   "execution_count": 4,
   "id": "2961f7e5",
   "metadata": {},
   "outputs": [
    {
     "data": {
      "text/plain": [
       "[2, 3]"
      ]
     },
     "execution_count": 4,
     "metadata": {},
     "output_type": "execute_result"
    }
   ],
   "source": [
    "def twoSum(nums, target):\n",
    "#     print(len(nums))\n",
    "    for i, num in enumerate(nums):\n",
    "#         print(i,num)\n",
    "        for j in range(i + 1, len(nums)):\n",
    "            if num + nums[j] == target:\n",
    "                return [i, j]\n",
    "\n",
    "lst = [3,5,7,9] \n",
    "twoSum(lst,16)"
   ]
  },
  {
   "cell_type": "code",
   "execution_count": 5,
   "id": "6cdb7234",
   "metadata": {},
   "outputs": [
    {
     "name": "stdout",
     "output_type": "stream",
     "text": [
      "[1, 4]\n",
      "[2, 3]\n"
     ]
    }
   ],
   "source": [
    "lst=[12,3,4,5,6]\n",
    "target=9\n",
    "for i in range(len(lst)):\n",
    "#     print('i',i)\n",
    "    for j in range(i+1,len(lst)):\n",
    "#         print('j',j)\n",
    "        if lst[i]+lst[j]==target:\n",
    "            print([i,j])"
   ]
  },
  {
   "cell_type": "markdown",
   "id": "6c939b39",
   "metadata": {},
   "source": [
    "### 13 Sort this list by length of string. min to max"
   ]
  },
  {
   "cell_type": "code",
   "execution_count": 8,
   "id": "30984740",
   "metadata": {},
   "outputs": [
    {
     "name": "stdout",
     "output_type": "stream",
     "text": [
      "['BMW', 'Ford', 'Mitsubishi', 'VW', 'car']\n"
     ]
    }
   ],
   "source": [
    "cars = ['car','Mitsubishi', 'BMW', 'VW', 'Ford']\n",
    "for i in range(len(cars)):\n",
    "    for j in range(len(cars)):\n",
    "        if cars[i] < cars[j]:\n",
    "            cars[i], cars[j] = cars[j], cars[i]\n",
    "print(cars)"
   ]
  },
  {
   "cell_type": "markdown",
   "id": "1dcde970",
   "metadata": {},
   "source": [
    "### Array\n",
    "- Python Arrays are python module which is used for storing homogeneous data types in it."
   ]
  },
  {
   "cell_type": "code",
   "execution_count": 20,
   "id": "e1e29513",
   "metadata": {},
   "outputs": [
    {
     "name": "stdout",
     "output_type": "stream",
     "text": [
      "array('i', [1, 2, 3])\n",
      "1\n",
      "2\n",
      "3\n"
     ]
    }
   ],
   "source": [
    "import array as arr\n",
    "a = arr.array('i',[1,2,3])\n",
    "print(a)\n",
    "for i in range(0, 3):\n",
    "    print(a[i])"
   ]
  },
  {
   "cell_type": "code",
   "execution_count": 21,
   "id": "77d60c11",
   "metadata": {},
   "outputs": [
    {
     "name": "stdout",
     "output_type": "stream",
     "text": [
      "array('d', [1.0, 2.0, 3.0])\n",
      "1.0\n",
      "2.0\n",
      "3.0\n"
     ]
    }
   ],
   "source": [
    "import array as arr\n",
    "a = arr.array('d',[1,2,3])\n",
    "print(a)\n",
    "for i in range(0,3):\n",
    "    print(a[i])"
   ]
  }
 ],
 "metadata": {
  "kernelspec": {
   "display_name": "Python 3 (ipykernel)",
   "language": "python",
   "name": "python3"
  },
  "language_info": {
   "codemirror_mode": {
    "name": "ipython",
    "version": 3
   },
   "file_extension": ".py",
   "mimetype": "text/x-python",
   "name": "python",
   "nbconvert_exporter": "python",
   "pygments_lexer": "ipython3",
   "version": "3.10.4"
  }
 },
 "nbformat": 4,
 "nbformat_minor": 5
}
