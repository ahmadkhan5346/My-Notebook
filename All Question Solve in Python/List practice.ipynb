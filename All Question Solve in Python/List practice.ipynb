{
 "cells": [
  {
   "cell_type": "markdown",
   "id": "f4306926",
   "metadata": {},
   "source": [
    "### 1.To create 5 different list using list comprehension method."
   ]
  },
  {
   "cell_type": "code",
   "execution_count": 1,
   "id": "f6fc9d21",
   "metadata": {},
   "outputs": [
    {
     "name": "stdout",
     "output_type": "stream",
     "text": [
      "[2, 4, 6, 8, 10, 12]\n"
     ]
    }
   ],
   "source": [
    "list1 = [1,2,3,4,5,6,7,8,9,10,11,12]\n",
    "a = [number for number in list1 if number % 2==0]\n",
    "print(a)"
   ]
  },
  {
   "cell_type": "markdown",
   "id": "eb9c2ddb",
   "metadata": {},
   "source": [
    "### 2.Create list , add random 25 numbers in list and print largest number of list."
   ]
  },
  {
   "cell_type": "code",
   "execution_count": 2,
   "id": "9b2e11d2",
   "metadata": {},
   "outputs": [
    {
     "name": "stdout",
     "output_type": "stream",
     "text": [
      "800\n"
     ]
    }
   ],
   "source": [
    "lst = [11,43,56,78,56,98,34,789,800,781,782]\n",
    "max = 0\n",
    "for i in lst:\n",
    "    if i > max:\n",
    "        max = i\n",
    "print(max)"
   ]
  },
  {
   "cell_type": "markdown",
   "id": "69d45bee",
   "metadata": {},
   "source": [
    "### 3.To check whether a given number is present in list or not?"
   ]
  },
  {
   "cell_type": "code",
   "execution_count": 3,
   "id": "cc6fb819",
   "metadata": {},
   "outputs": [
    {
     "name": "stdout",
     "output_type": "stream",
     "text": [
      "Enter your number:\n",
      "10\n",
      "Number is not present\n"
     ]
    }
   ],
   "source": [
    "list_1 = [1,2,3,4,5,6,7,8,9]\n",
    "number = int(input(\"Enter your number:\\n\"))\n",
    "if number in list_1:\n",
    "    print(\"Number is present:\")\n",
    "else:\n",
    "    print(\"Number is not present\")"
   ]
  },
  {
   "cell_type": "markdown",
   "id": "6c577c73",
   "metadata": {},
   "source": [
    "### 4.To demonstrate any 10 methods of List"
   ]
  },
  {
   "cell_type": "code",
   "execution_count": 4,
   "id": "60dc1ed7",
   "metadata": {},
   "outputs": [
    {
     "name": "stdout",
     "output_type": "stream",
     "text": [
      "8\n"
     ]
    }
   ],
   "source": [
    "### len()\n",
    "lst_1 = [12,13,14,15,16,17,18,19]\n",
    "e = len(lst_1)\n",
    "print(e)"
   ]
  },
  {
   "cell_type": "code",
   "execution_count": 5,
   "id": "2add9ff5",
   "metadata": {},
   "outputs": [
    {
     "name": "stdout",
     "output_type": "stream",
     "text": [
      "[]\n"
     ]
    }
   ],
   "source": [
    "###list()\n",
    "list_9 = {}\n",
    "# list_8 = (1,2,3,4)\n",
    "x = list(list_9)\n",
    "print(x)"
   ]
  },
  {
   "cell_type": "markdown",
   "id": "173f28e8",
   "metadata": {},
   "source": [
    "### 5.To add two list [ adding elements of list ]"
   ]
  },
  {
   "cell_type": "code",
   "execution_count": 6,
   "id": "db934271",
   "metadata": {},
   "outputs": [
    {
     "name": "stdout",
     "output_type": "stream",
     "text": [
      "['sarfraz', 'ahmad', 'khan', 'saud', 'saurabh', 'akram']\n"
     ]
    }
   ],
   "source": [
    "a = ['sarfraz', 'ahmad', 'khan']\n",
    "b = ['saud', 'saurabh', 'akram']\n",
    "c = a+b\n",
    "print(c)"
   ]
  },
  {
   "cell_type": "markdown",
   "id": "b0e07956",
   "metadata": {},
   "source": [
    "### 6.To implement a stack using a list"
   ]
  },
  {
   "cell_type": "code",
   "execution_count": 7,
   "id": "2ed816a2",
   "metadata": {},
   "outputs": [
    {
     "name": "stdout",
     "output_type": "stream",
     "text": [
      "True\n",
      "True\n"
     ]
    }
   ],
   "source": [
    "stack = []\n",
    "a=len(stack)==0\n",
    "print(a)\n",
    "b=not stack\n",
    "print(b)\n"
   ]
  },
  {
   "cell_type": "code",
   "execution_count": 8,
   "id": "aa6be0ff",
   "metadata": {},
   "outputs": [
    {
     "name": "stdout",
     "output_type": "stream",
     "text": [
      "select the operation 1.push 2.pop 3.quit\n",
      "3\n"
     ]
    }
   ],
   "source": [
    "stack = []\n",
    "def push():\n",
    "    element = input('Enter the Element:')\n",
    "    stack.append(element)\n",
    "    print(stack)\n",
    "    \n",
    "def pop():\n",
    "    if not stack:\n",
    "        print('stack is Empty!')\n",
    "    else:\n",
    "        e = stack.pop()\n",
    "        print('removed element:', e)\n",
    "        print(stack)\n",
    "        \n",
    "while True:\n",
    "    print('select the operation 1.push 2.pop 3.quit')\n",
    "    choice=int(input())\n",
    "    if choice==1:\n",
    "        push()\n",
    "    elif choice==2:\n",
    "        pop()\n",
    "    elif choice==3:\n",
    "        break\n",
    "    else:\n",
    "        print('Enter the correct operation!')"
   ]
  },
  {
   "cell_type": "code",
   "execution_count": 9,
   "id": "012c9514",
   "metadata": {},
   "outputs": [
    {
     "name": "stdout",
     "output_type": "stream",
     "text": [
      "limit of stack:1\n",
      "select the operation 1.push 2.pop 3.quit\n",
      "3\n"
     ]
    }
   ],
   "source": [
    "stack = []\n",
    "def push():\n",
    "    if len(stack)==n:\n",
    "        print('list is full')\n",
    "    else:\n",
    "        element = input('Enter the Element:')\n",
    "        stack.append(element)\n",
    "        print(stack)\n",
    "    \n",
    "def pop():\n",
    "    if not stack:\n",
    "        print('stack is Empty!')\n",
    "    else:\n",
    "        e = stack.pop()\n",
    "        print('removed element:', e)\n",
    "        print(stack)\n",
    "\n",
    "n = int(input('limit of stack:'))\n",
    "while True:\n",
    "    print('select the operation 1.push 2.pop 3.quit')\n",
    "    choice=int(input())\n",
    "    if choice==1:\n",
    "        push()\n",
    "    elif choice==2:\n",
    "        pop()\n",
    "    elif choice==3:\n",
    "        break\n",
    "    else:\n",
    "        print('Enter the correct operation!')"
   ]
  },
  {
   "cell_type": "markdown",
   "id": "23ba8ac7",
   "metadata": {},
   "source": [
    "### 7.To implement a game [Rock , Paper , Scissor ] using list"
   ]
  },
  {
   "cell_type": "code",
   "execution_count": null,
   "id": "c67ae578",
   "metadata": {},
   "outputs": [],
   "source": [
    "import random\n",
    "l = ['rock', 'paper', 'scissor']\n",
    "'''\n",
    "Rock vs Paper --> Paper Wins\n",
    "Rock vs Scissor --> Rock Wins\n",
    "Paper vs Scissor --> Paper Wins\n",
    "'''\n",
    "while True:\n",
    "    uc = int(input('''\n",
    "    Game Start....\n",
    "    1 Yes\n",
    "    2 No | Exit\n",
    "    '''))\n",
    "    if uc==1:\n",
    "        for a in range(1,6):\n",
    "            userInput=int(input('''\n",
    "1 Rock\n",
    "2 Scissor\n",
    "3 Paper\n",
    "            '''))\n",
    "            if userInput==1:\n",
    "                uchoice='rock'\n",
    "    else:\n",
    "        break\n",
    "        "
   ]
  },
  {
   "cell_type": "markdown",
   "id": "b9fa7ce0",
   "metadata": {},
   "source": [
    "### 8.To sort a given number list in ascending order using functions."
   ]
  },
  {
   "cell_type": "code",
   "execution_count": 5,
   "id": "821c1d9c",
   "metadata": {},
   "outputs": [
    {
     "name": "stdout",
     "output_type": "stream",
     "text": [
      "90 70 100 30 20 50 10\n",
      "[10, 20, 30, 50, 70, 90, 100]\n"
     ]
    }
   ],
   "source": [
    "lst= list(map(int,input().split()))\n",
    "\n",
    "def sort():\n",
    "    newlist = []\n",
    "    while lst:\n",
    "        minn = lst[0]\n",
    "        for x in lst:\n",
    "            if x < minn:\n",
    "                minn = x\n",
    "        newlist.append(minn)\n",
    "        lst.remove(minn)\n",
    "    print(newlist)\n",
    "sort()"
   ]
  },
  {
   "cell_type": "markdown",
   "id": "7ae67bcb",
   "metadata": {},
   "source": [
    "### 9. Insertion Sort list"
   ]
  },
  {
   "cell_type": "code",
   "execution_count": 11,
   "id": "75b7bb56",
   "metadata": {},
   "outputs": [
    {
     "name": "stdout",
     "output_type": "stream",
     "text": [
      "[5, 6, 4, 3, 2, 1]\n",
      "[4, 5, 6, 3, 2, 1]\n",
      "[3, 4, 5, 6, 2, 1]\n",
      "[2, 3, 4, 5, 6, 1]\n",
      "[1, 2, 3, 4, 5, 6]\n"
     ]
    }
   ],
   "source": [
    "list1 = [6, 5, 4, 3, 2, 1]\n",
    "for j in range (1, len(list1)):\n",
    "    while list1[j-1] > list1[j] and j > 0:\n",
    "        list1[j-1], list1[j] = list1[j], list1[j-1]\n",
    "        j -= 1\n",
    "    print(list1)"
   ]
  },
  {
   "cell_type": "code",
   "execution_count": 12,
   "id": "04350ba4",
   "metadata": {},
   "outputs": [
    {
     "name": "stdout",
     "output_type": "stream",
     "text": [
      "[1]\n",
      "[1, 2]\n",
      "[1, 2, 3]\n",
      "[1, 2, 3, 4]\n",
      "[1, 2, 3, 4, 5]\n",
      "[1, 2, 3, 4, 5, 6]\n"
     ]
    }
   ],
   "source": [
    "lst = [6, 5, 4, 3, 2, 1]\n",
    "newlist = []\n",
    "while lst:\n",
    "    minn = lst[0]\n",
    "    for x in lst:\n",
    "        if x < minn:\n",
    "            minn = x\n",
    "    newlist.append(minn)\n",
    "    lst.remove(minn)\n",
    "    print(newlist)"
   ]
  },
  {
   "cell_type": "code",
   "execution_count": 13,
   "id": "20e7c17c",
   "metadata": {},
   "outputs": [
    {
     "name": "stdout",
     "output_type": "stream",
     "text": [
      "6\n"
     ]
    }
   ],
   "source": [
    "list1 = [6, 5, 4, 3, 2, 1]\n",
    "a = list1[0]\n",
    "print(a)"
   ]
  },
  {
   "cell_type": "code",
   "execution_count": 14,
   "id": "18abd561",
   "metadata": {},
   "outputs": [
    {
     "name": "stdout",
     "output_type": "stream",
     "text": [
      "no\n"
     ]
    }
   ],
   "source": [
    "a=0\n",
    "# a=\"\"\n",
    "if a:\n",
    "    print('hy')\n",
    "else:\n",
    "    print('no')"
   ]
  },
  {
   "cell_type": "markdown",
   "id": "2db19a17",
   "metadata": {},
   "source": [
    "### Finding maximum ans minimum number without using max() method."
   ]
  },
  {
   "cell_type": "code",
   "execution_count": 15,
   "id": "4dba039b",
   "metadata": {},
   "outputs": [
    {
     "name": "stdout",
     "output_type": "stream",
     "text": [
      "Maximum value is: 100\n"
     ]
    }
   ],
   "source": [
    "nums = [55, 45 ,63, 98, 22, 83, 100]\n",
    "max1 = nums[0]\n",
    "for num in nums:\n",
    "    if num > max1:\n",
    "        max1 = num\n",
    "print('Maximum value is:',max1)"
   ]
  },
  {
   "cell_type": "code",
   "execution_count": 16,
   "id": "c3a269e4",
   "metadata": {},
   "outputs": [
    {
     "name": "stdout",
     "output_type": "stream",
     "text": [
      "Minimum value is: 22\n"
     ]
    }
   ],
   "source": [
    "nums = [55, 45 ,63, 98, 22, 83, 100]\n",
    "min1 = nums[0]\n",
    "for num in nums:\n",
    "    if num < min1:\n",
    "        min1 = num\n",
    "print('Minimum value is:',min1)"
   ]
  },
  {
   "cell_type": "code",
   "execution_count": 17,
   "id": "c3a270e2",
   "metadata": {},
   "outputs": [
    {
     "name": "stdout",
     "output_type": "stream",
     "text": [
      "[0, 1, 2, 0]\n",
      "[0, 1, 2, 1]\n",
      "[0, 1, 2, 2]\n",
      "[0, 1, 2, 2]\n"
     ]
    }
   ],
   "source": [
    "a = [0,1,2,3]\n",
    "for a[-1] in a:\n",
    "    print(a)"
   ]
  },
  {
   "cell_type": "code",
   "execution_count": 18,
   "id": "14ef0c36",
   "metadata": {},
   "outputs": [
    {
     "name": "stdout",
     "output_type": "stream",
     "text": [
      "0\n",
      "1\n",
      "2\n",
      "2\n"
     ]
    }
   ],
   "source": [
    "a = [0,1,2,3]\n",
    "for a[-1] in a:\n",
    "    print(a[-1])"
   ]
  },
  {
   "cell_type": "code",
   "execution_count": 19,
   "id": "97a24712",
   "metadata": {},
   "outputs": [
    {
     "name": "stdout",
     "output_type": "stream",
     "text": [
      "[0, 1, 2, 0]\n",
      "[0, 1, 2, 1]\n",
      "[0, 1, 2, 2]\n",
      "[0, 1, 2, 2]\n"
     ]
    }
   ],
   "source": [
    "a = [0,1,2,3]\n",
    "for a[-1] in a:\n",
    "    print(a)"
   ]
  },
  {
   "cell_type": "markdown",
   "id": "1dcde970",
   "metadata": {},
   "source": [
    "### Array\n",
    "- Python Arrays are python module which is used for storing homogeneous data types in it."
   ]
  },
  {
   "cell_type": "code",
   "execution_count": 20,
   "id": "e1e29513",
   "metadata": {},
   "outputs": [
    {
     "name": "stdout",
     "output_type": "stream",
     "text": [
      "array('i', [1, 2, 3])\n",
      "1\n",
      "2\n",
      "3\n"
     ]
    }
   ],
   "source": [
    "import array as arr\n",
    "a = arr.array('i',[1,2,3])\n",
    "print(a)\n",
    "for i in range(0, 3):\n",
    "    print(a[i])"
   ]
  },
  {
   "cell_type": "code",
   "execution_count": 21,
   "id": "77d60c11",
   "metadata": {},
   "outputs": [
    {
     "name": "stdout",
     "output_type": "stream",
     "text": [
      "array('d', [1.0, 2.0, 3.0])\n",
      "1.0\n",
      "2.0\n",
      "3.0\n"
     ]
    }
   ],
   "source": [
    "import array as arr\n",
    "a = arr.array('d',[1,2,3])\n",
    "print(a)\n",
    "for i in range(0,3):\n",
    "    print(a[i])"
   ]
  }
 ],
 "metadata": {
  "kernelspec": {
   "display_name": "Python 3 (ipykernel)",
   "language": "python",
   "name": "python3"
  },
  "language_info": {
   "codemirror_mode": {
    "name": "ipython",
    "version": 3
   },
   "file_extension": ".py",
   "mimetype": "text/x-python",
   "name": "python",
   "nbconvert_exporter": "python",
   "pygments_lexer": "ipython3",
   "version": "3.10.4"
  }
 },
 "nbformat": 4,
 "nbformat_minor": 5
}
