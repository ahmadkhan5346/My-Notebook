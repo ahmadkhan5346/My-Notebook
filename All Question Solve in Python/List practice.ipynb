{
 "cells": [
  {
   "cell_type": "markdown",
   "id": "f4306926",
   "metadata": {},
   "source": [
    "# 1.To create 5 different list using list comprehension method."
   ]
  },
  {
   "cell_type": "code",
   "execution_count": 5,
   "id": "f6fc9d21",
   "metadata": {},
   "outputs": [
    {
     "name": "stdout",
     "output_type": "stream",
     "text": [
      "[2, 4, 6, 8, 10, 12]\n"
     ]
    }
   ],
   "source": [
    "list1 = [1,2,3,4,5,6,7,8,9,10,11,12]\n",
    "a = [number for number in list1 if number % 2==0]\n",
    "print(a)"
   ]
  },
  {
   "cell_type": "markdown",
   "id": "eb9c2ddb",
   "metadata": {},
   "source": [
    "## 2.Create list , add random 25 numbers in list and print largest number of list."
   ]
  },
  {
   "cell_type": "code",
   "execution_count": 3,
   "id": "9b2e11d2",
   "metadata": {},
   "outputs": [
    {
     "name": "stdout",
     "output_type": "stream",
     "text": [
      "800\n"
     ]
    }
   ],
   "source": [
    "lst = [11,43,56,78,56,98,34,789,800,781,782]\n",
    "max = lst[0]\n",
    "for i in lst:\n",
    "    if i > max:\n",
    "        max = i\n",
    "print(max)\n",
    "\n",
    "        \n"
   ]
  },
  {
   "cell_type": "markdown",
   "id": "69d45bee",
   "metadata": {},
   "source": [
    "# 3.To check whether a given number is present in list or not?"
   ]
  },
  {
   "cell_type": "code",
   "execution_count": 24,
   "id": "cc6fb819",
   "metadata": {},
   "outputs": [
    {
     "name": "stdout",
     "output_type": "stream",
     "text": [
      "Enter your number:\n",
      "10\n",
      "Number is not present\n"
     ]
    }
   ],
   "source": [
    "list_1 = [1,2,3,4,5,6,7,8,9]\n",
    "number = int(input(\"Enter your number:\\n\"))\n",
    "if number in list_1:\n",
    "    print(\"Number is present:\")\n",
    "else:\n",
    "    print(\"Number is not present\")\n",
    "    "
   ]
  },
  {
   "cell_type": "markdown",
   "id": "6c577c73",
   "metadata": {},
   "source": [
    "# 4.To demonstrate any 10 methods of List"
   ]
  },
  {
   "cell_type": "code",
   "execution_count": 25,
   "id": "60dc1ed7",
   "metadata": {},
   "outputs": [
    {
     "name": "stdout",
     "output_type": "stream",
     "text": [
      "8\n"
     ]
    }
   ],
   "source": [
    "### len()\n",
    "lst_1 = [12,13,14,15,16,17,18,19]\n",
    "e = len(lst_1)\n",
    "print(e)"
   ]
  },
  {
   "cell_type": "code",
   "execution_count": 29,
   "id": "2add9ff5",
   "metadata": {},
   "outputs": [
    {
     "name": "stdout",
     "output_type": "stream",
     "text": [
      "[1, 2, 3, 4]\n"
     ]
    }
   ],
   "source": [
    "###list()\n",
    "list_9 = {}\n",
    "# list_8 = (1,2,3,4)\n",
    "x = list(list_9)\n",
    "print(x)"
   ]
  },
  {
   "cell_type": "markdown",
   "id": "173f28e8",
   "metadata": {},
   "source": [
    "# 5.To add two list [ adding elements of list ]"
   ]
  },
  {
   "cell_type": "code",
   "execution_count": 7,
   "id": "db934271",
   "metadata": {},
   "outputs": [
    {
     "name": "stdout",
     "output_type": "stream",
     "text": [
      "['sarfraz', 'ahmad', 'khan', 'saud', 'saurabh', 'akram']\n"
     ]
    }
   ],
   "source": [
    "a = ['sarfraz', 'ahmad', 'khan']\n",
    "b = ['saud', 'saurabh', 'akram']\n",
    "c = a+b\n",
    "print(c)"
   ]
  },
  {
   "cell_type": "markdown",
   "id": "b0e07956",
   "metadata": {},
   "source": [
    "# 6.To implement a stack using a list"
   ]
  },
  {
   "cell_type": "code",
   "execution_count": null,
   "id": "2ed816a2",
   "metadata": {},
   "outputs": [],
   "source": []
  },
  {
   "cell_type": "markdown",
   "id": "23ba8ac7",
   "metadata": {},
   "source": [
    "# 7.To implement a game [Rock , Paper , Scissor ] using list"
   ]
  },
  {
   "cell_type": "code",
   "execution_count": null,
   "id": "c67ae578",
   "metadata": {},
   "outputs": [],
   "source": []
  },
  {
   "cell_type": "markdown",
   "id": "b9fa7ce0",
   "metadata": {},
   "source": [
    "# 8.To sort a given number list in ascending order using functions."
   ]
  },
  {
   "cell_type": "code",
   "execution_count": null,
   "id": "821c1d9c",
   "metadata": {},
   "outputs": [],
   "source": []
  },
  {
   "cell_type": "code",
   "execution_count": 5,
   "id": "abaa4686",
   "metadata": {},
   "outputs": [
    {
     "name": "stdout",
     "output_type": "stream",
     "text": [
      "[0, 1, 2, 0]\n",
      "[0, 1, 2, 1]\n",
      "[0, 1, 2, 2]\n",
      "[0, 1, 2, 2]\n"
     ]
    }
   ],
   "source": [
    "a = [0,1,2,3]\n",
    "for a[-1] in a:\n",
    "    print(a)"
   ]
  },
  {
   "cell_type": "markdown",
   "id": "7ae67bcb",
   "metadata": {},
   "source": [
    "# 9. Insertion Sort list"
   ]
  },
  {
   "cell_type": "code",
   "execution_count": 3,
   "id": "75b7bb56",
   "metadata": {},
   "outputs": [
    {
     "name": "stdout",
     "output_type": "stream",
     "text": [
      "[5, 6, 4, 3, 2, 1]\n",
      "[4, 5, 6, 3, 2, 1]\n",
      "[3, 4, 5, 6, 2, 1]\n",
      "[2, 3, 4, 5, 6, 1]\n",
      "[1, 2, 3, 4, 5, 6]\n"
     ]
    }
   ],
   "source": [
    "list1 = [6, 5, 4, 3, 2, 1]\n",
    "for j in range (1, len(list1)):\n",
    "    while list1[j-1] > list1[j] and j > 0:\n",
    "        list1[j-1], list1[j] = list1[j], list1[j-1]\n",
    "        j -= 1\n",
    "    print(list1)"
   ]
  },
  {
   "cell_type": "code",
   "execution_count": 1,
   "id": "04350ba4",
   "metadata": {},
   "outputs": [
    {
     "name": "stdout",
     "output_type": "stream",
     "text": [
      "[1]\n",
      "[1, 2]\n",
      "[1, 2, 3]\n",
      "[1, 2, 3, 4]\n",
      "[1, 2, 3, 4, 5]\n",
      "[1, 2, 3, 4, 5, 6]\n"
     ]
    }
   ],
   "source": [
    "list1 = [6, 5, 4, 3, 2, 1]\n",
    "newlist = []\n",
    "while list1:\n",
    "    minn = list1[0]\n",
    "    for x in list1:\n",
    "        if x < minn:\n",
    "            minn = x\n",
    "    newlist.append(minn)\n",
    "    list1.remove(minn)\n",
    "    print(newlist)"
   ]
  },
  {
   "cell_type": "code",
   "execution_count": 11,
   "id": "20e7c17c",
   "metadata": {},
   "outputs": [
    {
     "name": "stdout",
     "output_type": "stream",
     "text": [
      "6\n"
     ]
    }
   ],
   "source": [
    "list1 = [6, 5, 4, 3, 2, 1]\n",
    "a = list1[0]\n",
    "print(a)"
   ]
  },
  {
   "cell_type": "code",
   "execution_count": null,
   "id": "18abd561",
   "metadata": {},
   "outputs": [],
   "source": []
  }
 ],
 "metadata": {
  "kernelspec": {
   "display_name": "Python 3 (ipykernel)",
   "language": "python",
   "name": "python3"
  },
  "language_info": {
   "codemirror_mode": {
    "name": "ipython",
    "version": 3
   },
   "file_extension": ".py",
   "mimetype": "text/x-python",
   "name": "python",
   "nbconvert_exporter": "python",
   "pygments_lexer": "ipython3",
   "version": "3.10.4"
  }
 },
 "nbformat": 4,
 "nbformat_minor": 5
}
