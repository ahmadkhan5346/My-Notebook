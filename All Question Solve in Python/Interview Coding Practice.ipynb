{
 "cells": [
  {
   "cell_type": "markdown",
   "id": "296a9d06",
   "metadata": {},
   "source": [
    "1. given the following input structrue of a nested dictionary cum list, sort the values in 'value' according to the position changes of element in sorted 'x'. length of 'x' is dynamic and has a limit of 100 values. length of 'x' and all 'value' will always be the same."
   ]
  },
  {
   "cell_type": "code",
   "execution_count": 3,
   "id": "95e4f2e4",
   "metadata": {},
   "outputs": [
    {
     "data": {
      "text/plain": [
       "{'x': [12, 88, 99], 'y': [{'value': [2, 3, 1]}, {'value': [6, 7, 5]}]}"
      ]
     },
     "execution_count": 3,
     "metadata": {},
     "output_type": "execute_result"
    }
   ],
   "source": [
    "def sortvalue(dic):\n",
    "    newdic = {}\n",
    "    for i in range(len(dic['x'])):\n",
    "        for j in range(i+1, len(dic['x'])):\n",
    "            if dic['x'][i] > dic['x'][j]:\n",
    "                dic['x'][i], dic['x'][j] = dic['x'][j], dic['x'][i]\n",
    "                for x in dic['y']:\n",
    "                    x['value'][i], x['value'][j] = x['value'][j], x['value'][i]\n",
    "                newdic.update(dic)\n",
    "    return newdic\n",
    "                    \n",
    "\n",
    "dic = {\"x\":[99, 12, 88],\"y\":[{'value':[1,2,3]},{'value':[5,6,7]}]}\n",
    "sortvalue(dic)"
   ]
  },
  {
   "cell_type": "markdown",
   "id": "98722129",
   "metadata": {},
   "source": [
    "2."
   ]
  },
  {
   "cell_type": "code",
   "execution_count": 25,
   "id": "817cd703",
   "metadata": {},
   "outputs": [
    {
     "name": "stdout",
     "output_type": "stream",
     "text": [
      "[7, 4, 1]\n",
      "[8, 5, 2]\n",
      "[9, 6, 3]\n"
     ]
    }
   ],
   "source": [
    "matrix = [\n",
    "    [1,2,3,4],\n",
    "    [5,6,7,8],\n",
    "    [9,10,11,12],\n",
    "    [13,14,12,16]\n",
    "]\n",
    "\n",
    "matrix = [\n",
    "    [1,2,3],\n",
    "    [4,5,6],\n",
    "    [7,8,9]\n",
    "]\n",
    "\n",
    "\n",
    "\n",
    "a=matrix[::-1]\n",
    "for i in range(0,len(a)):\n",
    "    matrix1 = []\n",
    "    for j in range(len(a)):\n",
    "        matrix1.extend([a[j][i]])\n",
    "    print(matrix1)\n",
    "    \n",
    "    \n",
    "    "
   ]
  },
  {
   "cell_type": "markdown",
   "id": "4dc2f68a",
   "metadata": {},
   "source": [
    "3. given a string containing digits from 2-9 inclusive, return all possible letter combination that the number could represent. return the answer in any order. A mapping of digit to letters (just like on the telephone buttons) is given below. Note that 1 does not map to any letters.\n",
    "\n",
    "input : digit = '23'  Output:['ad', 'ae', 'af', 'bd', 'be', 'bf', 'cd', 'ce', 'cf' ]\n",
    "\n",
    "input : digit = '2'   Output: ['a', 'b', 'c']"
   ]
  },
  {
   "cell_type": "code",
   "execution_count": 64,
   "id": "ed64ac20",
   "metadata": {},
   "outputs": [
    {
     "name": "stdout",
     "output_type": "stream",
     "text": [
      "['a', 'b', 'c']\n"
     ]
    }
   ],
   "source": [
    "class Solution():\n",
    "    \n",
    "    def letterCombinations(self, digits):\n",
    "        if len(digits) == 0:\n",
    "            return []\n",
    "        else:\n",
    "            characters = {2:\"abc\",3:\"def\",4:\"ghi\",5:\"jkl\",6:\"mno\",7:\"pqrs\",8:\"tuv\",9:\"wxyz\"}\n",
    "            result = []\n",
    "            self.solve(digits,characters,result)\n",
    "            return result\n",
    "    \n",
    "    def solve(self, digits, characters, result, current_string=\"\",current_level = 0):\n",
    "        if current_level == len(digits):\n",
    "            result.append(current_string)\n",
    "            return\n",
    "        for i in characters[int(digits[current_level])]:\n",
    "            self.solve(digits,characters,result,current_string+i,current_level+1)\n",
    "            \n",
    "            \n",
    "ob1 = Solution()\n",
    "print(ob1.letterCombinations('2'))"
   ]
  },
  {
   "cell_type": "code",
   "execution_count": 70,
   "id": "69c76a86",
   "metadata": {},
   "outputs": [
    {
     "name": "stdout",
     "output_type": "stream",
     "text": [
      "['a', 'b', 'c']\n"
     ]
    }
   ],
   "source": [
    "class Solution():\n",
    "    \n",
    "    def letterCombinations(self, digits):\n",
    "        if digits == 0 or digits == 1 or digits == '0' or digits == '1':\n",
    "            return []\n",
    "        else:\n",
    "            characters = {2:\"abc\",3:\"def\",4:\"ghi\",5:\"jkl\",6:\"mno\",7:\"pqrs\",8:\"tuv\",9:\"wxyz\"}\n",
    "            result = []\n",
    "            self.solve(digits,characters,result)\n",
    "            return result\n",
    "    \n",
    "    def solve(self, digits, characters, result, current_string=\"\",current_level = 0):\n",
    "        if current_level == len(digits):\n",
    "            result.append(current_string)\n",
    "            return\n",
    "        for i in characters[int(digits[current_level])]:\n",
    "            self.solve(digits,characters,result,current_string+i,current_level+1)\n",
    "            \n",
    "            \n",
    "ob1 = Solution()\n",
    "print(ob1.letterCombinations('2'))\n",
    "# ob2 = Solution()\n",
    "# print(ob2.letterCombinations('23'))"
   ]
  },
  {
   "cell_type": "markdown",
   "id": "04c11fec",
   "metadata": {},
   "source": [
    "### 4.Given 2 lists find the pan with adjacent elements having least sum\n",
    "- input : a = [1 ,2, 3, 4, 5] b = [0, -2, 34, 76, 6] output : [2, -2]\n",
    "- input : a = [-56, 27, 3, 4, 5] b = [0, 62, 34, -76, 6] output : [4, -76]"
   ]
  },
  {
   "cell_type": "code",
   "execution_count": null,
   "id": "0feb237c",
   "metadata": {},
   "outputs": [],
   "source": []
  },
  {
   "cell_type": "markdown",
   "id": "c0a21e94",
   "metadata": {},
   "source": [
    "### 5.input is a dictionary with a player name and their scores for last 4 games, print the player name and their highest score.\n",
    "input:\n",
    "{'sam':[2, 456, 580, 965],\n",
    "'jhon':[676, 0, 58, 56],\n",
    "'tim':[674, 2, 494, 778]\n",
    "}\n",
    "output:\n",
    "sam 965\n",
    "jhon 676\n",
    "tim 778"
   ]
  },
  {
   "cell_type": "code",
   "execution_count": 16,
   "id": "22ecedcb",
   "metadata": {},
   "outputs": [
    {
     "name": "stdout",
     "output_type": "stream",
     "text": [
      "sam 965\n",
      "jhon 676\n",
      "tim 674\n"
     ]
    }
   ],
   "source": [
    "dic1 = {\n",
    "    'sam': [2, 456, 580, 965],\n",
    "    'jhon': [676, 0, 58, 56],\n",
    "    'tim': [674, 2, 494, 78]\n",
    "}\n",
    "\n",
    "for i in dic1:\n",
    "    print(i, max(dic1[i]))"
   ]
  },
  {
   "cell_type": "markdown",
   "id": "6f6c7dc2",
   "metadata": {},
   "source": [
    "### 6. you are given an 4*4 2D matrix representing an image, rotate the image by 90 degrees (clockwise)."
   ]
  },
  {
   "cell_type": "code",
   "execution_count": 6,
   "id": "2997de3f",
   "metadata": {},
   "outputs": [
    {
     "name": "stdout",
     "output_type": "stream",
     "text": [
      "[7, 4, 1, 8, 5, 2, 9, 6, 3]\n"
     ]
    }
   ],
   "source": [
    "matrix1 = [\n",
    "    [1, 2, 3],\n",
    "    [4, 5, 6],\n",
    "    [7, 8, 9]\n",
    "]\n",
    "\n",
    "\n",
    "\n",
    "\n",
    "matrix = matrix1[::-1]\n",
    "a=0\n",
    "list1 = []\n",
    "for i in matrix:\n",
    "    \n",
    "    for j in matrix:\n",
    "        list1.append(j[a])\n",
    "    a += 1\n",
    "    \n",
    "print(list1)"
   ]
  },
  {
   "cell_type": "code",
   "execution_count": 1,
   "id": "de921126",
   "metadata": {},
   "outputs": [
    {
     "name": "stdout",
     "output_type": "stream",
     "text": [
      "[7, 4, 1]\n",
      "[8, 5, 2]\n",
      "[9, 6, 3]\n"
     ]
    }
   ],
   "source": [
    "matrix = [\n",
    "    [1,2,3],\n",
    "    [4,5,6],\n",
    "    [7,8,9]\n",
    "]\n",
    "\n",
    "\n",
    "\n",
    "a=matrix[::-1]\n",
    "for i in range(0,len(a)):\n",
    "    matrix1 = []\n",
    "    for j in range(len(a)):\n",
    "        matrix1.extend([a[j][i]])\n",
    "    print(matrix1)\n",
    "    "
   ]
  },
  {
   "cell_type": "markdown",
   "id": "af16c867",
   "metadata": {},
   "source": [
    "given a sorted array of distinct integers and a target value, return the index if the target is found. if not, return the index where it would be if it were inserted in order.\n",
    "Input:\n",
    "nums = [1, 3, 5, 6], target = 5\n",
    "\n",
    "output:2"
   ]
  },
  {
   "cell_type": "code",
   "execution_count": 10,
   "id": "27d8277c",
   "metadata": {},
   "outputs": [
    {
     "name": "stdout",
     "output_type": "stream",
     "text": [
      "0\n"
     ]
    }
   ],
   "source": [
    "nums = [1, 3, 5, 6]\n",
    "target = 2\n",
    "\n",
    "for i in range(len(nums)):\n",
    "    if nums[i] == target:\n",
    "        print(i)\n",
    "    if nums[i] < target:\n",
    "        print(i)\n",
    "        "
   ]
  },
  {
   "cell_type": "code",
   "execution_count": null,
   "id": "1a18ad10",
   "metadata": {},
   "outputs": [],
   "source": []
  }
 ],
 "metadata": {
  "kernelspec": {
   "display_name": "Python 3 (ipykernel)",
   "language": "python",
   "name": "python3"
  },
  "language_info": {
   "codemirror_mode": {
    "name": "ipython",
    "version": 3
   },
   "file_extension": ".py",
   "mimetype": "text/x-python",
   "name": "python",
   "nbconvert_exporter": "python",
   "pygments_lexer": "ipython3",
   "version": "3.10.4"
  }
 },
 "nbformat": 4,
 "nbformat_minor": 5
}
