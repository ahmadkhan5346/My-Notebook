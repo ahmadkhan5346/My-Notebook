{
 "cells": [
  {
   "cell_type": "markdown",
   "id": "ce607e36",
   "metadata": {},
   "source": [
    "# Dictionary :\n",
    "- Dictionary is a collection which is Unordered, Unidexable, value of dictionary Mutable, allow duplicate members,and Heterogeneous, Dictionary are created using curly bracket.{}\n",
    "- Hashkey Bubblelinkedlist(Algorithm) technique use in Dictionary data type\n",
    "- Insertion fast and Searching slow. Dictionary it is unpredictible\n",
    "- Dictionary is support item assignment only value"
   ]
  },
  {
   "cell_type": "markdown",
   "id": "42ea4502",
   "metadata": {},
   "source": [
    "# Accessing element of a dictionary"
   ]
  },
  {
   "cell_type": "code",
   "execution_count": 12,
   "id": "d361d9e0",
   "metadata": {},
   "outputs": [
    {
     "name": "stdout",
     "output_type": "stream",
     "text": [
      "sarfraz\n",
      "9702225346\n"
     ]
    }
   ],
   "source": [
    "# Retrieve value using the key name\n",
    "dic = {'name':'sarfraz', 'age':30, 'city':'mumbai', 'telephone':9702225346}\n",
    "print(dic['name'])\n",
    "print(dic.get('telephone'))"
   ]
  },
  {
   "cell_type": "markdown",
   "id": "47f81911",
   "metadata": {},
   "source": [
    "# Get all keys and Values"
   ]
  },
  {
   "cell_type": "code",
   "execution_count": 23,
   "id": "04dcf55c",
   "metadata": {},
   "outputs": [
    {
     "name": "stdout",
     "output_type": "stream",
     "text": [
      "<class 'dict_keys'>\n",
      "dict_keys(['name', 'age', 'city', 'telephone'])\n",
      "\n",
      "<class 'dict_values'>\n",
      "dict_values(['sarfraz', 30, 'mumbai', 9702225346])\n"
     ]
    }
   ],
   "source": [
    "# keys() used to Return the list of all keys present in the dictionary.\n",
    "# Get all keys\n",
    "dic = {'name':'sarfraz', 'age':30, 'city':'mumbai', 'telephone':9702225346}\n",
    "print(type(dic.keys()))\n",
    "print(dic.keys())\n",
    "\n",
    "print()\n",
    "\n",
    "# values() used to Return the list of all values present in the dictionary.\n",
    "# Get all values\n",
    "print(type(dic.values()))\n",
    "print(dic.values())"
   ]
  },
  {
   "cell_type": "code",
   "execution_count": 25,
   "id": "406c5d25",
   "metadata": {},
   "outputs": [
    {
     "name": "stdout",
     "output_type": "stream",
     "text": [
      "<class 'dict_items'>\n",
      "dict_items([('name', 'sarfraz'), ('age', 30), ('city', 'mumbai'), ('telephone', 9702225346)])\n"
     ]
    }
   ],
   "source": [
    "# items() used to Return all items present in the dictionary. each item will be inside a tuple as a key-value pair.\n",
    "# Get all key-value pair\n",
    "dic = {'name':'sarfraz', 'age':30, 'city':'mumbai', 'telephone':9702225346}\n",
    "print(type(dic.items()))\n",
    "print(dic.items())"
   ]
  },
  {
   "cell_type": "markdown",
   "id": "4afc3e53",
   "metadata": {},
   "source": [
    "# Iterating a Dictionary"
   ]
  },
  {
   "cell_type": "code",
   "execution_count": 34,
   "id": "13e63532",
   "metadata": {},
   "outputs": [
    {
     "name": "stdout",
     "output_type": "stream",
     "text": [
      "key : value\n",
      "name : sarfraz\n",
      "age : 30\n",
      "city : mumbai\n",
      "telephone : 9702225346\n"
     ]
    }
   ],
   "source": [
    "dic = {'name':'sarfraz', 'age':30, 'city':'mumbai', 'telephone':9702225346}\n",
    "print('key', ':', 'value')\n",
    "for key in dic:\n",
    "    print(key, ':', dic[key])"
   ]
  },
  {
   "cell_type": "code",
   "execution_count": 2,
   "id": "0c97d995",
   "metadata": {},
   "outputs": [
    {
     "name": "stdout",
     "output_type": "stream",
     "text": [
      "key value\n",
      "name sarfraz\n",
      "age 30\n",
      "city mumbai\n",
      "telephone 9702225346\n"
     ]
    }
   ],
   "source": [
    "dic = {'key':'value', 'name':'sarfraz', 'age':30, 'city':'mumbai', 'telephone':9702225346}\n",
    "for key_value in dic.items():\n",
    "    print(key_value[0], key_value[1])"
   ]
  },
  {
   "cell_type": "markdown",
   "id": "46a9aa0c",
   "metadata": {},
   "source": [
    "# Find a length of a dictionary"
   ]
  },
  {
   "cell_type": "code",
   "execution_count": 1,
   "id": "ca6a3b23",
   "metadata": {},
   "outputs": [
    {
     "name": "stdout",
     "output_type": "stream",
     "text": [
      "5\n"
     ]
    }
   ],
   "source": [
    "dic = {'key':'value', 'name':'sarfraz', 'age':30, 'city':'mumbai', 'telephone':9702225346}\n",
    "dic1 = len(dic)\n",
    "print(dic1)"
   ]
  },
  {
   "cell_type": "markdown",
   "id": "ef568034",
   "metadata": {},
   "source": [
    "## Adding items to the dictionary"
   ]
  },
  {
   "cell_type": "code",
   "execution_count": 4,
   "id": "6883f489",
   "metadata": {},
   "outputs": [
    {
     "name": "stdout",
     "output_type": "stream",
     "text": [
      "{'key': 'value', 'name': 'sarfraz', 'age': 30, 'city': 'mumbai', 'telephone': 9702225346, 'suhail': 22, 'sadique': 23}\n"
     ]
    }
   ],
   "source": [
    "dic = {'key':'value', 'name':'sarfraz', 'age':30, 'city':'mumbai', 'telephone':9702225346}\n",
    "# key-value assignment\n",
    "dic['suhail'] = 22\n",
    "# update() method is used to add new item\n",
    "dic.update({'sadique':23})\n",
    "print(dic)"
   ]
  },
  {
   "cell_type": "code",
   "execution_count": 6,
   "id": "e7d42d77",
   "metadata": {},
   "outputs": [
    {
     "name": "stdout",
     "output_type": "stream",
     "text": [
      "{'name': 'sarfraz', 'age': 30, 'city': 'mumbai', 'roll': 104}\n"
     ]
    }
   ],
   "source": [
    "dic = {'name':'sarfraz', 'age':30}\n",
    "dic.update({'city':'mumbai', 'roll':104})\n",
    "print(dic)"
   ]
  },
  {
   "cell_type": "code",
   "execution_count": 7,
   "id": "65e782ba",
   "metadata": {},
   "outputs": [
    {
     "name": "stdout",
     "output_type": "stream",
     "text": [
      "{'name': 'sarfraz', 'age': 30, 'sadik': 22, 'city': 'mumbai'}\n"
     ]
    }
   ],
   "source": [
    "dic = {'name':'sarfraz', 'age':30}\n",
    "dic.update([('sadik',22), ('city', 'mumbai')])\n",
    "print(dic)"
   ]
  },
  {
   "cell_type": "code",
   "execution_count": 3,
   "id": "b8613e27",
   "metadata": {},
   "outputs": [
    {
     "name": "stdout",
     "output_type": "stream",
     "text": [
      "{'name': 'sarfraz', 'age': 30, 'city': 'mumbai'}\n"
     ]
    }
   ],
   "source": [
    "# setdefault() method is used to add element in dictionary\n",
    "dic = {'name':'sarfraz', 'age':30}\n",
    "dic.setdefault('city', 'mumbai')\n",
    "print(dic)"
   ]
  },
  {
   "cell_type": "code",
   "execution_count": 4,
   "id": "2397b7d3",
   "metadata": {},
   "outputs": [
    {
     "name": "stdout",
     "output_type": "stream",
     "text": [
      "{'name': 'sarfraz', 'age': 30, 'city': None}\n"
     ]
    }
   ],
   "source": [
    "# setdefault() method is used to add element in dictionary if value doesnot exit return none\n",
    "dic = {'name':'sarfraz', 'age':30}\n",
    "dic.setdefault('city')\n",
    "print(dic)"
   ]
  },
  {
   "cell_type": "code",
   "execution_count": 2,
   "id": "b3728091",
   "metadata": {},
   "outputs": [
    {
     "name": "stdout",
     "output_type": "stream",
     "text": [
      "{'name': 'sarfraz', 'age': 30}\n"
     ]
    }
   ],
   "source": [
    "dic = {'name':'sarfraz', 'age':30}\n",
    "dic.setdefault('name', 'ahmad')\n",
    "print(dic)"
   ]
  },
  {
   "cell_type": "code",
   "execution_count": 11,
   "id": "d680f1d3",
   "metadata": {},
   "outputs": [
    {
     "name": "stdout",
     "output_type": "stream",
     "text": [
      "name : sarfraz\n",
      "age : 30\n"
     ]
    }
   ],
   "source": [
    "dic = {'name':'sarfraz', 'age':30}\n",
    "for key, value in dic.items():\n",
    "    print(key, ':', value) "
   ]
  },
  {
   "cell_type": "markdown",
   "id": "d2e70909",
   "metadata": {},
   "source": [
    "# Modify the values of the dictionary keys"
   ]
  },
  {
   "cell_type": "code",
   "execution_count": 6,
   "id": "cae35752",
   "metadata": {},
   "outputs": [
    {
     "name": "stdout",
     "output_type": "stream",
     "text": [
      "{'name': 'sarfraz', 'age': 30}\n",
      "{'name': 'sarfraz', 'age': 31}\n",
      "{'name': 'sarfraz', 'age': 32}\n"
     ]
    }
   ],
   "source": [
    "# support item assignment\n",
    "dic = {'name':'sarfraz', 'age':30}\n",
    "print(dic)\n",
    "# updating the age\n",
    "dic['age'] = 31\n",
    "print(dic)\n",
    "\n",
    "# updating the country name using update() method\n",
    "dic.update({'age':32})\n",
    "print(dic)"
   ]
  },
  {
   "cell_type": "markdown",
   "id": "f1cf803b",
   "metadata": {},
   "source": [
    "## Removing items from the dictionary"
   ]
  },
  {
   "cell_type": "code",
   "execution_count": 13,
   "id": "630ed1d0",
   "metadata": {},
   "outputs": [
    {
     "name": "stdout",
     "output_type": "stream",
     "text": [
      "('country', 'india')\n",
      "30\n"
     ]
    }
   ],
   "source": [
    "# pop(key[d])\n",
    "dic = {'name':'sarfraz', 'age':30, 'country': 'india'}\n",
    "# Remove last inserted item from the dictionary\n",
    "remove_item = dic.popitem()\n",
    "print(remove_item)\n",
    "# Remove key from the dictionary\n",
    "remove_key = dic.pop('age')\n",
    "print(remove_key)\n"
   ]
  },
  {
   "cell_type": "code",
   "execution_count": 16,
   "id": "3f5d26c3",
   "metadata": {},
   "outputs": [
    {
     "name": "stdout",
     "output_type": "stream",
     "text": [
      "{'name': 'sarfraz', 'country': 'india', 'phone': 97022}\n",
      "{'name': 'sarfraz', 'country': 'india'}\n"
     ]
    }
   ],
   "source": [
    "dic = {'name':'sarfraz', 'age':30, 'country': 'india', 'phone':97022}\n",
    "dic.pop('age')\n",
    "print(dic)\n",
    "\n",
    "dic.popitem()\n",
    "print(dic)"
   ]
  },
  {
   "cell_type": "code",
   "execution_count": 21,
   "id": "9763ccbe",
   "metadata": {},
   "outputs": [
    {
     "name": "stdout",
     "output_type": "stream",
     "text": [
      "{'name': 'sarfraz', 'country': 'india', 'phone': 97022}\n",
      "{}\n"
     ]
    }
   ],
   "source": [
    "dic = {'name':'sarfraz', 'age':30, 'country': 'india', 'phone':97022}\n",
    "# delete key\n",
    "del dic['age']\n",
    "print(dic)\n",
    "\n",
    "# remove all item from dict\n",
    "dic.clear()\n",
    "print(dic)"
   ]
  },
  {
   "cell_type": "code",
   "execution_count": 23,
   "id": "5fab89ef",
   "metadata": {},
   "outputs": [
    {
     "ename": "NameError",
     "evalue": "name 'dic' is not defined",
     "output_type": "error",
     "traceback": [
      "\u001b[1;31m---------------------------------------------------------------------------\u001b[0m",
      "\u001b[1;31mNameError\u001b[0m                                 Traceback (most recent call last)",
      "Input \u001b[1;32mIn [23]\u001b[0m, in \u001b[0;36m<cell line: 3>\u001b[1;34m()\u001b[0m\n\u001b[0;32m      1\u001b[0m dic \u001b[38;5;241m=\u001b[39m {\u001b[38;5;124m'\u001b[39m\u001b[38;5;124mname\u001b[39m\u001b[38;5;124m'\u001b[39m:\u001b[38;5;124m'\u001b[39m\u001b[38;5;124msarfraz\u001b[39m\u001b[38;5;124m'\u001b[39m, \u001b[38;5;124m'\u001b[39m\u001b[38;5;124mage\u001b[39m\u001b[38;5;124m'\u001b[39m:\u001b[38;5;241m30\u001b[39m, \u001b[38;5;124m'\u001b[39m\u001b[38;5;124mcountry\u001b[39m\u001b[38;5;124m'\u001b[39m: \u001b[38;5;124m'\u001b[39m\u001b[38;5;124mindia\u001b[39m\u001b[38;5;124m'\u001b[39m, \u001b[38;5;124m'\u001b[39m\u001b[38;5;124mphone\u001b[39m\u001b[38;5;124m'\u001b[39m:\u001b[38;5;241m97022\u001b[39m}\n\u001b[0;32m      2\u001b[0m \u001b[38;5;28;01mdel\u001b[39;00m dic\n\u001b[1;32m----> 3\u001b[0m \u001b[38;5;28mprint\u001b[39m(\u001b[43mdic\u001b[49m)\n",
      "\u001b[1;31mNameError\u001b[0m: name 'dic' is not defined"
     ]
    }
   ],
   "source": [
    "# Delete the entire dictionary\n",
    "dic = {'name':'sarfraz', 'age':30, 'country': 'india', 'phone':97022}\n",
    "del dic\n",
    "print(dic)"
   ]
  },
  {
   "cell_type": "markdown",
   "id": "2654879e",
   "metadata": {},
   "source": [
    "## Checking if a key exists"
   ]
  },
  {
   "cell_type": "code",
   "execution_count": 30,
   "id": "2827ee2d",
   "metadata": {},
   "outputs": [
    {
     "name": "stdout",
     "output_type": "stream",
     "text": [
      "phone number: 97022\n"
     ]
    }
   ],
   "source": [
    "# Get the list of keys and check if 'country' key is present\n",
    "dic = {'name':'sarfraz', 'age':30, 'country': 'india', 'phone':97022}\n",
    "key_name = 'phone'\n",
    "if key_name in dic.keys():\n",
    "    print('phone number:',dic[key_name])"
   ]
  },
  {
   "cell_type": "code",
   "execution_count": null,
   "id": "d1830726",
   "metadata": {},
   "outputs": [],
   "source": [
    "# Join two dictionary\n",
    "dic1 = {'name':'sarfraz', 'age':30}\n",
    "dic2 = {'country':'india', 'phone':97022}\n",
    "dic1.update(dic2)\n",
    "print(dic1)"
   ]
  },
  {
   "cell_type": "code",
   "execution_count": 35,
   "id": "d1d4dff1",
   "metadata": {},
   "outputs": [
    {
     "name": "stdout",
     "output_type": "stream",
     "text": [
      "None\n"
     ]
    }
   ],
   "source": [
    "# Join two dictionary\n",
    "dic1 = {'name':'sarfraz', 'age':30}\n",
    "dic2 = {'country':'india', 'phone':97022}\n",
    "dic = dic1.update(dic2)\n",
    "print(dic)"
   ]
  },
  {
   "cell_type": "markdown",
   "id": "e46b9f07",
   "metadata": {},
   "source": [
    "## Using **kwargs to unpack"
   ]
  },
  {
   "cell_type": "code",
   "execution_count": null,
   "id": "ad254aa5",
   "metadata": {},
   "outputs": [],
   "source": []
  }
 ],
 "metadata": {
  "kernelspec": {
   "display_name": "Python 3 (ipykernel)",
   "language": "python",
   "name": "python3"
  },
  "language_info": {
   "codemirror_mode": {
    "name": "ipython",
    "version": 3
   },
   "file_extension": ".py",
   "mimetype": "text/x-python",
   "name": "python",
   "nbconvert_exporter": "python",
   "pygments_lexer": "ipython3",
   "version": "3.10.4"
  }
 },
 "nbformat": 4,
 "nbformat_minor": 5
}
