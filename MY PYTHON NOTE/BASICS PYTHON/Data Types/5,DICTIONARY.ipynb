{
 "cells": [
  {
   "cell_type": "markdown",
   "id": "ce607e36",
   "metadata": {},
   "source": [
    "# Dictionary :\n",
    "- Dictionary is a collection which is Unordered, value of dictionary Mutable, allow duplicate members,and Heterogeneous,Unidexable, Dictionary are created using curly bracket.{}\n",
    "- Hashkey Bubblelinkedlist(Algorithm) technique use in Dictionary data type\n",
    "- Insertion fast and Searching slow. Dictionary it is unpredictible"
   ]
  },
  {
   "cell_type": "markdown",
   "id": "42ea4502",
   "metadata": {},
   "source": [
    "# Accessing element of a dictionary"
   ]
  },
  {
   "cell_type": "code",
   "execution_count": 12,
   "id": "d361d9e0",
   "metadata": {},
   "outputs": [
    {
     "name": "stdout",
     "output_type": "stream",
     "text": [
      "sarfraz\n",
      "9702225346\n"
     ]
    }
   ],
   "source": [
    "# Retrieve value using the key name\n",
    "dic = {'name':'sarfraz', 'age':30, 'city':'mumbai', 'telephone':9702225346}\n",
    "print(dic['name'])\n",
    "print(dic.get('telephone'))"
   ]
  },
  {
   "cell_type": "markdown",
   "id": "47f81911",
   "metadata": {},
   "source": [
    "# Get all keys and Values"
   ]
  },
  {
   "cell_type": "code",
   "execution_count": 23,
   "id": "04dcf55c",
   "metadata": {},
   "outputs": [
    {
     "name": "stdout",
     "output_type": "stream",
     "text": [
      "<class 'dict_keys'>\n",
      "dict_keys(['name', 'age', 'city', 'telephone'])\n",
      "\n",
      "<class 'dict_values'>\n",
      "dict_values(['sarfraz', 30, 'mumbai', 9702225346])\n"
     ]
    }
   ],
   "source": [
    "# keys() used to Return the list of all keys present in the dictionary.\n",
    "# Get all keys\n",
    "dic = {'name':'sarfraz', 'age':30, 'city':'mumbai', 'telephone':9702225346}\n",
    "print(type(dic.keys()))\n",
    "print(dic.keys())\n",
    "\n",
    "print()\n",
    "\n",
    "# values() used to Return the list of all values present in the dictionary.\n",
    "# Get all values\n",
    "print(type(dic.values()))\n",
    "print(dic.values())"
   ]
  },
  {
   "cell_type": "code",
   "execution_count": 25,
   "id": "406c5d25",
   "metadata": {},
   "outputs": [
    {
     "name": "stdout",
     "output_type": "stream",
     "text": [
      "<class 'dict_items'>\n",
      "dict_items([('name', 'sarfraz'), ('age', 30), ('city', 'mumbai'), ('telephone', 9702225346)])\n"
     ]
    }
   ],
   "source": [
    "# items() used to Return all items present in the dictionary. each item will be inside a tuple as a key-value pair.\n",
    "# Get all key-value pair\n",
    "dic = {'name':'sarfraz', 'age':30, 'city':'mumbai', 'telephone':9702225346}\n",
    "print(type(dic.items()))\n",
    "print(dic.items())"
   ]
  },
  {
   "cell_type": "markdown",
   "id": "4afc3e53",
   "metadata": {},
   "source": [
    "# Iterating a Dictionary"
   ]
  },
  {
   "cell_type": "code",
   "execution_count": 34,
   "id": "13e63532",
   "metadata": {},
   "outputs": [
    {
     "name": "stdout",
     "output_type": "stream",
     "text": [
      "key : value\n",
      "name : sarfraz\n",
      "age : 30\n",
      "city : mumbai\n",
      "telephone : 9702225346\n"
     ]
    }
   ],
   "source": [
    "dic = {'name':'sarfraz', 'age':30, 'city':'mumbai', 'telephone':9702225346}\n",
    "print('key', ':', 'value')\n",
    "for key in dic:\n",
    "    print(key, ':', dic[key])"
   ]
  },
  {
   "cell_type": "code",
   "execution_count": 2,
   "id": "0c97d995",
   "metadata": {},
   "outputs": [
    {
     "name": "stdout",
     "output_type": "stream",
     "text": [
      "key value\n",
      "name sarfraz\n",
      "age 30\n",
      "city mumbai\n",
      "telephone 9702225346\n"
     ]
    }
   ],
   "source": [
    "dic = {'key':'value', 'name':'sarfraz', 'age':30, 'city':'mumbai', 'telephone':9702225346}\n",
    "for key_value in dic.items():\n",
    "    print(key_value[0], key_value[1])"
   ]
  },
  {
   "cell_type": "markdown",
   "id": "46a9aa0c",
   "metadata": {},
   "source": [
    "# Find a length of a dictionary"
   ]
  },
  {
   "cell_type": "code",
   "execution_count": null,
   "id": "ca6a3b23",
   "metadata": {},
   "outputs": [],
   "source": []
  },
  {
   "cell_type": "code",
   "execution_count": null,
   "id": "6883f489",
   "metadata": {},
   "outputs": [],
   "source": []
  },
  {
   "cell_type": "code",
   "execution_count": null,
   "id": "e7d42d77",
   "metadata": {},
   "outputs": [],
   "source": []
  },
  {
   "cell_type": "code",
   "execution_count": null,
   "id": "65e782ba",
   "metadata": {},
   "outputs": [],
   "source": []
  },
  {
   "cell_type": "code",
   "execution_count": null,
   "id": "b8613e27",
   "metadata": {},
   "outputs": [],
   "source": []
  },
  {
   "cell_type": "code",
   "execution_count": null,
   "id": "2397b7d3",
   "metadata": {},
   "outputs": [],
   "source": []
  },
  {
   "cell_type": "code",
   "execution_count": null,
   "id": "b3728091",
   "metadata": {},
   "outputs": [],
   "source": []
  },
  {
   "cell_type": "code",
   "execution_count": null,
   "id": "d680f1d3",
   "metadata": {},
   "outputs": [],
   "source": []
  },
  {
   "cell_type": "code",
   "execution_count": null,
   "id": "ab360fee",
   "metadata": {},
   "outputs": [],
   "source": []
  },
  {
   "cell_type": "code",
   "execution_count": null,
   "id": "cae35752",
   "metadata": {},
   "outputs": [],
   "source": []
  },
  {
   "cell_type": "code",
   "execution_count": 2,
   "id": "37e398bc",
   "metadata": {},
   "outputs": [
    {
     "name": "stdout",
     "output_type": "stream",
     "text": [
      "{'sarfraz': [1233]}\n"
     ]
    }
   ],
   "source": [
    "dic = {'sarfraz':[1233]}\n",
    "print(dic)"
   ]
  },
  {
   "cell_type": "code",
   "execution_count": 10,
   "id": "4f163bf0",
   "metadata": {},
   "outputs": [
    {
     "name": "stdout",
     "output_type": "stream",
     "text": [
      "{'sarfraz': 30}\n"
     ]
    }
   ],
   "source": [
    "dic = dict({'sarfraz':30})\n",
    "print(dic)"
   ]
  },
  {
   "cell_type": "code",
   "execution_count": null,
   "id": "bb2d017c",
   "metadata": {},
   "outputs": [],
   "source": []
  }
 ],
 "metadata": {
  "kernelspec": {
   "display_name": "Python 3 (ipykernel)",
   "language": "python",
   "name": "python3"
  },
  "language_info": {
   "codemirror_mode": {
    "name": "ipython",
    "version": 3
   },
   "file_extension": ".py",
   "mimetype": "text/x-python",
   "name": "python",
   "nbconvert_exporter": "python",
   "pygments_lexer": "ipython3",
   "version": "3.10.4"
  }
 },
 "nbformat": 4,
 "nbformat_minor": 5
}
