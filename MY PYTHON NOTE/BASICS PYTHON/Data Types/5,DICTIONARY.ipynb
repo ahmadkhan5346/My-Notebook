{
 "cells": [
  {
   "cell_type": "markdown",
   "id": "ce607e36",
   "metadata": {},
   "source": [
    "# Dictionary :\n",
    "- Dictionary is a collection which is ordered, Mutable, Unidexable, value of dictionary allow duplicate members,and Heterogeneous, Dictionary are created using curly bracket.{}\n",
    "- Hashkey Bubblelinkedlist(Algorithm) technique use in Dictionary data type\n",
    "- Insertion fast and Searching slow.\n",
    "- Dictionary is support item assignment only value"
   ]
  },
  {
   "cell_type": "markdown",
   "id": "42ea4502",
   "metadata": {},
   "source": [
    "# Accessing element of a dictionary"
   ]
  },
  {
   "cell_type": "code",
   "execution_count": 5,
   "id": "d361d9e0",
   "metadata": {},
   "outputs": [
    {
     "name": "stdout",
     "output_type": "stream",
     "text": [
      "sarfraz\n",
      "None\n"
     ]
    }
   ],
   "source": [
    "# Retrieve value using the key name\n",
    "dic = {'name':'sarfraz', 'age':30, 'city':'mumbai', 'telephone':9702225346}\n",
    "print(dic['name'])\n",
    "print(dic.get('tele'))"
   ]
  },
  {
   "cell_type": "markdown",
   "id": "47f81911",
   "metadata": {},
   "source": [
    "# Get all keys and Values"
   ]
  },
  {
   "cell_type": "code",
   "execution_count": 23,
   "id": "04dcf55c",
   "metadata": {},
   "outputs": [
    {
     "name": "stdout",
     "output_type": "stream",
     "text": [
      "<class 'dict_keys'>\n",
      "dict_keys(['name', 'age', 'city', 'telephone'])\n",
      "\n",
      "<class 'dict_values'>\n",
      "dict_values(['sarfraz', 30, 'mumbai', 9702225346])\n"
     ]
    }
   ],
   "source": [
    "# keys() used to Return the list of all keys present in the dictionary.\n",
    "# Get all keys\n",
    "dic = {'name':'sarfraz', 'age':30, 'city':'mumbai', 'telephone':9702225346}\n",
    "print(type(dic.keys()))\n",
    "print(dic.keys())\n",
    "\n",
    "print()\n",
    "\n",
    "# values() used to Return the list of all values present in the dictionary.\n",
    "# Get all values\n",
    "print(type(dic.values()))\n",
    "print(dic.values())"
   ]
  },
  {
   "cell_type": "code",
   "execution_count": 25,
   "id": "406c5d25",
   "metadata": {},
   "outputs": [
    {
     "name": "stdout",
     "output_type": "stream",
     "text": [
      "<class 'dict_items'>\n",
      "dict_items([('name', 'sarfraz'), ('age', 30), ('city', 'mumbai'), ('telephone', 9702225346)])\n"
     ]
    }
   ],
   "source": [
    "# items() used to Return all items present in the dictionary. each item will be inside a tuple as a key-value pair.\n",
    "# Get all key-value pair\n",
    "dic = {'name':'sarfraz', 'age':30, 'city':'mumbai', 'telephone':9702225346}\n",
    "print(type(dic.items()))\n",
    "print(dic.items())"
   ]
  },
  {
   "cell_type": "markdown",
   "id": "4afc3e53",
   "metadata": {},
   "source": [
    "# Iterating a Dictionary"
   ]
  },
  {
   "cell_type": "code",
   "execution_count": 34,
   "id": "13e63532",
   "metadata": {},
   "outputs": [
    {
     "name": "stdout",
     "output_type": "stream",
     "text": [
      "key : value\n",
      "name : sarfraz\n",
      "age : 30\n",
      "city : mumbai\n",
      "telephone : 9702225346\n"
     ]
    }
   ],
   "source": [
    "dic = {'name':'sarfraz', 'age':30, 'city':'mumbai', 'telephone':9702225346}\n",
    "print('key', ':', 'value')\n",
    "for key in dic:\n",
    "    print(key, ':', dic[key])"
   ]
  },
  {
   "cell_type": "code",
   "execution_count": 2,
   "id": "0c97d995",
   "metadata": {},
   "outputs": [
    {
     "name": "stdout",
     "output_type": "stream",
     "text": [
      "key value\n",
      "name sarfraz\n",
      "age 30\n",
      "city mumbai\n",
      "telephone 9702225346\n"
     ]
    }
   ],
   "source": [
    "dic = {'key':'value', 'name':'sarfraz', 'age':30, 'city':'mumbai', 'telephone':9702225346}\n",
    "for key_value in dic.items():\n",
    "    print(key_value[0], key_value[1])"
   ]
  },
  {
   "cell_type": "markdown",
   "id": "46a9aa0c",
   "metadata": {},
   "source": [
    "# Find a length of a dictionary"
   ]
  },
  {
   "cell_type": "code",
   "execution_count": 1,
   "id": "ca6a3b23",
   "metadata": {},
   "outputs": [
    {
     "name": "stdout",
     "output_type": "stream",
     "text": [
      "5\n"
     ]
    }
   ],
   "source": [
    "dic = {'key':'value', 'name':'sarfraz', 'age':30, 'city':'mumbai', 'telephone':9702225346}\n",
    "dic1 = len(dic)\n",
    "print(dic1)"
   ]
  },
  {
   "cell_type": "markdown",
   "id": "ef568034",
   "metadata": {},
   "source": [
    "## Adding items to the dictionary"
   ]
  },
  {
   "cell_type": "code",
   "execution_count": 4,
   "id": "6883f489",
   "metadata": {},
   "outputs": [
    {
     "name": "stdout",
     "output_type": "stream",
     "text": [
      "{'key': 'value', 'name': 'sarfraz', 'age': 30, 'city': 'mumbai', 'telephone': 9702225346, 'suhail': 22, 'sadique': 23}\n"
     ]
    }
   ],
   "source": [
    "dic = {'key':'value', 'name':'sarfraz', 'age':30, 'city':'mumbai', 'telephone':9702225346}\n",
    "# key-value assignment\n",
    "dic['suhail'] = 22\n",
    "# update() method is used to add new item\n",
    "dic.update({'sadique':23})\n",
    "print(dic)"
   ]
  },
  {
   "cell_type": "code",
   "execution_count": 6,
   "id": "e7d42d77",
   "metadata": {},
   "outputs": [
    {
     "name": "stdout",
     "output_type": "stream",
     "text": [
      "{'name': 'sarfraz', 'age': 30, 'city': 'mumbai', 'roll': 104}\n"
     ]
    }
   ],
   "source": [
    "dic = {'name':'sarfraz', 'age':30}\n",
    "dic.update({'city':'mumbai', 'roll':104})\n",
    "print(dic)"
   ]
  },
  {
   "cell_type": "code",
   "execution_count": 7,
   "id": "65e782ba",
   "metadata": {},
   "outputs": [
    {
     "name": "stdout",
     "output_type": "stream",
     "text": [
      "{'name': 'sarfraz', 'age': 30, 'sadik': 22, 'city': 'mumbai'}\n"
     ]
    }
   ],
   "source": [
    "dic = {'name':'sarfraz', 'age':30}\n",
    "dic.update([('sadik',22), ('city', 'mumbai')])\n",
    "print(dic)"
   ]
  },
  {
   "cell_type": "code",
   "execution_count": 2,
   "id": "b8613e27",
   "metadata": {},
   "outputs": [
    {
     "name": "stdout",
     "output_type": "stream",
     "text": [
      "{'name': 'sarfraz', 'age': 30, 'city': 'mumbai'}\n"
     ]
    }
   ],
   "source": [
    "# setdefault() method is used to add element in dictionary\n",
    "dic = {'name':'sarfraz', 'age':30}\n",
    "dic.setdefault('city', 'mumbai')\n",
    "print(dic)"
   ]
  },
  {
   "cell_type": "code",
   "execution_count": 4,
   "id": "2397b7d3",
   "metadata": {},
   "outputs": [
    {
     "name": "stdout",
     "output_type": "stream",
     "text": [
      "{'name': 'sarfraz', 'age': 30, 'city': None}\n"
     ]
    }
   ],
   "source": [
    "# setdefault() method is used to add element in dictionary if value doesnot exit return none\n",
    "dic = {'name':'sarfraz', 'age':30}\n",
    "dic.setdefault('city')\n",
    "print(dic)"
   ]
  },
  {
   "cell_type": "code",
   "execution_count": 2,
   "id": "b3728091",
   "metadata": {},
   "outputs": [
    {
     "name": "stdout",
     "output_type": "stream",
     "text": [
      "{'name': 'sarfraz', 'age': 30}\n"
     ]
    }
   ],
   "source": [
    "dic = {'name':'sarfraz', 'age':30}\n",
    "dic.setdefault('name', 'ahmad')\n",
    "print(dic)"
   ]
  },
  {
   "cell_type": "code",
   "execution_count": 11,
   "id": "d680f1d3",
   "metadata": {},
   "outputs": [
    {
     "name": "stdout",
     "output_type": "stream",
     "text": [
      "name : sarfraz\n",
      "age : 30\n"
     ]
    }
   ],
   "source": [
    "dic = {'name':'sarfraz', 'age':30}\n",
    "for key, value in dic.items():\n",
    "    print(key, ':', value) "
   ]
  },
  {
   "cell_type": "markdown",
   "id": "d2e70909",
   "metadata": {},
   "source": [
    "# Modify the values of the dictionary keys"
   ]
  },
  {
   "cell_type": "code",
   "execution_count": 6,
   "id": "cae35752",
   "metadata": {},
   "outputs": [
    {
     "name": "stdout",
     "output_type": "stream",
     "text": [
      "{'name': 'sarfraz', 'age': 30}\n",
      "{'name': 'sarfraz', 'age': 31}\n",
      "{'name': 'sarfraz', 'age': 32}\n"
     ]
    }
   ],
   "source": [
    "# support item assignment\n",
    "dic = {'name':'sarfraz', 'age':30}\n",
    "print(dic)\n",
    "# updating the age\n",
    "dic['age'] = 31\n",
    "print(dic)\n",
    "\n",
    "# updating the country name using update() method\n",
    "dic.update({'age':32})\n",
    "print(dic)"
   ]
  },
  {
   "cell_type": "markdown",
   "id": "f1cf803b",
   "metadata": {},
   "source": [
    "## Removing items from the dictionary"
   ]
  },
  {
   "cell_type": "code",
   "execution_count": 1,
   "id": "630ed1d0",
   "metadata": {},
   "outputs": [
    {
     "name": "stdout",
     "output_type": "stream",
     "text": [
      "('country', 'india')\n",
      "{'name': 'sarfraz', 'age': 30}\n",
      "30\n"
     ]
    }
   ],
   "source": [
    "# pop(key[d])\n",
    "dic = {'name':'sarfraz', 'age':30, 'country': 'india'}\n",
    "# Remove last inserted item from the dictionary\n",
    "remove_item = dic.popitem()\n",
    "print(remove_item)\n",
    "print(dic)\n",
    "# Remove key from the dictionary\n",
    "remove_key = dic.pop('age')\n",
    "print(remove_key)"
   ]
  },
  {
   "cell_type": "code",
   "execution_count": 4,
   "id": "3f5d26c3",
   "metadata": {},
   "outputs": [
    {
     "name": "stdout",
     "output_type": "stream",
     "text": [
      "{'name': 'sarfraz', 'country': 'india', 'phone': 97022}\n",
      "{'name': 'sarfraz', 'country': 'india'}\n"
     ]
    }
   ],
   "source": [
    "dic = {'name':'sarfraz', 'age':30, 'country': 'india', 'phone':97022}\n",
    "dic.pop('age')\n",
    "print(dic)\n",
    "\n",
    "dic.popitem()\n",
    "print(dic)"
   ]
  },
  {
   "cell_type": "code",
   "execution_count": 21,
   "id": "9763ccbe",
   "metadata": {},
   "outputs": [
    {
     "name": "stdout",
     "output_type": "stream",
     "text": [
      "{'name': 'sarfraz', 'country': 'india', 'phone': 97022}\n",
      "{}\n"
     ]
    }
   ],
   "source": [
    "dic = {'name':'sarfraz', 'age':30, 'country': 'india', 'phone':97022}\n",
    "# delete key\n",
    "del dic['age']\n",
    "print(dic)\n",
    "\n",
    "# remove all item from dict\n",
    "dic.clear()\n",
    "print(dic)"
   ]
  },
  {
   "cell_type": "code",
   "execution_count": 23,
   "id": "5fab89ef",
   "metadata": {},
   "outputs": [
    {
     "ename": "NameError",
     "evalue": "name 'dic' is not defined",
     "output_type": "error",
     "traceback": [
      "\u001b[1;31m---------------------------------------------------------------------------\u001b[0m",
      "\u001b[1;31mNameError\u001b[0m                                 Traceback (most recent call last)",
      "Input \u001b[1;32mIn [23]\u001b[0m, in \u001b[0;36m<cell line: 3>\u001b[1;34m()\u001b[0m\n\u001b[0;32m      1\u001b[0m dic \u001b[38;5;241m=\u001b[39m {\u001b[38;5;124m'\u001b[39m\u001b[38;5;124mname\u001b[39m\u001b[38;5;124m'\u001b[39m:\u001b[38;5;124m'\u001b[39m\u001b[38;5;124msarfraz\u001b[39m\u001b[38;5;124m'\u001b[39m, \u001b[38;5;124m'\u001b[39m\u001b[38;5;124mage\u001b[39m\u001b[38;5;124m'\u001b[39m:\u001b[38;5;241m30\u001b[39m, \u001b[38;5;124m'\u001b[39m\u001b[38;5;124mcountry\u001b[39m\u001b[38;5;124m'\u001b[39m: \u001b[38;5;124m'\u001b[39m\u001b[38;5;124mindia\u001b[39m\u001b[38;5;124m'\u001b[39m, \u001b[38;5;124m'\u001b[39m\u001b[38;5;124mphone\u001b[39m\u001b[38;5;124m'\u001b[39m:\u001b[38;5;241m97022\u001b[39m}\n\u001b[0;32m      2\u001b[0m \u001b[38;5;28;01mdel\u001b[39;00m dic\n\u001b[1;32m----> 3\u001b[0m \u001b[38;5;28mprint\u001b[39m(\u001b[43mdic\u001b[49m)\n",
      "\u001b[1;31mNameError\u001b[0m: name 'dic' is not defined"
     ]
    }
   ],
   "source": [
    "# Delete the entire dictionary\n",
    "dic = {'name':'sarfraz', 'age':30, 'country': 'india', 'phone':97022}\n",
    "del dic\n",
    "print(dic)"
   ]
  },
  {
   "cell_type": "markdown",
   "id": "2654879e",
   "metadata": {},
   "source": [
    "## Checking if a key exists"
   ]
  },
  {
   "cell_type": "code",
   "execution_count": 2,
   "id": "2827ee2d",
   "metadata": {},
   "outputs": [
    {
     "name": "stdout",
     "output_type": "stream",
     "text": [
      "phone number: 97022\n"
     ]
    }
   ],
   "source": [
    "# Get the list of keys and check if key is present\n",
    "dic = {'name':'sarfraz', 'age':30, 'country': 'india', 'phone':97022}\n",
    "key_name = 'phone'\n",
    "if key_name in dic.keys():\n",
    "    print('phone number:',dic[key_name])"
   ]
  },
  {
   "cell_type": "code",
   "execution_count": 3,
   "id": "d1830726",
   "metadata": {},
   "outputs": [
    {
     "name": "stdout",
     "output_type": "stream",
     "text": [
      "{'name': 'sarfraz', 'age': 30, 'country': 'india', 'phone': 97022}\n"
     ]
    }
   ],
   "source": [
    "# Join two dictionary\n",
    "dic1 = {'name':'sarfraz', 'age':30}\n",
    "dic2 = {'country':'india', 'phone':97022}\n",
    "dic1.update(dic2)\n",
    "print(dic1)"
   ]
  },
  {
   "cell_type": "code",
   "execution_count": 35,
   "id": "d1d4dff1",
   "metadata": {},
   "outputs": [
    {
     "name": "stdout",
     "output_type": "stream",
     "text": [
      "None\n"
     ]
    }
   ],
   "source": [
    "# Join two dictionary\n",
    "dic1 = {'name':'sarfraz', 'age':30}\n",
    "dic2 = {'country':'india', 'phone':97022}\n",
    "dic = dic1.update(dic2)\n",
    "print(dic)"
   ]
  },
  {
   "cell_type": "markdown",
   "id": "e46b9f07",
   "metadata": {},
   "source": [
    "## Using **kwargs to unpack"
   ]
  },
  {
   "cell_type": "code",
   "execution_count": 4,
   "id": "ad254aa5",
   "metadata": {},
   "outputs": [
    {
     "name": "stdout",
     "output_type": "stream",
     "text": [
      "{'name': 'sarfraz', 'age': 30, 'country': 'india', 'phone': 97022, 'junaid': 23}\n"
     ]
    }
   ],
   "source": [
    "dic1 = {'name':'sarfraz', 'age':30}\n",
    "dic2 = {'country':'india', 'phone':97022}\n",
    "dic3 = {'junaid': 23}\n",
    "#  join three dictionaries\n",
    "dic4 = {**dic1, **dic2, **dic3}\n",
    "# printing the final Merged dictionary\n",
    "print(dic4)"
   ]
  },
  {
   "cell_type": "code",
   "execution_count": 5,
   "id": "779ae4af",
   "metadata": {},
   "outputs": [
    {
     "name": "stdout",
     "output_type": "stream",
     "text": [
      "66\n"
     ]
    }
   ],
   "source": [
    "dict1 = {'Jessa': 70, 'Arul': 80, 'Emma': 55}\n",
    "dict2 = {'Kelly': 68, 'Harry': 50, 'Emma': 66}\n",
    "\n",
    "# join two dictionaries with some common items\n",
    "dict1.update(dict2)\n",
    "# printing the updated dictionary\n",
    "print(dict1['Emma'])"
   ]
  },
  {
   "cell_type": "markdown",
   "id": "e287bca4",
   "metadata": {},
   "source": [
    "## Copy a Dictionary"
   ]
  },
  {
   "cell_type": "code",
   "execution_count": 4,
   "id": "a500618f",
   "metadata": {},
   "outputs": [
    {
     "name": "stdout",
     "output_type": "stream",
     "text": [
      "dic2: {'name': 'sarfraz', 'age': 30, 'countey': 'india'}\n",
      "{'name': 'sarfraz', 'age': 30, 'countey': 'india'}\n"
     ]
    }
   ],
   "source": [
    "dic1 = {'name':'sarfraz', 'age':30, 'countey':'india'}\n",
    "dic2 = dic1.copy()\n",
    "print('dic2:',dic2)\n",
    "\n",
    "dic3 = dict(dic1)\n",
    "print(dic3)"
   ]
  },
  {
   "cell_type": "code",
   "execution_count": 12,
   "id": "b4f06b72",
   "metadata": {},
   "outputs": [
    {
     "name": "stdout",
     "output_type": "stream",
     "text": [
      "{'name': 'sarfraz', 'age': 30, 'countey': 'india'}\n",
      "dict_items([('name', 'sarfraz'), ('age', 30), ('countey', 'india')])\n"
     ]
    }
   ],
   "source": [
    "dic1 = {'name':'sarfraz', 'age':30, 'countey':'india'}\n",
    "dic2 = dic1\n",
    "print(dic2)\n",
    "\n",
    "dic3 = dic2.items()\n",
    "print(dic3)\n"
   ]
  },
  {
   "cell_type": "markdown",
   "id": "d76d4232",
   "metadata": {},
   "source": [
    "# Nested dictionary"
   ]
  },
  {
   "cell_type": "code",
   "execution_count": 21,
   "id": "f6a18654",
   "metadata": {},
   "outputs": [
    {
     "name": "stdout",
     "output_type": "stream",
     "text": [
      "{'name': 'sarfraz', 'age': 32, 'address': {'state': 'maharashtra', 'city': 'mumbai'}}\n",
      "mumbai\n"
     ]
    }
   ],
   "source": [
    "address = {'state':'maharashtra', 'city':'mumbai'}\n",
    "person = {'name':'sarfraz', 'age':32,'address':address}\n",
    "print(person)\n",
    "\n",
    "print(person['address']['city'])"
   ]
  },
  {
   "cell_type": "code",
   "execution_count": 6,
   "id": "05b8459d",
   "metadata": {},
   "outputs": [
    {
     "name": "stdout",
     "output_type": "stream",
     "text": [
      "person details\n",
      "name sarfraz\n",
      "age 32\n",
      "person address\n",
      "state : maharashtra\n",
      "city : mumbai\n"
     ]
    }
   ],
   "source": [
    "address = {'state':'maharashtra', 'city':'mumbai'}\n",
    "person = {'name':'sarfraz', 'age':32,'address':address}\n",
    "print('person details')\n",
    "for key, value in person.items():\n",
    "    if key == 'address':\n",
    "        print('person address')\n",
    "        for nested_key, nested_value in value.items():\n",
    "            print(nested_key, ':', nested_value)\n",
    "    else:\n",
    "        print(key, value)"
   ]
  },
  {
   "cell_type": "markdown",
   "id": "111c7ba2",
   "metadata": {},
   "source": [
    "# Add multiple dictionaries inside a single dictionary"
   ]
  },
  {
   "cell_type": "code",
   "execution_count": 8,
   "id": "418a2bda",
   "metadata": {},
   "outputs": [
    {
     "name": "stdout",
     "output_type": "stream",
     "text": [
      "Student 3 name: ashraf\n",
      "Student 3 marks: 85\n"
     ]
    }
   ],
   "source": [
    "# each dictionary will store data of a single student\n",
    "sarfraz = {'name':'sarfraz', 'state':'maharashtra', 'city':'mumbai', 'marks':80}\n",
    "junaid = {'name':'junaid', 'state':'uttar pardesh', 'city':'lucknow', 'marks':90}\n",
    "ashraf = {'name':'ashraf', 'state':'tamil nadu', 'city':'chennai', 'marks':85}\n",
    "\n",
    "# Outer dictionary to store all student dictionaries (nested dictionaries)\n",
    "class_six = {'student1':sarfraz, 'student2':junaid, 'student3':ashraf}\n",
    "\n",
    "# Get student3's name and mark\n",
    "print(\"Student 3 name:\", class_six['student3']['name'])\n",
    "print(\"Student 3 marks:\", class_six['student3']['marks'])\n"
   ]
  },
  {
   "cell_type": "code",
   "execution_count": 22,
   "id": "f0ce7255",
   "metadata": {},
   "outputs": [
    {
     "name": "stdout",
     "output_type": "stream",
     "text": [
      "student1\n",
      "name : sarfraz\n",
      "state : maharashtra\n",
      "city : mumbai\n",
      "marks : 80\n",
      "\n",
      "\n",
      "student2\n",
      "name : junaid\n",
      "state : uttar pardesh\n",
      "city : lucknow\n",
      "marks : 90\n",
      "\n",
      "\n",
      "student3\n",
      "name : ashraf\n",
      "state : tamil nadu\n",
      "city : chennai\n",
      "marks : 85\n",
      "\n",
      "\n"
     ]
    }
   ],
   "source": [
    "sarfraz = {'name':'sarfraz', 'state':'maharashtra', 'city':'mumbai', 'marks':80}\n",
    "junaid = {'name':'junaid', 'state':'uttar pardesh', 'city':'lucknow', 'marks':90}\n",
    "ashraf = {'name':'ashraf', 'state':'tamil nadu', 'city':'chennai', 'marks':85}\n",
    "\n",
    "class_six = {'student1':sarfraz, 'student2':junaid, 'student3':ashraf}\n",
    "\n",
    "# Iterating outer dictionary\n",
    "for key, value in class_six.items():\n",
    "    print(key)\n",
    "    for n_key, n_value in value.items():\n",
    "        print(n_key,':', n_value)\n",
    "    print('\\n')"
   ]
  },
  {
   "cell_type": "markdown",
   "id": "7aa3f752",
   "metadata": {},
   "source": [
    "# Sort dictionary"
   ]
  },
  {
   "cell_type": "code",
   "execution_count": 32,
   "id": "114d5622",
   "metadata": {},
   "outputs": [
    {
     "name": "stdout",
     "output_type": "stream",
     "text": [
      "[('a', 60), ('b', 35), ('c', 65)]\n",
      "['a', 'b', 'c']\n",
      "[35, 60, 65]\n"
     ]
    }
   ],
   "source": [
    "dic1 = {'c':65, 'b':35, 'a':60}\n",
    "# sorting dictionary by keys\n",
    "print(sorted(dic1.items()))\n",
    "\n",
    "# sort dict keys\n",
    "print(sorted(dic1))\n",
    "\n",
    "# sort dictionary values\n",
    "print(sorted(dic1.values()))"
   ]
  },
  {
   "cell_type": "markdown",
   "id": "c7444527",
   "metadata": {},
   "source": [
    "# Dictionary Comprehension\n",
    "Dictionary comprehension offers a  shorter syntax when you want to create a new Dictionary base on the value of an existing Dictionary (iterables)"
   ]
  },
  {
   "cell_type": "code",
   "execution_count": 43,
   "id": "26087503",
   "metadata": {},
   "outputs": [
    {
     "name": "stdout",
     "output_type": "stream",
     "text": [
      "{2: 4, 4: 16, 6: 36}\n"
     ]
    }
   ],
   "source": [
    "# calculate the square of each even number from a list and store in dict\n",
    "numbers = [1, 2, 3, 4, 5, 6]\n",
    "even_square = {x:x**2 for x in numbers if x % 2==0}\n",
    "print(even_square)"
   ]
  },
  {
   "cell_type": "code",
   "execution_count": 40,
   "id": "7c37326e",
   "metadata": {},
   "outputs": [
    {
     "name": "stdout",
     "output_type": "stream",
     "text": [
      "{'sarfraz': 101, 'junaid': 102, 'ashraf': 103}\n"
     ]
    }
   ],
   "source": [
    "roll = [101, 102, 103]\n",
    "person = ['sarfraz', 'junaid', 'ashraf']\n",
    "dic1 = {key:value for key, value in zip(person, roll)}\n",
    "print(dic1)"
   ]
  },
  {
   "cell_type": "code",
   "execution_count": 1,
   "id": "54640c57",
   "metadata": {},
   "outputs": [
    {
     "name": "stdout",
     "output_type": "stream",
     "text": [
      "<generator object <genexpr> at 0x000001C4D149F140>\n"
     ]
    }
   ],
   "source": [
    "fruits = ('apple', 'banana', 'cherry', 'kiwi', 'mango')\n",
    "print((x for x in fruits if 'a' in x))"
   ]
  },
  {
   "cell_type": "code",
   "execution_count": 2,
   "id": "4655edc2",
   "metadata": {},
   "outputs": [
    {
     "name": "stdout",
     "output_type": "stream",
     "text": [
      "{'C': 'ccc', 'O': 'ooo', 'D': 'ddd', 'I': 'iii', 'N': 'nnn', 'G': 'ggg'}\n"
     ]
    }
   ],
   "source": [
    "dict1 = {x.upper(): x*3 for x in 'coding'}\n",
    "print(dict1)"
   ]
  },
  {
   "cell_type": "code",
   "execution_count": 1,
   "id": "2db2aa6c",
   "metadata": {},
   "outputs": [
    {
     "name": "stdout",
     "output_type": "stream",
     "text": [
      "{0: 0, 2: 8, 4: 64, 6: 216, 8: 512}\n"
     ]
    }
   ],
   "source": [
    "newdict = {x: x**3 for x in range (10) if x%2==0}\n",
    "print(newdict)"
   ]
  },
  {
   "cell_type": "markdown",
   "id": "ee5ba40b",
   "metadata": {},
   "source": [
    "# Python Built-in functions with dictionary"
   ]
  },
  {
   "cell_type": "code",
   "execution_count": 72,
   "id": "8907ebc4",
   "metadata": {},
   "outputs": [
    {
     "name": "stdout",
     "output_type": "stream",
     "text": [
      "dic1:all key true  return True-- True\n",
      "dic2:one key false return false-- False\n",
      "dic3: False\n",
      "dic4:0 in string return true-- True\n",
      "dic5:empty dictionary return true-- True\n"
     ]
    }
   ],
   "source": [
    "# all() method\n",
    "dic1 = {1:True, 1:False}\n",
    "print('dic1:all key true  return True--',all(dic1))\n",
    "\n",
    "dic2 = {0:True, 1:False}\n",
    "print('dic2:one key false return false--',all(dic2))\n",
    "\n",
    "dic3 = {0:True}\n",
    "print('dic3:',all(dic3))\n",
    "\n",
    "dic4 = {'0':False}\n",
    "print('dic4:0 in string return true--',all(dic4))\n",
    "\n",
    "dic5 = {}\n",
    "print('dic5:empty dictionary return true--',all(dic5))"
   ]
  },
  {
   "cell_type": "code",
   "execution_count": 78,
   "id": "93c14cf8",
   "metadata": {},
   "outputs": [
    {
     "name": "stdout",
     "output_type": "stream",
     "text": [
      "dic1:all key true  return True-- True\n",
      "dic2:one key true  return True-- True\n",
      "dic3:all key false return false-- False\n",
      "dic4:0 in string return true-- True\n",
      "dic5:empty dictionary retirn false-- False\n"
     ]
    }
   ],
   "source": [
    "# any()method\n",
    "dic1 = {1:True, 1:False}\n",
    "print('dic1:all key true  return True--',any(dic1))\n",
    "\n",
    "dic2 = {0:True, 1:False}\n",
    "print('dic2:one key true  return True--',any(dic2))\n",
    "\n",
    "dic3 = {0:True}\n",
    "print('dic3:all key false return false--',any(dic3))\n",
    "\n",
    "dic4 = {'0':False}\n",
    "print('dic4:0 in string return true--',any(dic4))\n",
    "\n",
    "dic5 = {}\n",
    "print('dic5:empty dictionary retirn false--',any(dic5))"
   ]
  }
 ],
 "metadata": {
  "kernelspec": {
   "display_name": "Python 3 (ipykernel)",
   "language": "python",
   "name": "python3"
  },
  "language_info": {
   "codemirror_mode": {
    "name": "ipython",
    "version": 3
   },
   "file_extension": ".py",
   "mimetype": "text/x-python",
   "name": "python",
   "nbconvert_exporter": "python",
   "pygments_lexer": "ipython3",
   "version": "3.10.4"
  }
 },
 "nbformat": 4,
 "nbformat_minor": 5
}
