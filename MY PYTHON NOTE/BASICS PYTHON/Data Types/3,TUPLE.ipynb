{
 "cells": [
  {
   "cell_type": "markdown",
   "id": "3cf9ccd4",
   "metadata": {},
   "source": [
    "# Tuple :\n",
    "- Tuple is a collection which is Ordered, Immutable, Allows duplicate members, Indexable, Heterogeneous. Tuple are created using parenthesis().\n",
    "- linkedlist(algorithm) technique use in Tuple data type.\n",
    "- Tuple is not support item assignment."
   ]
  },
  {
   "cell_type": "code",
   "execution_count": null,
   "id": "d42a74e9",
   "metadata": {},
   "outputs": [],
   "source": []
  },
  {
   "cell_type": "code",
   "execution_count": 6,
   "id": "9760d98c",
   "metadata": {},
   "outputs": [
    {
     "name": "stdout",
     "output_type": "stream",
     "text": [
      "<class 'tuple'>\n",
      "('s', 'a', 'r', 'f', 'r', 'a', 'z')\n"
     ]
    }
   ],
   "source": [
    "tuple1 = tuple(('sarfraz'))\n",
    "print(type(tuple1))\n",
    "print(tuple1)"
   ]
  },
  {
   "cell_type": "code",
   "execution_count": 12,
   "id": "33d98ea1",
   "metadata": {},
   "outputs": [
    {
     "name": "stdout",
     "output_type": "stream",
     "text": [
      "<class 'str'>\n",
      "sarfraz\n"
     ]
    }
   ],
   "source": [
    "tuple1 = ('sarfraz')\n",
    "print(type(tuple1))\n",
    "print(tuple1)"
   ]
  },
  {
   "cell_type": "markdown",
   "id": "80d6bfcd",
   "metadata": {},
   "source": [
    "# packing a collection into a variable\n",
    "Packing can be used when we want to collect multipla values in a singal variable."
   ]
  },
  {
   "cell_type": "code",
   "execution_count": 13,
   "id": "be93d0d4",
   "metadata": {},
   "outputs": [
    {
     "name": "stdout",
     "output_type": "stream",
     "text": [
      "(10, 20, 30, 40)\n"
     ]
    }
   ],
   "source": [
    "a = 10\n",
    "b = 20\n",
    "c = 30\n",
    "d = 40\n",
    "tuple1 = a,b,c,d\n",
    "print(tuple1)"
   ]
  },
  {
   "cell_type": "markdown",
   "id": "f6cd049c",
   "metadata": {},
   "source": [
    "# unpacking a collection into a variable\n",
    "in the reverse operation of tuple packing"
   ]
  },
  {
   "cell_type": "code",
   "execution_count": 14,
   "id": "0f3fb076",
   "metadata": {},
   "outputs": [
    {
     "name": "stdout",
     "output_type": "stream",
     "text": [
      "10 20 30 40\n"
     ]
    }
   ],
   "source": [
    "tuple1 = 10,20,30,40\n",
    "a,b,c,d = tuple1\n",
    "print(a,b,c,d)"
   ]
  },
  {
   "cell_type": "code",
   "execution_count": 23,
   "id": "9d800bf1",
   "metadata": {},
   "outputs": [
    {
     "name": "stdout",
     "output_type": "stream",
     "text": [
      "P\n",
      "Y\n",
      "T\n"
     ]
    }
   ],
   "source": [
    "# Indexing\n",
    "tuple1 = ('P', 'Y', 'T', 'H', 'O', 'N')\n",
    "for i in range(3):\n",
    "    print(tuple1[i])"
   ]
  },
  {
   "cell_type": "code",
   "execution_count": 30,
   "id": "5fadc63b",
   "metadata": {},
   "outputs": [
    {
     "name": "stdout",
     "output_type": "stream",
     "text": [
      "P\n",
      "Y\n",
      "T\n",
      "H\n",
      "O\n",
      "N\n"
     ]
    },
    {
     "ename": "IndexError",
     "evalue": "tuple index out of range",
     "output_type": "error",
     "traceback": [
      "\u001b[1;31m---------------------------------------------------------------------------\u001b[0m",
      "\u001b[1;31mIndexError\u001b[0m                                Traceback (most recent call last)",
      "Input \u001b[1;32mIn [30]\u001b[0m, in \u001b[0;36m<cell line: 3>\u001b[1;34m()\u001b[0m\n\u001b[0;32m      2\u001b[0m tuple1 \u001b[38;5;241m=\u001b[39m (\u001b[38;5;124m'\u001b[39m\u001b[38;5;124mP\u001b[39m\u001b[38;5;124m'\u001b[39m, \u001b[38;5;124m'\u001b[39m\u001b[38;5;124mY\u001b[39m\u001b[38;5;124m'\u001b[39m, \u001b[38;5;124m'\u001b[39m\u001b[38;5;124mT\u001b[39m\u001b[38;5;124m'\u001b[39m, \u001b[38;5;124m'\u001b[39m\u001b[38;5;124mH\u001b[39m\u001b[38;5;124m'\u001b[39m, \u001b[38;5;124m'\u001b[39m\u001b[38;5;124mO\u001b[39m\u001b[38;5;124m'\u001b[39m, \u001b[38;5;124m'\u001b[39m\u001b[38;5;124mN\u001b[39m\u001b[38;5;124m'\u001b[39m)\n\u001b[0;32m      3\u001b[0m \u001b[38;5;28;01mfor\u001b[39;00m i \u001b[38;5;129;01min\u001b[39;00m \u001b[38;5;28mrange\u001b[39m(\u001b[38;5;241m7\u001b[39m):\n\u001b[1;32m----> 4\u001b[0m     \u001b[38;5;28mprint\u001b[39m(\u001b[43mtuple1\u001b[49m\u001b[43m[\u001b[49m\u001b[43mi\u001b[49m\u001b[43m]\u001b[49m)\n",
      "\u001b[1;31mIndexError\u001b[0m: tuple index out of range"
     ]
    }
   ],
   "source": [
    "# Indexing error\n",
    "tuple1 = ('P', 'Y', 'T', 'H', 'O', 'N')\n",
    "for i in range(7):\n",
    "    print(tuple1[i])"
   ]
  },
  {
   "cell_type": "code",
   "execution_count": 32,
   "id": "08ec642c",
   "metadata": {},
   "outputs": [
    {
     "ename": "TypeError",
     "evalue": "tuple indices must be integers or slices, not float",
     "output_type": "error",
     "traceback": [
      "\u001b[1;31m---------------------------------------------------------------------------\u001b[0m",
      "\u001b[1;31mTypeError\u001b[0m                                 Traceback (most recent call last)",
      "Input \u001b[1;32mIn [32]\u001b[0m, in \u001b[0;36m<cell line: 2>\u001b[1;34m()\u001b[0m\n\u001b[0;32m      1\u001b[0m tuple1 \u001b[38;5;241m=\u001b[39m (\u001b[38;5;124m'\u001b[39m\u001b[38;5;124mP\u001b[39m\u001b[38;5;124m'\u001b[39m, \u001b[38;5;124m'\u001b[39m\u001b[38;5;124mY\u001b[39m\u001b[38;5;124m'\u001b[39m, \u001b[38;5;124m'\u001b[39m\u001b[38;5;124mT\u001b[39m\u001b[38;5;124m'\u001b[39m, \u001b[38;5;124m'\u001b[39m\u001b[38;5;124mH\u001b[39m\u001b[38;5;124m'\u001b[39m, \u001b[38;5;124m'\u001b[39m\u001b[38;5;124mO\u001b[39m\u001b[38;5;124m'\u001b[39m, \u001b[38;5;124m'\u001b[39m\u001b[38;5;124mN\u001b[39m\u001b[38;5;124m'\u001b[39m)\n\u001b[1;32m----> 2\u001b[0m \u001b[38;5;28mprint\u001b[39m(\u001b[43mtuple1\u001b[49m\u001b[43m[\u001b[49m\u001b[38;5;241;43m1.0\u001b[39;49m\u001b[43m]\u001b[49m)\n",
      "\u001b[1;31mTypeError\u001b[0m: tuple indices must be integers or slices, not float"
     ]
    }
   ],
   "source": [
    "tuple1 = ('P', 'Y', 'T', 'H', 'O', 'N')\n",
    "print(tuple1[1.0])"
   ]
  },
  {
   "cell_type": "code",
   "execution_count": 43,
   "id": "c451554f",
   "metadata": {},
   "outputs": [
    {
     "name": "stdout",
     "output_type": "stream",
     "text": [
      "H\n"
     ]
    }
   ],
   "source": [
    "tuple1 = ('P', 'Y', 'T', 'H', 'O', 'N')\n",
    "print(tuple1[-3])"
   ]
  },
  {
   "cell_type": "code",
   "execution_count": 51,
   "id": "98279986",
   "metadata": {},
   "outputs": [
    {
     "name": "stdout",
     "output_type": "stream",
     "text": [
      "-6\n",
      "-5\n",
      "-4\n",
      "-3\n",
      "-2\n",
      "-1\n"
     ]
    }
   ],
   "source": [
    "tuple1 = ('P', 'Y', 'T', 'H', 'O', 'N')\n",
    "for i in range(-6, 0):\n",
    "    print(i)\n",
    "#     print(tuple1[i])"
   ]
  },
  {
   "cell_type": "code",
   "execution_count": 59,
   "id": "cdf5023a",
   "metadata": {},
   "outputs": [
    {
     "name": "stdout",
     "output_type": "stream",
     "text": [
      "(6, 7, 8, 9)\n"
     ]
    }
   ],
   "source": [
    "tuple1 = (1, 2, 3, 4, 5, 6, 7, 8, 9, 10)\n",
    "a = tuple1[-5:-1]\n",
    "print(a)"
   ]
  },
  {
   "cell_type": "code",
   "execution_count": 60,
   "id": "185e12c0",
   "metadata": {},
   "outputs": [
    {
     "name": "stdout",
     "output_type": "stream",
     "text": [
      "(6, 7, 8, 9, 10)\n"
     ]
    }
   ],
   "source": [
    "tuple1 = (1, 2, 3, 4, 5, 6, 7, 8, 9, 10)\n",
    "a = tuple1[-5:]\n",
    "print(a)"
   ]
  },
  {
   "cell_type": "code",
   "execution_count": 65,
   "id": "a77e4a66",
   "metadata": {},
   "outputs": [
    {
     "ename": "ValueError",
     "evalue": "tuple.index(x): x not in tuple",
     "output_type": "error",
     "traceback": [
      "\u001b[1;31m---------------------------------------------------------------------------\u001b[0m",
      "\u001b[1;31mValueError\u001b[0m                                Traceback (most recent call last)",
      "Input \u001b[1;32mIn [65]\u001b[0m, in \u001b[0;36m<cell line: 2>\u001b[1;34m()\u001b[0m\n\u001b[0;32m      1\u001b[0m tuple1 \u001b[38;5;241m=\u001b[39m (\u001b[38;5;241m10\u001b[39m, \u001b[38;5;241m20\u001b[39m, \u001b[38;5;241m30\u001b[39m, \u001b[38;5;241m40\u001b[39m, \u001b[38;5;241m50\u001b[39m, \u001b[38;5;241m60\u001b[39m, \u001b[38;5;241m70\u001b[39m, \u001b[38;5;241m80\u001b[39m, \u001b[38;5;241m90\u001b[39m, \u001b[38;5;241m100\u001b[39m)\n\u001b[1;32m----> 2\u001b[0m limit \u001b[38;5;241m=\u001b[39m \u001b[43mtuple1\u001b[49m\u001b[38;5;241;43m.\u001b[39;49m\u001b[43mindex\u001b[49m\u001b[43m(\u001b[49m\u001b[38;5;241;43m50\u001b[39;49m\u001b[43m,\u001b[49m\u001b[43m \u001b[49m\u001b[38;5;241;43m5\u001b[39;49m\u001b[43m,\u001b[49m\u001b[43m \u001b[49m\u001b[38;5;241;43m8\u001b[39;49m\u001b[43m)\u001b[49m\n\u001b[0;32m      3\u001b[0m \u001b[38;5;28mprint\u001b[39m(limit)\n",
      "\u001b[1;31mValueError\u001b[0m: tuple.index(x): x not in tuple"
     ]
    }
   ],
   "source": [
    "tuple1 = (10, 20, 30, 40, 50, 60, 70, 80, 90, 100)\n",
    "limit = tuple1.index(50, 5, 8)\n",
    "print(limit)"
   ]
  },
  {
   "cell_type": "markdown",
   "id": "d2c59f4b",
   "metadata": {},
   "source": [
    "# Adding and changing items in a Tuple"
   ]
  },
  {
   "cell_type": "code",
   "execution_count": 66,
   "id": "579544fe",
   "metadata": {},
   "outputs": [
    {
     "name": "stdout",
     "output_type": "stream",
     "text": [
      "(1, 2, 3, 4, 5, 6)\n"
     ]
    }
   ],
   "source": [
    "tuple1 = (1, 2, 3, 4)\n",
    "list1 = list(tuple1)\n",
    "list1.append(5)\n",
    "list1.append(6)\n",
    "tuple1 = tuple(list1)\n",
    "print(tuple1)"
   ]
  },
  {
   "cell_type": "markdown",
   "id": "b7d603f8",
   "metadata": {},
   "source": [
    "# Modify nested items of a tuple\n",
    "if one of the items is itself a mutable data type as a list, then we can change its values in the case of a nested tuple."
   ]
  },
  {
   "cell_type": "code",
   "execution_count": 69,
   "id": "5c79abee",
   "metadata": {},
   "outputs": [
    {
     "name": "stdout",
     "output_type": "stream",
     "text": [
      "(1, 2, 3, ['khan', 30, 40])\n",
      "(1, 2, 3, ['ahmad', 30, 40])\n"
     ]
    }
   ],
   "source": [
    "tuple1 = (1, 2, 3, ['khan', 30, 40])\n",
    "print(tuple1)\n",
    "# modify last item's first vlue\n",
    "tuple1[3][0]  = 'ahmad'\n",
    "print(tuple1)"
   ]
  },
  {
   "cell_type": "code",
   "execution_count": 70,
   "id": "2fd0012a",
   "metadata": {},
   "outputs": [
    {
     "ename": "NameError",
     "evalue": "name 'tuple1' is not defined",
     "output_type": "error",
     "traceback": [
      "\u001b[1;31m---------------------------------------------------------------------------\u001b[0m",
      "\u001b[1;31mNameError\u001b[0m                                 Traceback (most recent call last)",
      "Input \u001b[1;32mIn [70]\u001b[0m, in \u001b[0;36m<cell line: 4>\u001b[1;34m()\u001b[0m\n\u001b[0;32m      2\u001b[0m tuple1 \u001b[38;5;241m=\u001b[39m (\u001b[38;5;241m1\u001b[39m, \u001b[38;5;241m2\u001b[39m, \u001b[38;5;241m3\u001b[39m, \u001b[38;5;124m'\u001b[39m\u001b[38;5;124mahmad\u001b[39m\u001b[38;5;124m'\u001b[39m)\n\u001b[0;32m      3\u001b[0m \u001b[38;5;28;01mdel\u001b[39;00m tuple1\n\u001b[1;32m----> 4\u001b[0m \u001b[38;5;28mprint\u001b[39m(\u001b[43mtuple1\u001b[49m)\n",
      "\u001b[1;31mNameError\u001b[0m: name 'tuple1' is not defined"
     ]
    }
   ],
   "source": [
    "# del keyword will delete the entire tuple\n",
    "tuple1 = (1, 2, 3, 'ahmad')\n",
    "del tuple1\n",
    "print(tuple1)"
   ]
  },
  {
   "cell_type": "code",
   "execution_count": 72,
   "id": "9af7fae7",
   "metadata": {},
   "outputs": [
    {
     "name": "stdout",
     "output_type": "stream",
     "text": [
      "3\n"
     ]
    }
   ],
   "source": [
    "tuple1 = ('ahmad', 'khan', 'khan', 'khan')\n",
    "count = tuple1.count('khan')\n",
    "print(count)"
   ]
  },
  {
   "cell_type": "markdown",
   "id": "0219f970",
   "metadata": {},
   "source": [
    "# copying a tuple\n",
    "we can create  a copy of Tuple using the assignment operator'='. this operation will create only a reference copy and not a deep copy because tuples are immutable ."
   ]
  },
  {
   "cell_type": "code",
   "execution_count": 7,
   "id": "734db96e",
   "metadata": {},
   "outputs": [
    {
     "name": "stdout",
     "output_type": "stream",
     "text": [
      "(1, 2, 3, 4, 5, 6)\n",
      "(1, 2, 3, 4, 5)\n"
     ]
    }
   ],
   "source": [
    "tuple1 = (1,2,3,4,5)\n",
    "#copy tuple\n",
    "tuple2 = tuple1\n",
    "# print(tuple2)\n",
    "# convert in list\n",
    "list1 = list(tuple1)\n",
    "list1.append(6)\n",
    "# convert in tuple\n",
    "tuple1 = tuple(list1)\n",
    "print(tuple1)\n",
    "print(tuple2)"
   ]
  },
  {
   "cell_type": "markdown",
   "id": "656a2ae6",
   "metadata": {},
   "source": [
    "# concatenating two tuple"
   ]
  },
  {
   "cell_type": "code",
   "execution_count": 23,
   "id": "6530f8f4",
   "metadata": {
    "scrolled": true
   },
   "outputs": [
    {
     "name": "stdout",
     "output_type": "stream",
     "text": [
      "((10, 20, 30, 40, 50), (60, 70, 80, 90, 100))\n"
     ]
    }
   ],
   "source": [
    "mytuple1 = (10, 20, 30, 40, 50)\n",
    "mytuple2 = (60, 70, 80, 90, 100)\n",
    "mytuple3 = sum((),(mytuple1, mytuple2))\n",
    "print(mytuple3)"
   ]
  },
  {
   "cell_type": "code",
   "execution_count": 62,
   "id": "9fc79f74",
   "metadata": {},
   "outputs": [
    {
     "name": "stdout",
     "output_type": "stream",
     "text": [
      "(10, 20, 30, 40, 50, 60, 70, 80, 90, 100)\n"
     ]
    }
   ],
   "source": [
    "mytuple1 = (10, 20, 30, 40, 50)\n",
    "mytuple2 = (60, 70, 80, 90, 100)\n",
    "mytuple3 = sum((mytuple1, mytuple2),())\n",
    "print(mytuple3)"
   ]
  },
  {
   "cell_type": "markdown",
   "id": "a3851308",
   "metadata": {},
   "source": [
    "# using the chain() function\n",
    "the chain function is part of the itertools module in python. it makes an iterator,which will return all the first iterable items which will be followed by the second iterable. we can pass any number of tuples to the chain() function."
   ]
  },
  {
   "cell_type": "code",
   "execution_count": 25,
   "id": "113d7394",
   "metadata": {},
   "outputs": [
    {
     "name": "stdout",
     "output_type": "stream",
     "text": [
      "(1, 2, 3, 4, 5, 6, 7, 8, 9, 10)\n"
     ]
    }
   ],
   "source": [
    "import itertools\n",
    "\n",
    "tuple1 = (1, 2, 3, 4, 5)\n",
    "tuple2 = (6, 7, 8, 9, 10)\n",
    "tuple3 = tuple(item for item in itertools.chain(tuple1, tuple2))\n",
    "print(tuple3)"
   ]
  },
  {
   "cell_type": "markdown",
   "id": "c66b5f2f",
   "metadata": {},
   "source": [
    "# nested Tuple\n",
    "when Tuple contains another Tuple as its member then it is called a nested Tuple."
   ]
  },
  {
   "cell_type": "code",
   "execution_count": 43,
   "id": "fbe56974",
   "metadata": {},
   "outputs": [
    {
     "name": "stdout",
     "output_type": "stream",
     "text": [
      "Py\n",
      "\n",
      "\n",
      "(10, 20, 30)\n",
      "10\n",
      "20\n",
      "30\n",
      "\n",
      "\n",
      "(40, 50, 60)\n",
      "40\n",
      "50\n",
      "60\n",
      "\n",
      "\n",
      "Python\n",
      "P\n",
      "y\n",
      "t\n",
      "h\n",
      "o\n",
      "n\n",
      "\n",
      "\n"
     ]
    }
   ],
   "source": [
    "nestedtuple = ((10, 20, 30,), (40, 50, 60), 'Python')\n",
    "# access the first time of the third tuple\n",
    "print(nestedtuple[2][0:2])\n",
    "print('\\n')\n",
    "\n",
    "for i in nestedtuple:\n",
    "    print(i)\n",
    "    for j in i:\n",
    "        print(j)\n",
    "    print('\\n')"
   ]
  },
  {
   "cell_type": "code",
   "execution_count": 49,
   "id": "c66b3d89",
   "metadata": {},
   "outputs": [
    {
     "name": "stdout",
     "output_type": "stream",
     "text": [
      "sarfraz\n",
      "ahmad\n",
      "40\n",
      "10\n"
     ]
    }
   ],
   "source": [
    "# use max() return the maximum value in the Tuple\n",
    "tuple1 = ('khan', 'ahmad','sarfraz')\n",
    "print(max(tuple1))\n",
    "\n",
    "# use min() return the minimum value in the Tuple\n",
    "print(min(tuple1))\n",
    "\n",
    "tuple1 = (10, 20, 30, 40)\n",
    "print(max(tuple1))\n",
    "print(min(tuple1))\n",
    "\n",
    "we can't find the max() and min() for a heterogeneous tuple. it will throw type error"
   ]
  },
  {
   "cell_type": "code",
   "execution_count": 59,
   "id": "5021cbf7",
   "metadata": {},
   "outputs": [
    {
     "name": "stdout",
     "output_type": "stream",
     "text": [
      "True\n",
      "False\n",
      "False\n",
      "Empty Tuple all(): True\n"
     ]
    }
   ],
   "source": [
    "tuple1 = (10, 20, True)\n",
    "print(all(tuple1))\n",
    "\n",
    "tuple1 = (0,10, 20, True)\n",
    "print(all(tuple1))\n",
    "\n",
    "tuple1 = (10, 20, True, False)\n",
    "print(all(tuple1))\n",
    "\n",
    "tuple1 = ()\n",
    "print('Empty Tuple all():',all(tuple1))\n"
   ]
  },
  {
   "cell_type": "code",
   "execution_count": 57,
   "id": "306d89ed",
   "metadata": {},
   "outputs": [
    {
     "name": "stdout",
     "output_type": "stream",
     "text": [
      "True\n",
      "True\n",
      "True\n",
      "Empty Tuple any(): False\n"
     ]
    }
   ],
   "source": [
    "tuple1 = (10, 20, True)\n",
    "print(any(tuple1))\n",
    "\n",
    "tuple1 = (0,10, 20, True)\n",
    "print(any(tuple1))\n",
    "\n",
    "tuple1 = (10, 20, True, False)\n",
    "print(any(tuple1))\n",
    "\n",
    "tuple1 = ()\n",
    "print('Empty Tuple any():',any(tuple1))"
   ]
  },
  {
   "cell_type": "code",
   "execution_count": 71,
   "id": "db539c48",
   "metadata": {},
   "outputs": [
    {
     "name": "stdout",
     "output_type": "stream",
     "text": [
      "(1, 3)\n"
     ]
    }
   ],
   "source": [
    "a = (1,2,3,4,5)\n",
    "print(a[0:4:2])"
   ]
  },
  {
   "cell_type": "code",
   "execution_count": null,
   "id": "76a5d85c",
   "metadata": {},
   "outputs": [],
   "source": []
  }
 ],
 "metadata": {
  "kernelspec": {
   "display_name": "Python 3 (ipykernel)",
   "language": "python",
   "name": "python3"
  },
  "language_info": {
   "codemirror_mode": {
    "name": "ipython",
    "version": 3
   },
   "file_extension": ".py",
   "mimetype": "text/x-python",
   "name": "python",
   "nbconvert_exporter": "python",
   "pygments_lexer": "ipython3",
   "version": "3.10.4"
  }
 },
 "nbformat": 4,
 "nbformat_minor": 5
}
