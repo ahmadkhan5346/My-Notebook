{
 "cells": [
  {
   "cell_type": "markdown",
   "id": "228bf0b3",
   "metadata": {},
   "source": [
    "# Set :\n",
    "- Set is a collection which is Unordered, Mutable, Don't allow duplicate members, Unindxable, Heterogeneous.Set are created using curli brackets.{}\n",
    "- Hashkey(algorithm) technique use in set data type.\n",
    "- Insertion fast and Searching slow. Set it is unpredictible\n",
    "- Don't support item assignment\n",
    "- Set mutable but we can add or remove only we cannot modify item's value."
   ]
  },
  {
   "cell_type": "code",
   "execution_count": 19,
   "id": "2d8832c7",
   "metadata": {},
   "outputs": [
    {
     "name": "stdout",
     "output_type": "stream",
     "text": [
      "{40, 10, 20, 30}\n"
     ]
    }
   ],
   "source": [
    "# create a set from a list\n",
    "mylist = [10, 20, 30, 40, 10, 40, 10, 30]\n",
    "myset = set(mylist)\n",
    "print(myset)\n"
   ]
  },
  {
   "cell_type": "code",
   "execution_count": 23,
   "id": "cdaba9ae",
   "metadata": {},
   "outputs": [
    {
     "ename": "TypeError",
     "evalue": "unhashable type: 'list'",
     "output_type": "error",
     "traceback": [
      "\u001b[1;31m---------------------------------------------------------------------------\u001b[0m",
      "\u001b[1;31mTypeError\u001b[0m                                 Traceback (most recent call last)",
      "Input \u001b[1;32mIn [23]\u001b[0m, in \u001b[0;36m<cell line: 1>\u001b[1;34m()\u001b[0m\n\u001b[1;32m----> 1\u001b[0m myset \u001b[38;5;241m=\u001b[39m {\u001b[38;5;124m'\u001b[39m\u001b[38;5;124msarfraz\u001b[39m\u001b[38;5;124m'\u001b[39m, \u001b[38;5;124m'\u001b[39m\u001b[38;5;124mahmad\u001b[39m\u001b[38;5;124m'\u001b[39m, [\u001b[38;5;241m10\u001b[39m, \u001b[38;5;241m20\u001b[39m, \u001b[38;5;241m30\u001b[39m]}\n\u001b[0;32m      2\u001b[0m \u001b[38;5;28mprint\u001b[39m(myset)\n",
      "\u001b[1;31mTypeError\u001b[0m: unhashable type: 'list'"
     ]
    }
   ],
   "source": [
    "myset = {'sarfraz', 'ahmad', [10, 20, 30]}\n",
    "print(myset)"
   ]
  },
  {
   "cell_type": "code",
   "execution_count": 48,
   "id": "41b057b3",
   "metadata": {},
   "outputs": [
    {
     "name": "stdout",
     "output_type": "stream",
     "text": [
      "hai\n",
      "False\n"
     ]
    }
   ],
   "source": [
    "# checking if an item exists in set\n",
    "myset = {'sarfraz', 10, 'ahmad', 20, 'khan', 30}\n",
    "if 'khan' in myset:\n",
    "    print('hai')\n",
    "else:\n",
    "    print('nhi')\n",
    "    \n",
    "print('junaid' in myset)"
   ]
  },
  {
   "cell_type": "code",
   "execution_count": 49,
   "id": "d24731be",
   "metadata": {},
   "outputs": [
    {
     "name": "stdout",
     "output_type": "stream",
     "text": [
      "6\n"
     ]
    }
   ],
   "source": [
    "# len() return a count of total item in a set\n",
    "myset = {'sarfraz', 10, 'ahmad', 20, 'khan', 30}\n",
    "print(len(myset))"
   ]
  },
  {
   "cell_type": "markdown",
   "id": "900a44b7",
   "metadata": {},
   "source": [
    "# Adding items to a set"
   ]
  },
  {
   "cell_type": "code",
   "execution_count": 56,
   "id": "da7ce34b",
   "metadata": {},
   "outputs": [
    {
     "name": "stdout",
     "output_type": "stream",
     "text": [
      "{'ahmad', 'sarfraz', 20, 'sadik', 10, 'khan', 30}\n"
     ]
    }
   ],
   "source": [
    "# add() is used to add one item to the set\n",
    "myset = {'sarfraz', 10, 'ahmad', 20, 'khan', 30}\n",
    "myset.add('sadik')\n",
    "print(myset)"
   ]
  },
  {
   "cell_type": "code",
   "execution_count": 58,
   "id": "c72ca4df",
   "metadata": {},
   "outputs": [
    {
     "name": "stdout",
     "output_type": "stream",
     "text": [
      "{1, 'ahmad', 2, 'sadik', 10, 'khan', 20, 'sarfraz', 30, 'ashraf'}\n"
     ]
    }
   ],
   "source": [
    "# update() is used to add multiple items to the set\n",
    "myset = {'sarfraz', 10, 'ahmad', 20, 'khan', 30}\n",
    "myset.update(['sadik', 'ashraf', 1, 2])\n",
    "print(myset)"
   ]
  },
  {
   "cell_type": "code",
   "execution_count": 71,
   "id": "fe556efd",
   "metadata": {},
   "outputs": [
    {
     "name": "stdout",
     "output_type": "stream",
     "text": [
      "{1, 'ahmad', 2, 'sadik', 'ashraf', 10, 'khan', 20, 'sarfraz', 30}\n"
     ]
    }
   ],
   "source": [
    "myset = {'sarfraz', 10, 'ahmad', 20, 'khan', 30}\n",
    "myset.update({'sadik', 'ashraf', 1, 2})\n",
    "print(myset)"
   ]
  },
  {
   "cell_type": "code",
   "execution_count": 70,
   "id": "16c4f2a9",
   "metadata": {},
   "outputs": [
    {
     "name": "stdout",
     "output_type": "stream",
     "text": [
      "{'ahmad', 'sarfraz', 20, 'junaid', 10, 'khan', 30}\n"
     ]
    }
   ],
   "source": [
    "myset = {'sarfraz', 10, 'ahmad', 20, 'khan', 30}\n",
    "myset.update(('junaid',))\n",
    "print(myset)"
   ]
  },
  {
   "cell_type": "code",
   "execution_count": 4,
   "id": "5b4b5096",
   "metadata": {},
   "outputs": [
    {
     "name": "stdout",
     "output_type": "stream",
     "text": [
      "{10, 'u', 20, 'ahmad', 'khan', 30, 'd', 'j', 'i', 'n', 'a', 'sarfraz'}\n"
     ]
    }
   ],
   "source": [
    "myset = {'sarfraz', 10, 'ahmad', 20, 'khan', 30}\n",
    "myset.update(('junaid'))\n",
    "print(myset)"
   ]
  },
  {
   "cell_type": "code",
   "execution_count": 8,
   "id": "6f150ebf",
   "metadata": {},
   "outputs": [
    {
     "name": "stdout",
     "output_type": "stream",
     "text": [
      "{10, 'k', 'u', 20, 'ahmad', 'khan', 30, 'd', 's', 'a', 'sarfraz'}\n"
     ]
    }
   ],
   "source": [
    "myset = {'sarfraz', 10, 'ahmad', 20, 'khan', 30}\n",
    "myset.update('saud','k')\n",
    "print(myset)"
   ]
  },
  {
   "cell_type": "markdown",
   "id": "8f7b5473",
   "metadata": {},
   "source": [
    "# Removing items from a set"
   ]
  },
  {
   "cell_type": "code",
   "execution_count": 11,
   "id": "8558494d",
   "metadata": {},
   "outputs": [
    {
     "ename": "KeyError",
     "evalue": "50",
     "output_type": "error",
     "traceback": [
      "\u001b[1;31m---------------------------------------------------------------------------\u001b[0m",
      "\u001b[1;31mKeyError\u001b[0m                                  Traceback (most recent call last)",
      "Input \u001b[1;32mIn [11]\u001b[0m, in \u001b[0;36m<cell line: 3>\u001b[1;34m()\u001b[0m\n\u001b[0;32m      1\u001b[0m \u001b[38;5;66;03m# remove() is used to remove singal item if not present value will throw keyerror\u001b[39;00m\n\u001b[0;32m      2\u001b[0m myset \u001b[38;5;241m=\u001b[39m {\u001b[38;5;124m'\u001b[39m\u001b[38;5;124msarfraz\u001b[39m\u001b[38;5;124m'\u001b[39m, \u001b[38;5;241m10\u001b[39m, \u001b[38;5;124m'\u001b[39m\u001b[38;5;124mahmad\u001b[39m\u001b[38;5;124m'\u001b[39m, \u001b[38;5;241m20\u001b[39m, \u001b[38;5;124m'\u001b[39m\u001b[38;5;124mkhan\u001b[39m\u001b[38;5;124m'\u001b[39m, \u001b[38;5;241m30\u001b[39m}\n\u001b[1;32m----> 3\u001b[0m \u001b[43mmyset\u001b[49m\u001b[38;5;241;43m.\u001b[39;49m\u001b[43mremove\u001b[49m\u001b[43m(\u001b[49m\u001b[38;5;241;43m50\u001b[39;49m\u001b[43m)\u001b[49m\n\u001b[0;32m      4\u001b[0m \u001b[38;5;28mprint\u001b[39m(myset)\n",
      "\u001b[1;31mKeyError\u001b[0m: 50"
     ]
    }
   ],
   "source": [
    "# remove() is used to remove singal item if not present value will throw keyerror\n",
    "myset = {'sarfraz', 10, 'ahmad', 20, 'khan', 30}\n",
    "myset.remove(50)\n",
    "print(myset)"
   ]
  },
  {
   "cell_type": "code",
   "execution_count": 12,
   "id": "6f91870d",
   "metadata": {},
   "outputs": [
    {
     "name": "stdout",
     "output_type": "stream",
     "text": [
      "{'sarfraz', 20, 'ahmad', 10, 'khan', 30}\n"
     ]
    }
   ],
   "source": [
    "# discard() is used to remove singal item if not present value will not throw any error\n",
    "myset = {'sarfraz', 10, 'ahmad', 20, 'khan', 30}\n",
    "myset.discard(50)\n",
    "print(myset)"
   ]
  },
  {
   "cell_type": "code",
   "execution_count": 19,
   "id": "0d79abef",
   "metadata": {},
   "outputs": [
    {
     "name": "stdout",
     "output_type": "stream",
     "text": [
      "{20, 'ahmad', 10, 'khan', 30}\n"
     ]
    }
   ],
   "source": [
    "# pop() is used to delete any randome item from a set\n",
    "myset = {'sarfraz', 10, 'ahmad', 20, 'khan', 30}\n",
    "myset.pop()\n",
    "print(myset)"
   ]
  },
  {
   "cell_type": "code",
   "execution_count": 23,
   "id": "70a21293",
   "metadata": {},
   "outputs": [
    {
     "name": "stdout",
     "output_type": "stream",
     "text": [
      "set()\n"
     ]
    }
   ],
   "source": [
    "# clear() is used to remove all items from the Set. The output will be an empty set\n",
    "myset = {'sarfraz', 10, 'ahmad', 20, 'khan', 30}\n",
    "myset.clear()\n",
    "print(myset)"
   ]
  },
  {
   "cell_type": "code",
   "execution_count": 24,
   "id": "7f99b1ea",
   "metadata": {},
   "outputs": [
    {
     "ename": "NameError",
     "evalue": "name 'myset' is not defined",
     "output_type": "error",
     "traceback": [
      "\u001b[1;31m---------------------------------------------------------------------------\u001b[0m",
      "\u001b[1;31mNameError\u001b[0m                                 Traceback (most recent call last)",
      "Input \u001b[1;32mIn [24]\u001b[0m, in \u001b[0;36m<cell line: 3>\u001b[1;34m()\u001b[0m\n\u001b[0;32m      1\u001b[0m myset \u001b[38;5;241m=\u001b[39m {\u001b[38;5;124m'\u001b[39m\u001b[38;5;124msarfraz\u001b[39m\u001b[38;5;124m'\u001b[39m, \u001b[38;5;241m10\u001b[39m, \u001b[38;5;124m'\u001b[39m\u001b[38;5;124mahmad\u001b[39m\u001b[38;5;124m'\u001b[39m, \u001b[38;5;241m20\u001b[39m, \u001b[38;5;124m'\u001b[39m\u001b[38;5;124mkhan\u001b[39m\u001b[38;5;124m'\u001b[39m, \u001b[38;5;241m30\u001b[39m}\n\u001b[0;32m      2\u001b[0m \u001b[38;5;28;01mdel\u001b[39;00m myset\n\u001b[1;32m----> 3\u001b[0m \u001b[38;5;28mprint\u001b[39m(\u001b[43mmyset\u001b[49m)\n",
      "\u001b[1;31mNameError\u001b[0m: name 'myset' is not defined"
     ]
    }
   ],
   "source": [
    "# Delete entire set()\n",
    "myset = {'sarfraz', 10, 'ahmad', 20, 'khan', 30}\n",
    "del myset\n",
    "print(myset)"
   ]
  },
  {
   "cell_type": "markdown",
   "id": "df7c358f",
   "metadata": {},
   "source": [
    "# Set operations"
   ]
  },
  {
   "cell_type": "code",
   "execution_count": 29,
   "id": "65476d1b",
   "metadata": {},
   "outputs": [
    {
     "name": "stdout",
     "output_type": "stream",
     "text": [
      "{'junaid', 'ashraf', 40, 10, 'sadik', 50, 20, 'ahmad', 'sarfraz', 'khan', 30}\n"
     ]
    }
   ],
   "source": [
    "# union() is used all the items of both sets will be returned. only duplicate items will be dropped\n",
    "myset1 = {'sarfraz', 10, 'ahmad', 20, 'khan', 30}\n",
    "myset2 = {'junaid', 'sadik', 'ashraf'}\n",
    "myset3 = {40, 50}\n",
    "myset4 = myset1.union(myset2,myset3)\n",
    "print(myset4)"
   ]
  },
  {
   "cell_type": "code",
   "execution_count": 28,
   "id": "c03fa379",
   "metadata": {},
   "outputs": [
    {
     "name": "stdout",
     "output_type": "stream",
     "text": [
      "{'junaid', 'ashraf', 40, 10, 'sadik', 50, 20, 'ahmad', 'sarfraz', 'khan', 30}\n"
     ]
    }
   ],
   "source": [
    "# or |  is used all the items of both sets will be returned. only duplicate items will be dropped\n",
    "myset1 = {'sarfraz', 10, 'ahmad', 20, 'khan', 30}\n",
    "myset2 = {'junaid', 'sadik', 'ashraf'}\n",
    "myset3 = {50, 40}\n",
    "myset4 = myset1|myset2|myset3\n",
    "print(myset4)"
   ]
  },
  {
   "cell_type": "code",
   "execution_count": 32,
   "id": "4409b44c",
   "metadata": {
    "scrolled": true
   },
   "outputs": [
    {
     "name": "stdout",
     "output_type": "stream",
     "text": [
      "{10, 20, 30}\n"
     ]
    }
   ],
   "source": [
    "# intersection() of two set will return only the common elements in both sets. the intersection can be done using the & operator\n",
    "# and intersection() method\n",
    "myset1 = {'sarfraz', 10, 'ahmad', 20, 'khan', 30}\n",
    "myset2 = {10, 20, 30}\n",
    "myset3 = myset1.intersection(myset2)\n",
    "print(myset3)"
   ]
  },
  {
   "cell_type": "code",
   "execution_count": 33,
   "id": "e3019240",
   "metadata": {},
   "outputs": [
    {
     "name": "stdout",
     "output_type": "stream",
     "text": [
      "{10, 20, 30}\n"
     ]
    }
   ],
   "source": [
    "myset1 = {'sarfraz', 10, 'ahmad', 20, 'khan', 30}\n",
    "myset2 = {10, 20, 30}\n",
    "myset3 = myset1&myset2\n",
    "print(myset3)"
   ]
  },
  {
   "cell_type": "code",
   "execution_count": 5,
   "id": "90c35142",
   "metadata": {},
   "outputs": [
    {
     "name": "stdout",
     "output_type": "stream",
     "text": [
      "{10, 20, 30}\n"
     ]
    }
   ],
   "source": [
    "# intersection_update() is used only common elements will be return  in the both set and update original set with common\n",
    "# elements\n",
    "myset1 = {'sarfraz', 10, 'ahmad', 20, 'khan', 30}\n",
    "myset2 = {10, 20, 30}\n",
    "myset1.intersection_update(myset2)\n",
    "print(myset1)"
   ]
  },
  {
   "cell_type": "code",
   "execution_count": null,
   "id": "5309e557",
   "metadata": {},
   "outputs": [],
   "source": []
  },
  {
   "cell_type": "code",
   "execution_count": null,
   "id": "97d5df5d",
   "metadata": {},
   "outputs": [],
   "source": []
  },
  {
   "cell_type": "code",
   "execution_count": null,
   "id": "1ea7ba88",
   "metadata": {},
   "outputs": [],
   "source": []
  },
  {
   "cell_type": "code",
   "execution_count": 24,
   "id": "712678b4",
   "metadata": {},
   "outputs": [
    {
     "name": "stdout",
     "output_type": "stream",
     "text": [
      "<class 'set'>\n"
     ]
    }
   ],
   "source": [
    "a = {'sarfraz'}\n",
    "print(type(a))"
   ]
  },
  {
   "cell_type": "code",
   "execution_count": 15,
   "id": "3e7e4a5d",
   "metadata": {},
   "outputs": [
    {
     "name": "stdout",
     "output_type": "stream",
     "text": [
      "<class 'set'>\n"
     ]
    }
   ],
   "source": [
    "a = set()\n",
    "print(type(a))"
   ]
  },
  {
   "cell_type": "code",
   "execution_count": 14,
   "id": "b47e650e",
   "metadata": {},
   "outputs": [
    {
     "name": "stdout",
     "output_type": "stream",
     "text": [
      "<class 'dict'>\n"
     ]
    }
   ],
   "source": [
    "a = {}\n",
    "print(type(a))"
   ]
  },
  {
   "cell_type": "code",
   "execution_count": 21,
   "id": "6f5acb83",
   "metadata": {},
   "outputs": [
    {
     "name": "stdout",
     "output_type": "stream",
     "text": [
      "<class 'dict'>\n"
     ]
    }
   ],
   "source": [
    "a = {'sarfraz':30}\n",
    "print(type(a))"
   ]
  },
  {
   "cell_type": "code",
   "execution_count": null,
   "id": "15d55c85",
   "metadata": {},
   "outputs": [],
   "source": []
  },
  {
   "cell_type": "code",
   "execution_count": null,
   "id": "87df4499",
   "metadata": {},
   "outputs": [],
   "source": []
  },
  {
   "cell_type": "code",
   "execution_count": null,
   "id": "53bb5e08",
   "metadata": {},
   "outputs": [],
   "source": []
  }
 ],
 "metadata": {
  "kernelspec": {
   "display_name": "Python 3 (ipykernel)",
   "language": "python",
   "name": "python3"
  },
  "language_info": {
   "codemirror_mode": {
    "name": "ipython",
    "version": 3
   },
   "file_extension": ".py",
   "mimetype": "text/x-python",
   "name": "python",
   "nbconvert_exporter": "python",
   "pygments_lexer": "ipython3",
   "version": "3.10.4"
  }
 },
 "nbformat": 4,
 "nbformat_minor": 5
}
