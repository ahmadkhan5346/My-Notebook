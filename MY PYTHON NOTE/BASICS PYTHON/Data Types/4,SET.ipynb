{
 "cells": [
  {
   "cell_type": "markdown",
   "id": "228bf0b3",
   "metadata": {},
   "source": [
    "# Set :\n",
    "- Set is a collection which is Unordered, Mutable, Don't allow duplicate members, Unindxable, Heterogeneous.Set are created using curli brackets.{}\n",
    "- Hashkey(algorithm) technique use in set data type.\n",
    "- Insertion fast and Searching slow. Set it is unpredictible\n",
    "- Don't support item assignment\n",
    "- Set mutable but we can add or remove only we cannot modify item's value."
   ]
  },
  {
   "cell_type": "code",
   "execution_count": 19,
   "id": "2d8832c7",
   "metadata": {},
   "outputs": [
    {
     "name": "stdout",
     "output_type": "stream",
     "text": [
      "{40, 10, 20, 30}\n"
     ]
    }
   ],
   "source": [
    "# create a set from a list\n",
    "mylist = [10, 20, 30, 40, 10, 40, 10, 30]\n",
    "myset = set(mylist)\n",
    "print(myset)\n"
   ]
  },
  {
   "cell_type": "code",
   "execution_count": 23,
   "id": "cdaba9ae",
   "metadata": {},
   "outputs": [
    {
     "ename": "TypeError",
     "evalue": "unhashable type: 'list'",
     "output_type": "error",
     "traceback": [
      "\u001b[1;31m---------------------------------------------------------------------------\u001b[0m",
      "\u001b[1;31mTypeError\u001b[0m                                 Traceback (most recent call last)",
      "Input \u001b[1;32mIn [23]\u001b[0m, in \u001b[0;36m<cell line: 1>\u001b[1;34m()\u001b[0m\n\u001b[1;32m----> 1\u001b[0m myset \u001b[38;5;241m=\u001b[39m {\u001b[38;5;124m'\u001b[39m\u001b[38;5;124msarfraz\u001b[39m\u001b[38;5;124m'\u001b[39m, \u001b[38;5;124m'\u001b[39m\u001b[38;5;124mahmad\u001b[39m\u001b[38;5;124m'\u001b[39m, [\u001b[38;5;241m10\u001b[39m, \u001b[38;5;241m20\u001b[39m, \u001b[38;5;241m30\u001b[39m]}\n\u001b[0;32m      2\u001b[0m \u001b[38;5;28mprint\u001b[39m(myset)\n",
      "\u001b[1;31mTypeError\u001b[0m: unhashable type: 'list'"
     ]
    }
   ],
   "source": [
    "myset = {'sarfraz', 'ahmad', [10, 20, 30]}\n",
    "print(myset)"
   ]
  },
  {
   "cell_type": "code",
   "execution_count": 48,
   "id": "41b057b3",
   "metadata": {},
   "outputs": [
    {
     "name": "stdout",
     "output_type": "stream",
     "text": [
      "hai\n",
      "False\n"
     ]
    }
   ],
   "source": [
    "# checking if an item exists in set\n",
    "myset = {'sarfraz', 10, 'ahmad', 20, 'khan', 30}\n",
    "if 'khan' in myset:\n",
    "    print('hai')\n",
    "else:\n",
    "    print('nhi')\n",
    "    \n",
    "print('junaid' in myset)"
   ]
  },
  {
   "cell_type": "code",
   "execution_count": 49,
   "id": "d24731be",
   "metadata": {},
   "outputs": [
    {
     "name": "stdout",
     "output_type": "stream",
     "text": [
      "6\n"
     ]
    }
   ],
   "source": [
    "# len() return a count of total item in a set\n",
    "myset = {'sarfraz', 10, 'ahmad', 20, 'khan', 30}\n",
    "print(len(myset))"
   ]
  },
  {
   "cell_type": "markdown",
   "id": "900a44b7",
   "metadata": {},
   "source": [
    "# Adding items to a set"
   ]
  },
  {
   "cell_type": "code",
   "execution_count": 56,
   "id": "da7ce34b",
   "metadata": {},
   "outputs": [
    {
     "name": "stdout",
     "output_type": "stream",
     "text": [
      "{'ahmad', 'sarfraz', 20, 'sadik', 10, 'khan', 30}\n"
     ]
    }
   ],
   "source": [
    "# add() is used to add one item to the set\n",
    "myset = {'sarfraz', 10, 'ahmad', 20, 'khan', 30}\n",
    "myset.add('sadik')\n",
    "print(myset)"
   ]
  },
  {
   "cell_type": "code",
   "execution_count": 58,
   "id": "c72ca4df",
   "metadata": {},
   "outputs": [
    {
     "name": "stdout",
     "output_type": "stream",
     "text": [
      "{1, 'ahmad', 2, 'sadik', 10, 'khan', 20, 'sarfraz', 30, 'ashraf'}\n"
     ]
    }
   ],
   "source": [
    "# update() is used to add multiple items to the set\n",
    "myset = {'sarfraz', 10, 'ahmad', 20, 'khan', 30}\n",
    "myset.update(['sadik', 'ashraf', 1, 2])\n",
    "print(myset)"
   ]
  },
  {
   "cell_type": "code",
   "execution_count": 71,
   "id": "fe556efd",
   "metadata": {},
   "outputs": [
    {
     "name": "stdout",
     "output_type": "stream",
     "text": [
      "{1, 'ahmad', 2, 'sadik', 'ashraf', 10, 'khan', 20, 'sarfraz', 30}\n"
     ]
    }
   ],
   "source": [
    "myset = {'sarfraz', 10, 'ahmad', 20, 'khan', 30}\n",
    "myset.update({'sadik', 'ashraf', 1, 2})\n",
    "print(myset)"
   ]
  },
  {
   "cell_type": "code",
   "execution_count": 70,
   "id": "16c4f2a9",
   "metadata": {},
   "outputs": [
    {
     "name": "stdout",
     "output_type": "stream",
     "text": [
      "{'ahmad', 'sarfraz', 20, 'junaid', 10, 'khan', 30}\n"
     ]
    }
   ],
   "source": [
    "myset = {'sarfraz', 10, 'ahmad', 20, 'khan', 30}\n",
    "myset.update(('junaid',))\n",
    "print(myset)"
   ]
  },
  {
   "cell_type": "code",
   "execution_count": 4,
   "id": "5b4b5096",
   "metadata": {},
   "outputs": [
    {
     "name": "stdout",
     "output_type": "stream",
     "text": [
      "{10, 'u', 20, 'ahmad', 'khan', 30, 'd', 'j', 'i', 'n', 'a', 'sarfraz'}\n"
     ]
    }
   ],
   "source": [
    "myset = {'sarfraz', 10, 'ahmad', 20, 'khan', 30}\n",
    "myset.update(('junaid'))\n",
    "print(myset)"
   ]
  },
  {
   "cell_type": "code",
   "execution_count": 8,
   "id": "6f150ebf",
   "metadata": {},
   "outputs": [
    {
     "name": "stdout",
     "output_type": "stream",
     "text": [
      "{10, 'k', 'u', 20, 'ahmad', 'khan', 30, 'd', 's', 'a', 'sarfraz'}\n"
     ]
    }
   ],
   "source": [
    "myset = {'sarfraz', 10, 'ahmad', 20, 'khan', 30}\n",
    "myset.update('saud','k')\n",
    "print(myset)"
   ]
  },
  {
   "cell_type": "markdown",
   "id": "8f7b5473",
   "metadata": {},
   "source": [
    "# Removing items from a set"
   ]
  },
  {
   "cell_type": "code",
   "execution_count": 11,
   "id": "8558494d",
   "metadata": {},
   "outputs": [
    {
     "ename": "KeyError",
     "evalue": "50",
     "output_type": "error",
     "traceback": [
      "\u001b[1;31m---------------------------------------------------------------------------\u001b[0m",
      "\u001b[1;31mKeyError\u001b[0m                                  Traceback (most recent call last)",
      "Input \u001b[1;32mIn [11]\u001b[0m, in \u001b[0;36m<cell line: 3>\u001b[1;34m()\u001b[0m\n\u001b[0;32m      1\u001b[0m \u001b[38;5;66;03m# remove() is used to remove singal item if not present value will throw keyerror\u001b[39;00m\n\u001b[0;32m      2\u001b[0m myset \u001b[38;5;241m=\u001b[39m {\u001b[38;5;124m'\u001b[39m\u001b[38;5;124msarfraz\u001b[39m\u001b[38;5;124m'\u001b[39m, \u001b[38;5;241m10\u001b[39m, \u001b[38;5;124m'\u001b[39m\u001b[38;5;124mahmad\u001b[39m\u001b[38;5;124m'\u001b[39m, \u001b[38;5;241m20\u001b[39m, \u001b[38;5;124m'\u001b[39m\u001b[38;5;124mkhan\u001b[39m\u001b[38;5;124m'\u001b[39m, \u001b[38;5;241m30\u001b[39m}\n\u001b[1;32m----> 3\u001b[0m \u001b[43mmyset\u001b[49m\u001b[38;5;241;43m.\u001b[39;49m\u001b[43mremove\u001b[49m\u001b[43m(\u001b[49m\u001b[38;5;241;43m50\u001b[39;49m\u001b[43m)\u001b[49m\n\u001b[0;32m      4\u001b[0m \u001b[38;5;28mprint\u001b[39m(myset)\n",
      "\u001b[1;31mKeyError\u001b[0m: 50"
     ]
    }
   ],
   "source": [
    "# remove() is used to remove singal item if not present value will throw keyerror\n",
    "myset = {'sarfraz', 10, 'ahmad', 20, 'khan', 30}\n",
    "myset.remove(50)\n",
    "print(myset)"
   ]
  },
  {
   "cell_type": "code",
   "execution_count": 12,
   "id": "6f91870d",
   "metadata": {},
   "outputs": [
    {
     "name": "stdout",
     "output_type": "stream",
     "text": [
      "{'sarfraz', 20, 'ahmad', 10, 'khan', 30}\n"
     ]
    }
   ],
   "source": [
    "# discard() is used to remove singal item if not present value will not throw any error\n",
    "myset = {'sarfraz', 10, 'ahmad', 20, 'khan', 30}\n",
    "myset.discard(50)\n",
    "print(myset)"
   ]
  },
  {
   "cell_type": "code",
   "execution_count": 19,
   "id": "0d79abef",
   "metadata": {},
   "outputs": [
    {
     "name": "stdout",
     "output_type": "stream",
     "text": [
      "{20, 'ahmad', 10, 'khan', 30}\n"
     ]
    }
   ],
   "source": [
    "# pop() is used to delete any randome item from a set\n",
    "myset = {'sarfraz', 10, 'ahmad', 20, 'khan', 30}\n",
    "myset.pop()\n",
    "print(myset)"
   ]
  },
  {
   "cell_type": "code",
   "execution_count": 23,
   "id": "70a21293",
   "metadata": {},
   "outputs": [
    {
     "name": "stdout",
     "output_type": "stream",
     "text": [
      "set()\n"
     ]
    }
   ],
   "source": [
    "# clear() is used to remove all items from the Set. The output will be an empty set\n",
    "myset = {'sarfraz', 10, 'ahmad', 20, 'khan', 30}\n",
    "myset.clear()\n",
    "print(myset)"
   ]
  },
  {
   "cell_type": "code",
   "execution_count": 24,
   "id": "7f99b1ea",
   "metadata": {},
   "outputs": [
    {
     "ename": "NameError",
     "evalue": "name 'myset' is not defined",
     "output_type": "error",
     "traceback": [
      "\u001b[1;31m---------------------------------------------------------------------------\u001b[0m",
      "\u001b[1;31mNameError\u001b[0m                                 Traceback (most recent call last)",
      "Input \u001b[1;32mIn [24]\u001b[0m, in \u001b[0;36m<cell line: 3>\u001b[1;34m()\u001b[0m\n\u001b[0;32m      1\u001b[0m myset \u001b[38;5;241m=\u001b[39m {\u001b[38;5;124m'\u001b[39m\u001b[38;5;124msarfraz\u001b[39m\u001b[38;5;124m'\u001b[39m, \u001b[38;5;241m10\u001b[39m, \u001b[38;5;124m'\u001b[39m\u001b[38;5;124mahmad\u001b[39m\u001b[38;5;124m'\u001b[39m, \u001b[38;5;241m20\u001b[39m, \u001b[38;5;124m'\u001b[39m\u001b[38;5;124mkhan\u001b[39m\u001b[38;5;124m'\u001b[39m, \u001b[38;5;241m30\u001b[39m}\n\u001b[0;32m      2\u001b[0m \u001b[38;5;28;01mdel\u001b[39;00m myset\n\u001b[1;32m----> 3\u001b[0m \u001b[38;5;28mprint\u001b[39m(\u001b[43mmyset\u001b[49m)\n",
      "\u001b[1;31mNameError\u001b[0m: name 'myset' is not defined"
     ]
    }
   ],
   "source": [
    "# Delete entire set()\n",
    "myset = {'sarfraz', 10, 'ahmad', 20, 'khan', 30}\n",
    "del myset\n",
    "print(myset)"
   ]
  },
  {
   "cell_type": "markdown",
   "id": "df7c358f",
   "metadata": {},
   "source": [
    "# Set operations"
   ]
  },
  {
   "cell_type": "code",
   "execution_count": 29,
   "id": "65476d1b",
   "metadata": {},
   "outputs": [
    {
     "name": "stdout",
     "output_type": "stream",
     "text": [
      "{'junaid', 'ashraf', 40, 10, 'sadik', 50, 20, 'ahmad', 'sarfraz', 'khan', 30}\n"
     ]
    }
   ],
   "source": [
    "# union() is used all the items of both sets will be returned. only duplicate items will be dropped\n",
    "myset1 = {'sarfraz', 10, 'ahmad', 20, 'khan', 30}\n",
    "myset2 = {'junaid', 'sadik', 'ashraf'}\n",
    "myset3 = {40, 50}\n",
    "myset4 = myset1.union(myset2,myset3)\n",
    "print(myset4)"
   ]
  },
  {
   "cell_type": "code",
   "execution_count": 28,
   "id": "c03fa379",
   "metadata": {},
   "outputs": [
    {
     "name": "stdout",
     "output_type": "stream",
     "text": [
      "{'junaid', 'ashraf', 40, 10, 'sadik', 50, 20, 'ahmad', 'sarfraz', 'khan', 30}\n"
     ]
    }
   ],
   "source": [
    "# or |  is used all the items of both sets will be returned. only duplicate items will be dropped\n",
    "myset1 = {'sarfraz', 10, 'ahmad', 20, 'khan', 30}\n",
    "myset2 = {'junaid', 'sadik', 'ashraf'}\n",
    "myset3 = {50, 40}\n",
    "myset4 = myset1|myset2|myset3\n",
    "print(myset4)"
   ]
  },
  {
   "cell_type": "code",
   "execution_count": 32,
   "id": "4409b44c",
   "metadata": {
    "scrolled": true
   },
   "outputs": [
    {
     "name": "stdout",
     "output_type": "stream",
     "text": [
      "{10, 20, 30}\n"
     ]
    }
   ],
   "source": [
    "# intersection() of two set will return only the common elements in both sets. the intersection can be done using the & operator\n",
    "# and intersection() method\n",
    "myset1 = {'sarfraz', 10, 'ahmad', 20, 'khan', 30}\n",
    "myset2 = {10, 20, 30}\n",
    "myset3 = myset1.intersection(myset2)\n",
    "print(myset3)"
   ]
  },
  {
   "cell_type": "code",
   "execution_count": 33,
   "id": "e3019240",
   "metadata": {},
   "outputs": [
    {
     "name": "stdout",
     "output_type": "stream",
     "text": [
      "{10, 20, 30}\n"
     ]
    }
   ],
   "source": [
    "myset1 = {'sarfraz', 10, 'ahmad', 20, 'khan', 30}\n",
    "myset2 = {10, 20, 30}\n",
    "myset3 = myset1&myset2\n",
    "print(myset3)"
   ]
  },
  {
   "cell_type": "code",
   "execution_count": 4,
   "id": "90c35142",
   "metadata": {},
   "outputs": [
    {
     "name": "stdout",
     "output_type": "stream",
     "text": [
      "{10, 20, 30}\n"
     ]
    }
   ],
   "source": [
    "# intersection_update() is used only common elements will be return  in the both set and update original set with common\n",
    "# elements\n",
    "myset1 = {'sarfraz', 10, 'ahmad', 20, 'khan', 30}\n",
    "myset2 = {10, 20, 30}\n",
    "myset1.intersection_update(myset2)\n",
    "print(myset1)"
   ]
  },
  {
   "cell_type": "code",
   "execution_count": 16,
   "id": "5309e557",
   "metadata": {},
   "outputs": [
    {
     "name": "stdout",
     "output_type": "stream",
     "text": [
      "{'sarfraz', 'ahmad'}\n",
      "{'sarfraz', 'ahmad'}\n"
     ]
    }
   ],
   "source": [
    "# difference() is used to remove same items in the first and second set\n",
    "# returns the items that are present only in the first set\n",
    "myset1 = {'sarfraz', 10, 'ahmad', 20, 'khan', 30}\n",
    "myset2 = {10, 20, 'junaid', 30, 40, 'khan'}\n",
    "print(myset1 - myset2)\n",
    "\n",
    "myset3 = myset1.difference(myset2)\n",
    "print(myset3)"
   ]
  },
  {
   "cell_type": "code",
   "execution_count": 19,
   "id": "97d5df5d",
   "metadata": {},
   "outputs": [
    {
     "name": "stdout",
     "output_type": "stream",
     "text": [
      "{'sarfraz', 'ahmad'}\n"
     ]
    }
   ],
   "source": [
    "# difference_update() is used to remove same items in the first and second set\n",
    "# returns the items that are present only in the first set. and update first set with present items\n",
    "myset1 = {'sarfraz', 10, 'ahmad', 20, 'khan', 30}\n",
    "myset2 = {10, 20, 'junaid', 30, 40, 'khan'}\n",
    "myset1.difference_update(myset2)\n",
    "print(myset1)"
   ]
  },
  {
   "cell_type": "code",
   "execution_count": 3,
   "id": "1ea7ba88",
   "metadata": {},
   "outputs": [
    {
     "name": "stdout",
     "output_type": "stream",
     "text": [
      "{'ahmad', 40, 'junaid', 'sarfraz'}\n",
      "{'ahmad', 40, 'junaid', 'sarfraz'}\n"
     ]
    }
   ],
   "source": [
    "# Symmetric_difference() operation returns the elements that are unique in both sets. This is the opposite of the intersection.\n",
    "# This is performed using the ^ operator or by using the symmetric_difference() method.\n",
    "\n",
    "myset1 = {'sarfraz', 10, 'ahmad', 20, 'khan', 30}\n",
    "myset2 = {10, 20, 'junaid', 30, 40, 'khan'}\n",
    "print(myset1 ^ myset2)\n",
    "\n",
    "myset11 = {'sarfraz', 10, 'ahmad', 20, 'khan', 30}\n",
    "myset12 = {10, 20, 'junaid', 30, 40, 'khan'}\n",
    "uniqueitem = myset11.symmetric_difference(myset12)\n",
    "print(uniqueitem)"
   ]
  },
  {
   "cell_type": "code",
   "execution_count": 6,
   "id": "e6efce8c",
   "metadata": {},
   "outputs": [
    {
     "name": "stdout",
     "output_type": "stream",
     "text": [
      "{'ahmad', 40, 'junaid', 'sarfraz'}\n"
     ]
    }
   ],
   "source": [
    "# symmetric_difference_update() is used to update the original set with the unique elements from both\n",
    "myset11 = {'sarfraz', 10, 'ahmad', 20, 'khan', 30}\n",
    "myset12 = {10, 20, 'junaid', 30, 40, 'khan'}\n",
    "myset11.symmetric_difference_update(myset12)\n",
    "print(myset11)"
   ]
  },
  {
   "cell_type": "code",
   "execution_count": 22,
   "id": "f4a66504",
   "metadata": {},
   "outputs": [
    {
     "name": "stdout",
     "output_type": "stream",
     "text": [
      "{'khan', 20, 'ahmad', 10, 'junaid', 30, 'sarfraz'}\n"
     ]
    }
   ],
   "source": [
    "# deep copy\n",
    "myset1 = {'sarfraz', 10, 'ahmad', 20, 'khan', 30}\n",
    "myset2 = myset1\n",
    "myset2.add('junaid')\n",
    "print(myset1)"
   ]
  },
  {
   "cell_type": "code",
   "execution_count": 24,
   "id": "52047cf5",
   "metadata": {},
   "outputs": [
    {
     "name": "stdout",
     "output_type": "stream",
     "text": [
      "{'khan', 20, 'ahmad', 10, 30, 'sarfraz'}\n"
     ]
    }
   ],
   "source": [
    "# shallow copy\n",
    "myset1 = {'sarfraz', 10, 'ahmad', 20, 'khan', 30}\n",
    "myset2 = myset1.copy()\n",
    "myset2.add('junaid')\n",
    "print(myset1)"
   ]
  },
  {
   "cell_type": "code",
   "execution_count": 27,
   "id": "0a6d64a2",
   "metadata": {},
   "outputs": [
    {
     "name": "stdout",
     "output_type": "stream",
     "text": [
      "{'khan', 20, 'ahmad', 10, 30, 'sarfraz'}\n"
     ]
    }
   ],
   "source": [
    "# shallow copy\n",
    "myset1 = {'sarfraz', 10, 'ahmad', 20, 'khan', 30}\n",
    "myset2 = set(myset1)\n",
    "myset2.add('junaid')\n",
    "print(myset1)"
   ]
  },
  {
   "cell_type": "markdown",
   "id": "0197af2a",
   "metadata": {},
   "source": [
    "# subset and superset"
   ]
  },
  {
   "cell_type": "code",
   "execution_count": 31,
   "id": "28d53470",
   "metadata": {},
   "outputs": [
    {
     "name": "stdout",
     "output_type": "stream",
     "text": [
      "True\n",
      "False\n"
     ]
    }
   ],
   "source": [
    "# issubset() is used to find whether a set is subset of another set\n",
    "myset1 = {'sarfraz', 10, 'ahmad', 20, 'khan', 30}\n",
    "myset2 = {'ahmad', 10, 20}\n",
    "subset = (myset2.issubset(myset1))\n",
    "print(subset)\n",
    "\n",
    "myset11 = {'sarfraz', 10, 'ahmad', 20, 'khan', 30}\n",
    "myset12 = {'ahmad', 10, 20}\n",
    "subset = (myset11.issubset(myset12))\n",
    "print(subset)"
   ]
  },
  {
   "cell_type": "code",
   "execution_count": 34,
   "id": "6db49120",
   "metadata": {},
   "outputs": [
    {
     "name": "stdout",
     "output_type": "stream",
     "text": [
      "False\n",
      "True\n"
     ]
    }
   ],
   "source": [
    "# issuperset() is used to find whether a set is issuperset of another set\n",
    "\n",
    "myset1 = {'sarfraz', 10, 'ahmad', 20, 'khan', 30}\n",
    "myset2 = {'ahmad', 10, 20}\n",
    "subset = (myset2.issuperset(myset1))\n",
    "print(subset)\n",
    "\n",
    "myset11 = {'sarfraz', 10, 'ahmad', 20, 'khan', 30}\n",
    "myset12 = {'ahmad', 10, 20}\n",
    "subset = (myset11.issuperset(myset12))\n",
    "print(subset)"
   ]
  },
  {
   "cell_type": "code",
   "execution_count": 42,
   "id": "b7a16c23",
   "metadata": {},
   "outputs": [
    {
     "name": "stdout",
     "output_type": "stream",
     "text": [
      "1 False\n",
      "2 True\n"
     ]
    }
   ],
   "source": [
    "# isdisjoint() is used to return if common item in set1 and set2 output False otherwise True\n",
    "myset1 = {'sarfraz', 10, 'ahmad', 20, 'khan', 30}\n",
    "myset2 = {'ahmad', 10, 20}\n",
    "myset3 = {'junaid', 'suhail', 50}\n",
    "disjoin = myset1.isdisjoint(myset2)\n",
    "print('1',disjoin)\n",
    "\n",
    "myset1 = {'sarfraz', 10, 'ahmad', 20, 'khan', 30}\n",
    "myset2 = {'ahmad', 10, 20}\n",
    "myset3 = {'junaid', 'suhail', 50}\n",
    "disjoint = myset1.isdisjoint(myset3)\n",
    "print('2',disjoint)"
   ]
  },
  {
   "cell_type": "code",
   "execution_count": 50,
   "id": "6a358841",
   "metadata": {},
   "outputs": [
    {
     "name": "stdout",
     "output_type": "stream",
     "text": [
      "[10, 20, 30, 40, 50]\n",
      "{40, 10, 50, 20, 30}\n"
     ]
    }
   ],
   "source": [
    "# sorted() is used to sort the set. This will return a new list and will not update the original set.\n",
    "myset1 = {50, 30, 10, 40, 20}\n",
    "sorted_list_set = sorted(myset1)\n",
    "print(sorted_list_set)\n",
    "sorted_set = set(sorted_list_set)\n",
    "print(sorted_set)"
   ]
  },
  {
   "cell_type": "code",
   "execution_count": 51,
   "id": "5b62fe2f",
   "metadata": {},
   "outputs": [
    {
     "name": "stdout",
     "output_type": "stream",
     "text": [
      "all() With all true values: True\n",
      "any() with all true Values: True\n",
      "all() with one Zero: False\n",
      "any() with one Zero: True\n",
      "all() with all True values: True\n",
      "any() with all True values: True\n",
      "all() with one False value: False\n",
      "any() with one False: True\n",
      "all() with all False values: False\n",
      "any() with all False values: False\n"
     ]
    }
   ],
   "source": [
    "set1 = {1, 2, 3, 4}\n",
    "set2 = {0, 2, 4, 6, 8}  # set with one false value '0'\n",
    "set3 = {True, True}  # set with all true\n",
    "set4 = {True, False}  # set with one false\n",
    "set5 = {False, 0}  # set with both false values\n",
    "\n",
    "# checking all true value set\n",
    "print('all() With all true values:', all(set1))  # True\n",
    "print('any() with all true Values:', any(set1))  # True\n",
    "\n",
    "# checking one false value set\n",
    "print('all() with one Zero:', all(set2))  # False\n",
    "print('any() with one Zero:', any(set2))  # True\n",
    "\n",
    "# checking with all true boolean\n",
    "print('all() with all True values:', all(set3))  # True\n",
    "print('any() with all True values:', any(set3))  # True\n",
    "\n",
    "# checking with one false boolean\n",
    "print('all() with one False value:', all(set4))  # False\n",
    "print('any() with one False:', any(set4))  # True\n",
    "\n",
    "# checking with all false values\n",
    "print('all() with all False values:', all(set5))  # False\n",
    "print('any() with all False values:', any(set5))  # False"
   ]
  },
  {
   "cell_type": "code",
   "execution_count": null,
   "id": "042a1738",
   "metadata": {},
   "outputs": [],
   "source": [
    "# In the case of a set with strings, it will compute the maximum/minimum value based on the ASCII Code.\n",
    "set1 = {2, 4, 6, 10, 8, 15}\n",
    "set2 = {'ABC', 'abc'}\n",
    "\n",
    "# Max item from integer Set\n",
    "print(max(set1))  # 15\n",
    "\n",
    "# Max item from string Set\n",
    "print(max(set2))  # abc\n",
    "\n",
    "# Minimum item from integer Set\n",
    "print(min(set1))  # 2\n",
    "\n",
    "# Minimum item from string Set\n",
    "print(min(set2))  # ABC"
   ]
  },
  {
   "cell_type": "code",
   "execution_count": null,
   "id": "5f8f4760",
   "metadata": {},
   "outputs": [],
   "source": []
  },
  {
   "cell_type": "code",
   "execution_count": null,
   "id": "eedc4fdf",
   "metadata": {},
   "outputs": [],
   "source": []
  },
  {
   "cell_type": "code",
   "execution_count": 24,
   "id": "712678b4",
   "metadata": {},
   "outputs": [
    {
     "name": "stdout",
     "output_type": "stream",
     "text": [
      "<class 'set'>\n"
     ]
    }
   ],
   "source": [
    "a = {'sarfraz'}\n",
    "print(type(a))"
   ]
  },
  {
   "cell_type": "code",
   "execution_count": 15,
   "id": "3e7e4a5d",
   "metadata": {},
   "outputs": [
    {
     "name": "stdout",
     "output_type": "stream",
     "text": [
      "<class 'set'>\n"
     ]
    }
   ],
   "source": [
    "a = set()\n",
    "print(type(a))"
   ]
  },
  {
   "cell_type": "code",
   "execution_count": 14,
   "id": "b47e650e",
   "metadata": {},
   "outputs": [
    {
     "name": "stdout",
     "output_type": "stream",
     "text": [
      "<class 'dict'>\n"
     ]
    }
   ],
   "source": [
    "a = {}\n",
    "print(type(a))"
   ]
  },
  {
   "cell_type": "code",
   "execution_count": 21,
   "id": "6f5acb83",
   "metadata": {},
   "outputs": [
    {
     "name": "stdout",
     "output_type": "stream",
     "text": [
      "<class 'dict'>\n"
     ]
    }
   ],
   "source": [
    "a = {'sarfraz':30}\n",
    "print(type(a))"
   ]
  },
  {
   "cell_type": "markdown",
   "id": "b80cb5ec",
   "metadata": {},
   "source": [
    "# Frozen Set\n",
    "- a frozenset is an immutable set. frozenset is an unordered collection of immutable unique items.\n",
    "we can create a frozenset using the frozensetz() function which takes a singal iterable object as a parameter.\n",
    "- when you want to create an immutable set that doesn't allow adding or removing items from a set.\n",
    "- when you want to create a read-only set\n",
    "- we can use union(|), intersection(&), difference(-), symmetric_difference(^)\n"
   ]
  },
  {
   "cell_type": "code",
   "execution_count": 5,
   "id": "87df4499",
   "metadata": {},
   "outputs": [
    {
     "name": "stdout",
     "output_type": "stream",
     "text": [
      "{'sarfraz', 30}\n",
      "<class 'set'>\n"
     ]
    }
   ],
   "source": [
    "frozen = ({'sarfraz', 30, 'ahmad'})\n",
    "frozen.pop()\n",
    "print(frozen)\n",
    "\n",
    "print(type(frozen))"
   ]
  },
  {
   "cell_type": "code",
   "execution_count": 9,
   "id": "53bb5e08",
   "metadata": {},
   "outputs": [
    {
     "name": "stdout",
     "output_type": "stream",
     "text": [
      "<class 'frozenset'>\n",
      "frozenset({'indigo', 'yellow', 'orange', 'blue', 'red', 'violet', 'green'})\n"
     ]
    }
   ],
   "source": [
    "tuple1 = ('violet', 'indigo', 'blue', 'green', 'yellow', 'orange', 'red')\n",
    "frozen = frozenset(tuple1)\n",
    "print(type(frozen))\n",
    "print(frozen)"
   ]
  },
  {
   "cell_type": "code",
   "execution_count": 10,
   "id": "f39141fd",
   "metadata": {},
   "outputs": [
    {
     "ename": "AttributeError",
     "evalue": "'frozenset' object has no attribute 'pop'",
     "output_type": "error",
     "traceback": [
      "\u001b[1;31m---------------------------------------------------------------------------\u001b[0m",
      "\u001b[1;31mAttributeError\u001b[0m                            Traceback (most recent call last)",
      "Input \u001b[1;32mIn [10]\u001b[0m, in \u001b[0;36m<cell line: 3>\u001b[1;34m()\u001b[0m\n\u001b[0;32m      1\u001b[0m tuple1 \u001b[38;5;241m=\u001b[39m (\u001b[38;5;124m'\u001b[39m\u001b[38;5;124mviolet\u001b[39m\u001b[38;5;124m'\u001b[39m, \u001b[38;5;124m'\u001b[39m\u001b[38;5;124mindigo\u001b[39m\u001b[38;5;124m'\u001b[39m, \u001b[38;5;124m'\u001b[39m\u001b[38;5;124mblue\u001b[39m\u001b[38;5;124m'\u001b[39m, \u001b[38;5;124m'\u001b[39m\u001b[38;5;124mgreen\u001b[39m\u001b[38;5;124m'\u001b[39m, \u001b[38;5;124m'\u001b[39m\u001b[38;5;124myellow\u001b[39m\u001b[38;5;124m'\u001b[39m, \u001b[38;5;124m'\u001b[39m\u001b[38;5;124morange\u001b[39m\u001b[38;5;124m'\u001b[39m, \u001b[38;5;124m'\u001b[39m\u001b[38;5;124mred\u001b[39m\u001b[38;5;124m'\u001b[39m)\n\u001b[0;32m      2\u001b[0m frozen \u001b[38;5;241m=\u001b[39m \u001b[38;5;28mfrozenset\u001b[39m(tuple1)\n\u001b[1;32m----> 3\u001b[0m \u001b[43mfrozen\u001b[49m\u001b[38;5;241;43m.\u001b[39;49m\u001b[43mpop\u001b[49m()\n\u001b[0;32m      4\u001b[0m \u001b[38;5;28mprint\u001b[39m(frozen)\n",
      "\u001b[1;31mAttributeError\u001b[0m: 'frozenset' object has no attribute 'pop'"
     ]
    }
   ],
   "source": [
    "tuple1 = ('violet', 'indigo', 'blue', 'green', 'yellow', 'orange', 'red')\n",
    "frozen = frozenset(tuple1)\n",
    "frozen.pop()\n",
    "print(frozen)"
   ]
  },
  {
   "cell_type": "code",
   "execution_count": 11,
   "id": "d3acd8a3",
   "metadata": {},
   "outputs": [
    {
     "ename": "TypeError",
     "evalue": "frozenset expected at most 1 argument, got 2",
     "output_type": "error",
     "traceback": [
      "\u001b[1;31m---------------------------------------------------------------------------\u001b[0m",
      "\u001b[1;31mTypeError\u001b[0m                                 Traceback (most recent call last)",
      "Input \u001b[1;32mIn [11]\u001b[0m, in \u001b[0;36m<cell line: 3>\u001b[1;34m()\u001b[0m\n\u001b[0;32m      1\u001b[0m tuple1 \u001b[38;5;241m=\u001b[39m (\u001b[38;5;124m'\u001b[39m\u001b[38;5;124mviolet\u001b[39m\u001b[38;5;124m'\u001b[39m, \u001b[38;5;124m'\u001b[39m\u001b[38;5;124mindigo\u001b[39m\u001b[38;5;124m'\u001b[39m, \u001b[38;5;124m'\u001b[39m\u001b[38;5;124mblue\u001b[39m\u001b[38;5;124m'\u001b[39m, \u001b[38;5;124m'\u001b[39m\u001b[38;5;124mgreen\u001b[39m\u001b[38;5;124m'\u001b[39m, \u001b[38;5;124m'\u001b[39m\u001b[38;5;124myellow\u001b[39m\u001b[38;5;124m'\u001b[39m, \u001b[38;5;124m'\u001b[39m\u001b[38;5;124morange\u001b[39m\u001b[38;5;124m'\u001b[39m, \u001b[38;5;124m'\u001b[39m\u001b[38;5;124mred\u001b[39m\u001b[38;5;124m'\u001b[39m)\n\u001b[0;32m      2\u001b[0m tp \u001b[38;5;241m=\u001b[39m (\u001b[38;5;124m'\u001b[39m\u001b[38;5;124mkhan\u001b[39m\u001b[38;5;124m'\u001b[39m, \u001b[38;5;241m30\u001b[39m)\n\u001b[1;32m----> 3\u001b[0m frozen \u001b[38;5;241m=\u001b[39m \u001b[38;5;28;43mfrozenset\u001b[39;49m\u001b[43m(\u001b[49m\u001b[43mtuple1\u001b[49m\u001b[43m,\u001b[49m\u001b[43mtp\u001b[49m\u001b[43m)\u001b[49m\n\u001b[0;32m      4\u001b[0m \u001b[38;5;28mprint\u001b[39m(frozen)\n",
      "\u001b[1;31mTypeError\u001b[0m: frozenset expected at most 1 argument, got 2"
     ]
    }
   ],
   "source": [
    "tuple1 = ('violet', 'indigo', 'blue', 'green', 'yellow', 'orange', 'red')\n",
    "tp = ('khan', 30)\n",
    "frozen = frozenset(tuple1,tp)\n",
    "print(frozen)\n"
   ]
  },
  {
   "cell_type": "code",
   "execution_count": 14,
   "id": "18fd1714",
   "metadata": {},
   "outputs": [
    {
     "name": "stdout",
     "output_type": "stream",
     "text": [
      "frozenset({'blue', 'red', 'indigo', 'violet', 'green'})\n"
     ]
    }
   ],
   "source": [
    "frozen1 = frozenset(('violet', 'indigo', 'blue', 'green'))\n",
    "frozen2 = frozenset(('blue', 'green', 'red'))\n",
    "frozen3 = frozen1.union(frozen2)\n",
    "print(frozen3)"
   ]
  },
  {
   "cell_type": "code",
   "execution_count": 15,
   "id": "6ff31cb9",
   "metadata": {},
   "outputs": [
    {
     "name": "stdout",
     "output_type": "stream",
     "text": [
      "frozenset({'blue', 'green'})\n"
     ]
    }
   ],
   "source": [
    "frozen1 = frozenset(('violet', 'indigo', 'blue', 'green'))\n",
    "frozen2 = frozenset(('blue', 'green', 'red'))\n",
    "frozen3 = frozen1.intersection(frozen2)\n",
    "print(frozen3)"
   ]
  },
  {
   "cell_type": "code",
   "execution_count": 16,
   "id": "6fc57451",
   "metadata": {},
   "outputs": [
    {
     "name": "stdout",
     "output_type": "stream",
     "text": [
      "frozenset({'violet', 'indigo'})\n"
     ]
    }
   ],
   "source": [
    "frozen1 = frozenset(('violet', 'indigo', 'blue', 'green'))\n",
    "frozen2 = frozenset(('blue', 'green', 'red'))\n",
    "frozen3 = frozen1.difference(frozen2)\n",
    "print(frozen3)"
   ]
  },
  {
   "cell_type": "code",
   "execution_count": 17,
   "id": "a9db66d1",
   "metadata": {},
   "outputs": [
    {
     "name": "stdout",
     "output_type": "stream",
     "text": [
      "frozenset({'indigo', 'red', 'violet'})\n"
     ]
    }
   ],
   "source": [
    "frozen1 = frozenset(('violet', 'indigo', 'blue', 'green'))\n",
    "frozen2 = frozenset(('blue', 'green', 'red'))\n",
    "frozen3 = frozen1.symmetric_difference(frozen2)\n",
    "print(frozen3)"
   ]
  },
  {
   "cell_type": "markdown",
   "id": "6e5335eb",
   "metadata": {},
   "source": [
    "# Nested Sets"
   ]
  },
  {
   "cell_type": "code",
   "execution_count": 2,
   "id": "dc2b34dc",
   "metadata": {},
   "outputs": [
    {
     "ename": "TypeError",
     "evalue": "unhashable type: 'set'",
     "output_type": "error",
     "traceback": [
      "\u001b[1;31m---------------------------------------------------------------------------\u001b[0m",
      "\u001b[1;31mTypeError\u001b[0m                                 Traceback (most recent call last)",
      "Input \u001b[1;32mIn [2]\u001b[0m, in \u001b[0;36m<cell line: 1>\u001b[1;34m()\u001b[0m\n\u001b[1;32m----> 1\u001b[0m set1 \u001b[38;5;241m=\u001b[39m {\u001b[38;5;124m'\u001b[39m\u001b[38;5;124msarfraz\u001b[39m\u001b[38;5;124m'\u001b[39m, \u001b[38;5;241m30\u001b[39m, \u001b[38;5;124m'\u001b[39m\u001b[38;5;124mahmad\u001b[39m\u001b[38;5;124m'\u001b[39m,{\u001b[38;5;124m'\u001b[39m\u001b[38;5;124mkhan\u001b[39m\u001b[38;5;124m'\u001b[39m,\u001b[38;5;241m1\u001b[39m}}\n\u001b[0;32m      2\u001b[0m \u001b[38;5;28mprint\u001b[39m(set1)\n",
      "\u001b[1;31mTypeError\u001b[0m: unhashable type: 'set'"
     ]
    }
   ],
   "source": [
    "set1 = {'sarfraz', 30, 'ahmad',{'khan',1}}\n",
    "print(set1)"
   ]
  },
  {
   "cell_type": "code",
   "execution_count": 10,
   "id": "54dcc840",
   "metadata": {},
   "outputs": [
    {
     "name": "stdout",
     "output_type": "stream",
     "text": [
      "{frozenset({'sarfraz', 'ahmad', 30}), frozenset({'junaid', 'khan', 1991})}\n"
     ]
    }
   ],
   "source": [
    "set1 = {'sarfraz', 30, 'ahmad'}\n",
    "set2 = {'khan', 1991, 'junaid'}\n",
    "nestedset = set((frozenset(set1),frozenset(set2)))\n",
    "print(nestedset)"
   ]
  },
  {
   "cell_type": "code",
   "execution_count": 8,
   "id": "eb95731e",
   "metadata": {},
   "outputs": [
    {
     "name": "stdout",
     "output_type": "stream",
     "text": [
      "frozenset({'sarfraz', 'ahmad', 30})\n",
      "frozenset({'junaid', 'khan', 1991})\n"
     ]
    }
   ],
   "source": [
    "set1 = ('sarfraz', 30, 'ahmad')\n",
    "set2 = ('khan', 1991, 'junaid')\n",
    "nestedset = set((frozenset(set1),frozenset(set2)))\n",
    "# print(nestedset)\n",
    "for set3 in nestedset:\n",
    "    print(set3)"
   ]
  },
  {
   "cell_type": "markdown",
   "id": "2adb3594",
   "metadata": {},
   "source": [
    "# Set Comprehension\n",
    "- syntax : expression, iterable, condition\n",
    "- set comprehension offers a shorter syntax when you want to create a new list based on the value of an existing set (iterables)"
   ]
  },
  {
   "cell_type": "code",
   "execution_count": 15,
   "id": "9b84a4dc",
   "metadata": {},
   "outputs": [
    {
     "name": "stdout",
     "output_type": "stream",
     "text": [
      "{16, 64, 4, 36}\n"
     ]
    }
   ],
   "source": [
    "square_set = {var ** 2 for var in range(1, 10) if var % 2 == 0}\n",
    "print(square_set)"
   ]
  },
  {
   "cell_type": "code",
   "execution_count": 17,
   "id": "0ebb6ca9",
   "metadata": {},
   "outputs": [
    {
     "name": "stdout",
     "output_type": "stream",
     "text": [
      "{'banana', 'mango', 'apple'}\n"
     ]
    }
   ],
   "source": [
    "fruits = {'apple', 'banana', 'cherry', 'kiwi', 'mango'}\n",
    "print({x for x in fruits if 'a' in x})"
   ]
  }
 ],
 "metadata": {
  "kernelspec": {
   "display_name": "Python 3 (ipykernel)",
   "language": "python",
   "name": "python3"
  },
  "language_info": {
   "codemirror_mode": {
    "name": "ipython",
    "version": 3
   },
   "file_extension": ".py",
   "mimetype": "text/x-python",
   "name": "python",
   "nbconvert_exporter": "python",
   "pygments_lexer": "ipython3",
   "version": "3.10.4"
  }
 },
 "nbformat": 4,
 "nbformat_minor": 5
}
