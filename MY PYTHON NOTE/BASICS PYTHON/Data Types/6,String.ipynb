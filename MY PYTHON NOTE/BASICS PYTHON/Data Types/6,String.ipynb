{
 "cells": [
  {
   "cell_type": "markdown",
   "id": "4a97952d",
   "metadata": {},
   "source": [
    "## join() \n",
    "- join() method Converts the elements of an iterable into a string\n",
    "- syntax : string_name.join(iterable)    syntax : seperator.join(iterable)\n",
    "- Iterable-object capable of returning it's member one at a time. for example: list, tuple, set, dictionary."
   ]
  },
  {
   "cell_type": "code",
   "execution_count": 10,
   "id": "01f32c0e",
   "metadata": {},
   "outputs": [
    {
     "name": "stdout",
     "output_type": "stream",
     "text": [
      "SARFRAZ\n",
      "<class 'str'>\n"
     ]
    }
   ],
   "source": [
    "lst = ['S', 'A', 'R', 'F', 'R', 'A', 'Z']\n",
    "str1 = ''.join(lst)\n",
    "print(str1)\n",
    "print(type(str1))"
   ]
  },
  {
   "cell_type": "code",
   "execution_count": 14,
   "id": "f8d8dca8",
   "metadata": {},
   "outputs": [
    {
     "name": "stdout",
     "output_type": "stream",
     "text": [
      "python --> html --> java\n"
     ]
    }
   ],
   "source": [
    "p_language = {'python', 'java', 'html'}\n",
    "j = ' --> '\n",
    "print(j.join(p_language))"
   ]
  },
  {
   "cell_type": "code",
   "execution_count": 20,
   "id": "c051f64f",
   "metadata": {},
   "outputs": [
    {
     "name": "stdout",
     "output_type": "stream",
     "text": [
      "India-Pakistan-Afganistan\n"
     ]
    }
   ],
   "source": [
    "dic = {'India':91, 'Pakistan':92, 'Afganistan':93}\n",
    "j = '-'.join(dic)\n",
    "print(j)"
   ]
  },
  {
   "cell_type": "markdown",
   "id": "bd6f75f4",
   "metadata": {},
   "source": [
    "## Split()\n",
    "- syntax :- string.split(separator, maxsplit)\n",
    "- split() method breaks up a string at the specified separator, and returns a list\n",
    "- seperator :- seperator for spilitin string. bydefault, whitespace is a seperator\n",
    "- maxsplit :- how many splits to do."
   ]
  },
  {
   "cell_type": "code",
   "execution_count": 22,
   "id": "027776fb",
   "metadata": {},
   "outputs": [
    {
     "name": "stdout",
     "output_type": "stream",
     "text": [
      "6\n",
      "['I', 'want', 'to', 'become', 'python', 'program']\n"
     ]
    }
   ],
   "source": [
    "msg = 'I want to become python program'\n",
    "words = msg.split()\n",
    "print(len(words))\n",
    "print(words)"
   ]
  },
  {
   "cell_type": "code",
   "execution_count": 31,
   "id": "0b3671e2",
   "metadata": {},
   "outputs": [
    {
     "name": "stdout",
     "output_type": "stream",
     "text": [
      "5\n",
      "['India', 'Pakistan', 'Bangladesh', 'Nepal', 'Srilanka']\n",
      "India\n",
      "Pakistan\n",
      "Bangladesh\n",
      "Nepal\n",
      "Srilanka\n"
     ]
    }
   ],
   "source": [
    "countries = 'India,Pakistan,Bangladesh,Nepal,Srilanka'\n",
    "country = countries.split(',')\n",
    "print(len(country))\n",
    "print(country)\n",
    "for country in country:\n",
    "    print(country)"
   ]
  },
  {
   "cell_type": "code",
   "execution_count": 7,
   "id": "ba26bc54",
   "metadata": {},
   "outputs": [
    {
     "name": "stdout",
     "output_type": "stream",
     "text": [
      "['India', 'Pakistan', 'Bangladesh,Nepal,Srilanka']\n"
     ]
    }
   ],
   "source": [
    "countries = 'India,Pakistan,Bangladesh,Nepal,Srilanka'\n",
    "country = countries.split(',', 2)\n",
    "print(country)"
   ]
  },
  {
   "cell_type": "markdown",
   "id": "9ec8bc97",
   "metadata": {},
   "source": [
    "## replace()\n",
    "- syntax :- string.replace(old, new)\n",
    "- Returns a string where a specified value is replaced with a specified value"
   ]
  },
  {
   "cell_type": "code",
   "execution_count": 36,
   "id": "a30359f7",
   "metadata": {},
   "outputs": [
    {
     "name": "stdout",
     "output_type": "stream",
     "text": [
      "Sarfraz khan\n"
     ]
    }
   ],
   "source": [
    "name = 'Sarfraz ahmad'\n",
    "print(name.replace('ahmad', 'khan'))"
   ]
  },
  {
   "cell_type": "code",
   "execution_count": 38,
   "id": "0f0ec80e",
   "metadata": {},
   "outputs": [
    {
     "name": "stdout",
     "output_type": "stream",
     "text": [
      "Sarfraz khan\n"
     ]
    }
   ],
   "source": [
    "name = 'Sarfraz ahmad'\n",
    "old = 'ahmad'\n",
    "new = 'khan'\n",
    "name1 = name.replace(old, new)\n",
    "print(name1)"
   ]
  },
  {
   "cell_type": "code",
   "execution_count": null,
   "id": "633e8423",
   "metadata": {},
   "outputs": [],
   "source": []
  }
 ],
 "metadata": {
  "kernelspec": {
   "display_name": "Python 3 (ipykernel)",
   "language": "python",
   "name": "python3"
  },
  "language_info": {
   "codemirror_mode": {
    "name": "ipython",
    "version": 3
   },
   "file_extension": ".py",
   "mimetype": "text/x-python",
   "name": "python",
   "nbconvert_exporter": "python",
   "pygments_lexer": "ipython3",
   "version": "3.10.4"
  }
 },
 "nbformat": 4,
 "nbformat_minor": 5
}
