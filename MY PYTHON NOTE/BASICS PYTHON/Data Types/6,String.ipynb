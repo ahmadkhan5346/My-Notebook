{
 "cells": [
  {
   "cell_type": "markdown",
   "id": "4a97952d",
   "metadata": {},
   "source": [
    "## join() \n",
    "- join() method Converts the elements of an iterable into a string\n",
    "- syntax : string_name.join(iterable)    syntax : seperator.join(iterable)\n",
    "- Iterable-object capable of returning it's member one at a time. for example: list, tuple, set, dictionary."
   ]
  },
  {
   "cell_type": "code",
   "execution_count": 2,
   "id": "01f32c0e",
   "metadata": {},
   "outputs": [
    {
     "name": "stdout",
     "output_type": "stream",
     "text": [
      "SARFRAZ\n",
      "<class 'str'>\n"
     ]
    }
   ],
   "source": [
    "lst = ['S', 'A', 'R', 'F', 'R', 'A', 'Z']\n",
    "str1 = ''.join(lst)\n",
    "print(str1)\n",
    "print(type(str1))"
   ]
  },
  {
   "cell_type": "code",
   "execution_count": 14,
   "id": "f8d8dca8",
   "metadata": {},
   "outputs": [
    {
     "name": "stdout",
     "output_type": "stream",
     "text": [
      "python --> html --> java\n"
     ]
    }
   ],
   "source": [
    "p_language = {'python', 'java', 'html'}\n",
    "j = ' --> '\n",
    "print(j.join(p_language))"
   ]
  },
  {
   "cell_type": "code",
   "execution_count": 20,
   "id": "c051f64f",
   "metadata": {},
   "outputs": [
    {
     "name": "stdout",
     "output_type": "stream",
     "text": [
      "India-Pakistan-Afganistan\n"
     ]
    }
   ],
   "source": [
    "dic = {'India':91, 'Pakistan':92, 'Afganistan':93}\n",
    "j = '-'.join(dic)\n",
    "print(j)"
   ]
  },
  {
   "cell_type": "markdown",
   "id": "bd6f75f4",
   "metadata": {},
   "source": [
    "## Split()\n",
    "- syntax :- string.split(separator, maxsplit)\n",
    "- split() method breaks up a string at the specified separator, and returns a list\n",
    "- seperator :- seperator for spilitin string. bydefault, whitespace is a seperator\n",
    "- maxsplit :- how many splits to do."
   ]
  },
  {
   "cell_type": "code",
   "execution_count": 4,
   "id": "027776fb",
   "metadata": {},
   "outputs": [
    {
     "name": "stdout",
     "output_type": "stream",
     "text": [
      "6\n",
      "['I', 'want', 'to', 'become', 'python', 'program']\n"
     ]
    }
   ],
   "source": [
    "msg = 'I want to become python program'\n",
    "words = msg.split()\n",
    "print(len(words))\n",
    "print(words)"
   ]
  },
  {
   "cell_type": "code",
   "execution_count": 31,
   "id": "0b3671e2",
   "metadata": {},
   "outputs": [
    {
     "name": "stdout",
     "output_type": "stream",
     "text": [
      "5\n",
      "['India', 'Pakistan', 'Bangladesh', 'Nepal', 'Srilanka']\n",
      "India\n",
      "Pakistan\n",
      "Bangladesh\n",
      "Nepal\n",
      "Srilanka\n"
     ]
    }
   ],
   "source": [
    "countries = 'India,Pakistan,Bangladesh,Nepal,Srilanka'\n",
    "country = countries.split(',')\n",
    "print(len(country))\n",
    "print(country)\n",
    "for country in country:\n",
    "    print(country)"
   ]
  },
  {
   "cell_type": "code",
   "execution_count": 7,
   "id": "ba26bc54",
   "metadata": {},
   "outputs": [
    {
     "name": "stdout",
     "output_type": "stream",
     "text": [
      "['India', 'Pakistan', 'Bangladesh,Nepal,Srilanka']\n"
     ]
    }
   ],
   "source": [
    "countries = 'India,Pakistan,Bangladesh,Nepal,Srilanka'\n",
    "country = countries.split(',', 2)\n",
    "print(country)"
   ]
  },
  {
   "cell_type": "markdown",
   "id": "9ec8bc97",
   "metadata": {},
   "source": [
    "## replace()\n",
    "- syntax :- string.replace(old, new)\n",
    "- Returns a string where a specified value is replaced with a specified value"
   ]
  },
  {
   "cell_type": "code",
   "execution_count": 36,
   "id": "a30359f7",
   "metadata": {},
   "outputs": [
    {
     "name": "stdout",
     "output_type": "stream",
     "text": [
      "Sarfraz khan\n"
     ]
    }
   ],
   "source": [
    "name = 'Sarfraz ahmad'\n",
    "print(name.replace('ahmad', 'khan'))"
   ]
  },
  {
   "cell_type": "code",
   "execution_count": 38,
   "id": "0f0ec80e",
   "metadata": {},
   "outputs": [
    {
     "name": "stdout",
     "output_type": "stream",
     "text": [
      "Sarfraz khan\n"
     ]
    }
   ],
   "source": [
    "name = 'Sarfraz ahmad'\n",
    "old = 'ahmad'\n",
    "new = 'khan'\n",
    "name1 = name.replace(old, new)\n",
    "print(name1)"
   ]
  },
  {
   "cell_type": "markdown",
   "id": "54bbf83f",
   "metadata": {},
   "source": [
    "### capitalize()\n",
    "- Converts the first character to upper case"
   ]
  },
  {
   "cell_type": "code",
   "execution_count": 11,
   "id": "b8d67cdf",
   "metadata": {},
   "outputs": [
    {
     "name": "stdout",
     "output_type": "stream",
     "text": [
      "Sarfraz ahmad khan\n"
     ]
    }
   ],
   "source": [
    "string1 = 'sarfraz ahmad khan'\n",
    "first_capital = string1.capitalize()\n",
    "print(first_capital)"
   ]
  },
  {
   "cell_type": "markdown",
   "id": "1aad7165",
   "metadata": {},
   "source": [
    "### casefold()\n",
    "Converts string into lower case"
   ]
  },
  {
   "cell_type": "code",
   "execution_count": 10,
   "id": "f3552f6b",
   "metadata": {},
   "outputs": [
    {
     "name": "stdout",
     "output_type": "stream",
     "text": [
      "sarfraz khan\n"
     ]
    }
   ],
   "source": [
    "string1 = 'SARFRAZ KHAN'\n",
    "lower = string1.casefold()\n",
    "print(lower)"
   ]
  },
  {
   "cell_type": "markdown",
   "id": "03d2fbd6",
   "metadata": {},
   "source": [
    "### center()\n",
    "- Returns a centered string"
   ]
  },
  {
   "cell_type": "code",
   "execution_count": 35,
   "id": "895b5dfa",
   "metadata": {},
   "outputs": [
    {
     "name": "stdout",
     "output_type": "stream",
     "text": [
      " sarfraz ahmad khan \n"
     ]
    }
   ],
   "source": [
    "string1 = 'sarfraz ahmad khan'\n",
    "a=string1.center(20)\n",
    "print(a)"
   ]
  },
  {
   "cell_type": "markdown",
   "id": "db5ea935",
   "metadata": {},
   "source": [
    "### count()\n",
    "- Returns the number of times a specified value occurs in a string\n"
   ]
  },
  {
   "cell_type": "code",
   "execution_count": 27,
   "id": "613149cb",
   "metadata": {},
   "outputs": [
    {
     "name": "stdout",
     "output_type": "stream",
     "text": [
      "5\n"
     ]
    }
   ],
   "source": [
    "string1 = 'sarfraz ahmad khan'\n",
    "a=string1.count('a')\n",
    "print(a)"
   ]
  },
  {
   "cell_type": "markdown",
   "id": "e92ed83b",
   "metadata": {},
   "source": [
    "### encode()\n",
    "- Returns an encoded version of the string"
   ]
  },
  {
   "cell_type": "code",
   "execution_count": 36,
   "id": "7cc080aa",
   "metadata": {},
   "outputs": [
    {
     "name": "stdout",
     "output_type": "stream",
     "text": [
      "b'sarfraz ahmad khan'\n"
     ]
    }
   ],
   "source": [
    "string1 = 'sarfraz ahmad khan'\n",
    "a=string1.encode()\n",
    "print(a)"
   ]
  },
  {
   "cell_type": "code",
   "execution_count": null,
   "id": "401601b2",
   "metadata": {},
   "outputs": [],
   "source": []
  }
 ],
 "metadata": {
  "kernelspec": {
   "display_name": "Python 3 (ipykernel)",
   "language": "python",
   "name": "python3"
  },
  "language_info": {
   "codemirror_mode": {
    "name": "ipython",
    "version": 3
   },
   "file_extension": ".py",
   "mimetype": "text/x-python",
   "name": "python",
   "nbconvert_exporter": "python",
   "pygments_lexer": "ipython3",
   "version": "3.10.4"
  }
 },
 "nbformat": 4,
 "nbformat_minor": 5
}
