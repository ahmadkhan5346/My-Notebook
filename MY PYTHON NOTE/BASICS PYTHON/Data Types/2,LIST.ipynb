{
 "cells": [
  {
   "cell_type": "markdown",
   "id": "403d0953",
   "metadata": {},
   "source": [
    "# List:\n",
    "- List is a collection which is Ordered, Mutable, Allows duplicate members, Indexable. list are created using square brackets.\n",
    "- linkedlist(Algorithm) technique use in list data type. insertion slow and searching fast in list\n",
    "- list is heterogenous and support item assignment"
   ]
  },
  {
   "cell_type": "code",
   "execution_count": null,
   "id": "dd529ec4",
   "metadata": {},
   "outputs": [],
   "source": []
  }
 ],
 "metadata": {
  "kernelspec": {
   "display_name": "Python 3 (ipykernel)",
   "language": "python",
   "name": "python3"
  },
  "language_info": {
   "codemirror_mode": {
    "name": "ipython",
    "version": 3
   },
   "file_extension": ".py",
   "mimetype": "text/x-python",
   "name": "python",
   "nbconvert_exporter": "python",
   "pygments_lexer": "ipython3",
   "version": "3.10.4"
  }
 },
 "nbformat": 4,
 "nbformat_minor": 5
}
