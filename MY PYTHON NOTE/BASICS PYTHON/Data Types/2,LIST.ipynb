{
 "cells": [
  {
   "cell_type": "markdown",
   "id": "403d0953",
   "metadata": {},
   "source": [
    "# List:\n",
    "- List is a collection which is Ordered, Mutable, Allows duplicate members, Indexable, Heterogeneous. list are created using square brackets.\n",
    "- linkedlist(Algorithm) technique use in list data type. insertion slow and searching fast in list\n",
    "- list is support item assignment"
   ]
  },
  {
   "cell_type": "code",
   "execution_count": 4,
   "id": "dd529ec4",
   "metadata": {},
   "outputs": [
    {
     "name": "stdout",
     "output_type": "stream",
     "text": [
      "4\n"
     ]
    }
   ],
   "source": [
    "# length of list\n",
    "list1 = [1,2,'sarfraz',3]\n",
    "a = (len(list1))\n",
    "print(a)"
   ]
  },
  {
   "cell_type": "code",
   "execution_count": 2,
   "id": "756482ad",
   "metadata": {},
   "outputs": [
    {
     "name": "stdout",
     "output_type": "stream",
     "text": [
      "['sarfraz', 3, 'ahmad']\n"
     ]
    }
   ],
   "source": [
    "list1 = [1,2,'sarfraz',3,'ahmad','khan']\n",
    "print(list1[2:5])"
   ]
  },
  {
   "cell_type": "code",
   "execution_count": 21,
   "id": "f7a32a31",
   "metadata": {},
   "outputs": [
    {
     "name": "stdout",
     "output_type": "stream",
     "text": [
      "1\n",
      "junaid\n",
      "2\n",
      "ahmad\n",
      "3\n",
      "khan\n"
     ]
    }
   ],
   "source": [
    "list1 = ['sarfraz','junaid','ahmad','khan']\n",
    "for i in range(1, len(list1)):\n",
    "    print(i)\n",
    "    print(list1[i])"
   ]
  },
  {
   "cell_type": "code",
   "execution_count": 22,
   "id": "52cb3ffa",
   "metadata": {},
   "outputs": [
    {
     "name": "stdout",
     "output_type": "stream",
     "text": [
      "0\n",
      "1\n",
      "2\n",
      "3\n",
      "4\n",
      "5\n"
     ]
    }
   ],
   "source": [
    "list1 = ['sarfraz','junaid','ahmad','khan',1,2]\n",
    "for i in range(len(list1)):\n",
    "    print(i)"
   ]
  },
  {
   "cell_type": "code",
   "execution_count": 25,
   "id": "f124b399",
   "metadata": {},
   "outputs": [
    {
     "name": "stdout",
     "output_type": "stream",
     "text": [
      "['sarfraz', 'junaid', 'ahmad', 'khan', 1, 2, 'suhail']\n",
      "['sarfraz', 'junaid', 'ahmad', 'khan', 1, 2, 'suhail', [450, 'ashraf', 'shadab']]\n"
     ]
    }
   ],
   "source": [
    "# append() accept only one parameter and add element end of the list\n",
    "list1 = ['sarfraz','junaid','ahmad','khan',1,2]\n",
    "list1.append('suhail')\n",
    "print(list1)\n",
    "\n",
    "# append the nested list at the end\n",
    "list1.append([450,'ashraf','shadab'])\n",
    "print(list1)"
   ]
  },
  {
   "cell_type": "code",
   "execution_count": 29,
   "id": "c173f95e",
   "metadata": {},
   "outputs": [
    {
     "name": "stdout",
     "output_type": "stream",
     "text": [
      "['sarfraz', 'junaid', 30, 'ahmad', 'khan', 1, 2]\n",
      "['sarfraz', 'junaid', ['akram', 30, 'ali'], 30, 'ahmad', 'khan', 1, 2]\n"
     ]
    }
   ],
   "source": [
    "# use the insert() to add the object at the specify position in the list\n",
    "# the insert method() accept two parameter, position and object\n",
    "\n",
    "my_list = ['sarfraz','junaid','ahmad','khan',1,2]\n",
    "my_list.insert(2,30)\n",
    "print(my_list)\n",
    "\n",
    "# insert nested list at a position 2\n",
    "\n",
    "my_list.insert(2, ['akram',30,'ali'])\n",
    "print(my_list)\n"
   ]
  },
  {
   "cell_type": "code",
   "execution_count": 35,
   "id": "76d7e076",
   "metadata": {},
   "outputs": [
    {
     "name": "stdout",
     "output_type": "stream",
     "text": [
      "['sarfraz', 31, 'ahmad', 'khan', 30, 'junaid', 22, 'ashraf', 23]\n"
     ]
    }
   ],
   "source": [
    "# the extend() will acccept the list of elements and add them at the end of the list\n",
    "my_list = ['sarfraz', 31, 'ahmad', 'khan', 30]\n",
    "my_list.extend(['junaid', 22, 'ashraf', 23])\n",
    "print(my_list)"
   ]
  },
  {
   "cell_type": "code",
   "execution_count": 38,
   "id": "a022e052",
   "metadata": {},
   "outputs": [
    {
     "name": "stdout",
     "output_type": "stream",
     "text": [
      "[50, 31, 'ahmad', 'khan', 30]\n",
      "[50, 310, 'sarfraz', 10, 20, 30, 'khan', 30]\n"
     ]
    }
   ],
   "source": [
    "# modify single item\n",
    "my_list = ['sarfraz', 31, 'ahmad', 'khan', 30]\n",
    "my_list[0] = 50\n",
    "print(my_list)\n",
    "\n",
    "# modify range of item\n",
    "my_list[1:3] = [310, 'sarfraz',10, 20, 30]\n",
    "print(my_list)"
   ]
  },
  {
   "cell_type": "code",
   "execution_count": 44,
   "id": "629245c2",
   "metadata": {},
   "outputs": [
    {
     "name": "stdout",
     "output_type": "stream",
     "text": [
      "[4, 16, 36, 64]\n"
     ]
    }
   ],
   "source": [
    "# modify all items\n",
    "my_list = [2, 4, 6, 8,]\n",
    "\n",
    "# change value of all items\n",
    "for i in range (len(my_list)):\n",
    "    square = my_list[i] * my_list[i]\n",
    "    my_list[i] = square\n",
    "print(my_list)"
   ]
  },
  {
   "cell_type": "code",
   "execution_count": 76,
   "id": "0f242533",
   "metadata": {},
   "outputs": [
    {
     "name": "stdout",
     "output_type": "stream",
     "text": [
      "0\n",
      "1\n",
      "4\n",
      "9\n",
      "16\n"
     ]
    }
   ],
   "source": [
    "# square of index value\n",
    "\n",
    "my_list = [2, 4, 6, 8, 10]\n",
    "for i in range(len(my_list)):\n",
    "    square = i * i\n",
    "    my_list[i] = square\n",
    "    print(square)\n"
   ]
  },
  {
   "cell_type": "code",
   "execution_count": 70,
   "id": "6ee47cdf",
   "metadata": {},
   "outputs": [
    {
     "name": "stdout",
     "output_type": "stream",
     "text": [
      "0\n",
      "[0, 4, 6, 8, 10, 12]\n",
      "1\n",
      "[0, 1, 6, 8, 10, 12]\n",
      "2\n",
      "[0, 1, 4, 8, 10, 12]\n",
      "3\n",
      "[0, 1, 4, 9, 10, 12]\n",
      "4\n",
      "[0, 1, 4, 9, 16, 12]\n",
      "5\n",
      "[0, 1, 4, 9, 16, 25]\n"
     ]
    }
   ],
   "source": [
    "my_list = [2, 4, 6, 8, 10, 12]\n",
    "for i in range(len(my_list)):\n",
    "    print(i)\n",
    "    square = i * i\n",
    "    my_list[i] = square\n",
    "    print(my_list)"
   ]
  },
  {
   "cell_type": "code",
   "execution_count": 78,
   "id": "c36f593e",
   "metadata": {},
   "outputs": [
    {
     "name": "stdout",
     "output_type": "stream",
     "text": [
      "0\n",
      "1\n",
      "4\n",
      "9\n",
      "16\n",
      "25\n"
     ]
    }
   ],
   "source": [
    "my_list = [2, 4, 6, 8, 10, 12]\n",
    "for i in range(len(my_list)):\n",
    "#     print(i)\n",
    "    square = i * i\n",
    "    my_list[i] = square\n",
    "    print(my_list[i])"
   ]
  },
  {
   "cell_type": "code",
   "execution_count": 25,
   "id": "728876ca",
   "metadata": {},
   "outputs": [
    {
     "name": "stdout",
     "output_type": "stream",
     "text": [
      "[1, 2, 3, 'sarfraz']\n"
     ]
    }
   ],
   "source": [
    "# use the remove() to remove the first occurrence of the item from the list\n",
    "# list.remove() takes exactly one argument\n",
    "my_list = [1, 1, 2, 3, 'sarfraz', 'khan']\n",
    "my_list.remove(1)\n",
    "my_list.remove('khan')\n",
    "print(my_list)"
   ]
  },
  {
   "cell_type": "code",
   "execution_count": 17,
   "id": "19107228",
   "metadata": {},
   "outputs": [
    {
     "name": "stdout",
     "output_type": "stream",
     "text": [
      "[1, 2, 3, 4, 4]\n",
      "[1, 2, 3, 4]\n",
      "[1, 2, 3]\n"
     ]
    }
   ],
   "source": [
    "# remove all occurrence of a specific item\n",
    "my_list = [1,2,3,4,4,4]\n",
    "for item in my_list:\n",
    "    my_list.remove(4)\n",
    "    print(my_list)"
   ]
  },
  {
   "cell_type": "code",
   "execution_count": 9,
   "id": "7e4141e7",
   "metadata": {},
   "outputs": [
    {
     "name": "stdout",
     "output_type": "stream",
     "text": [
      "[10, 20, 'sarfraz', 'khan']\n",
      "[10, 20, 'sarfraz']\n"
     ]
    }
   ],
   "source": [
    "# use the pop() to remove the item at the given index\n",
    "# pop expected at most 1 argument\n",
    "\n",
    "my_list = [10, 20, 30, 'sarfraz', 'khan']\n",
    "my_list.pop(2)\n",
    "print(my_list)\n",
    "\n",
    "# remove item without passing index number remove last item of list\n",
    "my_list.pop()\n",
    "print(my_list)"
   ]
  },
  {
   "cell_type": "code",
   "execution_count": 11,
   "id": "d69bf4de",
   "metadata": {},
   "outputs": [
    {
     "name": "stdout",
     "output_type": "stream",
     "text": [
      "[10, 'sarfraz', 'khan']\n",
      "[10, 'sarfraz', 20]\n"
     ]
    }
   ],
   "source": [
    "# use del keyword along with the list slicing to remove the range of items\n",
    "mylist = [10, 'sarfraz', 20, 'ahmad', 30, 'khan']\n",
    "del mylist[2:5]\n",
    "print(mylist)\n",
    "\n",
    "# remove all items starting from index 3\n",
    "mylist = [10, 'sarfraz', 20, 'ahmad', 30, 'khan']\n",
    "del mylist[3:]\n",
    "print(mylist)"
   ]
  },
  {
   "cell_type": "code",
   "execution_count": 26,
   "id": "cc3add74",
   "metadata": {},
   "outputs": [
    {
     "ename": "NameError",
     "evalue": "name 'mylist' is not defined",
     "output_type": "error",
     "traceback": [
      "\u001b[1;31m---------------------------------------------------------------------------\u001b[0m",
      "\u001b[1;31mNameError\u001b[0m                                 Traceback (most recent call last)",
      "Input \u001b[1;32mIn [26]\u001b[0m, in \u001b[0;36m<cell line: 3>\u001b[1;34m()\u001b[0m\n\u001b[0;32m      1\u001b[0m mylist \u001b[38;5;241m=\u001b[39m [\u001b[38;5;241m10\u001b[39m, \u001b[38;5;124m'\u001b[39m\u001b[38;5;124msarfraz\u001b[39m\u001b[38;5;124m'\u001b[39m, \u001b[38;5;241m20\u001b[39m, \u001b[38;5;124m'\u001b[39m\u001b[38;5;124mahmad\u001b[39m\u001b[38;5;124m'\u001b[39m, \u001b[38;5;241m30\u001b[39m, \u001b[38;5;124m'\u001b[39m\u001b[38;5;124mkhan\u001b[39m\u001b[38;5;124m'\u001b[39m]\n\u001b[0;32m      2\u001b[0m \u001b[38;5;28;01mdel\u001b[39;00m mylist\n\u001b[1;32m----> 3\u001b[0m \u001b[38;5;28mprint\u001b[39m(\u001b[43mmylist\u001b[49m)\n",
      "\u001b[1;31mNameError\u001b[0m: name 'mylist' is not defined"
     ]
    }
   ],
   "source": [
    "mylist = [10, 'sarfraz', 20, 'ahmad', 30, 'khan']\n",
    "del mylist\n",
    "print(mylist)\n"
   ]
  },
  {
   "cell_type": "code",
   "execution_count": 23,
   "id": "8f18f9f0",
   "metadata": {},
   "outputs": [
    {
     "name": "stdout",
     "output_type": "stream",
     "text": [
      "[]\n"
     ]
    }
   ],
   "source": [
    "# use the list clear() to remove all items from the list. the clear() truncates the list.\n",
    "mylist = [10, 'sarfraz', 20, 'ahmad', 30, 'khan']\n",
    "mylist.clear()\n",
    "print(mylist)\n",
    "\n",
    "# del mylist\n",
    "# print(mylist)"
   ]
  },
  {
   "cell_type": "code",
   "execution_count": 7,
   "id": "f48b35b2",
   "metadata": {},
   "outputs": [
    {
     "name": "stdout",
     "output_type": "stream",
     "text": [
      "5\n",
      "4\n"
     ]
    },
    {
     "data": {
      "text/plain": [
       "2"
      ]
     },
     "execution_count": 7,
     "metadata": {},
     "output_type": "execute_result"
    }
   ],
   "source": [
    "# use the index() output index number of value\n",
    "mylist = [10, 'sarfraz', 20, 'ahmad', 30, 'khan']\n",
    "print(mylist.index('khan'))\n",
    "print(mylist.index(30))\n",
    "mylist.index(10)\n",
    "mylist.index(20)\n"
   ]
  },
  {
   "cell_type": "code",
   "execution_count": 7,
   "id": "8498ca97",
   "metadata": {},
   "outputs": [
    {
     "name": "stdout",
     "output_type": "stream",
     "text": [
      "['sarfraz', 'ahmad', 'khan', 'junaid', 'shaikh']\n",
      "None ['sarfraz', 'ahmad', 'khan', 'junaid', 'shaikh', 'junaid', 'shaikh']\n"
     ]
    }
   ],
   "source": [
    "# concatenation of two list\n",
    "mylist1 = ['sarfraz', 'ahmad', 'khan']\n",
    "mylist2 = ['junaid', 'shaikh']\n",
    "mylist1.extend(mylist2)\n",
    "print(mylist1)\n",
    "print(mylist1.extend(mylist2),mylist1)\n"
   ]
  },
  {
   "cell_type": "code",
   "execution_count": 15,
   "id": "c92b7fcb",
   "metadata": {},
   "outputs": [
    {
     "name": "stdout",
     "output_type": "stream",
     "text": [
      "120\n"
     ]
    }
   ],
   "source": [
    "# sort list in ascending order\n",
    "a = [1,120,13,99,14,80,90]\n",
    "a.sort()\n",
    "for i in a:\n",
    "    pass\n",
    "print(i)"
   ]
  },
  {
   "cell_type": "code",
   "execution_count": 10,
   "id": "7babad89",
   "metadata": {},
   "outputs": [
    {
     "name": "stdout",
     "output_type": "stream",
     "text": [
      "[9, 8, 6, 5, 4, 3, 2, 1]\n"
     ]
    }
   ],
   "source": [
    "# sort list in descending order\n",
    "a = [1,6,2,9,5,8,3,4,]\n",
    "a.sort(reverse=True)\n",
    "print(a)"
   ]
  },
  {
   "cell_type": "code",
   "execution_count": 3,
   "id": "f44cf552",
   "metadata": {},
   "outputs": [
    {
     "name": "stdout",
     "output_type": "stream",
     "text": [
      "100\n",
      "40\n"
     ]
    }
   ],
   "source": [
    "# use max() return the maximum value in the list\n",
    "mylist = [50, 60, 40, 80, 100, 90]\n",
    "a = max(mylist)\n",
    "print(a)\n",
    "\n",
    "# use min() return the minimum value in the list\n",
    "print(min(mylist))"
   ]
  },
  {
   "cell_type": "code",
   "execution_count": 12,
   "id": "71f079cd",
   "metadata": {},
   "outputs": [
    {
     "name": "stdout",
     "output_type": "stream",
     "text": [
      "2\n",
      "3\n"
     ]
    }
   ],
   "source": [
    "# use count() to find how many duplicate number\n",
    "mylist = ['sarfraz', 'khan', 'khan', 1, 1, 1]\n",
    "a = mylist.count('khan')\n",
    "print(a)\n",
    "print(mylist.count(1))"
   ]
  },
  {
   "cell_type": "code",
   "execution_count": 16,
   "id": "68c8f009",
   "metadata": {},
   "outputs": [
    {
     "name": "stdout",
     "output_type": "stream",
     "text": [
      "150\n"
     ]
    }
   ],
   "source": [
    "# use sum() return the sum of all elements in the list\n",
    "mylist = [10, 20, 30,40,50]\n",
    "print(sum(mylist))"
   ]
  },
  {
   "cell_type": "markdown",
   "id": "34224802",
   "metadata": {},
   "source": [
    "# Deep copy\n",
    "###### any changes made in original list will reflect in the new list\n",
    "using assignment operator"
   ]
  },
  {
   "cell_type": "code",
   "execution_count": 30,
   "id": "c2f86762",
   "metadata": {},
   "outputs": [
    {
     "name": "stdout",
     "output_type": "stream",
     "text": [
      "['sarfraz', 'khan', 30]\n",
      "['sarfraz', 'khan', 30, 'junaid', 'shaikh']\n",
      "['sarfraz', 'khan', 30, 'junaid', 'shaikh']\n"
     ]
    }
   ],
   "source": [
    "mylist1 = ['sarfraz', 'khan', 30]\n",
    "newlist = mylist1\n",
    "print(newlist)\n",
    "\n",
    "# making changes in the original list\n",
    "mylist1.append('junaid')\n",
    "newlist.append('shaikh')\n",
    "print(mylist1)\n",
    "print(newlist)"
   ]
  },
  {
   "cell_type": "markdown",
   "id": "fb86e107",
   "metadata": {},
   "source": [
    "# shallow copy\n",
    "###### any changes made in original list will not reflect in the new list  \n",
    "using copy()method"
   ]
  },
  {
   "cell_type": "code",
   "execution_count": 32,
   "id": "82f00f48",
   "metadata": {},
   "outputs": [
    {
     "name": "stdout",
     "output_type": "stream",
     "text": [
      "['sarfraz', 'khan', 30, 'ahmad']\n",
      "['sarfraz', 'khan', 30]\n"
     ]
    }
   ],
   "source": [
    "mylist = ['sarfraz', 'khan', 30]\n",
    "newlist = mylist.copy()\n",
    "mylist.append('ahmad')\n",
    "print(mylist)\n",
    "print(newlist)"
   ]
  },
  {
   "cell_type": "markdown",
   "id": "fa55864c",
   "metadata": {},
   "source": [
    "# Nested list\n",
    "the list can contain another list which in turn contains another list and so on."
   ]
  },
  {
   "cell_type": "code",
   "execution_count": 22,
   "id": "aabdf01b",
   "metadata": {},
   "outputs": [
    {
     "name": "stdout",
     "output_type": "stream",
     "text": [
      "[[1, 2, 's', 3], [4, 5, 'a', 6]]\n",
      "[1, 2, 's', 3]\n"
     ]
    }
   ],
   "source": [
    "nestedlist = [[1,2,'s', 3], [4, 5, 'a', 6]]\n",
    "print(nestedlist)\n",
    "print(nestedlist[0])"
   ]
  },
  {
   "cell_type": "code",
   "execution_count": 23,
   "id": "d0cce2ec",
   "metadata": {},
   "outputs": [
    {
     "name": "stdout",
     "output_type": "stream",
     "text": [
      "a\n"
     ]
    }
   ],
   "source": [
    "nestedlist = [[1,2,'s', 3], [4, 5, 'a', 6]]\n",
    "# accessing the third element of the 2nd list\n",
    "print(nestedlist[1][2])"
   ]
  },
  {
   "cell_type": "code",
   "execution_count": 30,
   "id": "77ad6a88",
   "metadata": {
    "scrolled": true
   },
   "outputs": [
    {
     "name": "stdout",
     "output_type": "stream",
     "text": [
      "list [1, 2, 's', 3] element\n",
      "1\n",
      "2\n",
      "s\n",
      "3\n",
      "list [4, 5, 'a', 6] element\n",
      "4\n",
      "5\n",
      "a\n",
      "6\n"
     ]
    }
   ],
   "source": [
    "nestedlist = [[1,2,'s', 3], [4, 5, 'a', 6]]\n",
    "for i in nestedlist:\n",
    "    print('list', i, 'element')\n",
    "    for j in i:\n",
    "        print(j)"
   ]
  },
  {
   "cell_type": "code",
   "execution_count": 29,
   "id": "6f4e4204",
   "metadata": {
    "scrolled": true
   },
   "outputs": [
    {
     "name": "stdout",
     "output_type": "stream",
     "text": [
      "1\n",
      "2\n",
      "s\n",
      "3\n",
      "4\n",
      "5\n",
      "a\n",
      "6\n"
     ]
    }
   ],
   "source": [
    "nestedlist = [[1,2,'s', 3], [4, 5, 'a', 6]]\n",
    "for i in nestedlist:\n",
    "    for j in i:\n",
    "        print(j)"
   ]
  },
  {
   "cell_type": "markdown",
   "id": "68607955",
   "metadata": {},
   "source": [
    "# List Comprehension\n",
    "###### syntax : expression, iterable, condition\n",
    "###### list comprehension offers a shorter syntax when you want to create a new list based on the value of an existing list (iterables)"
   ]
  },
  {
   "cell_type": "code",
   "execution_count": 31,
   "id": "ae82a69e",
   "metadata": {},
   "outputs": [
    {
     "name": "stdout",
     "output_type": "stream",
     "text": [
      "['apple', 'banana', 'mango']\n"
     ]
    }
   ],
   "source": [
    "fruits = ['apple', 'banana', 'cherry', 'kiwi', 'mango']\n",
    "newlist = []\n",
    "for x in fruits:\n",
    "    if 'a' in x:\n",
    "        newlist.append(x)\n",
    "print(newlist)"
   ]
  },
  {
   "cell_type": "code",
   "execution_count": 33,
   "id": "bf8bc469",
   "metadata": {},
   "outputs": [
    {
     "name": "stdout",
     "output_type": "stream",
     "text": [
      "['apple', 'banana', 'mango']\n"
     ]
    }
   ],
   "source": [
    "# list comprehension\n",
    "fruits = ['apple', 'banana', 'cherry', 'kiwi', 'mango']\n",
    "newlist = [x for x in fruits if 'a' in x]\n",
    "print(newlist)"
   ]
  },
  {
   "cell_type": "code",
   "execution_count": 4,
   "id": "2b94523d",
   "metadata": {},
   "outputs": [
    {
     "name": "stdout",
     "output_type": "stream",
     "text": [
      "['apple', 'banana', 'mango']\n"
     ]
    }
   ],
   "source": [
    "fruits = ['apple', 'banana', 'cherry', 'kiwi', 'mango']\n",
    "print([x for x in fruits if 'a' in x])"
   ]
  },
  {
   "cell_type": "code",
   "execution_count": 17,
   "id": "a6309407",
   "metadata": {},
   "outputs": [
    {
     "name": "stdout",
     "output_type": "stream",
     "text": [
      "[4, 16, 36, 64]\n"
     ]
    }
   ],
   "source": [
    "number = [1, 2, 3, 4, 5, 6, 7, 8]\n",
    "squarelist = [num**2 for num in number if num %2 == 0]\n",
    "print(squarelist)"
   ]
  },
  {
   "cell_type": "markdown",
   "id": "99e1eeea",
   "metadata": {},
   "source": [
    "# we can create a list when the input is a continuous range of numbers\n"
   ]
  },
  {
   "cell_type": "code",
   "execution_count": 19,
   "id": "fea8051c",
   "metadata": {},
   "outputs": [
    {
     "name": "stdout",
     "output_type": "stream",
     "text": [
      "[1, 9, 25, 49, 81, 121, 169, 225, 289, 361]\n"
     ]
    }
   ],
   "source": [
    "squarelist = [i**2 for i in range(20) if i %2 == 1]\n",
    "print(squarelist)"
   ]
  }
 ],
 "metadata": {
  "kernelspec": {
   "display_name": "Python 3 (ipykernel)",
   "language": "python",
   "name": "python3"
  },
  "language_info": {
   "codemirror_mode": {
    "name": "ipython",
    "version": 3
   },
   "file_extension": ".py",
   "mimetype": "text/x-python",
   "name": "python",
   "nbconvert_exporter": "python",
   "pygments_lexer": "ipython3",
   "version": "3.10.4"
  }
 },
 "nbformat": 4,
 "nbformat_minor": 5
}
