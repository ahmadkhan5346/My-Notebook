{
 "cells": [
  {
   "cell_type": "markdown",
   "id": "eeed6d1f",
   "metadata": {},
   "source": [
    "# Veriable\n",
    "A Veriable is a reserved memory area to store value and data\n",
    "# Number\n",
    "A number  is a data type to store numeric value\n"
   ]
  },
  {
   "cell_type": "markdown",
   "id": "903b1beb",
   "metadata": {},
   "source": [
    "# Local Variable\n",
    "Local veriable is a veriable that is a accessible inside a block  of code only where it is declared"
   ]
  },
  {
   "cell_type": "code",
   "execution_count": 2,
   "id": "2b7f0d31",
   "metadata": {},
   "outputs": [
    {
     "name": "stdout",
     "output_type": "stream",
     "text": [
      "Price this Car is 500\n"
     ]
    }
   ],
   "source": [
    "def test1():\n",
    "    price = 500\n",
    "    print('Price this Car is',price)\n",
    "    \n",
    "def test2():\n",
    "    print('Price this Car is',price)\n",
    "    \n",
    "test1()\n",
    "# test2()"
   ]
  },
  {
   "cell_type": "markdown",
   "id": "9501ae16",
   "metadata": {},
   "source": [
    "# Global Variable\n",
    "Global veriable is a veriable that is defined outside of the block of code that is accessible anywhere in the code file"
   ]
  },
  {
   "cell_type": "code",
   "execution_count": 9,
   "id": "4c69d6a4",
   "metadata": {},
   "outputs": [
    {
     "name": "stdout",
     "output_type": "stream",
     "text": [
      "Price this Car is 500\n",
      "Price this Car is 500\n"
     ]
    }
   ],
   "source": [
    "price = 500\n",
    "\n",
    "def test1():\n",
    "    print('Price this Car is',price)\n",
    "    \n",
    "def test2():\n",
    "    print('Price this Car is',price)\n",
    "    \n",
    "test1()\n",
    "test2()"
   ]
  },
  {
   "cell_type": "code",
   "execution_count": 4,
   "id": "67153a5f",
   "metadata": {},
   "outputs": [
    {
     "name": "stdout",
     "output_type": "stream",
     "text": [
      "2342\n",
      "3297\n"
     ]
    }
   ],
   "source": [
    "import sys\n",
    "a = 10\n",
    "b = 10\n",
    "print(sys.getrefcount(a))\n",
    "\n",
    "c = 20\n",
    "d = 20\n",
    "e = 20\n",
    "print(sys.getrefcount(c))\n",
    "\n"
   ]
  },
  {
   "cell_type": "markdown",
   "id": "a90efab9",
   "metadata": {},
   "source": [
    "# packing a collection into a variable"
   ]
  },
  {
   "cell_type": "code",
   "execution_count": 2,
   "id": "f381d3ba",
   "metadata": {},
   "outputs": [
    {
     "name": "stdout",
     "output_type": "stream",
     "text": [
      "(10, 20, 30, 40)\n"
     ]
    }
   ],
   "source": [
    "a = 10\n",
    "b = 20\n",
    "c = 30\n",
    "d = 40\n",
    "tuple1 = a,b,c,d\n",
    "print(tuple1)"
   ]
  },
  {
   "cell_type": "markdown",
   "id": "ecc2b84a",
   "metadata": {},
   "source": [
    "# unpacking a collection into a variable"
   ]
  },
  {
   "cell_type": "code",
   "execution_count": 3,
   "id": "bdfaebc2",
   "metadata": {},
   "outputs": [
    {
     "name": "stdout",
     "output_type": "stream",
     "text": [
      "10 20 30 40\n"
     ]
    }
   ],
   "source": [
    "tuple1 = 10,20,30,40\n",
    "a,b,c,d = tuple1\n",
    "print(a,b,c,d)"
   ]
  },
  {
   "cell_type": "markdown",
   "id": "6ba0ccd8",
   "metadata": {},
   "source": [
    "# All data type basic practice"
   ]
  },
  {
   "cell_type": "markdown",
   "id": "7585eb76",
   "metadata": {},
   "source": [
    "## Binary(base2), Octal(base8), Hexadecimal number(base16)"
   ]
  },
  {
   "cell_type": "code",
   "execution_count": 2,
   "id": "b080ae20",
   "metadata": {},
   "outputs": [
    {
     "name": "stdout",
     "output_type": "stream",
     "text": [
      "16\n"
     ]
    }
   ],
   "source": [
    "#Octal\n",
    "octal_num = 0o20\n",
    "print(octal_num)"
   ]
  },
  {
   "cell_type": "code",
   "execution_count": 3,
   "id": "8f5b0d3f",
   "metadata": {},
   "outputs": [
    {
     "name": "stdout",
     "output_type": "stream",
     "text": [
      "16\n"
     ]
    }
   ],
   "source": [
    "# Hexadecimal\n",
    "hexadecimal_num = 0x10\n",
    "print(hexadecimal_num)"
   ]
  },
  {
   "cell_type": "code",
   "execution_count": 4,
   "id": "314a6a2e",
   "metadata": {},
   "outputs": [
    {
     "name": "stdout",
     "output_type": "stream",
     "text": [
      "16\n"
     ]
    }
   ],
   "source": [
    "#Binary\n",
    "binary_num = 0b10000\n",
    "print(binary_num)"
   ]
  },
  {
   "cell_type": "code",
   "execution_count": 1,
   "id": "acd4d6fd",
   "metadata": {},
   "outputs": [
    {
     "name": "stdout",
     "output_type": "stream",
     "text": [
      "12200.0\n"
     ]
    }
   ],
   "source": [
    "# Exponential float\n",
    "num = 1.22e4\n",
    "print(num)"
   ]
  },
  {
   "cell_type": "code",
   "execution_count": null,
   "id": "ad589c53",
   "metadata": {},
   "outputs": [],
   "source": []
  }
 ],
 "metadata": {
  "kernelspec": {
   "display_name": "Python 3 (ipykernel)",
   "language": "python",
   "name": "python3"
  },
  "language_info": {
   "codemirror_mode": {
    "name": "ipython",
    "version": 3
   },
   "file_extension": ".py",
   "mimetype": "text/x-python",
   "name": "python",
   "nbconvert_exporter": "python",
   "pygments_lexer": "ipython3",
   "version": "3.10.4"
  }
 },
 "nbformat": 4,
 "nbformat_minor": 5
}
