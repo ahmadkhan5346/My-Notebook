{
 "cells": [
  {
   "cell_type": "markdown",
   "id": "7c0f3a9c",
   "metadata": {},
   "source": [
    "## What is Programming\n",
    "Programming is the process of creating a set of instructions that tell a computer how to perform a task. Programming can be done using a variety of computer programming languages, such as JavaScript, Python, and C++."
   ]
  },
  {
   "cell_type": "markdown",
   "id": "4c92325e",
   "metadata": {},
   "source": [
    "# Syntax\n",
    "###### syntax is the structure of language or set of rule that defines how a python program will be written and interpreted."
   ]
  },
  {
   "cell_type": "markdown",
   "id": "97036da0",
   "metadata": {},
   "source": [
    "# Indentaion\n",
    "###### indentaion tells a python interpreter that the group of statements belong to a particular block of code.the indentaion makes the code look neet, clean and more readable\n",
    "\n"
   ]
  },
  {
   "cell_type": "markdown",
   "id": "27350299",
   "metadata": {},
   "source": [
    "# Expression\n",
    "###### The combination of variable, operator, and value."
   ]
  },
  {
   "cell_type": "markdown",
   "id": "66b60893",
   "metadata": {},
   "source": [
    "## Introduction of python\n",
    "###### Python is a programming language created by \"Guido van Rossum\" in 1991. it is a powerful general purpose, high-level, object oriented programming language, interpreted, dynamically typed language, easy to use syntax. it has wide range of applications from web development (Django and Flask) and mathematical computing (scipy, numpy)"
   ]
  },
  {
   "cell_type": "markdown",
   "id": "7bd61bb5",
   "metadata": {},
   "source": [
    "### (1) General purpose programming language :\n",
    "python can be use in many domains such as Machine learning, Artificial Intelligence, Scripting,Web development, data science, data analytics, etc that is python is called general purpose language.\n",
    "### (2 High level :\n",
    "in python memory management, garbage collection and so on.\n",
    "### (3) Object oriented programming language :\n",
    "oops is a programming paradigm that uses objects and classes in programming. it aims to implement real-world entities. like Abstraction, Encapsulation, Inheritance, Polymorphism.\n",
    "python is used strongly object oriented programmings and everything in python is considered as an object.\n",
    "### (4) Interpreted language :\n",
    "Do not required to convert in machine code before execution or run time\n",
    "1.write source code.\n",
    "2.compile code  using python compiler.\n",
    "3.compiler converts into bytes code.\n",
    "4.computer doesnot understand bytes code\n",
    "5.so, PVM (Python Virtual Machine) converts bytecode into machine code using interpreter\n",
    "### (5) Dynamically typed language :\n",
    "we do not need to specify the variable’s type while declaring it. Whatever value we assign to the variable based on that data type will be automatically assigned. For example, name = 'Jessa' here Python will store the name variable as a str data type.\n",
    "### (6) Easy to use syntax :\n",
    "python has a very simple and elegant syntax. it's much easier to read and write python program\n",
    "### (7) Extensible and Embeddable :\n",
    "python provided a extensible features by its liabrary to write a piece of python code in any language.\n",
    "### (8) Portable language :\n",
    "you can move python programs from one platform to another, and run without any changes. it runs seamlessly on almost  all platform including. windows, Mac, Linux, Unix.\n",
    "### (9) Integrated language :\n",
    "python is an integrated language because we can easily integrated python with other language  like C, C++, Java Script.\n",
    "### (10 Free and open source :\n",
    "python canbe distributed freely, even for commercial use anyone can changes to the python source code. python has a large community constantly improving it in each iteration.\n",
    "### (11) Graphical user interface (GUI) programming language :\n",
    "#### PyQT4, PyQT5, WX Python, TK Python."
   ]
  }
 ],
 "metadata": {
  "kernelspec": {
   "display_name": "Python 3 (ipykernel)",
   "language": "python",
   "name": "python3"
  },
  "language_info": {
   "codemirror_mode": {
    "name": "ipython",
    "version": 3
   },
   "file_extension": ".py",
   "mimetype": "text/x-python",
   "name": "python",
   "nbconvert_exporter": "python",
   "pygments_lexer": "ipython3",
   "version": "3.10.4"
  }
 },
 "nbformat": 4,
 "nbformat_minor": 5
}
