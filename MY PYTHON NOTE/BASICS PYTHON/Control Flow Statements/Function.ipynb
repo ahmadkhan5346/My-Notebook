{
 "cells": [
  {
   "cell_type": "code",
   "execution_count": 1,
   "id": "943ae9c1",
   "metadata": {},
   "outputs": [
    {
     "name": "stdout",
     "output_type": "stream",
     "text": [
      "Namaste Jessa\n"
     ]
    }
   ],
   "source": [
    "# Returns welcome message for a customer by customer name and location\n",
    "def greet(name, region):\n",
    "    message = get_message(region)\n",
    "    return message + \" \" + name\n",
    "\n",
    "#Return welcome message by location\n",
    "def get_message(region):\n",
    "    if (region == \"USA\"):\n",
    "        return \"Hello\"\n",
    "    elif (region == \"India\"):\n",
    "        return \"Namaste\"\n",
    "print(greet(\"Jessa\", \"India\"))"
   ]
  },
  {
   "cell_type": "code",
   "execution_count": null,
   "id": "1d8969b6",
   "metadata": {},
   "outputs": [],
   "source": []
  }
 ],
 "metadata": {
  "kernelspec": {
   "display_name": "Python 3 (ipykernel)",
   "language": "python",
   "name": "python3"
  },
  "language_info": {
   "codemirror_mode": {
    "name": "ipython",
    "version": 3
   },
   "file_extension": ".py",
   "mimetype": "text/x-python",
   "name": "python",
   "nbconvert_exporter": "python",
   "pygments_lexer": "ipython3",
   "version": "3.10.4"
  }
 },
 "nbformat": 4,
 "nbformat_minor": 5
}
