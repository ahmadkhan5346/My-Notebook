{
 "cells": [
  {
   "cell_type": "code",
   "execution_count": null,
   "id": "942831d2",
   "metadata": {},
   "outputs": [],
   "source": []
  },
  {
   "cell_type": "code",
   "execution_count": 5,
   "id": "943ae9c1",
   "metadata": {},
   "outputs": [
    {
     "name": "stdout",
     "output_type": "stream",
     "text": [
      "get_message: Namaste\n",
      "Namaste Jessa\n"
     ]
    }
   ],
   "source": [
    "# Returns welcome message for a customer by customer name and location\n",
    "def greet(name, region):\n",
    "    message = get_message(region)\n",
    "    print('get_message:',message)\n",
    "    return message + \" \" + name\n",
    "\n",
    "#Return welcome message by location\n",
    "def get_message(region):\n",
    "    if (region == \"USA\"):\n",
    "        return \"Hello\"\n",
    "    elif (region == \"India\"):\n",
    "        return \"Namaste\"\n",
    "print(greet(\"Jessa\", \"India\"))"
   ]
  },
  {
   "cell_type": "code",
   "execution_count": null,
   "id": "1d8969b6",
   "metadata": {},
   "outputs": [],
   "source": []
  }
 ],
 "metadata": {
  "kernelspec": {
   "display_name": "Python 3 (ipykernel)",
   "language": "python",
   "name": "python3"
  },
  "language_info": {
   "codemirror_mode": {
    "name": "ipython",
    "version": 3
   },
   "file_extension": ".py",
   "mimetype": "text/x-python",
   "name": "python",
   "nbconvert_exporter": "python",
   "pygments_lexer": "ipython3",
   "version": "3.10.4"
  }
 },
 "nbformat": 4,
 "nbformat_minor": 5
}
