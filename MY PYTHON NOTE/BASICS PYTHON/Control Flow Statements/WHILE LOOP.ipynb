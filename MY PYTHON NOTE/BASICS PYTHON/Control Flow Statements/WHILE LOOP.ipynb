{
 "cells": [
  {
   "cell_type": "code",
   "execution_count": null,
   "id": "13424a4d",
   "metadata": {},
   "outputs": [],
   "source": [
    "i = 0\n",
    "count = 1\n",
    "while count <3:\n",
    "    i += 1\n",
    "#     print('sarfraz',i)   # indifinte loop\n"
   ]
  },
  {
   "cell_type": "code",
   "execution_count": null,
   "id": "51863f52",
   "metadata": {},
   "outputs": [],
   "source": [
    "count = 1\n",
    "while count <3:\n",
    "    print('sarfraz',count)\n",
    "    count += 1"
   ]
  },
  {
   "cell_type": "code",
   "execution_count": null,
   "id": "37038215",
   "metadata": {},
   "outputs": [],
   "source": [
    "count = 0\n",
    "number = 180\n",
    "while number > 10:\n",
    "    number /= 3\n",
    "    count += 1\n",
    "print('total iteration required', count)"
   ]
  },
  {
   "cell_type": "code",
   "execution_count": 14,
   "id": "7e86f9ba",
   "metadata": {},
   "outputs": [
    {
     "name": "stdout",
     "output_type": "stream",
     "text": [
      "Enter any number between 100 & 500501\n",
      "Incorrect number, please enter correct number:\n",
      "Enter any number between 100 & 500500\n",
      "Given number is correct 500\n"
     ]
    }
   ],
   "source": [
    "number = int(input('Enter any number between 100 & 500'))\n",
    "while number < 100 or number > 500:\n",
    "    print('Incorrect number, please enter correct number:')\n",
    "    number = int(input('Enter any number between 100 & 500'))\n",
    "else:\n",
    "    print('Given number is correct', number)"
   ]
  },
  {
   "cell_type": "code",
   "execution_count": 5,
   "id": "22fd2647",
   "metadata": {},
   "outputs": [
    {
     "name": "stdout",
     "output_type": "stream",
     "text": [
      "Please Enter Number:3\n",
      "3 odd number\n",
      "2 even number\n",
      "1 odd number\n"
     ]
    }
   ],
   "source": [
    "n = int(input('Please Enter Number:'))\n",
    "while n > 0:\n",
    "    if n %2==0:\n",
    "        print(n,'even number')\n",
    "        \n",
    "    else:\n",
    "        print(n,'odd number')\n",
    "    n = n-1"
   ]
  },
  {
   "cell_type": "code",
   "execution_count": 2,
   "id": "5b813da7",
   "metadata": {},
   "outputs": [
    {
     "name": "stdout",
     "output_type": "stream",
     "text": [
      "S\n",
      "a\n",
      "r\n",
      "f\n",
      "r\n",
      "a\n",
      "z\n"
     ]
    }
   ],
   "source": [
    "name = 'Sarfraz1991khan'\n",
    "size = len(name)\n",
    "i = 0\n",
    "\n",
    "while i < size:               # iterate loop till the last characters\n",
    "    if name[i].isdecimal():   # break loop if current character is number\n",
    "        break\n",
    "    print(name[i])            # print current charachter\n",
    "    i = i+1"
   ]
  },
  {
   "cell_type": "code",
   "execution_count": 5,
   "id": "7109db95",
   "metadata": {},
   "outputs": [
    {
     "name": "stdout",
     "output_type": "stream",
     "text": [
      "S\n",
      "a\n",
      "r\n"
     ]
    }
   ],
   "source": [
    "name = 'Sar'\n",
    "size = len(name)\n",
    "i = -1\n",
    "while i < size -1 :\n",
    "    i = i+1\n",
    "    if not name[i].isalpha():\n",
    "        continue\n",
    "    print(name[i])"
   ]
  },
  {
   "cell_type": "code",
   "execution_count": 2,
   "id": "1247fdfb",
   "metadata": {},
   "outputs": [
    {
     "name": "stdout",
     "output_type": "stream",
     "text": [
      "* \n",
      "* * \n",
      "* * * \n",
      "* * * * \n"
     ]
    }
   ],
   "source": [
    "i = 1\n",
    "# outer while loop\n",
    "# 4 rows in pattern\n",
    "while i < 5:\n",
    "    j = 0\n",
    "    # nested while loop\n",
    "    while j < i:\n",
    "        print('*', end=' ')\n",
    "        j = j + 1\n",
    "    # end of nested while loop\n",
    "    # new line after each row\n",
    "    print('')\n",
    "    i = i + 1"
   ]
  },
  {
   "cell_type": "code",
   "execution_count": 3,
   "id": "f6000b79",
   "metadata": {},
   "outputs": [
    {
     "name": "stdout",
     "output_type": "stream",
     "text": [
      "* \n",
      "* * \n",
      "* * * \n",
      "* * * * \n",
      "* * * * * \n"
     ]
    }
   ],
   "source": [
    "i = 1\n",
    "while i < 6:\n",
    "    j = 0\n",
    "    while j < i:\n",
    "        print('*', end=' ')\n",
    "        j = j+1\n",
    "    print()\n",
    "    i += 1"
   ]
  },
  {
   "cell_type": "markdown",
   "id": "57229436",
   "metadata": {},
   "source": [
    "### nested forloop"
   ]
  },
  {
   "cell_type": "code",
   "execution_count": 5,
   "id": "2d9e153b",
   "metadata": {},
   "outputs": [
    {
     "name": "stdout",
     "output_type": "stream",
     "text": [
      "* * * * * \n",
      "* * * * \n",
      "* * * \n",
      "* * \n",
      "* \n"
     ]
    }
   ],
   "source": [
    "i = 1\n",
    "while i< 6:\n",
    "    for j in range(i, 6):\n",
    "        print('*', end=' ')\n",
    "    print()\n",
    "    i += 1"
   ]
  },
  {
   "cell_type": "code",
   "execution_count": 6,
   "id": "93c9b2e0",
   "metadata": {},
   "outputs": [
    {
     "name": "stdout",
     "output_type": "stream",
     "text": [
      "* \n",
      "* * \n",
      "* * * \n",
      "* * * * \n",
      "* * * * * \n"
     ]
    }
   ],
   "source": [
    "i = 1\n",
    "while i< 6:\n",
    "    for j in range(1, i+1):\n",
    "        print('*', end=' ')\n",
    "    print()\n",
    "    i += 1"
   ]
  },
  {
   "cell_type": "code",
   "execution_count": 18,
   "id": "eef42837",
   "metadata": {},
   "outputs": [
    {
     "name": "stdout",
     "output_type": "stream",
     "text": [
      "10 9 8 7 6 5 4 3 2 1 "
     ]
    }
   ],
   "source": [
    "i = 10\n",
    "while i >0:\n",
    "    print(i, end=' ')\n",
    "    i = i-1"
   ]
  },
  {
   "cell_type": "code",
   "execution_count": 27,
   "id": "acf42226",
   "metadata": {},
   "outputs": [
    {
     "name": "stdout",
     "output_type": "stream",
     "text": [
      "S index 0\n",
      "a index 1\n",
      "r index 2\n",
      "f index 3\n",
      "r index 4\n",
      "a index 5\n",
      "z index 6\n"
     ]
    }
   ],
   "source": [
    "name = 'Sarfraz'\n",
    "i = 0\n",
    "res = len(name)-1\n",
    "while i <= res:\n",
    "    print(name[i],'index', i)\n",
    "    i += 1"
   ]
  },
  {
   "cell_type": "code",
   "execution_count": 31,
   "id": "a33132e1",
   "metadata": {},
   "outputs": [
    {
     "name": "stdout",
     "output_type": "stream",
     "text": [
      "1\n",
      "2\n",
      "3\n",
      "4\n",
      "5\n"
     ]
    }
   ],
   "source": [
    "number = [1, 2, 3, 4, 5]\n",
    "i = 0\n",
    "while i < len(number):\n",
    "    print(number[i])\n",
    "    i += 1"
   ]
  },
  {
   "cell_type": "code",
   "execution_count": null,
   "id": "297de9df",
   "metadata": {},
   "outputs": [],
   "source": []
  },
  {
   "cell_type": "code",
   "execution_count": 2,
   "id": "c720d298",
   "metadata": {},
   "outputs": [
    {
     "name": "stdout",
     "output_type": "stream",
     "text": [
      "Enter the size of the list 3\n",
      "\n",
      "\n",
      "Enter the list items separated by space 1 2 3 4\n",
      "User list:  [1, 2, 3]\n"
     ]
    }
   ],
   "source": [
    "n = int(input(\"Enter the size of the list \"))\n",
    "print(\"\\n\")\n",
    "num_list = list(int(num) for num in input(\"Enter the list items separated by space \").strip().split())[:n]\n",
    "\n",
    "print(\"User list: \", num_list)"
   ]
  },
  {
   "cell_type": "code",
   "execution_count": 7,
   "id": "283be797",
   "metadata": {},
   "outputs": [
    {
     "name": "stdout",
     "output_type": "stream",
     "text": [
      "Enter the size of list : 2\n",
      "\n",
      "\n",
      "Enter the list numbers separated by space 1 2 3\n",
      "User List:  [1, 2]\n"
     ]
    }
   ],
   "source": [
    "n = int(input(\"Enter the size of list : \"))\n",
    "print(\"\\n\")\n",
    "numList = list(map(int, input(\"Enter the list numbers separated by space \").strip().split()))[:n]\n",
    "print(\"User List: \", numList)"
   ]
  },
  {
   "cell_type": "markdown",
   "id": "8edb15da",
   "metadata": {},
   "source": [
    "## Nested while loop"
   ]
  },
  {
   "cell_type": "code",
   "execution_count": 5,
   "id": "07161b09",
   "metadata": {},
   "outputs": [
    {
     "name": "stdout",
     "output_type": "stream",
     "text": [
      "outer loop\n",
      "inner looop\n",
      "inner looop\n",
      "inner looop\n",
      "outer loop\n",
      "inner looop\n",
      "inner looop\n",
      "inner looop\n",
      "outer loop\n",
      "inner looop\n",
      "inner looop\n",
      "inner looop\n"
     ]
    }
   ],
   "source": [
    "i = 1\n",
    "while i<= 3:\n",
    "    print('outer loop')\n",
    "    i += 1\n",
    "    \n",
    "    j = 1\n",
    "    while j <= 3:\n",
    "        print('inner looop')\n",
    "        j += 1"
   ]
  },
  {
   "cell_type": "code",
   "execution_count": null,
   "id": "38ab5d35",
   "metadata": {},
   "outputs": [],
   "source": [
    "numt = int(input(\"No of Theive\"))\n",
    "totalCoins = int(input(\"No of Gold\"))\n",
    "data = [0,0,0]\n",
    "coins = 0\n",
    "while totalCoins > 0:\n",
    "    thiefIndex = (coins % numt)\n",
    "    print(\"thiefIndex\", thiefIndex)\n",
    "    try:\n",
    "        data[thiefIndex]\n",
    "    except:\n",
    "        print(\"Index doesn't exist!\")\n",
    "        data[thiefIndex] = 0\n",
    "#     if data[thiefIndex] is None:\n",
    "#         data[thiefIndex] = 0 #Every thief starts with 0 coins\n",
    "    \n",
    "    coinsToGive = coins + 1\n",
    "    if totalCoins < coinsToGive:\n",
    "        coinsToGive = totalCoins\n",
    "    \n",
    "    data[thiefIndex] += coinsToGive\n",
    "    totalCoins -= coinsToGive\n",
    "    coins +=1\n",
    "    print(data)\n",
    "    \n",
    "print(data)"
   ]
  }
 ],
 "metadata": {
  "kernelspec": {
   "display_name": "Python 3 (ipykernel)",
   "language": "python",
   "name": "python3"
  },
  "language_info": {
   "codemirror_mode": {
    "name": "ipython",
    "version": 3
   },
   "file_extension": ".py",
   "mimetype": "text/x-python",
   "name": "python",
   "nbconvert_exporter": "python",
   "pygments_lexer": "ipython3",
   "version": "3.10.4"
  }
 },
 "nbformat": 4,
 "nbformat_minor": 5
}
