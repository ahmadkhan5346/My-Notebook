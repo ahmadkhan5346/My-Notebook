{
 "cells": [
  {
   "cell_type": "markdown",
   "id": "956e561c",
   "metadata": {},
   "source": [
    "# Exception :- \n",
    "- An exception is an event that occurs during the execution of programs that disrupt the normal flow of execution\n",
    "- FileNotFoundException\n",
    "- ImportError\n",
    "- RuntimeError\n",
    "- NameError\n",
    "- TypeError"
   ]
  },
  {
   "cell_type": "code",
   "execution_count": 25,
   "id": "70f625fc",
   "metadata": {},
   "outputs": [
    {
     "name": "stdout",
     "output_type": "stream",
     "text": [
      "Cant divide with zero. provide different number\n"
     ]
    }
   ],
   "source": [
    "try:\n",
    "    a=10;b=0;c=a/b\n",
    "    print('The answer of a divide by b:-',c)\n",
    "except:\n",
    "    print('Cant divide with zero. provide different number:-')"
   ]
  },
  {
   "cell_type": "markdown",
   "id": "2d3dd2b8",
   "metadata": {},
   "source": [
    "### Catching Specific Exceptions"
   ]
  },
  {
   "cell_type": "code",
   "execution_count": 31,
   "id": "56d58fd1",
   "metadata": {},
   "outputs": [
    {
     "name": "stdout",
     "output_type": "stream",
     "text": [
      "Enter the first number10\n",
      "Enter the second number2\n",
      "The answer of a divide by b 5.0\n"
     ]
    }
   ],
   "source": [
    "try:\n",
    "    a = int(input('Enter the first number:-'))\n",
    "    b = int(input('Enter the second number'))\n",
    "    c = a/b\n",
    "    print('The answer of a divide by b:-',c)\n",
    "except ValueError:\n",
    "    print('Entered value is wrong:-')\n",
    "\n",
    "except ZeroDivisionError:\n",
    "    print('Cant divided by zero:-')"
   ]
  },
  {
   "cell_type": "code",
   "execution_count": 36,
   "id": "6a7fb758",
   "metadata": {},
   "outputs": [
    {
     "name": "stdout",
     "output_type": "stream",
     "text": [
      "Enter the first number:-10\n",
      "Enter the second number:-2\n",
      "The answer of a divide by b:- 5.0\n"
     ]
    }
   ],
   "source": [
    "try:\n",
    "    a = int(input('Enter the first number:-'))\n",
    "    b = int(input('Enter the second number:-'))\n",
    "    c = a/b\n",
    "    print('The answer of a divide by b:-', c)\n",
    "except (ValueError, ZeroDivisionError):\n",
    "    print('Please enter a valid value:-')"
   ]
  },
  {
   "cell_type": "markdown",
   "id": "dfa48514",
   "metadata": {},
   "source": [
    "### Using try with finally\n",
    "- The finally block is used to write a block of code that must execute, whether the try block raises an error or not."
   ]
  },
  {
   "cell_type": "code",
   "execution_count": null,
   "id": "fe63bf03",
   "metadata": {},
   "outputs": [],
   "source": []
  },
  {
   "cell_type": "code",
   "execution_count": null,
   "id": "3c1d25e2",
   "metadata": {},
   "outputs": [],
   "source": []
  },
  {
   "cell_type": "code",
   "execution_count": null,
   "id": "838943e7",
   "metadata": {},
   "outputs": [],
   "source": []
  },
  {
   "cell_type": "code",
   "execution_count": null,
   "id": "6bdedcaa",
   "metadata": {},
   "outputs": [],
   "source": []
  },
  {
   "cell_type": "code",
   "execution_count": null,
   "id": "c3d1132b",
   "metadata": {},
   "outputs": [],
   "source": []
  },
  {
   "cell_type": "code",
   "execution_count": null,
   "id": "246116e2",
   "metadata": {},
   "outputs": [],
   "source": []
  },
  {
   "cell_type": "code",
   "execution_count": null,
   "id": "48e3efc8",
   "metadata": {},
   "outputs": [],
   "source": []
  },
  {
   "cell_type": "code",
   "execution_count": null,
   "id": "4da22bf4",
   "metadata": {},
   "outputs": [],
   "source": []
  },
  {
   "cell_type": "code",
   "execution_count": null,
   "id": "b02d7519",
   "metadata": {},
   "outputs": [],
   "source": []
  },
  {
   "cell_type": "code",
   "execution_count": null,
   "id": "f1c7200f",
   "metadata": {},
   "outputs": [],
   "source": []
  },
  {
   "cell_type": "code",
   "execution_count": null,
   "id": "88274bc0",
   "metadata": {},
   "outputs": [],
   "source": []
  },
  {
   "cell_type": "code",
   "execution_count": 33,
   "id": "f4464102",
   "metadata": {},
   "outputs": [
    {
     "name": "stdout",
     "output_type": "stream",
     "text": [
      "a/b = 5\n"
     ]
    }
   ],
   "source": [
    "a = 10\n",
    "b = 2\n",
    "c = a / b\n",
    "print(\"a/b = %d\" % c)"
   ]
  }
 ],
 "metadata": {
  "kernelspec": {
   "display_name": "Python 3 (ipykernel)",
   "language": "python",
   "name": "python3"
  },
  "language_info": {
   "codemirror_mode": {
    "name": "ipython",
    "version": 3
   },
   "file_extension": ".py",
   "mimetype": "text/x-python",
   "name": "python",
   "nbconvert_exporter": "python",
   "pygments_lexer": "ipython3",
   "version": "3.10.4"
  }
 },
 "nbformat": 4,
 "nbformat_minor": 5
}
