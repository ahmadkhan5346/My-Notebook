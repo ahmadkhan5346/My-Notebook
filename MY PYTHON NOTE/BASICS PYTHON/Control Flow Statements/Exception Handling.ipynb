{
 "cells": [
  {
   "cell_type": "markdown",
   "id": "956e561c",
   "metadata": {},
   "source": [
    "# Exception :- \n",
    "- An exception is an event that occurs during the execution of programs that disrupt the normal flow of execution\n",
    "- FileNotFoundException\n",
    "- ImportError\n",
    "- RuntimeError\n",
    "- NameError\n",
    "- TypeError"
   ]
  },
  {
   "cell_type": "code",
   "execution_count": 25,
   "id": "70f625fc",
   "metadata": {},
   "outputs": [
    {
     "name": "stdout",
     "output_type": "stream",
     "text": [
      "Cant divide with zero. provide different number\n"
     ]
    }
   ],
   "source": [
    "try:\n",
    "    a=10;b=0;c=a/b\n",
    "    print('The answer of a divide by b:-',c)\n",
    "except:\n",
    "    print('Cant divide with zero. provide different number:-')"
   ]
  },
  {
   "cell_type": "markdown",
   "id": "2d3dd2b8",
   "metadata": {},
   "source": [
    "### Catching Specific Exceptions"
   ]
  },
  {
   "cell_type": "code",
   "execution_count": 31,
   "id": "56d58fd1",
   "metadata": {},
   "outputs": [
    {
     "name": "stdout",
     "output_type": "stream",
     "text": [
      "Enter the first number10\n",
      "Enter the second number2\n",
      "The answer of a divide by b 5.0\n"
     ]
    }
   ],
   "source": [
    "try:\n",
    "    a = int(input('Enter the first number:-'))\n",
    "    b = int(input('Enter the second number'))\n",
    "    c = a/b\n",
    "    print('The answer of a divide by b:-',c)\n",
    "except ValueError:\n",
    "    print('Entered value is wrong:-')\n",
    "\n",
    "except ZeroDivisionError:\n",
    "    print('Cant divided by zero:-')"
   ]
  },
  {
   "cell_type": "markdown",
   "id": "974d07f9",
   "metadata": {},
   "source": [
    "### Handle multiple exceptions with a single except clause"
   ]
  },
  {
   "cell_type": "code",
   "execution_count": 8,
   "id": "6a7fb758",
   "metadata": {},
   "outputs": [
    {
     "name": "stdout",
     "output_type": "stream",
     "text": [
      "Enter the first number:-10\n",
      "Enter the second number:-5\n",
      "The answer of a divide by b:- 2.0\n"
     ]
    }
   ],
   "source": [
    "try:\n",
    "    a = int(input('Enter the first number:-'))\n",
    "    b = int(input('Enter the second number:-'))\n",
    "    c = a/b\n",
    "    print('The answer of a divide by b:-', c)\n",
    "except (ValueError, ZeroDivisionError):\n",
    "    print('Please enter a valid value:-')"
   ]
  },
  {
   "cell_type": "markdown",
   "id": "dfa48514",
   "metadata": {},
   "source": [
    "### Using try with finally\n",
    "- Python provides the finally block, which is used with the try block statement. The finally block is used to write a block of code that must execute, whether the try block raises an error or not."
   ]
  },
  {
   "cell_type": "code",
   "execution_count": 12,
   "id": "fe63bf03",
   "metadata": {},
   "outputs": [
    {
     "name": "stdout",
     "output_type": "stream",
     "text": [
      "Enter value of a:10\n",
      "Enter value of b:2\n",
      "The answer of a divide by b: 5.0\n",
      "Inside a finally block:\n"
     ]
    }
   ],
   "source": [
    "try:\n",
    "    a = float(input('Enter value of a:'))\n",
    "    b = float(input('Enter value of b:'))\n",
    "    c = a / b\n",
    "    print('The answer of a divide by b:',c)\n",
    "except ZeroDivisionError:\n",
    "    print(\"Can't divide by zero:\")\n",
    "finally:\n",
    "    print('Inside a finally block:')"
   ]
  },
  {
   "cell_type": "markdown",
   "id": "6bc0a9b6",
   "metadata": {},
   "source": [
    "### Using try with else clause"
   ]
  },
  {
   "cell_type": "code",
   "execution_count": 11,
   "id": "838943e7",
   "metadata": {},
   "outputs": [
    {
     "name": "stdout",
     "output_type": "stream",
     "text": [
      "Enter value of a:10\n",
      "Enter value of b:2\n",
      "a/b = 5\n",
      "We are in else block\n"
     ]
    }
   ],
   "source": [
    "try:\n",
    "    a = float(input('Enter value of a:'))\n",
    "    b = float(input('Enter value of b:'))\n",
    "    c = a / b\n",
    "    print('a/b = %d'%c)\n",
    "except ZeroDivisionError:\n",
    "    print('Cant divide by zero')\n",
    "else:\n",
    "    print('We are in else block')"
   ]
  },
  {
   "cell_type": "code",
   "execution_count": 2,
   "id": "6bdedcaa",
   "metadata": {},
   "outputs": [
    {
     "name": "stdout",
     "output_type": "stream",
     "text": [
      "Enter value of a:10\n",
      "Enter value of b:0\n",
      "5.0\n"
     ]
    }
   ],
   "source": [
    "try:\n",
    "    a = float(input('Enter value of a:'))\n",
    "    b = float(input('Enter value of b:'))\n",
    "    c = a / b\n",
    "    print('a/b = %d'%c)\n",
    "except:\n",
    "    c=a/2\n",
    "    print(c)"
   ]
  },
  {
   "cell_type": "markdown",
   "id": "6adf743c",
   "metadata": {},
   "source": [
    "### Raising an Exceptions"
   ]
  },
  {
   "cell_type": "code",
   "execution_count": 2,
   "id": "246116e2",
   "metadata": {},
   "outputs": [
    {
     "name": "stdout",
     "output_type": "stream",
     "text": [
      "Case1:\n",
      "interest rate out of range: 101\n"
     ]
    }
   ],
   "source": [
    "def simple_interest(amount, year, rate):\n",
    "    try:\n",
    "        if rate > 100:\n",
    "            raise ValueError(rate)\n",
    "        interest = (amount * year * rate) / 100\n",
    "        print('The Simple Interest is:', interest)\n",
    "        return interest\n",
    "    except ValueError:\n",
    "        print('interest rate out of range:', rate)\n",
    "print('Case1:')\n",
    "simple_interest(800, 6, 101)\n",
    "\n",
    "# print('Case2:')\n",
    "# simple_interest(800, 6, 800)"
   ]
  },
  {
   "cell_type": "markdown",
   "id": "7aac3b35",
   "metadata": {},
   "source": [
    "### Exception Chaining"
   ]
  },
  {
   "cell_type": "code",
   "execution_count": 6,
   "id": "4da22bf4",
   "metadata": {},
   "outputs": [
    {
     "name": "stdout",
     "output_type": "stream",
     "text": [
      "Enter value of a:10\n",
      "Enter value of b:0\n"
     ]
    },
    {
     "ename": "ValueError",
     "evalue": "Division failed",
     "output_type": "error",
     "traceback": [
      "\u001b[1;31m---------------------------------------------------------------------------\u001b[0m",
      "\u001b[1;31mZeroDivisionError\u001b[0m                         Traceback (most recent call last)",
      "Input \u001b[1;32mIn [6]\u001b[0m, in \u001b[0;36m<cell line: 1>\u001b[1;34m()\u001b[0m\n\u001b[0;32m      3\u001b[0m b \u001b[38;5;241m=\u001b[39m \u001b[38;5;28mint\u001b[39m(\u001b[38;5;28minput\u001b[39m(\u001b[38;5;124m\"\u001b[39m\u001b[38;5;124mEnter value of b:\u001b[39m\u001b[38;5;124m\"\u001b[39m))\n\u001b[1;32m----> 4\u001b[0m c \u001b[38;5;241m=\u001b[39m \u001b[43ma\u001b[49m\u001b[38;5;241;43m/\u001b[39;49m\u001b[43mb\u001b[49m\n\u001b[0;32m      5\u001b[0m \u001b[38;5;28mprint\u001b[39m(\u001b[38;5;124m\"\u001b[39m\u001b[38;5;124mThe answer of a divide by b:\u001b[39m\u001b[38;5;124m\"\u001b[39m, c)\n",
      "\u001b[1;31mZeroDivisionError\u001b[0m: division by zero",
      "\nThe above exception was the direct cause of the following exception:\n",
      "\u001b[1;31mValueError\u001b[0m                                Traceback (most recent call last)",
      "Input \u001b[1;32mIn [6]\u001b[0m, in \u001b[0;36m<cell line: 1>\u001b[1;34m()\u001b[0m\n\u001b[0;32m      5\u001b[0m     \u001b[38;5;28mprint\u001b[39m(\u001b[38;5;124m\"\u001b[39m\u001b[38;5;124mThe answer of a divide by b:\u001b[39m\u001b[38;5;124m\"\u001b[39m, c)\n\u001b[0;32m      6\u001b[0m \u001b[38;5;28;01mexcept\u001b[39;00m \u001b[38;5;167;01mZeroDivisionError\u001b[39;00m \u001b[38;5;28;01mas\u001b[39;00m e:\n\u001b[1;32m----> 7\u001b[0m     \u001b[38;5;28;01mraise\u001b[39;00m \u001b[38;5;167;01mValueError\u001b[39;00m(\u001b[38;5;124m'\u001b[39m\u001b[38;5;124mDivision failed\u001b[39m\u001b[38;5;124m'\u001b[39m) \u001b[38;5;28;01mfrom\u001b[39;00m \u001b[38;5;21;01me\u001b[39;00m\n",
      "\u001b[1;31mValueError\u001b[0m: Division failed"
     ]
    }
   ],
   "source": [
    "try:\n",
    "    a = int(input(\"Enter value of a:\"))\n",
    "    b = int(input(\"Enter value of b:\"))\n",
    "    c = a/b\n",
    "    print(\"The answer of a divide by b:\", c)\n",
    "except ZeroDivisionError as e:\n",
    "    raise ValueError('Division failed') from e"
   ]
  },
  {
   "cell_type": "markdown",
   "id": "64517094",
   "metadata": {},
   "source": [
    "### Custom and User-defined Exceptions"
   ]
  },
  {
   "cell_type": "code",
   "execution_count": 5,
   "id": "88274bc0",
   "metadata": {},
   "outputs": [
    {
     "name": "stdout",
     "output_type": "stream",
     "text": [
      "Enter any value in 10 to 50 range:56\n",
      "Value out of range..try again\n",
      "Enter any value in 10 to 50 range:3\n",
      "Value is below range..try again\n",
      "Enter any value in 10 to 50 range:12\n",
      "Great! value in correct range.\n"
     ]
    }
   ],
   "source": [
    "class Error(Exception):\n",
    "    '''Base class for other exceptions'''\n",
    "    pass\n",
    "\n",
    "class ValueTooSmallError(Error):\n",
    "    '''Raised when the input value is small'''\n",
    "    pass\n",
    "\n",
    "class ValueTooLargeError(Error):\n",
    "    '''Raised when the input value is large'''\n",
    "    pass\n",
    "\n",
    "while True:\n",
    "    try:\n",
    "        num = int(input('Enter any value in 10 to 50 range:'))\n",
    "        if num < 10:\n",
    "            raise ValueTooSmallError\n",
    "        elif num > 50:\n",
    "            raise ValueTooLargeError\n",
    "        break\n",
    "    except ValueTooSmallError:\n",
    "        print('Value is below range..try again')\n",
    "    except ValueTooLargeError:\n",
    "        print('Value out of range..try again')\n",
    "print(\"Great! value in correct range.\")"
   ]
  },
  {
   "cell_type": "markdown",
   "id": "a9548bc5",
   "metadata": {},
   "source": [
    "### Customizing Exception Classes"
   ]
  },
  {
   "cell_type": "code",
   "execution_count": 8,
   "id": "39ef6912",
   "metadata": {},
   "outputs": [
    {
     "name": "stdout",
     "output_type": "stream",
     "text": [
      "Enter Age:-1\n"
     ]
    },
    {
     "ename": "NegativeAgeError",
     "evalue": "-1",
     "output_type": "error",
     "traceback": [
      "\u001b[1;31m---------------------------------------------------------------------------\u001b[0m",
      "\u001b[1;31mNegativeAgeError\u001b[0m                          Traceback (most recent call last)",
      "Input \u001b[1;32mIn [8]\u001b[0m, in \u001b[0;36m<cell line: 8>\u001b[1;34m()\u001b[0m\n\u001b[0;32m      7\u001b[0m age \u001b[38;5;241m=\u001b[39m \u001b[38;5;28mint\u001b[39m(\u001b[38;5;28minput\u001b[39m(\u001b[38;5;124m'\u001b[39m\u001b[38;5;124mEnter Age:\u001b[39m\u001b[38;5;124m'\u001b[39m))\n\u001b[0;32m      8\u001b[0m \u001b[38;5;28;01mif\u001b[39;00m age \u001b[38;5;241m<\u001b[39m \u001b[38;5;241m0\u001b[39m:\n\u001b[1;32m----> 9\u001b[0m     \u001b[38;5;28;01mraise\u001b[39;00m NegativeAgeError(age)\n",
      "\u001b[1;31mNegativeAgeError\u001b[0m: -1"
     ]
    }
   ],
   "source": [
    "class NegativeAgeError(Exception):\n",
    "    def __init__(self, age):\n",
    "        message = 'Age should not be negative'\n",
    "        self.age = age\n",
    "        self.message = message\n",
    "        \n",
    "age = int(input('Enter Age:'))\n",
    "if age < 0:\n",
    "    raise NegativeAgeError(age)"
   ]
  },
  {
   "cell_type": "markdown",
   "id": "eabbf574",
   "metadata": {},
   "source": [
    "### Exception Lifecycle"
   ]
  },
  {
   "cell_type": "code",
   "execution_count": null,
   "id": "7c13d542",
   "metadata": {},
   "outputs": [],
   "source": []
  },
  {
   "cell_type": "code",
   "execution_count": null,
   "id": "73b3a917",
   "metadata": {},
   "outputs": [],
   "source": []
  },
  {
   "cell_type": "code",
   "execution_count": null,
   "id": "22f56595",
   "metadata": {},
   "outputs": [],
   "source": []
  },
  {
   "cell_type": "code",
   "execution_count": null,
   "id": "b1e01e8d",
   "metadata": {},
   "outputs": [],
   "source": []
  },
  {
   "cell_type": "code",
   "execution_count": null,
   "id": "c23170b6",
   "metadata": {},
   "outputs": [],
   "source": []
  },
  {
   "cell_type": "code",
   "execution_count": 33,
   "id": "f4464102",
   "metadata": {},
   "outputs": [
    {
     "name": "stdout",
     "output_type": "stream",
     "text": [
      "a/b = 5\n"
     ]
    }
   ],
   "source": [
    "a = 10\n",
    "b = 2\n",
    "c = a / b\n",
    "print(\"a/b = %d\" % c)"
   ]
  }
 ],
 "metadata": {
  "kernelspec": {
   "display_name": "Python 3 (ipykernel)",
   "language": "python",
   "name": "python3"
  },
  "language_info": {
   "codemirror_mode": {
    "name": "ipython",
    "version": 3
   },
   "file_extension": ".py",
   "mimetype": "text/x-python",
   "name": "python",
   "nbconvert_exporter": "python",
   "pygments_lexer": "ipython3",
   "version": "3.10.4"
  }
 },
 "nbformat": 4,
 "nbformat_minor": 5
}
