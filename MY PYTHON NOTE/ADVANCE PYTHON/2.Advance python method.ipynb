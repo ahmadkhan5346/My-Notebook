{
 "cells": [
  {
   "cell_type": "markdown",
   "id": "0617c237",
   "metadata": {},
   "source": [
    "### 1.args, 2.kwargs"
   ]
  },
  {
   "cell_type": "markdown",
   "id": "340ecae1",
   "metadata": {},
   "source": [
    "### args, kwargs"
   ]
  },
  {
   "cell_type": "code",
   "execution_count": 17,
   "id": "6a48442e",
   "metadata": {},
   "outputs": [
    {
     "name": "stdout",
     "output_type": "stream",
     "text": [
      "<class 'tuple'>\n",
      "('sarfraz', 'arfan', 'Ashraf', 'junaid')\n"
     ]
    }
   ],
   "source": [
    "def student_name(*args):\n",
    "    print(type(args))\n",
    "    print(args)\n",
    "\n",
    "student = ('sarfraz', 'arfan', 'Ashraf', 'junaid')\n",
    "student_name(*student)"
   ]
  },
  {
   "cell_type": "code",
   "execution_count": 24,
   "id": "74179c89",
   "metadata": {},
   "outputs": [
    {
     "name": "stdout",
     "output_type": "stream",
     "text": [
      "This is a student name :\n",
      "sarfraz\n",
      "arfan\n",
      "Ashraf\n",
      "junaid\n",
      "sadik\n"
     ]
    }
   ],
   "source": [
    "def student_name(normal, *args):\n",
    "    print(normal,':')\n",
    "    for item in args:\n",
    "        print(item)\n",
    "\n",
    "student = ('sarfraz', 'arfan', 'Ashraf', 'junaid', 'sadik')\n",
    "std = 'This is a student name'\n",
    "student_name(std, *student)"
   ]
  },
  {
   "cell_type": "code",
   "execution_count": 26,
   "id": "7392f422",
   "metadata": {},
   "outputs": [
    {
     "ename": "TypeError",
     "evalue": "student_name() missing 1 required keyword-only argument: 'narmal'",
     "output_type": "error",
     "traceback": [
      "\u001b[1;31m---------------------------------------------------------------------------\u001b[0m",
      "\u001b[1;31mTypeError\u001b[0m                                 Traceback (most recent call last)",
      "Input \u001b[1;32mIn [26]\u001b[0m, in \u001b[0;36m<cell line: 8>\u001b[1;34m()\u001b[0m\n\u001b[0;32m      6\u001b[0m student \u001b[38;5;241m=\u001b[39m (\u001b[38;5;124m'\u001b[39m\u001b[38;5;124msarfraz\u001b[39m\u001b[38;5;124m'\u001b[39m, \u001b[38;5;124m'\u001b[39m\u001b[38;5;124marfan\u001b[39m\u001b[38;5;124m'\u001b[39m, \u001b[38;5;124m'\u001b[39m\u001b[38;5;124mAshraf\u001b[39m\u001b[38;5;124m'\u001b[39m, \u001b[38;5;124m'\u001b[39m\u001b[38;5;124mjunaid\u001b[39m\u001b[38;5;124m'\u001b[39m, \u001b[38;5;124m'\u001b[39m\u001b[38;5;124msadik\u001b[39m\u001b[38;5;124m'\u001b[39m)\n\u001b[0;32m      7\u001b[0m std \u001b[38;5;241m=\u001b[39m \u001b[38;5;124m'\u001b[39m\u001b[38;5;124mThis is a student name\u001b[39m\u001b[38;5;124m'\u001b[39m\n\u001b[1;32m----> 8\u001b[0m \u001b[43mstudent_name\u001b[49m\u001b[43m(\u001b[49m\u001b[38;5;241;43m*\u001b[39;49m\u001b[43mstudent\u001b[49m\u001b[43m,\u001b[49m\u001b[43m \u001b[49m\u001b[43mstd\u001b[49m\u001b[43m)\u001b[49m\n",
      "\u001b[1;31mTypeError\u001b[0m: student_name() missing 1 required keyword-only argument: 'narmal'"
     ]
    }
   ],
   "source": [
    "def student_name(*args, narmal):\n",
    "    print(normal,':')\n",
    "    for item in args:\n",
    "        print(item)\n",
    "\n",
    "student = ('sarfraz', 'arfan', 'Ashraf', 'junaid', 'sadik')\n",
    "std = 'This is a student name'\n",
    "student_name(*student, std)"
   ]
  },
  {
   "cell_type": "code",
   "execution_count": 39,
   "id": "3ef641e1",
   "metadata": {},
   "outputs": [
    {
     "name": "stdout",
     "output_type": "stream",
     "text": [
      "This is a student name :\n",
      "sarfraz\n",
      "arfan\n",
      "Ashraf\n",
      "junaid\n",
      "\n",
      "now i would like to introduce some fullstack programmer\n",
      "sadik moniter\n",
      "ashraf accountant\n",
      "sarfraz full stack\n"
     ]
    }
   ],
   "source": [
    "def student_name(normal, *args, **kwargs):\n",
    "    print(normal,':')\n",
    "    for item in args:\n",
    "        print(item)\n",
    "    print('\\nnow i would like to introduce some fullstack programmer')\n",
    "        \n",
    "    for key, value in kwargs.items():\n",
    "        print(key, value)\n",
    "\n",
    "student = ('sarfraz', 'arfan', 'Ashraf', 'junaid')\n",
    "std = 'This is a student name'\n",
    "dic = {'sadik':'moniter', 'ashraf':'accountant', 'sarfraz':'full stack'}\n",
    "student_name(std, *student, **dic)"
   ]
  },
  {
   "cell_type": "code",
   "execution_count": null,
   "id": "d7c074c2",
   "metadata": {},
   "outputs": [],
   "source": []
  }
 ],
 "metadata": {
  "kernelspec": {
   "display_name": "Python 3 (ipykernel)",
   "language": "python",
   "name": "python3"
  },
  "language_info": {
   "codemirror_mode": {
    "name": "ipython",
    "version": 3
   },
   "file_extension": ".py",
   "mimetype": "text/x-python",
   "name": "python",
   "nbconvert_exporter": "python",
   "pygments_lexer": "ipython3",
   "version": "3.10.4"
  }
 },
 "nbformat": 4,
 "nbformat_minor": 5
}
