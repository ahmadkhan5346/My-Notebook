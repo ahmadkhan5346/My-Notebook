{
 "cells": [
  {
   "cell_type": "markdown",
   "id": "b65b35c6",
   "metadata": {},
   "source": [
    "## Method Overriding :-\n",
    "- If we write method in the both classes , parent class and child class then the parent\n",
    "class's method is not available to the child class .\n",
    "In this case only child class's method is accessible which means child class's\n",
    "method is replacing parent class's method .\n",
    "Method overriding is used when programmer want to modify the existing behavior\n",
    "of a Method .\n",
    "- super ( ) method is used to call parent class's constructor or methods from the child class .\n",
    "- Syntax : super ( ) . methodName ( )\n"
   ]
  },
  {
   "cell_type": "code",
   "execution_count": 7,
   "id": "3d7d7405",
   "metadata": {},
   "outputs": [
    {
     "name": "stdout",
     "output_type": "stream",
     "text": [
      "Addition: 25\n",
      "Multiplication: 200\n",
      "<__main__.Multi object at 0x0000020E0836E890>\n"
     ]
    }
   ],
   "source": [
    "class Add:\n",
    "    def result(self, x, y):\n",
    "        print('Addition:', x+y)\n",
    "    \n",
    "class Multi(Add):\n",
    "    def result(self, a, b):\n",
    "        super().result(10, 15)\n",
    "        print('Multiplication:', a*b)\n",
    "        \n",
    "m = Multi()\n",
    "m.result(10, 20)\n",
    "print(m)"
   ]
  },
  {
   "cell_type": "code",
   "execution_count": 10,
   "id": "c82bc941",
   "metadata": {},
   "outputs": [
    {
     "name": "stdout",
     "output_type": "stream",
     "text": [
      "Addition: 30\n",
      "Multiplication: 200\n"
     ]
    }
   ],
   "source": [
    "class Add:\n",
    "    def result(self, a, b):\n",
    "        print('Addition:', a+b)\n",
    "    \n",
    "class Multi(Add):\n",
    "    def result(self, a, b):\n",
    "        super().result(a, b)\n",
    "        print('Multiplication:', a*b)\n",
    "        \n",
    "m = Multi()\n",
    "m.result(10, 20)"
   ]
  },
  {
   "cell_type": "code",
   "execution_count": 26,
   "id": "2d633a69",
   "metadata": {},
   "outputs": [
    {
     "name": "stdout",
     "output_type": "stream",
     "text": [
      "Addition: 30\n",
      "Sub: 10\n",
      "Multiplication: 200\n"
     ]
    }
   ],
   "source": [
    "class Add:\n",
    "    def result(self, a, b):\n",
    "        print('Addition:', a+b)\n",
    "        \n",
    "class Subs(Add):\n",
    "    def result(self, a, b):\n",
    "        super().result(a,b)\n",
    "        print('Sub:', a-b)\n",
    "    \n",
    "class Multi(Subs):\n",
    "    def result(self, a, b):\n",
    "        super().result(a, b)\n",
    "        print('Multiplication:', a*b)\n",
    "        \n",
    "m = Multi()\n",
    "m.result(20, 10)"
   ]
  },
  {
   "cell_type": "markdown",
   "id": "a2216833",
   "metadata": {},
   "source": [
    "## Method Overloading\n",
    "- When more than one method with the same name is defined in the same class ,\n",
    "it is known as method overloading .\n",
    "In python , If a method is written such that it can perform more than one task , it\n",
    "is called method overloading ."
   ]
  },
  {
   "cell_type": "code",
   "execution_count": 32,
   "id": "3d4123dc",
   "metadata": {},
   "outputs": [
    {
     "name": "stdout",
     "output_type": "stream",
     "text": [
      "60\n"
     ]
    }
   ],
   "source": [
    "class Myclass():\n",
    "    def sum(self, a, b, c):\n",
    "        s = a+b+c\n",
    "        return s\n",
    "    \n",
    "obj1 = Myclass()\n",
    "a = obj1.sum(10, 20, 30 )\n",
    "print(a)\n",
    "        "
   ]
  },
  {
   "cell_type": "code",
   "execution_count": 49,
   "id": "bbe2b872",
   "metadata": {},
   "outputs": [
    {
     "name": "stdout",
     "output_type": "stream",
     "text": [
      "200\n"
     ]
    }
   ],
   "source": [
    "class Myclass():\n",
    "    def sum(self, a=None, b=None, c=None):\n",
    "        if a!=None and b!=None and c!=None:\n",
    "            s = a+b+c\n",
    "        elif a!=None and b!=None:\n",
    "            s = a*b\n",
    "        else:\n",
    "            s = 'Provide at least Two number'\n",
    "        return s\n",
    "    \n",
    "obj1 = Myclass()\n",
    "a = obj1.sum(10, 20)\n",
    "print(a)\n",
    "        "
   ]
  },
  {
   "cell_type": "code",
   "execution_count": null,
   "id": "662bbabb",
   "metadata": {},
   "outputs": [],
   "source": []
  }
 ],
 "metadata": {
  "kernelspec": {
   "display_name": "Python 3 (ipykernel)",
   "language": "python",
   "name": "python3"
  },
  "language_info": {
   "codemirror_mode": {
    "name": "ipython",
    "version": 3
   },
   "file_extension": ".py",
   "mimetype": "text/x-python",
   "name": "python",
   "nbconvert_exporter": "python",
   "pygments_lexer": "ipython3",
   "version": "3.10.4"
  }
 },
 "nbformat": 4,
 "nbformat_minor": 5
}
