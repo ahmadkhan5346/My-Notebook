{
 "cells": [
  {
   "cell_type": "markdown",
   "id": "b65b35c6",
   "metadata": {},
   "source": [
    "## Method Overriding :-\n",
    "- If we write method of same name in the both classes then the parent class's method is not available to the child class .\n",
    "In this case only child class's method is accessible which means child class's\n",
    "method is replacing parent class's method .\n",
    "Method overriding is used when programmer want to modify the existing behavior\n",
    "of a Method .\n",
    "- super ( ) method is used to call parent class's constructor or methods from the child class .\n",
    "- Syntax : super ( ) . methodName ( )\n"
   ]
  },
  {
   "cell_type": "code",
   "execution_count": 1,
   "id": "3d7d7405",
   "metadata": {},
   "outputs": [
    {
     "name": "stdout",
     "output_type": "stream",
     "text": [
      "Addition: 35\n",
      "Multiplication: 96\n"
     ]
    }
   ],
   "source": [
    "class Add:\n",
    "    def result(self, x, y, z):\n",
    "        print('Addition:', x+y+z)\n",
    "    \n",
    "class Multi(Add):\n",
    "    def result(self, a, b, c):\n",
    "        super().result(10, 15, 10)\n",
    "        print('Multiplication:', a*b*c)\n",
    "        \n",
    "m = Multi()\n",
    "m.result(3,4,8)"
   ]
  },
  {
   "cell_type": "code",
   "execution_count": 10,
   "id": "c82bc941",
   "metadata": {},
   "outputs": [
    {
     "name": "stdout",
     "output_type": "stream",
     "text": [
      "Addition: 30\n",
      "Multiplication: 200\n"
     ]
    }
   ],
   "source": [
    "class Add:\n",
    "    def result(self, a, b):\n",
    "        print('Addition:', a+b)\n",
    "    \n",
    "class Multi(Add):\n",
    "    def result(self, a, b):\n",
    "        super().result(a, b)\n",
    "        print('Multiplication:', a*b)\n",
    "        \n",
    "m = Multi()\n",
    "m.result(10, 20)"
   ]
  },
  {
   "cell_type": "code",
   "execution_count": 26,
   "id": "2d633a69",
   "metadata": {},
   "outputs": [
    {
     "name": "stdout",
     "output_type": "stream",
     "text": [
      "Addition: 30\n",
      "Sub: 10\n",
      "Multiplication: 200\n"
     ]
    }
   ],
   "source": [
    "class Add:\n",
    "    def result(self, a, b):\n",
    "        print('Addition:', a+b)\n",
    "        \n",
    "class Subs(Add):\n",
    "    def result(self, a, b):\n",
    "        super().result(a,b)\n",
    "        print('Sub:', a-b)\n",
    "    \n",
    "class Multi(Subs):\n",
    "    def result(self, a, b):\n",
    "        super().result(a, b)\n",
    "        print('Multiplication:', a*b)\n",
    "        \n",
    "m = Multi()\n",
    "m.result(20, 10)"
   ]
  },
  {
   "cell_type": "markdown",
   "id": "a2216833",
   "metadata": {},
   "source": [
    "## Method Overloading\n",
    "- When more than one method with the same name is defined in the same class ,\n",
    "it is known as method overloading .\n",
    "In python , If a method is written such that it can perform more than one task , it\n",
    "is called method overloading ."
   ]
  },
  {
   "cell_type": "code",
   "execution_count": 5,
   "id": "3d4123dc",
   "metadata": {},
   "outputs": [
    {
     "name": "stdout",
     "output_type": "stream",
     "text": [
      "60\n"
     ]
    }
   ],
   "source": [
    "class Myclass():\n",
    "    def sum(self, a, b, c):\n",
    "        s = a+b+c\n",
    "        return s\n",
    "    \n",
    "obj1 = Myclass()\n",
    "a = obj1.sum(10, 20, 30 )\n",
    "print(a)\n",
    "        "
   ]
  },
  {
   "cell_type": "code",
   "execution_count": 49,
   "id": "bbe2b872",
   "metadata": {},
   "outputs": [
    {
     "name": "stdout",
     "output_type": "stream",
     "text": [
      "200\n"
     ]
    }
   ],
   "source": [
    "class Myclass():\n",
    "    def sum(self, a=None, b=None, c=None):\n",
    "        if a!=None and b!=None and c!=None:\n",
    "            s = a+b+c\n",
    "        elif a!=None and b!=None:\n",
    "            s = a*b\n",
    "        else:\n",
    "            s = 'Provide at least Two number'\n",
    "        return s\n",
    "    \n",
    "obj1 = Myclass()\n",
    "a = obj1.sum(10, 20)\n",
    "print(a)\n",
    "        "
   ]
  },
  {
   "cell_type": "markdown",
   "id": "71111d29",
   "metadata": {},
   "source": [
    "# Class Method\n",
    "class method used to access or modify the class state which act upon the class variables or static variable of the class \n",
    "Decorator @classmethod need to write above the class method .\n",
    "By default , the first parameter of class method is cls which refers to the class itself .\n",
    "Syntax :\n",
    "@classmethod\n",
    "def method_name ( cls ) :\n",
    "         method body\n",
    "Calling class method :- class_name.method_name(actual argument)\n"
   ]
  },
  {
   "cell_type": "code",
   "execution_count": 1,
   "id": "1bd94927",
   "metadata": {},
   "outputs": [
    {
     "name": "stdout",
     "output_type": "stream",
     "text": [
      "Fingerprint:- Yes\n"
     ]
    }
   ],
   "source": [
    "class Mobile:\n",
    "    fp = 'Yes'\n",
    "    @classmethod\n",
    "    def show_model(cls):\n",
    "        print('Fingerprint:-',cls.fp)\n",
    "Mobile.show_model()"
   ]
  },
  {
   "cell_type": "code",
   "execution_count": 8,
   "id": "5b427d0c",
   "metadata": {},
   "outputs": [
    {
     "name": "stdout",
     "output_type": "stream",
     "text": [
      "Fingerprint:- Yes\n",
      "RAM:- 4GB\n"
     ]
    }
   ],
   "source": [
    "class Mobile:\n",
    "    fp = 'Yes'\n",
    "    @classmethod\n",
    "    def show_model(cls, r):\n",
    "        cls.ram = r\n",
    "        print('Fingerprint:-',cls.fp)\n",
    "        print('RAM:-', cls.ram)\n",
    "Mobile.show_model('4GB')"
   ]
  },
  {
   "cell_type": "markdown",
   "id": "0ff29712",
   "metadata": {},
   "source": [
    "# Instance Method\n",
    " instance method performs a set of actions on data provided by instance variables. it must have a self parameter to refer current object."
   ]
  },
  {
   "cell_type": "code",
   "execution_count": 22,
   "id": "aae1b3e6",
   "metadata": {},
   "outputs": [
    {
     "name": "stdout",
     "output_type": "stream",
     "text": [
      "Iphone promax\n"
     ]
    }
   ],
   "source": [
    "class Mobile:\n",
    "    def show_model():\n",
    "        print('Iphone promax')\n",
    "Mobile.show_model()"
   ]
  },
  {
   "cell_type": "code",
   "execution_count": 33,
   "id": "33af3db2",
   "metadata": {},
   "outputs": [
    {
     "name": "stdout",
     "output_type": "stream",
     "text": [
      "Model: Iphone promax\n"
     ]
    }
   ],
   "source": [
    "class Mobile:\n",
    "    def __init__(self):\n",
    "        self.model = 'Iphone promax'\n",
    "        \n",
    "    def show_model(self):\n",
    "        print('Model:', self.model)\n",
    "        \n",
    "Mobile().show_model()"
   ]
  },
  {
   "cell_type": "code",
   "execution_count": 36,
   "id": "9e4dfd57",
   "metadata": {},
   "outputs": [
    {
     "name": "stdout",
     "output_type": "stream",
     "text": [
      "Model:- Iphone promax Price:- 1000\n"
     ]
    }
   ],
   "source": [
    "class Mobile:\n",
    "    def __init__(self):\n",
    "        self.model = 'Iphone promax'\n",
    "        \n",
    "    def show_model(self, p):\n",
    "        self.price = p\n",
    "        print('Model:-', self.model, 'Price:-', self.price)\n",
    "        \n",
    "Mobile().show_model(1000)"
   ]
  },
  {
   "cell_type": "markdown",
   "id": "838aec52",
   "metadata": {},
   "source": [
    "# Static Method\n",
    "Static Method is a general utility method that perform a task in isolation.static method is used when some processing is related to the class but does not need the class variable and instance variable to perform any task.\n",
    "Decorator @staticmethod need to write above the static method .\n",
    "Syntax :\n",
    "@staticmethod\n",
    "def method_name ( ) :\n",
    "          method body\n",
    "Calling static method :- class_name.method_name(actual argument)\n"
   ]
  },
  {
   "cell_type": "code",
   "execution_count": null,
   "id": "b3f6ea3c",
   "metadata": {},
   "outputs": [],
   "source": [
    "class Mobile:\n",
    "    \n",
    "    @staticmethod\n",
    "    def show_model(m, p):\n",
    "        model = m\n",
    "        price = p\n",
    "        print(f\"Model:-{model} Price:-{price}\")\n",
    "# iphone = Mobile()\n",
    "Mobile.show_model('Iphone', 100000)"
   ]
  },
  {
   "cell_type": "code",
   "execution_count": null,
   "id": "6316f2db",
   "metadata": {},
   "outputs": [],
   "source": []
  }
 ],
 "metadata": {
  "kernelspec": {
   "display_name": "Python 3 (ipykernel)",
   "language": "python",
   "name": "python3"
  },
  "language_info": {
   "codemirror_mode": {
    "name": "ipython",
    "version": 3
   },
   "file_extension": ".py",
   "mimetype": "text/x-python",
   "name": "python",
   "nbconvert_exporter": "python",
   "pygments_lexer": "ipython3",
   "version": "3.10.4"
  }
 },
 "nbformat": 4,
 "nbformat_minor": 5
}
