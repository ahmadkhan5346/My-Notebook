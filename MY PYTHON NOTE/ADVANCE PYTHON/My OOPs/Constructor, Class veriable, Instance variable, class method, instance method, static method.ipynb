{
 "cells": [
  {
   "cell_type": "markdown",
   "id": "5008b9ff",
   "metadata": {},
   "source": [
    "# Constructor"
   ]
  },
  {
   "cell_type": "code",
   "execution_count": 7,
   "id": "b6b0f073",
   "metadata": {},
   "outputs": [],
   "source": [
    "class Person:\n",
    "    '''Documentation String'''\n",
    "    def __init__(self, name, sex, profession):\n",
    "        #data members(instance variables)\n",
    "        self.name = name\n",
    "        self.age = age\n",
    "        self.profession = profession\n",
    "#Behavior(Instance Method)\n",
    "def show(self):\n",
    "    print('Name:', self.name, 'Sex:', self.sex, 'Profession:', self.profession)\n",
    "    def work(self):\n",
    "        print(self.name, 'Working as a', self.profession)\n",
    "        "
   ]
  },
  {
   "cell_type": "code",
   "execution_count": null,
   "id": "8dabf71e",
   "metadata": {},
   "outputs": [],
   "source": []
  },
  {
   "cell_type": "code",
   "execution_count": 4,
   "id": "f05d3ac5",
   "metadata": {},
   "outputs": [
    {
     "name": "stdout",
     "output_type": "stream",
     "text": [
      "Inside Constructors\n",
      "All Variables Initialized\n",
      "Hello, My name is: sarfraz\n",
      "Inside Constructors\n",
      "All Variables Initialized\n",
      "Hello, My name is: Ahmad\n"
     ]
    }
   ],
   "source": [
    "class student:\n",
    "    #constructor\n",
    "    #Initialize instance variable\n",
    "    def __init__(self, name):\n",
    "        print('Inside Constructors')\n",
    "        self.name = name\n",
    "        print('All Variables Initialized')\n",
    "    #Instance Method\n",
    "    def show(self):\n",
    "        print('Hello, My name is:', self.name)\n",
    "\n",
    "#Create Object Using Constructor\n",
    "s1 = student('sarfraz')\n",
    "s1.show()\n",
    "s2 = student('Ahmad')\n",
    "s2.show()\n",
    "    "
   ]
  },
  {
   "cell_type": "code",
   "execution_count": 9,
   "id": "ba65c10f",
   "metadata": {},
   "outputs": [
    {
     "name": "stdout",
     "output_type": "stream",
     "text": [
      "Inside Display sarfraz\n",
      "Inside Display ahmad\n"
     ]
    }
   ],
   "source": [
    "##Default Constructor\n",
    "class Employee:\n",
    "    def display(self,name):\n",
    "        print('Inside Display',name)\n",
    "        \n",
    "t1 = Employee()\n",
    "t1.display('sarfraz')\n",
    "t2 = Employee()\n",
    "t2.display('ahmad')"
   ]
  },
  {
   "cell_type": "code",
   "execution_count": 10,
   "id": "112a8b37",
   "metadata": {},
   "outputs": [
    {
     "name": "stdout",
     "output_type": "stream",
     "text": [
      "Name: Sarfraz Age: 30\n"
     ]
    }
   ],
   "source": [
    "##Non-Parametrized Constructor\n",
    "class Company:\n",
    "    #Non-Argument Constructor\n",
    "    def __init__(self):\n",
    "        self.name = \"Sarfraz\"\n",
    "        self.age = 30\n",
    "    ##A Method for Printing Data Members\n",
    "    def show(self):\n",
    "        print('Name:', self.name, 'Age:', self.age)\n",
    "\n",
    "##Creating Object of the Class\n",
    "cmp = Company()\n",
    "cmp.show()"
   ]
  },
  {
   "cell_type": "code",
   "execution_count": 12,
   "id": "4fc8a8e5",
   "metadata": {},
   "outputs": [
    {
     "name": "stdout",
     "output_type": "stream",
     "text": [
      "Sarfraz 30 50000\n",
      "Saud 23 50000\n"
     ]
    }
   ],
   "source": [
    "## Parameterized Constructor\n",
    "class Employee:\n",
    "    # Parameterized Constructor\n",
    "    def __init__(self, name, age, salary):\n",
    "        self.name = name\n",
    "        self.age = age\n",
    "        self.salary = salary\n",
    "    # Display Object\n",
    "    def show(self):\n",
    "        print(self.name, self.age, self.salary)\n",
    "\n",
    "# Creating object of the Employee class\n",
    "sar = Employee('Sarfraz', 30, 50000)\n",
    "sad = Employee('Saud', 23, 50000)\n",
    "sar.show()\n",
    "sad.show()"
   ]
  },
  {
   "cell_type": "code",
   "execution_count": 21,
   "id": "84c046f8",
   "metadata": {},
   "outputs": [
    {
     "name": "stdout",
     "output_type": "stream",
     "text": [
      "Sarfraz 30 Full Stack Developer\n",
      "saurabh 22 Full Stack Developer\n"
     ]
    }
   ],
   "source": [
    "class Student:\n",
    "## Constructor with Default Values age and Classroom\n",
    "    def __init__(self, name, age=30, classroom='Full Stack Developer'):\n",
    "        self.name = name\n",
    "        self.age = age\n",
    "        self.classroom = classroom\n",
    "    ## Display Student\n",
    "    def show(self):\n",
    "        print(self.name, self.age, self.classroom)\n",
    "        \n",
    "# Creating Object of the Student Class\n",
    "\n",
    "sar = Student('Sarfraz')\n",
    "sar.show()\n",
    "sab = Student('saurabh', 22)\n",
    "sab.show()\n"
   ]
  },
  {
   "cell_type": "code",
   "execution_count": 26,
   "id": "dfaf1450",
   "metadata": {},
   "outputs": [
    {
     "name": "stdout",
     "output_type": "stream",
     "text": [
      "Two Argument\n",
      "Two Argument\n"
     ]
    }
   ],
   "source": [
    "class Student:\n",
    "    # One Argument Constructor\n",
    "    def __init__(self, name):\n",
    "        print(\"One Argument\")\n",
    "        self.name = name\n",
    "    # Two Argument Constructor\n",
    "    def __init__(self, name, age):\n",
    "        print('Two Argument')\n",
    "        self.name = name\n",
    "        self.age = age\n",
    "std = Student('sarfraz', 22)\n",
    "st = Student('saud', 23)"
   ]
  },
  {
   "cell_type": "markdown",
   "id": "4196d5d0",
   "metadata": {},
   "source": [
    "# Super(). Method"
   ]
  },
  {
   "cell_type": "code",
   "execution_count": 2,
   "id": "1111ca71",
   "metadata": {},
   "outputs": [
    {
     "name": "stdout",
     "output_type": "stream",
     "text": [
      "Inside Car Constructor\n",
      "Inside Electric Car Constructor\n",
      "Engine:- 1500cc, Max Speed:- 240, km_range:- 750\n"
     ]
    }
   ],
   "source": [
    "class Vehicle:\n",
    "    # Constructor of Vehicle\n",
    "    def __init__(self, engine):\n",
    "        self.engine = engine\n",
    "\n",
    "class Car(Vehicle):\n",
    "    # Constructor of Car\n",
    "    def __init__(self, engine, max_speed):\n",
    "        super().__init__(engine)\n",
    "        print('Inside Car Constructor')\n",
    "        self.max_speed = max_speed\n",
    "        \n",
    "class Electric_car(Car):\n",
    "     # Constructor of Electric Car\n",
    "        def __init__(self, engine, max_speed, km_range):\n",
    "            super().__init__(engine, max_speed)\n",
    "            print(\"Inside Electric Car Constructor\")\n",
    "            self.km_range = km_range\n",
    "\n",
    "# Object of Electric Car\n",
    "ev = Electric_car('1500cc', 240, 750)\n",
    "print(f'Engine:- {ev.engine}, Max Speed:- {ev.max_speed}, km_range:- {ev.km_range}')"
   ]
  },
  {
   "cell_type": "markdown",
   "id": "d0f5369f",
   "metadata": {},
   "source": [
    "# How to Count Object"
   ]
  },
  {
   "cell_type": "code",
   "execution_count": 36,
   "id": "023633fe",
   "metadata": {},
   "outputs": [
    {
     "name": "stdout",
     "output_type": "stream",
     "text": [
      "the number of employee: 3\n"
     ]
    }
   ],
   "source": [
    "# HOW TO COUNT OBJECT\n",
    "class Employee:\n",
    "    count = 0\n",
    "    def __init__(self):\n",
    "        Employee.count = Employee.count + 1\n",
    "        \n",
    "s1 = Employee()\n",
    "s2 = Employee()\n",
    "s3 = Employee()\n",
    "print('the number of employee:', Employee.count)"
   ]
  },
  {
   "cell_type": "markdown",
   "id": "757659e8",
   "metadata": {},
   "source": [
    "# Class Variable"
   ]
  },
  {
   "cell_type": "code",
   "execution_count": 2,
   "id": "8779a4e2",
   "metadata": {},
   "outputs": [
    {
     "name": "stdout",
     "output_type": "stream",
     "text": [
      "Srfraz 104 Radiance Academy\n",
      "Saud 200 Radiance Academy\n",
      "Ahmad 110 Noorul Islam\n",
      "Shadab 300 Noorul Islam\n",
      "Saud 200 Allana\n"
     ]
    }
   ],
   "source": [
    "# Change Value of Class Variable\n",
    "class Student:\n",
    "    # Class Variable\n",
    "    school_name = 'Radiance Academy'\n",
    "    #constructor\n",
    "    def __init__(self, name, roll_no):\n",
    "        self.name = name\n",
    "        self.roll_no=roll_no\n",
    "    # Instance Method\n",
    "    def show(self):\n",
    "        print(self.name, self.roll_no, Student.school_name)\n",
    "# Create Object\n",
    "s1 = Student('Srfraz',104 )\n",
    "s1.show()\n",
    "s3 = Student('Saud', 200)\n",
    "s3.show()\n",
    "\n",
    "# Change School Name\n",
    "\n",
    "Student.school_name = 'Noorul Islam'\n",
    "s2 = Student('Ahmad', 110)\n",
    "s2.show()\n",
    "s4 = Student('Shadab', 300)\n",
    "s4.show()\n",
    "\n",
    "# Modify class variable using Object Reference\n",
    "s5 = Student('Saud', 200)\n",
    "s5.school_name = 'Allana'\n",
    "print(s5.name, s5.roll_no, s5.school_name)"
   ]
  },
  {
   "cell_type": "markdown",
   "id": "f0679b55",
   "metadata": {},
   "source": [
    "# class variable and instance variable"
   ]
  },
  {
   "cell_type": "code",
   "execution_count": 10,
   "id": "46036e03",
   "metadata": {},
   "outputs": [
    {
     "name": "stdout",
     "output_type": "stream",
     "text": [
      "X1 2000 BMW\n"
     ]
    }
   ],
   "source": [
    "class Car:\n",
    "    # Class Variable\n",
    "    manufactrurer = 'BMW'\n",
    "    \n",
    "    def __init__(self, model, price):\n",
    "        self.model = model\n",
    "        self.price = price\n",
    "        \n",
    "# Create Object\n",
    "\n",
    "car = Car('X1', 2000)\n",
    "print(car.model, car.price, Car.manufactrurer)\n",
    "    \n",
    "\n",
    "    "
   ]
  },
  {
   "cell_type": "markdown",
   "id": "79563916",
   "metadata": {},
   "source": [
    "# Class Method"
   ]
  },
  {
   "cell_type": "code",
   "execution_count": 4,
   "id": "6560159f",
   "metadata": {},
   "outputs": [
    {
     "name": "stdout",
     "output_type": "stream",
     "text": [
      "Sarfraz's age is:30\n",
      "Saud's age is:23\n",
      "Sarfraz's age is:31\n"
     ]
    }
   ],
   "source": [
    "from datetime import date\n",
    " \n",
    "class Student:\n",
    "    def __init__(self, name, age):\n",
    "        self.name = name\n",
    "        self.age = age\n",
    "        \n",
    "    @classmethod\n",
    "    def calculate_age(cls, name, birth_year):\n",
    "        # Calculate age an set it as age\n",
    "        # return new object\n",
    "        return cls(name,date.today().year - birth_year)\n",
    "    \n",
    "    def show(self):\n",
    "        print(self.name + \"'s age is:\" + str(self.age))\n",
    "\n",
    "sar = Student('Sarfraz', 30)\n",
    "sar.show()\n",
    "\n",
    "# create new object using the factory method\n",
    "\n",
    "saud = Student.calculate_age('Saud', 1999)\n",
    "saud.show()\n",
    "\n",
    "sar = Student.calculate_age(\"Sarfraz\", 1991)\n",
    "sar.show()"
   ]
  },
  {
   "cell_type": "code",
   "execution_count": 20,
   "id": "06c4a18f",
   "metadata": {},
   "outputs": [
    {
     "name": "stdout",
     "output_type": "stream",
     "text": [
      "School Name is : Radiance School\n"
     ]
    }
   ],
   "source": [
    "class School:\n",
    "    name = 'Radiance School'\n",
    "    def school_name(cls):\n",
    "        print('School Name is :',cls.name)\n",
    "\n",
    "## Creat class method\n",
    "\n",
    "School.school_name = classmethod(School.school_name)\n",
    "School.school_name()"
   ]
  },
  {
   "cell_type": "markdown",
   "id": "11b66f8e",
   "metadata": {},
   "source": [
    "# Access class variable in class method"
   ]
  },
  {
   "cell_type": "code",
   "execution_count": 4,
   "id": "14150771",
   "metadata": {},
   "outputs": [
    {
     "name": "stdout",
     "output_type": "stream",
     "text": [
      "Sarfraz 31 School: Anjuman Islam\n"
     ]
    }
   ],
   "source": [
    "class Student:\n",
    "    school_name = 'Radiance School'\n",
    "    def __init__(self, name, age):\n",
    "        self.name = name\n",
    "        self.age = age\n",
    "\n",
    "    @classmethod\n",
    "    def change_school(cls, school_name):\n",
    "        # class_name.class_variable\n",
    "        cls.school_name = school_name\n",
    "    # instance method\n",
    "    def show(self):\n",
    "        print(self.name, self.age, 'School:', Student.school_name)\n",
    "    \n",
    "sr = Student('Sarfraz', 31)\n",
    "# sr.show()\n",
    "\n",
    "Student.change_school('Anjuman Islam')\n",
    "sr.show()\n",
    "        \n",
    "        \n",
    "        \n",
    "    "
   ]
  },
  {
   "cell_type": "markdown",
   "id": "a6194995",
   "metadata": {},
   "source": [
    "# class method in inheritance"
   ]
  },
  {
   "cell_type": "code",
   "execution_count": 16,
   "id": "1ce7dc60",
   "metadata": {},
   "outputs": [
    {
     "name": "stdout",
     "output_type": "stream",
     "text": [
      "BMW X5: 650000\n",
      "BMW X5: 48750000\n"
     ]
    }
   ],
   "source": [
    "class Vehicle:\n",
    "    brand_name = 'MBW'\n",
    "    def __init__(self, name, price):\n",
    "        self.name = name\n",
    "        self.price = price\n",
    "    \n",
    "    @classmethod\n",
    "    def from_price(cls, name, price):\n",
    "        return cls(name, (price * 75))\n",
    "    \n",
    "    def show(self):\n",
    "        print(self.name, self.price)\n",
    "        \n",
    "class Car(Vehicle):\n",
    "    def average(self, distance, fuel_used):\n",
    "        mileage = distance / fuel_used\n",
    "        print(self.name, 'Mileage:', mileage)\n",
    "        \n",
    "bmw_us = Car('BMW X5:', 650000)\n",
    "bmw_us.show()\n",
    "\n",
    "# class method of parent class is available to child class\n",
    "# this will return the object of calling class\n",
    "\n",
    "bmw_ind = Car.from_price('BMW X5:', 650000)\n",
    "bmw_ind.show()\n",
    "\n",
    "# print(type(bmw_ind))\n",
    "\n",
    "\n",
    "\n",
    "    "
   ]
  },
  {
   "cell_type": "markdown",
   "id": "de4b0e9d",
   "metadata": {},
   "source": [
    "# Dynamically Add class method to a class"
   ]
  },
  {
   "cell_type": "code",
   "execution_count": 25,
   "id": "16a1b873",
   "metadata": {},
   "outputs": [
    {
     "name": "stdout",
     "output_type": "stream",
     "text": [
      "Sarfraz 31\n",
      "Below Exercise for: Radiance School\n"
     ]
    }
   ],
   "source": [
    "class Student:\n",
    "    school_name = 'Radiance School'\n",
    "    \n",
    "    def __init__(self, name, age):\n",
    "        self.name = name\n",
    "        self.age = age\n",
    "        \n",
    "    def show(self):\n",
    "        print(self.name, self.age)\n",
    "        \n",
    "# class method outside of the class\n",
    "\n",
    "def exercise(cls):\n",
    "    \n",
    "    #access class variable\n",
    "    \n",
    "    print('Below Exercise for:', cls.school_name)\n",
    "    \n",
    "#adding class method at runtime to class\n",
    "\n",
    "Student.exercise = classmethod(exercise)\n",
    "\n",
    "sar = Student('Sarfraz', 31)\n",
    "sar.show()\n",
    "Student.exercise()"
   ]
  },
  {
   "cell_type": "markdown",
   "id": "3b2993e4",
   "metadata": {},
   "source": [
    "# Dynamically add instance variable to a object"
   ]
  },
  {
   "cell_type": "code",
   "execution_count": 32,
   "id": "a74aa466",
   "metadata": {},
   "outputs": [
    {
     "name": "stdout",
     "output_type": "stream",
     "text": [
      "Before\n",
      "Name: Nabeel Age: 33\n",
      "After\n",
      "Name: Nabeel |Age: 33 |Marks: 80\n"
     ]
    }
   ],
   "source": [
    "class Student:\n",
    "    def __init__(self, name, age):\n",
    "        self.name = name\n",
    "        self.age = age\n",
    "        \n",
    "std = Student('Nabeel', 33)\n",
    "print('Before')\n",
    "print('Name:', std.name, 'Age:', std.age)\n",
    "\n",
    "# Add new instance variable to std\n",
    "\n",
    "std.marks = 80\n",
    "print('After')\n",
    "print('Name:', std.name, '|Age:', std.age, \"|Marks:\", std.marks)\n"
   ]
  },
  {
   "cell_type": "markdown",
   "id": "fbd87b50",
   "metadata": {},
   "source": [
    "# Access Instance Variable From Another Class"
   ]
  },
  {
   "cell_type": "code",
   "execution_count": 34,
   "id": "29881dd8",
   "metadata": {},
   "outputs": [
    {
     "name": "stdout",
     "output_type": "stream",
     "text": [
      "Engine: 1500cc\n",
      "max_speed: 240\n"
     ]
    }
   ],
   "source": [
    "class Vehicle:\n",
    "    def __init__(self):\n",
    "        self.engine = '1500cc'\n",
    "class Car(Vehicle):\n",
    "    def __init__(self, max_speed):\n",
    "        \n",
    "        # call parent class constructor\n",
    "        \n",
    "        super().__init__()\n",
    "        self.max_speed = max_speed\n",
    "    \n",
    "    def display(self):\n",
    "        # Access parent class instance variable 'engine'\n",
    "        print('Engine:', self.engine)\n",
    "        print('max_speed:', self.max_speed)\n",
    "        \n",
    "# object of car\n",
    "car = Car(240)\n",
    "car.display()"
   ]
  },
  {
   "cell_type": "markdown",
   "id": "8ea5d5aa",
   "metadata": {},
   "source": [
    "# List all instance variables of a object"
   ]
  },
  {
   "cell_type": "code",
   "execution_count": 7,
   "id": "917e3651",
   "metadata": {},
   "outputs": [
    {
     "name": "stdout",
     "output_type": "stream",
     "text": [
      "name Sarfraz\n",
      "age 31\n"
     ]
    }
   ],
   "source": [
    "class Student:\n",
    "    def __init__(self, name, age):\n",
    "        self.name = name\n",
    "        self.age = age\n",
    "    \n",
    "s1 = Student('Sarfraz', 31)\n",
    "# print('Instance variable object has', s1.__dict__)\n",
    "\n",
    "# Get each instance variables\n",
    "\n",
    "for keyvalue in s1.__dict__.items():\n",
    "    print(keyvalue[0], keyvalue[1])\n"
   ]
  },
  {
   "cell_type": "markdown",
   "id": "489d1da6",
   "metadata": {},
   "source": [
    "# Instance Method"
   ]
  },
  {
   "cell_type": "markdown",
   "id": "bdf1a9e5",
   "metadata": {},
   "source": [
    "## Modify instance variable inside instance method"
   ]
  },
  {
   "cell_type": "code",
   "execution_count": 10,
   "id": "8e7b5905",
   "metadata": {},
   "outputs": [
    {
     "name": "stdout",
     "output_type": "stream",
     "text": [
      "Class VIII\n",
      "Roll Number: 104 Name: Sarfraz Age: 31\n",
      "Class IX\n",
      "Roll Number: 110 Name: Sarfraz Age: 28\n"
     ]
    }
   ],
   "source": [
    "class Student:\n",
    "    def __init__(self, roll_no, name, age):\n",
    "        self.roll_no = roll_no\n",
    "        self.name = name\n",
    "        self.age = age\n",
    "    # instance method access instance variable\n",
    "    def show(self):\n",
    "        print('Roll Number:', self.roll_no, 'Name:', self.name, 'Age:', self.age)\n",
    "        \n",
    "    # instance method to modify instance variable\n",
    "    def update(self,roll_no, age):\n",
    "        self.roll_no = roll_no\n",
    "        self.age = age\n",
    "        \n",
    "#create object\n",
    "print('Class VIII')\n",
    "std = Student(104, 'Sarfraz', 31)\n",
    "# call instance method\n",
    "std.show()\n",
    "\n",
    "# modify instance variable\n",
    "print('Class IX')\n",
    "std.update(110, 28)\n",
    "std.show()"
   ]
  },
  {
   "cell_type": "markdown",
   "id": "912f0e0b",
   "metadata": {},
   "source": [
    "# create instance variables in instance method"
   ]
  },
  {
   "cell_type": "code",
   "execution_count": 18,
   "id": "2d42df83",
   "metadata": {},
   "outputs": [
    {
     "name": "stdout",
     "output_type": "stream",
     "text": [
      "104 Sarfraz 31\n",
      "Roll No: 104 Name: Sarfraz Age: 31 Mark: 99\n"
     ]
    }
   ],
   "source": [
    "class Student:\n",
    "    def __init__(self, roll_no, name, age):\n",
    "        self.roll_no = roll_no\n",
    "        self.name = name\n",
    "        self.age = age\n",
    "    \n",
    "    def show(self):\n",
    "        print(self.roll_no, self.name, self.age)\n",
    "    \n",
    "        \n",
    "    # instance method to add instance variable\n",
    "    def add_mark(self, mark):\n",
    "    # add new attribute to current object\n",
    "        self.mark = mark\n",
    "# create object\n",
    "std = Student(104,'Sarfraz', 31)\n",
    "std.show()\n",
    "std.add_mark(99)\n",
    "print('Roll No:', std.roll_no, 'Name:', std.name, 'Age:', std.age, 'Mark:', std.mark)\n",
    "        "
   ]
  },
  {
   "cell_type": "markdown",
   "id": "b8ae0011",
   "metadata": {},
   "source": [
    "# Static method"
   ]
  },
  {
   "cell_type": "code",
   "execution_count": 36,
   "id": "703b0001",
   "metadata": {},
   "outputs": [
    {
     "name": "stdout",
     "output_type": "stream",
     "text": [
      "Completed task_1\n",
      "Completed task_2\n",
      "Completed task_3\n",
      "Completed task4\n",
      "False\n",
      "True\n",
      "True\n",
      "True\n"
     ]
    }
   ],
   "source": [
    "class Employee:\n",
    "    def __init__(self, name, salary, project_name):\n",
    "        self.name = name\n",
    "        self.salary = salary\n",
    "        self.project_name = project_name\n",
    "    \n",
    "    @staticmethod\n",
    "    def gather_requirement(project_name):\n",
    "        if project_name == 'Python Project':\n",
    "            requirement = ['task_1', 'task_2', 'task_3']\n",
    "        else:\n",
    "            requirement = ['task4']\n",
    "        return requirement\n",
    "    def work(self):\n",
    "        #call staticmethod from instance method\n",
    "        requirement = self.gather_requirement(self.project_name)\n",
    "        for task in requirement:\n",
    "            print('Completed', task)\n",
    "\n",
    "sar = Employee('Sarfraz', 50000, 'Python Project')\n",
    "sar.work()\n",
    "saud = Employee('Saud', 50000, 'MCC project')\n",
    "saud.work()\n",
    "\n",
    "# False: because seperate copy of method is created for each object\n",
    "print(sar.work is saud.work)\n",
    "\n",
    "# True: because only one copy is created\n",
    "# sar and saud object shared the same method\n",
    "print(sar.gather_requirement is saud.gather_requirement )\n",
    "\n",
    "print(sar.gather_requirement is Employee.gather_requirement)\n",
    "print(saud.gather_requirement is Employee.gather_requirement)"
   ]
  },
  {
   "cell_type": "code",
   "execution_count": 14,
   "id": "a1677bf0",
   "metadata": {},
   "outputs": [
    {
     "name": "stdout",
     "output_type": "stream",
     "text": [
      "Inside Static Method 10\n"
     ]
    }
   ],
   "source": [
    "#staticmethod(function)\n",
    "\n",
    "class Employee:\n",
    "    def sample(x):\n",
    "        print('Inside Static Method', x)\n",
    "# convert to static method\n",
    "Employee.sample = staticmethod(Employee.sample)\n",
    "# call staticmethod \n",
    "Employee.sample(10)"
   ]
  },
  {
   "cell_type": "code",
   "execution_count": 15,
   "id": "f3e48c9d",
   "metadata": {},
   "outputs": [
    {
     "name": "stdout",
     "output_type": "stream",
     "text": [
      "Model:-Iphone Price:-100000\n"
     ]
    }
   ],
   "source": [
    "class Mobile:\n",
    "    \n",
    "    @staticmethod\n",
    "    def show_model(m, p):\n",
    "        model = m\n",
    "        price = p\n",
    "        print(f\"Model:-{model} Price:-{price}\")\n",
    "# iphone = Mobile()\n",
    "Mobile.show_model('Iphone', 100000)"
   ]
  },
  {
   "cell_type": "code",
   "execution_count": null,
   "id": "eb22cba0",
   "metadata": {},
   "outputs": [],
   "source": []
  }
 ],
 "metadata": {
  "kernelspec": {
   "display_name": "Python 3 (ipykernel)",
   "language": "python",
   "name": "python3"
  },
  "language_info": {
   "codemirror_mode": {
    "name": "ipython",
    "version": 3
   },
   "file_extension": ".py",
   "mimetype": "text/x-python",
   "name": "python",
   "nbconvert_exporter": "python",
   "pygments_lexer": "ipython3",
   "version": "3.10.4"
  }
 },
 "nbformat": 4,
 "nbformat_minor": 5
}
