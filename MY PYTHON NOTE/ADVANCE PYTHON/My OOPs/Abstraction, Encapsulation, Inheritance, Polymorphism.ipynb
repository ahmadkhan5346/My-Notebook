{
 "cells": [
  {
   "cell_type": "markdown",
   "id": "f56dbcad",
   "metadata": {},
   "source": [
    "# Abstracion"
   ]
  },
  {
   "cell_type": "code",
   "execution_count": 1,
   "id": "09760539",
   "metadata": {},
   "outputs": [],
   "source": [
    "# Abstraction is a method or way to hide the internal machanism and show only implementation part"
   ]
  },
  {
   "cell_type": "code",
   "execution_count": 2,
   "id": "cc5edef5",
   "metadata": {},
   "outputs": [
    {
     "name": "stdout",
     "output_type": "stream",
     "text": [
      "Abstract Class\n"
     ]
    }
   ],
   "source": [
    "from abc import ABC,abstractmethod\n",
    "class Car(ABC):            # Abstract classs\n",
    "    @abstractmethod        # Abstraction method\n",
    "    def show(self):        \n",
    "        None\n",
    "        \n",
    "class Std(Car):                     #concrete class\n",
    "    def show(self):\n",
    "        print('Abstract Class')     #concrete method\n",
    "s1 = Std()\n",
    "s1.show()"
   ]
  },
  {
   "cell_type": "code",
   "execution_count": 7,
   "id": "e038da1b",
   "metadata": {},
   "outputs": [
    {
     "name": "stdout",
     "output_type": "stream",
     "text": [
      "42\n"
     ]
    }
   ],
   "source": [
    "from abc import ABC, abstractmethod\n",
    "class Shape(ABC):\n",
    "    @abstractmethod\n",
    "    def printarea(self):\n",
    "        return 0\n",
    "    \n",
    "class Rectangle(Shape):\n",
    "#     type1 = 'Rectangle'\n",
    "#     sides = 4\n",
    "    \n",
    "    def __init__(self):\n",
    "        self.length = 6\n",
    "        self.breath = 7\n",
    "    \n",
    "    def printarea(self):\n",
    "        return self.length * self.breath\n",
    "    \n",
    "rect = Rectangle()\n",
    "print(rect.printarea())\n",
    "        \n",
    "        "
   ]
  },
  {
   "cell_type": "markdown",
   "id": "c22b7ec4",
   "metadata": {},
   "source": [
    "# Encapsulation\n"
   ]
  },
  {
   "cell_type": "code",
   "execution_count": 3,
   "id": "c153086b",
   "metadata": {},
   "outputs": [],
   "source": [
    "# To achive abstraction have to encapsulation in oops\n",
    "# to hide details, to hide implementation\n",
    "# building data and methods within a single unit.\n"
   ]
  },
  {
   "cell_type": "markdown",
   "id": "40ce6508",
   "metadata": {},
   "source": [
    "## Getters and Setters in Python"
   ]
  },
  {
   "cell_type": "code",
   "execution_count": 4,
   "id": "303b56c3",
   "metadata": {},
   "outputs": [
    {
     "name": "stdout",
     "output_type": "stream",
     "text": [
      "Name: Jessa 14\n",
      "Name: Jessa 16\n"
     ]
    }
   ],
   "source": [
    "class Student:\n",
    "    def __init__(self, name, age):\n",
    "        # private member\n",
    "        self.name = name\n",
    "        self.__age = age\n",
    "\n",
    "    # getter method\n",
    "    def get_age(self):\n",
    "        return self.__age\n",
    "\n",
    "    # setter method\n",
    "    def set_age(self, age):\n",
    "        self.__age = age\n",
    "\n",
    "std = Student('Jessa', 14)\n",
    "\n",
    "# retrieving age using getter\n",
    "print('Name:', std.name, std.get_age())\n",
    "\n",
    "# changing age using setter\n",
    "std.set_age(16)\n",
    "\n",
    "# retrieving age using getter\n",
    "print('Name:', std.name, std.get_age())"
   ]
  },
  {
   "cell_type": "markdown",
   "id": "d20bca02",
   "metadata": {},
   "source": [
    "# Inheritance"
   ]
  },
  {
   "cell_type": "code",
   "execution_count": 5,
   "id": "18ca6d49",
   "metadata": {},
   "outputs": [
    {
     "name": "stdout",
     "output_type": "stream",
     "text": [
      "inside vehicle class\n",
      "Inside car class\n"
     ]
    }
   ],
   "source": [
    "# single inheritance\n",
    "\n",
    "# parent class\n",
    "class Vehicle:\n",
    "    def vehicle_info(self):\n",
    "        print(\"inside vehicle class\")\n",
    "\n",
    "# child class\n",
    "class Car(Vehicle):\n",
    "    def car_info(self):\n",
    "        print('Inside car class')\n",
    "        \n",
    "car = Car()\n",
    "car.vehicle_info()\n",
    "car.car_info()"
   ]
  },
  {
   "cell_type": "code",
   "execution_count": 6,
   "id": "8f5562df",
   "metadata": {},
   "outputs": [
    {
     "name": "stdout",
     "output_type": "stream",
     "text": [
      "Inside person class\n",
      "Name: Sarfraz Age: 31\n",
      "Inside company class\n",
      "Compoany Name: Mumbai Coding Club Location: Skai Naka\n",
      "Iside Employee Class\n",
      "Salary: 50000 Skill: 8 Hour everyday\n"
     ]
    }
   ],
   "source": [
    "# multiple inheritance\n",
    "\n",
    "# parent class 1\n",
    "class Person:\n",
    "    def person_info(self,name,age):\n",
    "        print('Inside person class')\n",
    "        print('Name:',name,'Age:',age)\n",
    "        \n",
    "# parent class 2\n",
    "class Company:\n",
    "    def company_info(self,company_name,location):\n",
    "        print('Inside company class')\n",
    "        print('Compoany Name:', company_name, 'Location:', location)\n",
    "        \n",
    "# child class\n",
    "class Employee(Person, Company):\n",
    "    def employee_info(self, salary, skill):\n",
    "        print('Iside Employee Class')\n",
    "        print('Salary:',salary, 'Skill:', skill)\n",
    "\n",
    "#create object of employee\n",
    "emp = Employee()\n",
    "\n",
    "# access data\n",
    "emp.person_info('Sarfraz', 31)\n",
    "emp.company_info('Mumbai Coding Club', 'Skai Naka')\n",
    "emp.employee_info(50000, '8 Hour everyday')"
   ]
  },
  {
   "cell_type": "code",
   "execution_count": 7,
   "id": "c89a8743",
   "metadata": {},
   "outputs": [
    {
     "name": "stdout",
     "output_type": "stream",
     "text": [
      "Inside vehicle class\n",
      "Inside car class\n",
      "Inside Sportcar class\n"
     ]
    }
   ],
   "source": [
    "# multilevel inheritance\n",
    "\n",
    "# parent class\n",
    "class Vehicle:\n",
    "    def vehicle_info(self):\n",
    "        print('Inside vehicle class')\n",
    "# child class 1\n",
    "class Car(Vehicle):\n",
    "    def car_info(self):\n",
    "        print('Inside car class')\n",
    "# child class 2\n",
    "class Sportcar(Car):\n",
    "    def sportcar_info(self):\n",
    "        print('Inside Sportcar class')\n",
    "# create object of sportcar\n",
    "s_car = Sportcar()\n",
    "\n",
    "# access vehicle's ans car info using sportcar object\n",
    "s_car.vehicle_info()\n",
    "s_car.car_info()\n",
    "s_car.sportcar_info()"
   ]
  },
  {
   "cell_type": "code",
   "execution_count": 8,
   "id": "81b440cf",
   "metadata": {},
   "outputs": [
    {
     "name": "stdout",
     "output_type": "stream",
     "text": [
      "This is Vehicle\n",
      "Car name is: BMW\n",
      "This is Vehicle\n",
      "Truck name is: Ford\n"
     ]
    }
   ],
   "source": [
    "# Hierarchical inheritance\n",
    "\n",
    "# parent class\n",
    "class Vehicle:\n",
    "    def info(self):\n",
    "        print('This is Vehicle')\n",
    "        \n",
    "class Car(Vehicle):\n",
    "    def car_info(self, name):\n",
    "        print('Car name is:', name)\n",
    "        \n",
    "class Truck(Vehicle):\n",
    "    def truck_info(self, name):\n",
    "        print('Truck name is:', name)\n",
    "        \n",
    "obj1 = Car()\n",
    "obj1.info()\n",
    "obj1.car_info('BMW')\n",
    "\n",
    "obj2 = Truck()\n",
    "obj2.info()\n",
    "obj2.truck_info('Ford')\n",
    "\n"
   ]
  },
  {
   "cell_type": "code",
   "execution_count": 9,
   "id": "3cf010dd",
   "metadata": {},
   "outputs": [
    {
     "name": "stdout",
     "output_type": "stream",
     "text": [
      "Inside Vehicle Class\n",
      "Inside car class\n",
      "Inside Sportcar class\n"
     ]
    }
   ],
   "source": [
    "# Hybrid Inheritance\n",
    "class Vehicle:\n",
    "    def vehicle_info(self):\n",
    "        print('Inside Vehicle Class')\n",
    "        \n",
    "class Car(Vehicle):\n",
    "    def car_info(self):\n",
    "        print('Inside car class')\n",
    "        \n",
    "class Truck(Vehicle):\n",
    "    def truck_info(self):\n",
    "        print('Inside Truck Class')\n",
    "        \n",
    "# Sport car can inherits properties of vehicle and car\n",
    "class SportCar(Car, Vehicle):\n",
    "    def sportcar_info(self):\n",
    "        print('Inside Sportcar class')\n",
    "        \n",
    "s_car = SportCar()\n",
    "\n",
    "s_car.vehicle_info()\n",
    "s_car.car_info()\n",
    "s_car.sportcar_info()"
   ]
  },
  {
   "cell_type": "markdown",
   "id": "44fd8018",
   "metadata": {},
   "source": [
    "## super() function"
   ]
  },
  {
   "cell_type": "code",
   "execution_count": 10,
   "id": "0a8cbf5d",
   "metadata": {},
   "outputs": [
    {
     "name": "stdout",
     "output_type": "stream",
     "text": [
      "Jessa work at name: Goole\n"
     ]
    }
   ],
   "source": [
    "class Company:\n",
    "    def company_name(self):\n",
    "        return 'Goole'\n",
    "class Employee(Company):\n",
    "    def info(self):\n",
    "        # calling the superclass methodusing super()\n",
    "        name = super().company_name()\n",
    "        print('Jessa work at name:', name)\n",
    "        \n",
    "emp = Employee()\n",
    "emp.info()"
   ]
  },
  {
   "cell_type": "markdown",
   "id": "824cbc66",
   "metadata": {},
   "source": [
    "## issubclass"
   ]
  },
  {
   "cell_type": "code",
   "execution_count": 11,
   "id": "a7656386",
   "metadata": {},
   "outputs": [
    {
     "name": "stdout",
     "output_type": "stream",
     "text": [
      "True\n",
      "False\n",
      "False\n"
     ]
    }
   ],
   "source": [
    "class Company:\n",
    "    def fun1(self):\n",
    "        print('Inside parent class')\n",
    "\n",
    "class Employee(Company):\n",
    "    def fun2(self):\n",
    "        print('Inside child class')\n",
    "        \n",
    "print(issubclass(Employee, Company))\n",
    "print(issubclass(Company, tuple))\n",
    "print(issubclass(list, Employee))\n"
   ]
  },
  {
   "cell_type": "markdown",
   "id": "01ea630f",
   "metadata": {},
   "source": [
    "## method overriding"
   ]
  },
  {
   "cell_type": "code",
   "execution_count": 12,
   "id": "15b4277c",
   "metadata": {},
   "outputs": [
    {
     "name": "stdout",
     "output_type": "stream",
     "text": [
      "max speed is 300 km/hour\n"
     ]
    }
   ],
   "source": [
    "class Vehicle:\n",
    "    def max_speed(self):\n",
    "        print('max speed is 100 km/hour')\n",
    "        \n",
    "class Car(Vehicle):\n",
    "    def max_speed(self):\n",
    "        print('max speed is 300 km/hour')\n",
    "        \n",
    "car = Car()\n",
    "car.max_speed()"
   ]
  },
  {
   "cell_type": "markdown",
   "id": "5ee61ebb",
   "metadata": {},
   "source": [
    "## MRO"
   ]
  },
  {
   "cell_type": "code",
   "execution_count": 35,
   "id": "f05d41c5",
   "metadata": {},
   "outputs": [
    {
     "name": "stdout",
     "output_type": "stream",
     "text": [
      "In class A\n",
      "[<class '__main__.C'>, <class '__main__.B'>, <class '__main__.A'>, <class 'object'>]\n"
     ]
    }
   ],
   "source": [
    "class A:\n",
    "    def process(self):\n",
    "        print('In class A')\n",
    "class B(A):\n",
    "    def process(self):\n",
    "        print('In class B')\n",
    "class C(B,A):\n",
    "    def process(self):\n",
    "        print('In class C')\n",
    "        \n",
    "c1 = A()\n",
    "c1.process()\n",
    "print(C.mro())"
   ]
  },
  {
   "cell_type": "markdown",
   "id": "39f9109b",
   "metadata": {},
   "source": [
    "# Polymorphism"
   ]
  },
  {
   "cell_type": "code",
   "execution_count": 14,
   "id": "70d40a0e",
   "metadata": {},
   "outputs": [],
   "source": [
    "# Polymorphism allow to perform the same action in many defferent ways."
   ]
  },
  {
   "cell_type": "markdown",
   "id": "e015386a",
   "metadata": {},
   "source": [
    "### Overriding in polymorphism"
   ]
  },
  {
   "cell_type": "code",
   "execution_count": 15,
   "id": "c70f0e2b",
   "metadata": {},
   "outputs": [
    {
     "name": "stdout",
     "output_type": "stream",
     "text": [
      "Details: BMW- Red- 20000\n",
      "car max speed 200\n",
      "car change 4 geer\n",
      "Details: Truck- Black- 50000\n",
      "vehicle max speed 100\n",
      "vehicle change 6 geer\n"
     ]
    }
   ],
   "source": [
    "class Vehicle:\n",
    "    def __init__(self, name, color, price):\n",
    "        self.name = name\n",
    "        self.color = color\n",
    "        self.price = price\n",
    "        \n",
    "    def show(self):\n",
    "        print('Details:', self.name, self.color, self.price)\n",
    "        \n",
    "    def max_speed(self):\n",
    "        print('vehicle max speed 100')\n",
    "        \n",
    "    def change_geer(self):\n",
    "        print('vehicle change 6 geer')\n",
    "        \n",
    "\n",
    "# Inherit from vehicle class\n",
    "class Car(Vehicle):\n",
    "    def max_speed(self):\n",
    "        print('car max speed 200')\n",
    "        \n",
    "    def change_geer(self):\n",
    "        print('car change 4 geer')\n",
    "        \n",
    "# car object\n",
    "car = Car('BMW-','Red-', 20000)\n",
    "car.show()\n",
    "\n",
    "# call method from car class\n",
    "car.max_speed()\n",
    "car.change_geer()\n",
    "\n",
    "\n",
    "# vehicle object\n",
    "vehicle = Vehicle('Truck-', 'Black-', 50000)\n",
    "vehicle.show()\n",
    "\n",
    "# call method from a vehicle class\n",
    "vehicle.max_speed()\n",
    "vehicle.change_geer()"
   ]
  },
  {
   "cell_type": "markdown",
   "id": "78c5f4eb",
   "metadata": {},
   "source": [
    "### override built in function"
   ]
  },
  {
   "cell_type": "code",
   "execution_count": 16,
   "id": "a7171940",
   "metadata": {},
   "outputs": [
    {
     "name": "stdout",
     "output_type": "stream",
     "text": [
      "Redifine length\n",
      "4\n"
     ]
    }
   ],
   "source": [
    "class Shopping:\n",
    "    def __init__(self, basket, buyer):\n",
    "        self.basket = basket\n",
    "        self.buyer = buyer\n",
    "        \n",
    "    def __len__(self):\n",
    "        print('Redifine length')\n",
    "        \n",
    "        count = len(self.basket)\n",
    "        return count * 2\n",
    "#         return count\n",
    "\n",
    "shopping = Shopping(['shoes','dress'], 'Ahmad')\n",
    "print(len(shopping))"
   ]
  },
  {
   "cell_type": "markdown",
   "id": "855b0e52",
   "metadata": {},
   "source": [
    "## polymorphism in class method"
   ]
  },
  {
   "cell_type": "code",
   "execution_count": 17,
   "id": "b719003d",
   "metadata": {},
   "outputs": [
    {
     "name": "stdout",
     "output_type": "stream",
     "text": [
      "Petrol\n",
      "max speed 400\n",
      "Diesel\n",
      "max speed 250\n"
     ]
    }
   ],
   "source": [
    "class Farari:\n",
    "    def fuel_type(self):\n",
    "        print('Petrol')\n",
    "        \n",
    "    def max_speed(self):\n",
    "        print('max speed 400')\n",
    "        \n",
    "class BMW:\n",
    "    def fuel_type(self):\n",
    "        print('Diesel')\n",
    "        \n",
    "    def max_speed(self):\n",
    "        print('max speed 250')\n",
    "        \n",
    "farari = Farari()\n",
    "bmw = BMW()\n",
    "\n",
    "# Iterate objects of same time\n",
    "for car in (farari,bmw):\n",
    "    #call methods without checking class of object\n",
    "    car.fuel_type()\n",
    "    car.max_speed()"
   ]
  },
  {
   "cell_type": "markdown",
   "id": "0fd01a4d",
   "metadata": {},
   "source": [
    "## polymorphism with Functions and Objects "
   ]
  },
  {
   "cell_type": "code",
   "execution_count": 18,
   "id": "c4bb5694",
   "metadata": {},
   "outputs": [
    {
     "name": "stdout",
     "output_type": "stream",
     "text": [
      "petrol\n",
      "max speed 350\n",
      "Diesel\n",
      "max speed 200\n"
     ]
    }
   ],
   "source": [
    "class Farari:\n",
    "    def fuel_type(self):\n",
    "        print('petrol')\n",
    "        \n",
    "    def max_speed(self):\n",
    "        print('max speed 350')\n",
    "        \n",
    "class BMW:\n",
    "    def fuel_type(self):\n",
    "        print('Diesel')\n",
    "    \n",
    "    def max_speed(self):\n",
    "        print('max speed 200')\n",
    "        \n",
    "#normal function\n",
    "def car_details(obj):\n",
    "    obj.fuel_type()\n",
    "    obj.max_speed()\n",
    "    \n",
    "farari = Farari()\n",
    "bmw = BMW()\n",
    "\n",
    "    \n",
    "car_details(farari)\n",
    "car_details(bmw)"
   ]
  },
  {
   "cell_type": "markdown",
   "id": "e5c39262",
   "metadata": {},
   "source": [
    "# polymorphism in built-in methods"
   ]
  },
  {
   "cell_type": "code",
   "execution_count": 19,
   "id": "2d09d9bb",
   "metadata": {},
   "outputs": [
    {
     "name": "stdout",
     "output_type": "stream",
     "text": [
      "Reverse String:\n",
      "bulC gnidoC iabmuM\n",
      "Reverse list:\n",
      "Junaid Khalid Sarfraz "
     ]
    }
   ],
   "source": [
    "students = ['Sarfraz', 'Khalid', 'Junaid']\n",
    "school = 'Mumbai Coding Club'\n",
    "\n",
    "print('Reverse String:')\n",
    "for i in reversed('Mumbai Coding Club'):\n",
    "    print(i, end='')\n",
    "    \n",
    "print('\\nReverse list:')\n",
    "for i in reversed(students):\n",
    "    print(i, end=' ')"
   ]
  },
  {
   "cell_type": "markdown",
   "id": "79d16bc4",
   "metadata": {},
   "source": [
    "## Method overloading"
   ]
  },
  {
   "cell_type": "code",
   "execution_count": 20,
   "id": "af7a8e49",
   "metadata": {},
   "outputs": [
    {
     "name": "stdout",
     "output_type": "stream",
     "text": [
      "6\n"
     ]
    }
   ],
   "source": [
    "def add(a, b):\n",
    "    c = a + b\n",
    "    print(c)\n",
    "    \n",
    "def add (a, b, c):\n",
    "    d = a + b + c\n",
    "    print(d)\n",
    "    \n",
    "add(2,2,2)\n"
   ]
  },
  {
   "cell_type": "code",
   "execution_count": 21,
   "id": "dd650919",
   "metadata": {},
   "outputs": [
    {
     "name": "stdout",
     "output_type": "stream",
     "text": [
      "Area of Rectangle: 10\n",
      "Area of Square: 16\n"
     ]
    }
   ],
   "source": [
    "class Shape:\n",
    "    # function with two default parameters\n",
    "    def area(self, a, b=0):\n",
    "        if b > 0:\n",
    "            print('Area of Rectangle:', a*b)\n",
    "        else:\n",
    "            print('Area of Square:', a**2)\n",
    "            \n",
    "rectangle = Shape()\n",
    "rectangle.area(5,2)\n",
    "            \n",
    "square = Shape()\n",
    "square.area(4)\n",
    "        "
   ]
  },
  {
   "cell_type": "markdown",
   "id": "52a86323",
   "metadata": {},
   "source": [
    "# overloading the + operator"
   ]
  },
  {
   "cell_type": "code",
   "execution_count": 22,
   "id": "980c0158",
   "metadata": {},
   "outputs": [
    {
     "name": "stdout",
     "output_type": "stream",
     "text": [
      "Total number of pages: 700\n"
     ]
    }
   ],
   "source": [
    "class Book:\n",
    "    def __init__(self, pages):\n",
    "        self.pages = pages\n",
    "        \n",
    "    def __add__(self, first):\n",
    "        return self.pages + first.pages\n",
    "    \n",
    "  \n",
    "b1 = Book(400)\n",
    "b2 = Book(300)\n",
    "print(\"Total number of pages:\", b1 + b2)"
   ]
  },
  {
   "cell_type": "markdown",
   "id": "a46ab96c",
   "metadata": {},
   "source": [
    "# overloading the * operator"
   ]
  },
  {
   "cell_type": "code",
   "execution_count": 23,
   "id": "a116bddd",
   "metadata": {},
   "outputs": [
    {
     "name": "stdout",
     "output_type": "stream",
     "text": [
      "Worked for 30 days\n",
      "Salary is: 60000\n"
     ]
    }
   ],
   "source": [
    "class Employee:\n",
    "    def __init__(self, name, salary):\n",
    "        self.name = name\n",
    "        self.salary = salary\n",
    "        \n",
    "    def __mul__(self, sheet):\n",
    "        print('Worked for', sheet.days, 'days')\n",
    "        # calculate salary\n",
    "        return self.salary * sheet.days\n",
    "    \n",
    "class Timesheet:\n",
    "    def __init__(self, name, days):\n",
    "        self.name = name\n",
    "        self.days = days\n",
    "    \n",
    "emp = Employee('Ahmad',2000)\n",
    "ts = Timesheet('Ahmad', 30)\n",
    "print('Salary is:', emp * ts)"
   ]
  },
  {
   "cell_type": "code",
   "execution_count": 24,
   "id": "42297e6a",
   "metadata": {},
   "outputs": [
    {
     "name": "stdout",
     "output_type": "stream",
     "text": [
      "Hello\n",
      "Bonjour\n"
     ]
    }
   ],
   "source": [
    "class English:\n",
    "    def greeting(self):\n",
    "        print(\"Hello\")\n",
    "class French:\n",
    "    def greeting(self):\n",
    "        print(\"Bonjour\")\n",
    "\n",
    "eng = English()\n",
    "frnch = French()\n",
    "for book in (eng,frnch):\n",
    "    book.greeting()"
   ]
  },
  {
   "cell_type": "markdown",
   "id": "412f40d0",
   "metadata": {},
   "source": [
    "# Destructor"
   ]
  },
  {
   "cell_type": "code",
   "execution_count": 25,
   "id": "4aa2c50a",
   "metadata": {},
   "outputs": [
    {
     "name": "stdout",
     "output_type": "stream",
     "text": [
      "Inside Constructor\n",
      "Object Initialized\n",
      "Hello, my name is: Ahmad\n",
      "Inside Destructor\n",
      "Object Destroyed\n"
     ]
    }
   ],
   "source": [
    "class Student:\n",
    "    def __init__(self, name):\n",
    "        print('Inside Constructor')\n",
    "        self.name = name\n",
    "        print('Object Initialized')\n",
    "        \n",
    "    def show(self):\n",
    "        print('Hello, my name is:', self.name)\n",
    "    \n",
    "    # Destructor\n",
    "    def __del__(self):\n",
    "        print('Inside Destructor')\n",
    "        print('Object Destroyed')\n",
    "\n",
    "s1 = Student('Ahmad')\n",
    "s1.show()\n",
    "del s1"
   ]
  },
  {
   "cell_type": "code",
   "execution_count": 26,
   "id": "4451b93e",
   "metadata": {},
   "outputs": [
    {
     "name": "stdout",
     "output_type": "stream",
     "text": [
      "Inside Constructor\n",
      "Hello, my name is Ahmad\n",
      "After sleep\n",
      "Hello, my name is Ahmad\n"
     ]
    }
   ],
   "source": [
    "import time\n",
    "\n",
    "class Student:\n",
    "\n",
    "    # constructor\n",
    "    def __init__(self, name):\n",
    "        print('Inside Constructor')\n",
    "        self.name = name\n",
    "\n",
    "    def show(self):\n",
    "        print('Hello, my name is', self.name)\n",
    "\n",
    "    # destructor\n",
    "    def __del__(self):\n",
    "        print('Object destroyed')\n",
    "\n",
    "# create object\n",
    "s1 = Student('Ahmad')\n",
    "# create new reference\n",
    "# both reference points to the same object\n",
    "s2 = s1\n",
    "s1.show()\n",
    "\n",
    "# delete object reference s1\n",
    "del s1\n",
    "\n",
    "# add sleep and observe the output\n",
    "time.sleep(5)\n",
    "print('After sleep')\n",
    "s2.show()"
   ]
  },
  {
   "cell_type": "code",
   "execution_count": 27,
   "id": "46a4cdbd",
   "metadata": {},
   "outputs": [
    {
     "name": "stdout",
     "output_type": "stream",
     "text": [
      "Vehicle 12 created\n",
      "Car 12 created\n"
     ]
    }
   ],
   "source": [
    "import time\n",
    "\n",
    "\n",
    "class Vehicle():\n",
    "    def __init__(self, id, car):\n",
    "        self.id = id;\n",
    "        # saving reference of Car object\n",
    "        self.dealer = car;\n",
    "        print('Vehicle', self.id, 'created');\n",
    "\n",
    "    def __del__(self):\n",
    "        print('Vehicle', self.id, 'destroyed');\n",
    "\n",
    "\n",
    "class Car():\n",
    "    def __init__(self, id):\n",
    "        self.id = id;\n",
    "        # saving Vehicle class object in 'dealer' variable\n",
    "        # Sending reference of Car object ('self') for Vehicle object\n",
    "        self.dealer = Vehicle(id, self);\n",
    "        print('Car', self.id, 'created')\n",
    "\n",
    "    def __del__(self):\n",
    "        print('Car', self.id, 'destroyed')\n",
    "\n",
    "\n",
    "# create car object\n",
    "c = Car(12)\n",
    "# delete car object\n",
    "del c\n",
    "# ideally destructor must execute now\n",
    "\n",
    "# to observe the behavior\n",
    "time.sleep(5)"
   ]
  },
  {
   "cell_type": "code",
   "execution_count": 28,
   "id": "71b2c746",
   "metadata": {},
   "outputs": [
    {
     "name": "stdout",
     "output_type": "stream",
     "text": [
      "Car 12 destroyed\n",
      "Vehicle 12 destroyed\n"
     ]
    },
    {
     "ename": "Exception",
     "evalue": "Not Allowed",
     "output_type": "error",
     "traceback": [
      "\u001b[1;31m---------------------------------------------------------------------------\u001b[0m",
      "\u001b[1;31mException\u001b[0m                                 Traceback (most recent call last)",
      "Input \u001b[1;32mIn [28]\u001b[0m, in \u001b[0;36m<cell line: 11>\u001b[1;34m()\u001b[0m\n\u001b[0;32m      8\u001b[0m         \u001b[38;5;28mprint\u001b[39m(\u001b[38;5;124m'\u001b[39m\u001b[38;5;124mRelease resources\u001b[39m\u001b[38;5;124m'\u001b[39m)\n\u001b[0;32m     10\u001b[0m \u001b[38;5;66;03m# creating an object\u001b[39;00m\n\u001b[1;32m---> 11\u001b[0m car \u001b[38;5;241m=\u001b[39m \u001b[43mVehicle\u001b[49m\u001b[43m(\u001b[49m\u001b[38;5;241;43m350\u001b[39;49m\u001b[43m)\u001b[49m;\n\u001b[0;32m     12\u001b[0m \u001b[38;5;66;03m# to delete the object explicitly\u001b[39;00m\n\u001b[0;32m     13\u001b[0m \u001b[38;5;28;01mdel\u001b[39;00m car\n",
      "Input \u001b[1;32mIn [28]\u001b[0m, in \u001b[0;36mVehicle.__init__\u001b[1;34m(self, speed)\u001b[0m\n\u001b[0;32m      2\u001b[0m \u001b[38;5;28;01mdef\u001b[39;00m \u001b[38;5;21m__init__\u001b[39m(\u001b[38;5;28mself\u001b[39m, speed):\n\u001b[0;32m      3\u001b[0m     \u001b[38;5;28;01mif\u001b[39;00m speed \u001b[38;5;241m>\u001b[39m \u001b[38;5;241m240\u001b[39m:\n\u001b[1;32m----> 4\u001b[0m         \u001b[38;5;28;01mraise\u001b[39;00m \u001b[38;5;167;01mException\u001b[39;00m(\u001b[38;5;124m'\u001b[39m\u001b[38;5;124mNot Allowed\u001b[39m\u001b[38;5;124m'\u001b[39m);\n\u001b[0;32m      5\u001b[0m     \u001b[38;5;28mself\u001b[39m\u001b[38;5;241m.\u001b[39mspeed \u001b[38;5;241m=\u001b[39m speed\n",
      "\u001b[1;31mException\u001b[0m: Not Allowed"
     ]
    }
   ],
   "source": [
    "class Vehicle:\n",
    "    def __init__(self, speed):\n",
    "        if speed > 240:\n",
    "            raise Exception('Not Allowed');\n",
    "        self.speed = speed;\n",
    "\n",
    "    def __del__(self):\n",
    "        print('Release resources')\n",
    "\n",
    "# creating an object\n",
    "car = Vehicle(350);\n",
    "# to delete the object explicitly\n",
    "del car"
   ]
  },
  {
   "cell_type": "code",
   "execution_count": null,
   "id": "1d8351d2",
   "metadata": {},
   "outputs": [],
   "source": []
  }
 ],
 "metadata": {
  "kernelspec": {
   "display_name": "Python 3 (ipykernel)",
   "language": "python",
   "name": "python3"
  },
  "language_info": {
   "codemirror_mode": {
    "name": "ipython",
    "version": 3
   },
   "file_extension": ".py",
   "mimetype": "text/x-python",
   "name": "python",
   "nbconvert_exporter": "python",
   "pygments_lexer": "ipython3",
   "version": "3.10.4"
  }
 },
 "nbformat": 4,
 "nbformat_minor": 5
}
