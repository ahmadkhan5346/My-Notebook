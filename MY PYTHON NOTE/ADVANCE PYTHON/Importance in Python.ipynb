{
 "cells": [
  {
   "cell_type": "markdown",
   "id": "c6c0ee11",
   "metadata": {},
   "source": [
    "# TIME COMPLEXITY :\n",
    "- In computer science, the time complexity is the computational complexity that describes the amount of computer time it takes to run an algorithm.\n"
   ]
  },
  {
   "cell_type": "code",
   "execution_count": 6,
   "id": "e107d719",
   "metadata": {},
   "outputs": [
    {
     "name": "stdout",
     "output_type": "stream",
     "text": [
      "14\n",
      "0.0\n"
     ]
    }
   ],
   "source": [
    "import time\n",
    "start = time.time()\n",
    "lst = [10, 14, 18, 14, 20, 19]    # k1\n",
    "for i in range(len(lst)):         # n\n",
    "    for j in range(i+1,len(lst)): # n\n",
    "        if lst[i] == lst[j]:      # k2\n",
    "            duplicate = lst[i]    #k3\n",
    "            print(duplicate)\n",
    "end = time.time()\n",
    "print(end - start)"
   ]
  },
  {
   "cell_type": "code",
   "execution_count": null,
   "id": "4295797d",
   "metadata": {},
   "outputs": [],
   "source": [
    "# important rule\n",
    "# 1. Drop non dominant items\n",
    "# 2. Drop the constant\n",
    "\n",
    "k1 + k2 + k3 + n^2 + n  => O(n^2)"
   ]
  },
  {
   "cell_type": "code",
   "execution_count": 7,
   "id": "0083629f",
   "metadata": {},
   "outputs": [
    {
     "name": "stdout",
     "output_type": "stream",
     "text": [
      "sum is: 1000\n",
      "0.008036136627197266\n"
     ]
    }
   ],
   "source": [
    "import time\n",
    "start = time.time()\n",
    "s = 0\n",
    "for i in range(1, 1001):\n",
    "    s = s + 1\n",
    "print('sum is:', s)\n",
    "end = time.time()\n",
    "print(end-start)"
   ]
  },
  {
   "cell_type": "markdown",
   "id": "ad1e1124",
   "metadata": {},
   "source": [
    "# Big O notation"
   ]
  },
  {
   "cell_type": "code",
   "execution_count": null,
   "id": "dcd1ec73",
   "metadata": {},
   "outputs": [],
   "source": []
  }
 ],
 "metadata": {
  "kernelspec": {
   "display_name": "Python 3 (ipykernel)",
   "language": "python",
   "name": "python3"
  },
  "language_info": {
   "codemirror_mode": {
    "name": "ipython",
    "version": 3
   },
   "file_extension": ".py",
   "mimetype": "text/x-python",
   "name": "python",
   "nbconvert_exporter": "python",
   "pygments_lexer": "ipython3",
   "version": "3.10.4"
  }
 },
 "nbformat": 4,
 "nbformat_minor": 5
}
