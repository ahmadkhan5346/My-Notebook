{
 "cells": [
  {
   "cell_type": "code",
   "execution_count": null,
   "id": "253a3033",
   "metadata": {},
   "outputs": [],
   "source": [
    "def login_required(func):\n",
    "    def inner(credentials):\n",
    "        if credentials[\"username\"]=='jc_junaid_chaudhary' and credentials[\"password\"]==\"1234\":\n",
    "            print(\"Login Successfull\")\n",
    "            return func(credentials)\n",
    "        else:\n",
    "            if credentials[\"username\"]!='jc_junaid_chaudhary':\n",
    "                  print(\"Enter valid Username\")\n",
    "            else:\n",
    "                  print(\"Enter Valid Password\")\n",
    "                    \n",
    "    return inner\n",
    "            \n",
    "\n",
    "def age_nationality_check(func):\n",
    "    def inner(credentials):\n",
    "        if credentials[\"age\"]>18 and credentials[\"national\"]==\"Indian\":\n",
    "            print(\"You are eligible for voting\")\n",
    "            return func(credentials)\n",
    "        else:\n",
    "            if credentials[\"age\"]<=18:\n",
    "                print(\"Your age is not eligible for voting\")\n",
    "            else:\n",
    "                print(\"you are not Indian\")\n",
    "    return inner"
   ]
  },
  {
   "cell_type": "code",
   "execution_count": null,
   "id": "67abd905",
   "metadata": {},
   "outputs": [],
   "source": [
    "@login_required\n",
    "@age_nationality_check\n",
    "def vote(credentials):\n",
    "    print(\"-----------------------------------------\")\n",
    "    print(f\"Welcome to the voting\")\n",
    "    print(\"1: Sarfraz Khan\")\n",
    "    print(\"2: Suhail Khan\")\n",
    "    print(\"3: Sadiq Ali Mansoori\")\n",
    "    print(\"4: Ashraf Malik\")\n",
    "    \n",
    "    option=int(input(\"Select above option:..\"))\n",
    "    \n",
    "    if option not in [1,2,3,4]:\n",
    "        print(\"Enter Valid option\")\n",
    "        option=int(input(\"Select above option:..\"))\n",
    "    \n",
    "    if option==1:\n",
    "        print(\"You have Voted to Sarfraz Khan\")\n",
    "    elif option==2:\n",
    "        print(\"You have Voted to Suhail Khan\")\n",
    "    elif option==3:\n",
    "        print(\"You have Voted to Sadiq ali mansoori\")\n",
    "    elif option==4:\n",
    "        print(\"You have Voted to Ashraf Malik\")\n",
    "       \n",
    "    \n",
    "    print(\"Thanks for voting\")\n",
    "        \n",
    "\n",
    "credentials={\"username\":\"jc_junaid_chaudhary\",\"password\":\"1234\",\"age\":20,\"national\":\"Indian\"}\n",
    "vote(credentials)\n"
   ]
  },
  {
   "cell_type": "markdown",
   "id": "52f50a90",
   "metadata": {},
   "source": [
    "### @property decorator"
   ]
  },
  {
   "cell_type": "code",
   "execution_count": 1,
   "id": "f3cf1223",
   "metadata": {},
   "outputs": [
    {
     "name": "stdout",
     "output_type": "stream",
     "text": [
      "Sarfraz.khan@mcc.com\n",
      "Us.Chaudhry@mcc.com\n",
      "setting now... this.that@mcc.com\n",
      "this.that@mcc.com\n",
      "Email is not set please set it using setter\n"
     ]
    }
   ],
   "source": [
    "class Employee():\n",
    "    def __init__(self, fname, lname):\n",
    "        self.fname = fname\n",
    "        self.lname = lname\n",
    "        #self.email = f\"{fname}.{lname}@khansarfraz.com\"\n",
    "        \n",
    "    def explain(self):\n",
    "        return f\"This Employee is {self.fname} {self.lname}\"\n",
    "    \n",
    "    @property\n",
    "    def email(self):\n",
    "        if self.fname == None or self.lname == None:\n",
    "            return f\"Email is not set please set it using setter\"\n",
    "        return f\"{self.fname}.{self.lname}@mcc.com\"\n",
    "    \n",
    "    @email.setter\n",
    "    def email(self, string):\n",
    "        print('setting now...', string)\n",
    "        names = string.split('@')[0]\n",
    "        self.fname = names.split('.')[0]\n",
    "        self.lname = names.split('.')[1]\n",
    "        \n",
    "    @email.deleter\n",
    "    def email(self):\n",
    "        self.fname = None\n",
    "        self.lname = None\n",
    "        \n",
    "    \n",
    "    \n",
    "obj1 = Employee('Junaid', 'Chaudhry')\n",
    "obj2 = Employee('Sarfraz', 'khan')\n",
    "\n",
    "print(obj2.email)\n",
    "\n",
    "obj1.fname = 'Us'\n",
    "\n",
    "print(obj1.email)\n",
    "\n",
    "obj1.email = \"this.that@mcc.com\"\n",
    "print(obj1.email)\n",
    "\n",
    "del obj1.email\n",
    "\n",
    "print(obj1.email)\n",
    "\n"
   ]
  },
  {
   "cell_type": "code",
   "execution_count": 28,
   "id": "52da9565",
   "metadata": {},
   "outputs": [
    {
     "name": "stdout",
     "output_type": "stream",
     "text": [
      "khansarfraz.com\n"
     ]
    }
   ],
   "source": [
    "str1 = 'Hind.Chaudhry@khansarfraz.com'\n",
    "names = str1.split('@')[0]\n",
    "print(names)"
   ]
  },
  {
   "cell_type": "code",
   "execution_count": 46,
   "id": "dc517747",
   "metadata": {},
   "outputs": [
    {
     "name": "stdout",
     "output_type": "stream",
     "text": [
      "Getting value\n",
      "GeeksforGeeks\n",
      "Setting value to GfG\n",
      "Deleting value\n"
     ]
    }
   ],
   "source": [
    "class Alphabet:\n",
    "    def __init__(self, value):\n",
    "        self._value = value\n",
    " \n",
    "    # getting the values\n",
    "    def getValue(self):\n",
    "        print('Getting value')\n",
    "        return self._value\n",
    " \n",
    "    # setting the values\n",
    "    def setValue(self, value):\n",
    "        print('Setting value to ' + value)\n",
    "        self._value = value\n",
    " \n",
    "    # deleting the values\n",
    "    def delValue(self):\n",
    "        print('Deleting value')\n",
    "        del self._value\n",
    " \n",
    "    value = property(getValue, setValue,\n",
    "                     delValue, )\n",
    " \n",
    " \n",
    "#passing the value\n",
    "x = Alphabet('GeeksforGeeks')\n",
    "print(x.value)\n",
    " \n",
    "x.value = 'GfG'\n",
    " \n",
    "del x.value"
   ]
  },
  {
   "cell_type": "code",
   "execution_count": null,
   "id": "c964a3e1",
   "metadata": {},
   "outputs": [],
   "source": []
  }
 ],
 "metadata": {
  "kernelspec": {
   "display_name": "Python 3 (ipykernel)",
   "language": "python",
   "name": "python3"
  },
  "language_info": {
   "codemirror_mode": {
    "name": "ipython",
    "version": 3
   },
   "file_extension": ".py",
   "mimetype": "text/x-python",
   "name": "python",
   "nbconvert_exporter": "python",
   "pygments_lexer": "ipython3",
   "version": "3.10.4"
  }
 },
 "nbformat": 4,
 "nbformat_minor": 5
}
