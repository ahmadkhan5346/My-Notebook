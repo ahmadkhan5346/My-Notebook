{
 "cells": [
  {
   "cell_type": "code",
   "execution_count": null,
   "id": "253a3033",
   "metadata": {},
   "outputs": [],
   "source": [
    "def login_required(func):\n",
    "    def inner(credentials):\n",
    "        if credentials[\"username\"]=='jc_junaid_chaudhary' and credentials[\"password\"]==\"1234\":\n",
    "            print(\"Login Successfull\")\n",
    "            return func(credentials)\n",
    "        else:\n",
    "            if credentials[\"username\"]!='jc_junaid_chaudhary':\n",
    "                  print(\"Enter valid Username\")\n",
    "            else:\n",
    "                  print(\"Enter Valid Password\")\n",
    "                    \n",
    "    return inner\n",
    "            \n",
    "\n",
    "def age_nationality_check(func):\n",
    "    def inner(credentials):\n",
    "        if credentials[\"age\"]>18 and credentials[\"national\"]==\"Indian\":\n",
    "            print(\"You are eligible for voting\")\n",
    "            return func(credentials)\n",
    "        else:\n",
    "            if credentials[\"age\"]<=18:\n",
    "                print(\"Your age is not eligible for voting\")\n",
    "            else:\n",
    "                print(\"you are not Indian\")\n",
    "    return inner"
   ]
  },
  {
   "cell_type": "code",
   "execution_count": null,
   "id": "67abd905",
   "metadata": {},
   "outputs": [],
   "source": [
    "@login_required\n",
    "@age_nationality_check\n",
    "def vote(credentials):\n",
    "    print(\"-----------------------------------------\")\n",
    "    print(f\"Welcome to the voting\")\n",
    "    print(\"1: Sarfraz Khan\")\n",
    "    print(\"2: Suhail Khan\")\n",
    "    print(\"3: Sadiq Ali Mansoori\")\n",
    "    print(\"4: Ashraf Malik\")\n",
    "    \n",
    "    option=int(input(\"Select above option:..\"))\n",
    "    \n",
    "    if option not in [1,2,3,4]:\n",
    "        print(\"Enter Valid option\")\n",
    "        option=int(input(\"Select above option:..\"))\n",
    "    \n",
    "    if option==1:\n",
    "        print(\"You have Voted to Sarfraz Khan\")\n",
    "    elif option==2:\n",
    "        print(\"You have Voted to Suhail Khan\")\n",
    "    elif option==3:\n",
    "        print(\"You have Voted to Sadiq ali mansoori\")\n",
    "    elif option==4:\n",
    "        print(\"You have Voted to Ashraf Malik\")\n",
    "       \n",
    "    \n",
    "    print(\"Thanks for voting\")\n",
    "        \n",
    "\n",
    "credentials={\"username\":\"jc_junaid_chaudhary\",\"password\":\"1234\",\"age\":20,\"national\":\"Indian\"}\n",
    "vote(credentials)\n"
   ]
  }
 ],
 "metadata": {
  "kernelspec": {
   "display_name": "Python 3 (ipykernel)",
   "language": "python",
   "name": "python3"
  },
  "language_info": {
   "codemirror_mode": {
    "name": "ipython",
    "version": 3
   },
   "file_extension": ".py",
   "mimetype": "text/x-python",
   "name": "python",
   "nbconvert_exporter": "python",
   "pygments_lexer": "ipython3",
   "version": "3.10.4"
  }
 },
 "nbformat": 4,
 "nbformat_minor": 5
}
