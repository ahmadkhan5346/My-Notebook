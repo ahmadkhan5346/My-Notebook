{
 "cells": [
  {
   "cell_type": "markdown",
   "id": "c56a789a",
   "metadata": {},
   "source": [
    "### 1.Iterator, Generator, Iterable\n",
    "### 2.map| 3.filter| 4.zip| 5.enumerate| 6.lambda| 7.Rcursion| 8.Decorators\n",
    "### 9.reduce(module) | 10.bisect(module)\n",
    "### 11.enum"
   ]
  },
  {
   "cell_type": "markdown",
   "id": "7d6054fa",
   "metadata": {},
   "source": [
    "## 1.Iterator:\n",
    "###### Iterator is an object used to iterate over an iterable object like List, Tuple, Set, Dictionary used to iter() method to iterate over an Iterable\n",
    "## Iterable:\n",
    "any object can iterate is called 'Iterable'\n",
    "## Iteration:\n",
    "The process of iterator work on iterable that is called 'Iteration'"
   ]
  },
  {
   "cell_type": "code",
   "execution_count": 4,
   "id": "c1d0e542",
   "metadata": {},
   "outputs": [
    {
     "name": "stdout",
     "output_type": "stream",
     "text": [
      "data science\n",
      "business analytics\n",
      "machine learning\n"
     ]
    }
   ],
   "source": [
    "#Iterator\n",
    "sample = ['data science', 'business analytics', 'machine learning']\n",
    "it = iter(sample)\n",
    "print(next(it))\n",
    "print(next(it))\n",
    "print(next(it))\n",
    "# print(next(it))"
   ]
  },
  {
   "cell_type": "code",
   "execution_count": 4,
   "id": "1d752a1e",
   "metadata": {},
   "outputs": [
    {
     "name": "stdout",
     "output_type": "stream",
     "text": [
      "data science\n",
      "business analytics\n",
      "machine learning\n"
     ]
    }
   ],
   "source": [
    "sample = ['data science', 'business analytics', 'machine learning']\n",
    "itr = iter(sample)\n",
    "for i in itr:\n",
    "    print(i)"
   ]
  },
  {
   "cell_type": "code",
   "execution_count": 1,
   "id": "72a790d0",
   "metadata": {},
   "outputs": [
    {
     "name": "stdout",
     "output_type": "stream",
     "text": [
      "s\n",
      "a\n",
      "<str_iterator object at 0x00000285621837F0>\n"
     ]
    }
   ],
   "source": [
    "a = iter('sarfraz')\n",
    "print(next(a))\n",
    "print(next(a))\n",
    "print(a)"
   ]
  },
  {
   "cell_type": "markdown",
   "id": "21ff654a",
   "metadata": {},
   "source": [
    "# Generator\n",
    "- Generator is like an Iterator but different is that whenever we use yield keyword inside, it has the capability to pause or resume the program or code"
   ]
  },
  {
   "cell_type": "code",
   "execution_count": 39,
   "id": "04cd8adc",
   "metadata": {},
   "outputs": [
    {
     "name": "stdout",
     "output_type": "stream",
     "text": [
      "1\n",
      "4\n",
      "9\n",
      "16\n",
      "25\n",
      "36\n",
      "49\n",
      "64\n",
      "81\n",
      "100\n"
     ]
    }
   ],
   "source": [
    "# Generator yield\n",
    "\n",
    "def square():\n",
    "    i = 1\n",
    "    while True:\n",
    "        yield i*i\n",
    "        i+=1\n",
    "        \n",
    "#print(type(var))\n",
    "for j in square():\n",
    "    if j>100:\n",
    "        break\n",
    "    print(j)"
   ]
  },
  {
   "cell_type": "code",
   "execution_count": 32,
   "id": "dfbcd67d",
   "metadata": {},
   "outputs": [
    {
     "name": "stdout",
     "output_type": "stream",
     "text": [
      "2\n",
      "4\n",
      "8\n",
      "16\n",
      "32\n"
     ]
    }
   ],
   "source": [
    "def powerofgen(max):\n",
    "    n = 1\n",
    "    while n < max:\n",
    "        yield 2**n\n",
    "        n += 1\n",
    "a = powerofgen(6)\n",
    "for i in a:\n",
    "    print(i)"
   ]
  },
  {
   "cell_type": "code",
   "execution_count": 1,
   "id": "e3a9a0f0",
   "metadata": {},
   "outputs": [
    {
     "name": "stdout",
     "output_type": "stream",
     "text": [
      "10\n",
      "11\n",
      "14\n",
      "19\n",
      "26\n"
     ]
    }
   ],
   "source": [
    "def square(x):\n",
    "    for i in range(5):\n",
    "        yield i*i\n",
    "        \n",
    "def test(x):\n",
    "    for i in square(5):\n",
    "        print(i+x)\n",
    "test(10)"
   ]
  },
  {
   "cell_type": "code",
   "execution_count": 6,
   "id": "677e2bdd",
   "metadata": {},
   "outputs": [
    {
     "name": "stdout",
     "output_type": "stream",
     "text": [
      "1\n",
      "2\n",
      "4\n",
      "8\n"
     ]
    }
   ],
   "source": [
    "def PowTwoGen(max=0):\n",
    "    n = 0\n",
    "    while n < max:\n",
    "        yield 2 ** n\n",
    "        n += 1\n",
    "        \n",
    "a=PowTwoGen(4)\n",
    "print(next(a))\n",
    "print(next(a))\n",
    "print(next(a))\n",
    "print(next(a))"
   ]
  },
  {
   "cell_type": "markdown",
   "id": "49d2ef42",
   "metadata": {},
   "source": [
    "### 2.Map() \n",
    "- syntax : map(function, iterable)\n",
    "- The map function executes a special function for each items in an iterable. the item is sent to the function as a parameter.\n",
    "- Function : required the function to execute for each item"
   ]
  },
  {
   "cell_type": "code",
   "execution_count": 2,
   "id": "e82a2eb4",
   "metadata": {},
   "outputs": [
    {
     "name": "stdout",
     "output_type": "stream",
     "text": [
      "['appleorangearfan', 'bananalemonsarfaraz', 'cherrypineapplejunaid']\n"
     ]
    }
   ],
   "source": [
    "def myfunc(a, b, c):\n",
    "    return a + b + c\n",
    "\n",
    "x = map(myfunc, ('apple', 'banana', 'cherry'), ('orange', 'lemon', 'pineapple'), ('arfan', 'sarfaraz', 'junaid'))\n",
    "print(list(x))\n"
   ]
  },
  {
   "cell_type": "code",
   "execution_count": 4,
   "id": "72e03b60",
   "metadata": {},
   "outputs": [
    {
     "name": "stdout",
     "output_type": "stream",
     "text": [
      "[1, 2, 3, 4]\n",
      "[2, 4, 6, 8]\n",
      "[2, 8, 18, 32]\n"
     ]
    }
   ],
   "source": [
    "a = [1,2,3,4]\n",
    "def add(n):\n",
    "    return n+n\n",
    "print(a)\n",
    "y = list(map(add,a))\n",
    "print(y)\n",
    "\n",
    "def multi(b,c):\n",
    "    return b*c\n",
    "h = list(map(multi,y,a))\n",
    "print(h)\n"
   ]
  },
  {
   "cell_type": "code",
   "execution_count": 8,
   "id": "1bcd8203",
   "metadata": {},
   "outputs": [
    {
     "name": "stdout",
     "output_type": "stream",
     "text": [
      "1 2 3 4\n",
      "[2, 8, 18, 32]\n"
     ]
    }
   ],
   "source": [
    "def add():\n",
    "    return lambda x : x + x\n",
    "def sqr():\n",
    "    return lambda x : x * x\n",
    "func = [add(),sqr()]\n",
    "\n",
    "def cmap(func, arr):\n",
    "    result = list(map(func[1],arr))\n",
    "    find = list(map(func[0],result))\n",
    "    return find\n",
    "\n",
    "arr = list(map(int,input().strip().split(' ')))\n",
    "multy_add = cmap(func, arr)\n",
    "print(multy_add)"
   ]
  },
  {
   "cell_type": "code",
   "execution_count": 2,
   "id": "b113475e",
   "metadata": {},
   "outputs": [
    {
     "name": "stdout",
     "output_type": "stream",
     "text": [
      "1 2 3 4\n",
      "[1, 2, 3, 4]\n",
      "[2, 8, 18, 32]\n"
     ]
    }
   ],
   "source": [
    "# input = 1, 2, 3, 4\n",
    "# output = 2, 8, 18, 32\n",
    "\n",
    "a =list(map(int,input().split(\" \")))\n",
    "def myfunc(x):\n",
    "    return x*x*2\n",
    "square_multiply = map(myfunc,a)\n",
    "print(list(square_multiply))"
   ]
  },
  {
   "cell_type": "code",
   "execution_count": 11,
   "id": "3df151f6",
   "metadata": {},
   "outputs": [
    {
     "name": "stdout",
     "output_type": "stream",
     "text": [
      "1 2 3 4 5\n",
      "[2, 8, 18, 32, 50]\n"
     ]
    }
   ],
   "source": [
    "a= []\n",
    "b = list(map(int,input().split(\" \")))\n",
    "a.append(b)\n",
    "    \n",
    "def addition(n):\n",
    "    z=n+n\n",
    "    return z*n\n",
    "var = (map(addition, b))\n",
    "print(list(var))"
   ]
  },
  {
   "cell_type": "markdown",
   "id": "92419973",
   "metadata": {},
   "source": [
    "## 3.Filter()\n",
    "- This function is used to filter out element of iterable. A filter function extract element from an iterable for which function return True.\n",
    "- syntax :- filter(function, iterable)\n",
    "- Function :- function that tests every element of iterable.\n",
    "- iterable :- sequence which needs to be filtered."
   ]
  },
  {
   "cell_type": "code",
   "execution_count": 5,
   "id": "bc40ecf7",
   "metadata": {},
   "outputs": [
    {
     "name": "stdout",
     "output_type": "stream",
     "text": [
      "5\n",
      "12\n",
      "17\n"
     ]
    }
   ],
   "source": [
    "ages = [5, 12, 17, 19, 24, 33, 32]\n",
    "\n",
    "def myFunc(x):\n",
    "    if x > 18:\n",
    "        return False\n",
    "    else:\n",
    "        return True\n",
    "\n",
    "adults = filter(myFunc, ages)\n",
    "\n",
    "for x in adults:\n",
    "    print(x)"
   ]
  },
  {
   "cell_type": "code",
   "execution_count": 6,
   "id": "d26175a4",
   "metadata": {},
   "outputs": [
    {
     "name": "stdout",
     "output_type": "stream",
     "text": [
      "[19, 24, 33, 32]\n"
     ]
    }
   ],
   "source": [
    "ages = [5, 12, 17, 19, 24, 33, 32]\n",
    "\n",
    "def myFunc(x):\n",
    "    if x > 18:\n",
    "        return True\n",
    "\n",
    "adults = list(filter(myFunc, ages))\n",
    "print(adults)"
   ]
  },
  {
   "cell_type": "markdown",
   "id": "ce54ea78",
   "metadata": {},
   "source": [
    "## 4.zip()\n",
    "- syntax :- zip(iterable_1, iterable_2, iterable_n)\n",
    "- The purpose of zip() function is to map similar index of multiple containers of iterable.\n",
    "- Return value :- single iterator having mapped values from all containers."
   ]
  },
  {
   "cell_type": "code",
   "execution_count": 39,
   "id": "c9fbef88",
   "metadata": {},
   "outputs": [
    {
     "name": "stdout",
     "output_type": "stream",
     "text": [
      "<zip object at 0x000001835FCF6680>\n",
      "('Sarfraz', '101')\n",
      "('Junaid', '102')\n",
      "('Sadik', '103')\n"
     ]
    }
   ],
   "source": [
    "students = ('Sarfraz', 'Junaid', 'Sadik')\n",
    "marks = ('101', '102', '103')\n",
    "zipped = zip(students, marks)\n",
    "print(zipped)\n",
    "for item in zipped:\n",
    "    print(item)"
   ]
  },
  {
   "cell_type": "code",
   "execution_count": 40,
   "id": "723862f1",
   "metadata": {},
   "outputs": [
    {
     "name": "stdout",
     "output_type": "stream",
     "text": [
      "{'Sarfraz': '101', 'Junaid': '102', 'Sadik': '103'}\n"
     ]
    }
   ],
   "source": [
    "students = ('Sarfraz', 'Junaid', 'Sadik')\n",
    "marks = ('101', '102', '103')\n",
    "zipped = zip(students, marks)\n",
    "print(dict(zipped))"
   ]
  },
  {
   "cell_type": "code",
   "execution_count": 1,
   "id": "69632219",
   "metadata": {},
   "outputs": [
    {
     "name": "stdout",
     "output_type": "stream",
     "text": [
      "[('John', 'Jenny', 'sarfraz'), ('Charles', 'christy', 'ahmad'), ('Mike', 'Monica', 'khan')]\n"
     ]
    }
   ],
   "source": [
    "a = ('John', 'Charles', 'Mike')\n",
    "b = ('Jenny', 'christy', 'Monica')\n",
    "c = ('sarfraz', 'ahmad', 'khan')\n",
    "x = zip(a,b,c)\n",
    "print(list(x))"
   ]
  },
  {
   "cell_type": "code",
   "execution_count": 10,
   "id": "f1de4a25",
   "metadata": {},
   "outputs": [
    {
     "name": "stdout",
     "output_type": "stream",
     "text": [
      "[5, 3, 7, 4]\n"
     ]
    }
   ],
   "source": [
    "# input = 5, 8, 15, 19\n",
    "# output = 5, 3, 4, 7\n",
    "# z = list(map(int,input().split(\" \")))\n",
    "\n",
    "z = 5, 8, 15, 19\n",
    "a = [z[0]] + [x-y for x, y in (zip(z[1:], z[:-1]))]\n",
    "print(a)"
   ]
  },
  {
   "cell_type": "code",
   "execution_count": 112,
   "id": "bc7c8a29",
   "metadata": {},
   "outputs": [
    {
     "name": "stdout",
     "output_type": "stream",
     "text": [
      "total number:- 155\n",
      "percentage:- [51.666666666666664]\n",
      "total number:- 210\n",
      "percentage:- [51.666666666666664, 70.0]\n",
      "total number:- 185\n",
      "percentage:- [51.666666666666664, 70.0, 61.666666666666664]\n",
      "zip value of same index of all iterable:- {'sarfraz': 51.666666666666664, 'junaid': 70.0, 'ashraf': 61.666666666666664}\n"
     ]
    }
   ],
   "source": [
    "sarfraz = {'java':35, 'python':70, 'django':50}\n",
    "junaid = {'java':50, 'python':90, 'django':70}\n",
    "ashraf = {'java':35, 'python':85, 'django':65}\n",
    "\n",
    "mark=[]\n",
    "student_list = [sarfraz, junaid, ashraf]\n",
    "for student in student_list:\n",
    "#     print(student)\n",
    "    sum1 = 0\n",
    "    for item in student:\n",
    "        sum1 = sum1 + student[item]\n",
    "    percentage = sum1/len(student)\n",
    "    mark.append(percentage)\n",
    "    print('total number:-',sum1)\n",
    "    print('percentage:-',mark)\n",
    "    \n",
    "student_name = ['sarfraz', 'junaid', 'ashraf']\n",
    "print('zip value of same index of all iterable:-',dict(zip(student_name, mark)))"
   ]
  },
  {
   "cell_type": "code",
   "execution_count": 110,
   "id": "3aad4ef6",
   "metadata": {},
   "outputs": [
    {
     "name": "stdout",
     "output_type": "stream",
     "text": [
      "155\n",
      "210\n",
      "185\n"
     ]
    }
   ],
   "source": [
    "sarfraz = {'java':35, 'python':70, 'django':50}\n",
    "junaid = {'java':50, 'python':90, 'django':70}\n",
    "ashraf = {'java':35, 'python':85, 'django':65}\n",
    "\n",
    "mark=[]\n",
    "student_list = [sarfraz, junaid, ashraf]\n",
    "for student in student_list:\n",
    "#     print(student)\n",
    "    sum1 = 0\n",
    "    for item in student:\n",
    "#         print(item)\n",
    "        sum1 = sum1 + student[item]\n",
    "#         print(student)\n",
    "    percentage = sum1/len(student)\n",
    "    mark.append(percentage)\n",
    "    print(sum1)\n",
    "    \n",
    "# student_name = ['sarfraz', 'junaid', 'ashraf']\n",
    "# print('zip value of same index of all iterable',dict(zip(student_name, mark)))"
   ]
  },
  {
   "cell_type": "markdown",
   "id": "8c42fb39",
   "metadata": {},
   "source": [
    "### unzip()"
   ]
  },
  {
   "cell_type": "code",
   "execution_count": 34,
   "id": "197875dd",
   "metadata": {},
   "outputs": [
    {
     "name": "stdout",
     "output_type": "stream",
     "text": [
      "('Sarfraz', 'Junaid', 'Sadik') ('101', '102', '103')\n"
     ]
    }
   ],
   "source": [
    "students = ('Sarfraz', 'Junaid', 'Sadik')\n",
    "marks = ('101', '102', '103')\n",
    "zipped = zip(students, marks)\n",
    "# print(list(zipped))\n",
    "\n",
    "std, mrk = zip(*zipped)\n",
    "print(std,mrk)"
   ]
  },
  {
   "cell_type": "markdown",
   "id": "3300d608",
   "metadata": {},
   "source": [
    "## 5.enumerate()\n",
    "- syntax :- enumerate(iterable, start=0)"
   ]
  },
  {
   "cell_type": "code",
   "execution_count": 22,
   "id": "d08fa3d8",
   "metadata": {},
   "outputs": [
    {
     "name": "stdout",
     "output_type": "stream",
     "text": [
      "skip sarfraz\n",
      "skip junaid\n",
      "skip sadik\n",
      "skip ashraf\n"
     ]
    }
   ],
   "source": [
    "lst = ['sarfraz', 'junaid', 'irfan', 'sadik', 'ashraf']\n",
    "for index, element in enumerate (lst, 1):\n",
    "    if index != 3:\n",
    "        print('skip', element)\n",
    "#     print(index,element)   "
   ]
  },
  {
   "cell_type": "code",
   "execution_count": 114,
   "id": "ceaa6cc9",
   "metadata": {},
   "outputs": [
    {
     "name": "stdout",
     "output_type": "stream",
     "text": [
      "<class 'enumerate'>\n",
      "[(0, 'eat'), (1, 'sleep'), (2, 'repeat')]\n",
      "[(1, 'eat'), (2, 'sleep'), (3, 'repeat')]\n"
     ]
    }
   ],
   "source": [
    "lst1 = ['eat', 'sleep', 'repeat']\n",
    "obj1 = enumerate(lst1)\n",
    "\n",
    "print(type(obj1))\n",
    "print(list(obj1))\n",
    "print(list(enumerate(lst1,1)))\n"
   ]
  },
  {
   "cell_type": "code",
   "execution_count": 8,
   "id": "ff9a104e",
   "metadata": {},
   "outputs": [
    {
     "name": "stdout",
     "output_type": "stream",
     "text": [
      "1 sarfraz\n",
      "2 junaid\n",
      "3 irfan\n"
     ]
    }
   ],
   "source": [
    "lst = ['sarfraz', 'junaid', 'irfan']\n",
    "x = 0\n",
    "for i in lst:\n",
    "    x += 1\n",
    "    print(x, i)"
   ]
  },
  {
   "cell_type": "markdown",
   "id": "1323fdb1",
   "metadata": {},
   "source": [
    "## 6.lambda\n",
    "- syntax :- lambda argument : expression\n",
    "- lambda is a small anonymous function. a lambda function can take any number of arguments, but can only have one expression.\n",
    "- it is reduce a complexity of code. it is define inside any block to get a instance result. it is efficient as compare to normal function."
   ]
  },
  {
   "cell_type": "code",
   "execution_count": 30,
   "id": "c7771e24",
   "metadata": {},
   "outputs": [
    {
     "name": "stdout",
     "output_type": "stream",
     "text": [
      "15\n"
     ]
    }
   ],
   "source": [
    "x = lambda a :a + 10\n",
    "print(x(5))"
   ]
  },
  {
   "cell_type": "code",
   "execution_count": 25,
   "id": "4be0ec05",
   "metadata": {},
   "outputs": [
    {
     "name": "stdout",
     "output_type": "stream",
     "text": [
      "35\n"
     ]
    }
   ],
   "source": [
    "x = lambda a, b : a * b\n",
    "y = x(5,7)\n",
    "print(y)"
   ]
  },
  {
   "cell_type": "code",
   "execution_count": 33,
   "id": "852a06aa",
   "metadata": {},
   "outputs": [
    {
     "name": "stdout",
     "output_type": "stream",
     "text": [
      "14\n"
     ]
    }
   ],
   "source": [
    "x = lambda a, b, c : a + b * c\n",
    "print(x(2,3,4))"
   ]
  },
  {
   "cell_type": "code",
   "execution_count": 31,
   "id": "4a387665",
   "metadata": {},
   "outputs": [
    {
     "name": "stdout",
     "output_type": "stream",
     "text": [
      "even [2, 4]\n",
      "odd [1, 3, 5]\n"
     ]
    }
   ],
   "source": [
    "numbers = [1, 2, 3, 4, 5]\n",
    "\n",
    "even = list(filter(lambda n: n % 2 == 0, numbers))\n",
    "odd = list(filter(lambda n: n % 2 == 1, numbers))\n",
    "\n",
    "print('even', even)\n",
    "print('odd', odd)"
   ]
  },
  {
   "cell_type": "code",
   "execution_count": 38,
   "id": "11669647",
   "metadata": {},
   "outputs": [
    {
     "name": "stdout",
     "output_type": "stream",
     "text": [
      "20 9 -1\n"
     ]
    }
   ],
   "source": [
    "add_sub = lambda x, y : (x * y, x + y, x - y )\n",
    "a, b, c = add_sub(4,5)\n",
    "print(a, b, c)\n",
    "\n"
   ]
  },
  {
   "cell_type": "markdown",
   "id": "63899f77",
   "metadata": {},
   "source": [
    "## 8.Recursion\n",
    "- A function calling itself again and again to compute a value is referred to Recursive Function or Recursion."
   ]
  },
  {
   "cell_type": "code",
   "execution_count": 4,
   "id": "3fe318dd",
   "metadata": {},
   "outputs": [
    {
     "name": "stdout",
     "output_type": "stream",
     "text": [
      "Recursion Example Result\n",
      "1\n",
      "3\n",
      "6\n",
      "10\n",
      "15\n"
     ]
    },
    {
     "data": {
      "text/plain": [
       "15"
      ]
     },
     "execution_count": 4,
     "metadata": {},
     "output_type": "execute_result"
    }
   ],
   "source": [
    "def trirecursion(k):\n",
    "    if (k > 0):\n",
    "        result = k + trirecursion(k - 1)\n",
    "        print(result)\n",
    "    else:\n",
    "        result = 0\n",
    "    return result\n",
    "print('Recursion Example Result')\n",
    "trirecursion(5)"
   ]
  },
  {
   "cell_type": "code",
   "execution_count": null,
   "id": "c21c1e15",
   "metadata": {},
   "outputs": [],
   "source": [
    "i=0\n",
    "def recursion():\n",
    "    global i\n",
    "    i=i+1\n",
    "    print('Sarfraz Ahmad Khan', i)\n",
    "    recursion()\n",
    "    \n",
    "    \n",
    "recursion()"
   ]
  },
  {
   "cell_type": "markdown",
   "id": "e7daca49",
   "metadata": {},
   "source": [
    "## 9.Decorators\n",
    "- It is a function which takes another function as an argument and change the behavior of function without modifying the function itself"
   ]
  },
  {
   "cell_type": "code",
   "execution_count": 7,
   "id": "a03b43c2",
   "metadata": {},
   "outputs": [
    {
     "name": "stdout",
     "output_type": "stream",
     "text": [
      "I am a function\n"
     ]
    }
   ],
   "source": [
    "def myfunc():\n",
    "    print('I am a function')\n",
    "myfunc()\n",
    "# print(ad())"
   ]
  },
  {
   "cell_type": "code",
   "execution_count": 2,
   "id": "22aba767",
   "metadata": {},
   "outputs": [
    {
     "name": "stdout",
     "output_type": "stream",
     "text": [
      "I came from inner function\n"
     ]
    }
   ],
   "source": [
    "def outfunc():\n",
    "    def infunc():\n",
    "        print('I came from inner function')\n",
    "    \n",
    "    infunc()\n",
    "outfunc()"
   ]
  },
  {
   "cell_type": "code",
   "execution_count": 7,
   "id": "5983fabb",
   "metadata": {},
   "outputs": [
    {
     "name": "stdout",
     "output_type": "stream",
     "text": [
      "Read python book chapter 3.\n"
     ]
    }
   ],
   "source": [
    "def outfunc():\n",
    "    task = \"Read python book chapter 3.\"\n",
    "    \n",
    "    def infunc():\n",
    "        print(task)\n",
    "    return infunc\n",
    "        \n",
    "homework = outfunc()\n",
    "homework()"
   ]
  },
  {
   "cell_type": "code",
   "execution_count": 5,
   "id": "fef62354",
   "metadata": {},
   "outputs": [
    {
     "name": "stdout",
     "output_type": "stream",
     "text": [
      "I am going to the store buy you somthing now\n",
      "Dont forget to bring your wallet\n"
     ]
    }
   ],
   "source": [
    "def reminder(func):\n",
    "    func()\n",
    "    print('Dont forget to bring your wallet')\n",
    "def action():\n",
    "    print('I am going to the store buy you somthing now')\n",
    "    \n",
    "reminder  (action)\n",
    "\n",
    "def my_deco(func):\n",
    "    def wrapper ():\n",
    "        func()\n",
    "    return wrapper\n",
    "\n",
    "@my_deco\n",
    "def my_func():\n",
    "    print('this is decorator')"
   ]
  },
  {
   "cell_type": "code",
   "execution_count": 21,
   "id": "71684620",
   "metadata": {},
   "outputs": [
    {
     "name": "stdout",
     "output_type": "stream",
     "text": [
      "********\n",
      "11\n",
      "******\n"
     ]
    }
   ],
   "source": [
    "def my_func(func):\n",
    "    def inner_func(*args):\n",
    "        print ('********')\n",
    "        func()\n",
    "        print('******')\n",
    "    return inner_func\n",
    "\n",
    "#@my_func\n",
    "# def new_func():\n",
    "#     print('This is new line')\n",
    "@my_func  \n",
    "def add():\n",
    "    a = 4\n",
    "    b = 7\n",
    "    print(a+b)\n",
    "    \n",
    "add()"
   ]
  },
  {
   "cell_type": "code",
   "execution_count": 58,
   "id": "3ad76eb2",
   "metadata": {},
   "outputs": [
    {
     "name": "stdout",
     "output_type": "stream",
     "text": [
      "#First line#\n",
      "The new line\n",
      "***Last line***\n"
     ]
    }
   ],
   "source": [
    "def my_func(func):\n",
    "    def inner_func(*args):\n",
    "        print ('#First line#')\n",
    "        func()\n",
    "        print('***Last line***')\n",
    "    return inner_func\n",
    "\n",
    "@my_func  \n",
    "def add():\n",
    "    print('The new line')\n",
    "add()"
   ]
  },
  {
   "cell_type": "code",
   "execution_count": 49,
   "id": "8f9d0522",
   "metadata": {},
   "outputs": [
    {
     "name": "stdout",
     "output_type": "stream",
     "text": [
      "Please dont Divide by 0\n"
     ]
    }
   ],
   "source": [
    "def divide(func):\n",
    "    def inner_func(a,b):\n",
    "        \n",
    "        if b==0:\n",
    "            print('Please dont Divide by 0')\n",
    "        else:\n",
    "            return func(a,b)\n",
    "    return inner_func\n",
    " \n",
    "@divide\n",
    "def div (a,b):\n",
    "    z = a/b\n",
    "    print(z)\n",
    "div(8,0)\n"
   ]
  },
  {
   "cell_type": "code",
   "execution_count": 2,
   "id": "8f0a0801",
   "metadata": {},
   "outputs": [
    {
     "name": "stdout",
     "output_type": "stream",
     "text": [
      "welcome!1\n",
      "welcome!2\n",
      "welcome!3\n"
     ]
    }
   ],
   "source": [
    "def decor(func):\n",
    "    def inner():\n",
    "        func()          # existing functionality\n",
    "#         add a new functionality\n",
    "        print('welcome!3')\n",
    "    return inner\n",
    "\n",
    "    \n",
    "@decor\n",
    "def printer():\n",
    "    print('welcome!1')\n",
    "    print('welcome!2')\n",
    "    \n",
    "# change = decor(printer)\n",
    "# change()\n",
    "printer()"
   ]
  },
  {
   "cell_type": "code",
   "execution_count": 8,
   "id": "9529e3a2",
   "metadata": {},
   "outputs": [
    {
     "name": "stdout",
     "output_type": "stream",
     "text": [
      "Enter first number:-1\n",
      "Enter second number:-2\n",
      "Enter third number:-3\n",
      "addition is : 6.0\n"
     ]
    }
   ],
   "source": [
    "def decor(addition):\n",
    "    def inner():\n",
    "        result = addition()     # existing functionality\n",
    "#         add new functionality\n",
    "        num3 = float(input('Enter third number:-'))\n",
    "        result += num3\n",
    "        return result\n",
    "    return inner\n",
    "        \n",
    "\n",
    "\n",
    "\n",
    "def addition():\n",
    "    num1 = float(input('Enter first number:-'))\n",
    "    num2 = float(input('Enter second number:-'))\n",
    "    result = num1 + num2\n",
    "    return result\n",
    "\n",
    "addit = decor(addition)\n",
    "print('addition is :',addit())"
   ]
  },
  {
   "cell_type": "markdown",
   "id": "73f5633b",
   "metadata": {},
   "source": [
    "## 10.reduce() module\n",
    "- syntax :- reduce(function, iterable)\n",
    "- The reduce() function is a part of functools module and doesn't return multiple values, it just returns a single value"
   ]
  },
  {
   "cell_type": "code",
   "execution_count": 4,
   "id": "db9651bc",
   "metadata": {},
   "outputs": [
    {
     "name": "stdout",
     "output_type": "stream",
     "text": [
      "10\n"
     ]
    }
   ],
   "source": [
    "from functools import reduce\n",
    "num = (1,2,3,4)\n",
    "ans = reduce(lambda x,y: x+y,num)\n",
    "print(ans)"
   ]
  },
  {
   "cell_type": "code",
   "execution_count": 22,
   "id": "23b6a823",
   "metadata": {},
   "outputs": [
    {
     "name": "stdout",
     "output_type": "stream",
     "text": [
      " sarfraz sarfraz sarfraz\n"
     ]
    }
   ],
   "source": [
    "from functools import reduce\n",
    "num = [' sarfraz',3]\n",
    "ans = reduce(lambda x,y: x*y,num)\n",
    "print(ans)"
   ]
  },
  {
   "cell_type": "code",
   "execution_count": 15,
   "id": "12ccf5f4",
   "metadata": {},
   "outputs": [
    {
     "name": "stdout",
     "output_type": "stream",
     "text": [
      "210\n"
     ]
    }
   ],
   "source": [
    "from functools import reduce\n",
    "def product(x,y):\n",
    "    return x*y\n",
    "ans = reduce(product,[2,5,3,7])\n",
    "print(ans)"
   ]
  },
  {
   "cell_type": "markdown",
   "id": "122eecb8",
   "metadata": {},
   "source": [
    "## 11.bisect() module\n",
    "- syntax :- bisect(list, number, start, stop)\n",
    "- The purpose of bisect algorithm is to find a position in list where an element need to be inserted to keep the list sorted."
   ]
  },
  {
   "cell_type": "code",
   "execution_count": 17,
   "id": "09700d1b",
   "metadata": {},
   "outputs": [
    {
     "name": "stdout",
     "output_type": "stream",
     "text": [
      "7\n",
      "[1, 4, 6, 8, 20, 30, 35, 40]\n"
     ]
    }
   ],
   "source": [
    "#  accessing index number and add element\n",
    "\n",
    "import bisect\n",
    "\n",
    "number = 40\n",
    "a = [1,4,6,8,20,30,35]\n",
    "print(bisect.bisect(a, number))\n",
    "bisect.insort(a, number)\n",
    "print(a)\n"
   ]
  },
  {
   "cell_type": "code",
   "execution_count": 6,
   "id": "7f05d1f0",
   "metadata": {},
   "outputs": [
    {
     "name": "stdout",
     "output_type": "stream",
     "text": [
      "[1, 4, 6, 8, 20, 30, 35, 40]\n"
     ]
    }
   ],
   "source": [
    "import bisect\n",
    "\n",
    "number = 40\n",
    "a = [1,4,6,8,20,30,35]\n",
    "bisect.insort(a,number)\n",
    "print(a)"
   ]
  },
  {
   "cell_type": "code",
   "execution_count": 12,
   "id": "66257481",
   "metadata": {},
   "outputs": [
    {
     "name": "stdout",
     "output_type": "stream",
     "text": [
      "5 [2, 4, 6, 8, 8, 8, 10, 12, 14]\n"
     ]
    }
   ],
   "source": [
    "# accessing index of right side and add element\n",
    "import bisect\n",
    "\n",
    "a = [2,4,6,8,8,10,12,14]\n",
    "x = 8\n",
    "i = bisect.bisect_right(a, x)\n",
    "a.insert(i,x)\n",
    "print(i,a)"
   ]
  },
  {
   "cell_type": "code",
   "execution_count": 6,
   "id": "ce4f34f5",
   "metadata": {},
   "outputs": [
    {
     "name": "stdout",
     "output_type": "stream",
     "text": [
      "3 [2, 4, 6, 8, 8, 8, 10, 12, 14]\n"
     ]
    }
   ],
   "source": [
    "# accessing index of left side and add element\n",
    "import bisect\n",
    "\n",
    "x = 8\n",
    "a = [2,4,6,8,8,10,12,14]\n",
    "i = bisect.bisect_left(a, x)\n",
    "a.insert(i,x)\n",
    "print(i,a)"
   ]
  },
  {
   "cell_type": "code",
   "execution_count": 14,
   "id": "d776944f",
   "metadata": {},
   "outputs": [
    {
     "name": "stdout",
     "output_type": "stream",
     "text": [
      "[2, 4, 6, 8, 8, 8, 10, 12, 14]\n"
     ]
    }
   ],
   "source": [
    "import bisect\n",
    "\n",
    "x = 8\n",
    "a = [2,4,6,8,8,10,12,14]\n",
    "bisect.insort(a,x)\n",
    "print(a)"
   ]
  }
 ],
 "metadata": {
  "kernelspec": {
   "display_name": "Python 3 (ipykernel)",
   "language": "python",
   "name": "python3"
  },
  "language_info": {
   "codemirror_mode": {
    "name": "ipython",
    "version": 3
   },
   "file_extension": ".py",
   "mimetype": "text/x-python",
   "name": "python",
   "nbconvert_exporter": "python",
   "pygments_lexer": "ipython3",
   "version": "3.10.4"
  }
 },
 "nbformat": 4,
 "nbformat_minor": 5
}
