{
 "cells": [
  {
   "cell_type": "markdown",
   "id": "c56a789a",
   "metadata": {},
   "source": [
    "# 1.Iterator, Generator, Iterable\n",
    "## 2.map| 3.zip| 4.enumerate| 5.filter| 7.lambda| 8.Rcursion| 9.Decorators\n",
    "### 10.reduce(module) | 11.bisect(module)\n",
    "# 12.enum"
   ]
  },
  {
   "cell_type": "markdown",
   "id": "7d6054fa",
   "metadata": {},
   "source": [
    "## 1.Iterator:\n",
    "###### Iterator is an object used to iterate over an iterable object like List, Tuple, Set, Dictionary used to iter() method to iterate over an object\n",
    "## Iterable:\n",
    "any object can iterate is called 'Iterable'\n",
    "## Iteration:\n",
    "The process of iterator work on iterable that is called 'Iteration'"
   ]
  },
  {
   "cell_type": "code",
   "execution_count": 4,
   "id": "c1d0e542",
   "metadata": {},
   "outputs": [
    {
     "name": "stdout",
     "output_type": "stream",
     "text": [
      "data science\n",
      "business analytics\n",
      "machine learning\n"
     ]
    }
   ],
   "source": [
    "#Iterator\n",
    "sample = ['data science', 'business analytics', 'machine learning']\n",
    "it = iter(sample)\n",
    "print(next(it))\n",
    "print(next(it))\n",
    "print(next(it))\n",
    "# print(next(it))"
   ]
  },
  {
   "cell_type": "code",
   "execution_count": 3,
   "id": "72a790d0",
   "metadata": {},
   "outputs": [
    {
     "name": "stdout",
     "output_type": "stream",
     "text": [
      "s\n",
      "a\n",
      "<str_iterator object at 0x000001B9A704B4C0>\n"
     ]
    }
   ],
   "source": [
    "a = iter('sarfraz')\n",
    "# for i in a:\n",
    "print(next(a))\n",
    "print(next(a))\n",
    "print(a)"
   ]
  },
  {
   "cell_type": "markdown",
   "id": "21ff654a",
   "metadata": {},
   "source": [
    "# Generator\n",
    "- Generator is like an Iterator but different is that whenever we use yield keyword inside, it has the capability to pause or resume the program or code"
   ]
  },
  {
   "cell_type": "code",
   "execution_count": 39,
   "id": "04cd8adc",
   "metadata": {},
   "outputs": [
    {
     "name": "stdout",
     "output_type": "stream",
     "text": [
      "1\n",
      "4\n",
      "9\n",
      "16\n",
      "25\n",
      "36\n",
      "49\n",
      "64\n",
      "81\n",
      "100\n"
     ]
    }
   ],
   "source": [
    "# Generator yield\n",
    "\n",
    "def square():\n",
    "    i = 1\n",
    "    while True:\n",
    "        yield i*i\n",
    "        i+=1\n",
    "        \n",
    "#print(type(var))\n",
    "for j in square():\n",
    "    if j>100:\n",
    "        break\n",
    "    print(j)"
   ]
  },
  {
   "cell_type": "code",
   "execution_count": 32,
   "id": "dfbcd67d",
   "metadata": {},
   "outputs": [
    {
     "name": "stdout",
     "output_type": "stream",
     "text": [
      "2\n",
      "4\n",
      "8\n",
      "16\n",
      "32\n"
     ]
    }
   ],
   "source": [
    "def powerofgen(max):\n",
    "    n = 1\n",
    "    while n < max:\n",
    "        yield 2**n\n",
    "        n += 1\n",
    "a = powerofgen(6)\n",
    "for i in a:\n",
    "    print(i)"
   ]
  },
  {
   "cell_type": "code",
   "execution_count": 1,
   "id": "e3a9a0f0",
   "metadata": {},
   "outputs": [
    {
     "name": "stdout",
     "output_type": "stream",
     "text": [
      "10\n",
      "11\n",
      "14\n",
      "19\n",
      "26\n"
     ]
    }
   ],
   "source": [
    "def square(x):\n",
    "    for i in range(5):\n",
    "        yield i*i\n",
    "        \n",
    "def test(x):\n",
    "    for i in square(5):\n",
    "        print(i+x)\n",
    "test(10)"
   ]
  },
  {
   "cell_type": "markdown",
   "id": "49d2ef42",
   "metadata": {},
   "source": [
    "### 2.Map() \n",
    "- syntax : map(function, iterable)\n",
    "- The map function executes a special function for each items in an iterable. the item is sent to the function as a parameter.\n",
    "- Function : required the function to execute for each item"
   ]
  },
  {
   "cell_type": "code",
   "execution_count": 4,
   "id": "e82a2eb4",
   "metadata": {},
   "outputs": [
    {
     "name": "stdout",
     "output_type": "stream",
     "text": [
      "['appleorangearfan', 'bananalemonsarfaraz', 'cherrypineapplejunaid']\n"
     ]
    }
   ],
   "source": [
    "def myfunc(a, b, c):\n",
    "    return a + b + c\n",
    "\n",
    "x = map(myfunc, ('apple', 'banana', 'cherry'), ('orange', 'lemon', 'pineapple'), ('arfan', 'sarfaraz', 'junaid'))\n",
    "print(list(x))\n"
   ]
  },
  {
   "cell_type": "code",
   "execution_count": 4,
   "id": "72e03b60",
   "metadata": {},
   "outputs": [
    {
     "name": "stdout",
     "output_type": "stream",
     "text": [
      "[2, 4, 6, 8]\n",
      "[2, 8, 18, 32]\n"
     ]
    }
   ],
   "source": [
    "a = [1,2,3,4]\n",
    "def add(n):\n",
    "    return n+n\n",
    "    \n",
    "y = list(map(add,a))\n",
    "print(y)\n",
    "\n",
    "def multi(b,c):\n",
    "    return b*c\n",
    "h = list(map(multi,y,a))\n",
    "print(h)"
   ]
  },
  {
   "cell_type": "code",
   "execution_count": 7,
   "id": "1bcd8203",
   "metadata": {},
   "outputs": [
    {
     "name": "stdout",
     "output_type": "stream",
     "text": [
      "4\n"
     ]
    },
    {
     "data": {
      "text/plain": [
       "[32]"
      ]
     },
     "execution_count": 7,
     "metadata": {},
     "output_type": "execute_result"
    }
   ],
   "source": [
    "def add():\n",
    "    return lambda x : x + x\n",
    "def sqr():\n",
    "    return lambda x : x * x\n",
    "func = [add(),sqr()]\n",
    "\n",
    "def cmap (func, arr):\n",
    "    result = list(map(func[1],arr))\n",
    "    find = list(map(func[0],result))\n",
    "    return find\n",
    "\n",
    "arr = list(map(int,input().strip().split(' ')))\n",
    "cmap(func, arr)"
   ]
  },
  {
   "cell_type": "code",
   "execution_count": 10,
   "id": "b113475e",
   "metadata": {},
   "outputs": [
    {
     "name": "stdout",
     "output_type": "stream",
     "text": [
      "1 2 3\n",
      "[2, 8, 18]\n"
     ]
    }
   ],
   "source": [
    "# input = 1, 2, 3, 4\n",
    "# output = 2, 8, 18, 32\n",
    "\n",
    "a =list(map(int,input().split(\" \")))\n",
    "\n",
    "# a = [1, 2, 3, 4]\n",
    "def myfunc(x):\n",
    "    return x*x*2\n",
    "square_multiply = map(myfunc,a)\n",
    "print(list(square_multiply))"
   ]
  },
  {
   "cell_type": "markdown",
   "id": "ce54ea78",
   "metadata": {},
   "source": [
    "## 3.zip()\n",
    "- syntax :- zip(iterable_1, iterable_2, iterable_n)\n",
    "- The purpose of zip() function is to map similar index of multiple containers of iterable.\n",
    "- Return value :- single iterator having mapped values from all containers."
   ]
  },
  {
   "cell_type": "code",
   "execution_count": 39,
   "id": "c9fbef88",
   "metadata": {},
   "outputs": [
    {
     "name": "stdout",
     "output_type": "stream",
     "text": [
      "<zip object at 0x000001835FCF6680>\n",
      "('Sarfraz', '101')\n",
      "('Junaid', '102')\n",
      "('Sadik', '103')\n"
     ]
    }
   ],
   "source": [
    "students = ('Sarfraz', 'Junaid', 'Sadik')\n",
    "marks = ('101', '102', '103')\n",
    "zipped = zip(students, marks)\n",
    "print(zipped)\n",
    "for item in zipped:\n",
    "    print(item)"
   ]
  },
  {
   "cell_type": "code",
   "execution_count": 40,
   "id": "723862f1",
   "metadata": {},
   "outputs": [
    {
     "name": "stdout",
     "output_type": "stream",
     "text": [
      "{'Sarfraz': '101', 'Junaid': '102', 'Sadik': '103'}\n"
     ]
    }
   ],
   "source": [
    "students = ('Sarfraz', 'Junaid', 'Sadik')\n",
    "marks = ('101', '102', '103')\n",
    "zipped = zip(students, marks)\n",
    "print(dict(zipped))"
   ]
  },
  {
   "cell_type": "code",
   "execution_count": 1,
   "id": "69632219",
   "metadata": {},
   "outputs": [
    {
     "name": "stdout",
     "output_type": "stream",
     "text": [
      "[('John', 'Jenny', 'sarfraz'), ('Charles', 'christy', 'ahmad'), ('Mike', 'Monica', 'khan')]\n"
     ]
    }
   ],
   "source": [
    "a = ('John', 'Charles', 'Mike')\n",
    "b = ('Jenny', 'christy', 'Monica')\n",
    "c = ('sarfraz', 'ahmad', 'khan')\n",
    "x = zip(a,b,c)\n",
    "print(list(x))"
   ]
  },
  {
   "cell_type": "code",
   "execution_count": 10,
   "id": "f1de4a25",
   "metadata": {},
   "outputs": [
    {
     "name": "stdout",
     "output_type": "stream",
     "text": [
      "[5, 3, 7, 4]\n"
     ]
    }
   ],
   "source": [
    "# input = 5, 8, 15, 19\n",
    "# output = 5, 3, 4, 7\n",
    "# z = list(map(int,input().split(\" \")))\n",
    "\n",
    "z = 5, 8, 15, 19\n",
    "a = [z[0]] + [x-y for x, y in (zip(z[1:], z[:-1]))]\n",
    "print(a)"
   ]
  },
  {
   "cell_type": "code",
   "execution_count": 112,
   "id": "bc7c8a29",
   "metadata": {},
   "outputs": [
    {
     "name": "stdout",
     "output_type": "stream",
     "text": [
      "total number:- 155\n",
      "percentage:- [51.666666666666664]\n",
      "total number:- 210\n",
      "percentage:- [51.666666666666664, 70.0]\n",
      "total number:- 185\n",
      "percentage:- [51.666666666666664, 70.0, 61.666666666666664]\n",
      "zip value of same index of all iterable:- {'sarfraz': 51.666666666666664, 'junaid': 70.0, 'ashraf': 61.666666666666664}\n"
     ]
    }
   ],
   "source": [
    "sarfraz = {'java':35, 'python':70, 'django':50}\n",
    "junaid = {'java':50, 'python':90, 'django':70}\n",
    "ashraf = {'java':35, 'python':85, 'django':65}\n",
    "\n",
    "mark=[]\n",
    "student_list = [sarfraz, junaid, ashraf]\n",
    "for student in student_list:\n",
    "#     print(student)\n",
    "    sum1 = 0\n",
    "    for item in student:\n",
    "        sum1 = sum1 + student[item]\n",
    "    percentage = sum1/len(student)\n",
    "    mark.append(percentage)\n",
    "    print('total number:-',sum1)\n",
    "    print('percentage:-',mark)\n",
    "    \n",
    "student_name = ['sarfraz', 'junaid', 'ashraf']\n",
    "print('zip value of same index of all iterable:-',dict(zip(student_name, mark)))"
   ]
  },
  {
   "cell_type": "code",
   "execution_count": 110,
   "id": "3aad4ef6",
   "metadata": {},
   "outputs": [
    {
     "name": "stdout",
     "output_type": "stream",
     "text": [
      "155\n",
      "210\n",
      "185\n"
     ]
    }
   ],
   "source": [
    "sarfraz = {'java':35, 'python':70, 'django':50}\n",
    "junaid = {'java':50, 'python':90, 'django':70}\n",
    "ashraf = {'java':35, 'python':85, 'django':65}\n",
    "\n",
    "mark=[]\n",
    "student_list = [sarfraz, junaid, ashraf]\n",
    "for student in student_list:\n",
    "#     print(student)\n",
    "    sum1 = 0\n",
    "    for item in student:\n",
    "#         print(item)\n",
    "        sum1 = sum1 + student[item]\n",
    "#         print(student)\n",
    "    percentage = sum1/len(student)\n",
    "    mark.append(percentage)\n",
    "    print(sum1)\n",
    "    \n",
    "# student_name = ['sarfraz', 'junaid', 'ashraf']\n",
    "# print('zip value of same index of all iterable',dict(zip(student_name, mark)))"
   ]
  },
  {
   "cell_type": "markdown",
   "id": "8c42fb39",
   "metadata": {},
   "source": [
    "### unzip()"
   ]
  },
  {
   "cell_type": "code",
   "execution_count": 34,
   "id": "197875dd",
   "metadata": {},
   "outputs": [
    {
     "name": "stdout",
     "output_type": "stream",
     "text": [
      "('Sarfraz', 'Junaid', 'Sadik') ('101', '102', '103')\n"
     ]
    }
   ],
   "source": [
    "students = ('Sarfraz', 'Junaid', 'Sadik')\n",
    "marks = ('101', '102', '103')\n",
    "zipped = zip(students, marks)\n",
    "# print(list(zipped))\n",
    "\n",
    "std, mrk = zip(*zipped)\n",
    "print(std,mrk)"
   ]
  },
  {
   "cell_type": "markdown",
   "id": "3300d608",
   "metadata": {},
   "source": [
    "# 4.enumerate()"
   ]
  },
  {
   "cell_type": "code",
   "execution_count": 114,
   "id": "ceaa6cc9",
   "metadata": {},
   "outputs": [
    {
     "name": "stdout",
     "output_type": "stream",
     "text": [
      "<class 'enumerate'>\n",
      "[(0, 'eat'), (1, 'sleep'), (2, 'repeat')]\n",
      "[(1, 'eat'), (2, 'sleep'), (3, 'repeat')]\n"
     ]
    }
   ],
   "source": [
    "lst1 = ['eat', 'sleep', 'repeat']\n",
    "obj1 = enumerate(lst1)\n",
    "\n",
    "print(type(obj1))\n",
    "print(list(obj1))\n",
    "print(list(enumerate(lst1,1)))\n"
   ]
  },
  {
   "cell_type": "markdown",
   "id": "92419973",
   "metadata": {},
   "source": [
    "# 5.Filter()"
   ]
  },
  {
   "cell_type": "code",
   "execution_count": 35,
   "id": "bc40ecf7",
   "metadata": {},
   "outputs": [
    {
     "name": "stdout",
     "output_type": "stream",
     "text": [
      "18\n",
      "24\n",
      "32\n"
     ]
    }
   ],
   "source": [
    "ages = [5, 12, 17, 18, 24, 32]\n",
    "\n",
    "def myFunc(x):\n",
    "    if x < 18:\n",
    "        return False\n",
    "    else:\n",
    "        return True\n",
    "\n",
    "adults = filter(myFunc, ages)\n",
    "\n",
    "for x in adults:\n",
    "    print(x)"
   ]
  },
  {
   "cell_type": "markdown",
   "id": "0f664df0",
   "metadata": {},
   "source": [
    "# 6.join()"
   ]
  },
  {
   "cell_type": "code",
   "execution_count": 12,
   "id": "e41048ac",
   "metadata": {},
   "outputs": [
    {
     "name": "stdout",
     "output_type": "stream",
     "text": [
      "1-2-3-4\n"
     ]
    }
   ],
   "source": [
    "# join() method only work on string\n",
    "list1 = ['1', '2', '3', '4']\n",
    "s = '-'\n",
    "s = s.join(list1)\n",
    "print(s)\n"
   ]
  },
  {
   "cell_type": "code",
   "execution_count": 13,
   "id": "d47c6a4a",
   "metadata": {},
   "outputs": [
    {
     "name": "stdout",
     "output_type": "stream",
     "text": [
      "sarfraz\n"
     ]
    }
   ],
   "source": [
    "lst = ['s','a','r','f','r','a','z']\n",
    "s = ''\n",
    "s = s.join(lst)\n",
    "print(s)"
   ]
  },
  {
   "cell_type": "code",
   "execution_count": 19,
   "id": "2a07c154",
   "metadata": {},
   "outputs": [
    {
     "name": "stdout",
     "output_type": "stream",
     "text": [
      "sarfraz\n"
     ]
    }
   ],
   "source": [
    "lst = ['s','a','r','f','r','a','z']\n",
    "print(''. join(lst))"
   ]
  },
  {
   "cell_type": "code",
   "execution_count": 46,
   "id": "52207823",
   "metadata": {},
   "outputs": [
    {
     "name": "stdout",
     "output_type": "stream",
     "text": [
      "sarfraz-Ahmad\n"
     ]
    }
   ],
   "source": [
    "dict1 = {'sarfraz':30, 'Ahmad':25}\n",
    "print('-'.join(dict1))"
   ]
  },
  {
   "cell_type": "markdown",
   "id": "1323fdb1",
   "metadata": {},
   "source": [
    "# 7.lambda"
   ]
  },
  {
   "cell_type": "code",
   "execution_count": 30,
   "id": "c7771e24",
   "metadata": {},
   "outputs": [
    {
     "name": "stdout",
     "output_type": "stream",
     "text": [
      "15\n"
     ]
    }
   ],
   "source": [
    "x = lambda a :a + 10\n",
    "print(x(5))"
   ]
  },
  {
   "cell_type": "code",
   "execution_count": 31,
   "id": "4be0ec05",
   "metadata": {},
   "outputs": [
    {
     "name": "stdout",
     "output_type": "stream",
     "text": [
      "30\n"
     ]
    }
   ],
   "source": [
    "x = lambda a, b : a * b\n",
    "print(x(5,6))"
   ]
  },
  {
   "cell_type": "code",
   "execution_count": 33,
   "id": "852a06aa",
   "metadata": {},
   "outputs": [
    {
     "name": "stdout",
     "output_type": "stream",
     "text": [
      "14\n"
     ]
    }
   ],
   "source": [
    "x = lambda a, b, c : a + b * c\n",
    "print(x(2,3,4))"
   ]
  },
  {
   "cell_type": "code",
   "execution_count": 45,
   "id": "4a387665",
   "metadata": {},
   "outputs": [
    {
     "name": "stdout",
     "output_type": "stream",
     "text": [
      "even [2]\n",
      "odd [1, 3]\n"
     ]
    }
   ],
   "source": [
    "numbers = [1, 2, 3]\n",
    "\n",
    "even = filter(lambda n: n % 2 == 0, numbers)\n",
    "odd = filter(lambda n: n % 2 == 1, numbers)\n",
    "\n",
    "print('even',list(even)) # [2]\n",
    "print('odd',list(odd)) # [1,3]"
   ]
  },
  {
   "cell_type": "markdown",
   "id": "63899f77",
   "metadata": {},
   "source": [
    "# 8.Recursion"
   ]
  },
  {
   "cell_type": "code",
   "execution_count": 4,
   "id": "3fe318dd",
   "metadata": {},
   "outputs": [
    {
     "name": "stdout",
     "output_type": "stream",
     "text": [
      "Recursion Example Result\n",
      "1\n",
      "3\n",
      "6\n",
      "10\n",
      "15\n"
     ]
    },
    {
     "data": {
      "text/plain": [
       "15"
      ]
     },
     "execution_count": 4,
     "metadata": {},
     "output_type": "execute_result"
    }
   ],
   "source": [
    "def trirecursion(k):\n",
    "    if (k > 0):\n",
    "        result = k + trirecursion(k - 1)\n",
    "        print(result)\n",
    "    else:\n",
    "        result = 0\n",
    "    return result\n",
    "print('Recursion Example Result')\n",
    "trirecursion(5)"
   ]
  },
  {
   "cell_type": "markdown",
   "id": "e7daca49",
   "metadata": {},
   "source": [
    "# 9.Decorators"
   ]
  },
  {
   "cell_type": "code",
   "execution_count": 7,
   "id": "a03b43c2",
   "metadata": {},
   "outputs": [
    {
     "name": "stdout",
     "output_type": "stream",
     "text": [
      "I am a function\n"
     ]
    }
   ],
   "source": [
    "def myfunc():\n",
    "    print('I am a function')\n",
    "myfunc()\n",
    "# print(ad())"
   ]
  },
  {
   "cell_type": "code",
   "execution_count": 2,
   "id": "22aba767",
   "metadata": {},
   "outputs": [
    {
     "name": "stdout",
     "output_type": "stream",
     "text": [
      "I came from inner function\n"
     ]
    }
   ],
   "source": [
    "def outfunc():\n",
    "    def infunc():\n",
    "        print('I came from inner function')\n",
    "    \n",
    "    infunc()\n",
    "outfunc()"
   ]
  },
  {
   "cell_type": "code",
   "execution_count": 7,
   "id": "5983fabb",
   "metadata": {},
   "outputs": [
    {
     "name": "stdout",
     "output_type": "stream",
     "text": [
      "Read python book chapter 3.\n"
     ]
    }
   ],
   "source": [
    "def outfunc():\n",
    "    task = \"Read python book chapter 3.\"\n",
    "    \n",
    "    def infunc():\n",
    "        print(task)\n",
    "    return infunc\n",
    "        \n",
    "homework = outfunc()\n",
    "homework()"
   ]
  },
  {
   "cell_type": "code",
   "execution_count": 5,
   "id": "fef62354",
   "metadata": {},
   "outputs": [
    {
     "name": "stdout",
     "output_type": "stream",
     "text": [
      "I am going to the store buy you somthing now\n",
      "Dont forget to bring your wallet\n"
     ]
    }
   ],
   "source": [
    "def reminder(func):\n",
    "    func()\n",
    "    print('Dont forget to bring your wallet')\n",
    "def action():\n",
    "    print('I am going to the store buy you somthing now')\n",
    "    \n",
    "reminder  (action)\n",
    "\n",
    "def my_deco(func):\n",
    "    def wrapper ():\n",
    "        func()\n",
    "    return wrapper\n",
    "\n",
    "@my_deco\n",
    "def my_func():\n",
    "    print('this is decorator')"
   ]
  },
  {
   "cell_type": "code",
   "execution_count": 21,
   "id": "71684620",
   "metadata": {},
   "outputs": [
    {
     "name": "stdout",
     "output_type": "stream",
     "text": [
      "********\n",
      "11\n",
      "******\n"
     ]
    }
   ],
   "source": [
    "def my_func(func):\n",
    "    def inner_func(*args):\n",
    "        print ('********')\n",
    "        func()\n",
    "        print('******')\n",
    "    return inner_func\n",
    "\n",
    "#@my_func\n",
    "# def new_func():\n",
    "#     print('This is new line')\n",
    "@my_func  \n",
    "def add():\n",
    "    a = 4\n",
    "    b = 7\n",
    "    print(a+b)\n",
    "    \n",
    "add()"
   ]
  },
  {
   "cell_type": "code",
   "execution_count": 58,
   "id": "3ad76eb2",
   "metadata": {},
   "outputs": [
    {
     "name": "stdout",
     "output_type": "stream",
     "text": [
      "#First line#\n",
      "The new line\n",
      "***Last line***\n"
     ]
    }
   ],
   "source": [
    "def my_func(func):\n",
    "    def inner_func(*args):\n",
    "        print ('#First line#')\n",
    "        func()\n",
    "        print('***Last line***')\n",
    "    return inner_func\n",
    "\n",
    "@my_func  \n",
    "def add():\n",
    "    print('The new line')\n",
    "add()"
   ]
  },
  {
   "cell_type": "code",
   "execution_count": 10,
   "id": "8f9d0522",
   "metadata": {},
   "outputs": [
    {
     "name": "stdout",
     "output_type": "stream",
     "text": [
      "Please dont Divide by 0\n"
     ]
    }
   ],
   "source": [
    "def divide(func):\n",
    "    def inner_func(a,b):\n",
    "        \n",
    "        if b==0:\n",
    "            print('Please dont Divide by 0')\n",
    "        else:\n",
    "            return func(a,b)\n",
    "    return inner_func\n",
    " \n",
    "@divide\n",
    "def div (a,b):\n",
    "    z = a/b\n",
    "    print(z)\n",
    "div(8,0)\n"
   ]
  },
  {
   "cell_type": "markdown",
   "id": "73f5633b",
   "metadata": {},
   "source": [
    "# 10.reduce() module"
   ]
  },
  {
   "cell_type": "code",
   "execution_count": 70,
   "id": "db9651bc",
   "metadata": {},
   "outputs": [
    {
     "name": "stdout",
     "output_type": "stream",
     "text": [
      "10\n"
     ]
    }
   ],
   "source": [
    "from functools import reduce\n",
    "num = [1,2,3,4]\n",
    "ans = reduce(lambda x,y: x+y,num)\n",
    "print(ans)"
   ]
  },
  {
   "cell_type": "code",
   "execution_count": 75,
   "id": "12ccf5f4",
   "metadata": {},
   "outputs": [
    {
     "name": "stdout",
     "output_type": "stream",
     "text": [
      "210\n"
     ]
    }
   ],
   "source": [
    "from functools import reduce\n",
    "def product(x,y):\n",
    "    return x*y\n",
    "ans = reduce(product,(2,5,3,7))\n",
    "print(ans)"
   ]
  },
  {
   "cell_type": "markdown",
   "id": "122eecb8",
   "metadata": {},
   "source": [
    "# 11.bisect() module\n",
    "In all of the examples were used lists of integers but you can use a list of floats or even strings. Perhaps you have wondered What if I use a tuple or a string? Good question!. Well, you can use bisect_left and bisect_right in tuples and strings without any problem but if you try to use the insort_left and insort_right on these objects you are getting an error. And why? This happens because the tuples and the strings are immutable objects and these types of objects do not have implemented the insert method which modifies one mutable object as a list in-place.\n",
    "\n",
    "bisect_right and insort_right have aliases, so bisect_right can be called simply bisect and insort_right as insort.\n",
    "\n",
    "Finally, Find out what happens when you try to use these functions on a list ordered in decreasing order or even on an unsorted list. You will find out easily!\n",
    "\n",
    "Remember not to reinvent the wheel!\n",
    "\n",
    "If you have any comments about this post, please let me know :)."
   ]
  },
  {
   "cell_type": "code",
   "execution_count": 8,
   "id": "09700d1b",
   "metadata": {},
   "outputs": [
    {
     "name": "stdout",
     "output_type": "stream",
     "text": [
      "7\n",
      "[1, 4, 6, 8, 20, 30, 35, 40]\n"
     ]
    }
   ],
   "source": [
    "#  accessing index number and add element\n",
    "\n",
    "import bisect\n",
    "\n",
    "number = 40\n",
    "a = [1,4,6,8,20,30,35]\n",
    "print(bisect.bisect(a, number))\n",
    "bisect.insort(a, number)\n",
    "print(a)\n"
   ]
  },
  {
   "cell_type": "code",
   "execution_count": 9,
   "id": "7f05d1f0",
   "metadata": {},
   "outputs": [
    {
     "name": "stdout",
     "output_type": "stream",
     "text": [
      "[1, 4, 6, 8, 20, 30, 35, 40]\n"
     ]
    }
   ],
   "source": [
    "import bisect\n",
    "\n",
    "number = 40\n",
    "a = [1,4,6,8,20,30,35]\n",
    "bisect.insort(a,number)\n",
    "print(a)"
   ]
  },
  {
   "cell_type": "code",
   "execution_count": 5,
   "id": "66257481",
   "metadata": {},
   "outputs": [
    {
     "name": "stdout",
     "output_type": "stream",
     "text": [
      "5 [2, 4, 6, 8, 8, 8, 10, 12, 14]\n"
     ]
    }
   ],
   "source": [
    "# accessing index of right side and add element\n",
    "import bisect\n",
    "\n",
    "a = [2,4,6,8,8,10,12,14]\n",
    "x = 8\n",
    "i = bisect.bisect_right(a, x)\n",
    "a.insert(i,x)\n",
    "print(i,a)"
   ]
  },
  {
   "cell_type": "code",
   "execution_count": 6,
   "id": "ce4f34f5",
   "metadata": {},
   "outputs": [
    {
     "name": "stdout",
     "output_type": "stream",
     "text": [
      "3 [2, 4, 6, 8, 8, 8, 10, 12, 14]\n"
     ]
    }
   ],
   "source": [
    "# accessing index of left side and add element\n",
    "import bisect\n",
    "\n",
    "x = 8\n",
    "a = [2,4,6,8,8,10,12,14]\n",
    "i = bisect.bisect_left(a, x)\n",
    "a.insert(i,x)\n",
    "print(i,a)"
   ]
  },
  {
   "cell_type": "code",
   "execution_count": 11,
   "id": "d776944f",
   "metadata": {},
   "outputs": [
    {
     "name": "stdout",
     "output_type": "stream",
     "text": [
      "[2, 4, 6, 8, 8, 8, 10, 12, 14]\n"
     ]
    }
   ],
   "source": [
    "import bisect\n",
    "\n",
    "x = 8\n",
    "a = [2,4,6,8,8,10,12,14]\n",
    "bisect.insort(a,x)\n",
    "print(a)"
   ]
  },
  {
   "cell_type": "markdown",
   "id": "80f1bc5e",
   "metadata": {},
   "source": [
    "# list comprehension"
   ]
  },
  {
   "cell_type": "code",
   "execution_count": 12,
   "id": "223a969a",
   "metadata": {},
   "outputs": [
    {
     "name": "stdout",
     "output_type": "stream",
     "text": [
      "['apple', 'banana', 'mango']\n"
     ]
    }
   ],
   "source": [
    "fruits = ['apple', 'banana', 'cherry', 'kiwi', 'mango']\n",
    "newlist = []\n",
    "for x in fruits:\n",
    "    if 'a' in x:\n",
    "        newlist.append(x)\n",
    "print(newlist)"
   ]
  },
  {
   "cell_type": "code",
   "execution_count": 1,
   "id": "69904878",
   "metadata": {},
   "outputs": [
    {
     "name": "stdout",
     "output_type": "stream",
     "text": [
      "0\n",
      "1\n",
      "2\n",
      "2\n"
     ]
    }
   ],
   "source": [
    "a = [0,1,2,3]\n",
    "for a[-1] in a:\n",
    "    print(a[-1])"
   ]
  },
  {
   "cell_type": "code",
   "execution_count": 16,
   "id": "263d2bc3",
   "metadata": {},
   "outputs": [
    {
     "name": "stdout",
     "output_type": "stream",
     "text": [
      "['apple', 'banana', 'mango']\n"
     ]
    }
   ],
   "source": [
    "fruits = ['apple', 'banana', 'cherry', 'kiwi', 'mango']\n",
    "newlist = [x for x in fruits if 'a' in x]\n",
    "print(newlist)\n"
   ]
  },
  {
   "cell_type": "markdown",
   "id": "258abdbd",
   "metadata": {},
   "source": [
    "# set comprehension"
   ]
  },
  {
   "cell_type": "code",
   "execution_count": 29,
   "id": "c6c264f3",
   "metadata": {},
   "outputs": [
    {
     "name": "stdout",
     "output_type": "stream",
     "text": [
      "{'mango', 'banana', 'apple'}\n"
     ]
    }
   ],
   "source": [
    "fruits = {'apple', 'banana', 'cherry', 'kiwi', 'mango'}\n",
    "a = ({x for x in fruits if 'a'in x})\n",
    "print(a)"
   ]
  },
  {
   "cell_type": "markdown",
   "id": "c0dccfc7",
   "metadata": {},
   "source": [
    "# dictionary comprehension"
   ]
  },
  {
   "cell_type": "code",
   "execution_count": 8,
   "id": "e44c071d",
   "metadata": {},
   "outputs": [
    {
     "name": "stdout",
     "output_type": "stream",
     "text": [
      "{'a': 1, 'b': 2, 'c': 3, 'd': 4, 'e': 5}\n"
     ]
    }
   ],
   "source": [
    "keys = ['a', 'b', 'c','d', 'e']\n",
    "values = [1,2,3,4,5]\n",
    "mydict = {k:v for (k,v) in zip (keys, values)}\n",
    "print(mydict)"
   ]
  },
  {
   "cell_type": "code",
   "execution_count": 9,
   "id": "50c275c7",
   "metadata": {},
   "outputs": [
    {
     "name": "stdout",
     "output_type": "stream",
     "text": [
      "{1: 1, 2: 4, 3: 9, 4: 16, 5: 25, 6: 36, 7: 49}\n"
     ]
    }
   ],
   "source": [
    "mydict = {x:x**2 for x in [1,2,3,4,5,6,7]}\n",
    "print(mydict)"
   ]
  },
  {
   "cell_type": "code",
   "execution_count": 10,
   "id": "59048b10",
   "metadata": {},
   "outputs": [
    {
     "name": "stdout",
     "output_type": "stream",
     "text": [
      "{'C': 'ccc', 'O': 'ooo', 'D': 'ddd', 'I': 'iii', 'N': 'nnn', 'G': 'ggg'}\n"
     ]
    }
   ],
   "source": [
    "dict1 = {x.upper(): x*3 for x in 'coding'}\n",
    "print(dict1)"
   ]
  },
  {
   "cell_type": "code",
   "execution_count": 11,
   "id": "47133efa",
   "metadata": {},
   "outputs": [
    {
     "name": "stdout",
     "output_type": "stream",
     "text": [
      "{0: 0, 2: 8, 4: 64, 6: 216, 8: 512}\n"
     ]
    }
   ],
   "source": [
    "newdict = {x: x**3 for x in range (10) if x**3%4==0}\n",
    "print(newdict)"
   ]
  },
  {
   "cell_type": "code",
   "execution_count": 24,
   "id": "703f9e2c",
   "metadata": {},
   "outputs": [
    {
     "name": "stdout",
     "output_type": "stream",
     "text": [
      "<generator object <genexpr> at 0x0000012025E078B0>\n"
     ]
    }
   ],
   "source": [
    "## tuple\n",
    "\n",
    "fruits = ('apple', 'banana', 'cherry', 'kiwi', 'mango')\n",
    "print((x for x in fruits if 'a' in x))"
   ]
  },
  {
   "cell_type": "code",
   "execution_count": 16,
   "id": "021347a8",
   "metadata": {},
   "outputs": [
    {
     "name": "stdout",
     "output_type": "stream",
     "text": [
      "<class 'generator'>\n",
      "['apple', 'banana', 'mango']\n"
     ]
    }
   ],
   "source": [
    "## tuple\n",
    "\n",
    "fruits = ('apple', 'banana', 'cherry', 'kiwi', 'mango')\n",
    "a = ((x for x in fruits if 'a' in x))\n",
    "print(type(a))\n",
    "print(list(a))"
   ]
  },
  {
   "cell_type": "code",
   "execution_count": 22,
   "id": "206ac975",
   "metadata": {},
   "outputs": [
    {
     "name": "stdout",
     "output_type": "stream",
     "text": [
      "2\n",
      "[8]\n"
     ]
    }
   ],
   "source": [
    "a=[]\n",
    "# for i in range(1):\n",
    "b=int(input())\n",
    "a.append(b)\n",
    "    \n",
    "def addition(n):\n",
    "    z=n+n\n",
    "    return z*n\n",
    "var=list(map(addition,a))\n",
    "print(var)"
   ]
  },
  {
   "cell_type": "code",
   "execution_count": null,
   "id": "cf1fe529",
   "metadata": {},
   "outputs": [],
   "source": []
  },
  {
   "cell_type": "code",
   "execution_count": null,
   "id": "259e560a",
   "metadata": {},
   "outputs": [],
   "source": []
  }
 ],
 "metadata": {
  "kernelspec": {
   "display_name": "Python 3 (ipykernel)",
   "language": "python",
   "name": "python3"
  },
  "language_info": {
   "codemirror_mode": {
    "name": "ipython",
    "version": 3
   },
   "file_extension": ".py",
   "mimetype": "text/x-python",
   "name": "python",
   "nbconvert_exporter": "python",
   "pygments_lexer": "ipython3",
   "version": "3.10.4"
  }
 },
 "nbformat": 4,
 "nbformat_minor": 5
}
