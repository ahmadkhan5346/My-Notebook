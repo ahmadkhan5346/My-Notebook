{
 "cells": [
  {
   "cell_type": "code",
   "execution_count": 1,
   "id": "145841f6",
   "metadata": {},
   "outputs": [],
   "source": [
    "import re"
   ]
  },
  {
   "cell_type": "code",
   "execution_count": 2,
   "id": "b8d8fefe",
   "metadata": {},
   "outputs": [
    {
     "name": "stdout",
     "output_type": "stream",
     "text": [
      "Sachin score 76 and \n",
      "Dravid score 46 and Rohit score 88\n",
      "and Dhoni score 990\n"
     ]
    }
   ],
   "source": [
    "cricket_score = '''Sachin score 76 and \\nDravid score 46 and Rohit score 88\n",
    "and Dhoni score 990'''\n",
    "print(cricket_score)"
   ]
  },
  {
   "cell_type": "markdown",
   "id": "95afe115",
   "metadata": {},
   "source": [
    "- findall() function return a listcontaining all matches\n",
    "- re.findall(pattern, str)\tScans the regex pattern through the entire string and returns all matches."
   ]
  },
  {
   "cell_type": "code",
   "execution_count": 3,
   "id": "89695c67",
   "metadata": {},
   "outputs": [
    {
     "name": "stdout",
     "output_type": "stream",
     "text": [
      "['Sachin', 'Dravid', 'Rohit', 'Dhoni']\n"
     ]
    }
   ],
   "source": [
    "name = re.findall(r'[A-Z][a-z]*',cricket_score)\n",
    "print(name)"
   ]
  },
  {
   "cell_type": "code",
   "execution_count": 4,
   "id": "46488be0",
   "metadata": {},
   "outputs": [
    {
     "name": "stdout",
     "output_type": "stream",
     "text": [
      "['76', '46', '88', '99']\n"
     ]
    }
   ],
   "source": [
    "score = re.findall(r'\\d{2}',cricket_score)\n",
    "print(score)"
   ]
  },
  {
   "cell_type": "code",
   "execution_count": 5,
   "id": "8f653941",
   "metadata": {},
   "outputs": [
    {
     "name": "stdout",
     "output_type": "stream",
     "text": [
      "{'Sachin': '76', 'Dravid': '46', 'Rohit': '88', 'Dhoni': '99'}\n"
     ]
    }
   ],
   "source": [
    "crick_dash = {}\n",
    "i = 0\n",
    "for x in name:\n",
    "    crick_dash[x] = score[i]\n",
    "    i+=1\n",
    "print(crick_dash)"
   ]
  },
  {
   "cell_type": "markdown",
   "id": "98436122",
   "metadata": {},
   "source": [
    "### search() returns a match object if there is match then it gives"
   ]
  },
  {
   "cell_type": "code",
   "execution_count": 13,
   "id": "bbce8f62",
   "metadata": {},
   "outputs": [
    {
     "name": "stdout",
     "output_type": "stream",
     "text": [
      "Item Found\n",
      "['Sarfraz', 'Sarfraz']\n"
     ]
    }
   ],
   "source": [
    "str1 = 'His name is Sarfraz and Sarfraz is good boy'\n",
    "if re.search('Sarfraz', str1):\n",
    "    print('Item Found')\n",
    "    match = re.findall('Sarfraz', str1)\n",
    "    print(match)\n",
    "    "
   ]
  },
  {
   "cell_type": "markdown",
   "id": "ac2d89cb",
   "metadata": {},
   "source": [
    "### re.finditer(pattern, str)\tScans the regex pattern through the entire string and returns an iterator yielding match objects."
   ]
  },
  {
   "cell_type": "code",
   "execution_count": 16,
   "id": "d452a898",
   "metadata": {},
   "outputs": [
    {
     "name": "stdout",
     "output_type": "stream",
     "text": [
      "(12, 19)\n",
      "(24, 31)\n"
     ]
    }
   ],
   "source": [
    "for x in re.finditer('Sarfraz', str1):\n",
    "    index = x.span()\n",
    "    print(index)"
   ]
  },
  {
   "cell_type": "code",
   "execution_count": 23,
   "id": "d8836e70",
   "metadata": {},
   "outputs": [
    {
     "name": "stdout",
     "output_type": "stream",
     "text": [
      "data: ['Sat', 'Qat']\n",
      "data2 ['Cat', 'Mat', 'Sat']\n"
     ]
    }
   ],
   "source": [
    "str2 = 'Rat Cat Pat Mat Sat Qat'\n",
    "data = re.findall('[^RCPM]at', str2)\n",
    "print('data:',data)\n",
    "data2 = re.findall('[^P-R]at', str2)\n",
    "print('data2',data2)"
   ]
  },
  {
   "cell_type": "code",
   "execution_count": 28,
   "id": "79636adb",
   "metadata": {},
   "outputs": [
    {
     "name": "stdout",
     "output_type": "stream",
     "text": [
      "re.compile('[R]at')\n",
      "Lion Cat Pat Mat Sat Qat\n"
     ]
    }
   ],
   "source": [
    "reg = re.compile('[R]at')\n",
    "print(reg)\n",
    "str2 = reg.sub('Lion', str2)\n",
    "print(str2)"
   ]
  },
  {
   "cell_type": "code",
   "execution_count": 31,
   "id": "c3b252bc",
   "metadata": {},
   "outputs": [
    {
     "name": "stdout",
     "output_type": "stream",
     "text": [
      "How are you\n",
      "I am fine\n",
      "thank you\n",
      "str4: How are you I am fine thank you\n"
     ]
    }
   ],
   "source": [
    "str4 = '''How are you\n",
    "I am fine\n",
    "thank you'''\n",
    "print(str4)\n",
    "reg = re.compile('\\n')\n",
    "str4 = reg.sub(' ', str4)\n",
    "print('str4:', str4)"
   ]
  },
  {
   "cell_type": "code",
   "execution_count": 41,
   "id": "aec46a29",
   "metadata": {},
   "outputs": [
    {
     "name": "stdout",
     "output_type": "stream",
     "text": [
      "no of digit: 10\n",
      "no of digit: 1\n",
      "no of alphabet: 4\n"
     ]
    }
   ],
   "source": [
    "pattern = 'ABCD1234566678'\n",
    "print('no of digit:', len(re.findall('\\d', pattern)))\n",
    "print('no of digit:', len(re.findall('\\d{6}', pattern)))\n",
    "print('no of alphabet:', len(re.findall('\\D', pattern)))"
   ]
  },
  {
   "cell_type": "code",
   "execution_count": 44,
   "id": "5e73ca25",
   "metadata": {},
   "outputs": [
    {
     "name": "stdout",
     "output_type": "stream",
     "text": [
      "no of digit: 3\n"
     ]
    }
   ],
   "source": [
    "multinum = '12 123 1234 12345 123456 1234567'\n",
    "print('no of digit:', len(re.findall('\\d{5,7}', multinum)))"
   ]
  },
  {
   "cell_type": "code",
   "execution_count": 46,
   "id": "90d4fa96",
   "metadata": {},
   "outputs": [
    {
     "name": "stdout",
     "output_type": "stream",
     "text": [
      "Not Valid\n"
     ]
    }
   ],
   "source": [
    "india_phone = '970-2225-348'\n",
    "if re.search('\\d{3}-\\d{4}-\\d{3}', india_phone):\n",
    "    print('Valid')\n",
    "else:\n",
    "    print('Not Valid')"
   ]
  },
  {
   "cell_type": "code",
   "execution_count": 48,
   "id": "5d2e3a07",
   "metadata": {},
   "outputs": [
    {
     "name": "stdout",
     "output_type": "stream",
     "text": [
      "Valid\n"
     ]
    }
   ],
   "source": [
    "name = 'sarfraz khan'\n",
    "if re.search('\\w{2,20}\\s\\w{2,20}', name):\n",
    "    print('Valid')\n",
    "    "
   ]
  }
 ],
 "metadata": {
  "kernelspec": {
   "display_name": "Python 3 (ipykernel)",
   "language": "python",
   "name": "python3"
  },
  "language_info": {
   "codemirror_mode": {
    "name": "ipython",
    "version": 3
   },
   "file_extension": ".py",
   "mimetype": "text/x-python",
   "name": "python",
   "nbconvert_exporter": "python",
   "pygments_lexer": "ipython3",
   "version": "3.10.4"
  }
 },
 "nbformat": 4,
 "nbformat_minor": 5
}
