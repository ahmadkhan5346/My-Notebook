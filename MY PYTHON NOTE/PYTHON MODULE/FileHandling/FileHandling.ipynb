{
 "cells": [
  {
   "cell_type": "markdown",
   "id": "a65c79d3",
   "metadata": {},
   "source": [
    "- syntax :- f = open(filename, mode='r', buffering, encoding=none, errors=None, newline=None, closefd=True)"
   ]
  },
  {
   "cell_type": "code",
   "execution_count": 3,
   "id": "ce566ee2",
   "metadata": {},
   "outputs": [
    {
     "name": "stdout",
     "output_type": "stream",
     "text": [
      "Enter your agehow are you\n"
     ]
    }
   ],
   "source": [
    "age = input('Enter your age')\n",
    "f = open('data.txt', 'w')\n",
    "f.write(age)\n",
    "f.close()"
   ]
  },
  {
   "cell_type": "code",
   "execution_count": 5,
   "id": "cff9ba05",
   "metadata": {},
   "outputs": [
    {
     "name": "stdout",
     "output_type": "stream",
     "text": [
      "how are you\n"
     ]
    }
   ],
   "source": [
    "f = open('data.txt', 'r')\n",
    "print(f.read())\n",
    "f.close()"
   ]
  },
  {
   "cell_type": "code",
   "execution_count": null,
   "id": "73abb9bd",
   "metadata": {},
   "outputs": [],
   "source": []
  }
 ],
 "metadata": {
  "kernelspec": {
   "display_name": "Python 3 (ipykernel)",
   "language": "python",
   "name": "python3"
  },
  "language_info": {
   "codemirror_mode": {
    "name": "ipython",
    "version": 3
   },
   "file_extension": ".py",
   "mimetype": "text/x-python",
   "name": "python",
   "nbconvert_exporter": "python",
   "pygments_lexer": "ipython3",
   "version": "3.10.4"
  }
 },
 "nbformat": 4,
 "nbformat_minor": 5
}
