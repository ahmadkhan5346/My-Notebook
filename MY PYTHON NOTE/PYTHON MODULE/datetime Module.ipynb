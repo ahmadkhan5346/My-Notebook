{
 "cells": [
  {
   "cell_type": "code",
   "execution_count": 1,
   "id": "7e47c380",
   "metadata": {},
   "outputs": [
    {
     "name": "stdout",
     "output_type": "stream",
     "text": [
      "2023-02-18\n"
     ]
    }
   ],
   "source": [
    "from datetime import datetime, date\n",
    "data = {\"date\":\"2023-02-15\"}\n",
    "\n",
    "start = datetime.strptime(str(\"2023-02-18\"), \"%Y-%m-%d\")\n",
    "print(start.strftime(\"%Y-%m-%d\"))"
   ]
  },
  {
   "cell_type": "code",
   "execution_count": 2,
   "id": "3b6394ab",
   "metadata": {},
   "outputs": [
    {
     "name": "stdout",
     "output_type": "stream",
     "text": [
      "2023-02-16\n",
      "2023-02-17\n",
      "2023-02-19\n",
      "2023-02-20\n",
      "2023-02-21\n",
      "2023-02-22\n",
      "2023-02-23\n",
      "2023-02-24\n"
     ]
    }
   ],
   "source": [
    "from datetime import datetime, date, timedelta\n",
    "start = datetime.strptime(str(\"2023-02-15\"), \"%Y-%m-%d\")\n",
    "end = datetime.strptime(str(\"2023-02-23\"), \"%Y-%m-%d\")\n",
    "\n",
    "while (start.date() <= end.date()):\n",
    "    start += timedelta(days=1)\n",
    "    if start == datetime.strptime(str(\"2023-02-18\"), \"%Y-%m-%d\"):\n",
    "        continue\n",
    "    print(start.strftime(\"%Y-%m-%d\"))"
   ]
  },
  {
   "cell_type": "code",
   "execution_count": 3,
   "id": "2a3f2676",
   "metadata": {},
   "outputs": [
    {
     "name": "stdout",
     "output_type": "stream",
     "text": [
      "FF2324\n",
      "FF2223\n"
     ]
    }
   ],
   "source": [
    "count=0\n",
    "\n",
    "def uniqueId(date):\n",
    "    if int(date[5:7])>6:\n",
    "        return \"FF\"+date[2:4]+str(int(date[2:4])+1)\n",
    "    else:\n",
    "        return \"FF\"+str(int(date[2:4])-1)+date[2:4]\n",
    "date=\"2023-07-11\"\n",
    "print(uniqueId(date))\n",
    "\n",
    "date=\"2023-02-11\"\n",
    "print(uniqueId(date))"
   ]
  },
  {
   "cell_type": "code",
   "execution_count": 6,
   "id": "55e475b8",
   "metadata": {},
   "outputs": [
    {
     "name": "stdout",
     "output_type": "stream",
     "text": [
      "<class 'int'>\n"
     ]
    }
   ],
   "source": [
    "from datetime import date\n",
    "current_year = date.today().year\n",
    "print(type(current_year))"
   ]
  },
  {
   "cell_type": "code",
   "execution_count": null,
   "id": "c5df7b86",
   "metadata": {},
   "outputs": [],
   "source": []
  }
 ],
 "metadata": {
  "kernelspec": {
   "display_name": "Python 3 (ipykernel)",
   "language": "python",
   "name": "python3"
  },
  "language_info": {
   "codemirror_mode": {
    "name": "ipython",
    "version": 3
   },
   "file_extension": ".py",
   "mimetype": "text/x-python",
   "name": "python",
   "nbconvert_exporter": "python",
   "pygments_lexer": "ipython3",
   "version": "3.10.4"
  }
 },
 "nbformat": 4,
 "nbformat_minor": 5
}
