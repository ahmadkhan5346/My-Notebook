{
 "cells": [
  {
   "cell_type": "markdown",
   "id": "927b25a3",
   "metadata": {},
   "source": [
    "## Multithreading"
   ]
  },
  {
   "cell_type": "code",
   "execution_count": 41,
   "id": "f808c233",
   "metadata": {},
   "outputs": [],
   "source": [
    "import threading\n",
    "import time\n",
    "from concurrent.futures import ThreadPoolExecutor"
   ]
  },
  {
   "cell_type": "code",
   "execution_count": 11,
   "id": "7f62d84a",
   "metadata": {},
   "outputs": [],
   "source": [
    "def func(second):\n",
    "    print(f\"sleeping for {second} second\")\n",
    "    time.sleep(second)"
   ]
  },
  {
   "cell_type": "code",
   "execution_count": 12,
   "id": "f7f873ff",
   "metadata": {},
   "outputs": [
    {
     "name": "stdout",
     "output_type": "stream",
     "text": [
      "sleeping for 5 second\n",
      "sleeping for 4 second\n",
      "sleeping for 3 second\n",
      "12.032672599889338\n"
     ]
    }
   ],
   "source": [
    "start = time.perf_counter()\n",
    "func(5)\n",
    "func(4)\n",
    "func(3)\n",
    "end = time.perf_counter()\n",
    "print(end-start)"
   ]
  },
  {
   "cell_type": "code",
   "execution_count": 13,
   "id": "7830c257",
   "metadata": {},
   "outputs": [
    {
     "name": "stdout",
     "output_type": "stream",
     "text": [
      "sleeping for 5 second\n",
      "sleeping for 4 second\n",
      "sleeping for 3 second\n",
      "0.006514499895274639\n"
     ]
    }
   ],
   "source": [
    "start = time.perf_counter()\n",
    "t1 = threading.Thread(target=func, args=[5])\n",
    "t2 = threading.Thread(target=func, args=[4])\n",
    "t3 = threading.Thread(target=func, args=[3])\n",
    "\n",
    "t1.start()\n",
    "t2.start()\n",
    "t3.start()\n",
    "end = time.perf_counter()\n",
    "print(end-start)"
   ]
  },
  {
   "cell_type": "code",
   "execution_count": 17,
   "id": "0109aa4b",
   "metadata": {},
   "outputs": [
    {
     "name": "stdout",
     "output_type": "stream",
     "text": [
      "sleeping for 3 second\n",
      "sleeping for 2 second\n",
      "sleeping for 4 second\n",
      "None\n",
      "None\n",
      "None\n"
     ]
    }
   ],
   "source": [
    "def main():\n",
    "    start = time.perf_counter()\n",
    "    t1 = threading.Thread(target=func, args=[5])\n",
    "    t2 = threading.Thread(target=func, args=[4])\n",
    "    t3 = threading.Thread(target=func, args=[3])\n",
    "\n",
    "    t1.start()\n",
    "    t2.start()\n",
    "    t3.start()\n",
    "\n",
    "    t1.join()\n",
    "    t2.join()\n",
    "    t3.join()\n",
    "    end = time.perf_counter()\n",
    "    print(end-start)\n",
    "    \n",
    "def poolingDemo():\n",
    "    with ThreadPoolExecutor() as executor:\n",
    "        future1 = executor.submit(func, 3)\n",
    "        future2 = executor.submit(func, 2)\n",
    "        future3 = executor.submit(func, 4)\n",
    "        print(future1.result())\n",
    "        print(future2.result())\n",
    "        print(future3.result())\n",
    "    \n",
    "poolingDemo()"
   ]
  },
  {
   "cell_type": "code",
   "execution_count": 19,
   "id": "aa0b7a7b",
   "metadata": {},
   "outputs": [
    {
     "name": "stdout",
     "output_type": "stream",
     "text": [
      "sleeping for 4 second\n",
      "sleeping for 3 second\n",
      "sleeping for 2 second\n",
      "None\n",
      "None\n",
      "None\n"
     ]
    }
   ],
   "source": [
    "def poolingDemo():\n",
    "    with ThreadPoolExecutor() as executor:\n",
    "        l = [4, 3, 2]\n",
    "        results = executor.map(func, l)\n",
    "        for result in results:\n",
    "            print(result)\n",
    "    \n",
    "poolingDemo()"
   ]
  },
  {
   "cell_type": "markdown",
   "id": "a3bba703",
   "metadata": {},
   "source": [
    "## Multiprocessing"
   ]
  },
  {
   "cell_type": "code",
   "execution_count": 42,
   "id": "b3551303",
   "metadata": {},
   "outputs": [],
   "source": [
    "import multiprocessing\n",
    "import requests\n",
    "import concurrent.futures"
   ]
  },
  {
   "cell_type": "code",
   "execution_count": 25,
   "id": "1ec4bfc6",
   "metadata": {},
   "outputs": [],
   "source": [
    "def downloadFile(url, name):\n",
    "    response = requests.get(url)\n",
    "    open(f\"file{name}.jpg\", 'wb').write(response.content)\n",
    "    \n",
    "url = \"https://picsum.photos/200/300\"\n",
    "for i in range(5):\n",
    "    downloadFile(url, i)"
   ]
  },
  {
   "cell_type": "code",
   "execution_count": 29,
   "id": "c50b1c11",
   "metadata": {},
   "outputs": [],
   "source": [
    "def downloadFile(url, name):\n",
    "    print(f\"start downloading {name}\")\n",
    "    response = requests.get(url)\n",
    "    open(f\"file{name}.jpg\", 'wb').write(response.content)\n",
    "    print(f\"finished downloading {name}\")\n",
    "    \n",
    "url = \"https://picsum.photos/200/300\"\n",
    "\n",
    "pros = []\n",
    "for i in range(5):\n",
    "    p = multiprocessing.Process(target=downloadFile, args=[url, i])\n",
    "    p.start()\n",
    "    pros.append(p)\n",
    "    \n",
    "for p in pros:\n",
    "    p.join()"
   ]
  },
  {
   "cell_type": "code",
   "execution_count": 43,
   "id": "558b3def",
   "metadata": {},
   "outputs": [
    {
     "ename": "BrokenProcessPool",
     "evalue": "A process in the process pool was terminated abruptly while the future was running or pending.",
     "output_type": "error",
     "traceback": [
      "\u001b[1;31m---------------------------------------------------------------------------\u001b[0m",
      "\u001b[1;31mBrokenProcessPool\u001b[0m                         Traceback (most recent call last)",
      "Input \u001b[1;32mIn [43]\u001b[0m, in \u001b[0;36m<cell line: 9>\u001b[1;34m()\u001b[0m\n\u001b[0;32m     11\u001b[0m l2 \u001b[38;5;241m=\u001b[39m [i \u001b[38;5;28;01mfor\u001b[39;00m i \u001b[38;5;129;01min\u001b[39;00m \u001b[38;5;28mrange\u001b[39m(\u001b[38;5;241m6\u001b[39m)]\n\u001b[0;32m     12\u001b[0m results \u001b[38;5;241m=\u001b[39m executor\u001b[38;5;241m.\u001b[39mmap(downloadFile, l1, l2)\n\u001b[1;32m---> 13\u001b[0m \u001b[38;5;28;01mfor\u001b[39;00m r \u001b[38;5;129;01min\u001b[39;00m results:\n\u001b[0;32m     14\u001b[0m     \u001b[38;5;28mprint\u001b[39m(r)\n",
      "File \u001b[1;32m~\\AppData\\Local\\Programs\\Python\\Python310\\lib\\concurrent\\futures\\process.py:567\u001b[0m, in \u001b[0;36m_chain_from_iterable_of_lists\u001b[1;34m(iterable)\u001b[0m\n\u001b[0;32m    561\u001b[0m \u001b[38;5;28;01mdef\u001b[39;00m \u001b[38;5;21m_chain_from_iterable_of_lists\u001b[39m(iterable):\n\u001b[0;32m    562\u001b[0m     \u001b[38;5;124;03m\"\"\"\u001b[39;00m\n\u001b[0;32m    563\u001b[0m \u001b[38;5;124;03m    Specialized implementation of itertools.chain.from_iterable.\u001b[39;00m\n\u001b[0;32m    564\u001b[0m \u001b[38;5;124;03m    Each item in *iterable* should be a list.  This function is\u001b[39;00m\n\u001b[0;32m    565\u001b[0m \u001b[38;5;124;03m    careful not to keep references to yielded objects.\u001b[39;00m\n\u001b[0;32m    566\u001b[0m \u001b[38;5;124;03m    \"\"\"\u001b[39;00m\n\u001b[1;32m--> 567\u001b[0m     \u001b[38;5;28;01mfor\u001b[39;00m element \u001b[38;5;129;01min\u001b[39;00m iterable:\n\u001b[0;32m    568\u001b[0m         element\u001b[38;5;241m.\u001b[39mreverse()\n\u001b[0;32m    569\u001b[0m         \u001b[38;5;28;01mwhile\u001b[39;00m element:\n",
      "File \u001b[1;32m~\\AppData\\Local\\Programs\\Python\\Python310\\lib\\concurrent\\futures\\_base.py:609\u001b[0m, in \u001b[0;36mExecutor.map.<locals>.result_iterator\u001b[1;34m()\u001b[0m\n\u001b[0;32m    606\u001b[0m \u001b[38;5;28;01mwhile\u001b[39;00m fs:\n\u001b[0;32m    607\u001b[0m     \u001b[38;5;66;03m# Careful not to keep a reference to the popped future\u001b[39;00m\n\u001b[0;32m    608\u001b[0m     \u001b[38;5;28;01mif\u001b[39;00m timeout \u001b[38;5;129;01mis\u001b[39;00m \u001b[38;5;28;01mNone\u001b[39;00m:\n\u001b[1;32m--> 609\u001b[0m         \u001b[38;5;28;01myield\u001b[39;00m \u001b[43mfs\u001b[49m\u001b[38;5;241;43m.\u001b[39;49m\u001b[43mpop\u001b[49m\u001b[43m(\u001b[49m\u001b[43m)\u001b[49m\u001b[38;5;241;43m.\u001b[39;49m\u001b[43mresult\u001b[49m\u001b[43m(\u001b[49m\u001b[43m)\u001b[49m\n\u001b[0;32m    610\u001b[0m     \u001b[38;5;28;01melse\u001b[39;00m:\n\u001b[0;32m    611\u001b[0m         \u001b[38;5;28;01myield\u001b[39;00m fs\u001b[38;5;241m.\u001b[39mpop()\u001b[38;5;241m.\u001b[39mresult(end_time \u001b[38;5;241m-\u001b[39m time\u001b[38;5;241m.\u001b[39mmonotonic())\n",
      "File \u001b[1;32m~\\AppData\\Local\\Programs\\Python\\Python310\\lib\\concurrent\\futures\\_base.py:446\u001b[0m, in \u001b[0;36mFuture.result\u001b[1;34m(self, timeout)\u001b[0m\n\u001b[0;32m    444\u001b[0m     \u001b[38;5;28;01mraise\u001b[39;00m CancelledError()\n\u001b[0;32m    445\u001b[0m \u001b[38;5;28;01melif\u001b[39;00m \u001b[38;5;28mself\u001b[39m\u001b[38;5;241m.\u001b[39m_state \u001b[38;5;241m==\u001b[39m FINISHED:\n\u001b[1;32m--> 446\u001b[0m     \u001b[38;5;28;01mreturn\u001b[39;00m \u001b[38;5;28;43mself\u001b[39;49m\u001b[38;5;241;43m.\u001b[39;49m\u001b[43m__get_result\u001b[49m\u001b[43m(\u001b[49m\u001b[43m)\u001b[49m\n\u001b[0;32m    447\u001b[0m \u001b[38;5;28;01melse\u001b[39;00m:\n\u001b[0;32m    448\u001b[0m     \u001b[38;5;28;01mraise\u001b[39;00m \u001b[38;5;167;01mTimeoutError\u001b[39;00m()\n",
      "File \u001b[1;32m~\\AppData\\Local\\Programs\\Python\\Python310\\lib\\concurrent\\futures\\_base.py:391\u001b[0m, in \u001b[0;36mFuture.__get_result\u001b[1;34m(self)\u001b[0m\n\u001b[0;32m    389\u001b[0m \u001b[38;5;28;01mif\u001b[39;00m \u001b[38;5;28mself\u001b[39m\u001b[38;5;241m.\u001b[39m_exception:\n\u001b[0;32m    390\u001b[0m     \u001b[38;5;28;01mtry\u001b[39;00m:\n\u001b[1;32m--> 391\u001b[0m         \u001b[38;5;28;01mraise\u001b[39;00m \u001b[38;5;28mself\u001b[39m\u001b[38;5;241m.\u001b[39m_exception\n\u001b[0;32m    392\u001b[0m     \u001b[38;5;28;01mfinally\u001b[39;00m:\n\u001b[0;32m    393\u001b[0m         \u001b[38;5;66;03m# Break a reference cycle with the exception in self._exception\u001b[39;00m\n\u001b[0;32m    394\u001b[0m         \u001b[38;5;28mself\u001b[39m \u001b[38;5;241m=\u001b[39m \u001b[38;5;28;01mNone\u001b[39;00m\n",
      "\u001b[1;31mBrokenProcessPool\u001b[0m: A process in the process pool was terminated abruptly while the future was running or pending."
     ]
    }
   ],
   "source": [
    "def downloadFile(url, name):\n",
    "    print(f\"start downloading {name}\")\n",
    "    response = requests.get(url)\n",
    "    open(f\"file{name}.jpg\", 'wb').write(response.content)\n",
    "    print(f\"finished downloading {name}\")\n",
    "    \n",
    "url = \"https://picsum.photos/200/300\"\n",
    "\n",
    "with concurrent.futures.ProcessPoolExecutor() as executor:\n",
    "    l1 = [url for i in range(6)]\n",
    "    l2 = [i for i in range(6)]\n",
    "    results = executor.map(downloadFile, l1, l2)\n",
    "    for r in results:\n",
    "        print(r)"
   ]
  }
 ],
 "metadata": {
  "kernelspec": {
   "display_name": "Python 3 (ipykernel)",
   "language": "python",
   "name": "python3"
  },
  "language_info": {
   "codemirror_mode": {
    "name": "ipython",
    "version": 3
   },
   "file_extension": ".py",
   "mimetype": "text/x-python",
   "name": "python",
   "nbconvert_exporter": "python",
   "pygments_lexer": "ipython3",
   "version": "3.10.4"
  }
 },
 "nbformat": 4,
 "nbformat_minor": 5
}
