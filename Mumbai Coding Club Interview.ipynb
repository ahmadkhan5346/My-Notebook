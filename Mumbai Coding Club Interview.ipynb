{
 "cells": [
  {
   "cell_type": "markdown",
   "id": "b45a06c1",
   "metadata": {},
   "source": [
    "### 1.Find the student who has Highest marks ? Input : student = {\"Umar\":{\"score\": 67}, \"Talha\":{\"score\": 78}, \"Shadab\":{\"score\": 17}} Output : {'xyz':78}"
   ]
  },
  {
   "cell_type": "code",
   "execution_count": 45,
   "id": "2cafcb8d",
   "metadata": {},
   "outputs": [
    {
     "name": "stdout",
     "output_type": "stream",
     "text": [
      "{'Talha': 78}\n"
     ]
    }
   ],
   "source": [
    "student = {\"Umar\":{\"score\": 67}, \"Talha\":{\"score\": 78}, \"Shadab\":{\"score\": 17}}\n",
    "def maximum():\n",
    "    maxim = 0\n",
    "    std = ''\n",
    "    for i in student:\n",
    "        score = student.get(i)['score']\n",
    "        if score > maxim:\n",
    "            maxim = score\n",
    "            std = i\n",
    "    return {std:maxim}\n",
    "a = maximum()\n",
    "print(a)"
   ]
  },
  {
   "cell_type": "markdown",
   "id": "f0982ba1",
   "metadata": {},
   "source": [
    "### 2. Sort the list on the basis of second element in the tuple ?\n",
    "    Sample Input = [(\"zoo\", \"peanuts\"),(1, 'groot'), (\"teams\",\"ml\"),('dell', 'ipad'), ('water', 'case'), (56,\"apple\")]\n",
    "    Sample Output = [(56, 'apple'), ('water', 'case'), (1, 'groot'), ('dell', 'ipad'), ('teams', 'ml'), ('zoo', 'peanuts')]̀"
   ]
  },
  {
   "cell_type": "code",
   "execution_count": 2,
   "id": "547feebd",
   "metadata": {},
   "outputs": [
    {
     "name": "stdout",
     "output_type": "stream",
     "text": [
      "[(56, 'apple'), ('water', 'case'), (1, 'groot'), ('dell', 'ipad'), ('teams', 'ml'), ('zoo', 'peanuts')]\n"
     ]
    }
   ],
   "source": [
    "from operator import itemgetter\n",
    "input = [(\"zoo\", \"peanuts\"),(1, 'groot'), (\"teams\",\"ml\"),('dell', 'ipad'), ('water', 'case'), (56,\"apple\")]\n",
    "lst=sorted(input, key=itemgetter(1))\n",
    "print(lst)"
   ]
  },
  {
   "cell_type": "code",
   "execution_count": 23,
   "id": "28ffabc4",
   "metadata": {},
   "outputs": [
    {
     "name": "stdout",
     "output_type": "stream",
     "text": [
      "lst 6\n",
      "tem ('zoo', 'peanuts')\n",
      "tup[j] (1, 'groot')\n",
      "tem ('zoo', 'peanuts')\n",
      "tup[j] ('teams', 'ml')\n",
      "tem ('zoo', 'peanuts')\n",
      "tup[j] ('dell', 'ipad')\n",
      "tem ('zoo', 'peanuts')\n",
      "tup[j] ('water', 'case')\n",
      "tem ('zoo', 'peanuts')\n",
      "tup[j] (56, 'apple')\n",
      "tem ('teams', 'ml')\n",
      "tup[j] ('dell', 'ipad')\n",
      "tem ('teams', 'ml')\n",
      "tup[j] ('water', 'case')\n",
      "tem ('teams', 'ml')\n",
      "tup[j] (56, 'apple')\n",
      "tem ('dell', 'ipad')\n",
      "tup[j] ('water', 'case')\n",
      "tem ('dell', 'ipad')\n",
      "tup[j] (56, 'apple')\n",
      "tem (1, 'groot')\n",
      "tup[j] ('water', 'case')\n",
      "tem (1, 'groot')\n",
      "tup[j] (56, 'apple')\n",
      "tem ('water', 'case')\n",
      "tup[j] (56, 'apple')\n",
      "[(56, 'apple'), ('water', 'case'), (1, 'groot'), ('dell', 'ipad'), ('teams', 'ml'), ('zoo', 'peanuts')]\n"
     ]
    }
   ],
   "source": [
    "def Sort_Tuple(tup):\n",
    "     \n",
    "    # getting length of list of tuples\n",
    "    lst = len(tup)\n",
    "    print(\"lst\",lst)\n",
    "    for i in range(0, lst):\n",
    "         \n",
    "        for j in range(0, lst-i-1):\n",
    "            if (tup[j][1] > tup[j + 1][1]):\n",
    "                temp = tup[j]\n",
    "                print(\"tem\",temp)\n",
    "                tup[j]= tup[j + 1]\n",
    "                print(\"tup[j]\",tup[j])\n",
    "               \n",
    "                tup[j + 1]= temp\n",
    "    return tup\n",
    " \n",
    "# Driver Code\n",
    "tup =[(\"zoo\", \"peanuts\"),(1, 'groot'), (\"teams\",\"ml\"),('dell', 'ipad'), ('water', 'case'), (56,\"apple\")]\n",
    "       \n",
    "print(Sort_Tuple(tup))"
   ]
  },
  {
   "cell_type": "markdown",
   "id": "70a3d967",
   "metadata": {},
   "source": [
    "### 3.  Swap adjacent elements in a list without using inbuilt functions?"
   ]
  },
  {
   "cell_type": "code",
   "execution_count": 12,
   "id": "89b48906",
   "metadata": {},
   "outputs": [
    {
     "name": "stdout",
     "output_type": "stream",
     "text": [
      "[2, 1, 4, 3]\n"
     ]
    }
   ],
   "source": [
    "lst = [1,2,3,4]\n",
    "lst[0],lst[1],lst[2],lst[3] = lst[1],lst[0],lst[3], lst[2]\n",
    "print(lst)"
   ]
  },
  {
   "cell_type": "code",
   "execution_count": 67,
   "id": "90da8292",
   "metadata": {
    "scrolled": true
   },
   "outputs": [
    {
     "name": "stdout",
     "output_type": "stream",
     "text": [
      "[2, 1, 4, 3, 6, 5]\n"
     ]
    }
   ],
   "source": [
    "lst = [1,2,3,4,5,6]\n",
    "for i in range(0,len(lst),2):\n",
    "    lst[i],lst[i+1] = lst[i+1], lst[i]\n",
    "print(lst)"
   ]
  },
  {
   "cell_type": "markdown",
   "id": "8954166b",
   "metadata": {},
   "source": [
    "4. Write a program to enter the number till the user wants and at the end it should display the sum of all numbers entered.(using while loop)"
   ]
  },
  {
   "cell_type": "code",
   "execution_count": 1,
   "id": "5de77099",
   "metadata": {},
   "outputs": [
    {
     "name": "stdout",
     "output_type": "stream",
     "text": [
      "enter first number3\n",
      "enter second number5\n",
      "sum:- 8\n",
      "Do you want to continue?(y/n):n\n"
     ]
    }
   ],
   "source": [
    "while True:\n",
    "    num1 = int(input(\"enter first number\"))\n",
    "    num2 = int(input(\"enter second number\"))\n",
    "    print(\"sum:-\",num1+num2)\n",
    "    ans = input('Do you want to continue?(y/n):')\n",
    "    ans.lower()\n",
    "    if ans !='y':\n",
    "        break"
   ]
  },
  {
   "cell_type": "markdown",
   "id": "4780717a",
   "metadata": {},
   "source": [
    "### 5. Find the unique number in a list using function?\n",
    "    Sample Input : [2,1,4,3,1,4,2]\n",
    "    Sample Output : 3"
   ]
  },
  {
   "cell_type": "code",
   "execution_count": 80,
   "id": "f69a419b",
   "metadata": {},
   "outputs": [
    {
     "name": "stdout",
     "output_type": "stream",
     "text": [
      "3\n"
     ]
    }
   ],
   "source": [
    "lst=[2,1,4,3,1,4,2]\n",
    "s=0\n",
    "for i in lst:\n",
    "    s^=i\n",
    "print(s)"
   ]
  },
  {
   "cell_type": "code",
   "execution_count": 10,
   "id": "4186b592",
   "metadata": {},
   "outputs": [
    {
     "name": "stdout",
     "output_type": "stream",
     "text": [
      "[3]\n"
     ]
    }
   ],
   "source": [
    "lst=[2,1,4,3,1,4,2]\n",
    "a = []\n",
    "for i in lst:\n",
    "    if lst.count(i)==1:\n",
    "        a.append(i)\n",
    "        print(a)"
   ]
  },
  {
   "cell_type": "code",
   "execution_count": 4,
   "id": "7a80e267",
   "metadata": {},
   "outputs": [
    {
     "name": "stdout",
     "output_type": "stream",
     "text": [
      "[3]\n",
      "[3, 8]\n"
     ]
    }
   ],
   "source": [
    "def unique(x):\n",
    "    a = []\n",
    "    for i in lst:\n",
    "        if lst.count(i)==1:\n",
    "            a.append(i)\n",
    "            print(a)\n",
    "lst=[2,1,4,3,8,1,4,2]\n",
    "unique(lst)"
   ]
  },
  {
   "cell_type": "markdown",
   "id": "cd6bc688",
   "metadata": {},
   "source": [
    "### 6. Create a iterator to find all the Power of 3?"
   ]
  },
  {
   "cell_type": "code",
   "execution_count": 24,
   "id": "b33ffe59",
   "metadata": {},
   "outputs": [
    {
     "name": "stdout",
     "output_type": "stream",
     "text": [
      "8\n",
      "27\n"
     ]
    }
   ],
   "source": [
    "itr1 = [2,3]\n",
    "itr2 = iter(itr1)\n",
    "a= next(itr2)\n",
    "c=a**3\n",
    "b= next(itr2)\n",
    "d=b**3\n",
    "print(c)\n",
    "print(d)"
   ]
  },
  {
   "cell_type": "markdown",
   "id": "1bac6909",
   "metadata": {},
   "source": [
    "### 7. Give example of Multilevel Inheritence and use super function in the same  "
   ]
  },
  {
   "cell_type": "code",
   "execution_count": 19,
   "id": "631596b7",
   "metadata": {},
   "outputs": [
    {
     "name": "stdout",
     "output_type": "stream",
     "text": [
      "Inside vehicle class\n",
      "Inside car class\n",
      "Inside Sportcar class\n"
     ]
    }
   ],
   "source": [
    "class Vehicle:\n",
    "    def vehicle_info(self):\n",
    "        print('Inside vehicle class')\n",
    "# child class 1\n",
    "class Car(Vehicle):\n",
    "    def car_info(self):\n",
    "        print('Inside car class')\n",
    "# child class 2\n",
    "class Sportcar(Car):\n",
    "    def sportcar_info(self):\n",
    "        print('Inside Sportcar class')\n",
    "# create object of sportcar\n",
    "s_car = Sportcar()\n",
    "\n",
    "# access vehicle's ans car info using sportcar object\n",
    "s_car.vehicle_info()\n",
    "s_car.car_info()\n",
    "s_car.sportcar_info()"
   ]
  },
  {
   "cell_type": "code",
   "execution_count": 48,
   "id": "e78592e9",
   "metadata": {},
   "outputs": [
    {
     "name": "stdout",
     "output_type": "stream",
     "text": [
      "Sarfraz 35\n",
      "Name: Sarfraz age: 35 school: abc\n",
      "Ahmad 28\n"
     ]
    }
   ],
   "source": [
    "class Student:\n",
    "    def __init__(self, name):\n",
    "        self.name=name\n",
    "        \n",
    "class Teacher(Student):\n",
    "    def __init__(self, name,age):\n",
    "        self.age=age\n",
    "        super().__init__(name)\n",
    "        \n",
    "class Principle(Teacher):\n",
    "    def __init__(self,name,age,school):\n",
    "        self.school=school\n",
    "        super().__init__(name,age)\n",
    "        self.age=35\n",
    "        print(self.name,self.age)\n",
    "    \n",
    "    def info(self):\n",
    "        print('Name:',self.name,'age:',self.age,'school:',self.school)\n",
    "        \n",
    "        \n",
    "std=Principle('Sarfraz',30,'abc')\n",
    "std.info()\n",
    "st=Teacher('Ahmad',28)\n",
    "print(st.name,st.age)"
   ]
  },
  {
   "cell_type": "markdown",
   "id": "d52c2ed1",
   "metadata": {},
   "source": [
    "### 8. Convert a local variable into global variable and give the methods to access the same "
   ]
  },
  {
   "cell_type": "code",
   "execution_count": 6,
   "id": "2903f1b4",
   "metadata": {},
   "outputs": [
    {
     "name": "stdout",
     "output_type": "stream",
     "text": [
      "local: 5\n",
      "global: 5\n"
     ]
    }
   ],
   "source": [
    "i = 0\n",
    "\n",
    "def myfunc():\n",
    "    global i\n",
    "    while i <5:\n",
    "        i += 1\n",
    "    print('local:', i)\n",
    "        \n",
    "myfunc()\n",
    "print('global:', i)"
   ]
  },
  {
   "cell_type": "code",
   "execution_count": 11,
   "id": "ee4515a7",
   "metadata": {},
   "outputs": [
    {
     "name": "stdout",
     "output_type": "stream",
     "text": [
      "10\n",
      "10\n"
     ]
    }
   ],
   "source": [
    "def show():\n",
    "    global x\n",
    "    x=10\n",
    "    print(x)\n",
    "show()\n",
    "print(x)"
   ]
  },
  {
   "cell_type": "markdown",
   "id": "3b890cf3",
   "metadata": {},
   "source": [
    "### 9. Make a class and implement getter setter methods "
   ]
  },
  {
   "cell_type": "code",
   "execution_count": 12,
   "id": "1a2dba80",
   "metadata": {},
   "outputs": [
    {
     "name": "stdout",
     "output_type": "stream",
     "text": [
      "Name: Sarfraz 28\n",
      "Name: Sarfraz 30\n"
     ]
    }
   ],
   "source": [
    "class Student:\n",
    "    def __init__(self, name, age):\n",
    "        self.name=name\n",
    "        self.__age=age\n",
    "        \n",
    "    def get_age(self):     #getter method\n",
    "        return self.__age\n",
    "    \n",
    "    def set_age(self, age):    #setter method\n",
    "        self.__age=age\n",
    "    \n",
    "std = Student('Sarfraz', 28)\n",
    "print('Name:', std.name, std.get_age())     # retrieving age using getter\n",
    "std.set_age(30)                             # changing age using setter\n",
    "print('Name:', std.name, std.get_age())     # retrieving age using getter"
   ]
  },
  {
   "cell_type": "code",
   "execution_count": 29,
   "id": "f1dfc9a0",
   "metadata": {},
   "outputs": [
    {
     "name": "stdout",
     "output_type": "stream",
     "text": [
      "Name: Sarfraz 28\n",
      "Name: Sarfraz 34\n",
      "Sarfraz 34\n"
     ]
    }
   ],
   "source": [
    "class Student:\n",
    "    def __init__(self, name, age):\n",
    "        self.name=name\n",
    "        self.__age=age\n",
    "        \n",
    "    def get_age(self):     #getter method\n",
    "        return self.__age\n",
    "    \n",
    "    def set_age(self,age):    #setter method\n",
    "        self.__age=age\n",
    "        \n",
    "    def modify(self):\n",
    "        print(self.name,self.__age)\n",
    "    \n",
    "    \n",
    "std = Student('Sarfraz', 28)\n",
    "print('Name:', std.name, std.get_age())     # retrieving age using getter\n",
    "std.set_age(34)                             # changing age using setter\n",
    "print('Name:', std.name, std.get_age())\n",
    "std.modify()"
   ]
  },
  {
   "cell_type": "code",
   "execution_count": 25,
   "id": "02960146",
   "metadata": {},
   "outputs": [
    {
     "name": "stdout",
     "output_type": "stream",
     "text": [
      "Name: Sarfraz 28\n",
      "Name: Sarfraz 30\n"
     ]
    }
   ],
   "source": [
    "class Student:\n",
    "    def __init__(self, name, age):\n",
    "        self.name=name\n",
    "        self.age=age\n",
    "    \n",
    "    def agee(self, age):    #setter method\n",
    "        self.age=age\n",
    "    \n",
    "std = Student('Sarfraz', 28)\n",
    "print('Name:', std.name, std.age)     # retrieving age using getter\n",
    "std.agee(30)                             # changing age using setter\n",
    "print('Name:', std.name, std.age)     # retrieving age using getter"
   ]
  },
  {
   "cell_type": "markdown",
   "id": "0bb22bca",
   "metadata": {},
   "source": [
    "### 10. Find the even and odd from the given list using anonymous function"
   ]
  },
  {
   "cell_type": "code",
   "execution_count": 7,
   "id": "c6ec459d",
   "metadata": {},
   "outputs": [
    {
     "name": "stdout",
     "output_type": "stream",
     "text": [
      "['even', 'even', 'odd', 'odd', 'even']\n"
     ]
    }
   ],
   "source": [
    "lst = [10,20,23,25,26]\n",
    "eve = list(map(lambda x: 'even' if x%2==0 else 'odd', lst))\n",
    "print(eve)"
   ]
  },
  {
   "cell_type": "markdown",
   "id": "ace9956a",
   "metadata": {},
   "source": [
    "### 11. Write syntax for Dictionary comprehension and give benefits of it"
   ]
  },
  {
   "cell_type": "code",
   "execution_count": null,
   "id": "027af85f",
   "metadata": {},
   "outputs": [],
   "source": []
  },
  {
   "cell_type": "markdown",
   "id": "2c314f7e",
   "metadata": {},
   "source": [
    "### 12. How to change the behaviour of a function without modifying it ?"
   ]
  },
  {
   "cell_type": "code",
   "execution_count": 60,
   "id": "303cfa55",
   "metadata": {},
   "outputs": [
    {
     "ename": "TypeError",
     "evalue": "'NoneType' object is not callable",
     "output_type": "error",
     "traceback": [
      "\u001b[1;31m---------------------------------------------------------------------------\u001b[0m",
      "\u001b[1;31mTypeError\u001b[0m                                 Traceback (most recent call last)",
      "Input \u001b[1;32mIn [60]\u001b[0m, in \u001b[0;36m<cell line: 10>\u001b[1;34m()\u001b[0m\n\u001b[0;32m      7\u001b[0m \u001b[38;5;129m@outer\u001b[39m\n\u001b[0;32m      8\u001b[0m \u001b[38;5;28;01mdef\u001b[39;00m \u001b[38;5;21mmyfunc\u001b[39m():\n\u001b[0;32m      9\u001b[0m     \u001b[38;5;28mprint\u001b[39m(\u001b[38;5;124m\"\u001b[39m\u001b[38;5;124mthird number\u001b[39m\u001b[38;5;124m\"\u001b[39m)\n\u001b[1;32m---> 10\u001b[0m \u001b[43mmyfunc\u001b[49m\u001b[43m(\u001b[49m\u001b[43m)\u001b[49m\n",
      "\u001b[1;31mTypeError\u001b[0m: 'NoneType' object is not callable"
     ]
    }
   ],
   "source": [
    "def outer(myfunc):\n",
    "    def inner():\n",
    "        \n",
    "        print(\"first number\")\n",
    "        print(\"second number\")\n",
    "        \n",
    "@outer\n",
    "def myfunc():\n",
    "    print(\"third number\")\n",
    "myfunc()"
   ]
  },
  {
   "cell_type": "code",
   "execution_count": null,
   "id": "a9c9e8e1",
   "metadata": {},
   "outputs": [],
   "source": []
  }
 ],
 "metadata": {
  "kernelspec": {
   "display_name": "Python 3 (ipykernel)",
   "language": "python",
   "name": "python3"
  },
  "language_info": {
   "codemirror_mode": {
    "name": "ipython",
    "version": 3
   },
   "file_extension": ".py",
   "mimetype": "text/x-python",
   "name": "python",
   "nbconvert_exporter": "python",
   "pygments_lexer": "ipython3",
   "version": "3.10.4"
  }
 },
 "nbformat": 4,
 "nbformat_minor": 5
}
