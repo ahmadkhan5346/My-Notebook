{
 "cells": [
  {
   "cell_type": "code",
   "execution_count": 6,
   "id": "1ff79bb1",
   "metadata": {},
   "outputs": [
    {
     "name": "stdout",
     "output_type": "stream",
     "text": [
      "254\n"
     ]
    }
   ],
   "source": [
    "lst=[254, 56, 120, 30, 0.5, 0]\n",
    "max = 0\n",
    "for i in lst:\n",
    "    if i > max:\n",
    "        max=i\n",
    "print(max)"
   ]
  },
  {
   "cell_type": "code",
   "execution_count": 16,
   "id": "1199ab45",
   "metadata": {},
   "outputs": [
    {
     "name": "stdout",
     "output_type": "stream",
     "text": [
      "lst[0]: 254\n",
      "forloop: 254\n",
      "minn: 254\n",
      "forloop: 56\n",
      "minn: 56\n",
      "forloop: 120\n",
      "minn: 56\n",
      "forloop: 30\n",
      "minn: 30\n",
      "forloop: 0.5\n",
      "minn: 0.5\n",
      "forloop: 0\n",
      "minn: 0\n",
      "lst[0]: 254\n",
      "forloop: 254\n",
      "minn: 254\n",
      "forloop: 56\n",
      "minn: 56\n",
      "forloop: 120\n",
      "minn: 56\n",
      "forloop: 30\n",
      "minn: 30\n",
      "forloop: 0.5\n",
      "minn: 0.5\n",
      "lst[0]: 254\n",
      "forloop: 254\n",
      "minn: 254\n",
      "forloop: 56\n",
      "minn: 56\n",
      "forloop: 120\n",
      "minn: 56\n",
      "forloop: 30\n",
      "minn: 30\n",
      "lst[0]: 254\n",
      "forloop: 254\n",
      "minn: 254\n",
      "forloop: 56\n",
      "minn: 56\n",
      "forloop: 120\n",
      "minn: 56\n",
      "lst[0]: 254\n",
      "forloop: 254\n",
      "minn: 254\n",
      "forloop: 120\n",
      "minn: 120\n",
      "lst[0]: 254\n",
      "forloop: 254\n",
      "minn: 254\n",
      "[0, 0.5, 30, 56, 120, 254]\n"
     ]
    }
   ],
   "source": [
    "lst=[254, 56, 120, 30, 0.5, 0]\n",
    "sort=[]\n",
    "while lst:\n",
    "    minn=lst[0]\n",
    "    print('lst[0]:',minn)\n",
    "    for x in lst:\n",
    "        print('forloop:',x)\n",
    "        if x < minn:\n",
    "            minn = x\n",
    "        print('minn:',minn)\n",
    "    sort.append(minn)\n",
    "    lst.remove(minn)\n",
    "    \n",
    "print(sort)           "
   ]
  },
  {
   "cell_type": "code",
   "execution_count": 7,
   "id": "a3f7bf07",
   "metadata": {},
   "outputs": [
    {
     "name": "stdout",
     "output_type": "stream",
     "text": [
      "[1, 8, 27, 64, 125]\n"
     ]
    }
   ],
   "source": [
    "lst=[1,2,3,4,5]\n",
    "lst1=[]\n",
    "for x in lst:\n",
    "    cube=x**3\n",
    "    lst1.append(cube)\n",
    "print(lst1)\n",
    "    "
   ]
  },
  {
   "cell_type": "code",
   "execution_count": 14,
   "id": "364bbb39",
   "metadata": {},
   "outputs": [
    {
     "name": "stdout",
     "output_type": "stream",
     "text": [
      "[10, 12, 18, 20, 26]\n"
     ]
    }
   ],
   "source": [
    "ages = [10,12,15,18,20,25,26,29]\n",
    "def myfun(x):\n",
    "    if x %2==0:\n",
    "        return True\n",
    "adult=list(filter(myfun, ages))\n",
    "print(adult)"
   ]
  },
  {
   "cell_type": "code",
   "execution_count": null,
   "id": "88aeef58",
   "metadata": {},
   "outputs": [],
   "source": []
  }
 ],
 "metadata": {
  "kernelspec": {
   "display_name": "Python 3 (ipykernel)",
   "language": "python",
   "name": "python3"
  },
  "language_info": {
   "codemirror_mode": {
    "name": "ipython",
    "version": 3
   },
   "file_extension": ".py",
   "mimetype": "text/x-python",
   "name": "python",
   "nbconvert_exporter": "python",
   "pygments_lexer": "ipython3",
   "version": "3.10.4"
  }
 },
 "nbformat": 4,
 "nbformat_minor": 5
}
