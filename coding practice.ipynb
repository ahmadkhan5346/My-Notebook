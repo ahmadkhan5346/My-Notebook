{
 "cells": [
  {
   "cell_type": "code",
   "execution_count": 53,
   "id": "51601e18",
   "metadata": {},
   "outputs": [
    {
     "name": "stdout",
     "output_type": "stream",
     "text": [
      "AMSsaahlrrifarfaz\n"
     ]
    }
   ],
   "source": [
    "a = \"Ashraf\"\n",
    "b = \"Mali\"\n",
    "c = \"Sarfraz\"\n",
    "d=\"\"\n",
    "size=len(a) if len(a)>len(b) and len(b) > len(c) else len(c)   #Ternary Operator\n",
    "\n",
    "for i in range(size):\n",
    "#     print(i)\n",
    "    if i<len(a):\n",
    "        d+=a[i]\n",
    "        \n",
    "    if i<len(b):\n",
    "        d+=b[i]\n",
    "        \n",
    "    if i < len(c):\n",
    "        d += c[i]\n",
    "    \n",
    "print(d)"
   ]
  },
  {
   "cell_type": "code",
   "execution_count": 42,
   "id": "0d2655e4",
   "metadata": {},
   "outputs": [
    {
     "name": "stdout",
     "output_type": "stream",
     "text": [
      "[5, 3, 7, 4]\n"
     ]
    }
   ],
   "source": [
    "lst = [5,8,15,19]\n",
    "print([lst[0]] + [x-y for x, y in zip(lst[1:], lst[:-1])])"
   ]
  },
  {
   "cell_type": "code",
   "execution_count": 10,
   "id": "7fb178d2",
   "metadata": {},
   "outputs": [
    {
     "name": "stdout",
     "output_type": "stream",
     "text": [
      "1 2 3 4\n",
      "[1, 8, 27, 64]\n"
     ]
    }
   ],
   "source": [
    "def multiadd(x):\n",
    "    return x*x*x\n",
    "\n",
    "list1 = list(map(int, input().strip().split()))\n",
    "\n",
    "a = list(map(multiadd, list1))\n",
    "print(list(a))"
   ]
  },
  {
   "cell_type": "code",
   "execution_count": 43,
   "id": "1bf7f1d8",
   "metadata": {},
   "outputs": [
    {
     "name": "stdout",
     "output_type": "stream",
     "text": [
      "ac\n",
      "ad\n",
      "bc\n",
      "bd\n"
     ]
    }
   ],
   "source": [
    "dic1 = {'1':['a', 'b'], '2':['c', 'd']}\n",
    "for i in dic1['1']:\n",
    "    for j in dic1['2']:\n",
    "        print(i+j)"
   ]
  },
  {
   "cell_type": "code",
   "execution_count": 42,
   "id": "0e2c9b9f",
   "metadata": {},
   "outputs": [
    {
     "name": "stdout",
     "output_type": "stream",
     "text": [
      "ac\n",
      "ad\n",
      "bc\n",
      "bd\n"
     ]
    }
   ],
   "source": [
    "dic2 = {'1':['a', 'b'], '2':['c', 'd']}\n",
    "a=[i+j for i in dic2['1'] for j in dic2['2']]\n",
    "for i in a:\n",
    "    print(i)"
   ]
  },
  {
   "cell_type": "code",
   "execution_count": 32,
   "id": "cdbb70db",
   "metadata": {},
   "outputs": [
    {
     "name": "stdout",
     "output_type": "stream",
     "text": [
      "ac\n",
      "ad\n",
      "bc\n",
      "bd\n"
     ]
    }
   ],
   "source": [
    "my_dict= {'1':['a', 'b'], '2':['c', 'd']}\n",
    "my_list= list(my_dict.values())\n",
    "for i in my_list[0]:\n",
    "    for j in my_list[1]:\n",
    "        print(i+j)"
   ]
  },
  {
   "cell_type": "code",
   "execution_count": 47,
   "id": "23b37f56",
   "metadata": {},
   "outputs": [
    {
     "name": "stdout",
     "output_type": "stream",
     "text": [
      "ac\n",
      "ad\n",
      "bc\n",
      "bd\n"
     ]
    }
   ],
   "source": [
    "from itertools import product\n",
    "\n",
    "d ={'1':['a','b'], '2':['c','d']}\n",
    "for x, y in product(*d.values()):\n",
    "    print(x + y)"
   ]
  },
  {
   "cell_type": "code",
   "execution_count": 51,
   "id": "6098cbd9",
   "metadata": {},
   "outputs": [
    {
     "name": "stdout",
     "output_type": "stream",
     "text": [
      "{'ali': 40, 'sarfraz': 31, 'khalid': 26}\n"
     ]
    }
   ],
   "source": [
    "dic1 = {'sarfraz':31, 'junaid':22, 'ali':40, 'ashraf':21, 'khalid':26}\n",
    "\n",
    "list1=list(dic1.values())\n",
    "list1.sort(reverse=True)\n",
    "list2=list1[:3]\n",
    "\n",
    "dic2={}\n",
    "for i in list2:\n",
    "    for j in dic1.keys():\n",
    "        if dic1[j]==i:\n",
    "            dic2.update({j:dic1[j]})\n",
    "print(dic2)"
   ]
  },
  {
   "cell_type": "code",
   "execution_count": 54,
   "id": "856712e5",
   "metadata": {},
   "outputs": [
    {
     "name": "stdout",
     "output_type": "stream",
     "text": [
      "{'item1': 1150, 'item2': 300}\n"
     ]
    }
   ],
   "source": [
    "my_dict=[{'item': 'item1', 'amount': 400}, {'item': 'item2', 'amount': 300}, {'item': 'item1', 'amount': 750}]\n",
    "# Expected Output: Counter({'item1': 1150, 'item2': 300})\n",
    "\n",
    "d={}\n",
    "for x in my_dict :\n",
    "    if x['item'] not in d :\n",
    "        d.update({x['item'] : x['amount']})\n",
    "        \n",
    "    else :\n",
    "        d[x['item']] = d[x['item']] + x['amount']\n",
    "print(d)"
   ]
  },
  {
   "cell_type": "code",
   "execution_count": 4,
   "id": "dbda40fe",
   "metadata": {},
   "outputs": [
    {
     "name": "stdout",
     "output_type": "stream",
     "text": [
      "{'item1': 1150, 'item2': 300}\n"
     ]
    }
   ],
   "source": [
    "my_dict=[{'item': 'item1', 'amount': 400}, {'item': 'item2', 'amount': 300}, {'item': 'item1', 'amount': 750}]\n",
    "# Expected Output: Counter({'item1': 1150, 'item2': 300})\n",
    "\n",
    "d={}\n",
    "for x in my_dict :\n",
    "#     print(x['amount'])\n",
    "    if x['item'] not in d :\n",
    "        d.update({x['item'] : x['amount']})\n",
    "        \n",
    "    else :\n",
    "        d[x['item']] += x['amount']\n",
    "print(d)"
   ]
  },
  {
   "cell_type": "code",
   "execution_count": 5,
   "id": "0aa0b88b",
   "metadata": {},
   "outputs": [
    {
     "name": "stdout",
     "output_type": "stream",
     "text": [
      "{'num': 109}\n"
     ]
    }
   ],
   "source": [
    "a = {}\n",
    "a['num']=100\n",
    "a['num']+=9\n",
    "print(a)"
   ]
  },
  {
   "cell_type": "code",
   "execution_count": null,
   "id": "6c0c7e53",
   "metadata": {},
   "outputs": [],
   "source": [
    "nputs= ['aqm', 'technologies', 'ghatkopar']"
   ]
  },
  {
   "cell_type": "code",
   "execution_count": null,
   "id": "1d26d64f",
   "metadata": {},
   "outputs": [],
   "source": []
  },
  {
   "cell_type": "code",
   "execution_count": null,
   "id": "73a04fc7",
   "metadata": {},
   "outputs": [],
   "source": []
  },
  {
   "cell_type": "code",
   "execution_count": 34,
   "id": "e96eb47b",
   "metadata": {},
   "outputs": [
    {
     "name": "stdout",
     "output_type": "stream",
     "text": [
      "2\n",
      "6\n",
      "12\n"
     ]
    }
   ],
   "source": [
    "lst = [1,2,3,4]\n",
    "a=list(zip(lst[1:], lst[:-1]))\n",
    "b=[]\n",
    "for i in a:\n",
    "    print(i[0]*i[1])"
   ]
  },
  {
   "cell_type": "code",
   "execution_count": 25,
   "id": "e1305b8a",
   "metadata": {},
   "outputs": [
    {
     "name": "stdout",
     "output_type": "stream",
     "text": [
      "6\n",
      "8\n",
      "12\n"
     ]
    }
   ],
   "source": [
    "lst = [1,2,3,4]\n",
    "for i in range(1,len(lst)):\n",
    "    for j in range(i+1, len(lst)):\n",
    "        print(lst[i]*lst[j])"
   ]
  },
  {
   "cell_type": "code",
   "execution_count": 47,
   "id": "88f24a0c",
   "metadata": {},
   "outputs": [
    {
     "name": "stdout",
     "output_type": "stream",
     "text": [
      "[24, 12, 8, 6]\n"
     ]
    }
   ],
   "source": [
    "lst = [1,2,3,4]    #output=[24, 12, 8, 6]\n",
    "list1=[]\n",
    "mul=1\n",
    "for idx1 in range(len(lst)):\n",
    "    for idx2 in range(len(lst)):\n",
    "        if idx1!=idx2:\n",
    "            mul*=lst[idx2]\n",
    "    list1.append(mul)\n",
    "    mul=1\n",
    "print(list1)"
   ]
  },
  {
   "cell_type": "code",
   "execution_count": 37,
   "id": "d0f3f908",
   "metadata": {},
   "outputs": [
    {
     "name": "stdout",
     "output_type": "stream",
     "text": [
      "1 2\n",
      "134\n"
     ]
    }
   ],
   "source": [
    "x,y='12'\n",
    "print(x,y)\n",
    "y,z='34'\n",
    "print(x+y+z)"
   ]
  },
  {
   "cell_type": "code",
   "execution_count": 45,
   "id": "679e6701",
   "metadata": {},
   "outputs": [
    {
     "name": "stdout",
     "output_type": "stream",
     "text": [
      "1 2\n"
     ]
    }
   ],
   "source": [
    "a,b='12'\n",
    "print(a,b)"
   ]
  },
  {
   "cell_type": "code",
   "execution_count": 50,
   "id": "ead8f6cc",
   "metadata": {},
   "outputs": [
    {
     "name": "stdout",
     "output_type": "stream",
     "text": [
      "[24, 12, 4, 1]\n"
     ]
    }
   ],
   "source": [
    "list1 = [1, 2, 3, 4]\n",
    "list2 = []\n",
    "multi = 1\n",
    "for i in range(len(list1)):\n",
    "    for j in range(i+1, len(list1)):\n",
    "        multi *= lst[j]\n",
    "    list2.append(multi)\n",
    "    multi = 1\n",
    "print(list2)"
   ]
  },
  {
   "cell_type": "code",
   "execution_count": 54,
   "id": "c3c6c700",
   "metadata": {},
   "outputs": [
    {
     "name": "stdout",
     "output_type": "stream",
     "text": [
      "[True, True, False, True, True, True, True, True, True, True, True, True, True, True, True, True, True, False, True, True, True, True, True, True, True]\n"
     ]
    }
   ],
   "source": [
    "# candies = [2,3,5,1,3], extraCandies = 3\n",
    "lst = [2,3,5,1,3]\n",
    "n=3\n",
    "lst1 = []\n",
    "lst3=[]\n",
    "for i in lst:\n",
    "#     a= str(i+n)\n",
    "    lst1.append((i+n))\n",
    "for x in range(len(lst1)):\n",
    "    for j in range(len(lst)):\n",
    "        if lst1[x]>lst[j]:\n",
    "            lst3.append(True)\n",
    "        else:\n",
    "            lst3.append(False)\n",
    "print(lst3)"
   ]
  },
  {
   "cell_type": "code",
   "execution_count": 69,
   "id": "225e2521",
   "metadata": {},
   "outputs": [
    {
     "name": "stdout",
     "output_type": "stream",
     "text": [
      "[True, False, False, False, False]\n"
     ]
    }
   ],
   "source": [
    "lst1 = [4,2,1,1,2]\n",
    "lst2=[]\n",
    "n=1\n",
    "for i in lst1:\n",
    "    for j in lst1:\n",
    "        if i+n >= j:\n",
    "            var=True\n",
    "        else:\n",
    "            var=False\n",
    "            break\n",
    "    lst2.append(var)\n",
    "print(lst2)"
   ]
  },
  {
   "cell_type": "code",
   "execution_count": 3,
   "id": "b5004024",
   "metadata": {},
   "outputs": [
    {
     "name": "stdout",
     "output_type": "stream",
     "text": [
      "[True, True, True, True, True]\n"
     ]
    }
   ],
   "source": [
    "lst1 = [4,2,1,1,2]\n",
    "lst2=[]\n",
    "n=1\n",
    "for i in lst1:\n",
    "    for j in lst1:\n",
    "        if i+n >= j:\n",
    "            var=True\n",
    "            break\n",
    "        else:\n",
    "            var=False\n",
    "            \n",
    "    lst2.append(var)\n",
    "print(lst2)"
   ]
  },
  {
   "cell_type": "code",
   "execution_count": null,
   "id": "183839fd",
   "metadata": {},
   "outputs": [],
   "source": []
  }
 ],
 "metadata": {
  "kernelspec": {
   "display_name": "Python 3 (ipykernel)",
   "language": "python",
   "name": "python3"
  },
  "language_info": {
   "codemirror_mode": {
    "name": "ipython",
    "version": 3
   },
   "file_extension": ".py",
   "mimetype": "text/x-python",
   "name": "python",
   "nbconvert_exporter": "python",
   "pygments_lexer": "ipython3",
   "version": "3.10.4"
  }
 },
 "nbformat": 4,
 "nbformat_minor": 5
}
