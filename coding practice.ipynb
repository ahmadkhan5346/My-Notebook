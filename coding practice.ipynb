{
 "cells": [
  {
   "cell_type": "code",
   "execution_count": 4,
   "id": "ab8f63aa",
   "metadata": {},
   "outputs": [
    {
     "name": "stdout",
     "output_type": "stream",
     "text": [
      "2223\n"
     ]
    }
   ],
   "source": [
    "a = \"2022-23\"\n",
    "b=(a[2:4])+(a[5:7])\n",
    "print(b)"
   ]
  },
  {
   "cell_type": "code",
   "execution_count": 9,
   "id": "c4d48151",
   "metadata": {},
   "outputs": [
    {
     "name": "stdout",
     "output_type": "stream",
     "text": [
      "FF2223\n"
     ]
    }
   ],
   "source": [
    "dic = {'year':'2022-23'}\n",
    "b=(\"FF\"+dic['year'][2:4]+dic['year'][5:7])\n",
    "print(b)"
   ]
  },
  {
   "cell_type": "code",
   "execution_count": 15,
   "id": "d9f55a82",
   "metadata": {},
   "outputs": [
    {
     "name": "stdout",
     "output_type": "stream",
     "text": [
      "basicpython\n",
      "fullstack\n"
     ]
    }
   ],
   "source": [
    "dic1 = {\n",
    "    1:{'name':'idrisi', 'category':'basicpython', 'phone':970222},\n",
    "    2:{'name':'shahnawaz', 'category':'fullstack', 'phone':972324}\n",
    "}\n",
    "for i in dic1:\n",
    "    print(dic1[i]['category'])"
   ]
  },
  {
   "cell_type": "code",
   "execution_count": 10,
   "id": "7c0ca586",
   "metadata": {},
   "outputs": [
    {
     "name": "stdout",
     "output_type": "stream",
     "text": [
      "basicpython\n",
      "fullstack\n"
     ]
    }
   ],
   "source": [
    "list1 = [\n",
    "   \n",
    "    {1:{'name':'idrisi', 'category':'basicpython', 'phone':970222}},\n",
    "    {2:{'name':'shahnawaz', 'category':'fullstack', 'phone':972324}}\n",
    " \n",
    "]\n",
    "\n",
    "for i in range(len(list1)):\n",
    "#     print(i)\n",
    "    print(list1[i][i+1]['category'])\n",
    "\n",
    "#     print(list1[i][i+1])"
   ]
  },
  {
   "cell_type": "code",
   "execution_count": 7,
   "id": "62d47b58",
   "metadata": {},
   "outputs": [
    {
     "ename": "RuntimeError",
     "evalue": "asyncio.run() cannot be called from a running event loop",
     "output_type": "error",
     "traceback": [
      "\u001b[1;31m---------------------------------------------------------------------------\u001b[0m",
      "\u001b[1;31mRuntimeError\u001b[0m                              Traceback (most recent call last)",
      "Input \u001b[1;32mIn [7]\u001b[0m, in \u001b[0;36m<cell line: 7>\u001b[1;34m()\u001b[0m\n\u001b[0;32m      4\u001b[0m     \u001b[38;5;28;01mawait\u001b[39;00m asyncio\u001b[38;5;241m.\u001b[39msleep()\n\u001b[0;32m      5\u001b[0m     \u001b[38;5;28mprint\u001b[39m(\u001b[38;5;124m'\u001b[39m\u001b[38;5;124m...World\u001b[39m\u001b[38;5;124m'\u001b[39m)\n\u001b[1;32m----> 7\u001b[0m \u001b[43masyncio\u001b[49m\u001b[38;5;241;43m.\u001b[39;49m\u001b[43mrun\u001b[49m\u001b[43m(\u001b[49m\u001b[43mmain\u001b[49m\u001b[43m(\u001b[49m\u001b[43m)\u001b[49m\u001b[43m)\u001b[49m\n",
      "File \u001b[1;32m~\\AppData\\Local\\Programs\\Python\\Python310\\lib\\asyncio\\runners.py:33\u001b[0m, in \u001b[0;36mrun\u001b[1;34m(main, debug)\u001b[0m\n\u001b[0;32m      9\u001b[0m \u001b[38;5;124;03m\"\"\"Execute the coroutine and return the result.\u001b[39;00m\n\u001b[0;32m     10\u001b[0m \n\u001b[0;32m     11\u001b[0m \u001b[38;5;124;03mThis function runs the passed coroutine, taking care of\u001b[39;00m\n\u001b[1;32m   (...)\u001b[0m\n\u001b[0;32m     30\u001b[0m \u001b[38;5;124;03m    asyncio.run(main())\u001b[39;00m\n\u001b[0;32m     31\u001b[0m \u001b[38;5;124;03m\"\"\"\u001b[39;00m\n\u001b[0;32m     32\u001b[0m \u001b[38;5;28;01mif\u001b[39;00m events\u001b[38;5;241m.\u001b[39m_get_running_loop() \u001b[38;5;129;01mis\u001b[39;00m \u001b[38;5;129;01mnot\u001b[39;00m \u001b[38;5;28;01mNone\u001b[39;00m:\n\u001b[1;32m---> 33\u001b[0m     \u001b[38;5;28;01mraise\u001b[39;00m \u001b[38;5;167;01mRuntimeError\u001b[39;00m(\n\u001b[0;32m     34\u001b[0m         \u001b[38;5;124m\"\u001b[39m\u001b[38;5;124masyncio.run() cannot be called from a running event loop\u001b[39m\u001b[38;5;124m\"\u001b[39m)\n\u001b[0;32m     36\u001b[0m \u001b[38;5;28;01mif\u001b[39;00m \u001b[38;5;129;01mnot\u001b[39;00m coroutines\u001b[38;5;241m.\u001b[39miscoroutine(main):\n\u001b[0;32m     37\u001b[0m     \u001b[38;5;28;01mraise\u001b[39;00m \u001b[38;5;167;01mValueError\u001b[39;00m(\u001b[38;5;124m\"\u001b[39m\u001b[38;5;124ma coroutine was expected, got \u001b[39m\u001b[38;5;132;01m{!r}\u001b[39;00m\u001b[38;5;124m\"\u001b[39m\u001b[38;5;241m.\u001b[39mformat(main))\n",
      "\u001b[1;31mRuntimeError\u001b[0m: asyncio.run() cannot be called from a running event loop"
     ]
    }
   ],
   "source": [
    "import asyncio\n",
    "async def main():\n",
    "    print('Hello...')\n",
    "    await asyncio.sleep()\n",
    "    print('...World')\n",
    "    \n",
    "asyncio.run(main())"
   ]
  },
  {
   "cell_type": "code",
   "execution_count": 21,
   "id": "3ce7943a",
   "metadata": {},
   "outputs": [
    {
     "data": {
      "text/plain": [
       "'999'"
      ]
     },
     "execution_count": 21,
     "metadata": {},
     "output_type": "execute_result"
    }
   ],
   "source": [
    "a=['001','002','010','500', '1003', '099', '099', '700', '000', '000','998', '999','000']\n",
    "max(a)"
   ]
  },
  {
   "cell_type": "code",
   "execution_count": 27,
   "id": "385417e0",
   "metadata": {},
   "outputs": [],
   "source": [
    "data = [\n",
    "    {\"customer_list\":2, \"list_name\":\"c1\", \"name\":\"Anam\"},\n",
    "    {\"customer_list\":3, \"list_name\":\"c5\", \"name\":\"Nawaz\"},\n",
    "    {\"customer_list\":2, \"list_name\":\"c2\", \"name\":\"Junaid\"},\n",
    "    {\"customer_list\":3, \"list_name\":\"c6\", \"name\":\"Sufiyan\"},\n",
    "    {\"customer_list\":4, \"list_name\":\"c7\", \"name\":\"Bilal\"},\n",
    "    {\"customer_list\":5, \"list_name\":\"c8\", \"name\":\"Sarfraz\"}\n",
    "]"
   ]
  },
  {
   "cell_type": "code",
   "execution_count": 31,
   "id": "aa446d5e",
   "metadata": {},
   "outputs": [
    {
     "ename": "IndexError",
     "evalue": "list index out of range",
     "output_type": "error",
     "traceback": [
      "\u001b[1;31m---------------------------------------------------------------------------\u001b[0m",
      "\u001b[1;31mIndexError\u001b[0m                                Traceback (most recent call last)",
      "Input \u001b[1;32mIn [31]\u001b[0m, in \u001b[0;36m<cell line: 4>\u001b[1;34m()\u001b[0m\n\u001b[0;32m      7\u001b[0m             dup_data\u001b[38;5;241m.\u001b[39mappend(data[i])\n\u001b[0;32m      8\u001b[0m         \u001b[38;5;28;01melse\u001b[39;00m:\n\u001b[1;32m----> 9\u001b[0m             \u001b[38;5;28;01mif\u001b[39;00m data[i][\u001b[38;5;124m'\u001b[39m\u001b[38;5;124mcustomer_list\u001b[39m\u001b[38;5;124m'\u001b[39m] \u001b[38;5;129;01mnot\u001b[39;00m \u001b[38;5;129;01min\u001b[39;00m \u001b[43muniq_data\u001b[49m\u001b[43m[\u001b[49m\u001b[43mi\u001b[49m\u001b[43m]\u001b[49m\u001b[38;5;241m.\u001b[39mget[i][\u001b[38;5;124m'\u001b[39m\u001b[38;5;124mcustomer_list\u001b[39m\u001b[38;5;124m'\u001b[39m]:\n\u001b[0;32m     10\u001b[0m                 uniq_data\u001b[38;5;241m.\u001b[39mappend(data[i])\n\u001b[0;32m     11\u001b[0m \u001b[38;5;28mprint\u001b[39m(dup_data)\n",
      "\u001b[1;31mIndexError\u001b[0m: list index out of range"
     ]
    }
   ],
   "source": [
    "dup_data = []\n",
    "uniq_data = []\n",
    "\n",
    "for i in range(len(data)):\n",
    "    for j in range(i+1,len(data)):\n",
    "        if data[i]['customer_list'] == data[j][\"customer_list\"]:\n",
    "            dup_data.append(data[i])\n",
    "        else:\n",
    "            if data[i]['customer_list'] not in uniq_data[i].get[i]['customer_list']:\n",
    "                uniq_data.append(data[i])\n",
    "print(dup_data)\n",
    "#print(uniq_data)\n",
    "            "
   ]
  },
  {
   "cell_type": "code",
   "execution_count": 11,
   "id": "2bb7c11f",
   "metadata": {},
   "outputs": [
    {
     "name": "stdout",
     "output_type": "stream",
     "text": [
      "[{'Name': 'sarfraz'}, {'Name': 'ahmad'}]\n"
     ]
    }
   ],
   "source": [
    "a=[]\n",
    "a.append({'Name':'sarfraz'})\n",
    "a.append({'Name':'ahmad'})\n",
    "print(a)"
   ]
  },
  {
   "cell_type": "code",
   "execution_count": 26,
   "id": "86b1a65c",
   "metadata": {},
   "outputs": [
    {
     "ename": "AttributeError",
     "evalue": "'list' object has no attribute 'get'",
     "output_type": "error",
     "traceback": [
      "\u001b[1;31m---------------------------------------------------------------------------\u001b[0m",
      "\u001b[1;31mAttributeError\u001b[0m                            Traceback (most recent call last)",
      "Input \u001b[1;32mIn [26]\u001b[0m, in \u001b[0;36m<cell line: 11>\u001b[1;34m()\u001b[0m\n\u001b[0;32m     10\u001b[0m uniq \u001b[38;5;241m=\u001b[39m []\n\u001b[0;32m     11\u001b[0m \u001b[38;5;28;01mfor\u001b[39;00m i \u001b[38;5;129;01min\u001b[39;00m data:\n\u001b[1;32m---> 12\u001b[0m     \u001b[38;5;28;01mif\u001b[39;00m i[\u001b[38;5;124m'\u001b[39m\u001b[38;5;124mcustomer_list\u001b[39m\u001b[38;5;124m'\u001b[39m] \u001b[38;5;129;01mnot\u001b[39;00m \u001b[38;5;129;01min\u001b[39;00m \u001b[43muniq\u001b[49m\u001b[38;5;241;43m.\u001b[39;49m\u001b[43mget\u001b[49m(\u001b[38;5;124m'\u001b[39m\u001b[38;5;124mcustomer_list\u001b[39m\u001b[38;5;124m'\u001b[39m,\u001b[38;5;241m0\u001b[39m):\n\u001b[0;32m     13\u001b[0m         uniq\u001b[38;5;241m.\u001b[39mappend(i)\n\u001b[0;32m     15\u001b[0m \u001b[38;5;28mprint\u001b[39m(uniq)\n",
      "\u001b[1;31mAttributeError\u001b[0m: 'list' object has no attribute 'get'"
     ]
    }
   ],
   "source": [
    "data = [\n",
    "    {\"customer_list\":2, \"list_name\":\"c1\", \"name\":\"Anam\"},\n",
    "    {\"customer_list\":3, \"list_name\":\"c5\", \"name\":\"Nawaz\"},\n",
    "    {\"customer_list\":2, \"list_name\":\"c2\", \"name\":\"Junaid\"},\n",
    "    {\"customer_list\":3, \"list_name\":\"c6\", \"name\":\"Sufiyan\"},\n",
    "    {\"customer_list\":4, \"list_name\":\"c7\", \"name\":\"Bilal\"},\n",
    "    {\"customer_list\":5, \"list_name\":\"c8\", \"name\":\"Sarfraz\"}\n",
    "]\n",
    "\n",
    "uniq = []\n",
    "for i in data:\n",
    "    if i['customer_list'] not in uniq.get('customer_list',0):\n",
    "        uniq.append(i)\n",
    "        \n",
    "print(uniq)"
   ]
  },
  {
   "cell_type": "code",
   "execution_count": 21,
   "id": "b5f94855",
   "metadata": {},
   "outputs": [
    {
     "name": "stdout",
     "output_type": "stream",
     "text": [
      "None\n"
     ]
    }
   ],
   "source": [
    "a={}\n",
    "print(a.get('f'))"
   ]
  },
  {
   "cell_type": "code",
   "execution_count": 23,
   "id": "a3d24489",
   "metadata": {},
   "outputs": [
    {
     "name": "stdout",
     "output_type": "stream",
     "text": [
      "2\n",
      "3\n",
      "2\n",
      "3\n",
      "4\n",
      "5\n"
     ]
    }
   ],
   "source": [
    "data = [\n",
    "    {\"customer_list\":2, \"list_name\":\"c1\", \"name\":\"Anam\"},\n",
    "    {\"customer_list\":3, \"list_name\":\"c5\", \"name\":\"Nawaz\"},\n",
    "    {\"customer_list\":2, \"list_name\":\"c2\", \"name\":\"Junaid\"},\n",
    "    {\"customer_list\":3, \"list_name\":\"c6\", \"name\":\"Sufiyan\"},\n",
    "    {\"customer_list\":4, \"list_name\":\"c7\", \"name\":\"Bilal\"},\n",
    "    {\"customer_list\":5, \"list_name\":\"c8\", \"name\":\"Sarfraz\"}\n",
    "]\n",
    "for i in data:\n",
    "    print(i['customer_list'])"
   ]
  },
  {
   "cell_type": "code",
   "execution_count": null,
   "id": "f2343b1b",
   "metadata": {},
   "outputs": [],
   "source": [
    "Input: l1 = [2,4,3], l2 = [5,6,4]\n",
    "Output: [7,0,8]\n",
    "Explanation: 342 + 465 = 807."
   ]
  },
  {
   "cell_type": "code",
   "execution_count": 13,
   "id": "006c8910",
   "metadata": {},
   "outputs": [
    {
     "name": "stdout",
     "output_type": "stream",
     "text": [
      "[7, 0, 8]\n"
     ]
    }
   ],
   "source": [
    "l1 = [2,4,3]\n",
    "l2 = [5,6,4]\n",
    "l3 = ''\n",
    "l4 = ''\n",
    "for i in reversed(l1):\n",
    "    l3 += str(i)\n",
    "for i in reversed(l2):\n",
    "    l4 += str(i)\n",
    "\n",
    "l5 = int(l3) + int(l4)\n",
    "\n",
    "l6 = []\n",
    "for i in reversed(str(l5)):\n",
    "    l6.append(int(i))\n",
    "print(l6)\n",
    "\n",
    "\n"
   ]
  },
  {
   "cell_type": "code",
   "execution_count": null,
   "id": "a0304c60",
   "metadata": {},
   "outputs": [],
   "source": []
  }
 ],
 "metadata": {
  "kernelspec": {
   "display_name": "Python 3 (ipykernel)",
   "language": "python",
   "name": "python3"
  },
  "language_info": {
   "codemirror_mode": {
    "name": "ipython",
    "version": 3
   },
   "file_extension": ".py",
   "mimetype": "text/x-python",
   "name": "python",
   "nbconvert_exporter": "python",
   "pygments_lexer": "ipython3",
   "version": "3.10.4"
  },
  "vscode": {
   "interpreter": {
    "hash": "49335d64aae0e614fc472b3f2b7d16e8038532c55ba6e230023d24a1fbad0e69"
   }
  }
 },
 "nbformat": 4,
 "nbformat_minor": 5
}
