{
 "cells": [
  {
   "cell_type": "code",
   "execution_count": 2,
   "id": "2a836c2e",
   "metadata": {},
   "outputs": [
    {
     "name": "stdout",
     "output_type": "stream",
     "text": [
      "GIMROPNHY\n"
     ]
    }
   ],
   "source": [
    "s = 'PYTHON PROGRAMMING'\n",
    "print(s[::-2])"
   ]
  },
  {
   "cell_type": "code",
   "execution_count": 25,
   "id": "ea0dfaf2",
   "metadata": {},
   "outputs": [
    {
     "name": "stdout",
     "output_type": "stream",
     "text": [
      "['abc', 'pqr', '\"xyz', 'tpq\"', 'syz']\n",
      "0\n",
      "1\n",
      "2\n",
      "3\n",
      "4\n"
     ]
    }
   ],
   "source": [
    "s = 'abc pqr \"xyz tpq\" syz'\n",
    "\n",
    "str1 = ''\n",
    "list1 = s.split()\n",
    "print(list1)\n",
    "\n",
    "for i in range(len(list1)):\n",
    "    if '\"' in list1[i]:\n",
    "        list1[i] +\n",
    "    \n",
    "    "
   ]
  },
  {
   "cell_type": "code",
   "execution_count": 3,
   "id": "96404abb",
   "metadata": {},
   "outputs": [
    {
     "name": "stdout",
     "output_type": "stream",
     "text": [
      "abc\n",
      "pqr\n",
      "\"xyz tpq\"\n",
      "syz\n",
      "\"mpl saq ddda\"\n",
      "pqr\n"
     ]
    }
   ],
   "source": [
    "def decodeToken(string):\n",
    "    lst=[]\n",
    "    token=\"\"\n",
    "    flag=False\n",
    "    count=2\n",
    "    for char in string:\n",
    "        if char=='\"' and count:\n",
    "            count-=1\n",
    "            token+=char\n",
    "            flag=True\n",
    "            if not count:\n",
    "                lst.append(token)\n",
    "                token=\"\"\n",
    "                count=2\n",
    "                flag=False\n",
    "        elif char==\" \" and flag==False and token:\n",
    "            lst.append(token)\n",
    "            token=\"\"\n",
    "        else:\n",
    "            if char==\" \" and flag==False:\n",
    "                continue\n",
    "            token+=char\n",
    "    # print(lst)\n",
    "    lst.append(token)\n",
    "    return lst\n",
    "\n",
    "string='abc pqr \"xyz tpq\" syz \"mpl saq ddda\" pqr'\n",
    "\n",
    "out=decodeToken(string)\n",
    "\n",
    "for i in out:\n",
    "    print(i)"
   ]
  },
  {
   "cell_type": "code",
   "execution_count": 1,
   "id": "203f0684",
   "metadata": {},
   "outputs": [
    {
     "name": "stdout",
     "output_type": "stream",
     "text": [
      "['ahmad']\n"
     ]
    }
   ],
   "source": [
    "a='ahmad'\n",
    "\n",
    "list1=[]\n",
    "list1.append(a)\n",
    "print(list1)"
   ]
  },
  {
   "cell_type": "code",
   "execution_count": 38,
   "id": "325bbbb4",
   "metadata": {},
   "outputs": [
    {
     "data": {
      "text/plain": [
       "{1: {'name': 'Clean car'},\n",
       " 2: {'name': 'Write blog'},\n",
       " 3: {'name': 'Start stream'},\n",
       " 4: {'name': 'Suhail'},\n",
       " 5: {'name': 'Sadik'}}"
      ]
     },
     "execution_count": 38,
     "metadata": {},
     "output_type": "execute_result"
    }
   ],
   "source": [
    "fakeDatabase = {\n",
    "    1:{'name':'Clean car'},\n",
    "    2:{'name':'Write blog'},\n",
    "    3:{'name':'Start stream'},\n",
    "}\n",
    "\n",
    "def post(data):\n",
    "        itemId = len(fakeDatabase.keys()) + 1\n",
    "        fakeDatabase[itemId] = {'name':data['name']}\n",
    "        return fakeDatabase\n",
    "    \n",
    "post({'name':'Suhail'})\n",
    "post({'name':'Sadik'}) "
   ]
  },
  {
   "cell_type": "code",
   "execution_count": 2,
   "id": "ac1a21dc",
   "metadata": {},
   "outputs": [
    {
     "name": "stdout",
     "output_type": "stream",
     "text": [
      "{'faisal': 35}\n"
     ]
    }
   ],
   "source": [
    "dic1 = {'sarfraz':30, 'sadik':22, 'faisal':35, 'junaid':23}\n",
    "max1= 0\n",
    "dic3 = ''\n",
    "for i in dic1:\n",
    "    \n",
    "    dic2 = dic1[i]\n",
    "    if dic2 > max1:\n",
    "        max1 =dic2\n",
    "        dic3 = i\n",
    "print({dic3:max1})\n",
    "            "
   ]
  },
  {
   "cell_type": "code",
   "execution_count": 34,
   "id": "d6f26d3c",
   "metadata": {},
   "outputs": [
    {
     "name": "stdout",
     "output_type": "stream",
     "text": [
      "{'sarfraz': 31}\n"
     ]
    }
   ],
   "source": [
    "dic1 = {'sarfraz':31, 'junaid':22, 'ali':40, 'ashraf':21, 'khalid':26}\n",
    "\n",
    "list1=list(dic1.values())\n",
    "list1.sort(reverse=True)\n",
    "list2=[list1[1]]\n",
    "\n",
    "dic2={}\n",
    "for i in list2:\n",
    "    for j in dic1.keys():\n",
    "        if dic1[j]==i:\n",
    "            dic2.update({j:dic1[j]})\n",
    "print(dic2)"
   ]
  },
  {
   "cell_type": "code",
   "execution_count": 15,
   "id": "d9f55a82",
   "metadata": {},
   "outputs": [
    {
     "name": "stdout",
     "output_type": "stream",
     "text": [
      "basicpython\n",
      "fullstack\n"
     ]
    }
   ],
   "source": [
    "dic1 = {\n",
    "    1:{'name':'idrisi', 'category':'basicpython', 'phone':970222},\n",
    "    2:{'name':'shahnawaz', 'category':'fullstack', 'phone':972324}\n",
    "}\n",
    "for i in dic1:\n",
    "    print(dic1[i]['category'])"
   ]
  },
  {
   "cell_type": "code",
   "execution_count": 33,
   "id": "7c0ca586",
   "metadata": {},
   "outputs": [
    {
     "name": "stdout",
     "output_type": "stream",
     "text": [
      "basicpython\n",
      "fullstack\n"
     ]
    }
   ],
   "source": [
    "list1 = [\n",
    "   \n",
    "    {1:{'name':'idrisi', 'category':'basicpython', 'phone':970222}},\n",
    "    {2:{'name':'shahnawaz', 'category':'fullstack', 'phone':972324}}\n",
    " \n",
    "]\n",
    "\n",
    "for i in range(len(list1)):\n",
    "    print(list1[i][i+1]['category'])"
   ]
  },
  {
   "cell_type": "code",
   "execution_count": null,
   "id": "cc23c9cd",
   "metadata": {},
   "outputs": [],
   "source": []
  }
 ],
 "metadata": {
  "kernelspec": {
   "display_name": "Python 3 (ipykernel)",
   "language": "python",
   "name": "python3"
  },
  "language_info": {
   "codemirror_mode": {
    "name": "ipython",
    "version": 3
   },
   "file_extension": ".py",
   "mimetype": "text/x-python",
   "name": "python",
   "nbconvert_exporter": "python",
   "pygments_lexer": "ipython3",
   "version": "3.10.4"
  },
  "vscode": {
   "interpreter": {
    "hash": "49335d64aae0e614fc472b3f2b7d16e8038532c55ba6e230023d24a1fbad0e69"
   }
  }
 },
 "nbformat": 4,
 "nbformat_minor": 5
}
