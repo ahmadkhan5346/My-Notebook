{
 "cells": [
  {
   "cell_type": "code",
   "execution_count": 53,
   "id": "51601e18",
   "metadata": {},
   "outputs": [
    {
     "name": "stdout",
     "output_type": "stream",
     "text": [
      "AMSsaahlrrifarfaz\n"
     ]
    }
   ],
   "source": [
    "a = \"Ashraf\"\n",
    "b = \"Mali\"\n",
    "c = \"Sarfraz\"\n",
    "d=\"\"\n",
    "size=len(a) if len(a)>len(b) and len(b) > len(c) else len(c)   #Ternary Operator\n",
    "\n",
    "for i in range(size):\n",
    "#     print(i)\n",
    "    if i<len(a):\n",
    "        d+=a[i]\n",
    "        \n",
    "    if i<len(b):\n",
    "        d+=b[i]\n",
    "        \n",
    "    if i < len(c):\n",
    "        d += c[i]\n",
    "    \n",
    "print(d)"
   ]
  },
  {
   "cell_type": "code",
   "execution_count": 42,
   "id": "0d2655e4",
   "metadata": {},
   "outputs": [
    {
     "name": "stdout",
     "output_type": "stream",
     "text": [
      "[5, 3, 7, 4]\n"
     ]
    }
   ],
   "source": [
    "lst = [5,8,15,19]\n",
    "print([lst[0]] + [x-y for x, y in zip(lst[1:], lst[:-1])])"
   ]
  },
  {
   "cell_type": "code",
   "execution_count": 10,
   "id": "7fb178d2",
   "metadata": {},
   "outputs": [
    {
     "name": "stdout",
     "output_type": "stream",
     "text": [
      "1 2 3 4\n",
      "[1, 8, 27, 64]\n"
     ]
    }
   ],
   "source": [
    "def multiadd(x):\n",
    "    return x*x*x\n",
    "\n",
    "list1 = list(map(int, input().strip().split()))\n",
    "\n",
    "a = list(map(multiadd, list1))\n",
    "print(list(a))"
   ]
  },
  {
   "cell_type": "code",
   "execution_count": 43,
   "id": "1bf7f1d8",
   "metadata": {},
   "outputs": [
    {
     "name": "stdout",
     "output_type": "stream",
     "text": [
      "ac\n",
      "ad\n",
      "bc\n",
      "bd\n"
     ]
    }
   ],
   "source": [
    "dic1 = {'1':['a', 'b'], '2':['c', 'd']}\n",
    "for i in dic1['1']:\n",
    "    for j in dic1['2']:\n",
    "        print(i+j)"
   ]
  },
  {
   "cell_type": "code",
   "execution_count": 42,
   "id": "0e2c9b9f",
   "metadata": {},
   "outputs": [
    {
     "name": "stdout",
     "output_type": "stream",
     "text": [
      "ac\n",
      "ad\n",
      "bc\n",
      "bd\n"
     ]
    }
   ],
   "source": [
    "dic2 = {'1':['a', 'b'], '2':['c', 'd']}\n",
    "a=[i+j for i in dic2['1'] for j in dic2['2']]\n",
    "for i in a:\n",
    "    print(i)"
   ]
  },
  {
   "cell_type": "code",
   "execution_count": 32,
   "id": "cdbb70db",
   "metadata": {},
   "outputs": [
    {
     "name": "stdout",
     "output_type": "stream",
     "text": [
      "ac\n",
      "ad\n",
      "bc\n",
      "bd\n"
     ]
    }
   ],
   "source": [
    "my_dict= {'1':['a', 'b'], '2':['c', 'd']}\n",
    "my_list= list(my_dict.values())\n",
    "for i in my_list[0]:\n",
    "    for j in my_list[1]:\n",
    "        print(i+j)"
   ]
  },
  {
   "cell_type": "code",
   "execution_count": 47,
   "id": "23b37f56",
   "metadata": {},
   "outputs": [
    {
     "name": "stdout",
     "output_type": "stream",
     "text": [
      "ac\n",
      "ad\n",
      "bc\n",
      "bd\n"
     ]
    }
   ],
   "source": [
    "from itertools import product\n",
    "\n",
    "d ={'1':['a','b'], '2':['c','d']}\n",
    "for x, y in product(*d.values()):\n",
    "    print(x + y)"
   ]
  },
  {
   "cell_type": "code",
   "execution_count": 51,
   "id": "6098cbd9",
   "metadata": {},
   "outputs": [
    {
     "name": "stdout",
     "output_type": "stream",
     "text": [
      "{'ali': 40, 'sarfraz': 31, 'khalid': 26}\n"
     ]
    }
   ],
   "source": [
    "dic1 = {'sarfraz':31, 'junaid':22, 'ali':40, 'ashraf':21, 'khalid':26}\n",
    "\n",
    "list1=list(dic1.values())\n",
    "list1.sort(reverse=True)\n",
    "list2=list1[:3]\n",
    "\n",
    "dic2={}\n",
    "for i in list2:\n",
    "    for j in dic1.keys():\n",
    "        if dic1[j]==i:\n",
    "            dic2.update({j:dic1[j]})\n",
    "print(dic2)"
   ]
  },
  {
   "cell_type": "code",
   "execution_count": 54,
   "id": "856712e5",
   "metadata": {},
   "outputs": [
    {
     "name": "stdout",
     "output_type": "stream",
     "text": [
      "{'item1': 1150, 'item2': 300}\n"
     ]
    }
   ],
   "source": [
    "my_dict=[{'item': 'item1', 'amount': 400}, {'item': 'item2', 'amount': 300}, {'item': 'item1', 'amount': 750}]\n",
    "# Expected Output: Counter({'item1': 1150, 'item2': 300})\n",
    "\n",
    "d={}\n",
    "for x in my_dict :\n",
    "    if x['item'] not in d :\n",
    "        d.update({x['item'] : x['amount']})\n",
    "        \n",
    "    else :\n",
    "        d[x['item']] = d[x['item']] + x['amount']\n",
    "print(d)"
   ]
  },
  {
   "cell_type": "code",
   "execution_count": 4,
   "id": "dbda40fe",
   "metadata": {},
   "outputs": [
    {
     "name": "stdout",
     "output_type": "stream",
     "text": [
      "{'item1': 1150, 'item2': 300}\n"
     ]
    }
   ],
   "source": [
    "my_dict=[{'item': 'item1', 'amount': 400}, {'item': 'item2', 'amount': 300}, {'item': 'item1', 'amount': 750}]\n",
    "# Expected Output: Counter({'item1': 1150, 'item2': 300})\n",
    "\n",
    "d={}\n",
    "for x in my_dict :\n",
    "#     print(x['amount'])\n",
    "    if x['item'] not in d :\n",
    "        d.update({x['item'] : x['amount']})\n",
    "        \n",
    "    else :\n",
    "        d[x['item']] += x['amount']\n",
    "print(d)"
   ]
  },
  {
   "cell_type": "code",
   "execution_count": 5,
   "id": "0aa0b88b",
   "metadata": {},
   "outputs": [
    {
     "name": "stdout",
     "output_type": "stream",
     "text": [
      "{'num': 109}\n"
     ]
    }
   ],
   "source": [
    "a = {}\n",
    "a['num']=100\n",
    "a['num']+=9\n",
    "print(a)"
   ]
  },
  {
   "cell_type": "code",
   "execution_count": null,
   "id": "6c0c7e53",
   "metadata": {},
   "outputs": [],
   "source": [
    "nputs= ['aqm', 'technologies', 'ghatkopar']"
   ]
  },
  {
   "cell_type": "code",
   "execution_count": null,
   "id": "1d26d64f",
   "metadata": {},
   "outputs": [],
   "source": []
  },
  {
   "cell_type": "code",
   "execution_count": null,
   "id": "73a04fc7",
   "metadata": {},
   "outputs": [],
   "source": []
  },
  {
   "cell_type": "code",
   "execution_count": 34,
   "id": "e96eb47b",
   "metadata": {},
   "outputs": [
    {
     "name": "stdout",
     "output_type": "stream",
     "text": [
      "2\n",
      "6\n",
      "12\n"
     ]
    }
   ],
   "source": [
    "lst = [1,2,3,4]\n",
    "a=list(zip(lst[1:], lst[:-1]))\n",
    "b=[]\n",
    "for i in a:\n",
    "    print(i[0]*i[1])"
   ]
  },
  {
   "cell_type": "code",
   "execution_count": 25,
   "id": "e1305b8a",
   "metadata": {},
   "outputs": [
    {
     "name": "stdout",
     "output_type": "stream",
     "text": [
      "6\n",
      "8\n",
      "12\n"
     ]
    }
   ],
   "source": [
    "lst = [1,2,3,4]\n",
    "for i in range(1,len(lst)):\n",
    "    for j in range(i+1, len(lst)):\n",
    "        print(lst[i]*lst[j])"
   ]
  },
  {
   "cell_type": "code",
   "execution_count": 47,
   "id": "88f24a0c",
   "metadata": {},
   "outputs": [
    {
     "name": "stdout",
     "output_type": "stream",
     "text": [
      "[24, 12, 8, 6]\n"
     ]
    }
   ],
   "source": [
    "lst = [1,2,3,4]    #output=[24, 12, 8, 6]\n",
    "list1=[]\n",
    "mul=1\n",
    "for idx1 in range(len(lst)):\n",
    "    for idx2 in range(len(lst)):\n",
    "        if idx1!=idx2:\n",
    "            mul*=lst[idx2]\n",
    "    list1.append(mul)\n",
    "    mul=1\n",
    "print(list1)"
   ]
  },
  {
   "cell_type": "code",
   "execution_count": 37,
   "id": "d0f3f908",
   "metadata": {},
   "outputs": [
    {
     "name": "stdout",
     "output_type": "stream",
     "text": [
      "1 2\n",
      "134\n"
     ]
    }
   ],
   "source": [
    "x,y='12'\n",
    "print(x,y)\n",
    "y,z='34'\n",
    "print(x+y+z)"
   ]
  },
  {
   "cell_type": "code",
   "execution_count": 45,
   "id": "679e6701",
   "metadata": {},
   "outputs": [
    {
     "name": "stdout",
     "output_type": "stream",
     "text": [
      "1 2\n"
     ]
    }
   ],
   "source": [
    "a,b='12'\n",
    "print(a,b)"
   ]
  },
  {
   "cell_type": "code",
   "execution_count": 69,
   "id": "225e2521",
   "metadata": {},
   "outputs": [
    {
     "name": "stdout",
     "output_type": "stream",
     "text": [
      "[True, False, False, False, False]\n"
     ]
    }
   ],
   "source": [
    "lst1 = [4,2,1,1,2]\n",
    "lst2=[]\n",
    "n=1\n",
    "for i in lst1:\n",
    "    for j in lst1:\n",
    "        if i+n >= j:\n",
    "            var=True\n",
    "        else:\n",
    "            var=False\n",
    "            break\n",
    "    lst2.append(var)\n",
    "print(lst2)"
   ]
  },
  {
   "cell_type": "code",
   "execution_count": 22,
   "id": "183839fd",
   "metadata": {},
   "outputs": [
    {
     "name": "stdout",
     "output_type": "stream",
     "text": [
      "aaqmaaa\n"
     ]
    }
   ],
   "source": [
    "lst1= ['aqm', 'aaqmaaa', 'aaqma', 'aaqmaa', 'asd']\n",
    "a = 'aeiou'\n",
    "\n",
    "max_vowel = \"\"\n",
    "max_len = 0\n",
    "for element in lst1:\n",
    "    vowel=len([j for j in element if j in a])\n",
    "    if vowel > max_len:\n",
    "        max_len = vowel\n",
    "        max_vowel = element\n",
    "print(max_vowel)"
   ]
  },
  {
   "cell_type": "code",
   "execution_count": 11,
   "id": "fade401c",
   "metadata": {},
   "outputs": [
    {
     "name": "stdout",
     "output_type": "stream",
     "text": [
      "1\n",
      "5\n",
      "8\n",
      "4\n"
     ]
    }
   ],
   "source": [
    "lst1= ['aqm', 'technologies', 'ghatkoooooopar', 'pythonprogramming']\n",
    "a = 'aeiou'\n",
    "\n",
    "for element in lst1:\n",
    "    vowel=len([j for j in element if j in a])\n",
    "    print(vowel)\n"
   ]
  },
  {
   "cell_type": "code",
   "execution_count": 28,
   "id": "f7ae4c4b",
   "metadata": {},
   "outputs": [
    {
     "name": "stdout",
     "output_type": "stream",
     "text": [
      "1\n",
      "1\n",
      "1\n",
      "0\n",
      "1\n",
      "1\n",
      "1\n",
      "1\n",
      "2\n",
      "2\n",
      "3\n",
      "3\n",
      "4\n",
      "5\n",
      "5\n",
      "0\n",
      "0\n",
      "1\n",
      "1\n",
      "1\n",
      "2\n",
      "3\n",
      "4\n",
      "5\n",
      "6\n",
      "7\n",
      "7\n",
      "8\n",
      "8\n",
      "0\n",
      "0\n",
      "0\n",
      "0\n",
      "1\n",
      "1\n",
      "1\n",
      "1\n",
      "2\n",
      "2\n",
      "2\n",
      "3\n",
      "3\n",
      "3\n",
      "4\n",
      "4\n",
      "4\n"
     ]
    }
   ],
   "source": [
    "lst1= ['aqm', 'technologies', 'ghatkoooooopar', 'pythonprogramming']\n",
    "a = 'aeiou'\n",
    "\n",
    "word =\"\"\n",
    "for element in lst1:\n",
    "    b=[]\n",
    "    for j in element:\n",
    "        if j in a:\n",
    "            b.append(j)\n",
    "        print(len(b))"
   ]
  },
  {
   "cell_type": "code",
   "execution_count": 12,
   "id": "67f2da90",
   "metadata": {},
   "outputs": [
    {
     "name": "stdout",
     "output_type": "stream",
     "text": [
      "{'sarfraz': 30, 'junaid': 25}\n"
     ]
    }
   ],
   "source": [
    "a = {'sarfraz':30, 'junaid':22}\n",
    "a.update({'junaid':25})\n",
    "print(a)\n"
   ]
  },
  {
   "cell_type": "code",
   "execution_count": 17,
   "id": "96312474",
   "metadata": {},
   "outputs": [
    {
     "name": "stdout",
     "output_type": "stream",
     "text": [
      "{'student': {'name': 'haris'}, 'course': {'language': 'python'}}\n"
     ]
    }
   ],
   "source": [
    "a={}\n",
    "b = {\"name\":'haris'}\n",
    "c = {'language':'python'}\n",
    "a.update({'student':b, 'course':c})\n",
    "print(a)"
   ]
  },
  {
   "cell_type": "code",
   "execution_count": 37,
   "id": "efc96aac",
   "metadata": {},
   "outputs": [
    {
     "name": "stdout",
     "output_type": "stream",
     "text": [
      "{'student': {'name': 'sarfraz', 'Age': 30}, 'course': {'language': 'python', 'virson': 3.1}, 'Address': {'city': 'mumbai', 'state': 'maharashtra', 'pincode': '400070'}}\n"
     ]
    }
   ],
   "source": [
    "a = {'student':{}, 'course':{}, 'Address':{} }\n",
    "a['student']={'name':'sarfraz', 'Age':30}\n",
    "a['course'].update({'language':'python', 'virson':3.10})\n",
    "a['Address']={'city':'mumbai', 'state':'maharashtra', 'pincode':'400070'}\n",
    "print(a)"
   ]
  },
  {
   "cell_type": "code",
   "execution_count": 48,
   "id": "a7a424c3",
   "metadata": {},
   "outputs": [
    {
     "data": {
      "text/plain": [
       "'sarfraz'"
      ]
     },
     "execution_count": 48,
     "metadata": {},
     "output_type": "execute_result"
    }
   ],
   "source": [
    "a['student']['name']"
   ]
  },
  {
   "cell_type": "code",
   "execution_count": 8,
   "id": "0d179130",
   "metadata": {},
   "outputs": [
    {
     "name": "stdout",
     "output_type": "stream",
     "text": [
      "('name', 'sarfraz')\n",
      "('Age', 30)\n",
      "('language', 'python')\n",
      "('virson', 3.1)\n",
      "('city', 'mumbai')\n",
      "('state', 'maharashtra')\n",
      "('pincode', '400070')\n"
     ]
    }
   ],
   "source": [
    "dic1={'student': {'name':'sarfraz', 'Age': 30}, 'course': {'language': 'python', 'virson': 3.1}, 'Address': {'city': 'mumbai', 'state': 'maharashtra', 'pincode': '400070'}}\n",
    "for i in dic1.values():\n",
    "    for j in i.items():\n",
    "        print(j)\n",
    "#         print(j[0], j[1])"
   ]
  },
  {
   "cell_type": "code",
   "execution_count": 8,
   "id": "813e1e63",
   "metadata": {},
   "outputs": [
    {
     "name": "stdout",
     "output_type": "stream",
     "text": [
      "name sarfraz\n",
      "Age 30\n",
      "language python\n",
      "virson 3.1\n",
      "city mumbai\n",
      "state maharashtra\n",
      "pincode 400070\n"
     ]
    }
   ],
   "source": [
    "dic1={'student': {'name':'sarfraz', 'Age': 30}, 'course': {'language': 'python', 'virson': 3.1}, 'Address': {'city': 'mumbai', 'state': 'maharashtra', 'pincode': '400070'}}\n",
    "\n",
    "for i in dic1:\n",
    "    for j in dic1[i]:\n",
    "        print(j , dic1[i][j])"
   ]
  },
  {
   "cell_type": "code",
   "execution_count": 3,
   "id": "8d73fc0a",
   "metadata": {},
   "outputs": [
    {
     "name": "stdout",
     "output_type": "stream",
     "text": [
      "A3B2C3D1A2\n"
     ]
    }
   ],
   "source": [
    "def process_string(source):\n",
    "    new = ''\n",
    "    while source:\n",
    "        counter = 0\n",
    "        first_char = source[0]\n",
    "        while source and source[0] == first_char:\n",
    "            counter += 1\n",
    "            source = source[1:]\n",
    "        new += f'{first_char}{counter}'\n",
    "    return new\n",
    "\n",
    "str1='AAABBCCCDAA'    \n",
    "print(process_string(str1))"
   ]
  },
  {
   "cell_type": "code",
   "execution_count": 21,
   "id": "24eb4089",
   "metadata": {},
   "outputs": [
    {
     "name": "stdout",
     "output_type": "stream",
     "text": [
      "a2b2c2a1\n"
     ]
    }
   ],
   "source": [
    "s = 'aabbcca'\n",
    "out = ''\n",
    "c = 1\n",
    "for i in range(len(s)):\n",
    "    if i < len(s)-1 and s[i] == s[i+1]:\n",
    "        c += 1\n",
    "    else:\n",
    "        out += s[i] + str(c)\n",
    "        c = 1\n",
    "print(out)\n"
   ]
  },
  {
   "cell_type": "code",
   "execution_count": 37,
   "id": "940db9ab",
   "metadata": {},
   "outputs": [
    {
     "name": "stdout",
     "output_type": "stream",
     "text": [
      "3\n",
      "3\n",
      "2\n",
      "1\n",
      "2\n",
      "1\n",
      "1\n"
     ]
    }
   ],
   "source": [
    "list1 = [11,12,11,11,12,12,2]\n",
    "\n",
    "for i in range(len(list1)):\n",
    "    count=0\n",
    "    for j in range(i,len(list1)):\n",
    "        if list1[i] == list1[j]:\n",
    "            count+=1\n",
    "    print(count)       "
   ]
  },
  {
   "cell_type": "code",
   "execution_count": 11,
   "id": "2c6a11d6",
   "metadata": {},
   "outputs": [
    {
     "name": "stdout",
     "output_type": "stream",
     "text": [
      "[{'name': 'raja', 'amount': 9408.23}, {'name': 'Vini', 'amount': '2345'}, {'name': 'raja', 'amount': 2354.9}, {'name': 'raja', 'amount': '2354.33'}]\n"
     ]
    }
   ],
   "source": [
    "dic = [{\"name\":\"raja\",\"amount\":2354},{\"name\":\"Vini\",\"amount\":\"2345\"},\n",
    " {\"name\":\"raja\",\"amount\":2354.90},{\"name\":\"raja\",\"amount\":\"2354.33\"}]\n",
    "b = []\n",
    "e = {}\n",
    "for i in dic:\n",
    "    b.append(float(i[\"amount\"])) \n",
    "c = (dic[0])\n",
    "dic[0]['amount']=sum(b)\n",
    "print(dic)        "
   ]
  },
  {
   "cell_type": "code",
   "execution_count": 19,
   "id": "4b7e2a43",
   "metadata": {},
   "outputs": [
    {
     "name": "stdout",
     "output_type": "stream",
     "text": [
      "n1 [2, 3, 1]\n",
      "n2 [5, 1, 2]\n",
      "n [3, 2, 4]\n"
     ]
    }
   ],
   "source": [
    "dic = {'n1':[2,3,1], 'n2':[5,1,2], 'n':[3,2,4]}\n",
    "for i, j in dic.items():\n",
    "    print(i,j)"
   ]
  },
  {
   "cell_type": "code",
   "execution_count": 20,
   "id": "c59fe5e4",
   "metadata": {},
   "outputs": [
    {
     "name": "stdout",
     "output_type": "stream",
     "text": [
      "even\n",
      "ODD\n",
      "even\n",
      "ODD\n"
     ]
    }
   ],
   "source": [
    "a = [1,2,3,4]\n",
    "for x in a:\n",
    "    if (x%2)==0:\n",
    "        print(\"ODD\")\n",
    "    else:\n",
    "        print(\"even\")"
   ]
  },
  {
   "cell_type": "code",
   "execution_count": null,
   "id": "6a0adbd2",
   "metadata": {},
   "outputs": [],
   "source": []
  }
 ],
 "metadata": {
  "kernelspec": {
   "display_name": "Python 3 (ipykernel)",
   "language": "python",
   "name": "python3"
  },
  "language_info": {
   "codemirror_mode": {
    "name": "ipython",
    "version": 3
   },
   "file_extension": ".py",
   "mimetype": "text/x-python",
   "name": "python",
   "nbconvert_exporter": "python",
   "pygments_lexer": "ipython3",
   "version": "3.10.4"
  },
  "vscode": {
   "interpreter": {
    "hash": "49335d64aae0e614fc472b3f2b7d16e8038532c55ba6e230023d24a1fbad0e69"
   }
  }
 },
 "nbformat": 4,
 "nbformat_minor": 5
}
