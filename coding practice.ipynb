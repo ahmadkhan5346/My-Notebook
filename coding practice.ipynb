{
 "cells": [
  {
   "cell_type": "code",
   "execution_count": 15,
   "id": "d9f55a82",
   "metadata": {},
   "outputs": [
    {
     "name": "stdout",
     "output_type": "stream",
     "text": [
      "basicpython\n",
      "fullstack\n"
     ]
    }
   ],
   "source": [
    "dic1 = {\n",
    "    1:{'name':'idrisi', 'category':'basicpython', 'phone':970222},\n",
    "    2:{'name':'shahnawaz', 'category':'fullstack', 'phone':972324}\n",
    "}\n",
    "for i in dic1:\n",
    "    print(dic1[i]['category'])"
   ]
  },
  {
   "cell_type": "code",
   "execution_count": 10,
   "id": "7c0ca586",
   "metadata": {},
   "outputs": [
    {
     "name": "stdout",
     "output_type": "stream",
     "text": [
      "basicpython\n",
      "fullstack\n"
     ]
    }
   ],
   "source": [
    "list1 = [\n",
    "   \n",
    "    {1:{'name':'idrisi', 'category':'basicpython', 'phone':970222}},\n",
    "    {2:{'name':'shahnawaz', 'category':'fullstack', 'phone':972324}}\n",
    " \n",
    "]\n",
    "\n",
    "for i in range(len(list1)):\n",
    "#     print(i)\n",
    "    print(list1[i][i+1]['category'])\n",
    "\n",
    "#     print(list1[i][i+1])"
   ]
  },
  {
   "cell_type": "code",
   "execution_count": 1,
   "id": "a615d740",
   "metadata": {},
   "outputs": [
    {
     "name": "stdout",
     "output_type": "stream",
     "text": [
      "FF2324\n",
      "FF2223\n"
     ]
    }
   ],
   "source": [
    "count=0\n",
    "\n",
    "def uniqueId(date):\n",
    "    if int(date[5:7])>6:\n",
    "        return \"FF\"+date[2:4]+str(int(date[2:4])+1)\n",
    "    else:\n",
    "        return \"FF\"+str(int(date[2:4])-1)+date[2:4]\n",
    "date=\"2023-07-11\"\n",
    "print(uniqueId(date))\n",
    "\n",
    "date=\"2023-02-11\"\n",
    "print(uniqueId(date))"
   ]
  },
  {
   "cell_type": "code",
   "execution_count": 7,
   "id": "62d47b58",
   "metadata": {},
   "outputs": [
    {
     "ename": "RuntimeError",
     "evalue": "asyncio.run() cannot be called from a running event loop",
     "output_type": "error",
     "traceback": [
      "\u001b[1;31m---------------------------------------------------------------------------\u001b[0m",
      "\u001b[1;31mRuntimeError\u001b[0m                              Traceback (most recent call last)",
      "Input \u001b[1;32mIn [7]\u001b[0m, in \u001b[0;36m<cell line: 7>\u001b[1;34m()\u001b[0m\n\u001b[0;32m      4\u001b[0m     \u001b[38;5;28;01mawait\u001b[39;00m asyncio\u001b[38;5;241m.\u001b[39msleep()\n\u001b[0;32m      5\u001b[0m     \u001b[38;5;28mprint\u001b[39m(\u001b[38;5;124m'\u001b[39m\u001b[38;5;124m...World\u001b[39m\u001b[38;5;124m'\u001b[39m)\n\u001b[1;32m----> 7\u001b[0m \u001b[43masyncio\u001b[49m\u001b[38;5;241;43m.\u001b[39;49m\u001b[43mrun\u001b[49m\u001b[43m(\u001b[49m\u001b[43mmain\u001b[49m\u001b[43m(\u001b[49m\u001b[43m)\u001b[49m\u001b[43m)\u001b[49m\n",
      "File \u001b[1;32m~\\AppData\\Local\\Programs\\Python\\Python310\\lib\\asyncio\\runners.py:33\u001b[0m, in \u001b[0;36mrun\u001b[1;34m(main, debug)\u001b[0m\n\u001b[0;32m      9\u001b[0m \u001b[38;5;124;03m\"\"\"Execute the coroutine and return the result.\u001b[39;00m\n\u001b[0;32m     10\u001b[0m \n\u001b[0;32m     11\u001b[0m \u001b[38;5;124;03mThis function runs the passed coroutine, taking care of\u001b[39;00m\n\u001b[1;32m   (...)\u001b[0m\n\u001b[0;32m     30\u001b[0m \u001b[38;5;124;03m    asyncio.run(main())\u001b[39;00m\n\u001b[0;32m     31\u001b[0m \u001b[38;5;124;03m\"\"\"\u001b[39;00m\n\u001b[0;32m     32\u001b[0m \u001b[38;5;28;01mif\u001b[39;00m events\u001b[38;5;241m.\u001b[39m_get_running_loop() \u001b[38;5;129;01mis\u001b[39;00m \u001b[38;5;129;01mnot\u001b[39;00m \u001b[38;5;28;01mNone\u001b[39;00m:\n\u001b[1;32m---> 33\u001b[0m     \u001b[38;5;28;01mraise\u001b[39;00m \u001b[38;5;167;01mRuntimeError\u001b[39;00m(\n\u001b[0;32m     34\u001b[0m         \u001b[38;5;124m\"\u001b[39m\u001b[38;5;124masyncio.run() cannot be called from a running event loop\u001b[39m\u001b[38;5;124m\"\u001b[39m)\n\u001b[0;32m     36\u001b[0m \u001b[38;5;28;01mif\u001b[39;00m \u001b[38;5;129;01mnot\u001b[39;00m coroutines\u001b[38;5;241m.\u001b[39miscoroutine(main):\n\u001b[0;32m     37\u001b[0m     \u001b[38;5;28;01mraise\u001b[39;00m \u001b[38;5;167;01mValueError\u001b[39;00m(\u001b[38;5;124m\"\u001b[39m\u001b[38;5;124ma coroutine was expected, got \u001b[39m\u001b[38;5;132;01m{!r}\u001b[39;00m\u001b[38;5;124m\"\u001b[39m\u001b[38;5;241m.\u001b[39mformat(main))\n",
      "\u001b[1;31mRuntimeError\u001b[0m: asyncio.run() cannot be called from a running event loop"
     ]
    }
   ],
   "source": [
    "import asyncio\n",
    "async def main():\n",
    "    print('Hello...')\n",
    "    await asyncio.sleep()\n",
    "    print('...World')\n",
    "    \n",
    "asyncio.run(main())"
   ]
  },
  {
   "cell_type": "code",
   "execution_count": 21,
   "id": "3ce7943a",
   "metadata": {},
   "outputs": [
    {
     "data": {
      "text/plain": [
       "'999'"
      ]
     },
     "execution_count": 21,
     "metadata": {},
     "output_type": "execute_result"
    }
   ],
   "source": [
    "a=['001','002','010','500', '1003', '099', '099', '700', '000', '000','998', '999','000']\n",
    "max(a)"
   ]
  },
  {
   "cell_type": "code",
   "execution_count": 4,
   "id": "9f02bbf2",
   "metadata": {},
   "outputs": [
    {
     "name": "stdout",
     "output_type": "stream",
     "text": [
      "1\n",
      "2\n",
      "3\n",
      "2\n",
      "3\n",
      "4\n",
      "4\n",
      "3\n",
      "5\n"
     ]
    }
   ],
   "source": [
    "b=[123, 234, 435]\n",
    "for i in b:\n",
    "    for j in str(i):\n",
    "        print(j)"
   ]
  },
  {
   "cell_type": "code",
   "execution_count": 19,
   "id": "f7e4e678",
   "metadata": {},
   "outputs": [
    {
     "name": "stdout",
     "output_type": "stream",
     "text": [
      "28\n"
     ]
    }
   ],
   "source": [
    "a=['sar123',1234, 'fraz321', 123]\n",
    "b=0\n",
    "for i in a:\n",
    "    for j in str(i):\n",
    "        if j.isnumeric():\n",
    "            b+=int(j)\n",
    "print(b)\n"
   ]
  },
  {
   "cell_type": "code",
   "execution_count": 9,
   "id": "507368b6",
   "metadata": {},
   "outputs": [
    {
     "name": "stdout",
     "output_type": "stream",
     "text": [
      "6\n"
     ]
    }
   ],
   "source": [
    "a='a1b2c3'\n",
    "d=0\n",
    "for i in a:\n",
    "    if i.isnumeric():\n",
    "        d+=int(i)\n",
    "print(d)\n",
    "        "
   ]
  },
  {
   "cell_type": "code",
   "execution_count": 5,
   "id": "49cac283",
   "metadata": {},
   "outputs": [
    {
     "name": "stdout",
     "output_type": "stream",
     "text": [
      "1 : 1\n",
      "2 : 2\n",
      "3 : 3\n",
      "4 : 2\n",
      "5 : 1\n",
      "6 : 3\n",
      "7 : 7\n",
      "8 : 6\n",
      "9 : 7\n",
      "10 : 6\n",
      "11 : 7\n",
      "12 : 6\n",
      "13 : 7\n",
      "14 : 5\n",
      "15 : 6\n",
      "16 : 7\n",
      "17 : 2\n",
      "18 : 1\n",
      "79\n"
     ]
    }
   ],
   "source": [
    "anc = [12,'asd32', 13, '767adad6767', 56, 'sds7sds', 21]\n",
    "z = 0\n",
    "y = 1\n",
    "for i in str(anc):\n",
    "#     print(i,end='')\n",
    "    if i.isdigit():\n",
    "        print(y,':',i)\n",
    "        y+=1\n",
    "        z = z+int(i)\n",
    "print(z) "
   ]
  },
  {
   "cell_type": "code",
   "execution_count": 1,
   "id": "fc18a5e6",
   "metadata": {},
   "outputs": [
    {
     "name": "stdout",
     "output_type": "stream",
     "text": [
      "14\n"
     ]
    }
   ],
   "source": [
    "a=['123kl', 11, 'g321d']\n",
    "z=0\n",
    "for i in str(a):\n",
    "    if i.isnumeric():\n",
    "        z+=int(i)\n",
    "print(z)"
   ]
  },
  {
   "cell_type": "code",
   "execution_count": 7,
   "id": "6fdff0b0",
   "metadata": {},
   "outputs": [
    {
     "name": "stdout",
     "output_type": "stream",
     "text": [
      "[123, 'kdhjf']\n",
      "[ 1 2 3 ,   ' k d h j f ' ] "
     ]
    }
   ],
   "source": [
    "a=[123,'kdhjf']\n",
    "print(str(a))\n",
    "for i in str(a):\n",
    "    print(i, end=' ')"
   ]
  },
  {
   "cell_type": "code",
   "execution_count": 5,
   "id": "01b5ccd6",
   "metadata": {},
   "outputs": [
    {
     "name": "stdout",
     "output_type": "stream",
     "text": [
      "2023-02-18\n"
     ]
    }
   ],
   "source": [
    "from datetime import datetime, date\n",
    "data = {\"date\":\"2023-02-15\"}\n",
    "\n",
    "start = datetime.strptime(str(\"2023-02-18\"), \"%Y-%m-%d\")\n",
    "print(start.strftime(\"%Y-%m-%d\"))"
   ]
  },
  {
   "cell_type": "code",
   "execution_count": 6,
   "id": "13377a70",
   "metadata": {},
   "outputs": [
    {
     "name": "stdout",
     "output_type": "stream",
     "text": [
      "2023-02-16\n",
      "2023-02-17\n",
      "2023-02-19\n",
      "2023-02-20\n",
      "2023-02-21\n",
      "2023-02-22\n",
      "2023-02-23\n",
      "2023-02-24\n"
     ]
    }
   ],
   "source": [
    "from datetime import datetime, date, timedelta\n",
    "start = datetime.strptime(str(\"2023-02-15\"), \"%Y-%m-%d\")\n",
    "end = datetime.strptime(str(\"2023-02-23\"), \"%Y-%m-%d\")\n",
    "\n",
    "while (start.date() <= end.date()):\n",
    "    start += timedelta(days=1)\n",
    "    if start == datetime.strptime(str(\"2023-02-18\"), \"%Y-%m-%d\"):\n",
    "        continue\n",
    "    print(start.strftime(\"%Y-%m-%d\"))"
   ]
  },
  {
   "cell_type": "code",
   "execution_count": 1,
   "id": "dc8e61bf",
   "metadata": {},
   "outputs": [
    {
     "data": {
      "text/plain": [
       "2020"
      ]
     },
     "execution_count": 1,
     "metadata": {},
     "output_type": "execute_result"
    }
   ],
   "source": [
    "year={'year':2020}\n",
    "year['year']"
   ]
  },
  {
   "cell_type": "code",
   "execution_count": 1,
   "id": "760de3b4",
   "metadata": {},
   "outputs": [
    {
     "ename": "NameError",
     "evalue": "name 'cmp' is not defined",
     "output_type": "error",
     "traceback": [
      "\u001b[1;31m---------------------------------------------------------------------------\u001b[0m",
      "\u001b[1;31mNameError\u001b[0m                                 Traceback (most recent call last)",
      "\u001b[1;32md:\\MyJupyterNote\\coding practice.ipynb Cell 15\u001b[0m in \u001b[0;36m<cell line: 3>\u001b[1;34m()\u001b[0m\n\u001b[0;32m      <a href='vscode-notebook-cell:/d%3A/MyJupyterNote/coding%20practice.ipynb#X20sZmlsZQ%3D%3D?line=0'>1</a>\u001b[0m a \u001b[39m=\u001b[39m [\u001b[39m1\u001b[39m,\u001b[39m2\u001b[39m,\u001b[39m3\u001b[39m]\n\u001b[0;32m      <a href='vscode-notebook-cell:/d%3A/MyJupyterNote/coding%20practice.ipynb#X20sZmlsZQ%3D%3D?line=1'>2</a>\u001b[0m b \u001b[39m=\u001b[39m [\u001b[39m1\u001b[39m,\u001b[39m2\u001b[39m,\u001b[39m3\u001b[39m]\n\u001b[1;32m----> <a href='vscode-notebook-cell:/d%3A/MyJupyterNote/coding%20practice.ipynb#X20sZmlsZQ%3D%3D?line=2'>3</a>\u001b[0m c \u001b[39m=\u001b[39m cmp(a,b)\n\u001b[0;32m      <a href='vscode-notebook-cell:/d%3A/MyJupyterNote/coding%20practice.ipynb#X20sZmlsZQ%3D%3D?line=3'>4</a>\u001b[0m \u001b[39mprint\u001b[39m (c)\n",
      "\u001b[1;31mNameError\u001b[0m: name 'cmp' is not defined"
     ]
    }
   ],
   "source": [
    "a = [1,2,3]\n",
    "b = [1,2,3]\n",
    "c = cmp(a,b)\n",
    "print (c)"
   ]
  }
 ],
 "metadata": {
  "kernelspec": {
   "display_name": "Python 3 (ipykernel)",
   "language": "python",
   "name": "python3"
  },
  "language_info": {
   "codemirror_mode": {
    "name": "ipython",
    "version": 3
   },
   "file_extension": ".py",
   "mimetype": "text/x-python",
   "name": "python",
   "nbconvert_exporter": "python",
   "pygments_lexer": "ipython3",
   "version": "3.10.4"
  },
  "vscode": {
   "interpreter": {
    "hash": "49335d64aae0e614fc472b3f2b7d16e8038532c55ba6e230023d24a1fbad0e69"
   }
  }
 },
 "nbformat": 4,
 "nbformat_minor": 5
}
