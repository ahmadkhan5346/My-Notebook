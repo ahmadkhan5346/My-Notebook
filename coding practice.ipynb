{
 "cells": [
  {
   "cell_type": "code",
   "execution_count": 53,
   "id": "51601e18",
   "metadata": {},
   "outputs": [
    {
     "name": "stdout",
     "output_type": "stream",
     "text": [
      "AMSsaahlrrifarfaz\n"
     ]
    }
   ],
   "source": [
    "a = \"Ashraf\"\n",
    "b = \"Mali\"\n",
    "c = \"Sarfraz\"\n",
    "d=\"\"\n",
    "size=len(a) if len(a)>len(b) and len(b) > len(c) else len(c)   #Ternary Operator\n",
    "\n",
    "for i in range(size):\n",
    "#     print(i)\n",
    "    if i<len(a):\n",
    "        d+=a[i]\n",
    "        \n",
    "    if i<len(b):\n",
    "        d+=b[i]\n",
    "        \n",
    "    if i < len(c):\n",
    "        d += c[i]\n",
    "    \n",
    "print(d)"
   ]
  },
  {
   "cell_type": "code",
   "execution_count": 51,
   "id": "6c7163a8",
   "metadata": {},
   "outputs": [
    {
     "name": "stdout",
     "output_type": "stream",
     "text": [
      "skahrafnraz\n"
     ]
    }
   ],
   "source": [
    "str1 = 'sarfraz'\n",
    "str2 = 'khan'\n",
    "str3 = ''\n",
    "size = len(str1) if str1 > str2 else len(str2)\n",
    "\n",
    "for i in range(size):\n",
    "    if i < len(str1):\n",
    "        str3 += str1[i]\n",
    "    if i < len(str2):\n",
    "        str3 += str2[i]\n",
    "print(str3)"
   ]
  },
  {
   "cell_type": "code",
   "execution_count": 42,
   "id": "0d2655e4",
   "metadata": {},
   "outputs": [
    {
     "name": "stdout",
     "output_type": "stream",
     "text": [
      "[5, 3, 7, 4]\n"
     ]
    }
   ],
   "source": [
    "lst = [5,8,15,19]\n",
    "print([lst[0]] + [x-y for x, y in zip(lst[1:], lst[:-1])])"
   ]
  },
  {
   "cell_type": "code",
   "execution_count": 32,
   "id": "183839fd",
   "metadata": {},
   "outputs": [
    {
     "name": "stdout",
     "output_type": "stream",
     "text": [
      "aaqmaaa\n"
     ]
    }
   ],
   "source": [
    "lst1= ['aqm', 'aaqmaaa', 'aaqma', 'aaqmaa', 'asd']\n",
    "a = 'aeiou'\n",
    "\n",
    "max_vowel = \"\"\n",
    "max_len = 0\n",
    "for element in lst1:\n",
    "    vowel=len([j for j in element if j in a])\n",
    "    if vowel > max_len:\n",
    "        max_len = vowel\n",
    "        max_vowel = element\n",
    "print(max_vowel)"
   ]
  },
  {
   "cell_type": "code",
   "execution_count": 8,
   "id": "813e1e63",
   "metadata": {},
   "outputs": [
    {
     "name": "stdout",
     "output_type": "stream",
     "text": [
      "name sarfraz\n",
      "Age 30\n",
      "language python\n",
      "virson 3.1\n",
      "city mumbai\n",
      "state maharashtra\n",
      "pincode 400070\n"
     ]
    }
   ],
   "source": [
    "dic1={'student': {'name':'sarfraz', 'Age': 30}, 'course': {'language': 'python', 'virson': 3.1}, 'Address': {'city': 'mumbai', 'state': 'maharashtra', 'pincode': '400070'}}\n",
    "\n",
    "for i in dic1:\n",
    "    for j in dic1[i]:\n",
    "        print(j , dic1[i][j])"
   ]
  },
  {
   "cell_type": "code",
   "execution_count": 3,
   "id": "71fd3dc5",
   "metadata": {},
   "outputs": [
    {
     "name": "stdout",
     "output_type": "stream",
     "text": [
      "A1B2D1A2\n"
     ]
    }
   ],
   "source": [
    "str1='ABBDAA'\n",
    "new = ''\n",
    "while str1:\n",
    "    counter = 0\n",
    "    first_char = str1[0]\n",
    "    while str1 and str1[0] == first_char:\n",
    "        counter += 1\n",
    "        str1 = str1[1:]\n",
    "    new += first_char+str(counter)\n",
    "print(new)"
   ]
  },
  {
   "cell_type": "code",
   "execution_count": 37,
   "id": "940db9ab",
   "metadata": {},
   "outputs": [
    {
     "name": "stdout",
     "output_type": "stream",
     "text": [
      "3\n",
      "3\n",
      "2\n",
      "1\n",
      "2\n",
      "1\n",
      "1\n"
     ]
    }
   ],
   "source": [
    "list1 = [11,12,11,11,12,12,2]\n",
    "\n",
    "for i in range(len(list1)):\n",
    "    count=0\n",
    "    for j in range(i,len(list1)):\n",
    "        if list1[i] == list1[j]:\n",
    "            count+=1\n",
    "    print(count)       "
   ]
  },
  {
   "cell_type": "code",
   "execution_count": 19,
   "id": "7cd5842d",
   "metadata": {},
   "outputs": [
    {
     "name": "stdout",
     "output_type": "stream",
     "text": [
      "{1: {2: {3: {4: {}}}}}\n"
     ]
    }
   ],
   "source": [
    "list1 = [1,2,3,4]\n",
    "newdic = current = {}\n",
    "for i in list1:\n",
    "    current[i] = {}\n",
    "    current = current[i]\n",
    "print(newdic)"
   ]
  },
  {
   "cell_type": "code",
   "execution_count": 64,
   "id": "cdb6808c",
   "metadata": {},
   "outputs": [
    {
     "name": "stdout",
     "output_type": "stream",
     "text": [
      "[2, 1, 4, 3, 6, 5, 8, 7, 9]\n"
     ]
    }
   ],
   "source": [
    "list1 = [1,2,3,4,5,6,7,8,9]\n",
    "try:\n",
    "    for i in range(0,len(list1),2):\n",
    "            list1[i], list1[i+1] = list1[i+1], list1[i]\n",
    "except IndexError:\n",
    "    print(list1)"
   ]
  },
  {
   "cell_type": "code",
   "execution_count": 8,
   "id": "ac648910",
   "metadata": {},
   "outputs": [
    {
     "name": "stdout",
     "output_type": "stream",
     "text": [
      "9\n",
      "[2, 1, 4, 3, 6, 5, 8, 7, 9]\n"
     ]
    }
   ],
   "source": [
    "list1 = [1,2,3,4,5,6,7,8,9]\n",
    "print(len(list1))\n",
    "\n",
    "for i in range(0,len(list1),2):\n",
    "    if i+1 < len(list1):\n",
    "        list1[i], list1[i+1] = list1[i+1], list1[i]\n",
    "    else:\n",
    "        print(list1)"
   ]
  },
  {
   "cell_type": "code",
   "execution_count": 7,
   "id": "bb3ea86c",
   "metadata": {},
   "outputs": [
    {
     "name": "stdout",
     "output_type": "stream",
     "text": [
      "sarfraz\n"
     ]
    }
   ],
   "source": [
    "a=('sarfraz')\n",
    "print(a)"
   ]
  },
  {
   "cell_type": "code",
   "execution_count": 17,
   "id": "0df43d7b",
   "metadata": {},
   "outputs": [
    {
     "name": "stdout",
     "output_type": "stream",
     "text": [
      "4\n"
     ]
    }
   ],
   "source": [
    "list1=[1,2,3,1,1,3]\n",
    "def \n",
    "op = []\n",
    "for i in range (len(list1)):\n",
    "    for j in range(i+1,len(list1)):\n",
    "        if list1[i] == list1[j]:\n",
    "            op.append((i,j))\n",
    "print(len(op))"
   ]
  },
  {
   "cell_type": "code",
   "execution_count": 9,
   "id": "454553a3",
   "metadata": {},
   "outputs": [
    {
     "data": {
      "text/plain": [
       "[4, 0, 1, 1, 3]"
      ]
     },
     "execution_count": 9,
     "metadata": {},
     "output_type": "execute_result"
    }
   ],
   "source": [
    "\n",
    "def smaller(list1):\n",
    "    list2 =[]\n",
    "    for i in range(len(list1)):\n",
    "        count = 0\n",
    "        for j in range(len(list1)):\n",
    "            if list1[j] < list1[i]:\n",
    "                count += 1\n",
    "        list2.append(count)\n",
    "    return list2\n",
    "\n",
    "lst = [8,1,2,2,3]\n",
    "smaller(lst)"
   ]
  },
  {
   "cell_type": "code",
   "execution_count": null,
   "id": "1d38f0a1",
   "metadata": {},
   "outputs": [],
   "source": []
  }
 ],
 "metadata": {
  "kernelspec": {
   "display_name": "Python 3 (ipykernel)",
   "language": "python",
   "name": "python3"
  },
  "language_info": {
   "codemirror_mode": {
    "name": "ipython",
    "version": 3
   },
   "file_extension": ".py",
   "mimetype": "text/x-python",
   "name": "python",
   "nbconvert_exporter": "python",
   "pygments_lexer": "ipython3",
   "version": "3.10.4"
  },
  "vscode": {
   "interpreter": {
    "hash": "49335d64aae0e614fc472b3f2b7d16e8038532c55ba6e230023d24a1fbad0e69"
   }
  }
 },
 "nbformat": 4,
 "nbformat_minor": 5
}
