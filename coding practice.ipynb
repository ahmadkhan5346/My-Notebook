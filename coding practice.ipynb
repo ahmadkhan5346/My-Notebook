{
 "cells": [
  {
   "cell_type": "code",
   "execution_count": 8,
   "id": "813e1e63",
   "metadata": {},
   "outputs": [
    {
     "name": "stdout",
     "output_type": "stream",
     "text": [
      "name sarfraz\n",
      "Age 30\n",
      "language python\n",
      "virson 3.1\n",
      "city mumbai\n",
      "state maharashtra\n",
      "pincode 400070\n"
     ]
    }
   ],
   "source": [
    "dic1={'student': {'name':'sarfraz', 'Age': 30}, 'course': {'language': 'python', 'virson': 3.1}, 'Address': {'city': 'mumbai', 'state': 'maharashtra', 'pincode': '400070'}}\n",
    "\n",
    "for i in dic1:\n",
    "    for j in dic1[i]:\n",
    "        print(j , dic1[i][j])"
   ]
  },
  {
   "cell_type": "code",
   "execution_count": 8,
   "id": "7cd5842d",
   "metadata": {},
   "outputs": [
    {
     "name": "stdout",
     "output_type": "stream",
     "text": [
      "{'sar': 'far'}\n",
      "{'sar': 'far'}\n",
      "{'sar': 'far'}\n",
      "{'sar': 'far'}\n",
      "{1: {'sar': 'far', 2: {'sar': 'far', 3: {'sar': 'far', 4: {'sar': 'far'}}}}}\n"
     ]
    }
   ],
   "source": [
    "list1 = [1,2,3,4]\n",
    "newdic = current = {}\n",
    "for i in list1:\n",
    "    current[i] = {'sar':'far'}\n",
    "    print(current[i])\n",
    "    current = current[i]\n",
    "print(newdic)"
   ]
  },
  {
   "cell_type": "code",
   "execution_count": 10,
   "id": "137b7f31",
   "metadata": {},
   "outputs": [
    {
     "name": "stdout",
     "output_type": "stream",
     "text": [
      "{'a': 60, 'b': 65, 'c': 20, 'd': 60}\n"
     ]
    }
   ],
   "source": [
    "d = {'a':45, 'b':65, 'A':15, 'c':10, 'C':10, 'D':60}\n",
    "dic = {i.lower(): d.get (i.lower(),0) + d.get (i.upper(),0) for i in d.keys()}\n",
    "print(dic)"
   ]
  },
  {
   "cell_type": "code",
   "execution_count": 56,
   "id": "1d72851a",
   "metadata": {},
   "outputs": [
    {
     "name": "stdout",
     "output_type": "stream",
     "text": [
      "{'a': 60, 'b': 65, 'c': 20, 'd': 60}\n"
     ]
    }
   ],
   "source": [
    "d = {'a':45, 'b':65, 'A':15, 'c':10, 'C':10, 'D':60}\n",
    "dic = {}\n",
    "for i in d.keys():\n",
    "    dic.update({i.lower():d.get(i.lower(),0) + d.get(i.upper(),0)})\n",
    "print(dic)"
   ]
  },
  {
   "cell_type": "code",
   "execution_count": null,
   "id": "866dbe6a",
   "metadata": {},
   "outputs": [],
   "source": [
    "def zero_error(fun):\n",
    "    def inner(x,y):\n",
    "        if y == 0:\n",
    "            print('dont divide by zero')\n",
    "        else:\n",
    "            return fun(x,y)\n",
    "    return inner\n",
    "                  \n",
    "\n",
    "@zero_error\n",
    "def divide(a,b):\n",
    "    return a/b\n",
    "divide(10,2)"
   ]
  },
  {
   "cell_type": "code",
   "execution_count": 65,
   "id": "768815a9",
   "metadata": {},
   "outputs": [
    {
     "data": {
      "text/plain": [
       "'I came from inner function'"
      ]
     },
     "execution_count": 65,
     "metadata": {},
     "output_type": "execute_result"
    }
   ],
   "source": [
    "def outfunc():\n",
    "    def infunc():\n",
    "        return'I came from inner function'\n",
    "    return infunc()\n",
    "outfunc()\n"
   ]
  },
  {
   "cell_type": "code",
   "execution_count": 7,
   "id": "6aec07df",
   "metadata": {},
   "outputs": [
    {
     "name": "stdout",
     "output_type": "stream",
     "text": [
      "Enter first number:-2\n",
      "Enter second number:-2\n",
      "Enter third number:-2\n"
     ]
    },
    {
     "data": {
      "text/plain": [
       "6.0"
      ]
     },
     "execution_count": 7,
     "metadata": {},
     "output_type": "execute_result"
    }
   ],
   "source": [
    "def decor(addition):\n",
    "    def inner():\n",
    "        result = addition()     # existing functionality\n",
    "#         add new functionality\n",
    "        num3 = float(input('Enter third number:-'))\n",
    "        result += num3\n",
    "        return result\n",
    "    return inner()\n",
    "        \n",
    "\n",
    "\n",
    "\n",
    "def addition():\n",
    "    num1 = float(input('Enter first number:-'))\n",
    "    num2 = float(input('Enter second number:-'))\n",
    "    result = num1 + num2\n",
    "    return result\n",
    "\n",
    "decor(addition)\n",
    "# print('addition is :',addit())"
   ]
  },
  {
   "cell_type": "code",
   "execution_count": 20,
   "id": "143ffd4b",
   "metadata": {},
   "outputs": [
    {
     "name": "stdout",
     "output_type": "stream",
     "text": [
      "Enter first number:-90\n",
      "Enter second number:-98\n",
      "Enter third number:-00\n",
      "188.0\n"
     ]
    }
   ],
   "source": [
    "def decor():\n",
    "#     def inner():\n",
    "    result = addition()\n",
    "    num3 = float(input('Enter third number:-'))\n",
    "    result += num3\n",
    "    return result\n",
    "#     return inner()\n",
    "        \n",
    "\n",
    "\n",
    "\n",
    "def addition():\n",
    "    num1 = float(input('Enter first number:-'))\n",
    "    num2 = float(input('Enter second number:-'))\n",
    "    result = num1 + num2\n",
    "    return result\n",
    "\n",
    "print(decor())"
   ]
  },
  {
   "cell_type": "code",
   "execution_count": 4,
   "id": "99aaeeff",
   "metadata": {},
   "outputs": [
    {
     "name": "stdout",
     "output_type": "stream",
     "text": [
      "6 [2, 4, 6, 8, 8, 10, 11, 12, 14]\n"
     ]
    }
   ],
   "source": [
    "import bisect\n",
    "\n",
    "a = [2,4,6,8,8,10,12,14]\n",
    "x = 11\n",
    "i = bisect.bisect(a, x)\n",
    "a.insert(i,x)\n",
    "print(i,a)"
   ]
  },
  {
   "cell_type": "code",
   "execution_count": 5,
   "id": "86d3b9fe",
   "metadata": {},
   "outputs": [
    {
     "name": "stdout",
     "output_type": "stream",
     "text": [
      "6 [2, 4, 6, 8, 8, 10, 11, 12, 14]\n"
     ]
    }
   ],
   "source": [
    "import bisect\n",
    "\n",
    "a = [2,4,6,8,8,10,12,14]\n",
    "x = 11\n",
    "i = bisect.bisect(a, x)\n",
    "a.insert(i,x)\n",
    "print(i,a)"
   ]
  },
  {
   "cell_type": "code",
   "execution_count": 9,
   "id": "ad91fb41",
   "metadata": {},
   "outputs": [
    {
     "name": "stdout",
     "output_type": "stream",
     "text": [
      "[1, 2, 3, 4]\n",
      "None\n"
     ]
    }
   ],
   "source": [
    "x = [1,2,3]\n",
    "y = x.append(4)\n",
    "print(x)\n",
    "print(y)"
   ]
  },
  {
   "cell_type": "code",
   "execution_count": 19,
   "id": "cd42bd0a",
   "metadata": {},
   "outputs": [
    {
     "name": "stdout",
     "output_type": "stream",
     "text": [
      "A1B2C3A2\n"
     ]
    }
   ],
   "source": [
    "str1='ABBCCCAA'\n",
    "str2 = ''\n",
    "count = 1\n",
    "for i in range(len(str1)):\n",
    "    if i < len(str1)-1 and str1[i]==str1[i+1]:\n",
    "        count += 1\n",
    "    else:\n",
    "        str2 += str1[i] + str(count)\n",
    "        count = 1\n",
    "print(str2)"
   ]
  },
  {
   "cell_type": "code",
   "execution_count": 48,
   "id": "607ee6ef",
   "metadata": {},
   "outputs": [
    {
     "name": "stdout",
     "output_type": "stream",
     "text": [
      "Redefine length\n",
      "6\n"
     ]
    }
   ],
   "source": [
    "class Shopping:\n",
    "    def __init__(self, basket):\n",
    "        self.basket = list(basket)\n",
    "#         self.buyer = buyer\n",
    "\n",
    "    def __len__(self):\n",
    "        print('Redefine length')\n",
    "        count = len(self.basket)\n",
    "        # count total items in a different way\n",
    "        # pair of shoes and shir+pant\n",
    "        return count * 2\n",
    "\n",
    "shopping = Shopping(['Shoes', 'dress', 'hy'])\n",
    "print(len(shopping))"
   ]
  },
  {
   "cell_type": "code",
   "execution_count": 61,
   "id": "19199bcc",
   "metadata": {},
   "outputs": [
    {
     "name": "stdout",
     "output_type": "stream",
     "text": [
      "<__main__.Ferrari object at 0x000002168CD58610>\n",
      "<__main__.BMW object at 0x000002168BBA6BF0>\n"
     ]
    }
   ],
   "source": [
    "class Ferrari:\n",
    "    def fuel_type(self):\n",
    "        print(\"Petrol\")\n",
    "\n",
    "    def max_speed(self):\n",
    "        print(\"Max speed 350\")\n",
    "\n",
    "class BMW:\n",
    "    def fuel_type(self):\n",
    "        print(\"Diesel\")\n",
    "\n",
    "    def max_speed(self):\n",
    "        print(\"Max speed is 240\")\n",
    "\n",
    "\n",
    "def car_details(obj):\n",
    "    print( obj)\n",
    "#     obj.fuel_type()\n",
    "#     obj.max_speed()\n",
    "\n",
    "ferrari = Ferrari()\n",
    "bmw = BMW()\n",
    "\n",
    "car_details(ferrari)\n",
    "car_details(bmw)"
   ]
  },
  {
   "cell_type": "code",
   "execution_count": 63,
   "id": "7fb85017",
   "metadata": {},
   "outputs": [
    {
     "name": "stdout",
     "output_type": "stream",
     "text": [
      "Diesel\n"
     ]
    }
   ],
   "source": [
    "def car_details(obj):\n",
    "    obj.fuel_type()\n",
    "    \n",
    "bmw = BMW()\n",
    "car_details(bmw)"
   ]
  },
  {
   "cell_type": "code",
   "execution_count": null,
   "id": "61e729b8",
   "metadata": {},
   "outputs": [],
   "source": [
    "class Overload():\n",
    "    def add(self, x):\n",
    "        print(x)\n",
    "    def add(self,x,y):\n",
    "        print(x,y)"
   ]
  },
  {
   "cell_type": "code",
   "execution_count": 9,
   "id": "fed2fbf6",
   "metadata": {},
   "outputs": [
    {
     "name": "stdout",
     "output_type": "stream",
     "text": [
      "50 100\n"
     ]
    },
    {
     "ename": "TypeError",
     "evalue": "unsupported operand type(s) for +: 'int' and 'Book'",
     "output_type": "error",
     "traceback": [
      "\u001b[1;31m---------------------------------------------------------------------------\u001b[0m",
      "\u001b[1;31mTypeError\u001b[0m                                 Traceback (most recent call last)",
      "Input \u001b[1;32mIn [9]\u001b[0m, in \u001b[0;36m<cell line: 13>\u001b[1;34m()\u001b[0m\n\u001b[0;32m     10\u001b[0m b2 \u001b[38;5;241m=\u001b[39m Book(\u001b[38;5;241m50\u001b[39m)\n\u001b[0;32m     11\u001b[0m b3 \u001b[38;5;241m=\u001b[39m Book(\u001b[38;5;241m100\u001b[39m)\n\u001b[1;32m---> 13\u001b[0m \u001b[38;5;28mprint\u001b[39m(\u001b[43m(\u001b[49m\u001b[43mb1\u001b[49m\u001b[38;5;241;43m+\u001b[39;49m\u001b[43mb2\u001b[49m\u001b[43m)\u001b[49m\u001b[38;5;241;43m+\u001b[39;49m\u001b[43mb3\u001b[49m)\n",
      "\u001b[1;31mTypeError\u001b[0m: unsupported operand type(s) for +: 'int' and 'Book'"
     ]
    }
   ],
   "source": [
    "class Book():\n",
    "    def __init__(self, pages):\n",
    "        self.p = pages\n",
    "        \n",
    "    def __add__(self, other):\n",
    "        print(other.p, self.p)\n",
    "        return(self.p + other.p)\n",
    "    \n",
    "b1 = Book(100)\n",
    "b2 = Book(50)\n",
    "b3 = Book(100)\n",
    "\n",
    "print((b1+b2)+b3)"
   ]
  },
  {
   "cell_type": "code",
   "execution_count": 1,
   "id": "97d1f267",
   "metadata": {},
   "outputs": [
    {
     "name": "stdout",
     "output_type": "stream",
     "text": [
      "worked for 30 days\n",
      "Salary is: 27000\n"
     ]
    }
   ],
   "source": [
    "class Employee():\n",
    "    def __init__(self, name, salary):\n",
    "        self.name = name\n",
    "        self.salary = salary\n",
    "        \n",
    "    def __mul__(self, sheet):\n",
    "        print('worked for', sheet.days, 'days')\n",
    "        return self.salary * sheet.days\n",
    "class Timesheet():\n",
    "    def __init__(self, name, days):\n",
    "        self.name = name\n",
    "        self.days = days\n",
    "        \n",
    "emp = Employee('Sarfraz', 900)\n",
    "timesheet = Timesheet('Sarfraz', 30)\n",
    "print('Salary is:', emp *timesheet)"
   ]
  },
  {
   "cell_type": "code",
   "execution_count": 9,
   "id": "4609d043",
   "metadata": {},
   "outputs": [
    {
     "name": "stdout",
     "output_type": "stream",
     "text": [
      "[<class '__main__.Employee'>, <class '__main__.Company'>, <class '__main__.Person'>, <class 'object'>]\n"
     ]
    }
   ],
   "source": [
    "class Person():\n",
    "    def person_info(self, name, age):\n",
    "        print('Inside person class')\n",
    "        print('Name:', name, 'Age', age)\n",
    "        \n",
    "\n",
    "class Company():\n",
    "    def company_info(self, company_name, location):\n",
    "        print('Inside company class')\n",
    "        print('Company name:', company_name, 'Location:', location)\n",
    "\n",
    "class Employee(Company,Person):\n",
    "    def employee_info(self, salary, skill):\n",
    "        print('Inside employee class')\n",
    "        print('Salary:', salary, 'Skill', 'skill')\n",
    "        \n",
    "emp = Employee()\n",
    "\n",
    "# emp.person_info('Sarfraz', 31)\n",
    "# emp.company_info('Ilex Square', 'Mumbai')\n",
    "# emp.employee_info(29000, 'Python Developer')\n",
    "print(Employee.mro())"
   ]
  },
  {
   "cell_type": "code",
   "execution_count": 38,
   "id": "fb9c9420",
   "metadata": {},
   "outputs": [
    {
     "name": "stdout",
     "output_type": "stream",
     "text": [
      "Addition: 10\n",
      "Multiplication: 200\n"
     ]
    }
   ],
   "source": [
    "class Add:\n",
    "    def result(self, a, b):\n",
    "        print('Addition:', a+b)\n",
    "    \n",
    "class Multi(Add):\n",
    "    def result(self, a, b):\n",
    "        super().result(5,5)\n",
    "        print('Multiplication:', a*b)\n",
    "        \n",
    "m = Multi()\n",
    "m.result(10, 20)"
   ]
  },
  {
   "cell_type": "code",
   "execution_count": 18,
   "id": "49081753",
   "metadata": {},
   "outputs": [
    {
     "name": "stdout",
     "output_type": "stream",
     "text": [
      "it is running\n",
      "ko\n"
     ]
    }
   ],
   "source": [
    "from abc import ABC, abstractmethod\n",
    "class Computer(ABC):\n",
    "    @abstractmethod\n",
    "    def process(self):\n",
    "        pass\n",
    "    \n",
    "class Laptop(Computer):\n",
    "    def process(self):\n",
    "        print('it is running')\n",
    "    def add(self):\n",
    "        print('ko')\n",
    "    \n",
    "# com = Computer()\n",
    "# com.process()\n",
    "\n",
    "com1 = Laptop()\n",
    "com1.process()"
   ]
  },
  {
   "cell_type": "code",
   "execution_count": 9,
   "id": "ef075134",
   "metadata": {},
   "outputs": [],
   "source": [
    "def add():\n",
    "    pass\n",
    "add()"
   ]
  },
  {
   "cell_type": "code",
   "execution_count": 16,
   "id": "38a74142",
   "metadata": {},
   "outputs": [
    {
     "name": "stdout",
     "output_type": "stream",
     "text": [
      "{1: False, 2: True, 3: False, 4: True}\n"
     ]
    }
   ],
   "source": [
    "dic={i:True if i % 2==0 else False  for i in range(1,5)}\n",
    "print(dic)"
   ]
  },
  {
   "cell_type": "code",
   "execution_count": 9,
   "id": "aab82016",
   "metadata": {},
   "outputs": [
    {
     "name": "stdout",
     "output_type": "stream",
     "text": [
      "3\n"
     ]
    }
   ],
   "source": [
    "l = [[2,1] for i in range(2)]\n",
    "var = 0\n",
    "for i in range(2):\n",
    "    var += l[i][i]\n",
    "print(var)"
   ]
  },
  {
   "cell_type": "code",
   "execution_count": 30,
   "id": "fbf1cdb1",
   "metadata": {},
   "outputs": [
    {
     "name": "stdout",
     "output_type": "stream",
     "text": [
      "19 / 12 / 2022\n"
     ]
    }
   ],
   "source": [
    "date=(19,12,2022)\n",
    "print('%i / %i / %i'%date)"
   ]
  },
  {
   "cell_type": "code",
   "execution_count": null,
   "id": "f0b4b42f",
   "metadata": {},
   "outputs": [],
   "source": [
    "a = int(input(\"Input an integer : \"))\n",
    "n1 = int( \"%s\" % a )\n",
    "n2 = int( \"%s%s\" % (a,a) )\n",
    "n3 = int( \"%s%s%s\" % (a,a,a) )\n",
    "print (n1+n2+n3)"
   ]
  },
  {
   "cell_type": "code",
   "execution_count": 9,
   "id": "14f3687c",
   "metadata": {},
   "outputs": [
    {
     "name": "stdout",
     "output_type": "stream",
     "text": [
      "enter number5\n",
      "615\n"
     ]
    }
   ],
   "source": [
    "a = int(input('enter number'))\n",
    "n1=(a)\n",
    "\n",
    "n2 = int('%s%s' % (a,a))\n",
    "n3 = int('%s%s%s'% (a,a,a))\n",
    "print(n1+n2+n3)"
   ]
  },
  {
   "cell_type": "code",
   "execution_count": 13,
   "id": "a84fa489",
   "metadata": {},
   "outputs": [
    {
     "name": "stdout",
     "output_type": "stream",
     "text": [
      "<class 'tuple'>\n"
     ]
    },
    {
     "ename": "TypeError",
     "evalue": "int() argument must be a string, a bytes-like object or a real number, not 'tuple'",
     "output_type": "error",
     "traceback": [
      "\u001b[1;31m---------------------------------------------------------------------------\u001b[0m",
      "\u001b[1;31mTypeError\u001b[0m                                 Traceback (most recent call last)",
      "Input \u001b[1;32mIn [13]\u001b[0m, in \u001b[0;36m<cell line: 3>\u001b[1;34m()\u001b[0m\n\u001b[0;32m      1\u001b[0m tup \u001b[38;5;241m=\u001b[39m \u001b[38;5;241m1\u001b[39m,\u001b[38;5;241m2\u001b[39m,\u001b[38;5;241m3\u001b[39m\n\u001b[0;32m      2\u001b[0m \u001b[38;5;28mprint\u001b[39m(\u001b[38;5;28mtype\u001b[39m(tup))\n\u001b[1;32m----> 3\u001b[0m int1 \u001b[38;5;241m=\u001b[39m \u001b[38;5;28;43mint\u001b[39;49m\u001b[43m(\u001b[49m\u001b[43mtup\u001b[49m\u001b[43m)\u001b[49m\n\u001b[0;32m      4\u001b[0m \u001b[38;5;28mprint\u001b[39m(\u001b[38;5;28mtype\u001b[39m(int1))\n",
      "\u001b[1;31mTypeError\u001b[0m: int() argument must be a string, a bytes-like object or a real number, not 'tuple'"
     ]
    }
   ],
   "source": [
    "tup = 1,2,3\n",
    "print(type(tup))\n",
    "int1 = int(tup)\n",
    "print(type(int1))"
   ]
  },
  {
   "cell_type": "code",
   "execution_count": 14,
   "id": "6892e05c",
   "metadata": {},
   "outputs": [
    {
     "name": "stdout",
     "output_type": "stream",
     "text": [
      "Return the absolute value of the argument.\n"
     ]
    }
   ],
   "source": [
    "print(abs.__doc__)"
   ]
  },
  {
   "cell_type": "code",
   "execution_count": 18,
   "id": "70f21ced",
   "metadata": {},
   "outputs": [
    {
     "name": "stdout",
     "output_type": "stream",
     "text": [
      "5\n",
      "[10, 20]\n",
      "30\n"
     ]
    }
   ],
   "source": [
    "lst = [5, 10, 20, 30]\n",
    "x, *y, z = lst\n",
    "print(x)\n",
    "print(y)\n",
    "print(z)"
   ]
  },
  {
   "cell_type": "code",
   "execution_count": 27,
   "id": "0a00e8c5",
   "metadata": {},
   "outputs": [
    {
     "name": "stdout",
     "output_type": "stream",
     "text": [
      "((1, 4), (2, 5), (3, 6))\n"
     ]
    }
   ],
   "source": [
    "n1 = [1,2,3]\n",
    "n2 = [4,5,6]\n",
    "z = tuple(zip(n1,n2))\n",
    "print(z)"
   ]
  },
  {
   "cell_type": "code",
   "execution_count": 13,
   "id": "1416de16",
   "metadata": {},
   "outputs": [
    {
     "name": "stdout",
     "output_type": "stream",
     "text": [
      "<class '__main__.Student'>\n",
      "Emma 10 xyz\n",
      "Jessa 20 ABC School \n",
      "sarfraz 101 ABC School \n",
      "sarfraz 101 noor\n"
     ]
    }
   ],
   "source": [
    "class Student:\n",
    "    school_name = 'ABC School '\n",
    "    \n",
    "    def __init__(self, name, roll_no):\n",
    "        self.name = name\n",
    "        self.roll_no = roll_no\n",
    "    def show(self):\n",
    "        print(self.name, self.roll_no, self.school_name)\n",
    "        \n",
    "        \n",
    "\n",
    "s1 = Student('Emma', 10)\n",
    "print(type(s1))\n",
    "s1.school_name = 'xyz'\n",
    "print(s1.name, s1.roll_no, s1.school_name)\n",
    "\n",
    "s2 = Student('Jessa', 20)\n",
    "print(s2.name, s2.roll_no, Student.school_name)\n",
    "\n",
    "s3 = Student('sarfraz', 101)\n",
    "s3.show()\n",
    "Student.school_name='noor'\n",
    "s3.show()"
   ]
  },
  {
   "cell_type": "code",
   "execution_count": 8,
   "id": "557f0797",
   "metadata": {},
   "outputs": [
    {
     "name": "stdout",
     "output_type": "stream",
     "text": [
      "sarfraz's age is: 30\n",
      "ahmad's age is: 31\n"
     ]
    }
   ],
   "source": [
    "from datetime import date\n",
    "class Student():\n",
    "    def __init__(self, name, age):\n",
    "        self.n = name\n",
    "        self.a = age\n",
    "        \n",
    "    @classmethod\n",
    "    def calculate_age(cls, name, birth_year):\n",
    "        return cls(name, date.today().year - birth_year)\n",
    "    \n",
    "    def show(self):\n",
    "        print(self.n + \"'s age is: \" + str(self.a))\n",
    "        \n",
    "s1 = Student('sarfraz', 30)\n",
    "s1.show()\n",
    "\n",
    "s2 = Student.calculate_age('ahmad', 1991)\n",
    "s2.show()"
   ]
  },
  {
   "cell_type": "code",
   "execution_count": 16,
   "id": "9ba0551c",
   "metadata": {},
   "outputs": [
    {
     "name": "stdout",
     "output_type": "stream",
     "text": [
      "BMW X5 65000\n",
      "BMW X5 Mileage 5.0\n"
     ]
    }
   ],
   "source": [
    "class Vehicle:\n",
    "    brand_name = 'BMW'\n",
    "\n",
    "    def __init__(self, name, price):\n",
    "        self.name = name\n",
    "        self.price = price\n",
    "\n",
    "    @classmethod\n",
    "    def from_price(cls, name, price):\n",
    "        # ind_price = dollar * 76\n",
    "        # create new Vehicle object\n",
    "        return cls(name, (price * 75))\n",
    "\n",
    "    def show(self):\n",
    "        print(self.name, self.price)\n",
    "\n",
    "class Car(Vehicle):\n",
    "    def average(self, distance, fuel_used):\n",
    "        mileage = distance / fuel_used\n",
    "        print(self.name, 'Mileage', mileage)\n",
    "\n",
    "bmw_us = Car('BMW X5', 65000)\n",
    "bmw_us.show()\n",
    "bmw_us.average(30, 6) \n",
    "\n",
    "# class method of parent class is available to child class\n",
    "# this will return the object of calling class\n",
    "# bmw_ind = Car.from_price('BMW X5', 65000)\n",
    "# bmw_ind.show()\n",
    "\n",
    "# check type\n",
    "# print(type(bmw_ind))\n",
    "\n",
    "\n"
   ]
  },
  {
   "cell_type": "code",
   "execution_count": 31,
   "id": "ce31cf54",
   "metadata": {},
   "outputs": [
    {
     "name": "stdout",
     "output_type": "stream",
     "text": [
      "Jessa 14\n",
      "Below exercises for ABC School\n"
     ]
    }
   ],
   "source": [
    "class Student:\n",
    "    school_name = 'ABC School'\n",
    "\n",
    "    def __init__(self, name, age):\n",
    "        self.name = name\n",
    "        self.age = age\n",
    "\n",
    "    def show(self):\n",
    "        print(self.name, self.age)\n",
    "\n",
    "# class ended\n",
    "\n",
    "# method outside class\n",
    "def exercise(cls):\n",
    "    # access class variables\n",
    "    print(\"Below exercises for\", cls.school_name)\n",
    "\n",
    "# Adding class method at runtime to class\n",
    "Student.exercises = classmethod(exercise)\n",
    "\n",
    "jessa = Student(\"Jessa\", 14)\n",
    "jessa.show()\n",
    "# call the new method\n",
    "Student.exercises()"
   ]
  },
  {
   "cell_type": "code",
   "execution_count": 41,
   "id": "896d123f",
   "metadata": {},
   "outputs": [
    {
     "name": "stdout",
     "output_type": "stream",
     "text": [
      "Completed task_1\n",
      "Completed task_2\n",
      "Completed task_3\n"
     ]
    }
   ],
   "source": [
    "class Employee(object):\n",
    "\n",
    "    def __init__(self, name, salary, project_name):\n",
    "        self.name = name\n",
    "        self.salary = salary\n",
    "        self.project_name = project_name\n",
    "\n",
    "    @staticmethod\n",
    "    def gather_requirement(project_name):\n",
    "        if project_name == 'ABC Project':\n",
    "            requirement = ['task_1', 'task_2', 'task_3']\n",
    "        else:\n",
    "            requirement = ['task_1']\n",
    "        return requirement\n",
    "\n",
    "    # instance method\n",
    "    def work(self):\n",
    "        # call static method from instance method\n",
    "        requirement = self.gather_requirement(self.project_name)\n",
    "        for task in requirement:\n",
    "            print('Completed', task)\n",
    "\n",
    "emp = Employee('Kelly', 12000, 'ABC Project')\n",
    "emp.work()"
   ]
  },
  {
   "cell_type": "code",
   "execution_count": 7,
   "id": "a7a29df4",
   "metadata": {},
   "outputs": [
    {
     "name": "stdout",
     "output_type": "stream",
     "text": [
      "Inside static method 10\n"
     ]
    }
   ],
   "source": [
    "class Employee:\n",
    "    def sample(x):\n",
    "        print('Inside static method', x)\n",
    "\n",
    "# convert to static method\n",
    "Employee.sam = staticmethod(Employee.sample)\n",
    "# call static method\n",
    "Employee.sam(10)"
   ]
  },
  {
   "cell_type": "code",
   "execution_count": 18,
   "id": "d27daf4a",
   "metadata": {},
   "outputs": [
    {
     "name": "stdout",
     "output_type": "stream",
     "text": [
      "{'x': [12, 88, 99], 'y': [{'val': [1, 2, 3]}, {'val': [4, 5, 6]}]}\n"
     ]
    }
   ],
   "source": [
    "dic = {'x':[99, 12, 88], 'y':[{'val':[1, 2, 3]}, {'val':[4, 5, 6]}]}\n",
    "dic1={}\n",
    "for i in range(len(dic['x'])):\n",
    "    for j in range(len(dic['x'])):\n",
    "        if dic['x'][i] < dic['x'][j]:\n",
    "            dic['x'][i], dic['x'][j] = dic['x'][j], dic['x'][i]\n",
    "print(dic)\n",
    "            \n",
    "    \n",
    "    \n",
    "    "
   ]
  },
  {
   "cell_type": "code",
   "execution_count": 44,
   "id": "cc5d8d1e",
   "metadata": {},
   "outputs": [
    {
     "name": "stdout",
     "output_type": "stream",
     "text": [
      "[1, 0, 2, 1]\n"
     ]
    }
   ],
   "source": [
    "dic = {'x':[99, 12, 88], 'y':[{'val':[1, 2, 3]}, {'val':[4, 5, 6]}]}\n",
    "list1=[]\n",
    "for i in range(len(dic['x'])):\n",
    "    for j in range(len(dic['x'])):\n",
    "        if dic['x'][i] < dic['x'][j]:\n",
    "            list1.append(i)\n",
    "            list1.append(j)\n",
    "            dic['x'][i], dic['x'][j] = dic['x'][j], dic['x'][i]\n",
    "            \n",
    "# for x in range(len(dic['y'])):\n",
    "#     print(x)\n",
    "#     for y in range(len(dic['y'][x]['val'])):\n",
    "        \n",
    "        \n",
    "        \n",
    "#         for k in range(len(x['val'])):\n",
    "#             x['val'][y], j['val'][k] = list1[y], list1[k]\n",
    "        \n",
    "    \n",
    "    \n",
    "    \n",
    "# print(dic['y'])\n",
    "print(list1)\n",
    "\n",
    "            "
   ]
  },
  {
   "cell_type": "code",
   "execution_count": null,
   "id": "a49bc458",
   "metadata": {},
   "outputs": [],
   "source": [
    "dct = {'n1':[2,3,1], 'n2':[5,1,2], 'n':[3,2,4]}\n",
    "sorted_dict = {x: sorted(y) for x, y in dct.items()}\n",
    "print(sorted_dict)"
   ]
  },
  {
   "cell_type": "code",
   "execution_count": null,
   "id": "229d9f6c",
   "metadata": {},
   "outputs": [],
   "source": [
    "dict1 = [{'a':2, 'b':1, 'c':101}, {'a':1, 'b':0, 'c':200}, {'a':5, 'b':100, 'c':3}]\n",
    "for i in range(len(dict1)):\n",
    "    for j in range(len(dict1)):\n",
    "        if dict1[i]['c'] < dict1[j]['c']:\n",
    "            dict1[i],dict1[j] = dict1[j],dict1[i]\n",
    "print(dict1)"
   ]
  },
  {
   "cell_type": "code",
   "execution_count": 26,
   "id": "61a40479",
   "metadata": {},
   "outputs": [
    {
     "name": "stdout",
     "output_type": "stream",
     "text": [
      "2\n"
     ]
    }
   ],
   "source": [
    "items = [[\"phone\",\"blue\",\"pixel\"],[\"computer\",\"silver\",\"phone\"],[\"phone\",\"gold\",\"iphone\"]]\n",
    "# ruleKey = \"type\", ruleValue = \"phone\"\n",
    "# Output: 2\n",
    "\n",
    "rulekey = 'type'\n",
    "rulevalue = 'phone'\n",
    "\n",
    "output = 0\n",
    "\n",
    "for i in (items):\n",
    "    if rulekey == 'type' and i[0] == rulevalue:\n",
    "        output += 1\n",
    "        \n",
    "    if rulekey == 'color' and i[1] == rulevalue:\n",
    "        output += 1\n",
    "        \n",
    "    if rulekey == 'name' and i[2] == rulevalue:\n",
    "        output +=1\n",
    "    \n",
    "    \n",
    "print(output)"
   ]
  },
  {
   "cell_type": "code",
   "execution_count": null,
   "id": "c51dd502",
   "metadata": {},
   "outputs": [],
   "source": []
  }
 ],
 "metadata": {
  "kernelspec": {
   "display_name": "Python 3 (ipykernel)",
   "language": "python",
   "name": "python3"
  },
  "language_info": {
   "codemirror_mode": {
    "name": "ipython",
    "version": 3
   },
   "file_extension": ".py",
   "mimetype": "text/x-python",
   "name": "python",
   "nbconvert_exporter": "python",
   "pygments_lexer": "ipython3",
   "version": "3.10.4"
  },
  "vscode": {
   "interpreter": {
    "hash": "49335d64aae0e614fc472b3f2b7d16e8038532c55ba6e230023d24a1fbad0e69"
   }
  }
 },
 "nbformat": 4,
 "nbformat_minor": 5
}
