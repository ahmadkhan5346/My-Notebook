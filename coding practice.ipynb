{
 "cells": [
  {
   "cell_type": "code",
   "execution_count": null,
   "id": "5a748309",
   "metadata": {},
   "outputs": [],
   "source": [
    "Write a Python program to combine two dictionary adding values for common keys."
   ]
  },
  {
   "cell_type": "code",
   "execution_count": 16,
   "id": "2e61d68c",
   "metadata": {},
   "outputs": [
    {
     "name": "stdout",
     "output_type": "stream",
     "text": [
      "{'a': 300, 'b': 500, 'd': 300, 'c': 300}\n"
     ]
    }
   ],
   "source": [
    "dic1 = {'a':100, 'b':200, 'c':300}\n",
    "dic2 = {'a':200, 'b':300, 'd':300}\n",
    "for key in dic1:\n",
    "    if key in dic2:\n",
    "        dic2[key] = dic1[key]+dic2[key]\n",
    "    else:\n",
    "        dic2[key] = dic1[key]\n",
    "print(dic2)\n",
    "        "
   ]
  },
  {
   "cell_type": "code",
   "execution_count": null,
   "id": "24200899",
   "metadata": {},
   "outputs": [],
   "source": []
  },
  {
   "cell_type": "code",
   "execution_count": null,
   "id": "4ae67aec",
   "metadata": {},
   "outputs": [],
   "source": []
  },
  {
   "cell_type": "code",
   "execution_count": null,
   "id": "4f8d1bb8",
   "metadata": {},
   "outputs": [],
   "source": []
  },
  {
   "cell_type": "code",
   "execution_count": null,
   "id": "a3518a49",
   "metadata": {},
   "outputs": [],
   "source": []
  },
  {
   "cell_type": "code",
   "execution_count": 11,
   "id": "a43e34c0",
   "metadata": {},
   "outputs": [
    {
     "name": "stdout",
     "output_type": "stream",
     "text": [
      "9408.23\n"
     ]
    }
   ],
   "source": [
    "dic = [{\"name\":\"raja\",\"totalPremium\":2354},{\"name\":\"Vini\",\"totalPremium\":\"2345\"},\n",
    " {\"name\":\"raja\",\"totalPremium\":2354.90},{\"name\":\"raja\",\"totalPremium\":\"2354.33\"}]\n",
    "\n",
    "data = [float(i['totalPremium']) for i in dic]\n",
    "print(sum(data))"
   ]
  },
  {
   "cell_type": "code",
   "execution_count": 2,
   "id": "2c807f89",
   "metadata": {},
   "outputs": [
    {
     "name": "stdout",
     "output_type": "stream",
     "text": [
      "[{'id': 1, 'name': 'sarfraz', 'books': 'python'}]\n"
     ]
    }
   ],
   "source": [
    "stores=[]\n",
    "stores.append({'id': 1, 'name': 'sarfraz', 'books': 'python'})\n",
    "print(stores)"
   ]
  },
  {
   "cell_type": "code",
   "execution_count": 11,
   "id": "44f65d17",
   "metadata": {},
   "outputs": [
    {
     "name": "stdout",
     "output_type": "stream",
     "text": [
      "[{'a': 5, 'b': 100, 'c': 3}, {'a': 2, 'b': 1, 'c': 101}, {'a': 1, 'b': 0, 'c': 200}]\n"
     ]
    }
   ],
   "source": [
    "dict1 = [{'a':2, 'b':1, 'c':101}, {'a':1, 'b':0, 'c':200}, {'a':5, 'b':100, 'c':3}]\n",
    "for i in range(len(dict1)):\n",
    "    for j in range(len(dict1)):\n",
    "        if dict1[i]['c'] < dict1[j]['c']:\n",
    "            dict1[i],dict1[j] = dict1[j],dict1[i]\n",
    "print(dict1)"
   ]
  },
  {
   "cell_type": "code",
   "execution_count": 12,
   "id": "cbd24315",
   "metadata": {},
   "outputs": [
    {
     "name": "stdout",
     "output_type": "stream",
     "text": [
      "OrderedDict([('rajnish', '9'), ('ravi', '10'), ('sanjeev', '15'), ('suraj', '32'), ('yash', '2')])\n"
     ]
    }
   ],
   "source": [
    "from collections import OrderedDict\n",
    " \n",
    "dict1 = {'ravi': '10', 'rajnish': '9',\n",
    "        'sanjeev': '15', 'yash': '2', 'suraj': '32'}\n",
    "dict1 = OrderedDict(sorted(dict1.items()))\n",
    "print(dict1)"
   ]
  },
  {
   "cell_type": "code",
   "execution_count": 4,
   "id": "917dfb35",
   "metadata": {},
   "outputs": [
    {
     "name": "stdout",
     "output_type": "stream",
     "text": [
      "[4, 2, 6, 1, 3]\n",
      "[6, 2, 4, 1, 3]\n",
      "[2, 6, 4, 1, 3]\n",
      "[2, 4, 6, 1, 3]\n",
      "[1, 4, 6, 2, 3]\n",
      "[1, 2, 6, 4, 3]\n",
      "[1, 2, 4, 6, 3]\n",
      "[1, 2, 3, 6, 4]\n",
      "[1, 2, 3, 4, 6]\n"
     ]
    }
   ],
   "source": [
    "dict1 =[2,4,6,1,3]\n",
    "for i in range(len(dict1)):\n",
    "    for j in range(len(dict1)):\n",
    "        if dict1[i] < dict1[j]:\n",
    "            dict1[i],dict1[j] = dict1[j],dict1[i]\n",
    "            print(dict1)"
   ]
  },
  {
   "cell_type": "code",
   "execution_count": 10,
   "id": "ade041ce",
   "metadata": {},
   "outputs": [
    {
     "name": "stdout",
     "output_type": "stream",
     "text": [
      "[(56, 'apple'), ('water', 'case'), (1, 'groot'), ('dell', 'ipad'), ('teams', 'ml'), ('zoo', 'peanuts')]\n"
     ]
    }
   ],
   "source": [
    "def sort_tuple(list1):\n",
    "    for i in range(len(list1)):\n",
    "        for j in range(len(list1)):\n",
    "            if list1[i][1]<list1[j][1]:\n",
    "                list1[i], list1[j] = list1[j], list1[i]\n",
    "    return list1\n",
    "            \n",
    "tup =[(\"zoo\", \"peanuts\"),(1, 'groot'), (\"teams\",\"ml\"),('dell', 'ipad'), ('water', 'case'), (56,\"apple\")]\n",
    "list1=sort_tuple(tup)\n",
    "print(list1)      "
   ]
  },
  {
   "cell_type": "code",
   "execution_count": 11,
   "id": "09f5b19b",
   "metadata": {},
   "outputs": [
    {
     "name": "stdout",
     "output_type": "stream",
     "text": [
      "3\n"
     ]
    }
   ],
   "source": [
    "a = {'ADDA':1, 'MADAM':2, 'TILAK':3, 'SAKINAKA':1, 'MOM':6}\n",
    "count=0\n",
    "for i in a:\n",
    "#     print(i)\n",
    "    if i[0] == i[-1]:\n",
    "        count += 1\n",
    "print(count)"
   ]
  },
  {
   "cell_type": "code",
   "execution_count": 54,
   "id": "abc5cf7e",
   "metadata": {},
   "outputs": [
    {
     "name": "stdout",
     "output_type": "stream",
     "text": [
      "0\n",
      "1\n",
      "2\n",
      "3\n",
      "[1, 4, 2, 3, 3, 2, 4, 1]\n"
     ]
    }
   ],
   "source": [
    "nums = [1,2,3,4,4,3,2,1]\n",
    "n = int(len(nums)/2)\n",
    "list1 = nums[0:n]\n",
    "list2 = nums[n:2*n]\n",
    "list3=[]\n",
    "for i in range(n):\n",
    "    print(i)\n",
    "    list3.append(list1[i])\n",
    "    list3.append(list2[i])\n",
    "print(list3)"
   ]
  },
  {
   "cell_type": "code",
   "execution_count": null,
   "id": "fc24c00c",
   "metadata": {},
   "outputs": [],
   "source": [
    "list=[4,54,3,4,5,6,4,23]\n",
    "output[4,5,3,4]"
   ]
  },
  {
   "cell_type": "code",
   "execution_count": 53,
   "id": "10875f8c",
   "metadata": {},
   "outputs": [
    {
     "name": "stdout",
     "output_type": "stream",
     "text": [
      "[]\n"
     ]
    }
   ],
   "source": [
    "a=[4,54,3,4,5,6,4,23]\n",
    "print(a[4:7:-1])"
   ]
  },
  {
   "cell_type": "code",
   "execution_count": 52,
   "id": "bd0fe95b",
   "metadata": {},
   "outputs": [
    {
     "name": "stdout",
     "output_type": "stream",
     "text": [
      "[4, 5, 3, 4]\n"
     ]
    }
   ],
   "source": [
    "a=[4,54,3,4,5,6,4,23]\n",
    "print(a[-2::-2])"
   ]
  },
  {
   "cell_type": "code",
   "execution_count": 16,
   "id": "4c551469",
   "metadata": {},
   "outputs": [
    {
     "name": "stdout",
     "output_type": "stream",
     "text": [
      "5\n",
      "6\n",
      "4\n",
      "8\n",
      "7\n",
      "[True, True, False, True, True]\n"
     ]
    }
   ],
   "source": [
    "a = [2,3,1,5,4]\n",
    "n = 3\n",
    "b = []\n",
    "for x in a:\n",
    "    n = 3\n",
    "    count=0\n",
    "    n+=x\n",
    "    print(n)\n",
    "    for i in a:\n",
    "        if n >= i:\n",
    "            count += 1\n",
    "            if count == len(a):\n",
    "                b.append(True)\n",
    "        else:\n",
    "            b.append(False)\n",
    "print(b)"
   ]
  },
  {
   "cell_type": "code",
   "execution_count": 7,
   "id": "e08c09a8",
   "metadata": {},
   "outputs": [
    {
     "name": "stdout",
     "output_type": "stream",
     "text": [
      "a\n",
      "b\n",
      "b\n",
      "d\n"
     ]
    }
   ],
   "source": [
    "x = ['a','b','c','d']\n",
    "for x[-2] in x:\n",
    "    print(x[-2])"
   ]
  },
  {
   "cell_type": "code",
   "execution_count": 1,
   "id": "746ff0ce",
   "metadata": {
    "scrolled": true
   },
   "outputs": [
    {
     "ename": "ValueError",
     "evalue": "complex() arg is a malformed string",
     "output_type": "error",
     "traceback": [
      "\u001b[1;31m---------------------------------------------------------------------------\u001b[0m",
      "\u001b[1;31mValueError\u001b[0m                                Traceback (most recent call last)",
      "Input \u001b[1;32mIn [1]\u001b[0m, in \u001b[0;36m<cell line: 1>\u001b[1;34m()\u001b[0m\n\u001b[1;32m----> 1\u001b[0m com \u001b[38;5;241m=\u001b[39m \u001b[38;5;28;43mcomplex\u001b[39;49m\u001b[43m(\u001b[49m\u001b[38;5;124;43m'\u001b[39;49m\u001b[38;5;124;43m3i+4j\u001b[39;49m\u001b[38;5;124;43m'\u001b[39;49m\u001b[43m)\u001b[49m\n\u001b[0;32m      2\u001b[0m \u001b[38;5;28mprint\u001b[39m(com)\n",
      "\u001b[1;31mValueError\u001b[0m: complex() arg is a malformed string"
     ]
    }
   ],
   "source": [
    "com = complex('3i+4j')\n",
    "print(com)"
   ]
  },
  {
   "cell_type": "code",
   "execution_count": 4,
   "id": "24cef15a",
   "metadata": {},
   "outputs": [
    {
     "name": "stdout",
     "output_type": "stream",
     "text": [
      "(5.2+0j)\n"
     ]
    }
   ],
   "source": [
    "com = complex('5.2')\n",
    "print(com)"
   ]
  },
  {
   "cell_type": "code",
   "execution_count": 7,
   "id": "f12995e2",
   "metadata": {},
   "outputs": [
    {
     "name": "stdout",
     "output_type": "stream",
     "text": [
      "<class 'str'>\n"
     ]
    }
   ],
   "source": [
    "real = 2\n",
    "imaginary = 3\n",
    "complex_number = str(real) + '-' + str(imaginary) + 'j'\n",
    "print(type(complex_number))"
   ]
  },
  {
   "cell_type": "code",
   "execution_count": 18,
   "id": "cb27208b",
   "metadata": {},
   "outputs": [
    {
     "name": "stdout",
     "output_type": "stream",
     "text": [
      "sarfraz 14$ sarfraz\n"
     ]
    }
   ],
   "source": [
    "str1 = 'sarfraz 14$ sarfraz'\n",
    "\n",
    "print(str1)"
   ]
  },
  {
   "cell_type": "code",
   "execution_count": 8,
   "id": "a129fc9a",
   "metadata": {},
   "outputs": [
    {
     "name": "stdout",
     "output_type": "stream",
     "text": [
      "b'hello world'\n"
     ]
    }
   ],
   "source": [
    "a = 'hello world'\n",
    "b = bytes(a, 'utf-8')\n",
    "print(b)"
   ]
  },
  {
   "cell_type": "code",
   "execution_count": null,
   "id": "51d451ac",
   "metadata": {},
   "outputs": [],
   "source": []
  }
 ],
 "metadata": {
  "kernelspec": {
   "display_name": "Python 3 (ipykernel)",
   "language": "python",
   "name": "python3"
  },
  "language_info": {
   "codemirror_mode": {
    "name": "ipython",
    "version": 3
   },
   "file_extension": ".py",
   "mimetype": "text/x-python",
   "name": "python",
   "nbconvert_exporter": "python",
   "pygments_lexer": "ipython3",
   "version": "3.10.4"
  }
 },
 "nbformat": 4,
 "nbformat_minor": 5
}
