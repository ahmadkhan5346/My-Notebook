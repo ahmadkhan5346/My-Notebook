{
 "cells": [
  {
   "cell_type": "code",
   "execution_count": 5,
   "id": "09f5b19b",
   "metadata": {},
   "outputs": [
    {
     "name": "stdout",
     "output_type": "stream",
     "text": [
      "3\n"
     ]
    }
   ],
   "source": [
    "dict1 = {'ADDA':1, 'MADAM':2, 'TILAK':3, 'SAKINAKA':1, 'MOM':6}\n",
    "count=0\n",
    "for i in dict1:\n",
    "    if i[0] == i[-1]:\n",
    "        count += 1\n",
    "print(count)"
   ]
  },
  {
   "cell_type": "code",
   "execution_count": 32,
   "id": "5a270138",
   "metadata": {},
   "outputs": [
    {
     "name": "stdout",
     "output_type": "stream",
     "text": [
      "1 2 3 4\n",
      "<map object at 0x000002CAA609EA40>\n",
      "[2, 8, 18, 32]\n"
     ]
    }
   ],
   "source": [
    "def myfunc(x):\n",
    "    return x*x*2\n",
    "\n",
    "list1 = (map(int, input().strip().split()))\n",
    "print(list1)\n",
    "square_multiply2 = list(map(myfunc, list1))\n",
    "print(square_multiply2)"
   ]
  },
  {
   "cell_type": "code",
   "execution_count": null,
   "id": "91afe7b3",
   "metadata": {},
   "outputs": [],
   "source": []
  }
 ],
 "metadata": {
  "kernelspec": {
   "display_name": "Python 3 (ipykernel)",
   "language": "python",
   "name": "python3"
  },
  "language_info": {
   "codemirror_mode": {
    "name": "ipython",
    "version": 3
   },
   "file_extension": ".py",
   "mimetype": "text/x-python",
   "name": "python",
   "nbconvert_exporter": "python",
   "pygments_lexer": "ipython3",
   "version": "3.10.4"
  }
 },
 "nbformat": 4,
 "nbformat_minor": 5
}
