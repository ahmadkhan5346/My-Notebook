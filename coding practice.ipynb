{
 "cells": [
  {
   "cell_type": "code",
   "execution_count": 1,
   "id": "385417e0",
   "metadata": {},
   "outputs": [],
   "source": [
    "data = [\n",
    "    {\"customer_list\":2, \"list_name\":\"c1\", \"name\":\"Anam\"},\n",
    "    {\"customer_list\":3, \"list_name\":\"c5\", \"name\":\"Nawaz\"},\n",
    "    {\"customer_list\":2, \"list_name\":\"c2\", \"name\":\"Junaid\"},\n",
    "    {\"customer_list\":3, \"list_name\":\"c6\", \"name\":\"Sufiyan\"},\n",
    "    {\"customer_list\":4, \"list_name\":\"c7\", \"name\":\"Bilal\"},\n",
    "    {\"customer_list\":5, \"list_name\":\"c8\", \"name\":\"Sarfraz\"}\n",
    "]"
   ]
  },
  {
   "cell_type": "code",
   "execution_count": 2,
   "id": "4c69ea93",
   "metadata": {},
   "outputs": [],
   "source": [
    "dup_data = []\n",
    "uniq_data = []"
   ]
  },
  {
   "cell_type": "code",
   "execution_count": 3,
   "id": "aa446d5e",
   "metadata": {},
   "outputs": [
    {
     "ename": "IndexError",
     "evalue": "list index out of range",
     "output_type": "error",
     "traceback": [
      "\u001b[1;31m---------------------------------------------------------------------------\u001b[0m",
      "\u001b[1;31mIndexError\u001b[0m                                Traceback (most recent call last)",
      "Input \u001b[1;32mIn [3]\u001b[0m, in \u001b[0;36m<cell line: 4>\u001b[1;34m()\u001b[0m\n\u001b[0;32m      5\u001b[0m     \u001b[38;5;28;01mfor\u001b[39;00m j \u001b[38;5;129;01min\u001b[39;00m \u001b[38;5;28mrange\u001b[39m(i,\u001b[38;5;28mlen\u001b[39m(data)):\n\u001b[0;32m      6\u001b[0m         \u001b[38;5;28;01mif\u001b[39;00m data[i][\u001b[38;5;124m'\u001b[39m\u001b[38;5;124mcustomer_list\u001b[39m\u001b[38;5;124m'\u001b[39m] \u001b[38;5;241m==\u001b[39m data[j][\u001b[38;5;124m\"\u001b[39m\u001b[38;5;124mcustomer_list\u001b[39m\u001b[38;5;124m\"\u001b[39m]:\n\u001b[1;32m----> 7\u001b[0m             \u001b[38;5;28;01mif\u001b[39;00m data[i][\u001b[38;5;124m'\u001b[39m\u001b[38;5;124mcustomer_list\u001b[39m\u001b[38;5;124m'\u001b[39m] \u001b[38;5;129;01mnot\u001b[39;00m \u001b[38;5;129;01min\u001b[39;00m \u001b[43mdup_data\u001b[49m\u001b[43m[\u001b[49m\u001b[43mj\u001b[49m\u001b[43m]\u001b[49m[\u001b[38;5;124m'\u001b[39m\u001b[38;5;124mcustomer_list\u001b[39m\u001b[38;5;124m'\u001b[39m]:\n\u001b[0;32m      8\u001b[0m                 dup_data\u001b[38;5;241m.\u001b[39mappend(data[j])\n\u001b[0;32m     10\u001b[0m \u001b[38;5;28mprint\u001b[39m(dup_data)\n",
      "\u001b[1;31mIndexError\u001b[0m: list index out of range"
     ]
    }
   ],
   "source": [
    "dup_data = []\n",
    "uniq_data = []\n",
    "\n",
    "for i in range(len(data)):\n",
    "    for j in range(i,len(data)):\n",
    "        if data[i]['customer_list'] == data[j][\"customer_list\"]:\n",
    "            if data[i]['customer_list'] not in dup_data[j]['customer_list']:\n",
    "                dup_data.append(data[j])\n",
    "\n",
    "print(dup_data)\n",
    "#print(uniq_data)          "
   ]
  },
  {
   "cell_type": "code",
   "execution_count": 10,
   "id": "b9eae90a",
   "metadata": {},
   "outputs": [
    {
     "name": "stdout",
     "output_type": "stream",
     "text": [
      "['odd', 'even', 'odd', 'even', 'odd']\n"
     ]
    }
   ],
   "source": [
    "list1 = [1,2,3,4,5]\n",
    "print([(lambda x: 'even' if x%2==0 else 'odd') (i) for i in list1])"
   ]
  },
  {
   "cell_type": "code",
   "execution_count": 14,
   "id": "ecacb38a",
   "metadata": {},
   "outputs": [
    {
     "data": {
      "text/plain": [
       "['odd', 'even ', 'odd', 'even ', 'odd']"
      ]
     },
     "execution_count": 14,
     "metadata": {},
     "output_type": "execute_result"
    }
   ],
   "source": [
    "list1 = [1,2,3,4,5]\n",
    "['even 'if i%2==0 else 'odd' for i in list1]"
   ]
  },
  {
   "cell_type": "code",
   "execution_count": 35,
   "id": "79bb6857",
   "metadata": {},
   "outputs": [
    {
     "name": "stdout",
     "output_type": "stream",
     "text": [
      "117\n"
     ]
    }
   ],
   "source": [
    "class Solution(object):\n",
    "    def diagonalSum(self, mat):\n",
    "        n = len(mat)\n",
    "        res = 0\n",
    "        for i in range(n):\n",
    "            res += mat[i][i] + mat[i][i]\n",
    "        if n % 2 == 1:\n",
    "            mid = n // 2\n",
    "            res -= mat[mid][mid]\n",
    "            return res\n",
    "mat = [[1,2,3,4,5],\n",
    "       [6,7,8,9,10],\n",
    "       [11,12,13,14,15],\n",
    "       [16,17,18,19,20],\n",
    "       [21,22,23,24,25]\n",
    "      ]\n",
    "       \n",
    "obj1 = Solution()\n",
    "a=obj1.diagonalSum(mat)\n",
    "print(a)"
   ]
  },
  {
   "cell_type": "code",
   "execution_count": 2,
   "id": "9778a087",
   "metadata": {},
   "outputs": [
    {
     "name": "stdout",
     "output_type": "stream",
     "text": [
      "177\n"
     ]
    }
   ],
   "source": [
    "list1 = [\n",
    "    [1,2,3,4],\n",
    "    [5,6,7,8],\n",
    "    [50,60,70,80],\n",
    "    [13,14,15,16]\n",
    "]\n",
    "\n",
    "result = 0\n",
    "idx = 0\n",
    "for i in range(len(list1)):\n",
    "    result += list1[i][i]\n",
    "for j in range(len(list1)-1, -1, -1):\n",
    "    result += list1[idx][j]\n",
    "    idx += 1\n",
    "print(result)\n",
    "    "
   ]
  },
  {
   "cell_type": "code",
   "execution_count": 2,
   "id": "3989a92c",
   "metadata": {},
   "outputs": [
    {
     "name": "stdout",
     "output_type": "stream",
     "text": [
      "25\n"
     ]
    }
   ],
   "source": [
    "\n",
    "def diagonal(mat):\n",
    "    n = len(mat)\n",
    "    res = 0\n",
    "    for i in range(n):\n",
    "        res += mat[i][i] + mat[i][i]\n",
    "    if n % 2 == 1:\n",
    "        mid = n // 2\n",
    "        res -= mat[mid][mid]\n",
    "    return res\n",
    "mat = [\n",
    "    [1,2,3],\n",
    "    [4,5,6],\n",
    "    [7,8,9]\n",
    "]\n",
    "output=diagonal(mat)\n",
    "print(output)"
   ]
  },
  {
   "cell_type": "code",
   "execution_count": 1,
   "id": "aa380c28",
   "metadata": {},
   "outputs": [
    {
     "name": "stdout",
     "output_type": "stream",
     "text": [
      "68\n"
     ]
    }
   ],
   "source": [
    "mat = [\n",
    "    [4,3,2,1],\n",
    "    [5,6,7,8],\n",
    "    [9,10,11,12],\n",
    "    [13,14,15,16]\n",
    "]\n",
    "n = len(mat)\n",
    "res = 0\n",
    "for i in range(n):\n",
    "    res += mat[i][i]\n",
    "    \n",
    "a=0\n",
    "for j in range(n-1, -1, -1):\n",
    "    res += mat[a][j]\n",
    "    a += 1\n",
    "print(res)\n"
   ]
  },
  {
   "cell_type": "code",
   "execution_count": 8,
   "id": "7640a5e6",
   "metadata": {},
   "outputs": [
    {
     "name": "stdout",
     "output_type": "stream",
     "text": [
      "26\n"
     ]
    }
   ],
   "source": [
    "mat = [\n",
    "    [1,2,3],\n",
    "    [4,6,6],\n",
    "    [7,8,9]\n",
    "]\n",
    "\n",
    "n = len(mat)\n",
    "res = 0\n",
    "for i in range(n):\n",
    "    res += mat[i][i] + mat[i][i]\n",
    "if n % 2 == 1:\n",
    "    mid = n // 2\n",
    "    res -= mat[mid][mid]\n",
    "print(res)\n"
   ]
  },
  {
   "cell_type": "code",
   "execution_count": 4,
   "id": "d3c3eb1b",
   "metadata": {},
   "outputs": [
    {
     "name": "stdout",
     "output_type": "stream",
     "text": [
      "A3B2C3\n"
     ]
    }
   ],
   "source": [
    "str1='AAABBCCCAA'\n",
    "char_count = ''\n",
    "count = 1\n",
    "\n",
    "for i in range(len(str1)-1):\n",
    "    if i <len(str1) and str1[i] == str1[i+1]:\n",
    "        count += 1\n",
    "    else:\n",
    "        char_count += str1[i]+str(count)\n",
    "        count = 1\n",
    "print(char_count)\n",
    "    "
   ]
  },
  {
   "cell_type": "code",
   "execution_count": 2,
   "id": "a26becc4",
   "metadata": {},
   "outputs": [
    {
     "name": "stdout",
     "output_type": "stream",
     "text": [
      "1\n",
      "5\n",
      "3\n",
      "4\n",
      "1\n"
     ]
    }
   ],
   "source": [
    "lst1= ['aqm', 'aaqmaaa', 'aaqma', 'aaqmaa', 'asd']\n",
    "a = 'aeiou'\n",
    "for element in lst1:\n",
    "    vowel=len([j for j in element if j in a])\n",
    "    print(vowel)"
   ]
  },
  {
   "cell_type": "code",
   "execution_count": 3,
   "id": "9f120df0",
   "metadata": {},
   "outputs": [
    {
     "name": "stdout",
     "output_type": "stream",
     "text": [
      "1\n",
      "5\n",
      "3\n",
      "4\n",
      "1\n"
     ]
    }
   ],
   "source": [
    "lst1= ['aqm', 'aaqmaaa', 'aaqma', 'aaqmaa', 'asd']\n",
    "a = 'aeiou'\n",
    "\n",
    "for element in lst1:\n",
    "    b = []\n",
    "    for j in element:\n",
    "        if j in a:\n",
    "            b.append(j)\n",
    "    vowel = len(b)\n",
    "    print(vowel)\n",
    "            "
   ]
  },
  {
   "cell_type": "code",
   "execution_count": 13,
   "id": "919ce991",
   "metadata": {},
   "outputs": [
    {
     "name": "stdout",
     "output_type": "stream",
     "text": [
      "10\n",
      "A3B2C3A2\n"
     ]
    }
   ],
   "source": [
    "str1='AAABBCCCAA'\n",
    "print(len(str1))\n",
    "str2 = ''\n",
    "count = 1\n",
    "for i in range(len(str1)):\n",
    "    if i < len(str1)-1 and str1[i]==str1[i+1]:\n",
    "        count += 1\n",
    "    else:\n",
    "        str2 += str1[i] + str(count)\n",
    "        count = 1\n",
    "print(str2)"
   ]
  },
  {
   "cell_type": "code",
   "execution_count": 42,
   "id": "651cb9ea",
   "metadata": {},
   "outputs": [
    {
     "name": "stdout",
     "output_type": "stream",
     "text": [
      "3 8\n"
     ]
    }
   ],
   "source": [
    "str1 = \"programming\"\n",
    "vowel = 'aeiou'\n",
    "v = 0\n",
    "c = 0\n",
    "for i in str1:\n",
    "    if i in vowel:\n",
    "        v += 1\n",
    "    else:\n",
    "        c += 1\n",
    "print(v,c)"
   ]
  },
  {
   "cell_type": "code",
   "execution_count": 16,
   "id": "4e7b9250",
   "metadata": {},
   "outputs": [
    {
     "name": "stdout",
     "output_type": "stream",
     "text": [
      "************1\n",
      "@@@@@@@@@@@@1\n",
      "Hello\n",
      "@@@@@@@@@@@@\n",
      "************\n",
      "Mumbai Coding Club\n"
     ]
    }
   ],
   "source": [
    "def decor1(func2):\n",
    "    def wrap():\n",
    "        print(\"************1\")\n",
    "        func2()\n",
    "        print(\"************\")\n",
    "    return wrap\n",
    "def decor2(func1):\n",
    "    def wrap():\n",
    "        print(\"@@@@@@@@@@@@1\")\n",
    "        func1()\n",
    "        print(\"@@@@@@@@@@@@\")\n",
    "    return wrap\n",
    "     \n",
    "@decor1 \n",
    "@decor2\n",
    "def sayhellogfg():\n",
    "    print(\"Hello\")\n",
    "def saygfg():\n",
    "    print(\"Mumbai Coding Club\")\n",
    "         \n",
    "sayhellogfg()\n",
    "saygfg()"
   ]
  },
  {
   "cell_type": "code",
   "execution_count": 15,
   "id": "49f3fbb1",
   "metadata": {},
   "outputs": [
    {
     "name": "stdout",
     "output_type": "stream",
     "text": [
      "None\n"
     ]
    }
   ],
   "source": [
    "def divide(func):\n",
    "    def inner_func(a,b):\n",
    "        \n",
    "        if b==0:\n",
    "            print('Please dont Divide by 0')\n",
    "        else:\n",
    "            func(a,b)\n",
    "    return inner_func\n",
    " \n",
    "@divide\n",
    "def div (a,b):\n",
    "    return(a/b)\n",
    "\n",
    "a=div(8,2)\n",
    "print(a)"
   ]
  },
  {
   "cell_type": "code",
   "execution_count": 29,
   "id": "a9517c6c",
   "metadata": {},
   "outputs": [
    {
     "name": "stdout",
     "output_type": "stream",
     "text": [
      "Enter first number:-3\n",
      "Enter second number:-3\n",
      "6.0\n",
      "Enter third number:-3\n",
      "addition is : 9.0\n"
     ]
    }
   ],
   "source": [
    "def decor(func1):\n",
    "    def inner():\n",
    "        result = func1()     # existing functionality\n",
    "        print(result)\n",
    "#         add new functionality\n",
    "        num3 = float(input('Enter third number:-'))\n",
    "        result += num3\n",
    "        return result\n",
    "    return inner\n",
    "        \n",
    "\n",
    "\n",
    "\n",
    "def addition():\n",
    "    num1 = float(input('Enter first number:-'))\n",
    "    num2 = float(input('Enter second number:-'))\n",
    "    result = num1 + num2\n",
    "    return result\n",
    "\n",
    "addit = decor(addition)\n",
    "print('addition is :',addit())"
   ]
  },
  {
   "cell_type": "code",
   "execution_count": 21,
   "id": "6c006658",
   "metadata": {},
   "outputs": [
    {
     "name": "stdout",
     "output_type": "stream",
     "text": [
      "tocken: pqr\n",
      "list1: ['abc', 'pqr', '\"xyz tpq\"', 'syz', '\"mpl saq ddda\"', 'pqr']\n"
     ]
    }
   ],
   "source": [
    "def decodeTocken(str1):\n",
    "    count = 2\n",
    "    tocken = ''\n",
    "    list1 = []\n",
    "    flag = False\n",
    "    for char in str1:\n",
    "        if char == '\"' and count:\n",
    "            count -= 1\n",
    "            tocken += char\n",
    "            flag = True\n",
    "            \n",
    "            if not count:\n",
    "                list1.append(tocken)\n",
    "                tocken = ''\n",
    "                count = 2\n",
    "                flag = False\n",
    "        elif char == ' ' and flag == False and tocken:\n",
    "            list1.append(tocken)\n",
    "            tocken = ''\n",
    "                \n",
    "        else:\n",
    "            if char == ' ' and flag == False:\n",
    "                continue\n",
    "            tocken += char\n",
    "    list1.append(tocken)\n",
    "                \n",
    "    \n",
    "    print('tocken:', tocken)\n",
    "    print('list1:', list1)\n",
    "\n",
    "\n",
    "str1 = 'abc pqr \"xyz tpq\" syz \"mpl saq ddda\" pqr'\n",
    "decodeTocken(str1)"
   ]
  },
  {
   "cell_type": "code",
   "execution_count": null,
   "id": "8bfe7b90",
   "metadata": {},
   "outputs": [],
   "source": [
    "def validate_roll(self, value):\n",
    "    if value > 200:\n",
    "        raise serializers.ValidationError('Seat full')\n",
    "    return value"
   ]
  },
  {
   "cell_type": "code",
   "execution_count": 56,
   "id": "a157badd",
   "metadata": {},
   "outputs": [
    {
     "name": "stdout",
     "output_type": "stream",
     "text": [
      "a2b1c3a3\n"
     ]
    }
   ],
   "source": [
    "str1 = 'aabcccaaabb'\n",
    "count = 1\n",
    "str2 = ''\n",
    "for i in range(len(str1)-1):\n",
    "    if str1[i] == str1[i+1]:\n",
    "        count += 1\n",
    "        \n",
    "    else:\n",
    "        str2 += str1[i] + str(count)\n",
    "        count = 1\n",
    "print(str2)"
   ]
  },
  {
   "cell_type": "code",
   "execution_count": 61,
   "id": "62931926",
   "metadata": {},
   "outputs": [
    {
     "name": "stdout",
     "output_type": "stream",
     "text": [
      "A3B1C3A2\n"
     ]
    }
   ],
   "source": [
    "str1='AAABCCCAA'\n",
    "str2 = ''\n",
    "count = 1\n",
    "for i in range(len(str1)):\n",
    "    if i < len(str1)-1 and str1[i]==str1[i+1]:\n",
    "        count += 1\n",
    "    else:\n",
    "        str2 += str1[i] + str(count)\n",
    "        count = 1\n",
    "print(str2)"
   ]
  },
  {
   "cell_type": "code",
   "execution_count": 24,
   "id": "0686892e",
   "metadata": {},
   "outputs": [
    {
     "name": "stdout",
     "output_type": "stream",
     "text": [
      "[{'M': '--', 'T': 'EM L AW', 'W': '--', 'Th': '--', 'F': 'EM L AW'}, {'M': 'BDLT L VB', 'T': '--', 'W': '--', 'Th': '--', 'F': 'BDLT L VB'}, {'M': 'CCS L ZM', 'T': 'BDA L AS', 'W': 'BDA L AS', 'Th': 'BC g VB / CC g ZM', 'F': 'CCS L ZM'}, {'M': '--', 'T': '--', 'W': '--', 'Th': 'EM L AW', 'F': 'BC g VB / CC g ZM'}, {'M': '--', 'T': '--', 'W': 'CCS L ZM', 'Th': 'BDA L AS', 'F': '--'}, {'M': 'EM L AW', 'T': 'CCS L ZM', 'W': 'BC g VB / CC g ZM', 'Th': 'BDLT L VB', 'F': '--'}]\n"
     ]
    }
   ],
   "source": [
    "list1 = [\n",
    "    ['--', 'EM L AW', '--', '--', 'EM L AW'],\n",
    "    ['BDLT L VB', '--', '--', '--', 'BDLT L VB'],\n",
    "    ['CCS L ZM', 'BDA L AS', 'BDA L AS', 'BC g VB / CC g ZM', 'CCS L ZM'],\n",
    "    ['--', '--', '--', 'EM L AW', 'BC g VB / CC g ZM'],\n",
    "    ['--', '--', 'CCS L ZM', 'BDA L AS', '--'],\n",
    "    ['EM L AW', 'CCS L ZM', 'BC g VB / CC g ZM', 'BDLT L VB', '--']\n",
    "]\n",
    "\n",
    "list2 = []\n",
    "\n",
    "for i in range(len(list1)):\n",
    "    list3 = ['M', 'T', 'W', 'Th', 'F', 'S', 'Su']\n",
    "    list2.append({})\n",
    "    for j in range(len(list1[i])):\n",
    "        list2[i][list3[j]] = list1[i][j]\n",
    "    \n",
    "print(list2)"
   ]
  },
  {
   "cell_type": "code",
   "execution_count": 47,
   "id": "c81e6e02",
   "metadata": {},
   "outputs": [
    {
     "name": "stdout",
     "output_type": "stream",
     "text": [
      "[{'M': 'sarfraz', 'T': 'junaid', 'W': 'Minhaj', 'Th': 'khalid'}, {'M': 'sufyan', 'T': 'sadik'}]\n"
     ]
    }
   ],
   "source": [
    "list1 = [\n",
    "    ['sarfraz', 'junaid', 'Minhaj', 'khalid'],\n",
    "    ['sufyan', 'sadik']\n",
    "]\n",
    "\n",
    "list2 = []\n",
    "\n",
    "for i in range(len(list1)):\n",
    "    list3 = ['M', 'T', 'W', 'Th', 'F', 'S', 'Su']\n",
    "    list2.append({})\n",
    "    for j in range(len(list1[i])):\n",
    "        list2[i][list3[j]] = list1[i][j]\n",
    "    \n",
    "print(list2)"
   ]
  },
  {
   "cell_type": "code",
   "execution_count": 50,
   "id": "2971996e",
   "metadata": {},
   "outputs": [
    {
     "name": "stdout",
     "output_type": "stream",
     "text": [
      "[1, 2, 3]\n"
     ]
    }
   ],
   "source": [
    "name = [1,2,3]\n",
    "print(name)"
   ]
  },
  {
   "cell_type": "code",
   "execution_count": 86,
   "id": "0d1fea2c",
   "metadata": {},
   "outputs": [
    {
     "name": "stdout",
     "output_type": "stream",
     "text": [
      "    * \n",
      "    * * \n",
      "    * * * \n",
      "    * * * * \n",
      "    * * * * * \n"
     ]
    }
   ],
   "source": [
    "\n",
    "for row in range(1,6):\n",
    "    for column in(1, row):\n",
    "        print(' ', end=' ')\n",
    "    for column in range(1, row+1):\n",
    "        print('*', end=' ')\n",
    "     \n",
    "    print('')"
   ]
  },
  {
   "cell_type": "code",
   "execution_count": 90,
   "id": "bfd76ebd",
   "metadata": {},
   "outputs": [
    {
     "name": "stdout",
     "output_type": "stream",
     "text": [
      "* * * * * \n",
      "  * * * * \n",
      "    * * * \n",
      "      * * \n",
      "        * \n"
     ]
    }
   ],
   "source": [
    "for row in range(1,6):\n",
    "    for column in range(1, row):\n",
    "        print(' ', end=' ')\n",
    "    for column1 in range(1, 7-row):\n",
    "        print('*', end=' ')\n",
    "    print('')"
   ]
  },
  {
   "cell_type": "code",
   "execution_count": 95,
   "id": "476ecc47",
   "metadata": {},
   "outputs": [
    {
     "name": "stdout",
     "output_type": "stream",
     "text": [
      "* * * * * \n",
      "  * * * * \n",
      "    * * * \n",
      "      * * \n",
      "        * \n",
      "          \n"
     ]
    }
   ],
   "source": [
    "for row in range(6):\n",
    "    for column in range(row):\n",
    "        print(' ', end=' ')\n",
    "    for column1 in range(5-row):\n",
    "        print('*', end=' ')\n",
    "    print('')"
   ]
  },
  {
   "cell_type": "code",
   "execution_count": 5,
   "id": "4ebbd0f5",
   "metadata": {},
   "outputs": [
    {
     "name": "stdout",
     "output_type": "stream",
     "text": [
      "--------*-\n",
      "------*-*-*-\n",
      "----*-*-*-*-*-\n",
      "--*-*-*-*-*-*-*-\n",
      "*-*-*-*-*-*-*-*-*-\n"
     ]
    }
   ],
   "source": [
    "for row in range(1,6):\n",
    "    for column in range(1, 6-row):\n",
    "        print('-', end='-')\n",
    "    for column1 in range(1, (2*row-1) +1):\n",
    "        print('*', end='-')\n",
    "    print('')"
   ]
  },
  {
   "cell_type": "code",
   "execution_count": 84,
   "id": "675bce55",
   "metadata": {},
   "outputs": [
    {
     "name": "stdout",
     "output_type": "stream",
     "text": [
      "        * \n",
      "      * * \n",
      "    * * * \n",
      "  * * * * \n",
      "* * * * * \n"
     ]
    }
   ],
   "source": [
    "for row in range(1,6):\n",
    "    for column in range(1, 6-row):\n",
    "        print(' ', end=' ')\n",
    "    for column1 in range(1, row+1):\n",
    "        print('*', end=' ')\n",
    "    print('')"
   ]
  },
  {
   "cell_type": "code",
   "execution_count": 102,
   "id": "86362e23",
   "metadata": {},
   "outputs": [
    {
     "data": {
      "text/plain": [
       "4"
      ]
     },
     "execution_count": 102,
     "metadata": {},
     "output_type": "execute_result"
    }
   ],
   "source": [
    "(2*2-1)+1"
   ]
  },
  {
   "cell_type": "code",
   "execution_count": 110,
   "id": "85ed0630",
   "metadata": {},
   "outputs": [
    {
     "name": "stdout",
     "output_type": "stream",
     "text": [
      "* * * * * \n",
      "  * * * * \n",
      "    * * * \n",
      "      * * \n",
      "        * \n"
     ]
    }
   ],
   "source": [
    "for row in range(1, 6):\n",
    "    for column in range(1, row):\n",
    "        print(' ', end=' ')\n",
    "    for column1 in range(6-row):\n",
    "        print('*', end=' ')\n",
    "    print()"
   ]
  },
  {
   "cell_type": "code",
   "execution_count": 4,
   "id": "677e0388",
   "metadata": {},
   "outputs": [
    {
     "name": "stdout",
     "output_type": "stream",
     "text": [
      "1\n"
     ]
    }
   ],
   "source": [
    "dic1 = {'image':[{'id':1}, {'id': 2}]}\n",
    "for i in dic1:\n",
    "    print(dic1[i][0]['id'])"
   ]
  },
  {
   "cell_type": "code",
   "execution_count": 45,
   "id": "74ba2536",
   "metadata": {},
   "outputs": [
    {
     "name": "stdout",
     "output_type": "stream",
     "text": [
      "a\n",
      "-=b\n",
      "c\n"
     ]
    }
   ],
   "source": [
    "print('a')\n",
    "print('-', end='=')\n",
    "print('b')\n",
    "print('c')"
   ]
  },
  {
   "cell_type": "code",
   "execution_count": 37,
   "id": "5930d108",
   "metadata": {},
   "outputs": [
    {
     "name": "stdout",
     "output_type": "stream",
     "text": [
      "------* \n",
      "----* * * \n",
      "--* * * * * \n",
      "* * * * * * * \n"
     ]
    }
   ],
   "source": [
    "for row in range(1,5):\n",
    "    for column in range(1, 5-row):\n",
    "        print('-', end='-')\n",
    "    for column in range(1, (2*row-1) +1):\n",
    "        print('*', end=' ')\n",
    "    print('')"
   ]
  },
  {
   "cell_type": "code",
   "execution_count": 20,
   "id": "d7274c7b",
   "metadata": {},
   "outputs": [
    {
     "name": "stdout",
     "output_type": "stream",
     "text": [
      "--------* \n",
      "------* * \n",
      "----* * * \n",
      "--* * * * \n",
      "* * * * * \n"
     ]
    }
   ],
   "source": [
    "for row in range(1, 6):\n",
    "    for column in range(1, 6-row):\n",
    "        print('-', end='-')\n",
    "    for column in range(1, row+1):\n",
    "        print('*', end=' ')\n",
    "    print('')"
   ]
  },
  {
   "cell_type": "code",
   "execution_count": 44,
   "id": "d8ef63fc",
   "metadata": {},
   "outputs": [
    {
     "name": "stdout",
     "output_type": "stream",
     "text": [
      "* * * * * \n",
      "  * * * * \n",
      "    * * * \n",
      "      * * \n",
      "        * \n"
     ]
    }
   ],
   "source": [
    "for row in range(1, 6):\n",
    "    for column in range(1, row):\n",
    "        print(' ', end=' ')\n",
    "    for column in range(1, 7-row):\n",
    "        print('*', end=' ')\n",
    "    print('')"
   ]
  },
  {
   "cell_type": "code",
   "execution_count": 14,
   "id": "7e3f676b",
   "metadata": {},
   "outputs": [
    {
     "name": "stdout",
     "output_type": "stream",
     "text": [
      "12\n"
     ]
    }
   ],
   "source": [
    "a = 'aaa'\n",
    "b = 'bbbbb'\n",
    "c = 'ccccccc12345'\n",
    "size = len(a) if len(a) > len(b) else len(b) if len(b) > len(c) else len(c)\n",
    "print(size)"
   ]
  },
  {
   "cell_type": "code",
   "execution_count": 18,
   "id": "728c3131",
   "metadata": {},
   "outputs": [
    {
     "name": "stdout",
     "output_type": "stream",
     "text": [
      "7\n"
     ]
    }
   ],
   "source": [
    "a = 'aaa'\n",
    "b = 'bbbbb1223345'\n",
    "c = 'ccccccc'\n",
    "size = len(a) if a > b else len(b) if b > c else len(c)\n",
    "print(size)"
   ]
  },
  {
   "cell_type": "code",
   "execution_count": 4,
   "id": "170c54a9",
   "metadata": {},
   "outputs": [
    {
     "name": "stdout",
     "output_type": "stream",
     "text": [
      "1\n",
      "2\n",
      "4\n",
      "8\n"
     ]
    },
    {
     "ename": "StopIteration",
     "evalue": "",
     "output_type": "error",
     "traceback": [
      "\u001b[1;31m---------------------------------------------------------------------------\u001b[0m",
      "\u001b[1;31mStopIteration\u001b[0m                             Traceback (most recent call last)",
      "Input \u001b[1;32mIn [4]\u001b[0m, in \u001b[0;36m<cell line: 32>\u001b[1;34m()\u001b[0m\n\u001b[0;32m     30\u001b[0m \u001b[38;5;28mprint\u001b[39m(\u001b[38;5;28mnext\u001b[39m(i)) \u001b[38;5;66;03m# prints 4\u001b[39;00m\n\u001b[0;32m     31\u001b[0m \u001b[38;5;28mprint\u001b[39m(\u001b[38;5;28mnext\u001b[39m(i)) \u001b[38;5;66;03m# prints 8\u001b[39;00m\n\u001b[1;32m---> 32\u001b[0m \u001b[38;5;28mprint\u001b[39m(\u001b[38;5;28;43mnext\u001b[39;49m\u001b[43m(\u001b[49m\u001b[43mi\u001b[49m\u001b[43m)\u001b[49m)\n",
      "Input \u001b[1;32mIn [4]\u001b[0m, in \u001b[0;36mPowTwo.__next__\u001b[1;34m(self)\u001b[0m\n\u001b[0;32m     16\u001b[0m     \u001b[38;5;28;01mreturn\u001b[39;00m result\n\u001b[0;32m     17\u001b[0m \u001b[38;5;28;01melse\u001b[39;00m:\n\u001b[1;32m---> 18\u001b[0m     \u001b[38;5;28;01mraise\u001b[39;00m \u001b[38;5;167;01mStopIteration\u001b[39;00m\n",
      "\u001b[1;31mStopIteration\u001b[0m: "
     ]
    }
   ],
   "source": [
    "class PowTwo:\n",
    "    \"\"\"Class to implement an iterator\n",
    "    of powers of two\"\"\"\n",
    "\n",
    "    def __init__(self, max=0):\n",
    "        self.max = max\n",
    "\n",
    "    def __iter__(self):\n",
    "        self.n = 0\n",
    "        return self\n",
    "\n",
    "    def __next__(self):\n",
    "        if self.n <= self.max:\n",
    "            result = 2 ** self.n\n",
    "            self.n += 1\n",
    "            return result\n",
    "        else:\n",
    "            raise StopIteration\n",
    "\n",
    "\n",
    "# create an object\n",
    "numbers = PowTwo(3)\n",
    "\n",
    "# create an iterable from the object\n",
    "i = iter(numbers)\n",
    "\n",
    "# Using next to get to the next iterator element\n",
    "print(next(i)) # prints 1\n",
    "print(next(i)) # prints 2\n",
    "print(next(i)) # prints 4\n",
    "print(next(i)) # prints 8\n",
    "print(next(i)) # raises StopIteration exception"
   ]
  },
  {
   "cell_type": "code",
   "execution_count": 5,
   "id": "e26a6b3d",
   "metadata": {},
   "outputs": [
    {
     "name": "stdout",
     "output_type": "stream",
     "text": [
      "{'max': 3, 'power': 4}\n",
      "1\n",
      "4\n",
      "16\n",
      "64\n"
     ]
    },
    {
     "ename": "StopIteration",
     "evalue": "",
     "output_type": "error",
     "traceback": [
      "\u001b[1;31m---------------------------------------------------------------------------\u001b[0m",
      "\u001b[1;31mStopIteration\u001b[0m                             Traceback (most recent call last)",
      "Input \u001b[1;32mIn [5]\u001b[0m, in \u001b[0;36m<cell line: 27>\u001b[1;34m()\u001b[0m\n\u001b[0;32m     25\u001b[0m \u001b[38;5;28mprint\u001b[39m(\u001b[38;5;28mnext\u001b[39m(power))\n\u001b[0;32m     26\u001b[0m \u001b[38;5;28mprint\u001b[39m(\u001b[38;5;28mnext\u001b[39m(power))\n\u001b[1;32m---> 27\u001b[0m \u001b[38;5;28mprint\u001b[39m(\u001b[38;5;28;43mnext\u001b[39;49m\u001b[43m(\u001b[49m\u001b[43mpower\u001b[49m\u001b[43m)\u001b[49m)\n\u001b[0;32m     28\u001b[0m \u001b[38;5;28mprint\u001b[39m(\u001b[38;5;28mnext\u001b[39m(power))\n",
      "Input \u001b[1;32mIn [5]\u001b[0m, in \u001b[0;36mPowTwo.__next__\u001b[1;34m(self)\u001b[0m\n\u001b[0;32m     14\u001b[0m     \u001b[38;5;28;01mreturn\u001b[39;00m result\n\u001b[0;32m     15\u001b[0m \u001b[38;5;28;01melse\u001b[39;00m:\n\u001b[1;32m---> 16\u001b[0m     \u001b[38;5;28;01mraise\u001b[39;00m \u001b[38;5;167;01mStopIteration\u001b[39;00m\n",
      "\u001b[1;31mStopIteration\u001b[0m: "
     ]
    }
   ],
   "source": [
    "class PowTwo():\n",
    "    def __init__(self, max1=0, power=0):\n",
    "        self.max = max1\n",
    "        self.power = power\n",
    "    \n",
    "    def __iter__(self):\n",
    "        self.n = 0\n",
    "        return self\n",
    "    \n",
    "    def __next__(self):\n",
    "        if self.n <= self.max:\n",
    "            result = self.power ** self.n\n",
    "            self.n += 1\n",
    "            return result\n",
    "        else:\n",
    "            raise StopIteration\n",
    "            \n",
    "p1 = PowTwo(3,4)\n",
    "print(p1.__dict__)\n",
    "\n",
    "power = iter(p1)\n",
    "\n",
    "print(next(power))\n",
    "print(next(power))\n",
    "print(next(power))\n",
    "print(next(power))\n",
    "print(next(power))\n",
    "print(next(power))\n",
    "\n",
    "    \n",
    "        "
   ]
  },
  {
   "cell_type": "code",
   "execution_count": 3,
   "id": "82803f66",
   "metadata": {},
   "outputs": [
    {
     "name": "stdout",
     "output_type": "stream",
     "text": [
      "        * \n",
      "      * * * \n",
      "    * * * * * \n",
      "  * * * * * * * \n",
      "* * * * * * * * * \n"
     ]
    }
   ],
   "source": [
    "for row in range(1, 6):\n",
    "    for column in range(1, 6-row):\n",
    "        print(' ', end=' ')\n",
    "    for column in range(1, 2*row):\n",
    "        print('*', end=' ')\n",
    "    print('')"
   ]
  },
  {
   "cell_type": "code",
   "execution_count": 20,
   "id": "bec2bb4e",
   "metadata": {},
   "outputs": [
    {
     "name": "stdout",
     "output_type": "stream",
     "text": [
      "a\n",
      "-=b\n",
      "v\n"
     ]
    }
   ],
   "source": [
    "print('a')\n",
    "print('-', end='=')\n",
    "print('b')\n",
    "print('v')"
   ]
  },
  {
   "cell_type": "code",
   "execution_count": 2,
   "id": "25742a9e",
   "metadata": {},
   "outputs": [
    {
     "name": "stdout",
     "output_type": "stream",
     "text": [
      "1-\n",
      "c\n",
      "2-\n",
      "c\n",
      "3-\n",
      "c\n",
      "4-\n",
      "c\n"
     ]
    }
   ],
   "source": [
    "for i in range(1,5):\n",
    "    print(i, end='-')\n",
    "    print('')\n",
    "    print('c')\n",
    "    "
   ]
  },
  {
   "cell_type": "code",
   "execution_count": 12,
   "id": "c3836781",
   "metadata": {},
   "outputs": [
    {
     "name": "stdout",
     "output_type": "stream",
     "text": [
      "f\n",
      "fef\n",
      "fefdef\n",
      "fefdefcdef\n",
      "fefdefcdefbcdef\n",
      "fefdefcdefbcdefabcdef\n"
     ]
    }
   ],
   "source": [
    "str1 = 'abcdef'\n",
    "str3 = ''\n",
    "count = 0\n",
    "for i in str1:\n",
    "    count += -1\n",
    "    str3 += str1[count::]\n",
    "    print(str3)\n",
    "    \n",
    "    "
   ]
  },
  {
   "cell_type": "code",
   "execution_count": 24,
   "id": "80dc85f5",
   "metadata": {},
   "outputs": [
    {
     "name": "stdout",
     "output_type": "stream",
     "text": [
      "fabcde\n",
      "efabcd\n",
      "defabc\n",
      "cdefab\n",
      "bcdefa\n",
      "abcdef\n"
     ]
    }
   ],
   "source": [
    "str1 = 'abcdef'\n",
    "for i in range(len(str1)-1, -1, -1):\n",
    "    print(str1[i::], end='')\n",
    "    for j in range(i):\n",
    "        print(str1[j], end='')\n",
    "    print('')\n",
    "        "
   ]
  },
  {
   "cell_type": "code",
   "execution_count": 28,
   "id": "e50df48d",
   "metadata": {},
   "outputs": [
    {
     "name": "stdout",
     "output_type": "stream",
     "text": [
      "cannot pass string as argument\n"
     ]
    }
   ],
   "source": [
    "class Decorator(object):\n",
    "    def __init__(self, func):\n",
    "        self.function = func\n",
    "        \n",
    "    def __call__(self, *args):\n",
    "        try:\n",
    "            if any([isinstance(i, str) for i in args]):\n",
    "                raise TypeError(\"cannot pass string as argument\")\n",
    "            else:\n",
    "                return self.function(*args)\n",
    "        except Exception as obj:\n",
    "            return obj\n",
    "\n",
    "@Decorator\n",
    "def add(*args):\n",
    "    sum1 = 0\n",
    "    for num in args:\n",
    "        sum1 += num\n",
    "    return sum1\n",
    "\n",
    "print(add(10, 20, 30, '24'))\n",
    "#print(add(10, '20', 30))\n",
    "        "
   ]
  },
  {
   "cell_type": "code",
   "execution_count": 34,
   "id": "7247ec52",
   "metadata": {},
   "outputs": [
    {
     "name": "stdout",
     "output_type": "stream",
     "text": [
      "'int' object is not callable\n"
     ]
    }
   ],
   "source": [
    "class Decorator(object):\n",
    "    def __init__(self, func):\n",
    "        self.function = func\n",
    "        \n",
    "    def __call__(self, *args):\n",
    "        try:\n",
    "            if any([isinstance(i, str) for i in args]):\n",
    "                raise TypeError(\"cannot pass string as argument\")\n",
    "            else:\n",
    "                return self.function(*args)\n",
    "        except Exception as obj:\n",
    "            return obj\n",
    "\n",
    "\n",
    "def add(*args):\n",
    "    sum1 = 0\n",
    "    for num in args:\n",
    "        sum1 += num\n",
    "    return sum1\n",
    "\n",
    "obj = Decorator(add(12,10))\n",
    "print(obj(10,15))"
   ]
  },
  {
   "cell_type": "code",
   "execution_count": null,
   "id": "90f008f5",
   "metadata": {},
   "outputs": [],
   "source": []
  }
 ],
 "metadata": {
  "kernelspec": {
   "display_name": "Python 3 (ipykernel)",
   "language": "python",
   "name": "python3"
  },
  "language_info": {
   "codemirror_mode": {
    "name": "ipython",
    "version": 3
   },
   "file_extension": ".py",
   "mimetype": "text/x-python",
   "name": "python",
   "nbconvert_exporter": "python",
   "pygments_lexer": "ipython3",
   "version": "3.10.4"
  },
  "vscode": {
   "interpreter": {
    "hash": "49335d64aae0e614fc472b3f2b7d16e8038532c55ba6e230023d24a1fbad0e69"
   }
  }
 },
 "nbformat": 4,
 "nbformat_minor": 5
}
