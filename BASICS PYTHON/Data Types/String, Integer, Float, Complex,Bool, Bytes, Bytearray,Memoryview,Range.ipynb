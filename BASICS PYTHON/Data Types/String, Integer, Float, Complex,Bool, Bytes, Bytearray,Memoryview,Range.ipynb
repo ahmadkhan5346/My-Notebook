{
 "cells": [
  {
   "cell_type": "markdown",
   "id": "c3afa7e2",
   "metadata": {},
   "source": [
    "# String\n",
    "A string is a sequence of characters enclosed within singal or double quote. this characters could be anything like letters,\n",
    "number, or special symbols"
   ]
  },
  {
   "cell_type": "markdown",
   "id": "3a729e20",
   "metadata": {},
   "source": [
    "# Integer"
   ]
  },
  {
   "cell_type": "markdown",
   "id": "f8b52f85",
   "metadata": {},
   "source": [
    "The int is a data type that returns integer type values that is called int or integers the integer value can be positve or\n",
    "negative without decimal point."
   ]
  },
  {
   "cell_type": "code",
   "execution_count": 3,
   "id": "eb62432c",
   "metadata": {},
   "outputs": [
    {
     "name": "stdout",
     "output_type": "stream",
     "text": [
      "16\n"
     ]
    }
   ],
   "source": [
    "octal_num = 0o20\n",
    "print(octal_num)"
   ]
  },
  {
   "cell_type": "code",
   "execution_count": 4,
   "id": "c6404dcb",
   "metadata": {},
   "outputs": [
    {
     "name": "stdout",
     "output_type": "stream",
     "text": [
      "16\n"
     ]
    }
   ],
   "source": [
    "hexadecimal_num = 0x10\n",
    "print(hexadecimal_num)"
   ]
  },
  {
   "cell_type": "code",
   "execution_count": 7,
   "id": "1c9080ec",
   "metadata": {},
   "outputs": [
    {
     "name": "stdout",
     "output_type": "stream",
     "text": [
      "16\n"
     ]
    }
   ],
   "source": [
    "binary_num = 0b10000\n",
    "print(binary_num)"
   ]
  },
  {
   "cell_type": "markdown",
   "id": "44e1bdf3",
   "metadata": {},
   "source": [
    "# Float \n",
    "Flot are the values with the decimal point dividing the integer and the fractional parts of the number.\n",
    "use flot data type to store decimal values."
   ]
  },
  {
   "cell_type": "code",
   "execution_count": 2,
   "id": "7a12ee2e",
   "metadata": {},
   "outputs": [
    {
     "name": "stdout",
     "output_type": "stream",
     "text": [
      "12200.0\n"
     ]
    }
   ],
   "source": [
    "# Exponential float\n",
    "num = 1.22e4\n",
    "print(num)"
   ]
  },
  {
   "cell_type": "markdown",
   "id": "4abc9065",
   "metadata": {},
   "source": [
    "# Complex\n",
    "The complex is a number with a real and imaginary component represented as 3+4j"
   ]
  },
  {
   "cell_type": "markdown",
   "id": "cd4fbf35",
   "metadata": {},
   "source": [
    "# Bool"
   ]
  },
  {
   "cell_type": "code",
   "execution_count": null,
   "id": "81b9231a",
   "metadata": {},
   "outputs": [],
   "source": []
  }
 ],
 "metadata": {
  "kernelspec": {
   "display_name": "Python 3 (ipykernel)",
   "language": "python",
   "name": "python3"
  },
  "language_info": {
   "codemirror_mode": {
    "name": "ipython",
    "version": 3
   },
   "file_extension": ".py",
   "mimetype": "text/x-python",
   "name": "python",
   "nbconvert_exporter": "python",
   "pygments_lexer": "ipython3",
   "version": "3.10.4"
  }
 },
 "nbformat": 4,
 "nbformat_minor": 5
}
