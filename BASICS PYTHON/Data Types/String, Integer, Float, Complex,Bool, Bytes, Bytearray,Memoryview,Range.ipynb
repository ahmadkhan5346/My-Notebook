{
 "cells": [
  {
   "cell_type": "markdown",
   "id": "c15d103b",
   "metadata": {},
   "source": [
    "# Data type\n",
    "Data types  specify the different sizes and values can be store in the veriable\n",
    "for example python store number, string, and a list of values using different data types."
   ]
  },
  {
   "cell_type": "code",
   "execution_count": null,
   "id": "d7107889",
   "metadata": {},
   "outputs": [],
   "source": [
    "# String\n",
    "A string is a sequence of characters enclosed within singal or double quote. this characters could be anything like letters,\n",
    "number, or special symbols"
   ]
  },
  {
   "cell_type": "markdown",
   "id": "3a729e20",
   "metadata": {},
   "source": [
    "# Integer\n",
    "The int is a data type that returns integer type values that is called int or integers the integer value can be positve or negative without decimal point."
   ]
  },
  {
   "cell_type": "code",
   "execution_count": 3,
   "id": "eb62432c",
   "metadata": {},
   "outputs": [
    {
     "name": "stdout",
     "output_type": "stream",
     "text": [
      "16\n"
     ]
    }
   ],
   "source": [
    "octal_num = 0o20\n",
    "print(octal_num)"
   ]
  },
  {
   "cell_type": "code",
   "execution_count": 4,
   "id": "c6404dcb",
   "metadata": {},
   "outputs": [
    {
     "name": "stdout",
     "output_type": "stream",
     "text": [
      "16\n"
     ]
    }
   ],
   "source": [
    "hexadecimal_num = 0x10\n",
    "print(hexadecimal_num)"
   ]
  },
  {
   "cell_type": "code",
   "execution_count": 7,
   "id": "1c9080ec",
   "metadata": {},
   "outputs": [
    {
     "name": "stdout",
     "output_type": "stream",
     "text": [
      "16\n"
     ]
    }
   ],
   "source": [
    "binary_num = 0b10000\n",
    "print(binary_num)"
   ]
  },
  {
   "cell_type": "markdown",
   "id": "44e1bdf3",
   "metadata": {},
   "source": [
    "# Float \n",
    "Flot are the values with the decimal point dividing the integer and the fractional parts of the number.\n",
    "use flot data type to store decimal values."
   ]
  },
  {
   "cell_type": "code",
   "execution_count": 2,
   "id": "7a12ee2e",
   "metadata": {},
   "outputs": [
    {
     "name": "stdout",
     "output_type": "stream",
     "text": [
      "12200.0\n"
     ]
    }
   ],
   "source": [
    "# Exponential float\n",
    "num = 1.22e4\n",
    "print(num)"
   ]
  },
  {
   "cell_type": "markdown",
   "id": "4abc9065",
   "metadata": {},
   "source": [
    "# Complex\n",
    "The complex is a number with a real and imaginary component represented as 3+4j"
   ]
  },
  {
   "cell_type": "markdown",
   "id": "cd4fbf35",
   "metadata": {},
   "source": [
    "# Bool\n",
    "To represent boolean values(True and False)we use the bool data type. for example,\n",
    "when we compare two values, the expression is evaluated, and python returns the boolean True and False"
   ]
  },
  {
   "cell_type": "code",
   "execution_count": 1,
   "id": "81b9231a",
   "metadata": {},
   "outputs": [
    {
     "name": "stdout",
     "output_type": "stream",
     "text": [
      "True\n"
     ]
    }
   ],
   "source": [
    "x = 25\n",
    "y = 20\n",
    "z = x > y\n",
    "print(z)\n"
   ]
  },
  {
   "cell_type": "markdown",
   "id": "cd13b49a",
   "metadata": {},
   "source": [
    "# Bytes\n",
    "The bytes data type represent a group of numbers just like an array. we use the bytes() constructor to create bytes type,\n",
    "which also returns a bytes object. bytes are immutable, use bytes data type if we want to handle binary data like images, videos, and audio files."
   ]
  },
  {
   "cell_type": "code",
   "execution_count": 6,
   "id": "9e91af75",
   "metadata": {},
   "outputs": [
    {
     "name": "stdout",
     "output_type": "stream",
     "text": [
      "<class 'bytes'>\n",
      "9\n",
      "18\n",
      "9,14,17,11,18,"
     ]
    }
   ],
   "source": [
    "a = [9, 14, 17, 11, 18]\n",
    "byte = bytes(a)\n",
    "print(type(byte))\n",
    "print(byte[0])\n",
    "print(byte[-1])\n",
    "for i in byte:\n",
    "    print(i,end=',')"
   ]
  },
  {
   "cell_type": "code",
   "execution_count": 3,
   "id": "3718a850",
   "metadata": {},
   "outputs": [
    {
     "ename": "TypeError",
     "evalue": "'bytes' object does not support item assignment",
     "output_type": "error",
     "traceback": [
      "\u001b[1;31m---------------------------------------------------------------------------\u001b[0m",
      "\u001b[1;31mTypeError\u001b[0m                                 Traceback (most recent call last)",
      "Input \u001b[1;32mIn [3]\u001b[0m, in \u001b[0;36m<cell line: 3>\u001b[1;34m()\u001b[0m\n\u001b[0;32m      1\u001b[0m a \u001b[38;5;241m=\u001b[39m [\u001b[38;5;241m9\u001b[39m, \u001b[38;5;241m14\u001b[39m, \u001b[38;5;241m17\u001b[39m, \u001b[38;5;241m11\u001b[39m, \u001b[38;5;241m18\u001b[39m]\n\u001b[0;32m      2\u001b[0m byte \u001b[38;5;241m=\u001b[39m \u001b[38;5;28mbytes\u001b[39m(a)\n\u001b[1;32m----> 3\u001b[0m byte[\u001b[38;5;241m0\u001b[39m] \u001b[38;5;241m=\u001b[39m \u001b[38;5;241m25\u001b[39m\n\u001b[0;32m      4\u001b[0m \u001b[38;5;28mprint\u001b[39m(byte)\n",
      "\u001b[1;31mTypeError\u001b[0m: 'bytes' object does not support item assignment"
     ]
    }
   ],
   "source": [
    "a = [9, 14, 17, 11, 18]\n",
    "byte = bytes(a)\n",
    "byte[0] = 25\n",
    "print(byte)"
   ]
  },
  {
   "cell_type": "markdown",
   "id": "199a1f54",
   "metadata": {},
   "source": [
    "# Bytearray\n",
    "The bytearray data type represent a group of numbers. we use the bytearray() constructor to create bytearray type, which also returns a bytearray object. bytearray are mutable, use bytearray data type if we want to handle binary data like images, videos, and audio files."
   ]
  },
  {
   "cell_type": "code",
   "execution_count": 10,
   "id": "a4a53c05",
   "metadata": {},
   "outputs": [
    {
     "name": "stdout",
     "output_type": "stream",
     "text": [
      "<class 'bytearray'>\n",
      "bytearray(b'\\t\\x0e\\x11\\x0b\\x12')\n",
      "140\n",
      "9\n",
      "140\n",
      "17\n",
      "11\n",
      "18\n"
     ]
    }
   ],
   "source": [
    "lst = [9, 14, 17, 11, 18]\n",
    "byte_array = bytearray(lst)\n",
    "print(type(byte_array))\n",
    "print(byte_array)\n",
    "\n",
    "# Modifying bytearray\n",
    "byte_array[1] = 140\n",
    "print(byte_array[1])\n",
    "\n",
    "# Iterate bytearray\n",
    "for i in  byte_array:\n",
    "    print(i)"
   ]
  },
  {
   "cell_type": "markdown",
   "id": "3103cff8",
   "metadata": {},
   "source": [
    "# Memoryview"
   ]
  },
  {
   "cell_type": "code",
   "execution_count": 3,
   "id": "1be75a7d",
   "metadata": {},
   "outputs": [
    {
     "name": "stdout",
     "output_type": "stream",
     "text": [
      "<memory at 0x000002470412A800>\n"
     ]
    }
   ],
   "source": [
    "# creating memoryview of an object\n",
    "\n",
    "b_array = b'Pynative'\n",
    "b_array_view = memoryview(b_array)\n",
    "print(b_array_view)"
   ]
  },
  {
   "cell_type": "markdown",
   "id": "9659187f",
   "metadata": {},
   "source": [
    "# Range"
   ]
  },
  {
   "cell_type": "code",
   "execution_count": 6,
   "id": "8f260253",
   "metadata": {},
   "outputs": [
    {
     "name": "stdout",
     "output_type": "stream",
     "text": [
      "<class 'range'>\n",
      "range(10, 15)\n",
      "10\n",
      "11\n",
      "12\n",
      "13\n",
      "14\n"
     ]
    }
   ],
   "source": [
    "number = range(10, 15, 1)\n",
    "print(type(number))\n",
    "print(number)\n",
    "\n",
    "for i in range(10, 15, 1):\n",
    "    print(i)\n"
   ]
  },
  {
   "cell_type": "code",
   "execution_count": null,
   "id": "c0585141",
   "metadata": {},
   "outputs": [],
   "source": []
  }
 ],
 "metadata": {
  "kernelspec": {
   "display_name": "Python 3 (ipykernel)",
   "language": "python",
   "name": "python3"
  },
  "language_info": {
   "codemirror_mode": {
    "name": "ipython",
    "version": 3
   },
   "file_extension": ".py",
   "mimetype": "text/x-python",
   "name": "python",
   "nbconvert_exporter": "python",
   "pygments_lexer": "ipython3",
   "version": "3.10.4"
  }
 },
 "nbformat": 4,
 "nbformat_minor": 5
}
