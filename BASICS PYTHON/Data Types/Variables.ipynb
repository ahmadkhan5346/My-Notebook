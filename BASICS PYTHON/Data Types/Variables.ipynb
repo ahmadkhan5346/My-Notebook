{
 "cells": [
  {
   "cell_type": "markdown",
   "id": "903b1beb",
   "metadata": {},
   "source": [
    "# Local Variable"
   ]
  },
  {
   "cell_type": "code",
   "execution_count": 2,
   "id": "2b7f0d31",
   "metadata": {},
   "outputs": [
    {
     "name": "stdout",
     "output_type": "stream",
     "text": [
      "Price this Car is 500\n"
     ]
    }
   ],
   "source": [
    "def test1():\n",
    "    price = 500\n",
    "    print('Price this Car is',price)\n",
    "    \n",
    "def test2():\n",
    "    print('Price this Car is',price)\n",
    "    \n",
    "test1()\n",
    "# test2()"
   ]
  },
  {
   "cell_type": "markdown",
   "id": "9501ae16",
   "metadata": {},
   "source": [
    "# Global Variable"
   ]
  },
  {
   "cell_type": "code",
   "execution_count": 9,
   "id": "4c69d6a4",
   "metadata": {},
   "outputs": [
    {
     "name": "stdout",
     "output_type": "stream",
     "text": [
      "Price this Car is 500\n",
      "Price this Car is 500\n"
     ]
    }
   ],
   "source": [
    "price = 500\n",
    "\n",
    "def test1():\n",
    "    print('Price this Car is',price)\n",
    "    \n",
    "def test2():\n",
    "    print('Price this Car is',price)\n",
    "    \n",
    "test1()\n",
    "test2()"
   ]
  },
  {
   "cell_type": "code",
   "execution_count": 4,
   "id": "67153a5f",
   "metadata": {},
   "outputs": [
    {
     "name": "stdout",
     "output_type": "stream",
     "text": [
      "2342\n",
      "3297\n"
     ]
    }
   ],
   "source": [
    "import sys\n",
    "a = 10\n",
    "b = 10\n",
    "print(sys.getrefcount(a))\n",
    "\n",
    "c = 20\n",
    "d = 20\n",
    "e = 20\n",
    "print(sys.getrefcount(c))\n",
    "\n"
   ]
  },
  {
   "cell_type": "markdown",
   "id": "a90efab9",
   "metadata": {},
   "source": [
    "# packing a collection into a variable"
   ]
  },
  {
   "cell_type": "code",
   "execution_count": 2,
   "id": "f381d3ba",
   "metadata": {},
   "outputs": [
    {
     "name": "stdout",
     "output_type": "stream",
     "text": [
      "(10, 20, 30, 40)\n"
     ]
    }
   ],
   "source": [
    "a = 10\n",
    "b = 20\n",
    "c = 30\n",
    "d = 40\n",
    "tuple1 = a,b,c,d\n",
    "print(tuple1)"
   ]
  },
  {
   "cell_type": "markdown",
   "id": "ecc2b84a",
   "metadata": {},
   "source": [
    "# unpacking a collection into a variable"
   ]
  },
  {
   "cell_type": "code",
   "execution_count": 3,
   "id": "bdfaebc2",
   "metadata": {},
   "outputs": [
    {
     "name": "stdout",
     "output_type": "stream",
     "text": [
      "10 20 30 40\n"
     ]
    }
   ],
   "source": [
    "tuple1 = 10,20,30,40\n",
    "a,b,c,d = tuple1\n",
    "print(a,b,c,d)"
   ]
  },
  {
   "cell_type": "code",
   "execution_count": null,
   "id": "acd4d6fd",
   "metadata": {},
   "outputs": [],
   "source": []
  }
 ],
 "metadata": {
  "kernelspec": {
   "display_name": "Python 3 (ipykernel)",
   "language": "python",
   "name": "python3"
  },
  "language_info": {
   "codemirror_mode": {
    "name": "ipython",
    "version": 3
   },
   "file_extension": ".py",
   "mimetype": "text/x-python",
   "name": "python",
   "nbconvert_exporter": "python",
   "pygments_lexer": "ipython3",
   "version": "3.10.4"
  }
 },
 "nbformat": 4,
 "nbformat_minor": 5
}
