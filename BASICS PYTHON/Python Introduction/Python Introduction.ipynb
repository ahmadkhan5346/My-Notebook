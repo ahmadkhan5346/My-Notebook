{
 "cells": [
  {
   "cell_type": "markdown",
   "id": "7c0f3a9c",
   "metadata": {},
   "source": [
    "## What is Programming\n",
    "Programming is the process of creating a set of instructions that tell a computer how to perform a task. Programming can be done using a variety of computer programming languages, such as JavaScript, Python, and C++."
   ]
  },
  {
   "cell_type": "markdown",
   "id": "4c92325e",
   "metadata": {},
   "source": [
    "# Syntax\n",
    "###### syntax is the structure of language or set of rule that defines how a python program will be written and interpreted."
   ]
  },
  {
   "cell_type": "markdown",
   "id": "97036da0",
   "metadata": {},
   "source": [
    "# Indentaion\n",
    "###### indentaion tells a python interpreter that the group of statements belong to a particular block of code.the indentaion makes the code look neet, clean and more readable\n",
    "\n"
   ]
  },
  {
   "cell_type": "markdown",
   "id": "27350299",
   "metadata": {},
   "source": [
    "# Expression\n",
    "###### The combination of variable, operator, and value¶"
   ]
  },
  {
   "cell_type": "markdown",
   "id": "66b60893",
   "metadata": {},
   "source": [
    "## Introduction of python\n",
    "###### Python is a programming language created by \"Guido van Rossum\" in 1991. it is a powerful high-level, object oriented programming language, interpreted, dynamically typed language, easy to use syntax. it has wide range of applications from web development (Django and Flask) and mathematical computing (scipy, numpy)"
   ]
  },
  {
   "cell_type": "markdown",
   "id": "7bd61bb5",
   "metadata": {},
   "source": [
    "###### (1) General purpose programming language :\n",
    "python can be use in many domains such as Machine learning, Artificial Intelligence, Scripting,Web development, data science, data analytics, etc that is python is called general purpose language."
   ]
  },
  {
   "cell_type": "code",
   "execution_count": null,
   "id": "6a8155bf",
   "metadata": {},
   "outputs": [],
   "source": []
  }
 ],
 "metadata": {
  "kernelspec": {
   "display_name": "Python 3 (ipykernel)",
   "language": "python",
   "name": "python3"
  },
  "language_info": {
   "codemirror_mode": {
    "name": "ipython",
    "version": 3
   },
   "file_extension": ".py",
   "mimetype": "text/x-python",
   "name": "python",
   "nbconvert_exporter": "python",
   "pygments_lexer": "ipython3",
   "version": "3.10.4"
  }
 },
 "nbformat": 4,
 "nbformat_minor": 5
}
