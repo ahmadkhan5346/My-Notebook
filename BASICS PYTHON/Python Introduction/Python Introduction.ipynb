{
 "cells": [
  {
   "cell_type": "markdown",
   "id": "4c92325e",
   "metadata": {},
   "source": [
    "# Syntax"
   ]
  },
  {
   "cell_type": "markdown",
   "id": "65e9cc36",
   "metadata": {},
   "source": [
    "#### syntax is the structure of language or set of rule that defines how a python program will be written and interpreted."
   ]
  },
  {
   "cell_type": "markdown",
   "id": "97036da0",
   "metadata": {},
   "source": [
    "# Indentaion"
   ]
  },
  {
   "cell_type": "markdown",
   "id": "e308a37f",
   "metadata": {},
   "source": [
    "##### indentaion tells a python interpreter that the group of statements belong to a particular block of code.\n",
    "the indentaion makes the code look neet, clean and more readable"
   ]
  },
  {
   "cell_type": "markdown",
   "id": "27350299",
   "metadata": {},
   "source": [
    "# Expression"
   ]
  },
  {
   "cell_type": "markdown",
   "id": "8b477e11",
   "metadata": {},
   "source": [
    "##### The combination of variable, operator, and value"
   ]
  },
  {
   "cell_type": "code",
   "execution_count": null,
   "id": "1928d8d9",
   "metadata": {},
   "outputs": [],
   "source": []
  }
 ],
 "metadata": {
  "kernelspec": {
   "display_name": "Python 3 (ipykernel)",
   "language": "python",
   "name": "python3"
  },
  "language_info": {
   "codemirror_mode": {
    "name": "ipython",
    "version": 3
   },
   "file_extension": ".py",
   "mimetype": "text/x-python",
   "name": "python",
   "nbconvert_exporter": "python",
   "pygments_lexer": "ipython3",
   "version": "3.10.4"
  }
 },
 "nbformat": 4,
 "nbformat_minor": 5
}
