{
 "cells": [
  {
   "cell_type": "code",
   "execution_count": 10,
   "id": "032e4dab",
   "metadata": {},
   "outputs": [
    {
     "name": "stdout",
     "output_type": "stream",
     "text": [
      "[5, 0, 2, 3, 4, 1]\n"
     ]
    }
   ],
   "source": [
    "a=[1,5,3,2,4,0]\n",
    "b=[]\n",
    "for i in a:\n",
    "    b.append(a[i])\n",
    "print(b)"
   ]
  },
  {
   "cell_type": "code",
   "execution_count": 1,
   "id": "0fcbad9d",
   "metadata": {},
   "outputs": [
    {
     "name": "stdout",
     "output_type": "stream",
     "text": [
      "14\n"
     ]
    }
   ],
   "source": [
    "lst = [[1,5,2,3],[2,3],[1],[6,8,]]\n",
    "max1=[]\n",
    "for i in lst:\n",
    "    max1.append(sum(i))\n",
    "max1.sort()\n",
    "print(max1[-1])          "
   ]
  },
  {
   "cell_type": "code",
   "execution_count": 37,
   "id": "f890231a",
   "metadata": {},
   "outputs": [
    {
     "name": "stdout",
     "output_type": "stream",
     "text": [
      "[1, 2, 1, 1, 2, 1]\n"
     ]
    }
   ],
   "source": [
    "lst1 = [1,2,1]\n",
    "lst2 = lst1\n",
    "print(lst1+lst2)"
   ]
  },
  {
   "cell_type": "code",
   "execution_count": 85,
   "id": "e1fdde30",
   "metadata": {},
   "outputs": [
    {
     "name": "stdout",
     "output_type": "stream",
     "text": [
      "1 3 6 10 "
     ]
    }
   ],
   "source": [
    "a = [1,2,3,4]\n",
    "b = 0\n",
    "for i in a:\n",
    "    b += i\n",
    "    print(b,end=' ')"
   ]
  },
  {
   "cell_type": "code",
   "execution_count": 81,
   "id": "a1480077",
   "metadata": {},
   "outputs": [
    {
     "name": "stdout",
     "output_type": "stream",
     "text": [
      "[1, 3, 6, 10]\n"
     ]
    }
   ],
   "source": [
    "a=[1,2,3,4]\n",
    "for i in range(1, len(a)):\n",
    "    a[i] += a[i-1]\n",
    "print(a)"
   ]
  },
  {
   "cell_type": "code",
   "execution_count": 3,
   "id": "28f33cd8",
   "metadata": {},
   "outputs": [
    {
     "name": "stdout",
     "output_type": "stream",
     "text": [
      "Current time:  2022-10-14 12:11:37.684106\n"
     ]
    }
   ],
   "source": [
    "from datetime import datetime, timedelta\n",
    "print(\"Current time: \", datetime.now())\n",
    "print(datetime.now() - timedelta(days=5, hours=-5))"
   ]
  },
  {
   "cell_type": "code",
   "execution_count": 3,
   "id": "d12ec930",
   "metadata": {},
   "outputs": [
    {
     "name": "stdout",
     "output_type": "stream",
     "text": [
      "{'a': [1, 2]}\n"
     ]
    }
   ],
   "source": [
    "a={'a':[1,2]}\n",
    "print(a)"
   ]
  },
  {
   "cell_type": "code",
   "execution_count": 3,
   "id": "e7760665",
   "metadata": {},
   "outputs": [
    {
     "name": "stdout",
     "output_type": "stream",
     "text": [
      "b\n"
     ]
    }
   ],
   "source": [
    "a=['a','b']\n",
    "print(max(a))"
   ]
  },
  {
   "cell_type": "code",
   "execution_count": 8,
   "id": "947ad547",
   "metadata": {},
   "outputs": [
    {
     "name": "stdout",
     "output_type": "stream",
     "text": [
      "[1, 2, 3, 4]\n"
     ]
    }
   ],
   "source": [
    "a=[1,2,3,4,5,6]\n",
    "print(a[:-2:])"
   ]
  },
  {
   "cell_type": "code",
   "execution_count": 11,
   "id": "a43e34c0",
   "metadata": {},
   "outputs": [
    {
     "name": "stdout",
     "output_type": "stream",
     "text": [
      "9408.23\n"
     ]
    }
   ],
   "source": [
    "dic = [{\"name\":\"raja\",\"totalPremium\":2354},{\"name\":\"Vini\",\"totalPremium\":\"2345\"},\n",
    " {\"name\":\"raja\",\"totalPremium\":2354.90},{\"name\":\"raja\",\"totalPremium\":\"2354.33\"}]\n",
    "\n",
    "data = [float(i['totalPremium']) for i in dic]\n",
    "print(sum(data))"
   ]
  },
  {
   "cell_type": "code",
   "execution_count": 2,
   "id": "2c807f89",
   "metadata": {},
   "outputs": [
    {
     "name": "stdout",
     "output_type": "stream",
     "text": [
      "[{'id': 1, 'name': 'sarfraz', 'books': 'python'}]\n"
     ]
    }
   ],
   "source": [
    "stores=[]\n",
    "stores.append({'id': 1, 'name': 'sarfraz', 'books': 'python'})\n",
    "print(stores)"
   ]
  },
  {
   "cell_type": "code",
   "execution_count": 11,
   "id": "44f65d17",
   "metadata": {},
   "outputs": [
    {
     "name": "stdout",
     "output_type": "stream",
     "text": [
      "[{'a': 5, 'b': 100, 'c': 3}, {'a': 2, 'b': 1, 'c': 101}, {'a': 1, 'b': 0, 'c': 200}]\n"
     ]
    }
   ],
   "source": [
    "dict1 = [{'a':2, 'b':1, 'c':101}, {'a':1, 'b':0, 'c':200}, {'a':5, 'b':100, 'c':3}]\n",
    "for i in range(len(dict1)):\n",
    "    for j in range(len(dict1)):\n",
    "        if dict1[i]['c'] < dict1[j]['c']:\n",
    "            dict1[i],dict1[j] = dict1[j],dict1[i]\n",
    "print(dict1)"
   ]
  },
  {
   "cell_type": "code",
   "execution_count": 12,
   "id": "cbd24315",
   "metadata": {},
   "outputs": [
    {
     "name": "stdout",
     "output_type": "stream",
     "text": [
      "OrderedDict([('rajnish', '9'), ('ravi', '10'), ('sanjeev', '15'), ('suraj', '32'), ('yash', '2')])\n"
     ]
    }
   ],
   "source": [
    "from collections import OrderedDict\n",
    " \n",
    "dict1 = {'ravi': '10', 'rajnish': '9',\n",
    "        'sanjeev': '15', 'yash': '2', 'suraj': '32'}\n",
    "dict1 = OrderedDict(sorted(dict1.items()))\n",
    "print(dict1)"
   ]
  },
  {
   "cell_type": "code",
   "execution_count": 4,
   "id": "917dfb35",
   "metadata": {},
   "outputs": [
    {
     "name": "stdout",
     "output_type": "stream",
     "text": [
      "[4, 2, 6, 1, 3]\n",
      "[6, 2, 4, 1, 3]\n",
      "[2, 6, 4, 1, 3]\n",
      "[2, 4, 6, 1, 3]\n",
      "[1, 4, 6, 2, 3]\n",
      "[1, 2, 6, 4, 3]\n",
      "[1, 2, 4, 6, 3]\n",
      "[1, 2, 3, 6, 4]\n",
      "[1, 2, 3, 4, 6]\n"
     ]
    }
   ],
   "source": [
    "dict1 =[2,4,6,1,3]\n",
    "for i in range(len(dict1)):\n",
    "    for j in range(len(dict1)):\n",
    "        if dict1[i] < dict1[j]:\n",
    "            dict1[i],dict1[j] = dict1[j],dict1[i]\n",
    "            print(dict1)"
   ]
  },
  {
   "cell_type": "code",
   "execution_count": 10,
   "id": "ade041ce",
   "metadata": {},
   "outputs": [
    {
     "name": "stdout",
     "output_type": "stream",
     "text": [
      "[(56, 'apple'), ('water', 'case'), (1, 'groot'), ('dell', 'ipad'), ('teams', 'ml'), ('zoo', 'peanuts')]\n"
     ]
    }
   ],
   "source": [
    "def sort_tuple(list1):\n",
    "    for i in range(len(list1)):\n",
    "        for j in range(len(list1)):\n",
    "            if list1[i][1]<list1[j][1]:\n",
    "                list1[i], list1[j] = list1[j], list1[i]\n",
    "    return list1\n",
    "            \n",
    "tup =[(\"zoo\", \"peanuts\"),(1, 'groot'), (\"teams\",\"ml\"),('dell', 'ipad'), ('water', 'case'), (56,\"apple\")]\n",
    "list1=sort_tuple(tup)\n",
    "print(list1)      "
   ]
  },
  {
   "cell_type": "code",
   "execution_count": 1,
   "id": "09f5b19b",
   "metadata": {},
   "outputs": [
    {
     "name": "stdout",
     "output_type": "stream",
     "text": [
      "3\n"
     ]
    }
   ],
   "source": [
    "a = {'ADDA':1, 'MADAM':2, 'TILAK':3, 'SAKINAKA':1, 'MOM':6}\n",
    "count=0\n",
    "for i in a:\n",
    "#     print(i)\n",
    "    if i[0] == i[-1]:\n",
    "        count += 1\n",
    "print(count)"
   ]
  },
  {
   "cell_type": "code",
   "execution_count": null,
   "id": "abc5cf7e",
   "metadata": {},
   "outputs": [],
   "source": []
  }
 ],
 "metadata": {
  "kernelspec": {
   "display_name": "Python 3.10.4 64-bit",
   "language": "python",
   "name": "python3"
  },
  "language_info": {
   "codemirror_mode": {
    "name": "ipython",
    "version": 3
   },
   "file_extension": ".py",
   "mimetype": "text/x-python",
   "name": "python",
   "nbconvert_exporter": "python",
   "pygments_lexer": "ipython3",
   "version": "3.10.4"
  },
  "vscode": {
   "interpreter": {
    "hash": "49335d64aae0e614fc472b3f2b7d16e8038532c55ba6e230023d24a1fbad0e69"
   }
  }
 },
 "nbformat": 4,
 "nbformat_minor": 5
}
