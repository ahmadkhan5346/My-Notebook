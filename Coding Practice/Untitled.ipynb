{
 "cells": [
  {
   "cell_type": "code",
   "execution_count": 1,
   "id": "8d843600",
   "metadata": {},
   "outputs": [],
   "source": [
    "import pandas as pd"
   ]
  },
  {
   "cell_type": "code",
   "execution_count": 2,
   "id": "4ca7b935",
   "metadata": {},
   "outputs": [],
   "source": [
    "dic1 = {\n",
    "    'fetch':[\n",
    "        {\n",
    "            'stepname':'Uptime',\n",
    "            'nodes_status':{\n",
    "                \"INVIKL08ERN2SPCP01CO\": \"sarfraz\",\n",
    "                \"INVIKL08ERN2SPCP02CO\": \"junaid\",\n",
    "                \"INVIKL08ERN2SPCP03CO\": \"sadik\"\n",
    "            },\n",
    "            'checkpointId': 22\n",
    "            \n",
    "        },\n",
    "        \n",
    "        {\n",
    "            'stepname': 'Card Available',\n",
    "            'nodes_status':{\n",
    "                \"INVIKL08ERN2SPCP01CO\": \"khan\",\n",
    "                \"INVIKL08ERN2SPCP02CO\": 'Chaudhry',\n",
    "                \"INVIKL08ERN2SPCP03CO\": \"mansoori\",\n",
    "            }\n",
    "        }\n",
    "    ]\n",
    "}"
   ]
  },
  {
   "cell_type": "code",
   "execution_count": 3,
   "id": "111704bb",
   "metadata": {},
   "outputs": [
    {
     "name": "stdout",
     "output_type": "stream",
     "text": [
      "[{'NodeName': 'INVIKL08ERN2SPCP01CO', 'step1': 'sarfraz', 'step2': 'khan'}, {'NodeName': 'INVIKL08ERN2SPCP02CO', 'step1': 'junaid', 'step2': 'Chaudhry'}, {'NodeName': 'INVIKL08ERN2SPCP03CO', 'step1': 'sadik', 'step2': 'mansoori'}]\n"
     ]
    }
   ],
   "source": [
    "dic2 = []\n",
    "for i in dic1.values():\n",
    "    a=i[0]['nodes_status']\n",
    "    for j in a:\n",
    "        dic2.append({'NodeName':j})\n",
    "\n",
    "idx = 0\n",
    "step = 1\n",
    "for j in dic1['fetch']:\n",
    "    a = j['nodes_status']\n",
    "    for k in a.values():\n",
    "        dic2[idx].update({'step'+str(step):k})\n",
    "        idx += 1\n",
    "    step += 1\n",
    "    idx = 0\n",
    "print(dic2)"
   ]
  },
  {
   "cell_type": "code",
   "execution_count": 4,
   "id": "6690b17b",
   "metadata": {},
   "outputs": [
    {
     "data": {
      "text/html": [
       "<div>\n",
       "<style scoped>\n",
       "    .dataframe tbody tr th:only-of-type {\n",
       "        vertical-align: middle;\n",
       "    }\n",
       "\n",
       "    .dataframe tbody tr th {\n",
       "        vertical-align: top;\n",
       "    }\n",
       "\n",
       "    .dataframe thead th {\n",
       "        text-align: right;\n",
       "    }\n",
       "</style>\n",
       "<table border=\"1\" class=\"dataframe\">\n",
       "  <thead>\n",
       "    <tr style=\"text-align: right;\">\n",
       "      <th></th>\n",
       "      <th>NodeName</th>\n",
       "      <th>StepName</th>\n",
       "      <th>StepName</th>\n",
       "    </tr>\n",
       "  </thead>\n",
       "  <tbody>\n",
       "    <tr>\n",
       "      <th>0</th>\n",
       "      <td>INVIKL08ERN2SPCP01CO</td>\n",
       "      <td>sarfraz</td>\n",
       "      <td>khan</td>\n",
       "    </tr>\n",
       "    <tr>\n",
       "      <th>1</th>\n",
       "      <td>INVIKL08ERN2SPCP02CO</td>\n",
       "      <td>junaid</td>\n",
       "      <td>Chaudhry</td>\n",
       "    </tr>\n",
       "    <tr>\n",
       "      <th>2</th>\n",
       "      <td>INVIKL08ERN2SPCP03CO</td>\n",
       "      <td>sadik</td>\n",
       "      <td>mansoori</td>\n",
       "    </tr>\n",
       "  </tbody>\n",
       "</table>\n",
       "</div>"
      ],
      "text/plain": [
       "               NodeName StepName  StepName\n",
       "0  INVIKL08ERN2SPCP01CO  sarfraz      khan\n",
       "1  INVIKL08ERN2SPCP02CO   junaid  Chaudhry\n",
       "2  INVIKL08ERN2SPCP03CO    sadik  mansoori"
      ]
     },
     "execution_count": 4,
     "metadata": {},
     "output_type": "execute_result"
    }
   ],
   "source": [
    "df = pd.DataFrame(dic2)\n",
    "dic5 = {}\n",
    "for i in df:\n",
    "    if i != 'NodeName':\n",
    "        dic5.update({i:'StepName'})\n",
    "\n",
    "df1 = df.rename(dic5, axis=1)\n",
    "df1"
   ]
  },
  {
   "cell_type": "code",
   "execution_count": 10,
   "id": "90c43edb",
   "metadata": {},
   "outputs": [
    {
     "name": "stdout",
     "output_type": "stream",
     "text": [
      "{'INVIKL08ERN2SPCP01CO': ['sarfraz', 'khan'], 'INVIKL08ERN2SPCP02CO': ['junaid', 'Chaudhry'], 'INVIKL08ERN2SPCP03CO': ['sadik', 'mansoori']}\n"
     ]
    }
   ],
   "source": [
    "dic2 = {}\n",
    "for i in dic1['fetch']:\n",
    "    a = i['nodes_status']\n",
    "    for i, j in a.items():\n",
    "        if i not in dic2:\n",
    "            dic2.update({i:[j]})\n",
    "        else:\n",
    "            dic2[i].append(j)\n",
    "        \n",
    "print(dic2)"
   ]
  },
  {
   "cell_type": "code",
   "execution_count": 9,
   "id": "cdfd7796",
   "metadata": {},
   "outputs": [
    {
     "name": "stdout",
     "output_type": "stream",
     "text": [
      "{'INVIKL08ERN2SPCP01CO': ['sarfraz'], 'INVIKL08ERN2SPCP02CO': ['junaid'], 'INVIKL08ERN2SPCP03CO': ['sadik']}\n"
     ]
    }
   ],
   "source": [
    "dic2 = {}\n",
    "for i in dic1['fetch']:\n",
    "    a = i['nodes_status']\n",
    "    for i, j in a.items():\n",
    "        if i not in dic2:\n",
    "            dic2.update({i:[j]})\n",
    "        \n",
    "print(dic2)"
   ]
  },
  {
   "cell_type": "code",
   "execution_count": 75,
   "id": "a7c4dfe9",
   "metadata": {},
   "outputs": [
    {
     "name": "stdout",
     "output_type": "stream",
     "text": [
      "{'a': [10, 20], 'b': [20]}\n"
     ]
    }
   ],
   "source": [
    "a={'a':[10], 'b':[20]}\n",
    "a['a'].append(20)\n",
    "print(a)"
   ]
  },
  {
   "cell_type": "code",
   "execution_count": 45,
   "id": "4053e9ba",
   "metadata": {},
   "outputs": [
    {
     "name": "stdout",
     "output_type": "stream",
     "text": [
      "Pass\n",
      "Fail\n",
      "Pass\n",
      "Fail\n",
      "Pass\n",
      "Fail\n",
      "{'INVIKL08ERN2SPCP01CO': ['Fail'], 'INVIKL08ERN2SPCP02CO': ['Pass'], 'INVIKL08ERN2SPCP03CO': ['Fail']}\n"
     ]
    }
   ],
   "source": [
    "a= []\n",
    "for i in dic1[\"fetch\"]:\n",
    "    # print(i[\"node_status\"])\n",
    "    a.append(i[\"node_status\"])\n",
    "# print(a)\n",
    "\n",
    "b ={}\n",
    "for i in a:\n",
    "    for j,k in i.items():\n",
    "        b[j] = []\n",
    "        if k not in b.items():\n",
    "            b[j] = [k]\n",
    "            print(k)\n",
    "        else:\n",
    "            b[j].append([k])\n",
    "            \n",
    "            \n",
    "        \n",
    "            \n",
    "            \n",
    "print(b)\n",
    "        "
   ]
  },
  {
   "cell_type": "code",
   "execution_count": 58,
   "id": "d496d5d0",
   "metadata": {},
   "outputs": [
    {
     "name": "stdout",
     "output_type": "stream",
     "text": [
      "INVIKL08ERN2SPCP01CO Pass\n",
      "INVIKL08ERN2SPCP02CO Fail\n",
      "INVIKL08ERN2SPCP03CO Pass\n",
      "INVIKL08ERN2SPCP01CO Fail\n",
      "INVIKL08ERN2SPCP02CO Pass\n",
      "INVIKL08ERN2SPCP03CO Fail\n",
      "{'INVIKL08ERN2SPCP01CO': ['Fail'], 'INVIKL08ERN2SPCP02CO': ['Pass'], 'INVIKL08ERN2SPCP03CO': ['Fail']}\n"
     ]
    }
   ],
   "source": [
    "a= []\n",
    "for i in dic1[\"fetch\"]:\n",
    "    a.append(i[\"node_status\"])\n",
    "# print(a)\n",
    "# print(a[0])\n",
    "\n",
    "b ={}\n",
    "for i in range(len(a)):\n",
    "    for k,v in a[i].items():\n",
    "        print(k,v)\n",
    "        b[k] = [v]\n",
    "    \n",
    "            \n",
    "        \n",
    "            \n",
    "            \n",
    "print(b)"
   ]
  },
  {
   "cell_type": "code",
   "execution_count": 67,
   "id": "fe4a6c65",
   "metadata": {},
   "outputs": [
    {
     "name": "stdout",
     "output_type": "stream",
     "text": [
      "[{'NodeName': 'INVIKL08ERN2SPCP01CO', 'step1': 'sarfraz'}, {'NodeName': 'INVIKL08ERN2SPCP02CO', 'step1': 'junaid'}, {'NodeName': 'INVIKL08ERN2SPCP03CO', 'step1': 'sadik'}]\n"
     ]
    }
   ],
   "source": [
    "list1 = [{'NodeName': 'INVIKL08ERN2SPCP01CO'}, {'NodeName': 'INVIKL08ERN2SPCP02CO'}, {'NodeName': 'INVIKL08ERN2SPCP03CO'}]\n",
    "list2 = [{'name':'sarfraz'}, {'name':'junaid'}, {'name':'sadik'}]\n",
    "idx = 0\n",
    "for i in list2:\n",
    "    list1[idx].update({'step1':i['name']})\n",
    "    idx += 1\n",
    "print(list1)"
   ]
  },
  {
   "cell_type": "code",
   "execution_count": 10,
   "id": "4a0898fa",
   "metadata": {},
   "outputs": [
    {
     "data": {
      "text/html": [
       "<div>\n",
       "<style scoped>\n",
       "    .dataframe tbody tr th:only-of-type {\n",
       "        vertical-align: middle;\n",
       "    }\n",
       "\n",
       "    .dataframe tbody tr th {\n",
       "        vertical-align: top;\n",
       "    }\n",
       "\n",
       "    .dataframe thead th {\n",
       "        text-align: right;\n",
       "    }\n",
       "</style>\n",
       "<table border=\"1\" class=\"dataframe\">\n",
       "  <thead>\n",
       "    <tr style=\"text-align: right;\">\n",
       "      <th></th>\n",
       "      <th>Courses</th>\n",
       "      <th>Fee</th>\n",
       "      <th>Duration</th>\n",
       "      <th>Discount</th>\n",
       "    </tr>\n",
       "  </thead>\n",
       "  <tbody>\n",
       "    <tr>\n",
       "      <th>0</th>\n",
       "      <td>Spark</td>\n",
       "      <td>22000</td>\n",
       "      <td>30days</td>\n",
       "      <td>1000.0</td>\n",
       "    </tr>\n",
       "    <tr>\n",
       "      <th>1</th>\n",
       "      <td>PySpark</td>\n",
       "      <td>25000</td>\n",
       "      <td>50days</td>\n",
       "      <td>2300.0</td>\n",
       "    </tr>\n",
       "    <tr>\n",
       "      <th>2</th>\n",
       "      <td>Hadoop</td>\n",
       "      <td>23000</td>\n",
       "      <td>55days</td>\n",
       "      <td>1500.0</td>\n",
       "    </tr>\n",
       "  </tbody>\n",
       "</table>\n",
       "</div>"
      ],
      "text/plain": [
       "   Courses    Fee Duration  Discount\n",
       "0    Spark  22000   30days    1000.0\n",
       "1  PySpark  25000   50days    2300.0\n",
       "2   Hadoop  23000   55days    1500.0"
      ]
     },
     "execution_count": 10,
     "metadata": {},
     "output_type": "execute_result"
    }
   ],
   "source": [
    "technologies = [\n",
    "            (\"Spark\", 22000,'30days',1000.0),\n",
    "            (\"PySpark\",25000,'50days',2300.0),\n",
    "            (\"Hadoop\",23000,'55days',1500.0)\n",
    "            ]\n",
    "df = pd.DataFrame(technologies,columns = ['Courses','Fee','Duration','Discount'])\n",
    "df"
   ]
  },
  {
   "cell_type": "code",
   "execution_count": 1,
   "id": "5c2ba984",
   "metadata": {},
   "outputs": [
    {
     "name": "stdout",
     "output_type": "stream",
     "text": [
      "{'anam': 2, 'minhaj': 3, 'sarfarz': 1}\n"
     ]
    }
   ],
   "source": [
    "str1 = \"anam minhaj sarfarz minhaj minhaj anam\"\n",
    "\n",
    "dic1 = {}\n",
    "list1 = str1.split()\n",
    "for i in range(len(list1)):\n",
    "    a = 1\n",
    "    for j in range(len(list1)):\n",
    "        if list1[i] == list1[j] and i != j:\n",
    "            a += 1\n",
    "            dic1.update({list1[i]:a})\n",
    "        \n",
    "        dic1.update({list1[i]: a})\n",
    "print(dic1)\n",
    "    "
   ]
  },
  {
   "cell_type": "code",
   "execution_count": 2,
   "id": "e33c0c36",
   "metadata": {},
   "outputs": [
    {
     "name": "stdout",
     "output_type": "stream",
     "text": [
      "{'anam': 2, 'minhaj': 3, 'sarfarz': 1}\n"
     ]
    }
   ],
   "source": [
    "str1 = \"anam minhaj sarfarz minhaj minhaj anam\"\n",
    "a = str1.split()\n",
    "\n",
    "\n",
    "\n",
    "dic = {}\n",
    "\n",
    "for i in a:\n",
    "    if i not in dic:\n",
    "        dic[i] = 1\n",
    "    else:\n",
    "        dic[i]+=1\n",
    "print(dic)\n",
    "        "
   ]
  },
  {
   "cell_type": "code",
   "execution_count": 2,
   "id": "184c1072",
   "metadata": {},
   "outputs": [
    {
     "name": "stdout",
     "output_type": "stream",
     "text": [
      "2\n"
     ]
    }
   ],
   "source": [
    "list1 = [1, 2, 3, 4, 3, 2, 4]\n",
    "set1 = set()\n",
    "output = 0\n",
    "for i in range(len(list1)-1, -1, -1 ):\n",
    "    if list1[i] not in set1:\n",
    "        set1.add(list1[i])\n",
    "    else:\n",
    "        output = list1[i]\n",
    "    \n",
    "print(output)\n",
    "        "
   ]
  },
  {
   "cell_type": "code",
   "execution_count": 17,
   "id": "ac98a36f",
   "metadata": {},
   "outputs": [
    {
     "name": "stdout",
     "output_type": "stream",
     "text": [
      "['junaid', 'khalid', 'sarfraz']\n"
     ]
    }
   ],
   "source": [
    "list1 = ['sarfraz', 'khalid', 'junaid']\n",
    "b = []\n",
    "for i in list1:\n",
    "    b = [i]+b\n",
    "print(b)"
   ]
  },
  {
   "cell_type": "code",
   "execution_count": 3,
   "id": "111d3e63",
   "metadata": {},
   "outputs": [
    {
     "name": "stdout",
     "output_type": "stream",
     "text": [
      "['junaid', 'sarfraz']\n"
     ]
    }
   ],
   "source": [
    "a = []\n",
    "b = ['sarfraz']\n",
    "c = ['junaid']\n",
    "print(c+b+a)"
   ]
  },
  {
   "cell_type": "code",
   "execution_count": 6,
   "id": "4d741c48",
   "metadata": {},
   "outputs": [],
   "source": [
    "list1 = [\n",
    "    ['name', 'age', 'city'],\n",
    "    ['sarfraz', 32, 'mumbai' ],\n",
    "    ['sadik', 23, 'vikroli'],\n",
    "    ['anam', 25, 'sakinaka']\n",
    "]"
   ]
  },
  {
   "cell_type": "code",
   "execution_count": null,
   "id": "7fc4b7e4",
   "metadata": {},
   "outputs": [],
   "source": [
    "list1 = [\n",
    "    ['name', 'age', 'city'],\n",
    "    ['sarfraz', 32, 'mumbai' ],\n",
    "    ['sadik', 23, 'vikroli'],\n",
    "    ['anam', 25, 'sakinaka']\n",
    "]\n",
    "\n",
    "dic1 = {}\n",
    "a = \n",
    "for i in range(len(list1)):\n",
    "    for j in range(1,len(list1)):\n",
    "        dic1.update({list1[i][j]: []})\n",
    "        \n",
    "    "
   ]
  },
  {
   "cell_type": "code",
   "execution_count": 10,
   "id": "60674f97",
   "metadata": {},
   "outputs": [
    {
     "name": "stdout",
     "output_type": "stream",
     "text": [
      "{'name': [12]}\n"
     ]
    }
   ],
   "source": [
    "d = {}\n",
    "d.update({'name':[12]})\n",
    "print(d)"
   ]
  },
  {
   "cell_type": "code",
   "execution_count": 12,
   "id": "3dd93217",
   "metadata": {},
   "outputs": [
    {
     "name": "stdout",
     "output_type": "stream",
     "text": [
      "1\n",
      "2\n",
      "3\n",
      "0\n",
      "3\n"
     ]
    }
   ],
   "source": [
    "class Add:\n",
    "    count = 0\n",
    "    def func(self):\n",
    "        \n",
    "        self.count += 1\n",
    "        print(self.count)\n",
    "        \n",
    "    def countt(self):\n",
    "        print(self.count)\n",
    "obj = Add()\n",
    "obj.func()\n",
    "obj.func()\n",
    "obj.func()\n",
    "print(Add.count)\n",
    "obj.countt()"
   ]
  },
  {
   "cell_type": "code",
   "execution_count": 13,
   "id": "c0097c25",
   "metadata": {},
   "outputs": [
    {
     "name": "stdout",
     "output_type": "stream",
     "text": [
      "{'pakistan': 266.6666666666667}\n"
     ]
    }
   ],
   "source": [
    "data = {'india': [500, 1200, 1800], 'pakistan': [100, 200, 500], 'bangladesh': [200, 300, 500]}\n",
    "data={country:sum(data[country])/3 for country in data }\n",
    "a = min(list(data.values()))\n",
    "output = {country: population for country, population in data.items() if population == a }\n",
    "print(output)"
   ]
  },
  {
   "cell_type": "code",
   "execution_count": 24,
   "id": "17b6f3e1",
   "metadata": {},
   "outputs": [
    {
     "name": "stdout",
     "output_type": "stream",
     "text": [
      "dict_items([('a', 10), ('b', 20)])\n"
     ]
    }
   ],
   "source": [
    "a = {'a': 10, 'b': 20}\n",
    "b=(a.items())\n",
    "print(b)"
   ]
  },
  {
   "cell_type": "code",
   "execution_count": 7,
   "id": "05d85dca",
   "metadata": {},
   "outputs": [
    {
     "name": "stdout",
     "output_type": "stream",
     "text": [
      "[('a', 1), ('b', 3)]\n"
     ]
    }
   ],
   "source": [
    "a = ([('a', 1), ('b', 3)])\n",
    "print(a)"
   ]
  },
  {
   "cell_type": "code",
   "execution_count": null,
   "id": "52367f8a",
   "metadata": {},
   "outputs": [],
   "source": []
  }
 ],
 "metadata": {
  "kernelspec": {
   "display_name": "Python 3 (ipykernel)",
   "language": "python",
   "name": "python3"
  },
  "language_info": {
   "codemirror_mode": {
    "name": "ipython",
    "version": 3
   },
   "file_extension": ".py",
   "mimetype": "text/x-python",
   "name": "python",
   "nbconvert_exporter": "python",
   "pygments_lexer": "ipython3",
   "version": "3.10.4"
  }
 },
 "nbformat": 4,
 "nbformat_minor": 5
}
