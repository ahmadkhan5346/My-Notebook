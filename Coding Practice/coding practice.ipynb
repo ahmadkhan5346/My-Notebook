{
 "cells": [
  {
   "cell_type": "code",
   "execution_count": 1,
   "id": "79bb6857",
   "metadata": {},
   "outputs": [
    {
     "name": "stdout",
     "output_type": "stream",
     "text": [
      "117\n"
     ]
    }
   ],
   "source": [
    "class Solution():\n",
    "    def diagonalSum(self, mat):\n",
    "        n = len(mat)\n",
    "        res = 0\n",
    "        for i in range(n):\n",
    "            res += mat[i][i] + mat[i][i]\n",
    "        if n % 2 == 1:\n",
    "            mid = n // 2\n",
    "            res -= mat[mid][mid]\n",
    "            return res\n",
    "mat = [[1,2,3,4,5],\n",
    "       [6,7,8,9,10],\n",
    "       [11,12,13,14,15],\n",
    "       [16,17,18,19,20],\n",
    "       [21,22,23,24,25]\n",
    "      ]\n",
    "       \n",
    "obj1 = Solution()\n",
    "a=obj1.diagonalSum(mat)\n",
    "print(a)"
   ]
  },
  {
   "cell_type": "code",
   "execution_count": 2,
   "id": "9778a087",
   "metadata": {},
   "outputs": [
    {
     "name": "stdout",
     "output_type": "stream",
     "text": [
      "68\n"
     ]
    }
   ],
   "source": [
    "list1 = [\n",
    "    [1,2,3,4],\n",
    "    [5,6,7,8],\n",
    "    [9,10,11,12],\n",
    "    [13,14,15,16]\n",
    "]\n",
    "\n",
    "result = 0\n",
    "idx = 0\n",
    "for i in range(len(list1)):\n",
    "    result += list1[i][i]\n",
    "for j in range(len(list1)-1, -1, -1):\n",
    "    result += list1[idx][j]\n",
    "    idx += 1\n",
    "print(result)\n",
    "    "
   ]
  },
  {
   "cell_type": "code",
   "execution_count": 3,
   "id": "3989a92c",
   "metadata": {},
   "outputs": [
    {
     "name": "stdout",
     "output_type": "stream",
     "text": [
      "25\n"
     ]
    }
   ],
   "source": [
    "\n",
    "def diagonal(mat):\n",
    "    n = len(mat)\n",
    "    res = 0\n",
    "    for i in range(n):\n",
    "        res += mat[i][i] + mat[i][i]\n",
    "    if n % 2 == 1:\n",
    "        mid = n // 2\n",
    "        res -= mat[mid][mid]\n",
    "    return res\n",
    "mat = [\n",
    "    [1,2,3],\n",
    "    [4,5,6],\n",
    "    [7,8,9]\n",
    "]\n",
    "output=diagonal(mat)\n",
    "print(output)"
   ]
  },
  {
   "cell_type": "code",
   "execution_count": 4,
   "id": "aa380c28",
   "metadata": {},
   "outputs": [
    {
     "name": "stdout",
     "output_type": "stream",
     "text": [
      "68\n"
     ]
    }
   ],
   "source": [
    "mat = [\n",
    "    [4,3,2,1],\n",
    "    [5,6,7,8],\n",
    "    [9,10,11,12],\n",
    "    [13,14,15,16]\n",
    "]\n",
    "n = len(mat)\n",
    "res = 0\n",
    "for i in range(n):\n",
    "    res += mat[i][i]\n",
    "    \n",
    "a=0\n",
    "for j in range(n-1, -1, -1):\n",
    "    res += mat[a][j]\n",
    "    a += 1\n",
    "print(res)\n"
   ]
  },
  {
   "cell_type": "code",
   "execution_count": 5,
   "id": "7640a5e6",
   "metadata": {},
   "outputs": [
    {
     "name": "stdout",
     "output_type": "stream",
     "text": [
      "26\n"
     ]
    }
   ],
   "source": [
    "mat = [\n",
    "    [1,2,3],\n",
    "    [4,6,6],\n",
    "    [7,8,9]\n",
    "]\n",
    "\n",
    "n = len(mat)\n",
    "res = 0\n",
    "for i in range(n):\n",
    "    res += mat[i][i] + mat[i][i]\n",
    "if n % 2 == 1:\n",
    "    mid = n // 2\n",
    "    res -= mat[mid][mid]\n",
    "print(res)\n"
   ]
  },
  {
   "cell_type": "code",
   "execution_count": 6,
   "id": "8bfe7b90",
   "metadata": {},
   "outputs": [],
   "source": [
    "def validate_roll(self, value):\n",
    "    if value > 200:\n",
    "        raise serializers.ValidationError('Seat full')\n",
    "    return value"
   ]
  },
  {
   "cell_type": "code",
   "execution_count": 7,
   "id": "a157badd",
   "metadata": {},
   "outputs": [
    {
     "name": "stdout",
     "output_type": "stream",
     "text": [
      "a2b1c3a3b2\n"
     ]
    }
   ],
   "source": [
    "str1 = 'aabcccaaabb'\n",
    "count = 1\n",
    "str2 = ''\n",
    "for i in range(len(str1)):\n",
    "    if i < len(str1)-1 and str1[i] == str1[i+1]:\n",
    "        count += 1\n",
    "\n",
    "    else:\n",
    "        str2 += str1[i] + str(count)\n",
    "        count = 1\n",
    "print(str2)"
   ]
  },
  {
   "cell_type": "code",
   "execution_count": 8,
   "id": "62931926",
   "metadata": {},
   "outputs": [
    {
     "name": "stdout",
     "output_type": "stream",
     "text": [
      "A3B1C3A2\n"
     ]
    }
   ],
   "source": [
    "str1='AAABCCCAA'\n",
    "str2 = ''\n",
    "count = 1\n",
    "for i in range(len(str1)):\n",
    "    if i < len(str1)-1 and str1[i]==str1[i+1]:\n",
    "        count += 1\n",
    "    else:\n",
    "        str2 += str1[i] + str(count)\n",
    "        count = 1\n",
    "print(str2)"
   ]
  },
  {
   "cell_type": "code",
   "execution_count": 9,
   "id": "4ebbd0f5",
   "metadata": {},
   "outputs": [
    {
     "name": "stdout",
     "output_type": "stream",
     "text": [
      "--------* \n",
      "------* * * \n",
      "----* * * * * \n",
      "--* * * * * * * \n",
      "* * * * * * * * * \n"
     ]
    }
   ],
   "source": [
    "for row in range(1,6):\n",
    "    for column in range(1, 6-row):\n",
    "        print('-', end='-')\n",
    "    for column1 in range(1, 2*row):\n",
    "        print('*', end=' ')\n",
    "    print('')"
   ]
  },
  {
   "cell_type": "code",
   "execution_count": 10,
   "id": "5930d108",
   "metadata": {},
   "outputs": [
    {
     "name": "stdout",
     "output_type": "stream",
     "text": [
      "- - - - * \n",
      "- - - * * * \n",
      "- - * * * * * \n",
      "- * * * * * * * \n",
      "* * * * * * * * * \n"
     ]
    }
   ],
   "source": [
    "for row in range(0,5):\n",
    "    for column in range(0, 5-row-1):\n",
    "        print('-', end=' ')\n",
    "    for column in range(0, 2*row+1):\n",
    "        print('*', end=' ')\n",
    "    print('')"
   ]
  },
  {
   "cell_type": "code",
   "execution_count": 11,
   "id": "7e3f676b",
   "metadata": {},
   "outputs": [
    {
     "name": "stdout",
     "output_type": "stream",
     "text": [
      "7\n"
     ]
    }
   ],
   "source": [
    "a = '123'\n",
    "b = '12345'\n",
    "c = '1234567'\n",
    "size = len(a) if len(a) > len(b) else len(b) if len(b) > len(c) else len(c)\n",
    "print(size)"
   ]
  },
  {
   "cell_type": "code",
   "execution_count": 12,
   "id": "170c54a9",
   "metadata": {},
   "outputs": [
    {
     "name": "stdout",
     "output_type": "stream",
     "text": [
      "1\n",
      "2\n",
      "4\n",
      "8\n"
     ]
    },
    {
     "ename": "StopIteration",
     "evalue": "",
     "output_type": "error",
     "traceback": [
      "\u001b[1;31m---------------------------------------------------------------------------\u001b[0m",
      "\u001b[1;31mStopIteration\u001b[0m                             Traceback (most recent call last)",
      "Input \u001b[1;32mIn [12]\u001b[0m, in \u001b[0;36m<cell line: 32>\u001b[1;34m()\u001b[0m\n\u001b[0;32m     30\u001b[0m \u001b[38;5;28mprint\u001b[39m(\u001b[38;5;28mnext\u001b[39m(i)) \u001b[38;5;66;03m# prints 4\u001b[39;00m\n\u001b[0;32m     31\u001b[0m \u001b[38;5;28mprint\u001b[39m(\u001b[38;5;28mnext\u001b[39m(i)) \u001b[38;5;66;03m# prints 8\u001b[39;00m\n\u001b[1;32m---> 32\u001b[0m \u001b[38;5;28mprint\u001b[39m(\u001b[38;5;28;43mnext\u001b[39;49m\u001b[43m(\u001b[49m\u001b[43mi\u001b[49m\u001b[43m)\u001b[49m)\n",
      "Input \u001b[1;32mIn [12]\u001b[0m, in \u001b[0;36mPowTwo.__next__\u001b[1;34m(self)\u001b[0m\n\u001b[0;32m     16\u001b[0m     \u001b[38;5;28;01mreturn\u001b[39;00m result\n\u001b[0;32m     17\u001b[0m \u001b[38;5;28;01melse\u001b[39;00m:\n\u001b[1;32m---> 18\u001b[0m     \u001b[38;5;28;01mraise\u001b[39;00m \u001b[38;5;167;01mStopIteration\u001b[39;00m\n",
      "\u001b[1;31mStopIteration\u001b[0m: "
     ]
    }
   ],
   "source": [
    "class PowTwo:\n",
    "    \"\"\"Class to implement an iterator\n",
    "    of powers of two\"\"\"\n",
    "\n",
    "    def __init__(self, max=0):\n",
    "        self.max = max\n",
    "\n",
    "    def __iter__(self):\n",
    "        self.n = 0\n",
    "        return self\n",
    "\n",
    "    def __next__(self):\n",
    "        if self.n <= self.max:\n",
    "            result = 2 ** self.n\n",
    "            self.n += 1\n",
    "            return result\n",
    "        else:\n",
    "            raise StopIteration\n",
    "\n",
    "\n",
    "# create an object\n",
    "numbers = PowTwo(3)\n",
    "\n",
    "# create an iterable from the object\n",
    "i = iter(numbers)\n",
    "\n",
    "# Using next to get to the next iterator element\n",
    "print(next(i)) # prints 1\n",
    "print(next(i)) # prints 2\n",
    "print(next(i)) # prints 4\n",
    "print(next(i)) # prints 8\n",
    "print(next(i)) # raises StopIteration exception"
   ]
  },
  {
   "cell_type": "code",
   "execution_count": null,
   "id": "e26a6b3d",
   "metadata": {},
   "outputs": [],
   "source": [
    "class PowTwo():\n",
    "    def __init__(self, max1=0, power=0):\n",
    "        self.max = max1\n",
    "        self.power = power\n",
    "    \n",
    "    def __iter__(self):\n",
    "        self.n = 0\n",
    "        return self\n",
    "    \n",
    "    def __next__(self):\n",
    "        if self.n <= self.max:\n",
    "            result = self.power ** self.n\n",
    "            self.n += 1\n",
    "            return result\n",
    "        else:\n",
    "            raise StopIteration\n",
    "            \n",
    "p1 = PowTwo(3,4)\n",
    "print(p1.__dict__)\n",
    "\n",
    "power = iter(p1)\n",
    "\n",
    "print(next(power))\n",
    "print(next(power))\n",
    "print(next(power))\n",
    "print(next(power))\n",
    "print(next(power))\n",
    "print(next(power))\n",
    "\n",
    "    \n",
    "        "
   ]
  },
  {
   "cell_type": "code",
   "execution_count": null,
   "id": "82803f66",
   "metadata": {},
   "outputs": [],
   "source": [
    "for row in range(1, 6):\n",
    "    for column in range(1, 6-row):\n",
    "        print(' ', end=' ')\n",
    "    for column in range(1, 2*row):\n",
    "        print('*', end=' ')\n",
    "    print('')"
   ]
  },
  {
   "cell_type": "code",
   "execution_count": null,
   "id": "80dc85f5",
   "metadata": {},
   "outputs": [],
   "source": [
    "str1 = 'abcdef'\n",
    "for i in range(len(str1)-1, -1, -1):\n",
    "    print(str1[i::], end='')\n",
    "    for j in range(i):\n",
    "        print(str1[j], end='')\n",
    "    print('')\n",
    "        "
   ]
  },
  {
   "cell_type": "code",
   "execution_count": null,
   "id": "45beef70",
   "metadata": {},
   "outputs": [],
   "source": [
    "str1 = 'abcdef'\n",
    "for i in range(len(str1)-1, -1, -1):\n",
    "    print(str1[i::], end='')\n",
    "    for j in range(i):\n",
    "        print(str1[j], end='')\n",
    "    print('')"
   ]
  },
  {
   "cell_type": "code",
   "execution_count": null,
   "id": "e50df48d",
   "metadata": {},
   "outputs": [],
   "source": [
    "class Decorator(object):\n",
    "    def __init__(self, func):\n",
    "        self.function = func\n",
    "        \n",
    "    def __call__(self, *args):\n",
    "        try:\n",
    "            if any([isinstance(i, str) for i in args]):\n",
    "                raise TypeError(\"cannot pass string as argument\")\n",
    "            else:\n",
    "                return self.function(*args)\n",
    "        except Exception as obj:\n",
    "            return obj\n",
    "\n",
    "@Decorator\n",
    "def add(*args):\n",
    "    sum1 = 0\n",
    "    for num in args:\n",
    "        sum1 += num\n",
    "    return sum1\n",
    "\n",
    "print(add(10, 20, 30, '24'))\n",
    "#print(add(10, '20', 30))\n",
    "        "
   ]
  },
  {
   "cell_type": "code",
   "execution_count": null,
   "id": "7247ec52",
   "metadata": {},
   "outputs": [],
   "source": [
    "class Decorator(object):\n",
    "    def __init__(self, func):\n",
    "        self.function = func\n",
    "        \n",
    "    def __call__(self, *args):\n",
    "        try:\n",
    "            if any([isinstance(i, str) for i in args]):\n",
    "                raise TypeError(\"cannot pass string as argument\")\n",
    "            else:\n",
    "                return self.function(*args)\n",
    "        except Exception as obj:\n",
    "            return obj\n",
    "\n",
    "\n",
    "def add(*args):\n",
    "    sum1 = 0\n",
    "    for num in args:\n",
    "        sum1 += num\n",
    "    return sum1\n",
    "\n",
    "obj = Decorator(add)\n",
    "print(obj(10,15, '5'))"
   ]
  },
  {
   "cell_type": "code",
   "execution_count": null,
   "id": "584c0503",
   "metadata": {},
   "outputs": [],
   "source": [
    "num = 5\n",
    "for row in range(0, num):\n",
    "    for column in range(0, num-row-1):\n",
    "        print(end=' ')\n",
    "    for column in range(0, row+1):\n",
    "        print('*', end=' ')\n",
    "    print('')\n",
    "    "
   ]
  },
  {
   "cell_type": "code",
   "execution_count": 16,
   "id": "861d8ef7",
   "metadata": {},
   "outputs": [
    {
     "name": "stdout",
     "output_type": "stream",
     "text": [
      "0\n",
      "1\n",
      "1\n",
      "2\n",
      "3\n",
      "5\n",
      "8\n"
     ]
    }
   ],
   "source": [
    "n=10\n",
    "x=0\n",
    "y=1\n",
    "z=0\n",
    "\n",
    "while z <= n:\n",
    "    print(z)\n",
    "    x=y\n",
    "    y=z\n",
    "    z=x+y\n",
    "    "
   ]
  },
  {
   "cell_type": "code",
   "execution_count": 17,
   "id": "70b4b218",
   "metadata": {},
   "outputs": [
    {
     "name": "stdout",
     "output_type": "stream",
     "text": [
      "0\n",
      "1\n",
      "1\n",
      "2\n",
      "3\n",
      "5\n",
      "8\n",
      "13\n",
      "21\n",
      "34\n"
     ]
    }
   ],
   "source": [
    "n=10\n",
    "x=0\n",
    "y=1\n",
    "z=0\n",
    "\n",
    "for i in range(n):\n",
    "    print(z)\n",
    "    x=y\n",
    "    y=z\n",
    "    z=x+y"
   ]
  },
  {
   "cell_type": "code",
   "execution_count": 1,
   "id": "7b5e3cdb",
   "metadata": {},
   "outputs": [
    {
     "name": "stdout",
     "output_type": "stream",
     "text": [
      "True\n",
      "False\n"
     ]
    }
   ],
   "source": [
    "x=[1,2,3]\n",
    "y = [1,2,3]\n",
    "print(x==y)\n",
    "print(x is y)\n"
   ]
  },
  {
   "cell_type": "code",
   "execution_count": 3,
   "id": "be7dc6b9",
   "metadata": {},
   "outputs": [
    {
     "name": "stdout",
     "output_type": "stream",
     "text": [
      "0\n",
      "1\n",
      "1\n",
      "2\n",
      "3\n",
      "5\n",
      "8\n",
      "13\n",
      "21\n",
      "34\n"
     ]
    }
   ],
   "source": [
    "n=10\n",
    "x = 0\n",
    "y = 1\n",
    "z = 0\n",
    "for i in range(n):\n",
    "    print(z)\n",
    "    x=y\n",
    "    y=z\n",
    "    z=x+y\n"
   ]
  },
  {
   "cell_type": "code",
   "execution_count": 17,
   "id": "8f149b24",
   "metadata": {},
   "outputs": [
    {
     "name": "stdout",
     "output_type": "stream",
     "text": [
      "--------* \n",
      "------* * * \n",
      "----* * * * * \n",
      "--* * * * * * * \n",
      "* * * * * * * * * \n"
     ]
    }
   ],
   "source": [
    "n = 6\n",
    "for row in range(1,n):\n",
    "    for column in range(1, n-row):\n",
    "        print('-', end='-')\n",
    "    for column in range(1, 2*row):\n",
    "        print('*', end=' ')\n",
    "    print('')"
   ]
  },
  {
   "cell_type": "code",
   "execution_count": 20,
   "id": "3a66ca98",
   "metadata": {},
   "outputs": [
    {
     "name": "stdout",
     "output_type": "stream",
     "text": [
      "--------* \n",
      "------* * * \n",
      "----* * * * * \n",
      "--* * * * * * * \n",
      "* * * * * * * * * \n"
     ]
    }
   ],
   "source": [
    "for row in range(1,6):\n",
    "    for column in range(1, 6-row):\n",
    "        print('-', end='-')\n",
    "    for column1 in range(1, 2*row):\n",
    "        print('*', end=' ')\n",
    "    print('')"
   ]
  },
  {
   "cell_type": "code",
   "execution_count": 32,
   "id": "408ce9fc",
   "metadata": {},
   "outputs": [
    {
     "name": "stdout",
     "output_type": "stream",
     "text": [
      "----* \n",
      "---* * \n",
      "--* * * \n",
      "-* * * * \n",
      "* * * * * \n"
     ]
    }
   ],
   "source": [
    "n = 5\n",
    "for row in range(0, n):\n",
    "    for column in range(0, n-row-1):\n",
    "        print(end='-')\n",
    "    for j in range(0, row+1):\n",
    "        print('*', end=(' '))\n",
    "    print()\n",
    "    "
   ]
  },
  {
   "cell_type": "code",
   "execution_count": 35,
   "id": "03373bdd",
   "metadata": {},
   "outputs": [
    {
     "name": "stdout",
     "output_type": "stream",
     "text": [
      "----* \n",
      "---* * \n",
      "--* * * \n",
      "-* * * * \n",
      "* * * * * \n"
     ]
    }
   ],
   "source": [
    "num = 5\n",
    "for row in range(0, num):\n",
    "    for j in range(0, num-row-1):\n",
    "        print(end='-')\n",
    "        \n",
    "    for j in range(0, row+1):\n",
    "        print('*', end=' ')\n",
    "    print('')"
   ]
  },
  {
   "cell_type": "code",
   "execution_count": 7,
   "id": "a253fd73",
   "metadata": {},
   "outputs": [
    {
     "name": "stdout",
     "output_type": "stream",
     "text": [
      "*-*-*-*-*-\n",
      "-*-*-*-*-\n",
      "--*-*-*-\n",
      "---*-*-\n",
      "----*-\n"
     ]
    }
   ],
   "source": [
    "n=5\n",
    "for row in range(0,n):\n",
    "    for column in range(0, row):\n",
    "        print('-', end='')\n",
    "    for column in range(n, row, -1):\n",
    "        print('*', end='-')\n",
    "    print()"
   ]
  },
  {
   "cell_type": "code",
   "execution_count": null,
   "id": "b22c76e2",
   "metadata": {},
   "outputs": [],
   "source": [
    "data=[\"notepad\",\"notepad\",\"mouse\",\"mouse\",\"cat\"]\n",
    "#output {1:[\"cat\"],2:[\"notepad\",\"mouse\"]}\n"
   ]
  }
 ],
 "metadata": {
  "kernelspec": {
   "display_name": "Python 3 (ipykernel)",
   "language": "python",
   "name": "python3"
  },
  "language_info": {
   "codemirror_mode": {
    "name": "ipython",
    "version": 3
   },
   "file_extension": ".py",
   "mimetype": "text/x-python",
   "name": "python",
   "nbconvert_exporter": "python",
   "pygments_lexer": "ipython3",
   "version": "3.10.4"
  },
  "vscode": {
   "interpreter": {
    "hash": "49335d64aae0e614fc472b3f2b7d16e8038532c55ba6e230023d24a1fbad0e69"
   }
  }
 },
 "nbformat": 4,
 "nbformat_minor": 5
}
